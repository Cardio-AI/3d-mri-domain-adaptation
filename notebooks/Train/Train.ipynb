{
 "cells": [
  {
   "cell_type": "code",
   "execution_count": 1,
   "metadata": {},
   "outputs": [
    {
     "name": "stdout",
     "output_type": "stream",
     "text": [
      "search for root_dir and set working directory\n",
      "Working directory set to: /mnt/ssd/git/3d-mri-domain-adaption\n"
     ]
    },
    {
     "name": "stderr",
     "output_type": "stream",
     "text": [
      "2020-12-23 15:54:57,001 INFO -------------------- Start --------------------\n",
      "2020-12-23 15:54:57,002 INFO Working directory: /mnt/ssd/git/3d-mri-domain-adaption.\n",
      "2020-12-23 15:54:57,002 INFO Log file: ./logs/3D/ax_sax/trained_on_original_ax_sax_pairs_temp/.log\n",
      "2020-12-23 15:54:57,002 INFO Log level for console: INFO\n"
     ]
    },
    {
     "name": "stdout",
     "output_type": "stream",
     "text": [
      "['/gpu:0', '/gpu:1']\n",
      "{'GPU_IDS': '0,1', 'GPUS': ['/gpu:0', '/gpu:1'], 'ARCHITECTURE': '3D', 'DATASET': 'GCN', 'FOLD': 0, 'EXP_NAME': 'ax_sax/trained_on_original_ax_sax_pairs_temp/', 'EXPERIMENT': '3D/ax_sax/trained_on_original_ax_sax_pairs_temp/', 'DATA_PATH_AX': '/mnt/ssd/data/gcn/ax_sax_from_flo/ax3d/', 'DATA_PATH_AX2SAX': '/mnt/ssd/data/gcn/ax_sax_from_flo/sax3d/', 'DATA_PATH_SAX': '/mnt/ssd/data/gcn/ax_sax_from_flo/sax3d/', 'DATA_PATH_SAX2AX': '/mnt/ssd/data/gcn/ax_sax_from_flo/ax3d/', 'DF_PATH': '/mnt/ssd/data/gcn/gcn_05_2020_ax_sax_86/folds.csv', 'MODEL_PATH': 'models/3D/ax_sax/trained_on_original_ax_sax_pairs_temp/2020-12-23_15_54', 'TENSORBOARD_LOG_DIR': 'reports/tensorboard_logs/3D/ax_sax/trained_on_original_ax_sax_pairs_temp/2020-12-23_15_54', 'CONFIG_PATH': 'reports/configs/3D/ax_sax/trained_on_original_ax_sax_pairs_temp/2020-12-23_15_54', 'HISTORY_PATH': 'reports/history/3D/ax_sax/trained_on_original_ax_sax_pairs_temp/2020-12-23_15_54', 'DIM': [40, 64, 64], 'DEPTH': 4, 'FILTERS': 16, 'SPACING': [6, 6, 6], 'M_POOL': [2, 2, 2], 'F_SIZE': [3, 3, 3], 'IMG_CHANNELS': 1, 'MASK_VALUES': [1, 2, 3], 'MASK_CLASSES': 3, 'BORDER_MODE': 4, 'IMG_INTERPOLATION': 1, 'MSK_INTERPOLATION': 0, 'AUGMENT': False, 'SHUFFLE': True, 'AUGMENT_GRID': False, 'RESAMPLE': True, 'SCALER': 'MinMax', 'AX_LOSS_WEIGHT': 10.0, 'WEIGHT_MSE_INPLANE': True, 'MASK_SMALLER_THAN_THRESHOLD': 0.001, 'SAX_LOSS_WEIGHT': 10.0, 'CYCLE_LOSS': True, 'FOCUS_LOSS_WEIGHT': 1.0, 'FOCUS_LOSS': True, 'USE_SAX2AX_PROB': False, 'MIN_UNET_PROBABILITY': 0.9, 'GENERATOR_WORKER': 2, 'SEED': 42, 'BATCHSIZE': 2, 'INITIAL_EPOCH': 0, 'EPOCHS': 300, 'EPOCHS_BETWEEN_CHECKPOINTS': 5, 'MONITOR_FUNCTION': 'val_loss', 'MONITOR_MODE': 'min', 'SAVE_MODEL_FUNCTION': 'val_loss', 'SAVE_MODEL_MODE': 'min', 'MODEL_PATIENCE': 20, 'BN_FIRST': False, 'BATCH_NORMALISATION': True, 'USE_UPSAMPLE': True, 'PAD': 'same', 'KERNEL_INIT': 'he_normal', 'OPTIMIZER': 'adam', 'ACTIVATION': 'elu', 'LEARNING_RATE': 0.0001, 'DECAY_FACTOR': 0.3, 'MIN_LR': 1e-10, 'LOSS_FUNCTION': <function bce_dice_loss at 0x7fc45d00b048>}\n"
     ]
    }
   ],
   "source": [
    "# ------------------------------------------define logging and working directory\n",
    "from ProjectRoot import change_wd_to_project_root\n",
    "change_wd_to_project_root()\n",
    "from src.utils.Notebook_imports import *\n",
    "from src.utils.Tensorflow_helper import choose_gpu_by_id\n",
    "from tensorflow.keras.utils import plot_model\n",
    "from tensorflow.python.client import device_lib\n",
    "import tensorflow as tf\n",
    "tf.get_logger().setLevel('ERROR')\n",
    "import cv2\n",
    "# ------------------------------------------define GPU id/s to use\n",
    "GPU_IDS = '0,1'\n",
    "GPUS = choose_gpu_by_id(GPU_IDS)\n",
    "print(GPUS)\n",
    "# ------------------------------------------jupyter magic config\n",
    "%matplotlib inline\n",
    "%reload_ext autoreload\n",
    "%autoreload 2\n",
    "# ------------------------------------------ import helpers\n",
    "from src.utils.Utils_io import Console_and_file_logger, init_config\n",
    "from src.visualization.Visualize import show_2D_or_3D\n",
    "from src.data.Dataset import get_img_msk_files_from_split_dir, load_acdc_files, get_train_data_from_df, get_trainings_files\n",
    "from src.data.Generators import DataGenerator, CycleMotionDataGenerator\n",
    "from src.utils.KerasCallbacks import get_callbacks\n",
    "import src.utils.Loss_and_metrics as metr\n",
    "import src.models.SpatialTransformer as st\n",
    "from src.models.SpatialTransformer import create_affine_cycle_transformer_model\n",
    "from src.models.ModelUtils import load_pretrained_model\n",
    "# ------------------------------------------path and project params\n",
    "ARCHITECTURE = '3D' # 2D\n",
    "DATASET = 'GCN'  # 'acdc' # or 'gcn' or different versions such as gcn_01/02\n",
    "FOLD = 0 # CV fold 0-3\n",
    "EXP_NAME = 'ax_sax/trained_on_original_ax_sax_pairs_temp/' # Define an experiment name, could have subfolder conventions\n",
    "EXPERIMENT = '{}/{}'.format(ARCHITECTURE, EXP_NAME) # Uniform path names, separation of concerns\n",
    "timestemp = str(datetime.datetime.now().strftime(\"%Y-%m-%d_%H_%M\")) # ad a timestep to each project to make repeated experiments unique\n",
    "\n",
    "# This noebook expects the path to the following folders\n",
    "# each folder contains an tuple of 3D nrrd_image, nrrd_masks\n",
    "# any-path/\n",
    "#    - AX_3D(anyname_img.nrrd and anyname_msk.nrrd)\n",
    "#    - AX_to_SAX_3D\n",
    "#    - SAX_3D\n",
    "#    - SAX_to_AX_3D\n",
    "DATA_PATH_AX = '/mnt/ssd/data/gcn/ax_sax_from_flo/ax3d/' # path to AX 3D files\n",
    "DATA_PATH_AX2SAX = '/mnt/ssd/data/gcn/ax_sax_from_flo/sax3d/' # path to transformed AX 3D files (target of AX)\n",
    "\n",
    "DATA_PATH_SAX = '/mnt/ssd/data/gcn/ax_sax_from_flo/sax3d/' # path to SAX 3D files\n",
    "DATA_PATH_SAX2AX = '/mnt/ssd/data/gcn/ax_sax_from_flo/ax3d/' # path to transformed SAX 3D files (target of SAX)\n",
    "\n",
    "DF_PATH = '/mnt/ssd/data/gcn/gcn_05_2020_ax_sax_86/folds.csv' # path to folds dataframe\n",
    "\n",
    "MODEL_PATH = os.path.join('models', EXPERIMENT, timestemp)\n",
    "TENSORBOARD_LOG_DIR = os.path.join('reports/tensorboard_logs', EXPERIMENT,timestemp)\n",
    "CONFIG_PATH = os.path.join('reports/configs/',EXPERIMENT,timestemp)\n",
    "HISTORY_PATH = os.path.join('reports/history/',EXPERIMENT,timestemp)\n",
    "\n",
    "# ------------------------------------------static model, loss and generator hyperparameters\n",
    "DIM = [40, 64, 64] # network input params for spacing of 3, (z,y,x)\n",
    "DEPTH = 4 # number of down-/upsampling blocks\n",
    "FILTERS = 16 # initial number of filters, will be doubled after each downsampling block\n",
    "SPACING = [6, 6, 6] # if resample, resample to this spacing, (z,y,x)\n",
    "M_POOL = [2, 2, 2]# size of max-pooling used for downsampling and upsampling\n",
    "F_SIZE = [3, 3, 3] # conv filter size\n",
    "IMG_CHANNELS = 1 # Currently our model needs that image channel\n",
    "MASK_VALUES = [1, 2, 3]  #channel order: Background, RV, MYO, LV\n",
    "MASK_CLASSES = len(MASK_VALUES) # no of labels\n",
    "BORDER_MODE = cv2.BORDER_REFLECT_101 # border mode for the data generation\n",
    "IMG_INTERPOLATION = cv2.INTER_LINEAR # image interpolation in the genarator\n",
    "MSK_INTERPOLATION = cv2.INTER_NEAREST # mask interpolation in the generator\n",
    "AUGMENT = False # Not implemented for the AX2SAX case\n",
    "SHUFFLE = True\n",
    "AUGMENT_GRID = False # Not implemented for the AX2SAX case\n",
    "RESAMPLE = True\n",
    "SCALER = 'MinMax' # MinMax Standard or Robust\n",
    "\n",
    "AX_LOSS_WEIGHT = 10.0 # weighting factor of the ax2sax loss\n",
    "WEIGHT_MSE_INPLANE = True # turn inplane weighting on/off\n",
    "MASK_SMALLER_THAN_THRESHOLD = 0.001 # define the threshold for masking the ax2sax/sax2ax MSE loss, areas with smaller values, will be masked out\n",
    "\n",
    "SAX_LOSS_WEIGHT = 10.0 # weighting factor of the sax2ax loss\n",
    "CYCLE_LOSS = True # turn this loss on/off\n",
    "\n",
    "FOCUS_LOSS_WEIGHT = 1.0 # weighting of the focus loss\n",
    "FOCUS_LOSS = True # turn this loss on/off\n",
    "USE_SAX2AX_PROB = False # apply the focus loss on AX2SAX_mask predictions, or on AX2SAX2AX_mask (back-transformed) predictions\n",
    "MIN_UNET_PROBABILITY = 0.9 # threshold to count only prediction greater than this value for the focus loss\n",
    "\n",
    "# ------------------------------------------individual training params\n",
    "GENERATOR_WORKER = 2 # number of parallel workers in our generator. if not set, use batchsize, numbers greater than batchsize does not make any sense\n",
    "SEED = 42 # define a seed for the generator shuffle\n",
    "BATCHSIZE = 2 # 32, 64, 24, 16, 1 for 3spacing 3,3,3 use: 2\n",
    "INITIAL_EPOCH = 0 # change this to continue training\n",
    "EPOCHS = 300 # define a maximum numbers of epochs\n",
    "EPOCHS_BETWEEN_CHECKPOINTS = 5\n",
    "MONITOR_FUNCTION = 'val_loss'\n",
    "MONITOR_MODE = 'min'\n",
    "SAVE_MODEL_FUNCTION = 'val_loss'\n",
    "SAVE_MODEL_MODE = 'min'\n",
    "MODEL_PATIENCE = 20\n",
    "BN_FIRST = False # decide if batch normalisation between conv and activation or afterwards\n",
    "BATCH_NORMALISATION = True # apply BN or not\n",
    "USE_UPSAMPLE = True # otherwise use transpose for upsampling\n",
    "PAD = 'same' # padding strategy of the conv layers\n",
    "KERNEL_INIT = 'he_normal' # conv weight initialisation\n",
    "OPTIMIZER = 'adam' # Adam, Adagrad, RMSprop, Adadelta,  # https://keras.io/optimizers/\n",
    "ACTIVATION = 'elu' # tf.keras.layers.LeakyReLU(), relu or any other non linear activation function\n",
    "LEARNING_RATE = 1e-4 # start with a huge lr to converge fast\n",
    "DECAY_FACTOR = 0.3 # Define a learning rate decay for the ReduceLROnPlateau callback\n",
    "MIN_LR = 1e-10 # minimal lr, smaller lr does not improve the model\n",
    "DROPOUT_min = 0.3 # lower dropout at the shallow layers\n",
    "DROPOUT_max = 0.5 # higher dropout at the deep layers\n",
    "\n",
    "# ------------------------------------------these metrics and loss function are meant if you continue training of the U-Net\n",
    "metrics = [\n",
    "    metr.dice_coef_labels,\n",
    "    metr.dice_coef_myo,\n",
    "    metr.dice_coef_lv,\n",
    "    metr.dice_coef_rv\n",
    "]\n",
    "LOSS_FUNCTION = metr.bce_dice_loss\n",
    "\n",
    "# Create a logger instance with the following setup: info or debug to console and file and error logs to a separate file\n",
    "# Define a config for param injection,\n",
    "# save a serialized version to load the experiment for prediction/evaluation, \n",
    "# make sure all paths exist\n",
    "Console_and_file_logger(EXPERIMENT, logging.INFO)\n",
    "config = init_config(config=locals(), save=True)\n",
    "print(config)"
   ]
  },
  {
   "cell_type": "markdown",
   "metadata": {},
   "source": [
    "# Check Tensorflow setup and available GPUs"
   ]
  },
  {
   "cell_type": "code",
   "execution_count": 2,
   "metadata": {},
   "outputs": [
    {
     "name": "stderr",
     "output_type": "stream",
     "text": [
      "2020-12-23 15:54:57,697 INFO Is built with tensorflow: True\n",
      "2020-12-23 15:54:57,780 INFO Visible devices:\n",
      "[PhysicalDevice(name='/physical_device:CPU:0', device_type='CPU'), PhysicalDevice(name='/physical_device:XLA_CPU:0', device_type='XLA_CPU'), PhysicalDevice(name='/physical_device:XLA_GPU:0', device_type='XLA_GPU'), PhysicalDevice(name='/physical_device:XLA_GPU:1', device_type='XLA_GPU'), PhysicalDevice(name='/physical_device:GPU:0', device_type='GPU'), PhysicalDevice(name='/physical_device:GPU:1', device_type='GPU')]\n",
      "2020-12-23 15:54:58,410 INFO Local devices: \n",
      " [name: \"/device:CPU:0\"\n",
      "device_type: \"CPU\"\n",
      "memory_limit: 268435456\n",
      "locality {\n",
      "}\n",
      "incarnation: 18309638846129726081\n",
      ", name: \"/device:XLA_CPU:0\"\n",
      "device_type: \"XLA_CPU\"\n",
      "memory_limit: 17179869184\n",
      "locality {\n",
      "}\n",
      "incarnation: 11418112123671925266\n",
      "physical_device_desc: \"device: XLA_CPU device\"\n",
      ", name: \"/device:XLA_GPU:0\"\n",
      "device_type: \"XLA_GPU\"\n",
      "memory_limit: 17179869184\n",
      "locality {\n",
      "}\n",
      "incarnation: 1443240171691325710\n",
      "physical_device_desc: \"device: XLA_GPU device\"\n",
      ", name: \"/device:XLA_GPU:1\"\n",
      "device_type: \"XLA_GPU\"\n",
      "memory_limit: 17179869184\n",
      "locality {\n",
      "}\n",
      "incarnation: 11822553896217386465\n",
      "physical_device_desc: \"device: XLA_GPU device\"\n",
      ", name: \"/device:GPU:0\"\n",
      "device_type: \"GPU\"\n",
      "memory_limit: 22964741120\n",
      "locality {\n",
      "  bus_id: 1\n",
      "  links {\n",
      "  }\n",
      "}\n",
      "incarnation: 18241196202283429873\n",
      "physical_device_desc: \"device: 0, name: TITAN RTX, pci bus id: 0000:01:00.0, compute capability: 7.5\"\n",
      ", name: \"/device:GPU:1\"\n",
      "device_type: \"GPU\"\n",
      "memory_limit: 23561743872\n",
      "locality {\n",
      "  bus_id: 1\n",
      "  links {\n",
      "  }\n",
      "}\n",
      "incarnation: 6943146153845822304\n",
      "physical_device_desc: \"device: 1, name: TITAN RTX, pci bus id: 0000:02:00.0, compute capability: 7.5\"\n",
      "]\n",
      "2020-12-23 15:54:58,602 INFO Compute dtype: float16\n",
      "2020-12-23 15:54:58,603 INFO Variable dtype: float32\n"
     ]
    }
   ],
   "source": [
    "from tensorflow.keras.mixed_precision import experimental as mixed_precision\n",
    "logging.info('Is built with tensorflow: {}'.format(tf.test.is_built_with_cuda()))\n",
    "logging.info('Visible devices:\\n{}'.format(tf.config.list_physical_devices()))\n",
    "logging.info('Local devices: \\n {}'.format(device_lib.list_local_devices()))\n",
    "policy = mixed_precision.Policy('mixed_float16')\n",
    "mixed_precision.set_policy(policy)\n",
    "logging.info('Compute dtype: %s' % policy.compute_dtype)\n",
    "logging.info('Variable dtype: %s' % policy.variable_dtype)"
   ]
  },
  {
   "cell_type": "markdown",
   "metadata": {},
   "source": [
    "# Load trainings and validation files for the choosen fold"
   ]
  },
  {
   "cell_type": "code",
   "execution_count": 3,
   "metadata": {},
   "outputs": [
    {
     "name": "stderr",
     "output_type": "stream",
     "text": [
      "2020-12-23 15:54:59,000 INFO Found 162 images/masks in /mnt/ssd/data/gcn/ax_sax_from_flo/ax3d/\n",
      "2020-12-23 15:54:59,001 INFO Patients train: 64\n",
      "2020-12-23 15:54:59,007 INFO Selected 120 of 162 files with 64 of 86 patients for training fold 0\n",
      "2020-12-23 15:54:59,008 INFO AX train CMR: 120, AX train masks: 120\n",
      "2020-12-23 15:54:59,008 INFO AX val CMR: 42, AX val masks: 42\n",
      "2020-12-23 15:54:59,012 INFO Found 162 images/masks in /mnt/ssd/data/gcn/ax_sax_from_flo/sax3d/\n",
      "2020-12-23 15:54:59,012 INFO Patients train: 64\n",
      "2020-12-23 15:54:59,018 INFO Selected 120 of 162 files with 64 of 86 patients for training fold 0\n",
      "2020-12-23 15:54:59,019 INFO AX2SAX train CMR: 120, AX2SAX train masks: 120\n",
      "2020-12-23 15:54:59,020 INFO AX2SAX val CMR: 42, AX2SAX val masks: 42\n",
      "2020-12-23 15:54:59,024 INFO Found 162 images/masks in /mnt/ssd/data/gcn/ax_sax_from_flo/sax3d/\n",
      "2020-12-23 15:54:59,024 INFO Patients train: 64\n",
      "2020-12-23 15:54:59,030 INFO Selected 120 of 162 files with 64 of 86 patients for training fold 0\n",
      "2020-12-23 15:54:59,031 INFO SAX train CMR: 120, SAX train masks: 120\n",
      "2020-12-23 15:54:59,031 INFO SAX val CMR: 42, SAX val masks: 42\n",
      "2020-12-23 15:54:59,035 INFO Found 162 images/masks in /mnt/ssd/data/gcn/ax_sax_from_flo/ax3d/\n",
      "2020-12-23 15:54:59,035 INFO Patients train: 64\n",
      "2020-12-23 15:54:59,041 INFO Selected 120 of 162 files with 64 of 86 patients for training fold 0\n",
      "2020-12-23 15:54:59,042 INFO SAX2AX train CMR: 120, SAX2AX train masks: 120\n",
      "2020-12-23 15:54:59,043 INFO SAX2AX val CMR: 42, SAX2AX val masks: 42\n"
     ]
    }
   ],
   "source": [
    "# Load AX volumes\n",
    "x_train_ax, y_train_ax, x_val_ax, y_val_ax =  get_trainings_files(data_path=DATA_PATH_AX,path_to_folds_df=DF_PATH, fold=FOLD)\n",
    "logging.info('AX train CMR: {}, AX train masks: {}'.format(len(x_train_ax), len(y_train_ax)))\n",
    "logging.info('AX val CMR: {}, AX val masks: {}'.format(len(x_val_ax), len(y_val_ax)))\n",
    "\n",
    "# load AX2SAX volumes\n",
    "x_train_ax2sax, y_train_ax2sax, x_val_ax2sax, y_val_ax2sax =  get_trainings_files(data_path=DATA_PATH_AX2SAX,path_to_folds_df=DF_PATH, fold=FOLD)\n",
    "logging.info('AX2SAX train CMR: {}, AX2SAX train masks: {}'.format(len(x_train_ax2sax), len(y_train_ax2sax)))\n",
    "logging.info('AX2SAX val CMR: {}, AX2SAX val masks: {}'.format(len(x_val_ax2sax), len(y_val_ax2sax)))\n",
    "\n",
    "# Load SAX volumes\n",
    "x_train_sax, y_train_sax, x_val_sax, y_val_sax =  get_trainings_files(data_path=DATA_PATH_SAX,path_to_folds_df=DF_PATH, fold=FOLD)\n",
    "logging.info('SAX train CMR: {}, SAX train masks: {}'.format(len(x_train_sax), len(y_train_sax)))\n",
    "logging.info('SAX val CMR: {}, SAX val masks: {}'.format(len(x_val_sax), len(y_val_sax)))\n",
    "\n",
    "# load SAX2AX volumes\n",
    "x_train_sax2ax, y_train_sax2ax, x_val_sax2ax, y_val_sax2ax =  get_trainings_files(data_path=DATA_PATH_SAX2AX,path_to_folds_df=DF_PATH, fold=FOLD)\n",
    "logging.info('SAX2AX train CMR: {}, SAX2AX train masks: {}'.format(len(x_train_sax2ax), len(y_train_sax2ax)))\n",
    "logging.info('SAX2AX val CMR: {}, SAX2AX val masks: {}'.format(len(x_val_sax2ax), len(y_val_sax2ax)))"
   ]
  },
  {
   "cell_type": "code",
   "execution_count": 4,
   "metadata": {},
   "outputs": [
    {
     "name": "stdout",
     "output_type": "stream",
     "text": [
      "2\n"
     ]
    }
   ],
   "source": [
    "# filter files by name, debugging purpose\n",
    "search_str = '2cvu'.lower()\n",
    "x_val_ax = [x for x in x_val_ax if search_str in x.lower()]\n",
    "x_val_sax = [x for x in x_val_sax if search_str in x.lower()]\n",
    "x_val_ax2sax = [x for x in x_val_ax2sax if search_str in x.lower()]\n",
    "x_val_sax2ax = [x for x in x_val_sax2ax if search_str in x.lower()]\n",
    "print(len(x_val_ax))"
   ]
  },
  {
   "cell_type": "code",
   "execution_count": 5,
   "metadata": {},
   "outputs": [
    {
     "name": "stderr",
     "output_type": "stream",
     "text": [
      "2020-12-23 15:55:00,184 INFO Create DataGenerator\n",
      "2020-12-23 15:55:00,185 INFO generator in debug mode = False\n",
      "2020-12-23 15:55:00,185 INFO Datagenerator created with: \n",
      " shape: [40, 64, 64]\n",
      " spacing: [6, 6, 6]\n",
      " batchsize: 2\n",
      " Scaler: MinMax\n",
      " Images: 120 \n",
      " Augment_grid: False \n",
      " Thread workers: 2\n",
      "2020-12-23 15:55:00,185 INFO No augmentation\n",
      "2020-12-23 15:55:00,186 INFO Create DataGenerator\n",
      "2020-12-23 15:55:00,186 INFO generator in debug mode = False\n",
      "2020-12-23 15:55:00,187 INFO Datagenerator created with: \n",
      " shape: [40, 64, 64]\n",
      " spacing: [6, 6, 6]\n",
      " batchsize: 2\n",
      " Scaler: MinMax\n",
      " Images: 2 \n",
      " Augment_grid: False \n",
      " Thread workers: 2\n",
      "2020-12-23 15:55:00,187 INFO No augmentation\n"
     ]
    }
   ],
   "source": [
    "# create two generators, one for the training files, one for the validation files\n",
    "batch_generator = CycleMotionDataGenerator(x=x_train_ax, y=x_train_ax2sax, x2=x_train_sax, y2=x_train_sax2ax, config=config)\n",
    "valid_config = config.copy()\n",
    "valid_config['AUGMENT_GRID'] = False\n",
    "valid_config['AUGMENT'] = False\n",
    "valid_generator = CycleMotionDataGenerator(x=x_val_ax, y=x_val_ax2sax, x2=x_val_sax, y2=x_val_sax2ax, config=valid_config)"
   ]
  },
  {
   "cell_type": "code",
   "execution_count": 6,
   "metadata": {},
   "outputs": [
    {
     "data": {
      "application/vnd.jupyter.widget-view+json": {
       "model_id": "9fd5544e991a4896970281365e5daf97",
       "version_major": 2,
       "version_minor": 0
      },
      "text/plain": [
       "interactive(children=(IntSlider(value=0, description='batch', max=1), Output()), _dom_classes=('widget-interac…"
      ]
     },
     "metadata": {},
     "output_type": "display_data"
    }
   ],
   "source": [
    "# Select batch generator output\n",
    "x = ''\n",
    "y = ''\n",
    "@interact\n",
    "def select_batch(batch = (0,len(valid_generator), 1)):\n",
    "    global x, y, x2, y2\n",
    "    input_ , output_ = valid_generator.__getitem__(batch)\n",
    "    x = input_[0]\n",
    "    y = output_[0]\n",
    "    x2 = input_[1]\n",
    "    y2 = output_[1]\n",
    "    logging.info('input elements: {}'.format(len(input_)))\n",
    "    logging.info('output elements: {}'.format(len(output_)))\n",
    "    logging.info(x.shape)\n",
    "    logging.info(y.shape)\n",
    "    logging.info(x2.shape)\n",
    "    logging.info(y2.shape)"
   ]
  },
  {
   "cell_type": "code",
   "execution_count": 7,
   "metadata": {},
   "outputs": [
    {
     "data": {
      "application/vnd.jupyter.widget-view+json": {
       "model_id": "936e632e8ba24e9981202969b6aaa17a",
       "version_major": 2,
       "version_minor": 0
      },
      "text/plain": [
       "interactive(children=(IntSlider(value=0, description='im', max=1), IntSlider(value=3, description='slice_by', …"
      ]
     },
     "metadata": {},
     "output_type": "display_data"
    }
   ],
   "source": [
    "@interact\n",
    "def select_image_in_batch(im = (0,x.shape[0]- 1, 1),slice_by=(1,6)):\n",
    "    \n",
    "    # define a different logging level to make the generator steps visible\n",
    "    #logging.getLogger().setLevel(logging.DEBUG)\n",
    "    temp_dir = 'reports/figures/temp/'\n",
    "    ensure_dir(temp_dir)\n",
    "\n",
    "    logging.info('AX: {}'.format(x[im].shape))\n",
    "    show_2D_or_3D(x[im][...,0][::slice_by])\n",
    "    plt.savefig(os.path.join(temp_dir,'ax.pdf'))\n",
    "    plt.show()\n",
    "    logging.info('AXtoSAX: {}'.format(y[im].shape))\n",
    "    show_2D_or_3D(y[im][...,0][::slice_by])\n",
    "    plt.savefig(os.path.join(temp_dir,'ax2sax.pdf'))\n",
    "    plt.show()\n",
    "    logging.info('SAX: {}'.format(x2[im].shape))\n",
    "    show_2D_or_3D(x2[im][...,0][::slice_by])\n",
    "    plt.savefig(os.path.join(temp_dir,'sax.pdf'))\n",
    "    plt.show()\n",
    "    logging.info('SAXtoAX: {}'.format(y2[im].shape))\n",
    "    show_2D_or_3D(y2[im][...,0][::slice_by])\n",
    "    plt.savefig(os.path.join(temp_dir,'sax2ax.pdf'))\n",
    "    plt.show()\n",
    "    "
   ]
  },
  {
   "cell_type": "code",
   "execution_count": 9,
   "metadata": {},
   "outputs": [
    {
     "name": "stderr",
     "output_type": "stream",
     "text": [
      "2020-12-19 11:19:13,539 INFO Load model from Experiment: 2D/gcn_05_2020_sax_excl_ax_patients_baseline/lower_clip\n",
      "2020-12-19 11:19:13,539 INFO load model with keras api\n",
      "2020-12-19 11:19:15,941 INFO Unable to restore custom object of type _tf_keras_metric currently. Please make sure that the layer implements `get_config`and `from_config` when saving. In addition, please use the `custom_objects` arg when calling `load_model()`.\n",
      "2020-12-19 11:19:15,942 INFO Keras API failed, use json repr. load model from: /mnt/ssd/git/cardio/models/2D/gcn_05_2020_sax_excl_ax_patients_baseline/lower_clip/2020-12-18_20_03/model.json .\n",
      "2020-12-19 11:19:15,943 INFO loading model description\n",
      "2020-12-19 11:19:16,895 INFO loading model weights\n",
      "2020-12-19 11:19:17,065 INFO model /mnt/ssd/git/cardio/models/2D/gcn_05_2020_sax_excl_ax_patients_baseline/lower_clip/2020-12-18_20_03/model.json loaded\n"
     ]
    }
   ],
   "source": [
    "# load a pretrained 2D unet\n",
    "\"\"\"\n",
    "load past config for model training \n",
    "\"\"\"\n",
    "if 'config_chooser' in locals():\n",
    "    config_file  = config_chooser.selected\n",
    "else:\n",
    "    #config_file = '/mnt/ssd/git/3d-mri-domain-adaption/reports/configs/2D/gcn_and_acdc_excl_ax/config.json' # config for TMI paper\n",
    "    # config_file = '/mnt/ssd/git/cardio/reports/configs/2D/gcn_05_2020_sax_excl_ax_patients/2020-11-20_17_24/config.json' # retrained with downsampling\n",
    "     # retrained with downsampling and lower clipping\n",
    "    config_file = '/mnt/ssd/git/cardio/reports/configs/2D/gcn_05_2020_sax_excl_ax_patients_baseline/lower_clip/2020-12-18_20_03/config.json' #\n",
    "    \n",
    "\n",
    "# load config with all params into global namespace\n",
    "with open(config_file, encoding='utf-8') as data_file:\n",
    "    config_temp = json.loads(data_file.read())\n",
    "logging.info('Load model from Experiment: {}'.format(config_temp['EXPERIMENT']))\n",
    "\n",
    "if 'strategy' not in globals():\n",
    "    # distribute the training with the mirrored data paradigm across multiple gpus if available, if not use gpu 0\n",
    "    strategy = tf.distribute.MirroredStrategy(devices=config.get('GPUS', [\"/gpu:0\"]))\n",
    "with strategy.scope():\n",
    "    globals()['unet'] = load_pretrained_model(config_temp, metrics, comp=False)"
   ]
  },
  {
   "cell_type": "code",
   "execution_count": 10,
   "metadata": {},
   "outputs": [
    {
     "name": "stderr",
     "output_type": "stream",
     "text": [
      "2020-12-19 11:19:22,697 INFO unet given, use it to max probability\n",
      "2020-12-19 11:19:32,082 INFO adding ax2sax MSE loss with a weighting of 10.0\n",
      "2020-12-19 11:19:32,082 INFO adding cycle loss with a weighting of 10.0\n",
      "2020-12-19 11:19:32,083 INFO adding focus loss on mask_prob with a weighting of 1.0\n"
     ]
    }
   ],
   "source": [
    "if 'strategy' not in globals():\n",
    "    # distribute the training with the mirrored data paradigm across multiple gpus if available, if not use gpu 0\n",
    "    strategy = tf.distribute.MirroredStrategy(devices=config.get('GPUS', [\"/gpu:0\"]))\n",
    "# inject the pre-trained unet if given, otherwise build the model without the pretrained unet\n",
    "with strategy.scope():\n",
    "    model = st.create_affine_cycle_transformer_model(config=config, unet=locals().get('unet', None))"
   ]
  },
  {
   "cell_type": "code",
   "execution_count": 11,
   "metadata": {},
   "outputs": [
    {
     "name": "stdout",
     "output_type": "stream",
     "text": [
      "Model: \"affine_cycle_transformer\"\n",
      "______________________________________________________________________________________________________________________________________________________\n",
      "Layer (type)                                     Output Shape                     Param #           Connected to                                      \n",
      "======================================================================================================================================================\n",
      "input_1 (InputLayer)                             [(None, 40, 64, 64, 1)]          0                                                                   \n",
      "______________________________________________________________________________________________________________________________________________________\n",
      "conv_encoder (ConvEncoder)                       ((None, 2, 4, 4, 256), [(None, 4 3537424           input_1[0][0]                                     \n",
      "______________________________________________________________________________________________________________________________________________________\n",
      "global_average_pooling3d (GlobalAveragePooling3D (None, 256)                      0                 conv_encoder[0][0]                                \n",
      "______________________________________________________________________________________________________________________________________________________\n",
      "dense1 (Dense)                                   (None, 256)                      65792             global_average_pooling3d[0][0]                    \n",
      "______________________________________________________________________________________________________________________________________________________\n",
      "dense2 (Dense)                                   (None, 9)                        2313              dense1[0][0]                                      \n",
      "______________________________________________________________________________________________________________________________________________________\n",
      "tf_op_layer_strided_slice_1 (TensorFlowOpLayer)  [(None, 3)]                      0                 dense2[0][0]                                      \n",
      "______________________________________________________________________________________________________________________________________________________\n",
      "tf_op_layer_strided_slice_2 (TensorFlowOpLayer)  [(None, 3)]                      0                 dense2[0][0]                                      \n",
      "______________________________________________________________________________________________________________________________________________________\n",
      "concatenate (Concatenate)                        (None, 6)                        0                 tf_op_layer_strided_slice_1[0][0]                 \n",
      "                                                                                                    tf_op_layer_strided_slice_2[0][0]                 \n",
      "______________________________________________________________________________________________________________________________________________________\n",
      "tf_op_layer_strided_slice (TensorFlowOpLayer)    [(None, 6)]                      0                 dense2[0][0]                                      \n",
      "______________________________________________________________________________________________________________________________________________________\n",
      "ax2sax_mod_matrix (Euler2Matrix)                 (None, 12)                       0                 concatenate[0][0]                                 \n",
      "______________________________________________________________________________________________________________________________________________________\n",
      "ax2sax_matrix (Euler2Matrix)                     (None, 12)                       0                 tf_op_layer_strided_slice[0][0]                   \n",
      "______________________________________________________________________________________________________________________________________________________\n",
      "ax2sax_mod_st (SpatialTransformer)               (None, 40, 64, 64, 1)            0                 input_1[0][0]                                     \n",
      "                                                                                                    ax2sax_mod_matrix[0][0]                           \n",
      "______________________________________________________________________________________________________________________________________________________\n",
      "input_2 (InputLayer)                             [(None, 40, 64, 64, 1)]          0                                                                   \n",
      "______________________________________________________________________________________________________________________________________________________\n",
      "inverse3d_matrix (Inverse3DMatrix)               (None, 12)                       0                 ax2sax_matrix[0][0]                               \n",
      "______________________________________________________________________________________________________________________________________________________\n",
      "mask_prob (UnetWrapper)                          (None, 40, 64, 64, 3)            19432275          ax2sax_mod_st[0][0]                               \n",
      "______________________________________________________________________________________________________________________________________________________\n",
      "inverse3d_matrix_1 (Inverse3DMatrix)             (None, 12)                       0                 ax2sax_mod_matrix[0][0]                           \n",
      "______________________________________________________________________________________________________________________________________________________\n",
      "ax2sax (SpatialTransformer)                      (None, 40, 64, 64, 1)            0                 input_1[0][0]                                     \n",
      "                                                                                                    ax2sax_matrix[0][0]                               \n",
      "______________________________________________________________________________________________________________________________________________________\n",
      "sax2ax (SpatialTransformer)                      (None, 40, 64, 64, 1)            0                 input_2[0][0]                                     \n",
      "                                                                                                    inverse3d_matrix[0][0]                            \n",
      "______________________________________________________________________________________________________________________________________________________\n",
      "mask2ax (SpatialTransformer)                     (None, 40, 64, 64, 3)            0                 mask_prob[0][0]                                   \n",
      "                                                                                                    inverse3d_matrix_1[0][0]                          \n",
      "======================================================================================================================================================\n",
      "Total params: 23,037,804\n",
      "Trainable params: 3,603,545\n",
      "Non-trainable params: 19,434,259\n",
      "______________________________________________________________________________________________________________________________________________________\n"
     ]
    }
   ],
   "source": [
    "model.summary(line_length=150)\n",
    "#plot_model(model, to_file='reports/figures/temp_graph.pdf',show_shapes=True)"
   ]
  },
  {
   "cell_type": "code",
   "execution_count": 12,
   "metadata": {},
   "outputs": [
    {
     "data": {
      "application/vnd.jupyter.widget-view+json": {
       "model_id": "ea673b0e30454ff6af9b992c134b36bb",
       "version_major": 2,
       "version_minor": 0
      },
      "text/plain": [
       "interactive(children=(IntSlider(value=0, description='im', max=1), Text(value='0.001', description='mask_small…"
      ]
     },
     "metadata": {},
     "output_type": "display_data"
    }
   ],
   "source": [
    "@interact\n",
    "def select_image_in_batch(im = (0,x.shape[0]- 1, 1),mask_smaller_than='0.001', slice_by=(1,6)):\n",
    "    global m\n",
    "    import numpy as np\n",
    "    temp = x[im]\n",
    "    sax = x2[im]\n",
    "    temp_ = y[im]\n",
    "    \n",
    "    mask = temp_ >float(mask_smaller_than)\n",
    "    # define a different logging level to make the generator steps visible\n",
    "    logging.getLogger().setLevel(logging.INFO)\n",
    "    logging.info('prediction on: {}'.format(temp.shape))\n",
    "    show_2D_or_3D(temp[::slice_by])\n",
    "    plt.show()\n",
    "    pred, inv_pred, ax2sax_mod, prob, ax_msk,m, m_mod = model.predict(x = [np.expand_dims(temp,axis=0),np.expand_dims(sax,axis=0)])                     \n",
    "    logging.info('rotated by the model: {}'.format(pred[0].shape))\n",
    "    show_2D_or_3D(pred[0][::slice_by], mask[::slice_by])\n",
    "    plt.show()\n",
    "    logging.info('inverse rotation on SAX: {}'.format(inv_pred[0].shape))\n",
    "    show_2D_or_3D(inv_pred[0][::slice_by])\n",
    "    plt.show()\n",
    "    logging.info('predicted mask: {}'.format(inv_pred[0].shape))\n",
    "    show_2D_or_3D(prob[0][::slice_by])\n",
    "    plt.show()\n",
    "    logging.info('predicted mask in ax: {}'.format(ax_msk[0].shape))\n",
    "    show_2D_or_3D(ax_msk[0][::slice_by])\n",
    "    plt.show()\n",
    "    \n",
    "    # calculate the loss mask from target AX2SAX image\n",
    "    mask = temp_ >float(mask_smaller_than)\n",
    "    logging.info('masked by GT: {}'.format(mask.shape))\n",
    "    masked = pred[0] * mask\n",
    "    show_2D_or_3D(masked[::slice_by], mask[::slice_by])\n",
    "    plt.show()\n",
    "    logging.info('target (AX2SAX): {}'.format(temp_.shape))\n",
    "    show_2D_or_3D(temp_[::slice_by])\n",
    "    plt.show()\n",
    "    logging.info('Created MSE mask by thresholding the target (AX2SAX) with {}: {}'.format(mask_smaller_than,temp_.shape))\n",
    "    show_2D_or_3D(mask[::slice_by])\n",
    "    plt.show()\n",
    "\n",
    "    try:\n",
    "        from tensorflow.keras.metrics import MSE as mse\n",
    "        logging.info('MSE: {}'.format(mse(pred[0], temp_).numpy().mean()))\n",
    "        logging.info('prob loss: {}'.format(metr.max_volume_loss(min_probabillity=0.5)(temp_[tf.newaxis,...],prob).numpy().mean()))\n",
    "        print(np.reshape(m[0],(3,4)))\n",
    "        print(np.reshape(m_mod[0],(3,4)))\n",
    "    except Exception as e:\n",
    "        pass"
   ]
  },
  {
   "cell_type": "code",
   "execution_count": 13,
   "metadata": {},
   "outputs": [
    {
     "name": "stderr",
     "output_type": "stream",
     "text": [
      "2020-12-19 11:20:03,271 INFO Fit model, start trainings process\n"
     ]
    },
    {
     "name": "stdout",
     "output_type": "stream",
     "text": [
      "Epoch 1/200\n",
      "60/60 [==============================] - ETA: 0s - loss: 21.2872 - ax2sax_loss: 0.9152 - sax2ax_loss: 1.1140 - mask_prob_loss: 0.9956\n",
      "Epoch 00001: val_loss improved from inf to 21.84462, saving model to models/3D/ax_sax/trained_on_original_ax_sax_pairs_lower_clipping/2020-12-19_11_14/model.h5\n",
      "60/60 [==============================] - 75s 1s/step - loss: 21.2872 - ax2sax_loss: 0.9152 - sax2ax_loss: 1.1140 - mask_prob_loss: 0.9956 - val_loss: 21.8446 - val_ax2sax_loss: 0.9704 - val_sax2ax_loss: 1.1147 - val_mask_prob_loss: 0.9935 - lr: 1.0000e-04\n",
      "Epoch 2/200\n",
      "60/60 [==============================] - ETA: 0s - loss: 20.1449 - ax2sax_loss: 0.8564 - sax2ax_loss: 1.0585 - mask_prob_loss: 0.9961\n",
      "Epoch 00002: val_loss improved from 21.84462 to 20.66088, saving model to models/3D/ax_sax/trained_on_original_ax_sax_pairs_lower_clipping/2020-12-19_11_14/model.h5\n",
      "60/60 [==============================] - 52s 870ms/step - loss: 20.1449 - ax2sax_loss: 0.8564 - sax2ax_loss: 1.0585 - mask_prob_loss: 0.9961 - val_loss: 20.6609 - val_ax2sax_loss: 0.9110 - val_sax2ax_loss: 1.0557 - val_mask_prob_loss: 0.9935 - lr: 1.0000e-04\n",
      "Epoch 3/200\n",
      "60/60 [==============================] - ETA: 0s - loss: 20.0315 - ax2sax_loss: 0.8512 - sax2ax_loss: 1.0524 - mask_prob_loss: 0.9960\n",
      "Epoch 00003: val_loss improved from 20.66088 to 20.42214, saving model to models/3D/ax_sax/trained_on_original_ax_sax_pairs_lower_clipping/2020-12-19_11_14/model.h5\n",
      "60/60 [==============================] - 53s 881ms/step - loss: 20.0315 - ax2sax_loss: 0.8512 - sax2ax_loss: 1.0524 - mask_prob_loss: 0.9960 - val_loss: 20.4221 - val_ax2sax_loss: 0.8982 - val_sax2ax_loss: 1.0446 - val_mask_prob_loss: 0.9943 - lr: 1.0000e-04\n",
      "Epoch 4/200\n",
      "60/60 [==============================] - ETA: 0s - loss: 19.7840 - ax2sax_loss: 0.8391 - sax2ax_loss: 1.0396 - mask_prob_loss: 0.9963\n",
      "Epoch 00004: val_loss improved from 20.42214 to 20.26443, saving model to models/3D/ax_sax/trained_on_original_ax_sax_pairs_lower_clipping/2020-12-19_11_14/model.h5\n",
      "60/60 [==============================] - 54s 907ms/step - loss: 19.7840 - ax2sax_loss: 0.8391 - sax2ax_loss: 1.0396 - mask_prob_loss: 0.9963 - val_loss: 20.2644 - val_ax2sax_loss: 0.8924 - val_sax2ax_loss: 1.0346 - val_mask_prob_loss: 0.9943 - lr: 1.0000e-04\n",
      "Epoch 5/200\n",
      "60/60 [==============================] - ETA: 0s - loss: 18.8589 - ax2sax_loss: 0.7965 - sax2ax_loss: 0.9898 - mask_prob_loss: 0.9962\n",
      "Epoch 00005: val_loss improved from 20.26443 to 19.51548, saving model to models/3D/ax_sax/trained_on_original_ax_sax_pairs_lower_clipping/2020-12-19_11_14/model.h5\n",
      "60/60 [==============================] - 56s 941ms/step - loss: 18.8589 - ax2sax_loss: 0.7965 - sax2ax_loss: 0.9898 - mask_prob_loss: 0.9962 - val_loss: 19.5155 - val_ax2sax_loss: 0.8596 - val_sax2ax_loss: 0.9926 - val_mask_prob_loss: 0.9941 - lr: 1.0000e-04\n",
      "Epoch 6/200\n",
      "60/60 [==============================] - ETA: 0s - loss: 17.5961 - ax2sax_loss: 0.7392 - sax2ax_loss: 0.9209 - mask_prob_loss: 0.9954\n",
      "Epoch 00006: val_loss improved from 19.51548 to 18.81228, saving model to models/3D/ax_sax/trained_on_original_ax_sax_pairs_lower_clipping/2020-12-19_11_14/model.h5\n",
      "60/60 [==============================] - 58s 962ms/step - loss: 17.5961 - ax2sax_loss: 0.7392 - sax2ax_loss: 0.9209 - mask_prob_loss: 0.9954 - val_loss: 18.8123 - val_ax2sax_loss: 0.8228 - val_sax2ax_loss: 0.9590 - val_mask_prob_loss: 0.9942 - lr: 1.0000e-04\n",
      "Epoch 7/200\n",
      "60/60 [==============================] - ETA: 0s - loss: 17.0883 - ax2sax_loss: 0.7129 - sax2ax_loss: 0.8964 - mask_prob_loss: 0.9955\n",
      "Epoch 00007: val_loss improved from 18.81228 to 18.49987, saving model to models/3D/ax_sax/trained_on_original_ax_sax_pairs_lower_clipping/2020-12-19_11_14/model.h5\n",
      "60/60 [==============================] - 57s 958ms/step - loss: 17.0883 - ax2sax_loss: 0.7129 - sax2ax_loss: 0.8964 - mask_prob_loss: 0.9955 - val_loss: 18.4999 - val_ax2sax_loss: 0.8063 - val_sax2ax_loss: 0.9443 - val_mask_prob_loss: 0.9942 - lr: 1.0000e-04\n",
      "Epoch 8/200\n",
      "60/60 [==============================] - ETA: 0s - loss: 16.6799 - ax2sax_loss: 0.6912 - sax2ax_loss: 0.8772 - mask_prob_loss: 0.9959\n",
      "Epoch 00008: val_loss improved from 18.49987 to 18.22053, saving model to models/3D/ax_sax/trained_on_original_ax_sax_pairs_lower_clipping/2020-12-19_11_14/model.h5\n",
      "60/60 [==============================] - 57s 956ms/step - loss: 16.6799 - ax2sax_loss: 0.6912 - sax2ax_loss: 0.8772 - mask_prob_loss: 0.9959 - val_loss: 18.2205 - val_ax2sax_loss: 0.7913 - val_sax2ax_loss: 0.9313 - val_mask_prob_loss: 0.9943 - lr: 1.0000e-04\n",
      "Epoch 9/200\n",
      "60/60 [==============================] - ETA: 0s - loss: 16.5116 - ax2sax_loss: 0.6810 - sax2ax_loss: 0.8706 - mask_prob_loss: 0.9963\n",
      "Epoch 00009: val_loss improved from 18.22053 to 18.09001, saving model to models/3D/ax_sax/trained_on_original_ax_sax_pairs_lower_clipping/2020-12-19_11_14/model.h5\n",
      "60/60 [==============================] - 57s 949ms/step - loss: 16.5116 - ax2sax_loss: 0.6810 - sax2ax_loss: 0.8706 - mask_prob_loss: 0.9963 - val_loss: 18.0900 - val_ax2sax_loss: 0.7842 - val_sax2ax_loss: 0.9253 - val_mask_prob_loss: 0.9945 - lr: 1.0000e-04\n",
      "Epoch 10/200\n",
      "60/60 [==============================] - ETA: 0s - loss: 16.4368 - ax2sax_loss: 0.6761 - sax2ax_loss: 0.8680 - mask_prob_loss: 0.9963\n",
      "Epoch 00010: val_loss improved from 18.09001 to 18.08386, saving model to models/3D/ax_sax/trained_on_original_ax_sax_pairs_lower_clipping/2020-12-19_11_14/model.h5\n",
      "60/60 [==============================] - 57s 949ms/step - loss: 16.4368 - ax2sax_loss: 0.6761 - sax2ax_loss: 0.8680 - mask_prob_loss: 0.9963 - val_loss: 18.0839 - val_ax2sax_loss: 0.7838 - val_sax2ax_loss: 0.9251 - val_mask_prob_loss: 0.9944 - lr: 1.0000e-04\n",
      "Epoch 11/200\n",
      "60/60 [==============================] - ETA: 0s - loss: 16.4373 - ax2sax_loss: 0.6756 - sax2ax_loss: 0.8685 - mask_prob_loss: 0.9965\n",
      "Epoch 00011: val_loss improved from 18.08386 to 17.83263, saving model to models/3D/ax_sax/trained_on_original_ax_sax_pairs_lower_clipping/2020-12-19_11_14/model.h5\n",
      "60/60 [==============================] - 57s 946ms/step - loss: 16.4373 - ax2sax_loss: 0.6756 - sax2ax_loss: 0.8685 - mask_prob_loss: 0.9965 - val_loss: 17.8326 - val_ax2sax_loss: 0.7742 - val_sax2ax_loss: 0.9096 - val_mask_prob_loss: 0.9951 - lr: 1.0000e-04\n",
      "Epoch 12/200\n",
      "60/60 [==============================] - ETA: 0s - loss: 16.4187 - ax2sax_loss: 0.6751 - sax2ax_loss: 0.8671 - mask_prob_loss: 0.9963\n",
      "Epoch 00012: val_loss did not improve from 17.83263\n",
      "60/60 [==============================] - 58s 964ms/step - loss: 16.4187 - ax2sax_loss: 0.6751 - sax2ax_loss: 0.8671 - mask_prob_loss: 0.9963 - val_loss: 17.8741 - val_ax2sax_loss: 0.7754 - val_sax2ax_loss: 0.9125 - val_mask_prob_loss: 0.9949 - lr: 1.0000e-04\n",
      "Epoch 13/200\n",
      "60/60 [==============================] - ETA: 0s - loss: 16.4262 - ax2sax_loss: 0.6752 - sax2ax_loss: 0.8678 - mask_prob_loss: 0.9965\n",
      "Epoch 00013: val_loss did not improve from 17.83263\n",
      "60/60 [==============================] - 57s 957ms/step - loss: 16.4262 - ax2sax_loss: 0.6752 - sax2ax_loss: 0.8678 - mask_prob_loss: 0.9965 - val_loss: 17.8753 - val_ax2sax_loss: 0.7755 - val_sax2ax_loss: 0.9125 - val_mask_prob_loss: 0.9949 - lr: 1.0000e-04\n",
      "Epoch 14/200\n",
      "60/60 [==============================] - ETA: 0s - loss: 16.4352 - ax2sax_loss: 0.6757 - sax2ax_loss: 0.8682 - mask_prob_loss: 0.9965\n",
      "Epoch 00014: val_loss improved from 17.83263 to 17.77179, saving model to models/3D/ax_sax/trained_on_original_ax_sax_pairs_lower_clipping/2020-12-19_11_14/model.h5\n",
      "60/60 [==============================] - 57s 947ms/step - loss: 16.4352 - ax2sax_loss: 0.6757 - sax2ax_loss: 0.8682 - mask_prob_loss: 0.9965 - val_loss: 17.7718 - val_ax2sax_loss: 0.7722 - val_sax2ax_loss: 0.9055 - val_mask_prob_loss: 0.9951 - lr: 1.0000e-04\n",
      "Epoch 15/200\n",
      "60/60 [==============================] - ETA: 0s - loss: 16.4072 - ax2sax_loss: 0.6754 - sax2ax_loss: 0.8657 - mask_prob_loss: 0.9965\n",
      "Epoch 00015: val_loss did not improve from 17.77179\n",
      "60/60 [==============================] - 57s 957ms/step - loss: 16.4072 - ax2sax_loss: 0.6754 - sax2ax_loss: 0.8657 - mask_prob_loss: 0.9965 - val_loss: 17.8050 - val_ax2sax_loss: 0.7735 - val_sax2ax_loss: 0.9075 - val_mask_prob_loss: 0.9952 - lr: 1.0000e-04\n",
      "Epoch 16/200\n",
      "60/60 [==============================] - ETA: 0s - loss: 16.4122 - ax2sax_loss: 0.6748 - sax2ax_loss: 0.8668 - mask_prob_loss: 0.9964\n",
      "Epoch 00016: val_loss did not improve from 17.77179\n",
      "60/60 [==============================] - 57s 946ms/step - loss: 16.4122 - ax2sax_loss: 0.6748 - sax2ax_loss: 0.8668 - mask_prob_loss: 0.9964 - val_loss: 17.8543 - val_ax2sax_loss: 0.7754 - val_sax2ax_loss: 0.9105 - val_mask_prob_loss: 0.9951 - lr: 1.0000e-04\n",
      "Epoch 17/200\n",
      "60/60 [==============================] - ETA: 0s - loss: 16.4092 - ax2sax_loss: 0.6751 - sax2ax_loss: 0.8662 - mask_prob_loss: 0.9965\n",
      "Epoch 00017: val_loss did not improve from 17.77179\n",
      "60/60 [==============================] - 57s 954ms/step - loss: 16.4092 - ax2sax_loss: 0.6751 - sax2ax_loss: 0.8662 - mask_prob_loss: 0.9965 - val_loss: 17.7926 - val_ax2sax_loss: 0.7735 - val_sax2ax_loss: 0.9062 - val_mask_prob_loss: 0.9953 - lr: 1.0000e-04\n",
      "Epoch 18/200\n",
      "60/60 [==============================] - ETA: 0s - loss: 16.4041 - ax2sax_loss: 0.6748 - sax2ax_loss: 0.8659 - mask_prob_loss: 0.9965\n",
      "Epoch 00018: val_loss did not improve from 17.77179\n",
      "60/60 [==============================] - 57s 947ms/step - loss: 16.4041 - ax2sax_loss: 0.6748 - sax2ax_loss: 0.8659 - mask_prob_loss: 0.9965 - val_loss: 17.7753 - val_ax2sax_loss: 0.7727 - val_sax2ax_loss: 0.9053 - val_mask_prob_loss: 0.9953 - lr: 1.0000e-04\n",
      "Epoch 19/200\n",
      "60/60 [==============================] - ETA: 0s - loss: 16.3987 - ax2sax_loss: 0.6746 - sax2ax_loss: 0.8656 - mask_prob_loss: 0.9966\n",
      "Epoch 00019: val_loss improved from 17.77179 to 17.71315, saving model to models/3D/ax_sax/trained_on_original_ax_sax_pairs_lower_clipping/2020-12-19_11_14/model.h5\n",
      "60/60 [==============================] - 57s 952ms/step - loss: 16.3987 - ax2sax_loss: 0.6746 - sax2ax_loss: 0.8656 - mask_prob_loss: 0.9966 - val_loss: 17.7132 - val_ax2sax_loss: 0.7701 - val_sax2ax_loss: 0.9017 - val_mask_prob_loss: 0.9955 - lr: 1.0000e-04\n",
      "Epoch 20/200\n",
      "60/60 [==============================] - ETA: 0s - loss: 16.3930 - ax2sax_loss: 0.6747 - sax2ax_loss: 0.8649 - mask_prob_loss: 0.9966\n",
      "Epoch 00020: val_loss did not improve from 17.71315\n",
      "60/60 [==============================] - 56s 940ms/step - loss: 16.3930 - ax2sax_loss: 0.6747 - sax2ax_loss: 0.8649 - mask_prob_loss: 0.9966 - val_loss: 17.7521 - val_ax2sax_loss: 0.7714 - val_sax2ax_loss: 0.9042 - val_mask_prob_loss: 0.9954 - lr: 1.0000e-04\n",
      "Epoch 21/200\n",
      "60/60 [==============================] - ETA: 0s - loss: 16.4065 - ax2sax_loss: 0.6744 - sax2ax_loss: 0.8666 - mask_prob_loss: 0.9966\n",
      "Epoch 00021: val_loss did not improve from 17.71315\n",
      "60/60 [==============================] - 57s 947ms/step - loss: 16.4065 - ax2sax_loss: 0.6744 - sax2ax_loss: 0.8666 - mask_prob_loss: 0.9966 - val_loss: 17.8100 - val_ax2sax_loss: 0.7738 - val_sax2ax_loss: 0.9077 - val_mask_prob_loss: 0.9953 - lr: 1.0000e-04\n",
      "Epoch 22/200\n",
      "60/60 [==============================] - ETA: 0s - loss: 16.4137 - ax2sax_loss: 0.6750 - sax2ax_loss: 0.8667 - mask_prob_loss: 0.9967\n",
      "Epoch 00022: val_loss did not improve from 17.71315\n",
      "60/60 [==============================] - 56s 936ms/step - loss: 16.4137 - ax2sax_loss: 0.6750 - sax2ax_loss: 0.8667 - mask_prob_loss: 0.9967 - val_loss: 17.7482 - val_ax2sax_loss: 0.7722 - val_sax2ax_loss: 0.9031 - val_mask_prob_loss: 0.9955 - lr: 1.0000e-04\n",
      "Epoch 23/200\n",
      "60/60 [==============================] - ETA: 0s - loss: 16.4042 - ax2sax_loss: 0.6746 - sax2ax_loss: 0.8661 - mask_prob_loss: 0.9966\n",
      "Epoch 00023: val_loss did not improve from 17.71315\n",
      "60/60 [==============================] - 56s 937ms/step - loss: 16.4042 - ax2sax_loss: 0.6746 - sax2ax_loss: 0.8661 - mask_prob_loss: 0.9966 - val_loss: 17.8325 - val_ax2sax_loss: 0.7748 - val_sax2ax_loss: 0.9089 - val_mask_prob_loss: 0.9952 - lr: 1.0000e-04\n",
      "Epoch 24/200\n",
      "60/60 [==============================] - ETA: 0s - loss: 16.4148 - ax2sax_loss: 0.6753 - sax2ax_loss: 0.8665 - mask_prob_loss: 0.9966\n",
      "Epoch 00024: val_loss did not improve from 17.71315\n",
      "\n",
      "Epoch 00024: ReduceLROnPlateau reducing learning rate to 2.9999999242136255e-05.\n",
      "60/60 [==============================] - 57s 946ms/step - loss: 16.4148 - ax2sax_loss: 0.6753 - sax2ax_loss: 0.8665 - mask_prob_loss: 0.9966 - val_loss: 17.8794 - val_ax2sax_loss: 0.7772 - val_sax2ax_loss: 0.9112 - val_mask_prob_loss: 0.9952 - lr: 3.0000e-05\n",
      "Epoch 25/200\n",
      "60/60 [==============================] - ETA: 0s - loss: 16.3885 - ax2sax_loss: 0.6746 - sax2ax_loss: 0.8646 - mask_prob_loss: 0.9966\n",
      "Epoch 00025: val_loss did not improve from 17.71315\n",
      "60/60 [==============================] - 57s 950ms/step - loss: 16.3885 - ax2sax_loss: 0.6746 - sax2ax_loss: 0.8646 - mask_prob_loss: 0.9966 - val_loss: 17.7298 - val_ax2sax_loss: 0.7709 - val_sax2ax_loss: 0.9025 - val_mask_prob_loss: 0.9955 - lr: 3.0000e-05\n",
      "Epoch 26/200\n",
      "60/60 [==============================] - ETA: 0s - loss: 16.3842 - ax2sax_loss: 0.6742 - sax2ax_loss: 0.8645 - mask_prob_loss: 0.9967\n",
      "Epoch 00026: val_loss did not improve from 17.71315\n",
      "60/60 [==============================] - 57s 944ms/step - loss: 16.3842 - ax2sax_loss: 0.6742 - sax2ax_loss: 0.8645 - mask_prob_loss: 0.9967 - val_loss: 17.7648 - val_ax2sax_loss: 0.7723 - val_sax2ax_loss: 0.9046 - val_mask_prob_loss: 0.9954 - lr: 3.0000e-05\n",
      "Epoch 27/200\n",
      "60/60 [==============================] - ETA: 0s - loss: 16.3881 - ax2sax_loss: 0.6743 - sax2ax_loss: 0.8649 - mask_prob_loss: 0.9966\n",
      "Epoch 00027: val_loss did not improve from 17.71315\n",
      "60/60 [==============================] - 56s 936ms/step - loss: 16.3881 - ax2sax_loss: 0.6743 - sax2ax_loss: 0.8649 - mask_prob_loss: 0.9966 - val_loss: 17.7510 - val_ax2sax_loss: 0.7718 - val_sax2ax_loss: 0.9037 - val_mask_prob_loss: 0.9955 - lr: 3.0000e-05\n",
      "Epoch 28/200\n",
      "60/60 [==============================] - ETA: 0s - loss: 16.3893 - ax2sax_loss: 0.6743 - sax2ax_loss: 0.8650 - mask_prob_loss: 0.9966\n",
      "Epoch 00028: val_loss did not improve from 17.71315\n",
      "60/60 [==============================] - 59s 980ms/step - loss: 16.3893 - ax2sax_loss: 0.6743 - sax2ax_loss: 0.8650 - mask_prob_loss: 0.9966 - val_loss: 17.7203 - val_ax2sax_loss: 0.7703 - val_sax2ax_loss: 0.9021 - val_mask_prob_loss: 0.9955 - lr: 3.0000e-05\n",
      "Epoch 29/200\n",
      "60/60 [==============================] - ETA: 0s - loss: 16.3875 - ax2sax_loss: 0.6742 - sax2ax_loss: 0.8648 - mask_prob_loss: 0.9967\n",
      "Epoch 00029: val_loss did not improve from 17.71315\n",
      "60/60 [==============================] - 58s 960ms/step - loss: 16.3875 - ax2sax_loss: 0.6742 - sax2ax_loss: 0.8648 - mask_prob_loss: 0.9967 - val_loss: 17.7168 - val_ax2sax_loss: 0.7703 - val_sax2ax_loss: 0.9019 - val_mask_prob_loss: 0.9955 - lr: 3.0000e-05\n",
      "Epoch 30/200\n",
      "60/60 [==============================] - ETA: 0s - loss: 16.3840 - ax2sax_loss: 0.6741 - sax2ax_loss: 0.8646 - mask_prob_loss: 0.9967\n",
      "Epoch 00030: val_loss did not improve from 17.71315\n",
      "\n",
      "Epoch 00030: ReduceLROnPlateau reducing learning rate to 8.999999772640877e-06.\n",
      "60/60 [==============================] - 58s 964ms/step - loss: 16.3840 - ax2sax_loss: 0.6741 - sax2ax_loss: 0.8646 - mask_prob_loss: 0.9967 - val_loss: 17.7136 - val_ax2sax_loss: 0.7699 - val_sax2ax_loss: 0.9019 - val_mask_prob_loss: 0.9955 - lr: 9.0000e-06\n",
      "Epoch 31/200\n",
      "60/60 [==============================] - ETA: 0s - loss: 16.3823 - ax2sax_loss: 0.6741 - sax2ax_loss: 0.8645 - mask_prob_loss: 0.9967\n",
      "Epoch 00031: val_loss improved from 17.71315 to 17.68666, saving model to models/3D/ax_sax/trained_on_original_ax_sax_pairs_lower_clipping/2020-12-19_11_14/model.h5\n",
      "60/60 [==============================] - 57s 946ms/step - loss: 16.3823 - ax2sax_loss: 0.6741 - sax2ax_loss: 0.8645 - mask_prob_loss: 0.9967 - val_loss: 17.6867 - val_ax2sax_loss: 0.7690 - val_sax2ax_loss: 0.9002 - val_mask_prob_loss: 0.9956 - lr: 9.0000e-06\n",
      "Epoch 32/200\n",
      "60/60 [==============================] - ETA: 0s - loss: 16.3834 - ax2sax_loss: 0.6740 - sax2ax_loss: 0.8646 - mask_prob_loss: 0.9967\n",
      "Epoch 00032: val_loss improved from 17.68666 to 17.63498, saving model to models/3D/ax_sax/trained_on_original_ax_sax_pairs_lower_clipping/2020-12-19_11_14/model.h5\n",
      "60/60 [==============================] - 57s 950ms/step - loss: 16.3834 - ax2sax_loss: 0.6740 - sax2ax_loss: 0.8646 - mask_prob_loss: 0.9967 - val_loss: 17.6350 - val_ax2sax_loss: 0.7667 - val_sax2ax_loss: 0.8973 - val_mask_prob_loss: 0.9956 - lr: 9.0000e-06\n",
      "Epoch 33/200\n",
      "60/60 [==============================] - ETA: 0s - loss: 16.3816 - ax2sax_loss: 0.6741 - sax2ax_loss: 0.8644 - mask_prob_loss: 0.9966\n",
      "Epoch 00033: val_loss did not improve from 17.63498\n",
      "60/60 [==============================] - 57s 958ms/step - loss: 16.3816 - ax2sax_loss: 0.6741 - sax2ax_loss: 0.8644 - mask_prob_loss: 0.9966 - val_loss: 17.6426 - val_ax2sax_loss: 0.7671 - val_sax2ax_loss: 0.8976 - val_mask_prob_loss: 0.9956 - lr: 9.0000e-06\n",
      "Epoch 34/200\n",
      "60/60 [==============================] - ETA: 0s - loss: 16.3854 - ax2sax_loss: 0.6741 - sax2ax_loss: 0.8648 - mask_prob_loss: 0.9967\n",
      "Epoch 00034: val_loss did not improve from 17.63498\n",
      "60/60 [==============================] - 58s 960ms/step - loss: 16.3854 - ax2sax_loss: 0.6741 - sax2ax_loss: 0.8648 - mask_prob_loss: 0.9967 - val_loss: 17.6896 - val_ax2sax_loss: 0.7690 - val_sax2ax_loss: 0.9004 - val_mask_prob_loss: 0.9955 - lr: 9.0000e-06\n",
      "Epoch 35/200\n",
      "60/60 [==============================] - ETA: 0s - loss: 16.3844 - ax2sax_loss: 0.6740 - sax2ax_loss: 0.8647 - mask_prob_loss: 0.9967\n",
      "Epoch 00035: val_loss did not improve from 17.63498\n",
      "60/60 [==============================] - 57s 958ms/step - loss: 16.3844 - ax2sax_loss: 0.6740 - sax2ax_loss: 0.8647 - mask_prob_loss: 0.9967 - val_loss: 17.6711 - val_ax2sax_loss: 0.7685 - val_sax2ax_loss: 0.8990 - val_mask_prob_loss: 0.9956 - lr: 9.0000e-06\n",
      "Epoch 36/200\n",
      "60/60 [==============================] - ETA: 0s - loss: 16.3829 - ax2sax_loss: 0.6740 - sax2ax_loss: 0.8646 - mask_prob_loss: 0.9966\n",
      "Epoch 00036: val_loss did not improve from 17.63498\n",
      "60/60 [==============================] - 56s 937ms/step - loss: 16.3829 - ax2sax_loss: 0.6740 - sax2ax_loss: 0.8646 - mask_prob_loss: 0.9966 - val_loss: 17.7427 - val_ax2sax_loss: 0.7713 - val_sax2ax_loss: 0.9034 - val_mask_prob_loss: 0.9955 - lr: 9.0000e-06\n",
      "Epoch 37/200\n",
      "60/60 [==============================] - ETA: 0s - loss: 16.3852 - ax2sax_loss: 0.6741 - sax2ax_loss: 0.8647 - mask_prob_loss: 0.9966\n",
      "Epoch 00037: val_loss did not improve from 17.63498\n",
      "\n",
      "Epoch 00037: ReduceLROnPlateau reducing learning rate to 2.6999998226528985e-06.\n",
      "60/60 [==============================] - 57s 943ms/step - loss: 16.3852 - ax2sax_loss: 0.6741 - sax2ax_loss: 0.8647 - mask_prob_loss: 0.9966 - val_loss: 17.7670 - val_ax2sax_loss: 0.7724 - val_sax2ax_loss: 0.9047 - val_mask_prob_loss: 0.9954 - lr: 2.7000e-06\n",
      "Epoch 38/200\n",
      "60/60 [==============================] - ETA: 0s - loss: 16.3804 - ax2sax_loss: 0.6740 - sax2ax_loss: 0.8644 - mask_prob_loss: 0.9967\n",
      "Epoch 00038: val_loss did not improve from 17.63498\n",
      "60/60 [==============================] - 57s 953ms/step - loss: 16.3804 - ax2sax_loss: 0.6740 - sax2ax_loss: 0.8644 - mask_prob_loss: 0.9967 - val_loss: 17.7437 - val_ax2sax_loss: 0.7713 - val_sax2ax_loss: 0.9035 - val_mask_prob_loss: 0.9955 - lr: 2.7000e-06\n",
      "Epoch 39/200\n",
      "60/60 [==============================] - ETA: 0s - loss: 16.3802 - ax2sax_loss: 0.6740 - sax2ax_loss: 0.8644 - mask_prob_loss: 0.9966\n",
      "Epoch 00039: val_loss improved from 17.63498 to 17.62880, saving model to models/3D/ax_sax/trained_on_original_ax_sax_pairs_lower_clipping/2020-12-19_11_14/model.h5\n",
      "60/60 [==============================] - 57s 946ms/step - loss: 16.3802 - ax2sax_loss: 0.6740 - sax2ax_loss: 0.8644 - mask_prob_loss: 0.9966 - val_loss: 17.6288 - val_ax2sax_loss: 0.7665 - val_sax2ax_loss: 0.8968 - val_mask_prob_loss: 0.9956 - lr: 2.7000e-06\n",
      "Epoch 40/200\n",
      "60/60 [==============================] - ETA: 0s - loss: 16.3827 - ax2sax_loss: 0.6740 - sax2ax_loss: 0.8646 - mask_prob_loss: 0.9966\n",
      "Epoch 00040: val_loss did not improve from 17.62880\n",
      "60/60 [==============================] - 56s 940ms/step - loss: 16.3827 - ax2sax_loss: 0.6740 - sax2ax_loss: 0.8646 - mask_prob_loss: 0.9966 - val_loss: 17.6792 - val_ax2sax_loss: 0.7686 - val_sax2ax_loss: 0.8998 - val_mask_prob_loss: 0.9956 - lr: 2.7000e-06\n",
      "Epoch 41/200\n",
      "60/60 [==============================] - ETA: 0s - loss: 16.3814 - ax2sax_loss: 0.6740 - sax2ax_loss: 0.8645 - mask_prob_loss: 0.9967\n",
      "Epoch 00041: val_loss did not improve from 17.62880\n",
      "60/60 [==============================] - 56s 941ms/step - loss: 16.3814 - ax2sax_loss: 0.6740 - sax2ax_loss: 0.8645 - mask_prob_loss: 0.9967 - val_loss: 17.6312 - val_ax2sax_loss: 0.7665 - val_sax2ax_loss: 0.8971 - val_mask_prob_loss: 0.9956 - lr: 2.7000e-06\n",
      "Epoch 42/200\n",
      "60/60 [==============================] - ETA: 0s - loss: 16.3820 - ax2sax_loss: 0.6739 - sax2ax_loss: 0.8646 - mask_prob_loss: 0.9967\n",
      "Epoch 00042: val_loss improved from 17.62880 to 17.58346, saving model to models/3D/ax_sax/trained_on_original_ax_sax_pairs_lower_clipping/2020-12-19_11_14/model.h5\n",
      "60/60 [==============================] - 57s 945ms/step - loss: 16.3820 - ax2sax_loss: 0.6739 - sax2ax_loss: 0.8646 - mask_prob_loss: 0.9967 - val_loss: 17.5835 - val_ax2sax_loss: 0.7645 - val_sax2ax_loss: 0.8943 - val_mask_prob_loss: 0.9957 - lr: 2.7000e-06\n",
      "Epoch 43/200\n",
      "60/60 [==============================] - ETA: 0s - loss: 16.3818 - ax2sax_loss: 0.6740 - sax2ax_loss: 0.8645 - mask_prob_loss: 0.9967\n",
      "Epoch 00043: val_loss did not improve from 17.58346\n",
      "60/60 [==============================] - 58s 965ms/step - loss: 16.3818 - ax2sax_loss: 0.6740 - sax2ax_loss: 0.8645 - mask_prob_loss: 0.9967 - val_loss: 17.7099 - val_ax2sax_loss: 0.7699 - val_sax2ax_loss: 0.9015 - val_mask_prob_loss: 0.9955 - lr: 2.7000e-06\n",
      "Epoch 44/200\n",
      "60/60 [==============================] - ETA: 0s - loss: 16.3827 - ax2sax_loss: 0.6740 - sax2ax_loss: 0.8646 - mask_prob_loss: 0.9968\n",
      "Epoch 00044: val_loss did not improve from 17.58346\n",
      "60/60 [==============================] - 57s 947ms/step - loss: 16.3827 - ax2sax_loss: 0.6740 - sax2ax_loss: 0.8646 - mask_prob_loss: 0.9968 - val_loss: 17.7464 - val_ax2sax_loss: 0.7715 - val_sax2ax_loss: 0.9036 - val_mask_prob_loss: 0.9954 - lr: 2.7000e-06\n",
      "Epoch 45/200\n",
      "60/60 [==============================] - ETA: 0s - loss: 16.3821 - ax2sax_loss: 0.6739 - sax2ax_loss: 0.8646 - mask_prob_loss: 0.9966\n",
      "Epoch 00045: val_loss did not improve from 17.58346\n",
      "60/60 [==============================] - 56s 937ms/step - loss: 16.3821 - ax2sax_loss: 0.6739 - sax2ax_loss: 0.8646 - mask_prob_loss: 0.9966 - val_loss: 17.7063 - val_ax2sax_loss: 0.7698 - val_sax2ax_loss: 0.9012 - val_mask_prob_loss: 0.9955 - lr: 2.7000e-06\n",
      "Epoch 46/200\n",
      "60/60 [==============================] - ETA: 0s - loss: 16.3815 - ax2sax_loss: 0.6739 - sax2ax_loss: 0.8645 - mask_prob_loss: 0.9967\n",
      "Epoch 00046: val_loss did not improve from 17.58346\n",
      "60/60 [==============================] - 56s 935ms/step - loss: 16.3815 - ax2sax_loss: 0.6739 - sax2ax_loss: 0.8645 - mask_prob_loss: 0.9967 - val_loss: 17.7499 - val_ax2sax_loss: 0.7715 - val_sax2ax_loss: 0.9039 - val_mask_prob_loss: 0.9955 - lr: 2.7000e-06\n",
      "Epoch 47/200\n",
      "60/60 [==============================] - ETA: 0s - loss: 16.3828 - ax2sax_loss: 0.6739 - sax2ax_loss: 0.8647 - mask_prob_loss: 0.9966\n",
      "Epoch 00047: val_loss did not improve from 17.58346\n",
      "\n",
      "Epoch 00047: ReduceLROnPlateau reducing learning rate to 8.099999604382901e-07.\n",
      "60/60 [==============================] - 57s 951ms/step - loss: 16.3828 - ax2sax_loss: 0.6739 - sax2ax_loss: 0.8647 - mask_prob_loss: 0.9966 - val_loss: 17.6445 - val_ax2sax_loss: 0.7671 - val_sax2ax_loss: 0.8978 - val_mask_prob_loss: 0.9956 - lr: 8.1000e-07\n",
      "Epoch 48/200\n",
      "60/60 [==============================] - ETA: 0s - loss: 16.3824 - ax2sax_loss: 0.6739 - sax2ax_loss: 0.8647 - mask_prob_loss: 0.9966\n",
      "Epoch 00048: val_loss improved from 17.58346 to 17.57211, saving model to models/3D/ax_sax/trained_on_original_ax_sax_pairs_lower_clipping/2020-12-19_11_14/model.h5\n",
      "60/60 [==============================] - 58s 959ms/step - loss: 16.3824 - ax2sax_loss: 0.6739 - sax2ax_loss: 0.8647 - mask_prob_loss: 0.9966 - val_loss: 17.5721 - val_ax2sax_loss: 0.7640 - val_sax2ax_loss: 0.8937 - val_mask_prob_loss: 0.9957 - lr: 8.1000e-07\n",
      "Epoch 49/200\n",
      "60/60 [==============================] - ETA: 0s - loss: 16.3825 - ax2sax_loss: 0.6739 - sax2ax_loss: 0.8647 - mask_prob_loss: 0.9966\n",
      "Epoch 00049: val_loss did not improve from 17.57211\n",
      "60/60 [==============================] - 57s 946ms/step - loss: 16.3825 - ax2sax_loss: 0.6739 - sax2ax_loss: 0.8647 - mask_prob_loss: 0.9966 - val_loss: 17.6913 - val_ax2sax_loss: 0.7691 - val_sax2ax_loss: 0.9005 - val_mask_prob_loss: 0.9956 - lr: 8.1000e-07\n",
      "Epoch 50/200\n",
      "60/60 [==============================] - ETA: 0s - loss: 16.3826 - ax2sax_loss: 0.6739 - sax2ax_loss: 0.8647 - mask_prob_loss: 0.9966\n",
      "Epoch 00050: val_loss did not improve from 17.57211\n",
      "60/60 [==============================] - 57s 954ms/step - loss: 16.3826 - ax2sax_loss: 0.6739 - sax2ax_loss: 0.8647 - mask_prob_loss: 0.9966 - val_loss: 17.6934 - val_ax2sax_loss: 0.7691 - val_sax2ax_loss: 0.9007 - val_mask_prob_loss: 0.9955 - lr: 8.1000e-07\n",
      "Epoch 51/200\n",
      "60/60 [==============================] - ETA: 0s - loss: 16.3815 - ax2sax_loss: 0.6739 - sax2ax_loss: 0.8646 - mask_prob_loss: 0.9966\n",
      "Epoch 00051: val_loss did not improve from 17.57211\n",
      "60/60 [==============================] - 57s 944ms/step - loss: 16.3815 - ax2sax_loss: 0.6739 - sax2ax_loss: 0.8646 - mask_prob_loss: 0.9966 - val_loss: 17.6231 - val_ax2sax_loss: 0.7662 - val_sax2ax_loss: 0.8966 - val_mask_prob_loss: 0.9956 - lr: 8.1000e-07\n",
      "Epoch 52/200\n",
      "60/60 [==============================] - ETA: 0s - loss: 16.3823 - ax2sax_loss: 0.6739 - sax2ax_loss: 0.8647 - mask_prob_loss: 0.9967\n",
      "Epoch 00052: val_loss did not improve from 17.57211\n",
      "60/60 [==============================] - 57s 945ms/step - loss: 16.3823 - ax2sax_loss: 0.6739 - sax2ax_loss: 0.8647 - mask_prob_loss: 0.9967 - val_loss: 17.7323 - val_ax2sax_loss: 0.7709 - val_sax2ax_loss: 0.9028 - val_mask_prob_loss: 0.9955 - lr: 8.1000e-07\n",
      "Epoch 53/200\n",
      "60/60 [==============================] - ETA: 0s - loss: 16.3824 - ax2sax_loss: 0.6739 - sax2ax_loss: 0.8647 - mask_prob_loss: 0.9967\n",
      "Epoch 00053: val_loss did not improve from 17.57211\n",
      "\n",
      "Epoch 00053: ReduceLROnPlateau reducing learning rate to 2.4299998813148704e-07.\n",
      "60/60 [==============================] - 56s 936ms/step - loss: 16.3824 - ax2sax_loss: 0.6739 - sax2ax_loss: 0.8647 - mask_prob_loss: 0.9967 - val_loss: 17.7797 - val_ax2sax_loss: 0.7727 - val_sax2ax_loss: 0.9057 - val_mask_prob_loss: 0.9954 - lr: 2.4300e-07\n",
      "Epoch 54/200\n",
      "60/60 [==============================] - ETA: 0s - loss: 16.3821 - ax2sax_loss: 0.6739 - sax2ax_loss: 0.8647 - mask_prob_loss: 0.9966\n",
      "Epoch 00054: val_loss did not improve from 17.57211\n",
      "60/60 [==============================] - 57s 942ms/step - loss: 16.3821 - ax2sax_loss: 0.6739 - sax2ax_loss: 0.8647 - mask_prob_loss: 0.9966 - val_loss: 17.7620 - val_ax2sax_loss: 0.7720 - val_sax2ax_loss: 0.9047 - val_mask_prob_loss: 0.9954 - lr: 2.4300e-07\n",
      "Epoch 55/200\n",
      "60/60 [==============================] - ETA: 0s - loss: 16.3818 - ax2sax_loss: 0.6739 - sax2ax_loss: 0.8646 - mask_prob_loss: 0.9966\n",
      "Epoch 00055: val_loss did not improve from 17.57211\n",
      "60/60 [==============================] - 57s 950ms/step - loss: 16.3818 - ax2sax_loss: 0.6739 - sax2ax_loss: 0.8646 - mask_prob_loss: 0.9966 - val_loss: 17.6383 - val_ax2sax_loss: 0.7668 - val_sax2ax_loss: 0.8975 - val_mask_prob_loss: 0.9956 - lr: 2.4300e-07\n",
      "Epoch 56/200\n",
      "60/60 [==============================] - ETA: 0s - loss: 16.3817 - ax2sax_loss: 0.6739 - sax2ax_loss: 0.8646 - mask_prob_loss: 0.9966\n",
      "Epoch 00056: val_loss did not improve from 17.57211\n",
      "60/60 [==============================] - 57s 949ms/step - loss: 16.3817 - ax2sax_loss: 0.6739 - sax2ax_loss: 0.8646 - mask_prob_loss: 0.9966 - val_loss: 17.5939 - val_ax2sax_loss: 0.7650 - val_sax2ax_loss: 0.8949 - val_mask_prob_loss: 0.9957 - lr: 2.4300e-07\n",
      "Epoch 57/200\n",
      "60/60 [==============================] - ETA: 0s - loss: 16.3814 - ax2sax_loss: 0.6739 - sax2ax_loss: 0.8646 - mask_prob_loss: 0.9967\n",
      "Epoch 00057: val_loss did not improve from 17.57211\n",
      "60/60 [==============================] - 57s 951ms/step - loss: 16.3814 - ax2sax_loss: 0.6739 - sax2ax_loss: 0.8646 - mask_prob_loss: 0.9967 - val_loss: 17.5932 - val_ax2sax_loss: 0.7649 - val_sax2ax_loss: 0.8949 - val_mask_prob_loss: 0.9956 - lr: 2.4300e-07\n",
      "Epoch 58/200\n",
      "60/60 [==============================] - ETA: 0s - loss: 16.3805 - ax2sax_loss: 0.6739 - sax2ax_loss: 0.8645 - mask_prob_loss: 0.9967\n",
      "Epoch 00058: val_loss did not improve from 17.57211\n",
      "60/60 [==============================] - 57s 953ms/step - loss: 16.3805 - ax2sax_loss: 0.6739 - sax2ax_loss: 0.8645 - mask_prob_loss: 0.9967 - val_loss: 17.5808 - val_ax2sax_loss: 0.7643 - val_sax2ax_loss: 0.8942 - val_mask_prob_loss: 0.9957 - lr: 2.4300e-07\n",
      "Epoch 59/200\n",
      "60/60 [==============================] - ETA: 0s - loss: 16.3805 - ax2sax_loss: 0.6739 - sax2ax_loss: 0.8645 - mask_prob_loss: 0.9966\n",
      "Epoch 00059: val_loss did not improve from 17.57211\n",
      "\n",
      "Epoch 00059: ReduceLROnPlateau reducing learning rate to 7.289999643944612e-08.\n",
      "60/60 [==============================] - 57s 943ms/step - loss: 16.3805 - ax2sax_loss: 0.6739 - sax2ax_loss: 0.8645 - mask_prob_loss: 0.9966 - val_loss: 17.6003 - val_ax2sax_loss: 0.7653 - val_sax2ax_loss: 0.8952 - val_mask_prob_loss: 0.9957 - lr: 7.2900e-08\n",
      "Epoch 60/200\n",
      "60/60 [==============================] - ETA: 0s - loss: 16.3804 - ax2sax_loss: 0.6739 - sax2ax_loss: 0.8645 - mask_prob_loss: 0.9966\n",
      "Epoch 00060: val_loss did not improve from 17.57211\n",
      "60/60 [==============================] - 56s 941ms/step - loss: 16.3804 - ax2sax_loss: 0.6739 - sax2ax_loss: 0.8645 - mask_prob_loss: 0.9966 - val_loss: 17.6230 - val_ax2sax_loss: 0.7662 - val_sax2ax_loss: 0.8965 - val_mask_prob_loss: 0.9956 - lr: 7.2900e-08\n",
      "Epoch 61/200\n",
      "60/60 [==============================] - ETA: 0s - loss: 16.3803 - ax2sax_loss: 0.6739 - sax2ax_loss: 0.8645 - mask_prob_loss: 0.9967\n",
      "Epoch 00061: val_loss did not improve from 17.57211\n",
      "60/60 [==============================] - 56s 939ms/step - loss: 16.3803 - ax2sax_loss: 0.6739 - sax2ax_loss: 0.8645 - mask_prob_loss: 0.9967 - val_loss: 17.6824 - val_ax2sax_loss: 0.7688 - val_sax2ax_loss: 0.8999 - val_mask_prob_loss: 0.9955 - lr: 7.2900e-08\n",
      "Epoch 62/200\n",
      "60/60 [==============================] - ETA: 0s - loss: 16.3804 - ax2sax_loss: 0.6739 - sax2ax_loss: 0.8645 - mask_prob_loss: 0.9967\n",
      "Epoch 00062: val_loss did not improve from 17.57211\n",
      "60/60 [==============================] - 56s 939ms/step - loss: 16.3804 - ax2sax_loss: 0.6739 - sax2ax_loss: 0.8645 - mask_prob_loss: 0.9967 - val_loss: 17.6390 - val_ax2sax_loss: 0.7668 - val_sax2ax_loss: 0.8976 - val_mask_prob_loss: 0.9956 - lr: 7.2900e-08\n",
      "Epoch 63/200\n",
      "60/60 [==============================] - ETA: 0s - loss: 16.3803 - ax2sax_loss: 0.6739 - sax2ax_loss: 0.8645 - mask_prob_loss: 0.9966\n",
      "Epoch 00063: val_loss did not improve from 17.57211\n",
      "60/60 [==============================] - 57s 943ms/step - loss: 16.3803 - ax2sax_loss: 0.6739 - sax2ax_loss: 0.8645 - mask_prob_loss: 0.9966 - val_loss: 17.6488 - val_ax2sax_loss: 0.7671 - val_sax2ax_loss: 0.8982 - val_mask_prob_loss: 0.9956 - lr: 7.2900e-08\n",
      "Epoch 64/200\n",
      "60/60 [==============================] - ETA: 0s - loss: 16.3804 - ax2sax_loss: 0.6739 - sax2ax_loss: 0.8645 - mask_prob_loss: 0.9966\n",
      "Epoch 00064: val_loss did not improve from 17.57211\n",
      "60/60 [==============================] - 56s 936ms/step - loss: 16.3804 - ax2sax_loss: 0.6739 - sax2ax_loss: 0.8645 - mask_prob_loss: 0.9966 - val_loss: 17.6610 - val_ax2sax_loss: 0.7676 - val_sax2ax_loss: 0.8989 - val_mask_prob_loss: 0.9955 - lr: 7.2900e-08\n",
      "Epoch 65/200\n",
      "60/60 [==============================] - ETA: 0s - loss: 16.3805 - ax2sax_loss: 0.6739 - sax2ax_loss: 0.8645 - mask_prob_loss: 0.9967\n",
      "Epoch 00065: val_loss did not improve from 17.57211\n",
      "\n",
      "Epoch 00065: ReduceLROnPlateau reducing learning rate to 2.1869998079182552e-08.\n",
      "60/60 [==============================] - 57s 948ms/step - loss: 16.3805 - ax2sax_loss: 0.6739 - sax2ax_loss: 0.8645 - mask_prob_loss: 0.9967 - val_loss: 17.6994 - val_ax2sax_loss: 0.7694 - val_sax2ax_loss: 0.9010 - val_mask_prob_loss: 0.9955 - lr: 2.1870e-08\n",
      "Epoch 66/200\n",
      "60/60 [==============================] - ETA: 0s - loss: 16.3805 - ax2sax_loss: 0.6739 - sax2ax_loss: 0.8645 - mask_prob_loss: 0.9967\n",
      "Epoch 00066: val_loss did not improve from 17.57211\n",
      "60/60 [==============================] - 57s 949ms/step - loss: 16.3805 - ax2sax_loss: 0.6739 - sax2ax_loss: 0.8645 - mask_prob_loss: 0.9967 - val_loss: 17.6841 - val_ax2sax_loss: 0.7688 - val_sax2ax_loss: 0.9001 - val_mask_prob_loss: 0.9955 - lr: 2.1870e-08\n",
      "Epoch 67/200\n",
      "60/60 [==============================] - ETA: 0s - loss: 16.3804 - ax2sax_loss: 0.6739 - sax2ax_loss: 0.8645 - mask_prob_loss: 0.9967\n",
      "Epoch 00067: val_loss did not improve from 17.57211\n",
      "60/60 [==============================] - 57s 954ms/step - loss: 16.3804 - ax2sax_loss: 0.6739 - sax2ax_loss: 0.8645 - mask_prob_loss: 0.9967 - val_loss: 17.6714 - val_ax2sax_loss: 0.7681 - val_sax2ax_loss: 0.8995 - val_mask_prob_loss: 0.9956 - lr: 2.1870e-08\n",
      "Epoch 68/200\n",
      "60/60 [==============================] - ETA: 0s - loss: 16.3805 - ax2sax_loss: 0.6739 - sax2ax_loss: 0.8645 - mask_prob_loss: 0.9967\n",
      "Epoch 00068: val_loss did not improve from 17.57211\n",
      "60/60 [==============================] - 57s 953ms/step - loss: 16.3805 - ax2sax_loss: 0.6739 - sax2ax_loss: 0.8645 - mask_prob_loss: 0.9967 - val_loss: 17.5901 - val_ax2sax_loss: 0.7647 - val_sax2ax_loss: 0.8947 - val_mask_prob_loss: 0.9957 - lr: 2.1870e-08\n",
      "Epoch 00068: early stopping\n"
     ]
    }
   ],
   "source": [
    "# train one model\n",
    "initial_epoch = 0\n",
    "logging.info('Fit model, start trainings process')\n",
    "# fit model with trainingsgenerator\n",
    "results = model.fit(\n",
    "    x=batch_generator,\n",
    "    validation_data=valid_generator,\n",
    "    validation_steps=len(valid_generator),\n",
    "    epochs=200,\n",
    "    callbacks = get_callbacks(config, valid_generator),\n",
    "    steps_per_epoch = len(batch_generator),\n",
    "    initial_epoch=initial_epoch,\n",
    "    max_queue_size=20,\n",
    "    workers=2,\n",
    "    use_multiprocessing=True,\n",
    "    verbose=1)"
   ]
  },
  {
   "cell_type": "code",
   "execution_count": null,
   "metadata": {},
   "outputs": [],
   "source": [
    "# if, for any reason, you want to save the latest model, use this cell\n",
    "#tf.keras.models.save_model(model,filepath=config['MODEL_PATH'],overwrite=True,include_optimizer=False,save_format='tf')"
   ]
  },
  {
   "cell_type": "code",
   "execution_count": null,
   "metadata": {},
   "outputs": [],
   "source": [
    "config['MODEL_PATH']"
   ]
  },
  {
   "cell_type": "code",
   "execution_count": 13,
   "metadata": {},
   "outputs": [
    {
     "name": "stderr",
     "output_type": "stream",
     "text": [
      "2020-12-07 14:30:29,323 INFO Load model from Experiment: 3D/ax_sax/unetwithdownsamplingaugmentation_new_data\n",
      "2020-12-07 14:30:30,068 INFO unet given, use it to max probability\n",
      "2020-12-07 14:30:48,204 INFO adding ax2sax MSE loss with a weighting of 10.0\n",
      "2020-12-07 14:30:48,205 INFO adding cycle loss with a weighting of 10.0\n",
      "2020-12-07 14:30:48,206 INFO adding focus loss on mask_prob with a weighting of 1.0\n",
      "2020-12-07 14:30:48,484 INFO loaded model weights as h5 file\n"
     ]
    }
   ],
   "source": [
    "# Fast tests of a trained model, the \"real\" predictions will be done in src/notebooks/Predict\n",
    "\n",
    "\"\"\"\n",
    "load past config for model training \n",
    "\"\"\"\n",
    "if 'strategy' not in locals():\n",
    "    # distribute the training with the mirrored data paradigm across multiple gpus if available, if not use gpu 0\n",
    "    strategy = tf.distribute.MirroredStrategy(devices=config.get('GPUS', [\"/gpu:0\"]))\n",
    "\n",
    "# round the crop and pad values instead of ceil\n",
    "#config_file = 'reports/configs/3D/ax_sax/unetwithdownsamplingaugmentation_new_data/2020-12-03_18_20/config.json' # Fold 0\n",
    "#config_file = 'reports/configs/3D/ax_sax/unetwithdownsamplingaugmentation_new_data/2020-12-03_22_02/config.json' # Fold 1\n",
    "#config_file = 'reports/configs/3D/ax_sax/unetwithdownsamplingaugmentation_new_data/2020-12-04_16_56/config.json' # Fold 2\n",
    "#config_file = 'reports/configs/3D/ax_sax/unetwithdownsamplingaugmentation_new_data/2020-12-07_12_36/config.json' # Fold 3\n",
    "\n",
    "config_file = 'reports/configs/3D/ax_sax/train_on_ax_sax/fold0/2020-12-17_11_44/config.json' # Fold 0\n",
    "\n",
    "\n",
    "\n",
    "# load a pre-trained ax2sax model, create the graph and load the weights separately, due to own loss functions, this is easier\n",
    "with open(config_file, encoding='utf-8') as data_file:\n",
    "    config_temp = json.loads(data_file.read())\n",
    "config_temp['LOSS_FUNCTION'] = config['LOSS_FUNCTION']\n",
    "logging.info('Load model from Experiment: {}'.format(config_temp['EXPERIMENT']))\n",
    "\n",
    "with strategy.scope():\n",
    "    globals()['model'] = st.create_affine_cycle_transformer_model(config=config_temp, metrics=metrics, unet=locals().get('unet', None))\n",
    "    model.load_weights(os.path.join(config_temp['MODEL_PATH'],'model.h5'))\n",
    "    logging.info('loaded model weights as h5 file')"
   ]
  },
  {
   "cell_type": "markdown",
   "metadata": {},
   "source": [
    "# Fast predictions with all files of the generator"
   ]
  },
  {
   "cell_type": "code",
   "execution_count": 10,
   "metadata": {},
   "outputs": [
    {
     "name": "stderr",
     "output_type": "stream",
     "text": [
      "2020-12-03 20:07:27,707 INFO Create DataGenerator\n",
      "2020-12-03 20:07:27,708 INFO Datagenerator created with: \n",
      " shape: [80, 112, 112]\n",
      " spacing: [3, 3, 3]\n",
      " batchsize: 10\n",
      " Scaler: MinMax\n",
      " Images: 120 \n",
      " Augment_grid: False \n",
      " Thread workers: 2\n",
      "2020-12-03 20:07:27,709 INFO No augmentation\n"
     ]
    },
    {
     "data": {
      "application/vnd.jupyter.widget-view+json": {
       "model_id": "3fcda926c12e41d386c1bac03825d31a",
       "version_major": 2,
       "version_minor": 0
      },
      "text/plain": [
       "interactive(children=(IntSlider(value=4, description='im', max=9), IntSlider(value=3, description='slice_by', …"
      ]
     },
     "metadata": {},
     "output_type": "display_data"
    }
   ],
   "source": [
    "# predict, visualise the transformation of AX train files\n",
    "import numpy as np\n",
    "cfg = config.copy()\n",
    "cfg['BATCHSIZE'] = 10\n",
    "cfg['AUGMENT_GRID'] = False\n",
    "valid_generator = CycleMotionDataGenerator(x_train_ax, x_train_sax, cfg)\n",
    "input_, output_ = valid_generator.__getitem__(0)\n",
    "x_ = input_[0]\n",
    "x2_ = input_[1]\n",
    "y_ = output_[0]\n",
    "y2_ = output_[1]\n",
    "@interact\n",
    "def select_image_in_batch(im = (0,x_.shape[0]- 1, 1), slice_by=(1,6)):\n",
    "    global m\n",
    "    temp = x_[im]\n",
    "    temp_ = y_[im]\n",
    "    sax = x2_[im]\n",
    "    # define a different logging level to make the generator steps visible\n",
    "    logging.getLogger().setLevel(logging.INFO)\n",
    "    logging.info('prediction on:')\n",
    "    show_2D_or_3D(temp[::slice_by])\n",
    "    plt.show()\n",
    "    pred, inv_pred, ax2sax_mod, pred_mask, ax2sax_msk,m_first, m = model.predict(x=[np.expand_dims(temp,axis=0),np.expand_dims(sax,axis=0)])\n",
    "\n",
    "    logging.info('rotated by the model')\n",
    "    show_2D_or_3D(pred[0][::slice_by])\n",
    "    plt.show()\n",
    "    logging.info('modified rotation of the model')\n",
    "    show_2D_or_3D(ax2sax_mod[0][::slice_by])\n",
    "    plt.show()\n",
    "    logging.info('predicted mask:')\n",
    "    show_2D_or_3D(pred_mask[0][::slice_by])\n",
    "    plt.show()\n",
    "    logging.info('target (SAX):')\n",
    "    show_2D_or_3D(temp_[::slice_by])\n",
    "    plt.show()\n",
    "    logging.info('inverted rotation on SAX')\n",
    "    show_2D_or_3D(inv_pred[0][::slice_by])\n",
    "    plt.show()\n",
    "    try:\n",
    "        print(np.reshape(m_first[0],(3,4)))\n",
    "        print(np.reshape(m[0],(3,4)))\n",
    "    except Exception as e:\n",
    "        pass"
   ]
  },
  {
   "cell_type": "markdown",
   "metadata": {},
   "source": [
    "# Predictions on the heldout test split"
   ]
  },
  {
   "cell_type": "code",
   "execution_count": 11,
   "metadata": {},
   "outputs": [
    {
     "name": "stderr",
     "output_type": "stream",
     "text": [
      "2020-12-03 20:08:19,977 INFO Create DataGenerator\n",
      "2020-12-03 20:08:19,977 INFO Datagenerator created with: \n",
      " shape: [80, 112, 112]\n",
      " spacing: [3, 3, 3]\n",
      " batchsize: 42\n",
      " Scaler: MinMax\n",
      " Images: 42 \n",
      " Augment_grid: False \n",
      " Thread workers: 2\n",
      "2020-12-03 20:08:19,978 INFO No augmentation\n"
     ]
    },
    {
     "data": {
      "application/vnd.jupyter.widget-view+json": {
       "model_id": "7bde9676ae554b3e925284ca81a94a64",
       "version_major": 2,
       "version_minor": 0
      },
      "text/plain": [
       "interactive(children=(IntSlider(value=20, description='im', max=41), IntSlider(value=3, description='slice_by'…"
      ]
     },
     "metadata": {},
     "output_type": "display_data"
    }
   ],
   "source": [
    "cfg = config.copy()\n",
    "cfg['BATCHSIZE'] = len(x_val_ax)\n",
    "v_generator = CycleMotionDataGenerator(x_val_ax, x_val_sax, cfg)\n",
    "input_, output_ = v_generator.__getitem__(0)\n",
    "x_ = input_[0]\n",
    "x2_ = input_[1]\n",
    "y_ = output_[0]\n",
    "y2_ = output_[1]\n",
    "@interact\n",
    "def select_image_in_batch(im = (0,x_.shape[0]- 1, 1), slice_by=(1,6)):\n",
    "    global m\n",
    "    temp = x_[im]\n",
    "    temp_ = y_[im]\n",
    "    sax = x2_[im]\n",
    "    # define a different logging level to make the generator steps visible\n",
    "    logging.getLogger().setLevel(logging.INFO)\n",
    "    logging.info('prediction on:')\n",
    "    show_2D_or_3D(temp[::slice_by])\n",
    "    plt.show()\n",
    "    \n",
    "    pred, inv_pred, ax2sax_mod, pred_mask, ax_mask, m_first, m = model.predict(x=[np.expand_dims(temp,axis=0),np.expand_dims(sax,axis=0)])\n",
    "    logging.info('rotated by the model')\n",
    "    show_2D_or_3D(pred[0][::slice_by])\n",
    "    plt.show()\n",
    "    logging.info('modified rotation')\n",
    "    show_2D_or_3D(ax2sax_mod[0][::slice_by])\n",
    "    plt.show()\n",
    "    logging.info('predicted mask')\n",
    "    show_2D_or_3D(pred_mask[0][::slice_by])\n",
    "    plt.show()\n",
    "    logging.info('predicted in AX')\n",
    "    show_2D_or_3D(ax_mask[0][::slice_by])\n",
    "    plt.show()\n",
    "    logging.info('target (SAX):')\n",
    "    show_2D_or_3D(temp_[::slice_by])\n",
    "    plt.show()\n",
    "    logging.info('inverted rotation on SAX')\n",
    "    show_2D_or_3D(inv_pred[0][::slice_by])\n",
    "    plt.show()\n",
    "    try:\n",
    "        print(np.reshape(m_first[0],(3,4)))\n",
    "        print(np.reshape(m[0],(3,4)))\n",
    "    except Exception as e:\n",
    "        pass"
   ]
  },
  {
   "cell_type": "markdown",
   "metadata": {},
   "source": [
    "# Temp tests"
   ]
  },
  {
   "cell_type": "code",
   "execution_count": null,
   "metadata": {},
   "outputs": [],
   "source": [
    "# check the memory usage\n",
    "import sys\n",
    "\n",
    "# These are the usual ipython objects\n",
    "ipython_vars = ['In', 'Out', 'exit', 'quit', 'get_ipython', 'ipython_vars']\n",
    "\n",
    "# Get a sorted list of the objects and their sizes\n",
    "sorted([(x, sys.getsizeof(globals().get(x))) for x in dir() if not x.startswith('_') and x not in sys.modules and x not in ipython_vars], key=lambda x: x[1], reverse=True)\n"
   ]
  }
 ],
 "metadata": {
  "kernelspec": {
   "display_name": "ax2sax",
   "language": "python",
   "name": "ax2sax"
  },
  "language_info": {
   "codemirror_mode": {
    "name": "ipython",
    "version": 3
   },
   "file_extension": ".py",
   "mimetype": "text/x-python",
   "name": "python",
   "nbconvert_exporter": "python",
   "pygments_lexer": "ipython3",
   "version": "3.6.9"
  },
  "widgets": {
   "application/vnd.jupyter.widget-state+json": {
    "state": {
     "11fcef082e014186866d7c462f5977a7": {
      "model_module": "@jupyter-widgets/output",
      "model_module_version": "1.0.0",
      "model_name": "OutputModel",
      "state": {
       "layout": "IPY_MODEL_6de277f598424980b833b2d02bc2c728",
       "outputs": [
        {
         "name": "stderr",
         "output_type": "stream",
         "text": "2020-12-23 15:55:02,155 INFO AX: (40, 64, 64, 1)\n"
        },
        {
         "data": {
          "image/png": "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\n",
          "text/plain": "<Figure size 1000x1000 with 14 Axes>"
         },
         "metadata": {},
         "output_type": "display_data"
        },
        {
         "name": "stderr",
         "output_type": "stream",
         "text": "2020-12-23 15:55:02,776 INFO AXtoSAX: (40, 64, 64, 1)\n"
        },
        {
         "data": {
          "image/png": "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\n",
          "text/plain": "<Figure size 1000x1000 with 14 Axes>"
         },
         "metadata": {},
         "output_type": "display_data"
        },
        {
         "name": "stderr",
         "output_type": "stream",
         "text": "2020-12-23 15:55:03,338 INFO SAX: (40, 64, 64, 1)\n"
        },
        {
         "data": {
          "image/png": "iVBORw0KGgoAAAANSUhEUgAABAcAAABuCAYAAABbcHrDAAAAOXRFWHRTb2Z0d2FyZQBNYXRwbG90bGliIHZlcnNpb24zLjMuMSwgaHR0cHM6Ly9tYXRwbG90bGliLm9yZy/d3fzzAAAACXBIWXMAAB7CAAAewgFu0HU+AAB+/UlEQVR4nO29eZAc+Vnm/2RWZmVl3Xd1dVff3VLrHo00kmak8YzlOTyXMbDG2MawJlgDu0AAuwsbuxw/TBDeNXcsAQQBBnaxAdt4PTZmwDOe+5RG99Xqq/qs+74rqyrz90fH951uqSW1ZnTr+4mYGE2ru7oqK7Mm3/d93ucRDMMAh8PhcDgcDofD4XA4nLsX8WY/AQ6Hw+FwOBwOh8PhcDg3F94c4HA4HA6Hw+FwOBwO5y6HNwc4HA6Hw+FwOBwOh8O5y+HNAQ6Hw+FwOBwOh8PhcO5yeHOAw+FwOBwOh8PhcDicuxzeHOBwOBwOh8PhcDgcDucuhzcHOBwOh8PhcDgcDofDucvhzQEOh8PhcDgcDofD4XDucnhzgMPhcDgcDofD4XA4nLsc3hzgcDgcDofD4XA4HA7nLoc3BzgcDofD4XA4HA6Hw7nL4c0BDofD4XA4HA6Hw+Fw7nJ4c4DD4XA4HA6Hw+FwOJy7HN4c4HA4HA6Hw+FwOBwO5y6HNwc4HA6Hw+FwOBwOh8O5y+HNAQ6Hw+FwOBwOh8PhcO5yeHOAw+FwOBwOh8PhcDicuxzeHOBwOBwOh8PhcDgcDucuR7rWDygIgnGtH5PD4XA4HA6Hw+FwOBzOexiGIVzLx+PKAQ6Hw+FwOBwOh8PhcO5yrrlygMPhcDgcDudmYjaboWnazX4atwSSJGFoaAiqquLs2bPo7+8HAJRKJRSLRTSbzZv8DG8dJEmCLMvQNA2dTudmPx0Oh8O54QiGcW23APhaAYfD4XA4NwdBEHCt/79+O2E2m9HV1QW73Q6LxQK3241arYZSqURFcLlcRiqVusnP9MZgsVjQ19cHr9eLTCaDX/iFX4DNZkOhUMDZs2eRSCQQj8exuLiIRqOBUql0s5/yTSMSiaDT6cBkMqFarUKWZfrz3XxcOBzOrc21XivgygEOh8PhcG5zJEmCruvQdZ2+pijKXTUVFkURHo8Hsixj48aNGBkZAQBMTExAURS0Wi3U63WYzWa0220AQC6Xu5lP+bphs9lgNpthMpkQCoUAACaTCYIgQJZlZDIZzMzMIB6Po1KpoNFoQBRFyLKMVqt1Rysv7HY7JElCoVCgrwWDQfh8PiiKgnq9Dl3XUa/XYRgGLBYLSqUSRFGErut0Lq281jgcDudOgTcHOBwOh8O5TZEkCWazGVarFYIgoNVqUeEiy/Jd0xwQBAEWiwXBYBDtdhterxcWiwWzs7NoNptU2LVaLYiiCLvdDl3Xkcvl7ji1hclkgslkgizLsFgsaLVaaDabsFqtOH/+PKxWK9555x1MTk6iWCyi1WoBWG4mmc1m6LoOwzAgSRI1Ue4URkZGYLFYkM1mUavVoGkaRFFET08PAoEA3G43YrEYNE1Dq9VCo9Ggn2XH4046VzgcDudCeHOAw+FwOJzbEEVRYLPZ6N+qqsIwDNTrdWiahkqlAlVV0Ww27/gpp8lkgtvths/noyLunXfeQaVSgc/ng8lkQrlcRqlUouJZ0zSYTCYYhnFHFXwejweapqHZbMLv96NSqaBUKqG3txepVArNZhNLS0swm81wuVyo1WpoNpsQBAGiKMJqtaJcLkNRFBiGccfs3gcCATzxxBPIZrN47bXXSAEgCALcbjfsdjs1B1RVhdPpRLPZRKlUgiAsq3ZFUbxjFRUcDocD8OYAh8PhcG5TmAz6bpmOr0QURQSDQZjNZjSbTXQ6HYiiCFVV4fF4UKvV0Ol04Ha7kUgk0Gq17rgpMLA8zTWZTFAUBYFAAKqqIhAIoFQqYXJyEk888QT5DrRaLczOzsJqtcLpdKLRaMBqtaJSqQC4/f0aBEGAIAgIhUIQRZHUAp1OB7quw+l0Yn5+HtVqFZqmQZZlSJJEP8tWCiwWC8rlMprNJmRZJiXB7QhbITGbzdi6dSsGBgYAAFarFYVCAYIgQJIkNJtNxGIxdDodJBIJdDqdVdcLbwpwOJy7Bd4c4HA4HM5th8lkgsPhQCQSwblz5+6Y6eZ6cbvd6OrqQqlUgq7rUFUVAGAYBgRBgK7rsNlsqFQq0DQNPp8P2Wz2jjtOXV1d8Pl86HQ6CAQCEEURCwsLqFQqeOihh6jodTgcsFqtsFqtUFWVjhtrMGmaBlVV0W63b9si0Gq1QlEUpFIp/OAP/iDC4TCeffZZmEwmWCwWGIaBvr4+vPrqqzAMAyaTCaIoQhAEahZcCFs5uB0xmUwYHBxELBbD6OgoJicn8eu//uu0KiBJElwuFwzDwIkTJ9DX14dSqQRN01Aul1GpVOj1M+XASi8GtqrC4XA4dxK8OcDhcDic2wom+RVFEePj4zAMA16v9441l1sLm80Gk8kEu91O++WCIKBarSKTyUDXdZKQC4JA7vyKolw0Fb1dcblcEAQBqqqiv78fi4uLkGWZXOa/+93v4od+6Idoiu7z+bBhwwacOXOGfBk6nQ4sFgva7TYZ0N2OiKIIp9OJ/v5+WCwWnD17FidOnIAoiigUCshmswCAxcVFmM1mBINBCIJAUYaKokCWZZTLZdhsttu+8JUkCYODgwiHwygUCjh+/Dh0Xaf1AYvFArPZjJmZGbjdblSrVbRaLSwtLaFer1/0eOxYrGwcqaqKRqNxxzXcOBzO3Q2PMuRwOJxbEDbRu/DG83aXPr9f2JSPRYu1222EQiE4nU5UKhVks1nas74TEUWREglcLhecTic2bNiAWq2G2dlZhMNhKIqCSqWCfD6PdDqNarW6qsi7U1zWg8EggOUGidVqhSiKAJZ37R0OB4rFInRdx9zcHJrNJj70oQ8hFAohnU5jfHwc586dQ09PD+3TN5tN8iSQZRmdTgfVavVmvsR1IUkSNm3ahEAgQNdBT08POp0OyuUy2u022u02HQfDMLBt2zYcO3YMhmHQ9dJsNtFqtaCqKiVcWK1W5PP5266JZLFYEIlEcO+996JeryMYDKJSqSAajeL06dOo1WoAlv0H+vr6kE6nMT8/D1VVV63eMA8PTdMoxvDCz97bvYHC4XDuDHiUIYfD4dwFMNkvM05b+fW7ESaZbrfbMJlMUFUVLpcLmqbB7/cDAAqFAmw2G0XW3W6FzaVQFIWm34qiQFVVWCwWOi+sVivcbjcZ0QmCgNnZWQDLE09JkmiazqT19Xr9tlNaqKoKq9UKs9mMSCSCVqsFwzDISM4wDHrvFUWh752enkYikUC73UaxWASwfFxYI4n9ud1uo9Fo3BbXmM1mw7Zt2xAOh1GtVuH3+2Gz2aghwFYEGo0GnE4nCoUCTCYTFhYWYLfbkcvl0G630Wq1yLGfrRnYbLZVvhUsuQDALXlNud1uRCIR9Pf3w+PxQNd1WCwWmEwmNJtNfOxjH8Pf/u3fIhQKIZFIIBAIoLu7G7IsY//+/fjQhz6Eb3zjG/TZIkkSmVgWCgWIokjmjIZhrDpvAFBzijcKOBzOnQBXDnA4HM4thslkIhf6crlMN7nsxlyW5bsqUktVVXLdb7fbcDqdCAQCaLfb8Pv9VOhomkbme3fCsfF4PDCbzWQox2ILAaC7uxt2ux3VahWVSgWJRAL33nsv9u3bh0ajgXfeeQcLCwuIRqOQJAmdTgdms5nOHU3TbotiRhRFeL1ebNiwgSbBqVQKZrMZNpuN1imAZcl3o9FAs9lELpeDyWSC2WxGqVQixQQzb7RarbDZbKhWqygUCnSMAazZlLtVsFgscLlc6OrqwubNm6EoCilCWPOj0+nQP6wh1NfXh1wuhyNHjsDlcpExIVMntVot2O12isK02Wyo1WqQJIli/drt9i0loQ+FQrj33nsRCoVgtVphsVgAvCf9n5iYgKZpGB0dhSiKiMVi8Hg8UFUV2WwW1WoVTz31FPr7+/GHf/iHePHFFwGAmizs3Go0GlBVlfwpbkdFBYfDuXPhygEOh8O5w7HZbDS5YnFriqIAWC5cGo0GqtXqHVEArwc2zWOO4cFgENu3b0er1UKpVEIymaQi2mQyQdd1clm/3dYMnE4nvcfMJd5isdB00mQyAQCazSZF9kmSBLfbjUajgXw+j76+PuzcuROHDx+G2WwmpYDFYqFCmj3mrawe6Orqwvbt28l8MplMwuVyQZZliKJIZnFsNYA1j1icI1OWaJpG54bdbockSahWq3S82u32qqg6NiW/1QgGg9i4cSNCoRAURcHAwADK5TIMw0CpVEK5XCY/iU6ng0ajgWKxCE3TcP78eXzxi1+Ey+XCSy+9BEmSaCWj0WiQISGbutdqNVgsFkiSBKfTiVKpRPL6W4FgMIht27aht7cXHo8HHo8HzWYT6XSamj2iKJJBZTqdhtfrRSgUQjAYxNNPPw0AeP755wEA8/PzcDqd9HnLVgharRZEUaTzpt1uIxwOI5fLoVar0ecObxZwOJw7hVvz/4AcDodzF2O322Gz2VCv12E2m0nSarFYqBByuVyo1+vkvH0nwwo3NsW02WzYsWMHHA4H/vzP/5wi1wBQNJ1hGKsmf7cykiTB4/FAkiQUi0W43W74/X4oikJRawBW7YczIzSTyYRWq0WS8UajQRF9wLLkulgswuFwkHwcuLVd6Lu6ujAyMoJIJAKbzUYrNmazeVWs3sp1AE3TUK/XqWnCGiGapsFisazyWmg0GpBlmR5X13VqKJlMJioKbxUCgQD6+/sxPDxMcY1msxmGYaBWq0FVVQiCQCsVrMBlCoparQa/34/p6WkMDg5iaWkJx48fh8ViIS8ClmzBfAdKpRLcbjckSYJhGHTcTSbTTVUPsGZFKBQCAGpiBINBOh+y2SxyuRw1TSRJQqvVQi6XQ6lUQldXF1qtFrZt24Z77rkHp0+fhqZpcLlcaLVadL2xtAJZlqEoCjWX2u02IpEInWuZTAaFQuGmHRMOh8O5lvDmAIfD4dxC2Gw2eL1eiltjTvRs77Ver9MklRU/t4M8/P3CijU2IWcSaFVV0dfXh+HhYbz44otU6DBJeKvVgsPhgM1mo/37Ww1BEGCxWOh59vT0IJfLQVVVSJK0qjBrt9sQRZFeP8tvVxQFmqbRLvTCwgI6nQ56e3vhcDjgcDhQLpdpHYEdT2C50LrV3NY3bdqED3/4w/B4PHSusySBldGMbIrLJO9spYCdJ61WC4qioL+/H9lslqbebMrLpuKyLFMjgO3ds2LwZk/K3W43xsbGsGnTJvj9fvLd0HUdxWIRiUSC1iEajQZJ/5vNJn0NWE51uOeee/DKK68gEAjQ49RqNVKomM1m1Go12O128l1gyiVWBFut1ptq1Mgm+Dt27EBXVxe9r5qmkTomHo8jlUohFovB6XTSOQQAiUQCsVgMdrsdZ86cwcDAAHbv3o2ZmRnyWwCW4wpZM0nXdfpMYY1ak8kEr9cLSZIQj8dvqeuHw+FwPii8OcDhcDi3EMFgEMFgkIoeSZLoxpQVMZIk0R6+yWRCJpO5bVYMWJQec/pe6fi9ckLJEASBvsZu2LPZLCYmJjA0NIRHHnkE3/rWt2jqx44ZU1q4XK6b9VIvi9frhaIosNvt6OnpQaPRgNfrhc/ng6ZpqFarVMhqmkZyeUEQIMsy7U7HYjHyE3A4HKhWq1hYWKB9clb4GYZBagLgvUKYNVxuNg6HAw899BBGR0exb98+ZLNZzMzMkK8Ck8evlG+zP6/cm9d1HYODg3j77behqioGBwcBgBpGlUpl1ZqK2WwmhQ67rli0Ya1WuylycUEQ4HK58NGPfhT33XcfVFWFruuoVCpoNpvkMZHJZOB2u5FOp9FoNFCr1dBqtdBsNklFwd73zZs34+2330Y2m6Uit1gsQpIkajhYrdZVqwWSJKFWq8FqtUJVVRQKBZTL5Rt+LNh7I8syRkZGcP/990NRFJw4cQKFQgH5fB4OhwPNZhOpVArJZJLOf7Z+UqvVqGnC1AWzs7M4ceIEXR8sDWRlagFrGlgsllWrXa1WCyMjI8hms7fE9cPhcDjXCt4c4HA4dwRMen67FMmXIhAIIBwOI51O00262WyGIAi048oKu2AwCLPZfEWDrJvtps32uNnEje3xsqlcq9UiAzU2AWawSTAzZ2y1WlhcXMSrr76Kxx57DD6fD4qioNFoUFG3sui91XbqZVmG0+nEfffdR8V6T08PNE3D0tISFUMAaH2g2WySysBisUDXdWzcuBE+nw+ZTAb1ep1k8kxCv7i4CLvdjkqlgkqlArvdDlmW0Ww2KfmANSBuNoFAANu3b8dP//RPo1gs0nHw+/0oFAqo1WrUMGH+AMxpf+U5zQq7e+65B2fPnqVrJhAIIBgMolgsUqyfzWZDJpOhibPNZoPFYoGqqqhWq8jlcrBYLKhUKjf8eJjNZtx77734zGc+g3w+j1dffRWhUAiiKGJiYgLJZBJ+v5+m/alUCoZhoFgs0lrBymup0Wggm80iHA6j3W5jamoKuq5Tg9HhcJB/hyAI8Hq9qFQqcLlcMJvN2LlzJ7LZLI4dO3ZDj4MoinC5XHC5XLBarfB4PNi/fz9GRkaQyWTQarXoXAmHw2RImM1moSgKstnsZT1H2u020uk0Ff/Mz6LT6dB6BWuGOJ1OipfN5XJIpVLYv38/BgcHkUwmKSKRw+Fwbnd4c4DD4dwRsBvDer1+k5/Je7yfhoXP50M4HCZHdcMwoKoqotEo7UTruo5arYaZmRmUSqUrTjeZTJ0VDjcK1sRwOBwIBoMUybeySGVFHtulZ4XwyvfRYrHA7/ej3W5TMXju3Dl8/vOfx+/93u9heHgYqVQKDoeDpM9s0n4r5dWrqopIJIIf/MEfhM1mA7DsrJ5OpyFJEoaGhlAqlZBOp0k1YDKZKLaQ7YT7fD5UKhV873vfw969ezE+Po5sNgubzQa32w2n04lsNouPfvSj+L//9//CZrOtmgqzhoAkSTfdsFFVVfzMz/wMdu3ahenpaXi9Xui6jlwuR40R5hZfLBah6zqq1eqqYozF94VCIXQ6HZw7dw6hUIjMKlVVhdvthtvtRq1WQzabhaZp5M7fbDZht9vR19eHcrmMVCpFRoY3GkmS0N3djX379uHP//zPoWkafD4fCoUCUqkU8vk8rVqwdIJ8Po98Pr/meynLMlRVxfe+9z1kMhns27ePjilrDhmGAbPZjK6uLlInBAIBamTt27cPr7766g3fqw8Gg9i9ezephvbu3YuxsTHUajX09PQgnU5jZmYGnU4HS0tLcLlctIJyNf8f0HWdvCnMZjM0TYOiKGQ2WCqVYLFYYLVaSfWkKApOnjyJZDJ5S/0/h8PhcD4ovDnA4XDuCOr1OlRVhcfjISOpGw2TfDPpvN1uBwCUy2WStF4OVvixopYVAPv27UO9Xkc0GsXGjRuRzWZpx3g9xd3Km1d283u9EQQBo6OjNOEGlifhLF7M5/OhWq1Sw0BVVXQ6HaTT6Yt8AgqFAsLhMO3VswZDpVLBX//1X6O/vx+ZTAY//uM/jm984xuoVCoQBIGaM5eDNWCu9w2+IAj4pV/6JTQaDTz44IN0LAzDQCQSQaVSQT6fR6lUgqIoSKVSq9IqJElCLpdDtVpFf38/NRf+7d/+DZqm0UpCOBxGX18fdF3Ht771LdTrdSiKQhGQrMHEvAduZvNEVVV87GMfw+joKKLRKKxWK+bn53Hq1Cl0Oh04nU5UKhWUy2WoqgpN0zA9PY18Pk/Xms1mg8lkQi6Xw8zMDHp6etBsNnHffffh2WefhcPhQD6fh91uRyQSAQCS5ptMJlSrVTidTiiKgt7eXkxNTd3UY9Ld3Y2f/dmfxTe/+U2amn/mM5/B0aNHMTExgWq1ivn5eVqvuRLMqDCbzSIUCqHVaiGfz9NqQafTQb1eJ9WF2+2GqqpwuVx0jrBjfyOn4w6HAz/yIz8CWZZx+vRp8lD42te+hp/6qZ/CH//xHyOZTNKkn0V6vl/lGFvdYk0jds0xpVatVoPX6wWw3OwdGRlBLpejlRQOh8O5U+DNAQ6Hc8fAdohZfvmNahB4vV4EAoFVk6Z6vU4KAKfTSU7Zl5vy1+t1ZLNZtFotpNNpKIoCSZLw9a9/HX/1V3+FL3zhC5ibm0MoFEK5XIbdbqed6cvBvo+53V9vuru78alPfQqBQACVSoV2txcXF6EoChYXF7G4uIiuri4IgoBQKEQxYvV6Hel0+qLH3LBhA4D3HMRZUfPyyy9j//79AID/83/+D61esJt6VlRfihtR8IiiiF/5lV/B2NgYPB4P5ubmKEte13UkEgmk02laAeh0OhAEAZlMhnbpmRkbK+QOHTpEBoZsAs7M+ljM3VNPPYXPfOYzKBQKpLxwOp2wWCzIZrM3RTLP8Hg8eOKJJ+B2u0nebbVacfz4cVitVkrrqNVqSCQSNDmv1WrkpWC322nqPzg4CF3XMTMzA4vFgm9961vo6emBqqqIx+M4duwYotEoTdtVVYVhGBgYGEAikcDTTz+9yun/RnsNiKKI0dFRPP300zCbzdi/fz9KpRKi0Sg++9nPYnh4GFarFel0es3r41IwxUkkEkEymYQgCFBVFQBoz15RFCiKAqvVCkEQEAwGqfkCAH//93+P06dP0/NkUYfXC7fbjd/8zd8EsNxA2r9/P63NfOhDH8Ibb7xBjZFwOIzh4WF8/vOfx7Fjx/DlL38ZtVoNxWLxqn7nyhQYtobFvCzq9ToqlQpsNhtcLhclINjtdmzfvp38KXRdh8vlQjwev7YHhMPhcG4gvDnA4XDuGNjNPWsKKIpyXYthNom0WCwwmUyoVCoQRRHhcBhWq5Umv2wa3ul0qPi7FNVqFdlsFgsLCwCWJ1rhcBgLCwv4jd/4DXz6058m1/Z8Pr+uibdhGDAMgybu11M58OEPfxj33HMPtmzZgkwmg2w2i3g8TjJxFrtnGAay2Sx8Ph8VJQBIVl6tVldNcL/zne+QRwErWpiPweuvvw7DMOB2u+FwOFCr1ei43GzJryzLGBsbw/79+0mWzUzRcrkcEokEFb1LS0vI5/Or0gdarRYZqzE1BCuanU4nzGYzKTBisRhyuRwymQwqlQri8Ti+8pWv4LOf/Syi0Sg2bdpE5mydToeO441meHgYH/3oR2EYBpxOJyYmJjA5OYmnnnqKHOAXFhYwPz+PxcVFJJPJVRNh9mfW3Mjlckgmk3C73VS8RiIRdDod2hnP5/PI5XIwm81QVRWyLMNqtSIWi0GWZUSjUQBAsVhc92eGIAjXxONEURTs2rULDz30EDZv3gy3243h4WE899xzePPNN7Fnzx6Uy2WcOnXqImm/xWKhaMZLNUMbjQZmZmYQDAaRz+fR19dHngQmkwk2mw02m41eN0uCYCaE2WyWriO20rQWmzZtovO3q6sLsizjzJkzkGV5zeuQnc8rFVUPP/wwfu7nfg6nTp1CPp/Ho48+CgCYnJxEuVyGzWbD/v37sWXLFrjd7lWPt2/fPpRKJZw/fx6lUgkulwsnTpyArutIp9P0WtnKiCzL5G/Cmka6rsPv98Nut5NBIWsc2Gw2ih3t7e2FYRg4deoUrYKs9/OYw+FwbmV4c4DD4dwxsAKY3TRezyJ49+7dVGjV63WSJ/f09GDjxo3QdZ3c40+cOIFMJoNyuXzF1YJms4lSqYRCoUArCqlUCl/84hfxpS99CZ/73Ofwta99DeVyed3FHYtHZFFfwHtFxbVCEAT88A//MD7ykY/Qc2aFgslkgqqqyOVyWFpaojUCp9NJ0m62H87k3Re+Nl3XKVu8WCzSVM8wDGzcuBHj4+NIp9MIhUK0O5zP568ovVYUBYZhXJdzxWq14r777sMnPvEJAMsT0Vwuh+PHj6NQKNBryeVyiMVipHIwDAOyLK9KKACW38dt27YhEokgm80iGo1CFEVYrVaK7lMUBfl8HtPT06hWq9i/fz+ZqWUyGQQCAUQiEeTzeZw7d+6av+b1HpfBwUFIkoSlpSU0Gg243W783d/9HVKpFBKJBCqVCnlMrKcAbzabyGQyUFWVVCm6riMej0NRFHg8Hkp1YDGQzMOhWq0iFovRLv6VmoqStHzrtFJd8H6vJ5PJhLGxMfT19SESicDtdqNUKuGdd97Ba6+9BrvdTuZ4sViM/ENSqRRCoRAKhQJFUl4OXddRKBTgcDhQKBTgcrkontBqtUKSJPj9fjQaDVitVjQaDXg8nlVRmleCHU/WpEmlUtiwYQPOnj0L4L1mLUsTsdlskGUZ2WwWJpMJ27dvx7333os/+IM/QLVaxfDwMD321NQUEokERkdHMTo6irfeegvRaBT/8T/+x1XP4SMf+QgkSUI0GsUP/MAP4M0336T3i6mnWPwra9IypVmhUEC73UZ3dzeA5cZeX18fgsEgeXoYhkGfT/F4HIuLi/B6vejp6UEikUCpVMKRI0fWfwJwOBzOLQZvDnA4nDsGNg1kLt7XYzLqcrng9XrJMXzbtm3odDqIx+OoVCrQdR2jo6PQNI32x1nsHJtMXY5oNIpGo0HFqizLVOz+2q/9Gh5//HEIggCTyQSPx7OuXeCVEWcr3d6vFZIk4Z577sHevXsRCAQgiiIWFxdJDs/2d5ks3jAMeL1eOJ1OAKBJHitgWEFy4TSUGfV1Oh2aAnq9XlSrVUiShFKpRNNopj640vFmz4G5ll+rRAebzYatW7fiiSeeQH9/P33d6/XCbrdjaWkJCwsLFLumadqqKSpzk2eGcrIsw+VyYdu2bajVati4cSPa7Tay2Syy2Sza7TY9/1arRU70iUQCBw4cwKFDh5BMJjE/Pw9ZlhEKhSAIAmKx2DV5veslFAqhu7sbsVgM7XYbGzZsgM/nw4kTJ5BKpchjgL3vV/N+dDodOtdDoRDq9TqtlrAYupWpGGx9odlsUiRooVC4YoIDk7iza0gURWqCsd+xXtgUXxAEFAoFxGIxinVkU/MLOXnyJF544QWcOHGClFIrkxYudczY9FsURWou6rpOkaLMv4GtZrEGpyAItH9/uSZaIpGgJozJZILf70etVoPb7Sa1jCiK1NRjcYOqqmLr1q3IZDLkpxCJRFAqlfA3f/M3CIVCyGazeOWVV3Ds2DF4PB489thjdLxXYjKZ0NfXh7feegu///u/j3q9jk2bNqG7uxvRaJSeUy6Xo9UJ5g9TqVTQaDSg6zokSYIkSbDZbLDb7SgWi2i327Db7cjn8+jv74ff74fNZsPCwgIajQYlPXA4HM7tDG8OcDicO4aVmd3XA2bUZbVa0dfXB5fLRZJ9n88Hj8cDj8eDVCoFt9sNj8eDiYkJihhbz/PK5XJwOp2Ud8+cugEglUrhtddeo+nXepoNACjvnDUVTCbTNVu3kGUZAwMDeOaZZzA2NgZgeaJaKBQQj8dpF35xcRGpVArtdhuKoqBSqZByoNVqUROEPSbb4V1ZsDMXdUmSkMlkKKrtwx/+MBYXF/Huu++iUqlQXv16mkPsGAPXNuoxGAziwx/+MLZs2UJfKxaLOHv2LI4dO4bZ2Vnk83l6nRfCCth2u41Op0OrKydOnEA4HCYZPZuAlstlMrDUNA0LCwuknHj88cfx+uuvw+VyoV6vY3Jykgqay3FhBOYHbZ643W4MDg7C6/Uil8uhu7ubGif79+/H/v37cf78eXzlK19BMpkkIz32Xq7HLZ81A9LpNCKRCCkxWLPJYrFQYR8IBFAqlWAymcjhfj1NM0VRqBBfqT5gsYhXWjcQRRG7du2i8579k0wmsbi4iIMHD17W5G779u3Yvn07fvVXfxULCwu0erS0tEQNtbXeJ/a6LRYLJEmCKIqr9usrlQoZdDLVUygUorUD5up/KVqtFv09a97l83m0Wi0MDQ2RIoQ1CUwmE1wuFwYHB0kx1Gw24fF4YLfboWkaTp8+jePHj0PXdTLXXHlNrUWxWESr1UK1WoXdbkc4HMb09DQEQUCpVKKm5YUNHva82bFpt9toNBowm8302WS1WuFwOGAYBgqFAqrVKpLJJJleMhNaDofDuV3hzQEOh3PHwKZbbBLIJl5sWv5B9oNlWYbP54PT6YTX60VXVxdsNhuy2SxNOtnO+4kTJ9DT04NwOIzZ2VmkUikq8NlN8aX2g5lpnN1uRzKZBACaqiuKgqmpKQCgm9/1vCZFUejmHnhv5/2DIssywuEwDhw4gG3bttHXV3oKpNNpFAoFWqtgN91MIWA2m1fdULOprMlkgiiKFx0nVlDZbDbUajUYhoEf+7Efwz//8z8jFouRWsNqta6r0LsezvSqqiIcDqO3t3fVc37nnXdw/PhxTE1NUU77pVjZFGLTYeZZUSqVkEgkyH3eYrHQ+8miIVlTplKpUBFst9tRq9WQz+cpKvFyWCwW8jhgfhXs8a/memJFeXd3N9xuN8V03n///Rd978aNG/Erv/IreP311zE3N4dXXnkF3d3dqNfrq5oDFouFjsmFx00QBOTzeUQiEQwMDFCjwWKxrEoSsdlsEAQB5XKZikDm7n+568NsNsPpdMLpdFKsImu8sf3/lU0nYLn4tlgsEEURY2NjGBkZgc/nI5VNNptFp9PB8PDwKqXJ5XA6nZTUwa4b9g+Dxe6t9ODIZrMIh8OQZZkKYVYos89NwzDoOmLGqKxwvtx5YxgGxWaWSiVYrVZqYK2MIjWZTPB6vRgYGEBfXx9yuRytGjE1Q6lUogaa2WxGT08PnnnmmSsel127duHw4cP0+cxMUZm5IHue7Pi02216vzudDlKpFGw2G6WssPhCALR2YbPZ4HQ64XA44Ha76VhdjWqEw+FwbkV4c4DD4dwxsBt0RVHoJt9qtaJUKn2g5oAkSXA4HLDZbDTlEkWRZP2Li4vI5/P0/TMzMygWi0gmkygUCiT7Z9JmALRPvhasKLTb7auixrq7u+Hz+XD8+HGaKq/nNamqSs7ubLXgg8Jy0e+//348/vjjq6b08Xgc2WwWqVQK0Wh0lXP4ysYEmwTW63VIkgRBEKAoClqtFhUjF04qC4UC6vU6FWfsmEqShJ/8yZ/E1772NdRqNSpyrsS1dqVn58jQ0BCZ4bFjo2kaIpEIyuXyKun8SpxOJ0ql0qqvMU8EdnxmZmYgCAKSySTtUzO/jZUTULZi8L3vfY/+zGTT7GcuBytm2+027YlLkrTu5gBLD3G5XHA6nfD7/SRbf/DBBy/5c3a7HR/96Edx/PhxpNNpUr64XC7yBbhUkbrSPC6dTsPj8dBrZf+w9SNBEOBwOMgPg/1uTdMu2xxgpphMdp7JZCiFAnjPaG9lAcpiSu12O7Zs2QJd17Ft2za0Wi0sLi4inU7D5XLhvvvuu+wxXcmBAwfwyiuvwDAMMkNlhp+swGYNUoamaYjH47DZbAgGg6u+l10ziqKg0WggEAiQ3wBruLLklUvBfB2YaarL5UKj0cDS0hKq1So1Iux2O7q6uuic8Pl86HQ68Hg8tLvPGooA0NPTg6effhoPPPDAuo5NX18fstksJElCNpulzwKmfmFNJHa9sKK+1Wphfn4ewWAQXq+XYkBZdKosy8hkMggGg/T563K5KIJ2aWlp3e8fh8Ph3IqIN/sJcDgczrVi5T46i+ti+/rvVw5tMplgt9sRCATg8/mwa9cuWK1W2O12uN1u2O12cr2OxWI4efIkOp0OGc8B70Visf1VJqu9FEtLS0gkEpRdzyZ3jzzyCP7Lf/kvuPfee+FwOACsTwrPJqFsAs2mZ+spntdClmUEg0Hs2bMHH//4x2Gz2ejvXnzxRXzve9/Da6+9hnPnzl0xUqzZbKJcLqNUKpHMnUXJsWJ0rZ8plUo0Pf7v//2/I5PJ4J577sHOnTshSRJNC6/EyoL6g6IoCgYHB7F792709PRQYcN4+umn8elPfxof/vCHEQ6H15SOs2nlhbCmCivMfT4fFaBMWQKAikHWIGP+FUxpwva919soYzJ9lvV+NV4AdrsdkUgEvb29CAQCdC3t2rVrXfLrcDiMj33sY5RKEAqF4PF4IIoiGRauRavVQnd3NxqNBg4dOkTNFrY6oKoqSevZ8azX6ygWi9A0DZIkXXYlRRRF1Ot1JJNJVCoVeDwedHV1UYHJGjDs3DKZTHA4HOju7sbY2BgpaGw2G06dOoVYLIZAIICdO3fS59Z6eOihh7C4uIhGo4FarbaqgcSuG+bDsJJOp0PKFdZsYV9nxpZM3cG8U1gjjzVbLoWmacjn8ygUCmRKmM/nUSwWSX3CPk9dLhc1c5ipX71ex+LiIqUTsPdzYGBg3Y0BYLmZ4Pf70dfXR2slZrN5lU/BpYxIWZIB+/+GKIpwOp1YXFyk4zo3N4fnn38ex48fRywWQzqdxszMDKanp9f9HDkcDudWhCsHOBzOHQHbo2eO9263m6Y9Pp8PyWTyqhoEbPpntVpJIv7kk0/CMAyEw2HU63X83d/9He655x64XC4Ui0UytQuFQjSNY47yzMW70+msK6c8k8mg3W7j3nvvhd/vR7FYxEc+8hHE43H88i//Mv7+7/8er732GrLZ7BWLYBYLeOE09GqVFOx4sILvwQcfvKjIe+ONN5BIJJBIJNadAMCKE7PZDEmSUCgUYLPZaEVgrSKw2WwiFovB6/Wi0WjQa/nEJz6BYrGIl1566bpmsV8Iy6nfsmULTCYTarUadu7cueb37tixAwsLC5AkCbOzs2i1WvQaWaTeWjCTRZvNRtPMVquFQCBAjYOVXgVsF95isVBDiE1u1/Pe1+t1atSwwne9SgsW77Zz505kMhk0Gg3U63Vs2LABIyMjV/z5fD6PUCiEUCiEgwcP4mtf+xqKxSL8fv+6nvv09DSGhoZI9i/LMkRRRDabhdlsJmd+9ppYxF2xWITT6UQgELikWaMgCGg2m5Qo0mg0cOLECVIUsOuMFZZsOs+KYpPJhFAohMOHD+PMmTPo6enBU089hUAgsK5jG4/HEQ6HASzH9508eZIMHtnrYbAVnJUrGWz3fnx8HG63G6FQiI5Po9Gg1YhyuUznjaqq6HQ6V0z/YI+dyWQuep9Yk+q+++4jb5ChoSEUCgW43W7EYjE8//zz8Pl8FOVqtVrh8/mu2lx2x44dMJvN+MY3voFUKkUqEfa5fCXMZjNdK6yRNDExgUqlgmAwCGD5c4udB2azeZUyjMPhcG5XeHOAw+HcEbBcahaLt1KazSaPV4PH44HNZoPD4cDOnTvxAz/wAzh16hT27NmDoaEhZLNZHDt2DP/0T/+Ecrm8ytSOxQUKgkA3maqqUpHEJPNX2vtnmeJ2ux3d3d34kz/5E/zcz/0cAOBTn/oUhoeH8fzzz+Ptt9++7ONcK/PBUCiEn/7pnwawLJ8fGhoCAJRKJXL9Z2scrCi6mh3cfD6PSqUCv99P0uRyuXxJCbuu68hkMshkMsjlcpicnISqqpidnV23udy1MCEUBAHDw8N48MEHEQ6HoWkaFYJr4fP58Nhjj2Hr1q2IxWI4cuQIjhw5csV9bgZregSDQZLss+YPa2o1Gg1qQq3MXr+a18t20CVJuqpzyGQyYWRkBH19fbQmUSgU8OSTT2L37t3reox0Oo3JyUl0dXVRAcm+vt7nztZxLBYLcrkcGdT5fD4Ui0VIkoR6vY5KpYJsNkvNrHw+v2pN6EIWFxfJ2HN+fp6+zpRLK4lEIhgbG4OiKPS7h4aG8KUvfQm6ruMnf/InV/l1XIrp6WmKYMxms4jH47j33nvhdDoxPT29pvpFVVVYrdaLCnrDMHD//fdjaWlp1YpIqVSCz+ejyD6bzYaJiQkyE10PzWaTPBl0Xb9IPeN2u+FyuXDgwAE0m03E43HIsozXX38di4uLMAwDp06dArCc7LFt2zYyfz116tQlj9Xs7CwEQVjl1/D666/T87ZarfijP/oj/PVf/zVee+21K76O2dlZir1kHior15VisRglXTATyrXSEzgcDud2gzcHOBzOHYHL5aLCLJFIXGRgdjXY7Xb09vbC6XTC7XZjw4YNUFUVe/bswblz59Db24t4PI5Go0Ey7bUwDGPVfj3wnkEYm8RdrhgslUp49913MTo6inA4TNNCRrvdpj3n683evXvx8z//83C5XBf9ndPpxKlTpzAwMID//J//M15++WXk83mUSiUkk0lEo1GawjJX9UvRarWQTCYRCoXQbDZhtVrRarXIfPBSsEi/m8FnP/tZ1Go1LC4u4vTp09i8eTP27t172Z8Jh8Nwu90IBoNwOByQZRn/43/8DzzzzDNQVXVVQX8hzLCRJRjIsgyPx4NisUjGelarFcBywsX7bQ4xY8Orge2PRyIR9PT0wOVyQdd1WrdYD0y+PTw8DEVR8Oyzz8LtdqNQKGDjxo2YnJy8YpOj0+kgEAjQuoDVaoXFYqEkB5PJhM2bN8Pj8ZDx53qRJAkejweyLF82CpIVj8lkEtu3b0ckEkE6ncb09DRSqRR+4zd+A6Ojo1f8fWxXX5Zl8jvJZrP4y7/8S5w9exbAe02fldGeqqpeMpGCeTkwTwld1xEMBqHrOpnuZTIZWltYL+zxWFTihQwPDyMejyOfz8PlclHj5siRI3A6nUgkEgCWGxsHDx7E/v374fF4MDs7i1OnTmFsbGzNx+3t7b3onBAEAR6PB/l8HtVqFblcbt1qJkVRyDfGYrFAlmV85CMfAbD8WZPP55FMJmG32ylJ4UorVBwOh3M7wJsDHA7njsBms5GRFnPK9vl8cDgcKBQKKBaL65Iji6IIQRAwODiIhx56CIODg6smQps2bcJXv/pVdHd3kxKAwZQClyrGVFUlw71CobCuSVO73cb4+DgWFxehqiqSySQefvhhpFIpTE5OUsTW9Wbr1q0U3ci8CqanpzE8PAwAqyZ6fr8fe/bsgSAImJubw+HDh/Hmm29icXFxXYZdK6dwbPqrKMqq3fpbiVAohK6uLiSTSWzZsmXdWeeqqqK3txeTk5PYuHEjPvnJT1LM35WoVCrIZDLwer10rjudTvLYAJal0SsVBDcCk8kEt9sNABgYGICmaRgcHITFYiGZ/aVgyhGW8gAsT6IPHjyIN998EwBw/vz5VT+zY8cOqKq6pnrm+PHj2Lt3L8UgMk+Brq4u8ggJBAKU3rBezGYzqtUqGo0GFEW55PVer9fh8XgQiUQQDoeh6zpmZ2extLSEwcFBdHV1rev3MZNLYNmPRJIk3HvvvVAUBT/1Uz+1ysH/E5/4BF555RWMj49fNoljaWkJP/zDP4xoNEoNBpZq4nK5yEh1bm4OjUaDrvkrfYYypYbZbL7IWBNYbjht27YNFosFqVQKS0tLpOxijQFgOa7xwQcfRDAYRK1WQyQSweDgIF577TUcPHjwosdlSg7G//7f/xs///M/j+7ubmSzWfzrv/4rJicnqdGynuYSM/Fk6i3DMJDP5+lzOBqNkj8D83vgcDic2x3eHOBwOHcEExMTmJqaIvMpJsnP5/PkUN5qta54c7tjxw66KcxkMuju7qYpLLB8w99qtXD48GEoioKBgQHk83nKU7+cEoBFegHLhSEz4rpSMWgYBsrlMiqVCl555RW89dZbFJd2NVO9D8JaJoY2m4124FeydetW+vPGjRuRSCTQ399/0brHpeh0OojH4xgYGKAIMkEQVkWhrecG/0bg9/sRjUahaRpqtRqmpqawZ8+ey/5Ms9mk/eQzZ87AZrMhHo8jEolgcnJyXb+XOa4zzwfWmGJmerqur7sBdSWYq/uVCmhJkijO0+fzoVarQZIkJBIJPProo5f92UqlgmQyibGxMfoai5BrNBp48skn8bWvfe2inztz5swlH7PVakHTNFJZsPOo2WxiYGAAwPJ7kcvlrqo5wF6XKIrQNI0aBCvXaJjhYHd3NzweD2KxGFqtFqampjA/P49f+IVfIFPRq6Gnp4f+zBRMK3n33XfJ/PRyzYFSqYSZmRkUCgUyu2RKgvn5eYRCIVrXWe+0ncF28S9kdHQUrVYL+XweXq+X0kjm5uYuUqgw3458Pk8xsrIs4+DBg/jHf/xHfPKTn7zsc9i2bRu+/e1v49VXX4Xf70en00G1WiXVVrvdhqIol/w8Yr9f0zQ4nU6KBmXmhMwwkRktsuv5Rn0eczgczvWCpxVwOJw7Aua0vbKAZI0CZgS4HuUAi5t76KGHsG/fvlWNAcYP//APY2hoCMPDw9i5cyf6+/tXuYNf7rGr1SpFLK7XXI1hGAa5zheLRdRqtRtWIM/Pz+Ott94CsDy9nZ2dRVdX10WNgQthzvq5XO6q5O2sQSAIAgKBAILBIHw+H0npr1XCwAfFYrHAMAz09PRA0zRkMpnLfj8rJhlbtmzB3r170Ww24XA41nU+MLVIoVBALpejeEDmsG61WuFwOGC32y/a+X4/GIaxruJZlmU4nU4MDAxgbGwMs7OzaLfb63KZj8ViqxoDwPK5I8sycrncRcaXrGnXbrcv25DbuHEjBgYGVikX2AqIJEmYm5u76rULQRAo4m+l4/3KYySKIvx+P6xWKwzDgKIoOHXqFBYXF9HpdEhx80GwWq1oNptwOp3UtGNxj2az+YrJAt3d3bT2wRJAVFXF6OgofZ5eTdNkJSyZYmVzqlAooK+vD729vWg0Gjh//jxmZmYuagwoioIDBw5g69atEAQB2WyWmpMs3vBK3hzM+yUWi2F8fBwWiwUvvvgi0uk0JEmCpmmX9aIRBAE9PT0IhULI5XLI5/Oo1Wro6+vDzMwMHRfWpGNxjxwOh3O7c2vcXXE4HM51hE2fr0RXVxf6+vqwf/9+bNq0adXfMfdsVVVht9uxe/dudHd34/7778fw8PC6Hp81K9rtNlqtFhwOB2w221XFl618rBuFJEkIBoNksMcKrvXCbuivtqA3m80UO8dWC1gRfLOdwQVBQDAYRCQSQbFYxMTEBNxuN1RVveykda295MXFxYvy6C8HK6aYYSArTlj0I5uOWiyWG9ZEURQFgUAAw8PD6O3txeLiIg4dOgSTyXTFBhKwtmmmKIpktLhSth0OhyFJ0rqugYmJCWiaBp/Ph0AgALvdDlVVIQgCqtUq0un0VTfY2HW88r8vhCWm+P1+mEwmLCwsIJFIoNVqwWw2r3ul4HKJG4ZhoFKprPK3YAU9izc0mUxkFnohJpMJfr8fLpcLmqaRB4phGKjX6zh9+vT7LnhZROHK49Tb20vHP5/PI5VKrTlp379/P/lTRCIRbNmyhV6D3+/Ho48+ikwmg4mJiUv+/mKxSKsBtVoNVqsVuVyOYmgvfA8vhDU2WCQqS+1gvzebzdLPrzxuHA6Hc7vDmwMcDueOZ703uKOjo4hEIms6Yl8oz+7v78fHPvYxuum82htDFidns9moqATe8zy43O++0YTDYXz2s59dVwTdWszOzl52gu1wONZskKycKCqKAovFApvNBpvNRnv1NwMmLd68eTMsFgu6u7vR29uLsbExhMPhy65OXDglPXfuHN555x0UCoWLJOKscXRhgb+yEcUSClhxwlYAVFWF2Wy+akn4+4EZ9A0ODmJkZATVahWnTp3CwsLCukzaWAToWiwtLZFJHrvGNE3D/v37qcBmHhVr7XyfO3cOZrMZPp+PzPx0Xaf1C7Z2dC1RFAUulwsOhwMmkwn5fB4zMzM0qWa/fz1czvCQmeCtPDbT09MolUoIBAKIRCKXXXXKZrPo7+/Hrl27SI2j6zqy2SwKhQLm5+ev2pCSwVROK4/tgQMHACyrkBYWFi45uWeT/UvR39+Prq6uy65jzc/Pw+v1kqkmUxuw1Ym1mosrzx9N09DT04MHHngA27dvJ8XJzMwMlpaWKKGAw+Fw7jS45wCHw7njuFT03eXweDwIhUKIRCJr/n13dzeAZdOslVO/TCaDRCIBr9cLWZYpoYApBFhG/IVTqk6ng1KpRMUugFU3xCuf/828CVUUBb/8y7+87mIGWJ52ZrNZhMNhkj1XKpVLvg5Jktac4lWrVZTLZei6DpfLBVmWYTKZ0Gg03lc85bVCkiSakheLRezYsQMbNmwAsLzLzWTaaxUgrVaLYtI6nQ7y+Tzi8TgWFhaoEGS766wpdKG/wsr/zuVy8Pv9lMWuKAoURSHJ+Y2QOquqinA4jP7+fpjNZpw4cQJTU1Not9vrag6Iorjm+VWr1ZBOpyEIAjWXJElCNpulXHmWRW82m+FwOC6K3CuVSuTt0d/fj0AggEOHDgFYXoO4FmsXF8JiC1VVRaVSQSwWW7W7zxQf6+Fy5pbZbBapVIqi/4D3mgmhUAg2m42K2rXI5/MIhULYuHEj7HY7xTIuLS1henr6sqqF94PP51uV1sAaD6IowmKx0O8rFAqoVqtrJqOs5FKeDZOTk2i1WqSIYI8piiKtFVxJUWOz2RCJRBCJRBCLxSgaMx6Pk6khiw3ligEOh3MnwZsDHA7njuNqb9YsFgv6+/vR3d2Ne++997Lf29XVhXq9TtOner2OwcFBDA8PIxgMQhRFpFIpVKtVVCoVtFot1Ot1pNNpckvXdR2VSoWaB16vF8FgEOVyGdVq9aLnf6X92uuFyWRCOBxet2IgHo/jjTfeQG9vLyqVCgqFArZt24bdu3fjX/7lX2iCyybfbM+5UChcsohl8YSSJMHpdFIReTmzteuJyWSCw+Gg4mvr1q0IhUL0906nE81mE5VKhaTHkiQhHo8jGAxiaWmJZO3A8jE7c+YMNUEkSaKUgXK5vOa5vLI5wBoobrebJNMulwuSJK0r9eBa4HK50NXVBUVRMD09jampKYoRXc+5yybMKxsqlUoFJ06coFQAVvSazWa022387d/+LRRFgclkQqvVgiiKCIfDFzUHACAajcJut2Pnzp2QZRmnT5+GLMvXLfpSlmW4XC6IoohSqYR0Ok2O/1f72bSWokbXdZw+fRq6riOZTK4Z2To1NQVJkmCxWNBoNNZ8H5hKYGRkBE8//TT+/M//HI1GA4uLizh69Og1LXplWca5c+cQCoVw+vTpVY1QURThcDioOeB2uy+KbV2LS31msDjRfD5PX2OFPPNpYdGQKxsUKxtwg4ODqFar+O53v4vFxUX09PSg1WpR2spKXxsOh8O5k+DNAQ6Hc1cjiiIikQgcDscVHdUZqqpC13WUy2UMDQ2hu7ubiqOVsGKnUqng+eefx1tvvYXFxUXU63VqDIRCIUiShFAohEqlgqWlpVvC8ZpJ57ds2YLZ2dl1eQy43W488sgjNDEWRRGnT59GLpfDZz7zGQwNDa16HF3X8dZbb+Gll16i48J2zBmGYcDpdKLdbsNqtdJO9c0wJBQEAS6XC2NjY+jr60Mul8PDDz98kepB13XyRWBNklarBbfbjW9+85vo6upCKBRCuVzG9PQ0ReKpqgpVVVGr1eD1eqFpGjRNI6PNVqtFipSVsMm5y+WCqqoUv3Y1ao/3i6qqGBgYgM1mw/T0NE2f7XY7SqUSRdVdaCgILDcF3n33XWzevBmlUgntdhvnz59HMpkEsNyIKZfLePfddylub+U0m0nETSYTqtXqJZMLJElCrVbDoUOHUCgUoCgKPB7PRbGI1wq3242tW7ciHo8jHo+jVqtdNIX/1re+hY9//ONXfCzWHMhkMrSeYxgGLBYLwuHwZWX/7XYbjUYDTqeTGkWSJNH502q1cPr0aZw7d46UTJqmva81qSvB1C1er5d29Fc+T/aeA8uNhPWopZhJISOTycBqtWLv3r0UX8i40FTTarXC6XRS0+nCa3hhYWGVl8DS0hJqtRpUVUW1WiVTSg6Hw7nT4M0BDodzV8Mix378x38cpVLpkuZdF5JIJGgV4VKwZoGmadi5cyc2bNiAmZkZHD58GGfPnkWz2cTMzAw9htlsvun+AgxFUTA0NIR6vb6uxoBhGHTjXC6XIUkSCoUCVFXF7t2710x9EEUR+/fvx/79++lrf/qnf4oXXniBbsqZ67jNZoPVaiXVxc3A5XJhdHQUGzdupCg4NoEEQHnn7Xab/t1oNEjyfubMGezevZsi9QzDgN/vx969e6EoCiKRCLZv3w6TyQSPx4NKpYJSqYR4PI5Tp07h3XffRSwWg67rq2Lzpqencc8996DdbiOdTtPUdaXc/Hpgt9uxefNmRCIRlMtliukD3ruu7rvvPkSjUQwMDECSpFWT2unpabz66qvYtGkT/vqv/xpf/OIX8eabb6JQKNAqytTU1EVeDCthBZrNZsPg4CBOnz590fckEgn4/X74/X7Isoy+vj78/M//PJ555plrfkyYgmN2dhazs7NYXFxcs4D/+Mc/jomJCQQCATSbTUiSBL/fDwCrVkoYzHsilUohmUxS0+x73/veZZ9Pu91eNUFfWZSrqopPfOITyGQy+P3f/310d3fD7XYjGo2+79fPmnZrFc7BYBDVapUaQRfCPi9/5md+Zl2/iymaTpw4gXa7jXvuuQcmkwlWqxXj4+NIJBKX/FmW8LEWVquVHkfXdXq+TJXC1BiKolDDjsPhcO4UhGvdHRYEgWusOBzObYHZbMaGDRvw7/7dv8OuXbtu2O8dHx9HKpXCl7/8ZWSzWTz22GN4/fXXMTo6ikQigWw2e9NWCYDlom/Lli146KGH8OCDD17x+9lkuFwuw+FwYGpqCiaTCYODg+/7OfzxH/8xXnjhBQDAwMAAXC4Xuru74fP5UCqVcObMGUxPT7/vx79anE4nrVhs2bIFwWAQGzdupL9nMZVs2shc+jVNQz6fR19fH06ePIlyuUzpC8ViEfV6HS6XC9u2baPi8FJ0Oh0899xz+Od//meSNwPL0+D+/n5s2LABvb29pEb5zd/8zet2PAAgEAjgwIED0HUd8/PzmJubIzM8n8+H7du3Y3h4GIqioNlsUpEsyzLtwrMs+Xw+j9HRUczOzmJychIzMzNXvRZhMpnQ19d3UXH7ne98BwDwT//0T2TY19fXR1+/lvzX//pfUS6Xcfz4cYyPj68p+R8cHMS+ffvwyU9+EolEAufPn0c+n4ckSTTRlmWZTB5brRZefPFFCIKAfD6PWCyGRqOBaDR62cYJsNw0GRoaWrNR9J3vfAeTk5P4oz/6I7TbbUoR+KDrKBc2CNxuNz7zmc8gl8thYmKC3gNd16GqKrxeL+Lx+Koi+4d+6Ifwuc997pK/Y2ZmBkNDQ/jiF79IKqzf+q3for9//vnn8Td/8zeXNQe9HP/tv/03xGIxHDt2DC6Xixo9wHJTxeVyodFooF6v8wYBh8O5qRiGcU2NqXhzgMPh3JUoioKBgQH86I/+KMVmXU/YlJdNBDudDk6ePInf+I3fwIMPPohSqUR+A8wt/GbQ09OD7du3Y3R0FN3d3diyZct1+131eh2yLEOSJDSbTdRqtVXZ7M899xz+7M/+DIIg4KGHHoLT6YTL5aJ99BvVHGDF9+joKIaHh9HT0wOLxYLR0VEAy42BlVPIer2OVCoFQRCgKApCoRDeffddtNttZLNZKoxFUcTQ0BB27Nhx1c/pd3/3d/Hqq6/Sf+/fvx89PT2wWq3o6uqCLMv47d/+7Q/+4i+BLMu477770Gg0MD8/T8aIGzduxNGjR/Hbv/3bsNlsyOVyZPzn8/lgGAYKhQLa7Taq1SrcbjdarRampqaQSCRw6tQpii5k6yVsH9zpdMIwDPh8Pui6jnw+j2q1elFhpigKGYECwJ49e9Dd3U3GoJIk4dvf/vZ12RffuXMn+vv78cYbbyCdTl90zB5//HGEw2Fa22GNItYoMZvN6Ovrw9jYGP3cr/3ar6Fer8NqtdJKkiRJq9YiRFHE4OAgenp64HQ6US6XEY1Gsbi4CF3X1/Q72LZtGwzDQKlUgsPhgNVqxeHDhz/Q62erLCubm6Io4pvf/Cb++Z//Gf/wD/9Ayh/m2yLL8kVFvKIopKAQBAHhcBif/OQnV6mMgOUifmZmBgcPHlylOMhkMvjCF77wvlQQGzduhCAIKBaLkGUZTqcTi4uLF30mWywW8pDhcDicm8W1bg7wtQIOh3PXYTab4fV6EYlE4Ha7V/1dNBqFqqrrziG/EqVSCVarFZ1OZ9XkVFEU7Ny5E5s3b8aJEyfQ29tLRQ0rmG+kekCWZYTDYezevRt79uzByMjImm771wpN02iful6vwzAM2O32VZLqJ554AktLS/iXf/kX5HI5LCwsYGhoCIqiXHMn9cvxwAMP4JFHHkFXVxfa7TZcLteq9ZML5cmVSgU+nw92ux3j4+PIZDLYvn073njjDVitVsTjcYiiiGAw+L7VFZ/73OegKAreeustVKtVPPbYYygWi2RuODMz84Fe85Xo6+vD6OgoDh8+DFmWYbfbkU6nYTKZ8Iu/+IsYGBjA0tISHA4HyuUyNE1DKBSi9ZJTp05B13Xs3LkTnU4HCwsL0HUdDz74IObn5ymnvlwuw2q1wuPx4ODBgzh48OCq55HNZvHCCy/gxRdfpP3xC43qzGYz8vk8MpkMDhw4gKeffhrPPvvsNT8m4XAYu3btwtLS0kWrBKqq0vXucDggCALq9ToURUGj0cDmzZtXfeawBsDv/d7vodPpwGazQVEU9Pf3w+PxIJvNIplMolKpwOPx4Id+6Ifg8XigqipMJhMMw4CmaUilUnjttdfIs2ElwWCQ4hwlSbomXicrYyI7nQ4cDgeKxSK+/e1vr1qVWHntr/QOcDgcaDQaCIfD1ODp7e3F6OjoRatJf/VXf4WpqSk0m82LjBs/SEoHa1r19vbCMAwyk72QZrMJwzDWbIhwOBzO7QpvDnA4nLsOZozV09NDe6tf+tKXsHv3bhw8ePCaTRTr9TpldrMC8sJ94v/1v/4Xfud3fgdzc3MIBoMoFouUyX0jCYVCGBkZQU9PDyRJQrFYRDAYpL9Pp9MIBALX7PetNBxby5Gd8VM/9VOYmJhANBqFz+ejneWV5mLXk3//7/897r33XjSbTczPz8Pn813WlyKfz1PRIIoiGo0G7HY7jhw5QgaDtVoNDocD27dvX7fHxYX4/X48+eSTGB8fR71ex7lz59BoNFAsFlGpVNYsBq8VTqcTO3bswOLiIkKhEEqlEiwWC/r6+hAMBjE0NARZlhEMBmG1WnHkyBGYTCbMzMzQpJpNil9//XWUy2Ukk0koigKHw4H+/n5ks1kYhgGbzYZOp4N77rlnzRUXn8+HT37yk/jkJz+Jf/u3f8Of/MmfXPQ9mqbBMAzUajW8+eabmJqaui7H5Qd/8AfR3d2N1157jZpXrNHY29uLrq4ubNq0iabh+XweqVQKlUoF8/PzyGQyyOfz6HQ6aDQaGBgYQLPZRKFQgMfjgcPhINXKxMQEKSgeeeQR7N+/HxaLZdW11Gq1kE6naTp/8uTJVZ9tmqZBEARSL1yLc0bXdWiaRlF/LCoyFApRyguANRsRLpcLvb295NNRqVQgyzKKxSImJyfhdDqxc+dO+v7vf//7ZErJokQZyWQSGzduJOXAhWkErIFxoalhJBLBgQMHcO7cORQKBWiahlgsdpHywu/3U2ODJxZwOJw7Cd4c4HA4dxWqqsJut9ONNrC8n1oul6mAX49T9npg0zhd18lETpZlmuyx3xMOhxGLxWCxWNbt1H09YFF4TqcTVqsVk5OTJO/etm3bB358Ng0FQMdEFMWLVi4uZNeuXQiFQjCbzWg2m0gmk2tO8q41+/btw5YtW5BIJEjOvZbrPkPTNFQqFTQaDVgsFlitVhiGgXq9jkqlAlEUUS6Xkc1mIcvyB1Y/zM/PY2xsDNlsFk8++STS6TS++93vXjYa8lqgKAqGh4dx4sQJFAoFhEIhdHV1wWazoVwu0y52tVqFxWKhaMZisUgTbcMwUK1Wkc/naSJcKBRgt9tpvYYVi06n84oRowDw+OOPI51O4x//8R9XfZ0lOHQ6HWQymeuWUmCz2WhvX9M0OJ1O7NmzB1u3bkU6nUan0yFfiWKxSEqZdruNcrmMYrFIhp7AcoHrdDqhaRqSySR27dqFffv2UaNKFEWoqopPfepTa35myLKM7u5uyLKMubk5xGIxWnVwOBzUdDAMA5lM5qJC+YOwshD3er0IBAKYnZ2lQtowDDgcDjIxVRSF3nOXy0WGi61WC8ViEUtLS1AUBY8++ihkWUYmk4HT6YSu66jX6xf5dVQqFUSjUQwODlLDzuFwUNpHq9VadY1IkgRBECDLMnK5HHw+HwqFAhKJBNrt9qrXwxoX7JhbLBYANy9elcPhcK4lvDnA4XDuKiwWC+x2O+x2O93cnTt3DkNDQ6sM5q4FgiCg3W5DFEXKcr+w+J+amoLdbkdvby9MJhMURbkhEXQrkSQJiqKgu7sbLpcL6XQayWQSgiDg6NGjOHjwIDnyfxBWFv+tVusit++1mgMLCwvo6emBKIrQNI3MGq9n8cuw2+2YmZkhubzdbr+kwzmw/JpkWaYd8mQySYZ77XabPAjcbjeazeYHVj9Uq1Vs27YNZ86cwfnz5yEIAlRVRTab/UCPeyWeeuopNBoNlEoluFwubN68GR6PB7FYDJlMBolEAhaLhc59r9cLt9tNjbFisYjp6WlKo2ASfMMwkEqlaOrsdDoxPDwMr9d7WXXJSn7sx34Mhw4dwtzcHJ1XhUIBDocDQ0NDaLfbVzTxez+oqoqhoSEsLCyg0WggGAxiz549ePjhh+Hz+fD2228jGo2iUCjA7XZD0zRanWDHQRAESJJEx8Tn81EjpVQqodlsUtMFWF4LMJvNV2wm2mw2MjhkzQGr1QpJkiBJEiqVykX+CNcKURQRCASgqioymQyd88xzobu7mwwFNU2Dw+EgdQ0A+rtOp4NsNouXX34ZIyMjmJiYgKqqKBaLMJvNFzU2jh07RokEsiyj2WzCYrHA4XDAMAzkcjnUajVq1Oq6Dr/fj2aziUqlAofDQZ/ba0WVrvw77jnA4XDuJHhzgMPh3DVYLBZYLBYIgoBarYbFxUW89NJLGBkZgcfjuaayeU3T0Gg0YDKZ6OZREISLbuRZjFk4HEahUIAkSTc8ztBiscDn82FoaAh2ux3Hjh1DvV7HgQMHLusYfrUwaa4gCPQaV6oq1uKtt94iyTAz/7oRygrmsB+LxSh94Ep72WxlxDAMMstjbubMDE9RFAQCAeRyuQ88aXS73QiHw/D5fPh//+//oaenByaT6Zrsjq+FJEl49NFH4ff7EYvF4Ha7ce+992JsbAzNZnOVy73FYqGVCabQWfk4J0+ehMViISNKFuNZLBbhdruhKAqsVitCoRBcLtdVPc+dO3cin8+TgVw+n4fD4YDX670uMZiKouBnfuZn4PV6cfbsWfh8Pmzbtg2PP/44+vr6aEK/adMmuN1upNNp6LpOz08URXg8Hui6jkajQb4BdrsdhUKBPEoEQUClUsHS0hLS6TT27NmzrlUASZLgcrmoycKk8MzHIJ1Ov29X/wux2+2kCgGWr/lgMAjDMDA/P0/XCFsfYYqkRCKBarVKjdFGo4FqtYpGo4Hu7m7y6jh69Cii0Sj5oVitVlSr1YvWc5aWlmCz2ZDP5zE8PIxoNEqfwyxtoFarodPpUPPA5/Oh0WjQukG5XF6zCcl8YVijg3sNcDicOwnxZj8BDofDuVEwIzlN0xCPxzEzM4Pjx4+jv78fW7duvaa/q9lsolQqQRRFGIZBKwUrC1td1+F2u2EymeByuagIZXu5F3K9imKXy4Wenh54vV567oqioLe3930/5qUKX/YaZFmGYRhUFK71mg8dOoSBgQHY7XYqFpi8/3pjt9vh9/vR3d0Nj8cDm80GXdeRTCYv+l5WdLC1gkKhQNJ4k8mEQCAAl8tFO/V+vx8ejwfRaBQLCwv0OFerJLDZbJAkCUNDQ6hUKjQNZbL0a43ZbMZnP/tZnDp1CrIs4yMf+Qjuv/9+eDweCIIAs9kMSZLIMf9SNJtNKsJ0XYcsy5QdD4Ck9ux4Xu1x2bhxI7q7uyGKIsnUzWYzEokETp8+/YGOwVooioKDBw8iGo2i3W5j165dePTRR9HX1wcAKJfLsNvtGB4eptfHXpMgCHC5XOjr60N3dzeA5eLVbDaTIZ7T6UQgEMDo6CgGBgbII2BsbOwi48O1MJlMiEQi8Pl88Pl8pOoQBAGdTofSIa4FgUAAwWAQgiBQGsHw8DAKhQJdO8FgEBs2bMB9992HvXv3YsuWLejv74fb7SZ1FTNXtNvt2Lt3L5544gkytxwYGKCGYXd3N8xmMwYGBug5nDlzBr29vWRmec8992Dr1q3w+/2o1Wqo1+uw2Wzo6elZFZFqsVgQiURgtVpRLpeRz+fXbLSJoki+IsDyWlg4HL4mx4/D4XBuNlw5wOFw7goURYHX66WYr3q9DkEQ4Pf7kc1mEQqF4HA4PvDvYVMztqfaarXoRrnVaq0qhKemprC0tASPxwOLxYK33nqLbtrXgu3cX0sEQcDo6Cg2bdqETCYDwzAwODj4gZol9XodnU4H8Xic/B2A5SKJScZZI0RRlDWl+qlUigoFVtiZzWYya7ueiKJIbuUOhwNut5saE2sVvez97HQ6JIdmha/H48GWLVvIeK6/vx/tdhtHjx7F/Pw88vk8NWGuRjHy0ksvUTF1//33Ix6PU1F9vZonmqbhy1/+Mn72Z38WR48epbi9arWKpaUlLCwsoFKpUGOoUqmgXC4jl8vB6XTSsavX6+ju7kYymYTZbIbZbKbnzwrXWq0GQRAQCARgMpmuKj0kEolgaGgIExMT2L17N1wuF1qtFnK5HPL5/Ac6BqzZt9KErtls4vnnn0e73cbS0hIeeOCBVWoJl8uFQ4cO4Rvf+AZ+9Ed/lCbTgiDAZrPRJF0URciyjEQigVQqhR/5kR/B0aNH4XK5UCwW6Vrp6urCyMgIWq0WYrEYqtUqbDbbJZ9zJpOBqqqQZRmBQABWqxWapqFaraJWq61LTbEygvVSsJ19XddhNpuhqir8fj8OHDiAl156CbquIxAIYN++fRgZGUFXV9eqRgmw7E+wuLgIi8UCj8dD15OiKBgZGUEqlcJjjz2GM2fOoFarQVEUhMNhlEolOr9mZmYgyzJ5Grz66qt46qmn0Gq1cObMGczPz6PRaMDv98Pv969Saw0NDaHRaGBmZgalUmnNponP50OlUkG9XofFYsGnP/1pdDod/O7v/u4VjyOHw+Hc6vDmAIfDuSsIhUIIBoO0WsB23lmsGJuavx/q9TqazSbJxw3DQLFYhKqq5LjNJLySJKHZbOK5557Dtm3boOs6VFXF0tISOp0O7aevxfXYs3e73bjvvvuwe/duzM3NIRqN4tFHH33fj5dOp5HL5SAIAuXZ+/1+RCIRCIKAUqlEBb/FYrlkQfz2228jFApRvCMr2CuVynWPMfT5fBgeHobH44Esy2i1WggGg3C5XJddPQmFQgiFQlhcXES1WkVfXx9MJhOazSapRlgRKcsyBgcHUSwW8dJLL+HDH/7wup/fc889h3A4TMqBQ4cOoa+vD6lUCufPn0cqlboWh+EiZFnG5s2bMTk5uar4tdls2LZtGzKZDCqVCsbHx7FhwwbMzc1RQgNT0mzZsgUulwvnz59Hd3c3stksGo0GRYj29/cjEAhgcXERwPL5OTs7u+7mQDQahcViwcDAACRJQqvVgqZpFCX6QU33WONuZXOASeeHh4fXNKx0Op0wmUzYs2cPqtUqSeudTiclb3R1dcHhcCASicAwDDrPPv3pT+Mv/uIv0Nvbi0qlghMnTqBWq8Hj8eDw4cOoVqv4xje+gf3796Onp4cM/jRNIzNI1nRwOp20epLJZFAqlbC0tLRqHeRSsLWGy63COJ1O1Ot16LqOSCSCzZs3w+VyYWFhAfF4HM1mE0899RQGBwfhdDrR6XToM8JqtVJjwefzYXp6GqlUCi6XC6dOnaKC3jAMvPvuuxgeHkYul4Moiujp6cELL7wAh8OBTCaDVCpFn7k7duzA22+/jUOHDpHxocvlos8Tu92Oer2OoaEh1Go1lEolJJNJpNPpiz5vWeLBrl278P3vfx8AMDo6iv379wMAbw5wOJw7At4c4HA4dwUWiwXd3d108ywIAnw+36rJ/tWy0jhL13U0m026eWYGfqqqrjLbyuVyePbZZ7FlyxbMzMzA5XJBVVV4vV48/PDDOHv27HXZi74UQ0NDcLlckGUZIyMjFO24XpjRIksPSCQSdNPP9u0zmQwWFhbQ1dWFwcFBmEwmVCoVaJoGWZZpzzgWi+GrX/0qdu/eTcWgKIowm83Ys2cPMpkMSZWvlzM4m+YODQ2ht7cX0WgU4XAYmqat25MiEokgGo0inU7D4XDA4/HgrbfegiRJeOihhzA9PY1YLIZz587BZrNh48aNePHFFzEyMkJS9LX4h3/4B/j9fgwPD9Mk3Ov14vz58yTnrtfra64+fFAEQYDdbsfOnTuRyWQuWjmRZRlWqxWZTAaapuH5559HV1cXDMOgtAAmmweWVTCtVgupVIqmzHa7HT/xEz8BYDmJ4aWXXsLExATt2l8uKQJY3jMPBALUAGCFMLCsRLkWRoQXTs5FUYTD4YDL5aJCcy3zxI9//OMAgP/5P/8nNm3ahIGBAeRyOTgcDiq8WQOFrVwAwIsvvohIJIInn3wSU1NTeOONNzA5OYlGo4Ft27aRiWMikYCqqpAkCU6nEx6PBwDos663t5dWWGq1GiUkrFeFs57ve+SRR1Aul3Hq1Cm4XC4cPHgQL7zwAhYWFmCz2fC5z32OmmIsopGZiw4ODsIwDLz00kv49V//dXzxi1+E3W6HKIoolUq0DgAA09PTUFUVmqbB5XIhHA7j5ZdfRjabhaqqpE5KJBKIRCLYtm0bKpUKSqUSNWsdDgd8Ph+8Xi8kSaLmbC6Xw/z8PCqVCjWAmFEkW+FgKhdg+VrncDicOwneHOBwOHc8vb29sNvt2LhxI0qlEgRBQF9fH3p7e3H69Gls2rTpqh6v3W4jl8uhXq+jUCig1WpRBCDLZbfZbLDZbCgWi+jq6sLCwgImJiYwMzODRCKB/v5+WK1WmuwxqX2lUrkhTvzAstx527Ztq4q2qyGXy9EE0u12o1gsrnIeZ1nimqYhn8/TVI5NNMvlMkqlEkZGRuD3+1GpVLBnzx5yUjeZTGRSl0gkUC6Xoev6dU1zEEURvb29CAQCqNVqaDab6OrqIgO09VKr1WC326lIe/jhh/Grv/qriMfjGBwchN1uR19fH61K9PX1QRAEfPe730W9XofD4UA+n0dPTw/a7TYMw8C9994Lu92OfD4PwzAgSRLi8Ti2b9+OVquFQqGATCZzPQ4LnE4nPvaxj6FcLq/ZvFpaWkI8Hoeu6+R/YLFYkM1mYbVa4fP5KLIQAA4ePIiZmRma7KdSKSSTSZKHs33xxx57DOfPn8cv/uIv4plnnsETTzxBayiTk5O0shAOh8nIz2QyodPpYNeuXSiVSiiXy0gkEuuakF8tkiSRYd65c+dWfZYws9F0Oo1vf/vblFYhCAIWFhYoXWJlTOj999+PVquFr3/96wCWzyOr1Yrf+Z3fofOAJQAUCgX09vZSLOb4+DgcDgd6e3vpOjEMA8lkEocPH8bhw4exZcsWKIqCTqcDq9UKi8WyLiXOehz5i8UiQqEQxsbGYLfbEQwG0Ww2ceLECbTbbWzfvh09PT1IJBLkx8FiFCuVCjKZDLZu3YqvfOUrMJvNcDgckCQJZrMZW7duxf33348/+IM/wJkzZ6gZsnXrVpw8eRLAst9Bs9mk4/6hD30IP/qjP4p//dd/pSbR4OAg6vU6arUaRFFENptFT08PPB4PxsfHMTc3RwoFYPnzQJIkaJpG51UqlUIoFEI6nb6stwaHw+HcjvDmAIfDuePp6uqC0+lEMBiEJEmwWCyQZRnj4+NQVRU+n2/dj5XJZGh9gEncs9ksRY1ls1kyx2q1WnC73UgmkwiFQti5cycikQgOHTpERnztdhsOhwNWqxXT09Mkt79epnIr8Xq96O/vR7FYfF9JDey1M+l4KpVCNpuFKIo09VtZ5DPjuc2bN8PtdgMAvv/972NgYACiKFLjwGKxUAGj6zpsNhusVivsdjvm5+evWwHM6HQ6GBoawsmTJ+H1eq+6MQAsr5qsXJn46le/iv3790MQBOzevRsvvvgi5ufn0dPTA6vVimaziWAwiEgkglqthpdffhmbNm2CKIrw+XyQZZlMGZl5n91ux4kTJ+BwONBqtTA3N4e5ublreSgIpgYJBAKIxWL09XQ6DZvNRoWuy+WCx+PBY489hlKphEAgQK7xMzMzq4rnoaEhRKNRPPDAA3j++efx2GOPUbHFUgyOHTuGRCIBr9eLYDCI2dlZOJ1OyLKMSCSC7u5uivdjjYl4PI4333yT1AgsQvFaIwgCrFYr+vr60Gg0aLLM1APsvEmn0zAMA6dPn6akigceeIBM9S5kYmKCVBLnzp3Dgw8+SOocWZap4aYoClRVRalUwjvvvINAIAC/349MJgOLxYJgMIhgMIhisYgjR46QoqHdbiOVSq0pnf8gvPbaaxgbG6P1gnfeeQeiKGLTpk0oFou0UrUytYXJ/9l7x1QQ27dvB/CeIuutt95CNpvFF77wBXzpS19CpVJBOBxGPp8n08l2u00JEBs2bMDP/dzPAVheUdqzZw/OnDmDSCSCkZERWhsym80oFAo4deoUJiYmsLS0BOA9hYiu6+Q7wL5mtVoxOzsLt9tNr2NqauqaHUcOh8O5mfDmAIfDueNpt9sIh8Po7e1dJYeOxWLrmpqzyKtqtYpms4l0Ok2maSubA+xG9siRI9i9ezccDgft1vb19dENsN/vp4IQWJbsTk1NwePxoF6v07719SaXy6HRaFz1KgGjWCxC13XY7XZYLBZ0Oh1MTEzA6/WSaqJWq8FisVB+ezqdxrlz57Bjxw4y/HrzzTdpoipJEikEBEGAxWLBl7/8ZYyNjSGRSGBhYeG65oqzdRNgWZLNJv9XC5Nsz83Nob+/H06nE/F4HFarlVYOisUiGo0GxsfHyWwukUjgnnvuwbZt2yjSz2QykbLEMAwycSuXy5iZmcHY2Bjt/E9OTl7Lw0GwYlwURdqxBkBNJavVSsX47t27V6kmmKT7QnO3TqdDRqBsB396ehr5fB7nzp3DwsIC5ubmIMsyenp6MD4+TpJ0VpgxWToAyqivVCpIJpPYs2cPkskkotHodVENGIZB5nvs/QSW1QSVSgWKoqBQKKBUKiEUCuHJJ5+8YgLI6dOnMTs7i127dgEAPB4PqSqYGsNqtaLT6WBhYQFerxeNRoN8GpLJJJxOJwYHB2G1WpHP51Eul7F7925qLC0uLtJaz+WuJUmSrsrc0uPxoNFo0JrSCy+8gHa7ja6uLkqPYB4rbMLPzEtdLhfS6TSi0SgajQZOnToFs9lM10Cj0cDCwgISiQRisRjq9Tr27NmDVquFdrsNr9cLj8eDdruNRqOBrq4uWs0Alj/r9+7di+3bt5PJJfM4eP311xGNRhGLxVatjay87hiKoiCXy9H/D1gCwszMzLqPE4fD4dzK8OYAh8O5o2E3gIZhYGJiYtW0bj2NgXg8jmq1imKxSG7nbIrHjObcbjcGBwfRaDSQSqVoH5wpCLLZLJnQsYK3VqvRzSe74fT5fMhms9dtn/5CXC7X+56optNpZLNZdDodhMNhvPLKK/D5fOjv70e9XkcqlaJikK0YMFPGXC6Hd955hyaJLBaMRbSpqkpFhslkQjwex/DwMKxW6/ua4l8tsiyTDNswDOzcufOqfn5+fh6GYaDRaJDcPpFIoNlswuFwIJvNwul0IhaLYWlpCWazGfV6HVarFYVCAdlsFpFIZFWKQ6fTgSiKsFqt0HUdoijSNF0URRw9ehSzs7PX+Ei8B5uSK4qCubk52O126LpOxpuapkEQBDz88MMX/azdbseWLVuQzWZp0iuKIo4cOYI9e/YAWC5EmZHj5OQklpaW0Gw2qXjt7e1FLBZDpVLB4OAg8vk8gsEgSb07nQ6y2ewq9Y7ZbIbX68XMzMx1S3AQBAFOp5Nk5gBoP95utyMQCCAQCOA73/kONQaeffZZhMNheu2M2dlZnDlzBq1Wizw3qtUqKpUKKRNYWsLKPXhWZNtsNlpJUVWVpPt2ux2KoiAWiyEajSIajaJcLl8xIvL9RGuWSiX09/djx44dyGazKBaLyOfzSKfT8Hq9q1z+ZVmGKIp0nbD3WhRFUl8wSX+r1UI+n8ff//3fQxAEtFoteDwe8jip1+tQFIU+k5nHA3s/mEonGAySKkPTNLz66qt48cUXUSqVLjpH1mqcsOaloihQFAWtVgunT5/G2bNnr+pYcTgczq0Kbw5wOJw7Gr/fj2q1ilwud9UT50wmg2QyiXK5jPPnz1ORq+s63YTbbDb4fD7YbDbkcjmYzWaadCWTSdRqNei6TpMqNiFmO8FsvWBxcZEKnA/qqL4eRFHEwYMHryoijlGv1zE3N4dCoQC73U6GcRaLBQ6Hg9zp2c02i3Rc+buTySS8Xi9EUaSCp9Pp0PE1m82QZRmqqsLj8cBmsyGVSl33pAL2+s6fP08rJFfD7OwslpaW0Gq1aKrZbDZhsVhICg0sZ6Nns1kqNNgUmO3mNxoNmEymVZn0LA6TNadqtRpcLhcKhQLGx8evieHepTAMA7VaDel0mvwj7HY7crkcJEmiRIpLUa/X4fV6MTExgRdffBFut5vi99LpNDqdDnkOlMtlWkERBIGmy7quo91uY25uDiaTCTMzM3A6nbDb7TAMgxQnzWYT4XAYJpMJ+Xx+zTi6a0Wn0yHJPFsz0jQNyWSSJtQA8MwzzyCdTsNkMuGFF17ARz7ykYse6+jRo7QLbzKZMDs7C1VVaUWFpZ0YhgFFUbBt2zbIsowjR47A5/ORQiEUCtFxYbGJsVgM5XIZ0WgU+Xx+XYX/ykSGK8EaA0y9kUgkkE6n6XjUajVqgtntdvIbqVQqKBQKmJiYoHUJSZLg9XopZpB5f7RaLSwtLZEaKx6PQ9M0apgVCgXUarVVpp7RaBT9/f2kCFrZcJucnMSxY8dolWA9r//CzzX2Wbhy1YbD4XBuZ3hzgMPh3NEYhoFsNguXy0UZ7JfLBGcUCgVMTk6ScmBpaYn2v4HlCZLVaqUb02KxSGaCgiDQDn61Wl0lY2U398xYTJZlVCoV5PN5qKqKcrl81QXp+0GSJGzZsgUOh+Oqfq7ZbOLcuXMUU+dyuWAYBsmbWXFvsVgorYBNCFcaChYKBYiiCI/HA0EQaBpqNptJXWEymTA+Po6BgQH4fD4cOXKEpNvXC5PJhGq1ClmW0el0sGPHjnX/7MmTJ5FKpdBsNsmHYWUKRjKZpMQKAKQ6KZfLaLfbsNvtFOvWbDahKAqKxSK5+TPTQebgzqakc3NzpEy4XrDmQDQapUhAu92OZDKJoaEhhEKhixI/KpUKpqenoes6vF4v+W8kk0mYzWb09/cDAN58803ouk5ybZPJBFVVoaoqpUeYzWZKLJifn4fZbIbNZoOmaeRmL0kSrWHU63WUSiVEo9HrqsTpdDpIp9OYn59HoVDAwsICNE3D1NQUFEWBKIrQNA1bt27Fq6++isHBQXpt7LUCwIkTJ5BKpejcX1paosdIp9OQZZl8PFhU4Gc/+1lMT09jYWEBY2NjePnll9Hf34/e3l643W5YrVZSMS0tLWFmZuZ9NUnXg6IoqFQqcDgcKBQKOHToEHK5HEWzMpUQaxSWy2Wk02mKXCyXy/D7/Wg2m+h0Oti4cSMcDgc1WOv1OiRJovQSq9WKeDxOfgWDg4Pku7FSAZBIJBAMBil9hDUHUqkUDh06hKmpqas6Huyx2+02Wq0WNYSY1wGHw+Hc7vDmAIfDuaNJJpMwDAOxWAzvvPMOWq0W/H4/Op0O5apfSKfTwfnz5zE+Pk7RbKzoYDv07XYbpVIJ1WoVhmHQzaKmaSQpNwyDbl5ZocgmwMxoTxRFZDIZBAIBDA4OIhaLXded+pUkEgkkEgncd99962qYsKInGo0imUzSpA9YXlGYn58HAFICsKgyJuM1DIOm6axJ0mq1qJnAiktZlmEYBiqVCo4ePYqBgQEy3bte8nAGK+YcDgdqtdq6mieGYeC73/0urYqwAog1edgUOB6PY2FhgTLcHQ4HZFlGIpEgCfyJEyewb98+Ugmw72NqlNOnT1MSRqvVgtfrpR3s64lhGGg2m6RwqdfrFJu4adMmtNttpNNphMNhHDt2DHa7HePj47R7v3nzZiSTSczPz6PdbqPT6ZApJdt9Z8WiyWSCy+WiVQWbzUZNvu7ubrTbbdhsNoTDYVitVhSLRVSrVTidTkiShHw+j7m5OZTLZVrpud7H5dy5c6uaEfPz8xRturi4iOeffx6NRgPZbBZ9fX1IJBLQNA2qqiIajeL48eOkFjGZTDhy5AiloRQKBTLpZNfI2NgYHA4HtmzZgtdeew1utxsejwd9fX0YGBggY8dUKoVUKoXZ2VnMzs5et88Wpm5hZoTJZBJWqxWappHCKJFIQFEUZLNZAKCmjdPphKIo0HUdDocDpVIJDz/8MMrlMjUYWEQjS1lg1wcr9oeGhui9YJ9TIyMjiEajKBQKeOqpp8iDoFar4fDhwzh27NgV1TaCINB70mw2yS+B/R1La7mR8bMcDodzPeHNAQ6Hc0fDpKHMDE6WZQwPD9P+6UqY7Hdubg7vvPMOcrkcxerZ7XZYrVZUKhVKK5AkiRoErHBlE0F2E8y+j03NmJxXEAR0Oh1y7v7Qhz6ERx55BEtLS1dlSMh+/mpv+jVNwxtvvIFjx45hy5Yt2L17N5555pnL/szx48cxNzeHdDpNN/aJRAI+nw+SJNGNs6qqyGazSKfTpASo1+twu92oVCpIp9PYvXs3QqEQ5Z3Lsoxms4lisUhNk1qthgceeAALCwtUOF5v2M46M5j8/Oc/j56eHvzpn/7pJX/mzTffpIYHU36wBgkzrWOv67XXXqNVFbZSwgrlhYUFOBwOeDweJJNJzM7OQhAEUjG4XC4Ui0U4HA4qvq1W61XJv98vrPhvNpuw2+0oFAool8uo1WqYnZ1FoVBAOp2Gw+HA6dOnYbFYkMlk4HK50NfXh5mZGZqyAsuqAlbY5XI5UiY0m02YTCZomoZcLgeTyQSPx4NyuYxqtYodO3ZQFKbZbIZhGPB4PDQVzuVyOH/+/HX1X1gJMxllRXyj0UClUoEgCDh58iQSiQQqlQq6u7vxqU99Cq+//jpcLhfq9TpmZmZQrVYxMTGBRqMBp9MJTdPQaDRw5swZpFIpOJ1OmEwmMjdl0aes+JdlGZOTkxAEAXv37kU4HF4Vr5dOp8mg8XoqS1ixzgp/5oPAngMz0Mxms2Q2yo4f+5yNxWIYHR2F1+tFJBJBqVSCxWJBOBymBqwsy9i4cSNUVcX58+dhs9lw//3349y5c2i1WhgZGUE2m8Wrr76KhYUFzM/Po1qtwmQyIZFIQJZlTExM4NChQ1hYWLji65IkiZpzyWQSXV1dSCQStA41Pz+PTqdzQ65BDofDuRHw5gCHw7krMJlMyGQyWFhYgNlshqZpqFQq2LlzJ0wmE01/Xn31VXKPZ5MvTdMgyzLi8TgikQjdBLfbbTJBY4VeuVymndquri40m02kUikAy3u5Ho+HJqMWiwWpVArd3d1oNpv44z/+Y5w+ffqqXhcrQK8WURRx8uRJ6LqOo0ePYnFxEV/5ylfw+c9/HgcPHqTvY2kCx44do8KU7YCbzWZks1nMz8+jVqshFoshEAhA13XE43HIsoxcLodkMone3l7k83nY7XZomobz589jenqaCh1musZ27lkDgRU33/3ud5HP56/6db4f2u02RFFET08PFhcXoes6/tN/+k944okn8PTTT9P3VatVLCws4PXXX4fVaqUJoyQt/6+VeSdYLBa43W6cP3+e1lCYmZyu67BarQBATvNHjx5FvV6nQgpYdrF3OBzYsWMHnE4n0uk0JiYm8Pbbb9+QY7KyCF5YWCDzTAD49re/TXJwFhnKDCY7nQ4mJydpj56dr7VajXblC4XCKvPBlYoLVVURiUSQy+UQj8fxjW98A36/H1u2bEF/fz/cbjddh5lMBouLi/S8bgTtdhuxWIyaWyxWkTUMgeUCs9PpYGZmBpqmob+/HxaLBceOHUOpVEKr1YLJZILZbKZUC5ZM4XA4sLi4iEajQY0Dl8uFAwcO0HNotVqYmprCRz/6UXi9Xvp6LBbDd77zHczNzdFn0PWiUChAURSUSqVVfgaCIKDRaCCTycBkMsHn88FkMqHVaqG3txeqquL73/8+mRaaTCb80i/9EoBlT4C5uTl0Oh3YbDZShwAg00Wr1Yru7m50Oh3k83lkMhlMTU3B6XTipZdewo4dOzAxMYFkMomJiQnydGHNhivB1jKA5fcxGo3Sn9lKWLVavSE+MRwOh3Mj4M0BDodzx2O322mX/MyZM5iYmIDf78eGDRvwxhtvwO/3Y3JyEslkEpFIBOFwmHbki8UiTYU7nQ4SiQRyuRyq1SpKpRIMw0C9XocsywgGg+S2HwqF0Gq1oKoqtmzZgsnJSTJyW1xcRHd3N8rlMl588UV89KMfxcMPP4zx8fEbtruq6zpNcSVJQiaTga7r+MM//EP8xV/8BTZt2oT777+f3NIHBwdpv7rVaqFWq6HRaABYzmIvFAo05Y3FYmg2m4jH42g2m3C5XGg0GtB1nXaCi8UirFYrrQs4HA465mNjY6jVagiFQojH43juuefod90IVFUl/wi/308+An/7t3+Lf/u3f8P999+PHTt2YHx8HPV6HQMDAyiXy9RIqlQqMAwDsiyj1WrhJ37iJ/D//X//H60DMFNK1tRRFAWaplFxyNZOPB4PVFWF2+2mc5gVXg6H47qvWKyETXhtNhuZwvn9fir0a7UaSqUSXSfMCI8Vy8xbgkXDxeNxnDt3Dn19fZidnaXGCkuqaDab6O/vx1NPPYV0Oo1QKISvf/3rNEUeHBwk00FN00jK/8ILL9ywY8KOS6lUgiiKFHPKikm2umSz2aj4f+SRRxAIBPCVr3wFgUCAovfYcWPmlRaLBU6nE2+88QZdP16vF2azGT09Pdi6dSs9B5vNhk6nQ5GQwLJ0/lvf+hbefPPNGzbVvpwywWazYWFhgc5h5l/B9vV1XcfAwACZCf7TP/0TPB4PvF4vqS+A5YhQFmfKjGDfffddZDIZzM3NUVrCvn378PWvf52m/qx5EIvFMDEx8b7iYtn1xiIeWTP4RnjEcDgczo2CNwc4HM4dT6VSgc1mg91uR7PZRKPRwPz8PBYXF8kErru7G8PDwzCbzWg2m8jn86jVajTdbTQaJKdmE1DWcJAkCRaLZZXxWT6fJxl9KpWCKIq018+mUfl8HiMjI3A6nXC5XOva+78eMOk7o1qt4tSpU2g2mxgdHQUATE9P0+tl0YNsYmu329Hb24vp6WmcOXMGpVIJpVIJAGiimk6nSaLbaDSoQGZu/k6nE06nE4VCAadOncKuXbug6zpGRkZIgnwj0HWdfB9qtRqSySQURaHVjUKhgMOHD6NQKEDTNAwMDGBpaQkjIyPUFGETZFYs6bpOUuRCoUDTT7vdvspV/syZM+RIz/LdWWIDi6NrtVo4e/Ys8vn8DW2YtFotJBIJhEIhahSwFZp4PE7xdMByc+U//If/gN/8zd+kBgfbFW+32+Ql4HA4sLS0BJ/PhzNnzqxKqRBFEZFIBLt378bc3Bw9rqZpOHDgAAYGBuByuQAAU1NTeOGFF/DGG2/csOOxEl3XMT8/D4fDQRF9TMHAGl/bt2/HgQMH8Oabb+Kb3/wmZFkmhQF7r5lsHgCGh4dRq9WQSqXgcrnImJD5FHz/+99Hb28vvvzlL2PHjh2o1+sIhUIAlpMhXnvtNczMzNx0ubthGMhkMpBlmRpfrLHYaDToM3NgYADxeJzWkdjr27NnD3w+H6amptDV1YXh4WEy5GRJBixmFgACgQAkScKJEyfwxBNP4J577sHZs2cxOzuLU6dOUYzjB4E1Ca7nmgaHw+HcLHhzgMPh3PGwG3Ymh2ewqR/bFc9msyTltlqtsNlscLlcNHViWdrZbJb2o+v1OnRdhyzLMJvNkCQJLpcLTqcTVqsVXq8Xuq6jXC6jXq/TdLnVaiESiaBWq+HAgQP46le/el2j6C6Fy+Va82aZmXt1Oh2aZDNzMfb37XYbiqLA7XbDYrGgWCyuksIDoGIZeC+/vKuriyTIzKNAVVU4HA5EIhE4HA74fD5YLBb8zd/8zQ2/CWfRa+w9NQyDPBXYlF/TNHg8Hrz77ruUOsEaPefOncO5c+eoWPzLv/xLxGIxclqv1WrodDr0e1gkZqVSgSiKOHv2LHbv3k0Z9W63m6LyFhYWMD4+jlgsdkM8GBi6riOfz8PhcMDtdqNYLJKiwjAMkng7nU5EIhE8++yzFPXGDCar1So1epxOJx5//HE899xzZCzH1AWyLMPn82FgYAAA0N3djd/6rd+C0+nEhz70IYyOjlJjoFQq4dChQzh9+vQNVVKsRBRFen8mJiagaRp5jbhcLgQCAdTrdXz1q18lxQxT4bC4RovFApvNRiqeVCpFyohYLIYDBw7A4XAglUohn8/j+9//PhRFwY4dO1AqlfD4449jfHwcpVIJiUQCR48eJYPQmw2Ll2TmrWyNwmQy0e7+5OQkDMPApk2b8C//8i9QFIU+A9hnca1Ww9zcHLZv376qWdtoNFCr1WC1WhEKheDxeGC32xEOhyk+9Ny5c5idnUWxWLzpDRMOh8O5leHNAQ6Hc8fDTM6YS/qFsJg0FmHHXMHZZKvT6VCuu2EYyOVyNEnWdZ2KZ7YnzNYHWLHCficrcpkcdevWrchms5ibm8Pzzz//gSda7wf2nC9E0zTMz89DVVXaY240GmSiyNz4nU4nBgYG8O6776JWq13WGNEwDDrWLOKQFdAWi2VVFF0ul8PY2Bii0egNS29gsP3hTqdDv5tFNDLZ9+HDh9HX1weTyYRKpQJN09BsNmnlhE3Xa7Uastks9u7di0OHDlExzRpNDocD/f39yGQyNEX1eDyoVqsIh8OUaMCM/86fP09F942GKSDa7TY8Hg8kSUKj0aDiTZIk2Gw29Pb24uWXX6bGCkvxALBKCbG4uIhyuQxFUWCz2aCqKq0qyLKMhYUFvPrqq2Q06HQ64fF4oCgKgGWFy8svv4yjR4/eUBXFWsclk8mQnwZLMlnpE8AaJ51OBz09PVhaWiJVDVPamM1m+P1+5HI5Mh5kx6rT6VAzxuv1kn8Ja6S88MIL8Pv9qNVqmJycRDQavaX24Nlkn/ltMN+BZrOJdrtNJoWapmF6ehqdTgfRaBRjY2NQVZU+X9lxZR4H0WiUPr8sFgvsdjtsNhupMZ599llkMhkcO3YM5XKZNwY4HA7nCvDmAIfDueNhxdilikxW7LJJFtuJ13UdhmHQxJdFa13YYGBTdBbnxWDGVythN8b1eh2nTp1Cu93Gn/3Zn5Fj+41mrefIaDabWFhYoBUBFmHHjgsz1UskEpiamqJihMWtsRt+1khhRS6L5WPGf+xx6vU6udBXq1V87Wtfu6HTcQY7HivPl06ng06nsyquMplM0mtg6QRMjcJMK5kXwfT09CrzSMMwsHHjRmzduhWNRoOM9UwmE8X1seKpUqkgn89TgsHNmpADoCKcXR/snOh0OqTQOXHiBCltmBEha7SYTCY0Gg3y3ti2bRvOnDlDDv+jo6OIxWKkQKnValhYWKBruFqtksnlkSNH8Pbbb2Nubu6mnCcrYcoI1jBk1wlz8a/ValTUZzIZNJtNiKKITqdDDUjDMEiVomkagsEgms0mrFYrstksKWwURaFmmsViQSwWQzgcRq1Wo6SGYrF4U4/HhbBrqVKp0OoEOyfYNSEIAorFIjKZDK13LS4u0p/ZZ0U6nUaxWKRziTWTOp0OCoUCqTISiQROnjyJQqFA/jAcDofDuTy8OcDhcO4KLjd9Zk7pbDrF/tswDMq5VlUV1Wp1zcLsUokBzPBvJaIoUozhwsIC7HY7MpnMB3txH4ArTfqLxSJJw1mRzyZ9siwjm83S7vTKx2QNArZqwZonrHhmk1H2c6wYZsWnxWLB0aNHr+MrvzpWFvWs6cHMKlmRwpojrBhmigJgOc5tJazIazQaiMViiMfjZGbZbDZp1aVWqyGfzyMejyMWi5HZ4c1mZTHOFDmsmcGKXVbwsgYR+4eZy1mtVkxMTCAWi5GyZ3JyErlcjibK9Xod09PTsFqt9Ni1Wg3z8/N49913MTc3d1NVAwzWIGTSefYeMZPBVquFVCqFYDCIdDpN5zvzImG+Jo1Gg0wZx8fHUS6XKSnCarXCarVCEARqumiahmKxiJGREUxNTWF+fp4M/m5FdF1Hq9Va8zOTfd7oug6n04l2u03xgyypJBAIIJlMol6vI5lMolgswmw2Q1EUMhFlppDMX4B7A3A4HM764c0BDodz18MK/rVuqFmRe6nGwNWy8newqdetDJsMt1otapSwQqjValHBfyHsa+xnWq0WKS5qtRrtltdqNTJiM5lMNHVl6oFbFTblBd4reNj03G6309cux9LSEqkLkskkfT2bzcLhcJCnRSaToWnprQpbH2AFMjMVZO85i3hkDSamtmDqGZvNBk3TEI1GaXUln89DEASalLMUiUQigbNnz2J+fv6WaAwAa6tN2H+zr7G0B7b3zhRJTHVSq9VIvaTrOhYXF2nthzVfmL8FW1fIZDIolUo4e/Yszp8/f0s3BhiXen7smmLeJAAoJpIpq0RRpAYCW8mw2WyrmpesoXajkl84HA7nTkK41jemgiDc2ne6HA6HcxUwKevNli3fKphMplV+C1eC3bRfePxYochSH1iBpGnaLV/cXApRFOF0OqmwX0+2/Mq1C2B5Msr2zOv1Osrl8m01/WTv6YWwSTf7HpPJRAqdld/D/lsURTLpY2aVVqsVXV1dmJmZwdTU1G1zTBiCIMDv969SkSiKQjv1rVaLjC8FQaCYPEmS6HvZ+cWaabFYDMByxB9TZNxJOJ1OOlcEQYDVaqXziDUPmToJAMVa8s9rDodzt2AYxjWNdOLNAQ6Hw+FcF5j8+cKoxDsZSZLInf/9TLXNZjMEQSAfBibBvttgzQSz2Qy73U4rKGazGdls9o4+JqwBxxQDAEgxYLFYyJCReTfcTbDPFLPZTJ4WzMeFqZk4HA7nboI3BzgcDofD4XA4HA6Hw7nLudbNAfFaPhiHw+FwOBwOh8PhcDic249rrhzgcDgcDofD4XA4HA6Hc3vBlQMcDofD4XA4HA6Hw+Hc5fDmAIfD4XA4HA6Hw+FwOHc5vDnA4XA4HA6Hw+FwOBzOXQ5vDnA4HA6Hw+FwOBwOh3OXw5sDHA6Hw+FwOBwOh8Ph3OXw5gCHw+FwOBwOh8PhcDh3Obw5wOFwOBwOh8PhcDgczl0Obw5wOBwOh8PhcDgcDodzl8ObAxwOh8PhcDgcDofD4dzl8OYAh8PhcDgcDofD4XA4dzm8OcDhcDgcDofD4XA4HM5dDm8OcDgcDofD4XA4HA6Hc5fDmwMcDofD4XA4HA6Hw+Hc5fDmAIfD4XA4HA6Hw+FwOHc5vDnA4XA4HA6Hw+FwOBzOXQ5vDnA4HA6Hw+FwOBwOh3OXw5sDHA6Hw+FwOBwOh8Ph3OXw5gCHw+FwOBwOh8PhcDh3Obw5wOFwOBwOh8PhcDgczl3O/w8p4UVvcYRXTwAAAABJRU5ErkJggg==\n",
          "text/plain": "<Figure size 1000x1000 with 14 Axes>"
         },
         "metadata": {},
         "output_type": "display_data"
        },
        {
         "name": "stderr",
         "output_type": "stream",
         "text": "2020-12-23 15:55:03,888 INFO SAXtoAX: (40, 64, 64, 1)\n"
        },
        {
         "data": {
          "image/png": "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\n",
          "text/plain": "<Figure size 1000x1000 with 14 Axes>"
         },
         "metadata": {},
         "output_type": "display_data"
        }
       ]
      }
     },
     "1941ade051594a9b8d1fc2da095889a7": {
      "model_module": "@jupyter-widgets/controls",
      "model_module_version": "1.5.0",
      "model_name": "IntSliderModel",
      "state": {
       "description": "slice_by",
       "layout": "IPY_MODEL_c8fea6bbbc554dbaa3cc58266279efea",
       "max": 6,
       "min": 1,
       "style": "IPY_MODEL_662f3e686cf34e66a8251ac033f3a00b",
       "value": 3
      }
     },
     "26ca2b39692642eb9ec74ac674fd95ad": {
      "model_module": "@jupyter-widgets/base",
      "model_module_version": "1.2.0",
      "model_name": "LayoutModel",
      "state": {}
     },
     "4dbf3f774a17425887f8fa95e75f3261": {
      "model_module": "@jupyter-widgets/controls",
      "model_module_version": "1.5.0",
      "model_name": "IntSliderModel",
      "state": {
       "description": "im",
       "layout": "IPY_MODEL_fbbaaf77802c449491ecab88c7fedebc",
       "max": 1,
       "style": "IPY_MODEL_4e4e98283fbc4141bee52e4010807dcd"
      }
     },
     "4e4e98283fbc4141bee52e4010807dcd": {
      "model_module": "@jupyter-widgets/controls",
      "model_module_version": "1.5.0",
      "model_name": "SliderStyleModel",
      "state": {
       "description_width": ""
      }
     },
     "662f3e686cf34e66a8251ac033f3a00b": {
      "model_module": "@jupyter-widgets/controls",
      "model_module_version": "1.5.0",
      "model_name": "SliderStyleModel",
      "state": {
       "description_width": ""
      }
     },
     "6de277f598424980b833b2d02bc2c728": {
      "model_module": "@jupyter-widgets/base",
      "model_module_version": "1.2.0",
      "model_name": "LayoutModel",
      "state": {}
     },
     "7ccb4bc8cc0d4df9be9bbc2f024c2ad4": {
      "model_module": "@jupyter-widgets/output",
      "model_module_version": "1.0.0",
      "model_name": "OutputModel",
      "state": {
       "layout": "IPY_MODEL_b5cc4adfbdac4c28b9702a2910c8839d",
       "outputs": [
        {
         "name": "stderr",
         "output_type": "stream",
         "text": "2020-12-23 15:55:00,965 INFO input elements: 2\n2020-12-23 15:55:00,966 INFO output elements: 7\n2020-12-23 15:55:00,966 INFO (2, 40, 64, 64, 1)\n2020-12-23 15:55:00,966 INFO (2, 40, 64, 64, 1)\n2020-12-23 15:55:00,967 INFO (2, 40, 64, 64, 1)\n2020-12-23 15:55:00,967 INFO (2, 40, 64, 64, 1)\n"
        }
       ]
      }
     },
     "81bcbc97e3bd42d9880569fa440c5677": {
      "model_module": "@jupyter-widgets/base",
      "model_module_version": "1.2.0",
      "model_name": "LayoutModel",
      "state": {}
     },
     "936e632e8ba24e9981202969b6aaa17a": {
      "model_module": "@jupyter-widgets/controls",
      "model_module_version": "1.5.0",
      "model_name": "VBoxModel",
      "state": {
       "_dom_classes": [
        "widget-interact"
       ],
       "children": [
        "IPY_MODEL_4dbf3f774a17425887f8fa95e75f3261",
        "IPY_MODEL_1941ade051594a9b8d1fc2da095889a7",
        "IPY_MODEL_11fcef082e014186866d7c462f5977a7"
       ],
       "layout": "IPY_MODEL_a752935330e64cb89076d771be9f8d12"
      }
     },
     "9395ef554c124601b6cae001e881f2cd": {
      "model_module": "@jupyter-widgets/controls",
      "model_module_version": "1.5.0",
      "model_name": "IntSliderModel",
      "state": {
       "description": "batch",
       "layout": "IPY_MODEL_26ca2b39692642eb9ec74ac674fd95ad",
       "max": 1,
       "style": "IPY_MODEL_fb1e8b05d8cc46298e139f1348d0635c"
      }
     },
     "9fd5544e991a4896970281365e5daf97": {
      "model_module": "@jupyter-widgets/controls",
      "model_module_version": "1.5.0",
      "model_name": "VBoxModel",
      "state": {
       "_dom_classes": [
        "widget-interact"
       ],
       "children": [
        "IPY_MODEL_9395ef554c124601b6cae001e881f2cd",
        "IPY_MODEL_7ccb4bc8cc0d4df9be9bbc2f024c2ad4"
       ],
       "layout": "IPY_MODEL_81bcbc97e3bd42d9880569fa440c5677"
      }
     },
     "a752935330e64cb89076d771be9f8d12": {
      "model_module": "@jupyter-widgets/base",
      "model_module_version": "1.2.0",
      "model_name": "LayoutModel",
      "state": {}
     },
     "b5cc4adfbdac4c28b9702a2910c8839d": {
      "model_module": "@jupyter-widgets/base",
      "model_module_version": "1.2.0",
      "model_name": "LayoutModel",
      "state": {}
     },
     "c8fea6bbbc554dbaa3cc58266279efea": {
      "model_module": "@jupyter-widgets/base",
      "model_module_version": "1.2.0",
      "model_name": "LayoutModel",
      "state": {}
     },
     "fb1e8b05d8cc46298e139f1348d0635c": {
      "model_module": "@jupyter-widgets/controls",
      "model_module_version": "1.5.0",
      "model_name": "SliderStyleModel",
      "state": {
       "description_width": ""
      }
     },
     "fbbaaf77802c449491ecab88c7fedebc": {
      "model_module": "@jupyter-widgets/base",
      "model_module_version": "1.2.0",
      "model_name": "LayoutModel",
      "state": {}
     }
    },
    "version_major": 2,
    "version_minor": 0
   }
  }
 },
 "nbformat": 4,
 "nbformat_minor": 4
}
