{
 "cells": [
  {
   "cell_type": "code",
   "execution_count": 21,
   "metadata": {
    "collapsed": true,
    "jupyter": {
     "outputs_hidden": true
    },
    "pycharm": {
     "is_executing": false
    }
   },
   "outputs": [
    {
     "data": {
      "text/html": [
       "<style>.container { width:90% !important; }</style>"
      ],
      "text/plain": [
       "<IPython.core.display.HTML object>"
      ]
     },
     "metadata": {},
     "output_type": "display_data"
    },
    {
     "name": "stderr",
     "output_type": "stream",
     "text": [
      "2019-05-03 17:33:11,264 INFO config saved:\n",
      " {\n",
      "    \"ACTIVATION\": \"elu\",\n",
      "    \"ARCHITECTURE\": \"3D\",\n",
      "    \"AUGMENT\": false,\n",
      "    \"BATCHSIZE\": 1,\n",
      "    \"CONFIG_PATH\": \"reports/configs/3D_unet_cce_dice_loss\\\\2019-05-03_17_33\",\n",
      "    \"CREATE_DATASET\": false,\n",
      "    \"DATASET\": \"tetra\",\n",
      "    \"EPOCHS\": 5,\n",
      "    \"EPOCHS_BETWEEN_CHECKPOINTS\": 5,\n",
      "    \"EXPERIMENT\": \"3D_unet_cce_dice_loss\",\n",
      "    \"HISTORY_PATH\": \"reports/history/3D_unet_cce_dice_loss\\\\2019-05-03_17_33\",\n",
      "    \"IMG_CHANNELS\": 1,\n",
      "    \"IMG_HEIGHT\": 256,\n",
      "    \"IMG_WIDTH\": 256,\n",
      "    \"IMG_Z\": 10,\n",
      "    \"LEARNING_RATE\": 0.01,\n",
      "    \"MASK_CLASSES\": 4,\n",
      "    \"MASK_VALUES\": [\n",
      "        0,\n",
      "        1,\n",
      "        2,\n",
      "        3\n",
      "    ],\n",
      "    \"MODEL_PATH\": \"models\\\\3D_unet_cce_dice_loss\\\\2019-05-03_17_33\",\n",
      "    \"MONITOR_FUNCTION\": \"val_jaccard_coef\",\n",
      "    \"MONITOR_MODE\": \"max\",\n",
      "    \"OPTIMIZER\": \"adam\",\n",
      "    \"SHUFFLE\": true,\n",
      "    \"TENSORBOARD_LOG_DIR\": \"reports/tensorboard_logs\\\\3D_unet_cce_dice_loss\\\\2019-05-03_17_33\",\n",
      "    \"TEST_PATH\": \"data/raw/tetra/3D/test/\",\n",
      "    \"TRAIN_PATH\": \"data/raw/tetra/3D/train/\",\n",
      "    \"TRAIN_SMALL\": \"data/raw/tetra/small/train/\",\n",
      "    \"VAL_PATH\": \"data/raw/tetra/3D/val/\"\n",
      "}\n"
     ]
    },
    {
     "name": "stdout",
     "output_type": "stream",
     "text": [
      "E:\\sven\\git\\cardio\n",
      "E:\\sven\\git\\cardio\n"
     ]
    }
   ],
   "source": [
    "# define logging and working directory\n",
    "import os\n",
    "# define GPU id to use\n",
    "# 0 = 1080 Bus ID 2\n",
    "# 1 = Titan Bus ID 131\n",
    "# 2 = Titan Bus ID 132\n",
    "os.environ[\"CUDA_DEVICE_ORDER\"] = \"PCI_BUS_ID\"\n",
    "os.environ[\"CUDA_VISIBLE_DEVICES\"] = \"0\"\n",
    "current_gpu = '/device:GPU:0'\n",
    "\n",
    "\n",
    "import logging\n",
    "import json\n",
    "import platform\n",
    "import SimpleITK as sitk\n",
    "import glob\n",
    "import datetime\n",
    "import random\n",
    "from collections import Counter\n",
    "import matplotlib.pyplot as plt\n",
    "import keras\n",
    "from keras.preprocessing.image import ImageDataGenerator\n",
    "from medpy.metric.binary import hd, dc,jc,precision,recall\n",
    "import tensorflow as tf\n",
    "%matplotlib inline\n",
    "%reload_ext autoreload\n",
    "%autoreload 2\n",
    "\n",
    "import pandas as pd\n",
    "import numpy as np\n",
    "\n",
    "from ipywidgets import interact\n",
    "from IPython.core.display import display, HTML\n",
    "display(HTML(\"<style>.container { width:90% !important; }</style>\"))\n",
    "\n",
    "# setup working directory\n",
    "print(os.getcwd())\n",
    "# change working directory to project root - neccessary for jupyter notebooks\n",
    "if platform.system() is \"Windows\":\n",
    "    os.chdir('E:\\\\sven\\\\git\\\\cardio')\n",
    "else:\n",
    "    os.chdir('/Users/minority/Code/Git/cardio')\n",
    "print(os.getcwd())\n",
    "\n",
    "\n",
    "from src.utils.utils_io import Console_and_file_logger, ensure_dir, save_config\n",
    "from src.utils.myshow import myshow, myshow3d\n",
    "from src.visualization.visualize import plot_3d_vol, plot_4d_vol\n",
    "from src.data.dataset import get_metadata_maybe, filter_4d_vol, describe_sitk\n",
    "from src.data.generators import DataGenerator3D\n",
    "from src.data.dataset import get_3d_img_msk_files\n",
    "from src.utils.my_metrics import jaccard_coef, jaccard_coef_background, jaccard_coef_rv, jaccard_coef_lv, jaccard_coef_myo, bce_dice_iou_loss, weighted_categorical_crossentropy, cce_dice_loss, weighted_cce_dice_coef\n",
    "from src.utils.unet_3d_metrics import weighted_dice_coefficient_loss\n",
    "from src.models.ModelManager import create_3D_unet\n",
    "from src.utils.KerasCallbacks import TrainValTensorBoard, CustomImageWriter3D\n",
    "\n",
    "\n",
    "\n",
    "# define experiment name for report, model and log paths + filenames\n",
    "EXPERIMENT = '3D_unet_cce_dice_loss'\n",
    "now = datetime.datetime.now()\n",
    "\n",
    "# image params\n",
    "ARCHITECTURE = '3D'\n",
    "IMG_Z = 10\n",
    "IMG_WIDTH = 256\n",
    "IMG_HEIGHT = 256\n",
    "SPACING = (1.25,1.25,8)\n",
    "IMG_CHANNELS = 1\n",
    "MASK_VALUES = [0, 1, 2, 3]  \n",
    "MASK_CLASSES = len(MASK_VALUES)\n",
    "# Background = 0 = Y[:,:,0]\n",
    "# RV = 1 = Y[:,:,1] \n",
    "# Myo = 2 = Y[:,:,2] \n",
    "# LV = 3 = Y[:,:,3]\n",
    "\n",
    "\n",
    "# path params\n",
    "DATASET = 'tetra'  # 'acdc' # or 'tetra'\n",
    "TRAIN_SMALL = 'data/raw/tetra/small/train/'\n",
    "TRAIN_PATH = 'data/raw/tetra/3D/train/'\n",
    "VAL_PATH = 'data/raw/tetra/3D/val/'\n",
    "TEST_PATH = 'data/raw/tetra/3D/test/'\n",
    "\n",
    "CREATE_DATASET = False\n",
    "\n",
    "MODEL_PATH = os.path.join(\n",
    "    os.path.join('models', EXPERIMENT), str(now.strftime(\"%Y-%m-%d_%H_%M\")))\n",
    "TENSORBOARD_LOG_DIR = os.path.join(\n",
    "    os.path.join('reports/tensorboard_logs', EXPERIMENT),\n",
    "    str(now.strftime(\"%Y-%m-%d_%H_%M\")))\n",
    "CONFIG_PATH = os.path.join(os.path.join('reports/configs/',EXPERIMENT),\n",
    "                           str(now.strftime(\"%Y-%m-%d_%H_%M\")))\n",
    "HISTORY_PATH = os.path.join(os.path.join('reports/history/',EXPERIMENT),\n",
    "                            str(now.strftime(\"%Y-%m-%d_%H_%M\")))\n",
    "# training params\n",
    "seed = 42\n",
    "BATCHSIZE = 1  # 64, 16, 1\n",
    "EPOCHS = 5\n",
    "AUGMENT = False\n",
    "SHUFFLE = True\n",
    "EPOCHS_BETWEEN_CHECKPOINTS = 5\n",
    "OPTIMIZER = 'adam'  # adam, sgd, softmax # https://keras.io/optimizers/\n",
    "ACTIVATION = 'elu'  # 'elu' --> works well with binary_crossentropy and bce_dice_loss, relu does not work, it clips negative values, bse does return negative values\n",
    "LEARNING_RATE = 0.01  # is not used in the model at the moment\n",
    "MONITOR_FUNCTION = 'val_jaccard_coef'\n",
    "MONITOR_MODE = 'max'\n",
    "#LOSS_FUNCTION = keras.losses.categorical_crossentropy\n",
    "metrics = [jaccard_coef]\n",
    "\n",
    "weights = np.array([1,1,1,1]) # Class one at 1, class 2, 10 times the normal weights, class 3 and 4 20x.\n",
    "LOSS_FUNCTION = weighted_categorical_crossentropy(weights)\n",
    "#LOSS_FUNCTION = cce_dice_loss\n",
    "\n",
    "\n",
    "Console_and_file_logger(EXPERIMENT, logging.INFO)\n",
    "ensure_dir(TENSORBOARD_LOG_DIR)\n",
    "ensure_dir(MODEL_PATH)\n",
    "ensure_dir(CONFIG_PATH)\n",
    "ensure_dir(HISTORY_PATH)\n",
    "config = save_config(locals())\n",
    "\n",
    "# set warnings lvl for skimage\n",
    "#warnings.filterwarnings('ignore', category=UserWarning, module='skimage')\n",
    "# define a Tensorflow config\n",
    "tf_config = tf.ConfigProto()\n",
    "tf_config.gpu_options.allow_growth = True\n",
    "tf_session = tf.Session(config=tf_config)\n",
    "tf.keras.backend.set_session(tf_session)"
   ]
  },
  {
   "cell_type": "markdown",
   "metadata": {},
   "source": [
    "## Get training, val and test-files"
   ]
  },
  {
   "cell_type": "code",
   "execution_count": 22,
   "metadata": {
    "pycharm": {
     "is_executing": false,
     "metadata": false,
     "name": "#%%\n"
    }
   },
   "outputs": [
    {
     "name": "stderr",
     "output_type": "stream",
     "text": [
      "2019-05-03 17:33:12,824 INFO x_train files: 757, y_train files: 757\n",
      "2019-05-03 17:33:12,839 INFO x_val files: 126, y_val files: 126\n",
      "2019-05-03 17:33:12,839 INFO x_test files: 127, y_test files: 127\n"
     ]
    }
   ],
   "source": [
    "x_train_f, y_train_f = get_3d_img_msk_files('data/raw/tetra/3D/train/')\n",
    "x_val_f, y_val_f = get_3d_img_msk_files('data/raw/tetra/3D/val/')\n",
    "x_test_f, y_test_f = get_3d_img_msk_files('data/raw/tetra/3D/test/')\n",
    "\n",
    "logging.info('x_train files: {}, y_train files: {}'.format(len(x_train_f), len(y_train_f)))\n",
    "logging.info('x_val files: {}, y_val files: {}'.format(len(x_val_f), len(y_val_f)))\n",
    "logging.info('x_test files: {}, y_test files: {}'.format(len(x_test_f), len(y_test_f)))"
   ]
  },
  {
   "cell_type": "markdown",
   "metadata": {},
   "source": [
    "## Create Datagenerator"
   ]
  },
  {
   "cell_type": "code",
   "execution_count": 23,
   "metadata": {
    "pycharm": {
     "is_executing": false,
     "metadata": false,
     "name": "#%%\n"
    }
   },
   "outputs": [
    {
     "name": "stderr",
     "output_type": "stream",
     "text": [
      "2019-05-03 17:33:14,384 INFO Create DataGenerator\n",
      "2019-05-03 17:33:14,384 INFO No augmentation\n",
      "2019-05-03 17:33:14,399 INFO Create DataGenerator\n",
      "2019-05-03 17:33:14,399 INFO No augmentation\n",
      "2019-05-03 17:33:14,399 INFO Create DataGenerator\n",
      "2019-05-03 17:33:14,399 INFO No augmentation\n"
     ]
    }
   ],
   "source": [
    "# create a batch generator, filter size, for faster testing\n",
    "SPACING = (2.4,2.2,8) # test spacing to get images with shaoe 128, 128, 128\n",
    "config['IMG_Z'] = 16\n",
    "config['IMG_WIDTH'] = 128\n",
    "config['IMG_HEIGHT'] = 128\n",
    "batch_generator = DataGenerator3D(x_train_f, y_train_f, batch_size=config['BATCHSIZE'], dim=(config['IMG_Z'], config['IMG_WIDTH'], config['IMG_HEIGHT']), spacing=SPACING, mask_values=MASK_VALUES, grey=True)\n",
    "validation_generator = DataGenerator3D(x_val_f, y_val_f, batch_size=config['BATCHSIZE'], dim=(config['IMG_Z'], config['IMG_WIDTH'], config['IMG_HEIGHT']), spacing=SPACING, mask_values=MASK_VALUES, grey=True)\n",
    "test_generator = DataGenerator3D(x_test_f, y_test_f, dim=(config['IMG_Z'], config['IMG_WIDTH'], config['IMG_HEIGHT']), spacing=SPACING, mask_values=MASK_VALUES)\n"
   ]
  },
  {
   "cell_type": "markdown",
   "metadata": {},
   "source": [
    "## Visualize one batch"
   ]
  },
  {
   "cell_type": "code",
   "execution_count": 24,
   "metadata": {},
   "outputs": [
    {
     "data": {
      "application/vnd.jupyter.widget-view+json": {
       "model_id": "aa304ab0ce4b4e0b8d7cfe62992ab494",
       "version_major": 2,
       "version_minor": 0
      },
      "text/plain": [
       "interactive(children=(IntSlider(value=378, description='batch', max=757), Output()), _dom_classes=('widget-int…"
      ]
     },
     "metadata": {},
     "output_type": "display_data"
    }
   ],
   "source": [
    "@interact\n",
    "def visualize_batchgenerator(batch=(0,len(batch_generator), 1)):\n",
    "    # plot x and y\n",
    "    x, y = batch_generator.__getitem__(batch)\n",
    "    if x[0].shape[-1]>4: # make shure to work with channel first batches\n",
    "        x = np.swapaxes(x,1,-1)\n",
    "        y = np.swapaxes(y,1,-1)\n",
    "    plot_3d_vol(x[0], y[0],fig_size=(40,20))\n",
    "    nda = (y[0]).astype(np.float64)\n",
    "    nda_cat = nda[...,1:] # ignore background for plotting\n",
    "    myshow3d(sitk.GetImageFromArray(nda_cat))\n",
    "    \n",
    "    nda_img = (x[0]).astype(np.float64)\n",
    "    nda_img = nda_img[...,0] # ignore background for plotting\n",
    "    myshow3d(sitk.GetImageFromArray(nda_img))"
   ]
  },
  {
   "cell_type": "markdown",
   "metadata": {},
   "source": [
    "## Create Model"
   ]
  },
  {
   "cell_type": "code",
   "execution_count": 17,
   "metadata": {},
   "outputs": [],
   "source": [
    "def get_callbacks():\n",
    "    \n",
    "    callbacks=[]\n",
    "    ensure_dir(MODEL_PATH)\n",
    "\n",
    "        \n",
    "    def feed_inputs_4_tensorboard():\n",
    "        \"\"\"\n",
    "        Returns some sample images for visualisation in Tensorboard\n",
    "        \"\"\"\n",
    "        feed = {}\n",
    "\n",
    "        # build our feed dict for later tensorboard visualisation\n",
    "        #feed['train_lower'] = get_tetra_slice_examples(TRAIN_PATH, examples=4, volume_part='lower')\n",
    "        #feed['val_lower'] = get_tetra_slice_examples(VAL_PATH, examples=2, volume_part='lower')\n",
    "        \n",
    "        #feed['train_middle'] = get_tetra_slice_examples(TRAIN_PATH, examples=4, volume_part='middle')\n",
    "        #feed['val_middle'] = get_tetra_slice_examples(VAL_PATH, examples=2, volume_part='middle')\n",
    "        \n",
    "        #feed['train_upper'] = get_tetra_slice_examples(TRAIN_PATH, examples=4, volume_part='upper')\n",
    "        #feed['val_upper'] = get_tetra_slice_examples(VAL_PATH, examples=2, volume_part='upper')\n",
    "        \n",
    "        # test the batch- and validation-generator\n",
    "        x_t, y_t = batch_generator.__getitem__(0)\n",
    "        x_v, y_v = validation_generator.__getitem__(0)\n",
    "        # get the first 2 elements from both batches\n",
    "        x_t, y_t = x_t[0:2], y_t[0:2]\n",
    "        x_v, y_v = x_v[0:2], y_v[0:2]\n",
    "        # build our feed dict for later tensorboard visualisation\n",
    "        feed['train_generator'] = (x_t, y_t)\n",
    "        feed['val_generator'] = (x_v, y_v)\n",
    "        logging.info('feed 4 Tensorboard is ready')\n",
    "        return feed\n",
    "    \n",
    "\n",
    "    #callbacks.append(IoU(validation_generator, len(MASK_VALUES), EPOCHS_BETWEEN_CHECKPOINTS))\n",
    "    callbacks.append(CustomImageWriter3D(log_dir = config['TENSORBOARD_LOG_DIR'],image_freq = config['EPOCHS_BETWEEN_CHECKPOINTS'], feed_inputs_4_display = feed_inputs_4_tensorboard()))\n",
    "    callbacks.append(keras.callbacks.EarlyStopping(patience=10, verbose=1, monitor=MONITOR_FUNCTION, mode=MONITOR_MODE))\n",
    "    #callbacks.append(WeightsSaver(MODEL_PATH, model_freq = 2))\n",
    "    callbacks.append(keras.callbacks.ModelCheckpoint(os.path.join(MODEL_PATH, 'checkpoint.h5'), verbose=1, save_best_only=True, monitor=MONITOR_FUNCTION, mode=MONITOR_MODE))\n",
    "    callbacks.append(TrainValTensorBoard(log_dir=config['TENSORBOARD_LOG_DIR'], batch_size=config['BATCHSIZE']))\n",
    "    callbacks.append(keras.callbacks.TerminateOnNaN())\n",
    "    return callbacks\n",
    "    "
   ]
  },
  {
   "cell_type": "code",
   "execution_count": 18,
   "metadata": {},
   "outputs": [],
   "source": [
    "from src.models.Isensee2017 import isensee2017_model"
   ]
  },
  {
   "cell_type": "code",
   "execution_count": 1,
   "metadata": {},
   "outputs": [
    {
     "ename": "NameError",
     "evalue": "name 'isensee2017_model' is not defined",
     "output_type": "error",
     "traceback": [
      "\u001b[0;31m---------------------------------------------------------------------------\u001b[0m",
      "\u001b[0;31mNameError\u001b[0m                                 Traceback (most recent call last)",
      "\u001b[0;32m<ipython-input-1-4da3b7db50df>\u001b[0m in \u001b[0;36m<module>\u001b[0;34m\u001b[0m\n\u001b[1;32m      1\u001b[0m \u001b[0;34m\u001b[0m\u001b[0m\n\u001b[1;32m      2\u001b[0m \u001b[0minput_\u001b[0m \u001b[0;34m=\u001b[0m \u001b[0;34m(\u001b[0m\u001b[0;36m128\u001b[0m\u001b[0;34m,\u001b[0m \u001b[0;36m128\u001b[0m\u001b[0;34m,\u001b[0m \u001b[0;36m16\u001b[0m\u001b[0;34m,\u001b[0m \u001b[0;36m4\u001b[0m\u001b[0;34m)\u001b[0m\u001b[0;34m\u001b[0m\u001b[0;34m\u001b[0m\u001b[0m\n\u001b[0;32m----> 3\u001b[0;31m model = isensee2017_model(input_shape=input_, \n\u001b[0m\u001b[1;32m      4\u001b[0m                           \u001b[0mn_base_filters\u001b[0m\u001b[0;34m=\u001b[0m\u001b[0;36m16\u001b[0m\u001b[0;34m,\u001b[0m\u001b[0;34m\u001b[0m\u001b[0;34m\u001b[0m\u001b[0m\n\u001b[1;32m      5\u001b[0m                           \u001b[0mdepth\u001b[0m\u001b[0;34m=\u001b[0m\u001b[0;36m5\u001b[0m\u001b[0;34m,\u001b[0m\u001b[0;34m\u001b[0m\u001b[0;34m\u001b[0m\u001b[0m\n",
      "\u001b[0;31mNameError\u001b[0m: name 'isensee2017_model' is not defined"
     ]
    }
   ],
   "source": [
    "\n",
    "input_ = (128, 128, 16, 4)\n",
    "model = isensee2017_model(input_shape=input_, \n",
    "                          n_base_filters=16, \n",
    "                          depth=5, \n",
    "                          dropout_rate=0.3,\n",
    "                          n_segmentation_levels=1, \n",
    "                          n_labels=4, \n",
    "                          initial_learning_rate=5e-4,\n",
    "                          activation_name=\"sigmoid\")\n",
    "model.summary()"
   ]
  },
  {
   "cell_type": "code",
   "execution_count": 20,
   "metadata": {
    "pycharm": {
     "metadata": false,
     "name": "#%%\n"
    }
   },
   "outputs": [
    {
     "name": "stderr",
     "output_type": "stream",
     "text": [
      "2019-05-02 23:30:14,693 INFO Fit model\n",
      "2019-05-02 23:30:14,833 INFO feed 4 Tensorboard is ready\n"
     ]
    },
    {
     "name": "stdout",
     "output_type": "stream",
     "text": [
      "Epoch 1/100\n",
      "757/757 [==============================] - 468s 618ms/step - loss: 0.0444 - dice_coefficient: nan - categorical_accuracy: 0.9658 - val_loss: 4.7684e-07 - val_dice_coefficient: nan - val_categorical_accuracy: 0.9696\n"
     ]
    },
    {
     "name": "stderr",
     "output_type": "stream",
     "text": [
      "E:\\sven\\git\\cardio\\src\\visualization\\visualize.py:60: RuntimeWarning: invalid value encountered in greater\n",
      "  y_ = (y_> 0.5).astype(np.float32)\n",
      "C:\\Users\\s.koehler\\AppData\\Local\\conda\\conda\\envs\\sv\\lib\\site-packages\\keras\\callbacks.py:526: RuntimeWarning: Early stopping conditioned on metric `val_jaccard_coef` which is not available. Available metrics are: val_loss,val_dice_coefficient,val_categorical_accuracy,loss,dice_coefficient,categorical_accuracy\n",
      "  (self.monitor, ','.join(list(logs.keys()))), RuntimeWarning\n",
      "C:\\Users\\s.koehler\\AppData\\Local\\conda\\conda\\envs\\sv\\lib\\site-packages\\keras\\callbacks.py:435: RuntimeWarning: Can save best model only with val_jaccard_coef available, skipping.\n",
      "  'skipping.' % (self.monitor), RuntimeWarning)\n"
     ]
    },
    {
     "name": "stdout",
     "output_type": "stream",
     "text": [
      "Epoch 2/100\n",
      "757/757 [==============================] - 460s 608ms/step - loss: 4.7684e-07 - dice_coefficient: nan - categorical_accuracy: 0.9693 - val_loss: 4.7684e-07 - val_dice_coefficient: nan - val_categorical_accuracy: 0.9696\n",
      "Epoch 3/100\n",
      "757/757 [==============================] - 459s 606ms/step - loss: 4.7684e-07 - dice_coefficient: nan - categorical_accuracy: 0.9693 - val_loss: 4.7684e-07 - val_dice_coefficient: nan - val_categorical_accuracy: 0.9696\n",
      "Epoch 4/100\n",
      "757/757 [==============================] - 458s 605ms/step - loss: 4.7684e-07 - dice_coefficient: nan - categorical_accuracy: 0.9693 - val_loss: 4.7684e-07 - val_dice_coefficient: nan - val_categorical_accuracy: 0.9696\n",
      "Epoch 5/100\n",
      "757/757 [==============================] - 459s 606ms/step - loss: 4.7684e-07 - dice_coefficient: nan - categorical_accuracy: 0.9693 - val_loss: 4.7684e-07 - val_dice_coefficient: nan - val_categorical_accuracy: 0.9696\n",
      "Epoch 6/100\n",
      "757/757 [==============================] - 462s 610ms/step - loss: 4.7684e-07 - dice_coefficient: nan - categorical_accuracy: 0.9693 - val_loss: 4.7684e-07 - val_dice_coefficient: nan - val_categorical_accuracy: 0.9696\n",
      "Epoch 7/100\n",
      "757/757 [==============================] - 462s 610ms/step - loss: 4.7684e-07 - dice_coefficient: nan - categorical_accuracy: 0.9693 - val_loss: 4.7684e-07 - val_dice_coefficient: nan - val_categorical_accuracy: 0.9696\n",
      "Epoch 8/100\n",
      "757/757 [==============================] - 457s 604ms/step - loss: 4.7684e-07 - dice_coefficient: nan - categorical_accuracy: 0.9693 - val_loss: 4.7684e-07 - val_dice_coefficient: nan - val_categorical_accuracy: 0.9696\n",
      "Epoch 9/100\n",
      "757/757 [==============================] - 460s 608ms/step - loss: 4.7684e-07 - dice_coefficient: nan - categorical_accuracy: 0.9693 - val_loss: 4.7684e-07 - val_dice_coefficient: nan - val_categorical_accuracy: 0.9696\n",
      "Epoch 10/100\n",
      "757/757 [==============================] - 459s 607ms/step - loss: 4.7684e-07 - dice_coefficient: nan - categorical_accuracy: 0.9693 - val_loss: 4.7684e-07 - val_dice_coefficient: nan - val_categorical_accuracy: 0.9696\n",
      "Epoch 11/100\n",
      "757/757 [==============================] - 459s 606ms/step - loss: 4.7684e-07 - dice_coefficient: nan - categorical_accuracy: 0.9693 - val_loss: 4.7684e-07 - val_dice_coefficient: nan - val_categorical_accuracy: 0.9696\n",
      "Epoch 12/100\n",
      "757/757 [==============================] - 459s 606ms/step - loss: 4.7684e-07 - dice_coefficient: nan - categorical_accuracy: 0.9693 - val_loss: 4.7684e-07 - val_dice_coefficient: nan - val_categorical_accuracy: 0.9696\n",
      "Epoch 13/100\n",
      "757/757 [==============================] - 460s 607ms/step - loss: 4.7684e-07 - dice_coefficient: nan - categorical_accuracy: 0.9693 - val_loss: 4.7684e-07 - val_dice_coefficient: nan - val_categorical_accuracy: 0.9696\n",
      "Epoch 14/100\n",
      "757/757 [==============================] - 458s 605ms/step - loss: 4.7684e-07 - dice_coefficient: nan - categorical_accuracy: 0.9693 - val_loss: 4.7684e-07 - val_dice_coefficient: nan - val_categorical_accuracy: 0.9696\n",
      "Epoch 15/100\n",
      "757/757 [==============================] - 460s 607ms/step - loss: 4.7684e-07 - dice_coefficient: nan - categorical_accuracy: 0.9693 - val_loss: 4.7684e-07 - val_dice_coefficient: nan - val_categorical_accuracy: 0.9696\n",
      "Epoch 16/100\n",
      "757/757 [==============================] - 461s 609ms/step - loss: 4.7684e-07 - dice_coefficient: nan - categorical_accuracy: 0.9693 - val_loss: 4.7684e-07 - val_dice_coefficient: nan - val_categorical_accuracy: 0.9696\n",
      "Epoch 17/100\n",
      "757/757 [==============================] - 462s 610ms/step - loss: 4.7684e-07 - dice_coefficient: nan - categorical_accuracy: 0.9693 - val_loss: 4.7684e-07 - val_dice_coefficient: nan - val_categorical_accuracy: 0.9696\n",
      "Epoch 18/100\n",
      "757/757 [==============================] - 460s 607ms/step - loss: 4.7684e-07 - dice_coefficient: nan - categorical_accuracy: 0.9693 - val_loss: 4.7684e-07 - val_dice_coefficient: nan - val_categorical_accuracy: 0.9696\n",
      "Epoch 19/100\n",
      "757/757 [==============================] - 464s 613ms/step - loss: 4.7684e-07 - dice_coefficient: nan - categorical_accuracy: 0.9693 - val_loss: 4.7684e-07 - val_dice_coefficient: nan - val_categorical_accuracy: 0.9696\n",
      "Epoch 20/100\n",
      "757/757 [==============================] - 461s 610ms/step - loss: 4.7684e-07 - dice_coefficient: nan - categorical_accuracy: 0.9693 - val_loss: 4.7684e-07 - val_dice_coefficient: nan - val_categorical_accuracy: 0.9696\n",
      "Epoch 21/100\n",
      "757/757 [==============================] - 459s 606ms/step - loss: 4.7684e-07 - dice_coefficient: nan - categorical_accuracy: 0.9693 - val_loss: 4.7684e-07 - val_dice_coefficient: nan - val_categorical_accuracy: 0.9696\n",
      "Epoch 22/100\n",
      "757/757 [==============================] - 460s 608ms/step - loss: 4.7684e-07 - dice_coefficient: nan - categorical_accuracy: 0.9693 - val_loss: 4.7684e-07 - val_dice_coefficient: nan - val_categorical_accuracy: 0.9696\n",
      "Epoch 23/100\n",
      "757/757 [==============================] - 461s 609ms/step - loss: 4.7684e-07 - dice_coefficient: nan - categorical_accuracy: 0.9693 - val_loss: 4.7684e-07 - val_dice_coefficient: nan - val_categorical_accuracy: 0.9696\n",
      "Epoch 24/100\n",
      "757/757 [==============================] - 464s 612ms/step - loss: 4.7684e-07 - dice_coefficient: nan - categorical_accuracy: 0.9693 - val_loss: 4.7684e-07 - val_dice_coefficient: nan - val_categorical_accuracy: 0.9696\n",
      "Epoch 25/100\n",
      "757/757 [==============================] - 462s 610ms/step - loss: 4.7684e-07 - dice_coefficient: nan - categorical_accuracy: 0.9693 - val_loss: 4.7684e-07 - val_dice_coefficient: nan - val_categorical_accuracy: 0.9696\n",
      "Epoch 26/100\n",
      "757/757 [==============================] - 461s 609ms/step - loss: 4.7684e-07 - dice_coefficient: nan - categorical_accuracy: 0.9693 - val_loss: 4.7684e-07 - val_dice_coefficient: nan - val_categorical_accuracy: 0.9696\n",
      "Epoch 27/100\n",
      "757/757 [==============================] - 463s 611ms/step - loss: 4.7684e-07 - dice_coefficient: nan - categorical_accuracy: 0.9693 - val_loss: 4.7684e-07 - val_dice_coefficient: nan - val_categorical_accuracy: 0.9696\n",
      "Epoch 28/100\n",
      "757/757 [==============================] - 461s 609ms/step - loss: 4.7684e-07 - dice_coefficient: nan - categorical_accuracy: 0.9693 - val_loss: 4.7684e-07 - val_dice_coefficient: nan - val_categorical_accuracy: 0.9696\n",
      "Epoch 29/100\n",
      "757/757 [==============================] - 462s 610ms/step - loss: 4.7684e-07 - dice_coefficient: nan - categorical_accuracy: 0.9693 - val_loss: 4.7684e-07 - val_dice_coefficient: nan - val_categorical_accuracy: 0.9696\n",
      "Epoch 30/100\n",
      "757/757 [==============================] - 461s 609ms/step - loss: 4.7684e-07 - dice_coefficient: nan - categorical_accuracy: 0.9693 - val_loss: 4.7684e-07 - val_dice_coefficient: nan - val_categorical_accuracy: 0.9696\n",
      "Epoch 31/100\n",
      "757/757 [==============================] - 460s 608ms/step - loss: 4.7684e-07 - dice_coefficient: nan - categorical_accuracy: 0.9693 - val_loss: 4.7684e-07 - val_dice_coefficient: nan - val_categorical_accuracy: 0.9696\n",
      "Epoch 32/100\n",
      "757/757 [==============================] - 461s 609ms/step - loss: 4.7684e-07 - dice_coefficient: nan - categorical_accuracy: 0.9693 - val_loss: 4.7684e-07 - val_dice_coefficient: nan - val_categorical_accuracy: 0.9696\n",
      "Epoch 33/100\n",
      "757/757 [==============================] - 460s 607ms/step - loss: 4.7684e-07 - dice_coefficient: nan - categorical_accuracy: 0.9693 - val_loss: 4.7684e-07 - val_dice_coefficient: nan - val_categorical_accuracy: 0.9696\n",
      "Epoch 34/100\n",
      "757/757 [==============================] - 464s 613ms/step - loss: 4.7684e-07 - dice_coefficient: nan - categorical_accuracy: 0.9693 - val_loss: 4.7684e-07 - val_dice_coefficient: nan - val_categorical_accuracy: 0.9696\n",
      "Epoch 35/100\n",
      "757/757 [==============================] - 462s 611ms/step - loss: 4.7684e-07 - dice_coefficient: nan - categorical_accuracy: 0.9693 - val_loss: 4.7684e-07 - val_dice_coefficient: nan - val_categorical_accuracy: 0.9696\n",
      "Epoch 36/100\n",
      "757/757 [==============================] - 460s 607ms/step - loss: 4.7684e-07 - dice_coefficient: nan - categorical_accuracy: 0.9693 - val_loss: 4.7684e-07 - val_dice_coefficient: nan - val_categorical_accuracy: 0.9696\n",
      "Epoch 37/100\n",
      "757/757 [==============================] - 460s 608ms/step - loss: 4.7684e-07 - dice_coefficient: nan - categorical_accuracy: 0.9693 - val_loss: 4.7684e-07 - val_dice_coefficient: nan - val_categorical_accuracy: 0.9696\n",
      "Epoch 38/100\n",
      "757/757 [==============================] - 459s 607ms/step - loss: 4.7684e-07 - dice_coefficient: nan - categorical_accuracy: 0.9693 - val_loss: 4.7684e-07 - val_dice_coefficient: nan - val_categorical_accuracy: 0.9696\n",
      "Epoch 39/100\n",
      "757/757 [==============================] - 458s 605ms/step - loss: 4.7684e-07 - dice_coefficient: nan - categorical_accuracy: 0.9693 - val_loss: 4.7684e-07 - val_dice_coefficient: nan - val_categorical_accuracy: 0.9696\n",
      "Epoch 40/100\n",
      "757/757 [==============================] - 460s 608ms/step - loss: 4.7684e-07 - dice_coefficient: nan - categorical_accuracy: 0.9693 - val_loss: 4.7684e-07 - val_dice_coefficient: nan - val_categorical_accuracy: 0.9696\n",
      "Epoch 41/100\n",
      "757/757 [==============================] - 459s 607ms/step - loss: 4.7684e-07 - dice_coefficient: nan - categorical_accuracy: 0.9693 - val_loss: 4.7684e-07 - val_dice_coefficient: nan - val_categorical_accuracy: 0.9696\n",
      "Epoch 42/100\n",
      "757/757 [==============================] - 458s 605ms/step - loss: 4.7684e-07 - dice_coefficient: nan - categorical_accuracy: 0.9693 - val_loss: 4.7684e-07 - val_dice_coefficient: nan - val_categorical_accuracy: 0.9696\n",
      "Epoch 43/100\n",
      "757/757 [==============================] - 459s 606ms/step - loss: 4.7684e-07 - dice_coefficient: nan - categorical_accuracy: 0.9693 - val_loss: 4.7684e-07 - val_dice_coefficient: nan - val_categorical_accuracy: 0.9696\n",
      "Epoch 44/100\n",
      "757/757 [==============================] - 460s 608ms/step - loss: 4.7684e-07 - dice_coefficient: nan - categorical_accuracy: 0.9693 - val_loss: 4.7684e-07 - val_dice_coefficient: nan - val_categorical_accuracy: 0.9696\n",
      "Epoch 45/100\n",
      "757/757 [==============================] - 458s 605ms/step - loss: 4.7684e-07 - dice_coefficient: nan - categorical_accuracy: 0.9693 - val_loss: 4.7684e-07 - val_dice_coefficient: nan - val_categorical_accuracy: 0.9696\n",
      "Epoch 46/100\n",
      "757/757 [==============================] - 458s 605ms/step - loss: 4.7684e-07 - dice_coefficient: nan - categorical_accuracy: 0.9693 - val_loss: 4.7684e-07 - val_dice_coefficient: nan - val_categorical_accuracy: 0.9696\n",
      "Epoch 47/100\n",
      "757/757 [==============================] - 456s 602ms/step - loss: 4.7684e-07 - dice_coefficient: nan - categorical_accuracy: 0.9693 - val_loss: 4.7684e-07 - val_dice_coefficient: nan - val_categorical_accuracy: 0.9696\n",
      "Epoch 48/100\n",
      "757/757 [==============================] - 459s 606ms/step - loss: 4.7684e-07 - dice_coefficient: nan - categorical_accuracy: 0.9693 - val_loss: 4.7684e-07 - val_dice_coefficient: nan - val_categorical_accuracy: 0.9696\n",
      "Epoch 49/100\n",
      "757/757 [==============================] - 459s 607ms/step - loss: 4.7684e-07 - dice_coefficient: nan - categorical_accuracy: 0.9693 - val_loss: 4.7684e-07 - val_dice_coefficient: nan - val_categorical_accuracy: 0.9696\n",
      "Epoch 50/100\n",
      "757/757 [==============================] - 458s 605ms/step - loss: 4.7684e-07 - dice_coefficient: nan - categorical_accuracy: 0.9693 - val_loss: 4.7684e-07 - val_dice_coefficient: nan - val_categorical_accuracy: 0.9696\n",
      "Epoch 51/100\n",
      "757/757 [==============================] - 458s 605ms/step - loss: 4.7684e-07 - dice_coefficient: nan - categorical_accuracy: 0.9693 - val_loss: 4.7684e-07 - val_dice_coefficient: nan - val_categorical_accuracy: 0.9696\n",
      "Epoch 52/100\n",
      "757/757 [==============================] - 458s 605ms/step - loss: 4.7684e-07 - dice_coefficient: nan - categorical_accuracy: 0.9693 - val_loss: 4.7684e-07 - val_dice_coefficient: nan - val_categorical_accuracy: 0.9696\n",
      "Epoch 53/100\n",
      "756/757 [============================>.] - ETA: 0s - loss: 4.7684e-07 - dice_coefficient: nan - categorical_accuracy: 0.9693"
     ]
    },
    {
     "ename": "KeyboardInterrupt",
     "evalue": "",
     "output_type": "error",
     "traceback": [
      "\u001b[1;31m---------------------------------------------------------------------------\u001b[0m",
      "\u001b[1;31mKeyboardInterrupt\u001b[0m                         Traceback (most recent call last)",
      "\u001b[1;32m<ipython-input-20-cdafa20d4131>\u001b[0m in \u001b[0;36m<module>\u001b[1;34m\u001b[0m\n\u001b[0;32m     15\u001b[0m         \u001b[0mmax_queue_size\u001b[0m\u001b[1;33m=\u001b[0m\u001b[1;36m10\u001b[0m\u001b[1;33m,\u001b[0m\u001b[1;33m\u001b[0m\u001b[0m\n\u001b[0;32m     16\u001b[0m         \u001b[0mworkers\u001b[0m\u001b[1;33m=\u001b[0m\u001b[1;36m4\u001b[0m\u001b[1;33m,\u001b[0m\u001b[1;33m\u001b[0m\u001b[0m\n\u001b[1;32m---> 17\u001b[1;33m         verbose=1)\n\u001b[0m",
      "\u001b[1;32m~\\AppData\\Local\\conda\\conda\\envs\\sv\\lib\\site-packages\\keras\\legacy\\interfaces.py\u001b[0m in \u001b[0;36mwrapper\u001b[1;34m(*args, **kwargs)\u001b[0m\n\u001b[0;32m     89\u001b[0m                 warnings.warn('Update your `' + object_name +\n\u001b[0;32m     90\u001b[0m                               '` call to the Keras 2 API: ' + signature, stacklevel=2)\n\u001b[1;32m---> 91\u001b[1;33m             \u001b[1;32mreturn\u001b[0m \u001b[0mfunc\u001b[0m\u001b[1;33m(\u001b[0m\u001b[1;33m*\u001b[0m\u001b[0margs\u001b[0m\u001b[1;33m,\u001b[0m \u001b[1;33m**\u001b[0m\u001b[0mkwargs\u001b[0m\u001b[1;33m)\u001b[0m\u001b[1;33m\u001b[0m\u001b[0m\n\u001b[0m\u001b[0;32m     92\u001b[0m         \u001b[0mwrapper\u001b[0m\u001b[1;33m.\u001b[0m\u001b[0m_original_function\u001b[0m \u001b[1;33m=\u001b[0m \u001b[0mfunc\u001b[0m\u001b[1;33m\u001b[0m\u001b[0m\n\u001b[0;32m     93\u001b[0m         \u001b[1;32mreturn\u001b[0m \u001b[0mwrapper\u001b[0m\u001b[1;33m\u001b[0m\u001b[0m\n",
      "\u001b[1;32m~\\AppData\\Local\\conda\\conda\\envs\\sv\\lib\\site-packages\\keras\\engine\\training.py\u001b[0m in \u001b[0;36mfit_generator\u001b[1;34m(self, generator, steps_per_epoch, epochs, verbose, callbacks, validation_data, validation_steps, class_weight, max_queue_size, workers, use_multiprocessing, shuffle, initial_epoch)\u001b[0m\n\u001b[0;32m   2248\u001b[0m                                 \u001b[0mworkers\u001b[0m\u001b[1;33m=\u001b[0m\u001b[0mworkers\u001b[0m\u001b[1;33m,\u001b[0m\u001b[1;33m\u001b[0m\u001b[0m\n\u001b[0;32m   2249\u001b[0m                                 \u001b[0muse_multiprocessing\u001b[0m\u001b[1;33m=\u001b[0m\u001b[0muse_multiprocessing\u001b[0m\u001b[1;33m,\u001b[0m\u001b[1;33m\u001b[0m\u001b[0m\n\u001b[1;32m-> 2250\u001b[1;33m                                 max_queue_size=max_queue_size)\n\u001b[0m\u001b[0;32m   2251\u001b[0m                         \u001b[1;32melse\u001b[0m\u001b[1;33m:\u001b[0m\u001b[1;33m\u001b[0m\u001b[0m\n\u001b[0;32m   2252\u001b[0m                             \u001b[1;31m# No need for try/except because\u001b[0m\u001b[1;33m\u001b[0m\u001b[1;33m\u001b[0m\u001b[0m\n",
      "\u001b[1;32m~\\AppData\\Local\\conda\\conda\\envs\\sv\\lib\\site-packages\\keras\\legacy\\interfaces.py\u001b[0m in \u001b[0;36mwrapper\u001b[1;34m(*args, **kwargs)\u001b[0m\n\u001b[0;32m     89\u001b[0m                 warnings.warn('Update your `' + object_name +\n\u001b[0;32m     90\u001b[0m                               '` call to the Keras 2 API: ' + signature, stacklevel=2)\n\u001b[1;32m---> 91\u001b[1;33m             \u001b[1;32mreturn\u001b[0m \u001b[0mfunc\u001b[0m\u001b[1;33m(\u001b[0m\u001b[1;33m*\u001b[0m\u001b[0margs\u001b[0m\u001b[1;33m,\u001b[0m \u001b[1;33m**\u001b[0m\u001b[0mkwargs\u001b[0m\u001b[1;33m)\u001b[0m\u001b[1;33m\u001b[0m\u001b[0m\n\u001b[0m\u001b[0;32m     92\u001b[0m         \u001b[0mwrapper\u001b[0m\u001b[1;33m.\u001b[0m\u001b[0m_original_function\u001b[0m \u001b[1;33m=\u001b[0m \u001b[0mfunc\u001b[0m\u001b[1;33m\u001b[0m\u001b[0m\n\u001b[0;32m     93\u001b[0m         \u001b[1;32mreturn\u001b[0m \u001b[0mwrapper\u001b[0m\u001b[1;33m\u001b[0m\u001b[0m\n",
      "\u001b[1;32m~\\AppData\\Local\\conda\\conda\\envs\\sv\\lib\\site-packages\\keras\\engine\\training.py\u001b[0m in \u001b[0;36mevaluate_generator\u001b[1;34m(self, generator, steps, max_queue_size, workers, use_multiprocessing, verbose)\u001b[0m\n\u001b[0;32m   2397\u001b[0m                                      \u001b[1;34m'or (x, y). Found: '\u001b[0m \u001b[1;33m+\u001b[0m\u001b[1;33m\u001b[0m\u001b[0m\n\u001b[0;32m   2398\u001b[0m                                      str(generator_output))\n\u001b[1;32m-> 2399\u001b[1;33m                 \u001b[0mouts\u001b[0m \u001b[1;33m=\u001b[0m \u001b[0mself\u001b[0m\u001b[1;33m.\u001b[0m\u001b[0mtest_on_batch\u001b[0m\u001b[1;33m(\u001b[0m\u001b[0mx\u001b[0m\u001b[1;33m,\u001b[0m \u001b[0my\u001b[0m\u001b[1;33m,\u001b[0m \u001b[0msample_weight\u001b[0m\u001b[1;33m=\u001b[0m\u001b[0msample_weight\u001b[0m\u001b[1;33m)\u001b[0m\u001b[1;33m\u001b[0m\u001b[0m\n\u001b[0m\u001b[0;32m   2400\u001b[0m                 \u001b[1;32mif\u001b[0m \u001b[1;32mnot\u001b[0m \u001b[0misinstance\u001b[0m\u001b[1;33m(\u001b[0m\u001b[0mouts\u001b[0m\u001b[1;33m,\u001b[0m \u001b[0mlist\u001b[0m\u001b[1;33m)\u001b[0m\u001b[1;33m:\u001b[0m\u001b[1;33m\u001b[0m\u001b[0m\n\u001b[0;32m   2401\u001b[0m                     \u001b[0mouts\u001b[0m \u001b[1;33m=\u001b[0m \u001b[1;33m[\u001b[0m\u001b[0mouts\u001b[0m\u001b[1;33m]\u001b[0m\u001b[1;33m\u001b[0m\u001b[0m\n",
      "\u001b[1;32m~\\AppData\\Local\\conda\\conda\\envs\\sv\\lib\\site-packages\\keras\\engine\\training.py\u001b[0m in \u001b[0;36mtest_on_batch\u001b[1;34m(self, x, y, sample_weight)\u001b[0m\n\u001b[0;32m   1922\u001b[0m             \u001b[0mins\u001b[0m \u001b[1;33m=\u001b[0m \u001b[0mx\u001b[0m \u001b[1;33m+\u001b[0m \u001b[0my\u001b[0m \u001b[1;33m+\u001b[0m \u001b[0msample_weights\u001b[0m\u001b[1;33m\u001b[0m\u001b[0m\n\u001b[0;32m   1923\u001b[0m         \u001b[0mself\u001b[0m\u001b[1;33m.\u001b[0m\u001b[0m_make_test_function\u001b[0m\u001b[1;33m(\u001b[0m\u001b[1;33m)\u001b[0m\u001b[1;33m\u001b[0m\u001b[0m\n\u001b[1;32m-> 1924\u001b[1;33m         \u001b[0moutputs\u001b[0m \u001b[1;33m=\u001b[0m \u001b[0mself\u001b[0m\u001b[1;33m.\u001b[0m\u001b[0mtest_function\u001b[0m\u001b[1;33m(\u001b[0m\u001b[0mins\u001b[0m\u001b[1;33m)\u001b[0m\u001b[1;33m\u001b[0m\u001b[0m\n\u001b[0m\u001b[0;32m   1925\u001b[0m         \u001b[1;32mif\u001b[0m \u001b[0mlen\u001b[0m\u001b[1;33m(\u001b[0m\u001b[0moutputs\u001b[0m\u001b[1;33m)\u001b[0m \u001b[1;33m==\u001b[0m \u001b[1;36m1\u001b[0m\u001b[1;33m:\u001b[0m\u001b[1;33m\u001b[0m\u001b[0m\n\u001b[0;32m   1926\u001b[0m             \u001b[1;32mreturn\u001b[0m \u001b[0moutputs\u001b[0m\u001b[1;33m[\u001b[0m\u001b[1;36m0\u001b[0m\u001b[1;33m]\u001b[0m\u001b[1;33m\u001b[0m\u001b[0m\n",
      "\u001b[1;32m~\\AppData\\Local\\conda\\conda\\envs\\sv\\lib\\site-packages\\keras\\backend\\tensorflow_backend.py\u001b[0m in \u001b[0;36m__call__\u001b[1;34m(self, inputs)\u001b[0m\n\u001b[0;32m   2480\u001b[0m         \u001b[0msession\u001b[0m \u001b[1;33m=\u001b[0m \u001b[0mget_session\u001b[0m\u001b[1;33m(\u001b[0m\u001b[1;33m)\u001b[0m\u001b[1;33m\u001b[0m\u001b[0m\n\u001b[0;32m   2481\u001b[0m         updated = session.run(fetches=fetches, feed_dict=feed_dict,\n\u001b[1;32m-> 2482\u001b[1;33m                               **self.session_kwargs)\n\u001b[0m\u001b[0;32m   2483\u001b[0m         \u001b[1;32mreturn\u001b[0m \u001b[0mupdated\u001b[0m\u001b[1;33m[\u001b[0m\u001b[1;33m:\u001b[0m\u001b[0mlen\u001b[0m\u001b[1;33m(\u001b[0m\u001b[0mself\u001b[0m\u001b[1;33m.\u001b[0m\u001b[0moutputs\u001b[0m\u001b[1;33m)\u001b[0m\u001b[1;33m]\u001b[0m\u001b[1;33m\u001b[0m\u001b[0m\n\u001b[0;32m   2484\u001b[0m \u001b[1;33m\u001b[0m\u001b[0m\n",
      "\u001b[1;32m~\\AppData\\Local\\conda\\conda\\envs\\sv\\lib\\site-packages\\tensorflow\\python\\client\\session.py\u001b[0m in \u001b[0;36mrun\u001b[1;34m(self, fetches, feed_dict, options, run_metadata)\u001b[0m\n\u001b[0;32m    927\u001b[0m     \u001b[1;32mtry\u001b[0m\u001b[1;33m:\u001b[0m\u001b[1;33m\u001b[0m\u001b[0m\n\u001b[0;32m    928\u001b[0m       result = self._run(None, fetches, feed_dict, options_ptr,\n\u001b[1;32m--> 929\u001b[1;33m                          run_metadata_ptr)\n\u001b[0m\u001b[0;32m    930\u001b[0m       \u001b[1;32mif\u001b[0m \u001b[0mrun_metadata\u001b[0m\u001b[1;33m:\u001b[0m\u001b[1;33m\u001b[0m\u001b[0m\n\u001b[0;32m    931\u001b[0m         \u001b[0mproto_data\u001b[0m \u001b[1;33m=\u001b[0m \u001b[0mtf_session\u001b[0m\u001b[1;33m.\u001b[0m\u001b[0mTF_GetBuffer\u001b[0m\u001b[1;33m(\u001b[0m\u001b[0mrun_metadata_ptr\u001b[0m\u001b[1;33m)\u001b[0m\u001b[1;33m\u001b[0m\u001b[0m\n",
      "\u001b[1;32m~\\AppData\\Local\\conda\\conda\\envs\\sv\\lib\\site-packages\\tensorflow\\python\\client\\session.py\u001b[0m in \u001b[0;36m_run\u001b[1;34m(self, handle, fetches, feed_dict, options, run_metadata)\u001b[0m\n\u001b[0;32m   1150\u001b[0m     \u001b[1;32mif\u001b[0m \u001b[0mfinal_fetches\u001b[0m \u001b[1;32mor\u001b[0m \u001b[0mfinal_targets\u001b[0m \u001b[1;32mor\u001b[0m \u001b[1;33m(\u001b[0m\u001b[0mhandle\u001b[0m \u001b[1;32mand\u001b[0m \u001b[0mfeed_dict_tensor\u001b[0m\u001b[1;33m)\u001b[0m\u001b[1;33m:\u001b[0m\u001b[1;33m\u001b[0m\u001b[0m\n\u001b[0;32m   1151\u001b[0m       results = self._do_run(handle, final_targets, final_fetches,\n\u001b[1;32m-> 1152\u001b[1;33m                              feed_dict_tensor, options, run_metadata)\n\u001b[0m\u001b[0;32m   1153\u001b[0m     \u001b[1;32melse\u001b[0m\u001b[1;33m:\u001b[0m\u001b[1;33m\u001b[0m\u001b[0m\n\u001b[0;32m   1154\u001b[0m       \u001b[0mresults\u001b[0m \u001b[1;33m=\u001b[0m \u001b[1;33m[\u001b[0m\u001b[1;33m]\u001b[0m\u001b[1;33m\u001b[0m\u001b[0m\n",
      "\u001b[1;32m~\\AppData\\Local\\conda\\conda\\envs\\sv\\lib\\site-packages\\tensorflow\\python\\client\\session.py\u001b[0m in \u001b[0;36m_do_run\u001b[1;34m(self, handle, target_list, fetch_list, feed_dict, options, run_metadata)\u001b[0m\n\u001b[0;32m   1326\u001b[0m     \u001b[1;32mif\u001b[0m \u001b[0mhandle\u001b[0m \u001b[1;32mis\u001b[0m \u001b[1;32mNone\u001b[0m\u001b[1;33m:\u001b[0m\u001b[1;33m\u001b[0m\u001b[0m\n\u001b[0;32m   1327\u001b[0m       return self._do_call(_run_fn, feeds, fetches, targets, options,\n\u001b[1;32m-> 1328\u001b[1;33m                            run_metadata)\n\u001b[0m\u001b[0;32m   1329\u001b[0m     \u001b[1;32melse\u001b[0m\u001b[1;33m:\u001b[0m\u001b[1;33m\u001b[0m\u001b[0m\n\u001b[0;32m   1330\u001b[0m       \u001b[1;32mreturn\u001b[0m \u001b[0mself\u001b[0m\u001b[1;33m.\u001b[0m\u001b[0m_do_call\u001b[0m\u001b[1;33m(\u001b[0m\u001b[0m_prun_fn\u001b[0m\u001b[1;33m,\u001b[0m \u001b[0mhandle\u001b[0m\u001b[1;33m,\u001b[0m \u001b[0mfeeds\u001b[0m\u001b[1;33m,\u001b[0m \u001b[0mfetches\u001b[0m\u001b[1;33m)\u001b[0m\u001b[1;33m\u001b[0m\u001b[0m\n",
      "\u001b[1;32m~\\AppData\\Local\\conda\\conda\\envs\\sv\\lib\\site-packages\\tensorflow\\python\\client\\session.py\u001b[0m in \u001b[0;36m_do_call\u001b[1;34m(self, fn, *args)\u001b[0m\n\u001b[0;32m   1332\u001b[0m   \u001b[1;32mdef\u001b[0m \u001b[0m_do_call\u001b[0m\u001b[1;33m(\u001b[0m\u001b[0mself\u001b[0m\u001b[1;33m,\u001b[0m \u001b[0mfn\u001b[0m\u001b[1;33m,\u001b[0m \u001b[1;33m*\u001b[0m\u001b[0margs\u001b[0m\u001b[1;33m)\u001b[0m\u001b[1;33m:\u001b[0m\u001b[1;33m\u001b[0m\u001b[0m\n\u001b[0;32m   1333\u001b[0m     \u001b[1;32mtry\u001b[0m\u001b[1;33m:\u001b[0m\u001b[1;33m\u001b[0m\u001b[0m\n\u001b[1;32m-> 1334\u001b[1;33m       \u001b[1;32mreturn\u001b[0m \u001b[0mfn\u001b[0m\u001b[1;33m(\u001b[0m\u001b[1;33m*\u001b[0m\u001b[0margs\u001b[0m\u001b[1;33m)\u001b[0m\u001b[1;33m\u001b[0m\u001b[0m\n\u001b[0m\u001b[0;32m   1335\u001b[0m     \u001b[1;32mexcept\u001b[0m \u001b[0merrors\u001b[0m\u001b[1;33m.\u001b[0m\u001b[0mOpError\u001b[0m \u001b[1;32mas\u001b[0m \u001b[0me\u001b[0m\u001b[1;33m:\u001b[0m\u001b[1;33m\u001b[0m\u001b[0m\n\u001b[0;32m   1336\u001b[0m       \u001b[0mmessage\u001b[0m \u001b[1;33m=\u001b[0m \u001b[0mcompat\u001b[0m\u001b[1;33m.\u001b[0m\u001b[0mas_text\u001b[0m\u001b[1;33m(\u001b[0m\u001b[0me\u001b[0m\u001b[1;33m.\u001b[0m\u001b[0mmessage\u001b[0m\u001b[1;33m)\u001b[0m\u001b[1;33m\u001b[0m\u001b[0m\n",
      "\u001b[1;32m~\\AppData\\Local\\conda\\conda\\envs\\sv\\lib\\site-packages\\tensorflow\\python\\client\\session.py\u001b[0m in \u001b[0;36m_run_fn\u001b[1;34m(feed_dict, fetch_list, target_list, options, run_metadata)\u001b[0m\n\u001b[0;32m   1317\u001b[0m       \u001b[0mself\u001b[0m\u001b[1;33m.\u001b[0m\u001b[0m_extend_graph\u001b[0m\u001b[1;33m(\u001b[0m\u001b[1;33m)\u001b[0m\u001b[1;33m\u001b[0m\u001b[0m\n\u001b[0;32m   1318\u001b[0m       return self._call_tf_sessionrun(\n\u001b[1;32m-> 1319\u001b[1;33m           options, feed_dict, fetch_list, target_list, run_metadata)\n\u001b[0m\u001b[0;32m   1320\u001b[0m \u001b[1;33m\u001b[0m\u001b[0m\n\u001b[0;32m   1321\u001b[0m     \u001b[1;32mdef\u001b[0m \u001b[0m_prun_fn\u001b[0m\u001b[1;33m(\u001b[0m\u001b[0mhandle\u001b[0m\u001b[1;33m,\u001b[0m \u001b[0mfeed_dict\u001b[0m\u001b[1;33m,\u001b[0m \u001b[0mfetch_list\u001b[0m\u001b[1;33m)\u001b[0m\u001b[1;33m:\u001b[0m\u001b[1;33m\u001b[0m\u001b[0m\n",
      "\u001b[1;32m~\\AppData\\Local\\conda\\conda\\envs\\sv\\lib\\site-packages\\tensorflow\\python\\client\\session.py\u001b[0m in \u001b[0;36m_call_tf_sessionrun\u001b[1;34m(self, options, feed_dict, fetch_list, target_list, run_metadata)\u001b[0m\n\u001b[0;32m   1405\u001b[0m     return tf_session.TF_SessionRun_wrapper(\n\u001b[0;32m   1406\u001b[0m         \u001b[0mself\u001b[0m\u001b[1;33m.\u001b[0m\u001b[0m_session\u001b[0m\u001b[1;33m,\u001b[0m \u001b[0moptions\u001b[0m\u001b[1;33m,\u001b[0m \u001b[0mfeed_dict\u001b[0m\u001b[1;33m,\u001b[0m \u001b[0mfetch_list\u001b[0m\u001b[1;33m,\u001b[0m \u001b[0mtarget_list\u001b[0m\u001b[1;33m,\u001b[0m\u001b[1;33m\u001b[0m\u001b[0m\n\u001b[1;32m-> 1407\u001b[1;33m         run_metadata)\n\u001b[0m\u001b[0;32m   1408\u001b[0m \u001b[1;33m\u001b[0m\u001b[0m\n\u001b[0;32m   1409\u001b[0m   \u001b[1;32mdef\u001b[0m \u001b[0m_call_tf_sessionprun\u001b[0m\u001b[1;33m(\u001b[0m\u001b[0mself\u001b[0m\u001b[1;33m,\u001b[0m \u001b[0mhandle\u001b[0m\u001b[1;33m,\u001b[0m \u001b[0mfeed_dict\u001b[0m\u001b[1;33m,\u001b[0m \u001b[0mfetch_list\u001b[0m\u001b[1;33m)\u001b[0m\u001b[1;33m:\u001b[0m\u001b[1;33m\u001b[0m\u001b[0m\n",
      "\u001b[1;31mKeyboardInterrupt\u001b[0m: "
     ]
    }
   ],
   "source": [
    "config['EPOCHS'] = 100\n",
    "initial_epoch = 0\n",
    "\n",
    "# training\n",
    "\n",
    "with tf.device(current_gpu):\n",
    "    # fit model with trainingsgenerator\n",
    "    logging.info('Fit model')\n",
    "    results = model.fit_generator(\n",
    "        generator=batch_generator,\n",
    "        epochs=config['EPOCHS'],\n",
    "        callbacks=get_callbacks(),\n",
    "        validation_data=validation_generator,\n",
    "        initial_epoch=initial_epoch,\n",
    "        max_queue_size=10,\n",
    "        workers=4,\n",
    "        verbose=1)"
   ]
  },
  {
   "cell_type": "markdown",
   "metadata": {},
   "source": [
    "## Write trainings history to disk"
   ]
  },
  {
   "cell_type": "code",
   "execution_count": null,
   "metadata": {},
   "outputs": [],
   "source": [
    "logging.info(results.history)\n",
    "df_history = pd.DataFrame(results.history)\n",
    "\n",
    "df_history.to_csv(os.path.join('reports/history/3D_unet/', config['EXPERIMENT'] + '.csv'))\n",
    "df_history.plot()"
   ]
  },
  {
   "cell_type": "markdown",
   "metadata": {},
   "source": [
    "## Save model to disk"
   ]
  },
  {
   "cell_type": "code",
   "execution_count": 9,
   "metadata": {},
   "outputs": [
    {
     "name": "stderr",
     "output_type": "stream",
     "text": [
      "2019-04-25 17:18:04,686 INFO Saved model to disk: models/3D_unet_cce_dice_loss\n"
     ]
    }
   ],
   "source": [
    "from src.utils.utils_io import ensure_dir\n",
    "model_json = model.to_json()\n",
    "model_path = os.path.join('models/', config['EXPERIMENT'])\n",
    "ensure_dir(model_path)\n",
    "with open(os.path.join(model_path, 'model.json'), \"w\") as json_file:\n",
    "    json_file.write(model_json)\n",
    "\n",
    "# serialize weights to HDF5\n",
    "name = 'weights_e-{0}_val_loss-{1}.h5'.format(config['EXPERIMENT'], '01')\n",
    "model.save_weights(os.path.join(model_path, name))\n",
    "logging.info(\"Saved model to disk: {}\".format(model_path))"
   ]
  },
  {
   "cell_type": "markdown",
   "metadata": {},
   "source": [
    "## Calculate metrics"
   ]
  },
  {
   "cell_type": "code",
   "execution_count": 13,
   "metadata": {},
   "outputs": [
    {
     "name": "stderr",
     "output_type": "stream",
     "text": [
      "2019-04-25 18:35:04,100 INFO load and predict 127 batches\n",
      "2019-04-25 18:36:15,094 INFO gt shape: (128, 12, 256, 256, 4)\n",
      "2019-04-25 18:36:15,094 INFO pred shape: (128, 12, 256, 256, 4)\n"
     ]
    }
   ],
   "source": [
    "# predict for all batches\n",
    "from medpy.metric.binary import hd, dc,jc,precision,recall\n",
    "import numpy as np\n",
    "gt_ = []\n",
    "pred_ = []\n",
    "img_ = []\n",
    "n_batches = len(test_generator)\n",
    "#n_batches = 2\n",
    "logging.info('load and predict {} batches'.format(n_batches))\n",
    "#with tf.device(current_gpu):\n",
    "#    pred = model.predict_generator(batch_generator, steps = len(batch_generator))\n",
    "#\n",
    "#gt_ = [gt_.extend(batch[1]) for batch in batch_generator]\n",
    "    \n",
    "\n",
    "\n",
    "for idx,batch in enumerate(test_generator):\n",
    "    if idx <= n_batches:\n",
    "        with tf.device(current_gpu):\n",
    "            img_.extend(batch[0])\n",
    "            pred_.extend(((model.predict_on_batch(batch[0]))>=0.5).astype(np.bool))\n",
    "        gt_.extend(batch[1])\n",
    "    else:\n",
    "        break\n",
    "\n",
    "# reshape\n",
    "gt = np.array(gt_)\n",
    "pred = np.array(pred_)\n",
    "\n",
    "logging.info('gt shape: {}'.format(gt.shape))\n",
    "logging.info('pred shape: {}'.format(pred.shape))\n",
    "del gt_\n",
    "del pred_"
   ]
  },
  {
   "cell_type": "code",
   "execution_count": 14,
   "metadata": {},
   "outputs": [
    {
     "name": "stderr",
     "output_type": "stream",
     "text": [
      "2019-04-25 18:36:25,956 INFO jac: 0.9857375262342911\n",
      "2019-04-25 18:36:25,956 INFO dice: 0.9928175433171392\n",
      "2019-04-25 18:36:25,956 INFO prec: 0.9925043322609612\n",
      "2019-04-25 18:36:25,956 INFO recall: 0.9931309521198273\n"
     ]
    }
   ],
   "source": [
    "# calc medpy scores\n",
    "jaccard_coef = jc(pred, gt)\n",
    "dice_score = dc(pred, gt)\n",
    "precision_score = precision(pred, gt)\n",
    "recall_score = recall(pred, gt)\n",
    "\n",
    "logging.info('jac: {}'.format(jaccard_coef))\n",
    "logging.info('dice: {}'.format(dice_score))\n",
    "logging.info('prec: {}'.format(precision_score))\n",
    "logging.info('recall: {}'.format(recall_score))"
   ]
  },
  {
   "cell_type": "code",
   "execution_count": 15,
   "metadata": {},
   "outputs": [
    {
     "name": "stderr",
     "output_type": "stream",
     "text": [
      "2019-04-25 18:36:30,169 INFO jac: 0.9944598505959397\n",
      "2019-04-25 18:36:30,169 INFO dice: 0.9972222306694191\n",
      "2019-04-25 18:36:30,169 INFO prec: 0.9978699238022684\n",
      "2019-04-25 18:36:30,169 INFO recall: 0.9965753777949433\n",
      "2019-04-25 18:36:34,300 INFO jac: 0.8077829767147708\n",
      "2019-04-25 18:36:34,300 INFO dice: 0.8936725117112567\n",
      "2019-04-25 18:36:34,300 INFO prec: 0.8813529914136737\n",
      "2019-04-25 18:36:34,300 INFO recall: 0.9063413179348874\n",
      "2019-04-25 18:36:38,247 INFO jac: 0.6981590059794022\n",
      "2019-04-25 18:36:38,247 INFO dice: 0.8222539862534762\n",
      "2019-04-25 18:36:38,247 INFO prec: 0.7661480602238935\n",
      "2019-04-25 18:36:38,247 INFO recall: 0.887226639436396\n",
      "2019-04-25 18:36:42,303 INFO jac: 0.8724628853017204\n",
      "2019-04-25 18:36:42,303 INFO dice: 0.9318880413067686\n",
      "2019-04-25 18:36:42,303 INFO prec: 0.9350864580785502\n",
      "2019-04-25 18:36:42,303 INFO recall: 0.9287114300017919\n"
     ]
    }
   ],
   "source": [
    "# calc IOU per channel\n",
    "for c in range(pred.shape[-1]):\n",
    "    pred_ = pred[...,c]\n",
    "    gt_ = gt[...,c]\n",
    "    # calc medpy scores\n",
    "    jaccard_coef = jc(pred_, gt_)\n",
    "    dice_score = dc(pred_, gt_)\n",
    "    precision_score = precision(pred_, gt_)\n",
    "    recall_score = recall(pred_, gt_)\n",
    "\n",
    "    logging.info('jac: {}'.format(jaccard_coef))\n",
    "    logging.info('dice: {}'.format(dice_score))\n",
    "    logging.info('prec: {}'.format(precision_score))\n",
    "    logging.info('recall: {}'.format(recall_score))\n",
    "\n"
   ]
  },
  {
   "cell_type": "code",
   "execution_count": null,
   "metadata": {},
   "outputs": [],
   "source": [
    "from src.utils.my_metrics import jaccard_coef, jaccard_coef_background, jaccard_coef_rv, jaccard_coef_lv, jaccard_coef_myo, bce_dice_iou_loss, weighted_categorical_crossentropy, cce_dice_loss, weighted_cce_dice_coef"
   ]
  },
  {
   "cell_type": "code",
   "execution_count": 12,
   "metadata": {},
   "outputs": [
    {
     "name": "stderr",
     "output_type": "stream",
     "text": [
      "2019-04-25 17:22:30,732 INFO jac: 0.9962716483214747\n",
      "2019-04-25 17:22:30,732 INFO dice: 0.9981323425187849\n",
      "2019-04-25 17:22:30,732 INFO prec: 0.9989544550326821\n",
      "2019-04-25 17:22:30,732 INFO recall: 0.9973115820449483\n",
      "2019-04-25 17:22:55,880 INFO jac: 0.8690431935156842\n",
      "2019-04-25 17:22:55,880 INFO dice: 0.929933772029107\n",
      "2019-04-25 17:22:55,880 INFO prec: 0.907100853645496\n",
      "2019-04-25 17:22:55,880 INFO recall: 0.9539458401729277\n",
      "2019-04-25 17:23:19,842 INFO jac: 0.747106838663043\n",
      "2019-04-25 17:23:19,842 INFO dice: 0.8552503168435417\n",
      "2019-04-25 17:23:19,842 INFO prec: 0.7930340435369907\n",
      "2019-04-25 17:23:19,858 INFO recall: 0.9280598319179684\n",
      "2019-04-25 17:23:43,617 INFO jac: 0.9157806465379281\n",
      "2019-04-25 17:23:43,617 INFO dice: 0.9560391459146079\n",
      "2019-04-25 17:23:43,617 INFO prec: 0.9670873491505381\n",
      "2019-04-25 17:23:43,617 INFO recall: 0.9452405252532905\n"
     ]
    }
   ],
   "source": [
    "# calc IOU per channel\n",
    "for c in range(pred.shape[-1]):\n",
    "    pred_ = pred[...,c]\n",
    "    gt_ = gt[...,c]\n",
    "    # calc medpy scores\n",
    "    jaccard_coef = jc(pred_, gt_)\n",
    "    dice_score = dc(pred_, gt_)\n",
    "    precision_score = precision(pred_, gt_)\n",
    "    recall_score = recall(pred_, gt_)\n",
    "\n",
    "    logging.info('jac: {}'.format(jaccard_coef))\n",
    "    logging.info('dice: {}'.format(dice_score))\n",
    "    logging.info('prec: {}'.format(precision_score))\n",
    "    logging.info('recall: {}'.format(recall_score))\n"
   ]
  },
  {
   "cell_type": "code",
   "execution_count": null,
   "metadata": {},
   "outputs": [],
   "source": [
    "from src.visualization.visualize import plot_3d_vol"
   ]
  },
  {
   "cell_type": "code",
   "execution_count": 10,
   "metadata": {},
   "outputs": [
    {
     "ename": "NameError",
     "evalue": "name 'img_' is not defined",
     "output_type": "error",
     "traceback": [
      "\u001b[1;31m---------------------------------------------------------------------------\u001b[0m",
      "\u001b[1;31mNameError\u001b[0m                                 Traceback (most recent call last)",
      "\u001b[1;32m<ipython-input-10-0a7b3e55a6de>\u001b[0m in \u001b[0;36m<module>\u001b[1;34m\u001b[0m\n\u001b[1;32m----> 1\u001b[1;33m \u001b[0mplot_3d_vol\u001b[0m\u001b[1;33m(\u001b[0m\u001b[0mimg_\u001b[0m\u001b[1;33m[\u001b[0m\u001b[1;36m0\u001b[0m\u001b[1;33m]\u001b[0m\u001b[1;33m,\u001b[0m \u001b[0mgt\u001b[0m\u001b[1;33m[\u001b[0m\u001b[1;36m0\u001b[0m\u001b[1;33m]\u001b[0m\u001b[1;33m)\u001b[0m\u001b[1;33m\u001b[0m\u001b[0m\n\u001b[0m",
      "\u001b[1;31mNameError\u001b[0m: name 'img_' is not defined"
     ]
    }
   ],
   "source": [
    "plot_3d_vol(img_[0], gt[0])"
   ]
  },
  {
   "cell_type": "code",
   "execution_count": null,
   "metadata": {},
   "outputs": [],
   "source": [
    "plot_3d_vol(img_[0], pred[0])"
   ]
  },
  {
   "cell_type": "code",
   "execution_count": null,
   "metadata": {},
   "outputs": [],
   "source": [
    "print(pred_[0].shape)"
   ]
  },
  {
   "cell_type": "code",
   "execution_count": null,
   "metadata": {},
   "outputs": [],
   "source": [
    "plot_3d_vol(pred_[0])"
   ]
  },
  {
   "cell_type": "code",
   "execution_count": 19,
   "metadata": {},
   "outputs": [
    {
     "data": {
      "text/plain": [
       "1.0"
      ]
     },
     "execution_count": 19,
     "metadata": {},
     "output_type": "execute_result"
    }
   ],
   "source": [
    "pred[0].max()"
   ]
  },
  {
   "cell_type": "code",
   "execution_count": null,
   "metadata": {},
   "outputs": [],
   "source": []
  }
 ],
 "metadata": {
  "kernelspec": {
   "display_name": "Python 3",
   "language": "python",
   "name": "python3"
  },
  "language_info": {
   "codemirror_mode": {
    "name": "ipython",
    "version": 3
   },
   "file_extension": ".py",
   "mimetype": "text/x-python",
   "name": "python",
   "nbconvert_exporter": "python",
   "pygments_lexer": "ipython3",
   "version": "3.6.9"
  },
  "widgets": {
   "application/vnd.jupyter.widget-state+json": {
    "state": {},
    "version_major": 2,
    "version_minor": 0
   }
  }
 },
 "nbformat": 4,
 "nbformat_minor": 4
}
