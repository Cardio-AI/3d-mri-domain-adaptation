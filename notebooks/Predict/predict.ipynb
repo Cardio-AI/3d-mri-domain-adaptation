{
 "cells": [
  {
   "cell_type": "code",
   "execution_count": 1,
   "metadata": {},
   "outputs": [
    {
     "name": "stderr",
     "output_type": "stream",
     "text": [
      "Using TensorFlow backend.\n"
     ]
    }
   ],
   "source": [
    "import os\n",
    "import keras\n",
    "from keras.models import model_from_json\n",
    "from ipywidgets import interact_manual\n",
    "from ipywidgets import interact\n",
    "from visualise import show_slice_transparent\n",
    "from numpy import load\n",
    "import numpy as np\n",
    "import matplotlib.pyplot as plt\n",
    "import glob\n",
    "import logging"
   ]
  },
  {
   "cell_type": "code",
   "execution_count": 2,
   "metadata": {},
   "outputs": [
    {
     "data": {
      "application/vnd.jupyter.widget-view+json": {
       "model_id": "5e837db85a6a4650ad3a1aaec3dcc10e",
       "version_major": 2,
       "version_minor": 0
      },
      "text/plain": [
       "interactive(children=(Dropdown(description='model_path', options=('acdc_fold_0_trained/model.json',), value='a…"
      ]
     },
     "metadata": {},
     "output_type": "display_data"
    }
   ],
   "source": [
    "@interact_manual\n",
    "def load_model(model_path=glob.glob('**/model.json')):\n",
    "    \n",
    "    \"\"\"\n",
    "    search for subfolders with json or weight files\n",
    "    Example: /example_1/model.json and /example_1/weights.h5\n",
    "    \"\"\"\n",
    "    config = {'MODEL_PATH':os.path.dirname(os.path.abspath(model_path)),\n",
    "             }\n",
    "    model = model_from_json(open(os.path.join(config.get('MODEL_PATH', './'), 'model.json')).read())\n",
    "    model.load_weights(os.path.join(config.get('MODEL_PATH', './'), 'checkpoint.h5'))\n",
    "    print(model_path + ' loaded')\n",
    "    globals()['model'] = model\n",
    "    \n",
    "    \n",
    "    \n",
    "    "
   ]
  },
  {
   "cell_type": "code",
   "execution_count": 3,
   "metadata": {},
   "outputs": [
    {
     "data": {
      "application/vnd.jupyter.widget-view+json": {
       "model_id": "5fa49f2fbbf345d4bc2a7a0a56d5c38f",
       "version_major": 2,
       "version_minor": 0
      },
      "text/plain": [
       "interactive(children=(Dropdown(description='slice_path', options=('2d_numpy/0_x.npy', '2d_numpy/10_x.npy', '2d…"
      ]
     },
     "metadata": {},
     "output_type": "display_data"
    }
   ],
   "source": [
    "@interact_manual\n",
    "def predict_files(slice_path = sorted(glob.glob('2d_numpy/*x.npy'))):\n",
    "    \n",
    "    \n",
    "    x, y = load(slice_path), load(slice_path.replace('x.npy', 'y.npy'))\n",
    "    print(x.shape, y.shape)\n",
    "    show_slice_transparent(x,y)\n",
    "    \n",
    "    pred = model.predict(x[np.newaxis,...])\n",
    "    print(pred.shape)\n",
    "    show_slice_transparent(x, pred[0])\n",
    "    "
   ]
  },
  {
   "cell_type": "code",
   "execution_count": null,
   "metadata": {},
   "outputs": [],
   "source": []
  }
 ],
 "metadata": {
  "kernelspec": {
   "display_name": "Python 3",
   "language": "python",
   "name": "python3"
  },
  "language_info": {
   "codemirror_mode": {
    "name": "ipython",
    "version": 3
   },
   "file_extension": ".py",
   "mimetype": "text/x-python",
   "name": "python",
   "nbconvert_exporter": "python",
   "pygments_lexer": "ipython3",
   "version": "3.8.3"
  },
  "widgets": {
   "application/vnd.jupyter.widget-state+json": {
    "state": {},
    "version_major": 2,
    "version_minor": 0
   }
  }
 },
 "nbformat": 4,
 "nbformat_minor": 4
}
