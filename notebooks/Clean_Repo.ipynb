{
 "cells": [
  {
   "cell_type": "code",
   "execution_count": 1,
   "metadata": {},
   "outputs": [
    {
     "name": "stdout",
     "output_type": "stream",
     "text": [
      "search for root_dir and set working directory\n",
      "Working directory set to: /mnt/ssd/git/3d-mri-domain-adaption\n"
     ]
    },
    {
     "name": "stderr",
     "output_type": "stream",
     "text": [
      "2020-10-22 07:37:41,154 INFO -------------------- Start --------------------\n",
      "2020-10-22 07:37:41,154 INFO Working directory: /mnt/ssd/git/3d-mri-domain-adaption.\n",
      "2020-10-22 07:37:41,155 INFO Log file: ./logs/Clean_Repo.log\n",
      "2020-10-22 07:37:41,155 INFO Log level for console: INFO\n"
     ]
    },
    {
     "data": {
      "application/vnd.jupyter.widget-view+json": {
       "model_id": "a293f91e51814bf99099696334e4a1de",
       "version_major": 2,
       "version_minor": 0
      },
      "text/plain": [
       "FileChooser(path='/mnt/ssd/git/3d-mri-domain-adaption/reports/configs', filename='config.json', title='HTML(va…"
      ]
     },
     "metadata": {},
     "output_type": "display_data"
    },
    {
     "data": {
      "application/vnd.jupyter.widget-view+json": {
       "model_id": "df43e8ad9bbb4e96a5c3db64ecb86c61",
       "version_major": 2,
       "version_minor": 0
      },
      "text/plain": [
       "interactive(children=(Checkbox(value=False, description='delete'), Output()), _dom_classes=('widget-interact',…"
      ]
     },
     "metadata": {},
     "output_type": "display_data"
    }
   ],
   "source": [
    "# define logging and working directory\n",
    "from ProjectRoot import change_wd_to_project_root \n",
    "change_wd_to_project_root()\n",
    "%matplotlib inline\n",
    "%reload_ext autoreload\n",
    "%autoreload 2\n",
    "from src.utils.Notebook_imports import *\n",
    "Console_and_file_logger('Clean_Repo')\n",
    "\n",
    "import shutil\n",
    "from src.data.Dataset_utils import load_config\n",
    "# test with interativ filechooser\n",
    "from ipyfilechooser import FileChooser\n",
    "config_chooser = FileChooser(os.path.join(os.getcwd(),'reports/configs'), 'config.json')\n",
    "display(config_chooser)\n",
    "config_file  = config_chooser.selected\n",
    "@interact\n",
    "def load_config_interactive(delete=False):\n",
    "    \"\"\"\n",
    "    load config, tranings history and model\n",
    "    \"\"\"\n",
    "    config_file  = config_chooser.selected\n",
    "    logging.info(config_file)\n",
    "    if config_file and os.path.exists(config_file):\n",
    "        # load config with all params into global namespace\n",
    "        glob_ = load_config(config_file_path=config_file, load=False)\n",
    "\n",
    "        # update global namesspace to make config, model and evaluation score accessible\n",
    "        globals().update(glob_)\n",
    "        if delete:\n",
    "\n",
    "            paths_to_be_deleted = [config['CONFIG_PATH'], config['HISTORY_PATH'], config['MODEL_PATH'], config['TENSORBOARD_LOG_DIR']]\n",
    "\n",
    "            for p in paths_to_be_deleted:\n",
    "                try:\n",
    "                    logging.info('delete folder: {}'.format(p))\n",
    "                    shutil.rmtree(p, ignore_errors=True)\n",
    "                except Exception as e:\n",
    "                    logging.info(str(e))\n",
    "\n",
    "            logging.info('delete successful')\n",
    "        else:\n",
    "            # log config params\n",
    "            print('Experiment: {}'.format(config['EXPERIMENT']))\n",
    "            print('config:\\n {}'.format(json.dumps(config, indent=4, sort_keys=True)))\n",
    "    else:\n",
    "        logging.info('no config found')"
   ]
  },
  {
   "cell_type": "markdown",
   "metadata": {},
   "source": [
    "# Delete multiple experiments by dropdown"
   ]
  },
  {
   "cell_type": "code",
   "execution_count": 18,
   "metadata": {},
   "outputs": [
    {
     "data": {
      "application/vnd.jupyter.widget-view+json": {
       "model_id": "6efe134e5ec849989df1e87fba6a2124",
       "version_major": 2,
       "version_minor": 0
      },
      "text/plain": [
       "FileChooser(path='/mnt/data/git/cardio/reports/configs', filename='', show_hidden='False')"
      ]
     },
     "metadata": {},
     "output_type": "display_data"
    }
   ],
   "source": [
    "from ipyfilechooser import FileChooser\n",
    "config_path_chooser = FileChooser(os.path.join(os.getcwd(),'reports/configs'))\n",
    "display(config_path_chooser)"
   ]
  },
  {
   "cell_type": "code",
   "execution_count": 27,
   "metadata": {},
   "outputs": [
    {
     "data": {
      "application/vnd.jupyter.widget-view+json": {
       "model_id": "7c884d6c436442168ee1818d189f3d1a",
       "version_major": 2,
       "version_minor": 0
      },
      "text/plain": [
       "interactive(children=(Dropdown(description='config_file', options=('/mnt/data/git/cardio/reports/configs/3D/ax…"
      ]
     },
     "metadata": {},
     "output_type": "display_data"
    }
   ],
   "source": [
    "config_path  = config_path_chooser.selected_path\n",
    "@interact\n",
    "def load_config_interactive(config_file=sorted(glob.glob(os.path.join(config_path,'**/**/*.json'), recursive=False)), delete=False):\n",
    "    \"\"\"\n",
    "    load config, tranings history and model\n",
    "    \"\"\"\n",
    "\n",
    "    if config_file:\n",
    "        # load config with all params into global namespace\n",
    "        glob_ = load_config(config_file_path=config_file, load=False)\n",
    "\n",
    "        # update global namesspace to make config, model and evaluation score accessible\n",
    "        globals().update(glob_)\n",
    "        if delete:\n",
    "\n",
    "            paths_to_be_deleted = [config['CONFIG_PATH'], config['HISTORY_PATH'], config['MODEL_PATH'], config['TENSORBOARD_LOG_DIR']]\n",
    "\n",
    "            for p in paths_to_be_deleted:\n",
    "                try:\n",
    "                    logging.info('delete folder: {}'.format(p))\n",
    "                    shutil.rmtree(p, ignore_errors=True)\n",
    "                except Exception as e:\n",
    "                    logging.info(str(e))\n",
    "\n",
    "            logging.info('delete successful')\n",
    "        else:\n",
    "            # log config params\n",
    "            print('Experiment: {}'.format(config['EXPERIMENT']))\n",
    "            print('config:\\n {}'.format(json.dumps(config, indent=4, sort_keys=True)))\n",
    "    else:\n",
    "        logging.info('no config found')"
   ]
  },
  {
   "cell_type": "code",
   "execution_count": null,
   "metadata": {},
   "outputs": [],
   "source": []
  }
 ],
 "metadata": {
  "kernelspec": {
   "display_name": "ax2sax",
   "language": "python",
   "name": "ax2sax"
  },
  "language_info": {
   "codemirror_mode": {
    "name": "ipython",
    "version": 3
   },
   "file_extension": ".py",
   "mimetype": "text/x-python",
   "name": "python",
   "nbconvert_exporter": "python",
   "pygments_lexer": "ipython3",
   "version": "3.6.9"
  },
  "widgets": {
   "application/vnd.jupyter.widget-state+json": {
    "state": {
     "01dc6b62629841a5a07fddc1d6c368ec": {
      "model_module": "@jupyter-widgets/output",
      "model_module_version": "1.0.0",
      "model_name": "OutputModel",
      "state": {
       "layout": "IPY_MODEL_2e7e5df6b07744f1a52e1cc16ca7140a",
       "outputs": [
        {
         "name": "stderr",
         "output_type": "stream",
         "text": "2020-08-04 22:18:10,730 INFO /mnt/data/git/cardio/reports/configs/3D/ax_sax/full/baseline_unet_cycle/2020-08-04_16_45/config.json\n2020-08-04 22:18:10,734 INFO -------------------- Start --------------------\n2020-08-04 22:18:10,736 INFO Working directory: /mnt/data/git/cardio.\n2020-08-04 22:18:10,738 INFO Log file: ./logs/3D/ax_sax/full/baseline_unet_cycle.log\n2020-08-04 22:18:10,740 INFO Log level for console: INFO\n2020-08-04 22:18:10,741 INFO delete folder: reports/configs/3D/ax_sax/full/baseline_unet_cycle/2020-08-04_16_45\n2020-08-04 22:18:10,744 INFO delete folder: reports/history/3D/ax_sax/full/baseline_unet_cycle/2020-08-04_16_45\n2020-08-04 22:18:10,747 INFO delete folder: models/3D/ax_sax/full/baseline_unet_cycle/2020-08-04_16_45\n2020-08-04 22:18:10,755 INFO delete folder: reports/tensorboard_logs/3D/ax_sax/full/baseline_unet_cycle/2020-08-04_16_45\n2020-08-04 22:18:10,762 INFO delete successful\n"
        }
       ]
      }
     },
     "13e15a1bb0f74d4e98561fe32d907908": {
      "model_module": "@jupyter-widgets/base",
      "model_module_version": "1.1.0",
      "model_name": "LayoutModel",
      "state": {
       "_model_module_version": "1.1.0",
       "_view_module_version": "1.1.0"
      }
     },
     "158dfcbd40d940f59d958fddc54a542f": {
      "model_module": "@jupyter-widgets/base",
      "model_module_version": "1.1.0",
      "model_name": "LayoutModel",
      "state": {
       "_model_module_version": "1.1.0",
       "_view_module_version": "1.1.0",
       "width": "auto"
      }
     },
     "2951ff91ed8e4545a432a276c2e20c6f": {
      "model_module": "@jupyter-widgets/base",
      "model_module_version": "1.1.0",
      "model_name": "LayoutModel",
      "state": {
       "_model_module_version": "1.1.0",
       "_view_module_version": "1.1.0",
       "width": "auto"
      }
     },
     "2e7e5df6b07744f1a52e1cc16ca7140a": {
      "model_module": "@jupyter-widgets/base",
      "model_module_version": "1.1.0",
      "model_name": "LayoutModel",
      "state": {
       "_model_module_version": "1.1.0",
       "_view_module_version": "1.1.0"
      }
     },
     "2fd911edee474845b663be1558d0875d": {
      "model_module": "@jupyter-widgets/controls",
      "model_module_version": "1.4.0",
      "model_name": "DescriptionStyleModel",
      "state": {
       "_model_module_version": "1.4.0",
       "_view_module_version": "1.1.0",
       "description_width": ""
      }
     },
     "3b087b1a72bf4a38acda67a77d306e73": {
      "model_module": "@jupyter-widgets/controls",
      "model_module_version": "1.4.0",
      "model_name": "VBoxModel",
      "state": {
       "_dom_classes": [
        "widget-interact"
       ],
       "_model_module_version": "1.4.0",
       "_view_module_version": "1.4.0",
       "children": [
        "IPY_MODEL_b82c0df9ce174cd5a5a0e8226b310e6d",
        "IPY_MODEL_01dc6b62629841a5a07fddc1d6c368ec"
       ],
       "layout": "IPY_MODEL_4f38113ecd8d4c3b825436e133e4a748"
      }
     },
     "3e5e697dbdb4456da34d99a21e67fba0": {
      "model_module": "@jupyter-widgets/controls",
      "model_module_version": "1.4.0",
      "model_name": "VBoxModel",
      "state": {
       "_model_module_version": "1.4.0",
       "_view_module_version": "1.4.0",
       "children": [
        "IPY_MODEL_46460726966d439b92235a40929a356a",
        "IPY_MODEL_7f049f04fbd245169845e1f08dfdac1a",
        "IPY_MODEL_ee6c663a9ebf429482ad13168875f482"
       ],
       "layout": "IPY_MODEL_8e165406ad4142f7ad84b59f44691602"
      }
     },
     "46460726966d439b92235a40929a356a": {
      "model_module": "@jupyter-widgets/controls",
      "model_module_version": "1.4.0",
      "model_name": "HTMLModel",
      "state": {
       "_model_module_version": "1.4.0",
       "_view_module_version": "1.4.0",
       "layout": "IPY_MODEL_e4c272ec2c4b45bea359fc74344f0883",
       "style": "IPY_MODEL_b592572714b24b40b7406bdb9af65c44"
      }
     },
     "4aa1ae9e02a94e76aabd5fd678db5037": {
      "model_module": "@jupyter-widgets/controls",
      "model_module_version": "1.4.0",
      "model_name": "DescriptionStyleModel",
      "state": {
       "_model_module_version": "1.4.0",
       "_view_module_version": "1.1.0",
       "description_width": ""
      }
     },
     "4f38113ecd8d4c3b825436e133e4a748": {
      "model_module": "@jupyter-widgets/base",
      "model_module_version": "1.1.0",
      "model_name": "LayoutModel",
      "state": {
       "_model_module_version": "1.1.0",
       "_view_module_version": "1.1.0"
      }
     },
     "5016920f38c14b42ba40e118cd8ddf91": {
      "model_module": "@jupyter-widgets/controls",
      "model_module_version": "1.4.0",
      "model_name": "DescriptionStyleModel",
      "state": {
       "_model_module_version": "1.4.0",
       "_view_module_version": "1.1.0",
       "description_width": ""
      }
     },
     "5077f463c7424afc933a23c7253f07d9": {
      "model_module": "@jupyter-widgets/controls",
      "model_module_version": "1.4.0",
      "model_name": "HTMLModel",
      "state": {
       "_model_module_version": "1.4.0",
       "_view_module_version": "1.4.0",
       "layout": "IPY_MODEL_668a92bbbef84432a9a95f6fe26c606f",
       "placeholder": "",
       "style": "IPY_MODEL_5016920f38c14b42ba40e118cd8ddf91",
       "value": "<span style=\"margin-left:10px; color:orange;\">/mnt/data/git/cardio/reports/configs/3D/ax_sax/full/baseline_unet_cycle/2020-08-04_16_45/config.json</span>"
      }
     },
     "668a92bbbef84432a9a95f6fe26c606f": {
      "model_module": "@jupyter-widgets/base",
      "model_module_version": "1.1.0",
      "model_name": "LayoutModel",
      "state": {
       "_model_module_version": "1.1.0",
       "_view_module_version": "1.1.0"
      }
     },
     "772969e8c54c4eeabb4ab25b31976f10": {
      "model_module": "@jupyter-widgets/base",
      "model_module_version": "1.1.0",
      "model_name": "LayoutModel",
      "state": {
       "_model_module_version": "1.1.0",
       "_view_module_version": "1.1.0",
       "grid_area": "pathlist",
       "width": "auto"
      }
     },
     "7ca14bd279304ca3b75b67653d8a2a00": {
      "model_module": "@jupyter-widgets/controls",
      "model_module_version": "1.4.0",
      "model_name": "TextModel",
      "state": {
       "_model_module_version": "1.4.0",
       "_view_module_version": "1.4.0",
       "layout": "IPY_MODEL_d780c4985827483aa5b505d22c440eef",
       "placeholder": "output filename",
       "style": "IPY_MODEL_2fd911edee474845b663be1558d0875d",
       "value": "config.json"
      }
     },
     "7f049f04fbd245169845e1f08dfdac1a": {
      "model_module": "@jupyter-widgets/controls",
      "model_module_version": "1.4.0",
      "model_name": "GridBoxModel",
      "state": {
       "_model_module_version": "1.4.0",
       "_view_module_version": "1.4.0",
       "children": [
        "IPY_MODEL_9d1748148aa1401e8347396c8c1f2077",
        "IPY_MODEL_7ca14bd279304ca3b75b67653d8a2a00",
        "IPY_MODEL_d312cef3aaac4e4bab46eabfcf076fa3"
       ],
       "layout": "IPY_MODEL_8bc725746ebc49089ac31d241f0df53b"
      }
     },
     "8444b37461c1472cbcd0cbcec10ee919": {
      "model_module": "@jupyter-widgets/base",
      "model_module_version": "1.1.0",
      "model_name": "LayoutModel",
      "state": {
       "_model_module_version": "1.1.0",
       "_view_module_version": "1.1.0",
       "grid_area": "dircontent",
       "width": "auto"
      }
     },
     "8569940a49c043a789ab34d609f211b7": {
      "model_module": "@jupyter-widgets/controls",
      "model_module_version": "1.4.0",
      "model_name": "ButtonStyleModel",
      "state": {
       "_model_module_version": "1.4.0",
       "_view_module_version": "1.1.0"
      }
     },
     "85ee24e8225b4c8f933fae3f112f8cee": {
      "model_module": "@jupyter-widgets/controls",
      "model_module_version": "1.4.0",
      "model_name": "DescriptionStyleModel",
      "state": {
       "_model_module_version": "1.4.0",
       "_view_module_version": "1.1.0",
       "description_width": ""
      }
     },
     "8bc725746ebc49089ac31d241f0df53b": {
      "model_module": "@jupyter-widgets/base",
      "model_module_version": "1.1.0",
      "model_name": "LayoutModel",
      "state": {
       "_model_module_version": "1.1.0",
       "_view_module_version": "1.1.0",
       "display": "none",
       "grid_gap": "0px 0px",
       "grid_template_areas": "\n                    'pathlist filename'\n                    'dircontent dircontent'\n                    ",
       "grid_template_columns": "60% 40%",
       "grid_template_rows": "auto auto",
       "width": "500px"
      }
     },
     "8e165406ad4142f7ad84b59f44691602": {
      "model_module": "@jupyter-widgets/base",
      "model_module_version": "1.1.0",
      "model_name": "LayoutModel",
      "state": {
       "_model_module_version": "1.1.0",
       "_view_module_version": "1.1.0",
       "width": "auto"
      }
     },
     "942d1b2c3beb48e096fc368ea8be1f2a": {
      "model_module": "@jupyter-widgets/controls",
      "model_module_version": "1.4.0",
      "model_name": "DescriptionStyleModel",
      "state": {
       "_model_module_version": "1.4.0",
       "_view_module_version": "1.1.0",
       "description_width": ""
      }
     },
     "970bd958d0644042a544074ba7fe37d4": {
      "model_module": "@jupyter-widgets/controls",
      "model_module_version": "1.4.0",
      "model_name": "ButtonModel",
      "state": {
       "_model_module_version": "1.4.0",
       "_view_module_version": "1.4.0",
       "description": "Cancel",
       "layout": "IPY_MODEL_afe1f7a652ba4435916675271b463727",
       "style": "IPY_MODEL_a302ed8e64024352b942aeff5855c390"
      }
     },
     "9d1748148aa1401e8347396c8c1f2077": {
      "model_module": "@jupyter-widgets/controls",
      "model_module_version": "1.4.0",
      "model_name": "DropdownModel",
      "state": {
       "_model_module_version": "1.4.0",
       "_options_labels": [
        "/mnt/data/git/cardio/reports/configs/3D/ax_sax/full/baseline_unet_cycle/2020-08-04_16_45",
        "/mnt/data/git/cardio/reports/configs/3D/ax_sax/full/baseline_unet_cycle",
        "/mnt/data/git/cardio/reports/configs/3D/ax_sax/full",
        "/mnt/data/git/cardio/reports/configs/3D/ax_sax",
        "/mnt/data/git/cardio/reports/configs/3D",
        "/mnt/data/git/cardio/reports/configs",
        "/mnt/data/git/cardio/reports",
        "/mnt/data/git/cardio",
        "/mnt/data/git",
        "/mnt/data",
        "/mnt",
        "/"
       ],
       "_view_module_version": "1.4.0",
       "index": 0,
       "layout": "IPY_MODEL_772969e8c54c4eeabb4ab25b31976f10",
       "style": "IPY_MODEL_85ee24e8225b4c8f933fae3f112f8cee"
      }
     },
     "a302ed8e64024352b942aeff5855c390": {
      "model_module": "@jupyter-widgets/controls",
      "model_module_version": "1.4.0",
      "model_name": "ButtonStyleModel",
      "state": {
       "_model_module_version": "1.4.0",
       "_view_module_version": "1.1.0"
      }
     },
     "afe1f7a652ba4435916675271b463727": {
      "model_module": "@jupyter-widgets/base",
      "model_module_version": "1.1.0",
      "model_name": "LayoutModel",
      "state": {
       "_model_module_version": "1.1.0",
       "_view_module_version": "1.1.0",
       "display": "none",
       "width": "auto"
      }
     },
     "b592572714b24b40b7406bdb9af65c44": {
      "model_module": "@jupyter-widgets/controls",
      "model_module_version": "1.4.0",
      "model_name": "DescriptionStyleModel",
      "state": {
       "_model_module_version": "1.4.0",
       "_view_module_version": "1.1.0",
       "description_width": ""
      }
     },
     "b82c0df9ce174cd5a5a0e8226b310e6d": {
      "model_module": "@jupyter-widgets/controls",
      "model_module_version": "1.4.0",
      "model_name": "CheckboxModel",
      "state": {
       "_model_module_version": "1.4.0",
       "_view_module_version": "1.4.0",
       "description": "delete",
       "disabled": false,
       "layout": "IPY_MODEL_13e15a1bb0f74d4e98561fe32d907908",
       "style": "IPY_MODEL_4aa1ae9e02a94e76aabd5fd678db5037",
       "value": true
      }
     },
     "d312cef3aaac4e4bab46eabfcf076fa3": {
      "model_module": "@jupyter-widgets/controls",
      "model_module_version": "1.4.0",
      "model_name": "SelectModel",
      "state": {
       "_model_module_version": "1.4.0",
       "_options_labels": [
        "..",
        "config.json"
       ],
       "_view_module_version": "1.4.0",
       "index": 1,
       "layout": "IPY_MODEL_8444b37461c1472cbcd0cbcec10ee919",
       "rows": 8,
       "style": "IPY_MODEL_942d1b2c3beb48e096fc368ea8be1f2a"
      }
     },
     "d780c4985827483aa5b505d22c440eef": {
      "model_module": "@jupyter-widgets/base",
      "model_module_version": "1.1.0",
      "model_name": "LayoutModel",
      "state": {
       "_model_module_version": "1.1.0",
       "_view_module_version": "1.1.0",
       "grid_area": "filename",
       "width": "auto"
      }
     },
     "e4c272ec2c4b45bea359fc74344f0883": {
      "model_module": "@jupyter-widgets/base",
      "model_module_version": "1.1.0",
      "model_name": "LayoutModel",
      "state": {
       "_model_module_version": "1.1.0",
       "_view_module_version": "1.1.0",
       "display": "none"
      }
     },
     "ee6c663a9ebf429482ad13168875f482": {
      "model_module": "@jupyter-widgets/controls",
      "model_module_version": "1.4.0",
      "model_name": "HBoxModel",
      "state": {
       "_model_module_version": "1.4.0",
       "_view_module_version": "1.4.0",
       "children": [
        "IPY_MODEL_f00a1754b41e4feebd1336a73d5bb15c",
        "IPY_MODEL_970bd958d0644042a544074ba7fe37d4",
        "IPY_MODEL_5077f463c7424afc933a23c7253f07d9"
       ],
       "layout": "IPY_MODEL_2951ff91ed8e4545a432a276c2e20c6f"
      }
     },
     "f00a1754b41e4feebd1336a73d5bb15c": {
      "model_module": "@jupyter-widgets/controls",
      "model_module_version": "1.4.0",
      "model_name": "ButtonModel",
      "state": {
       "_model_module_version": "1.4.0",
       "_view_module_version": "1.4.0",
       "description": "Change",
       "layout": "IPY_MODEL_158dfcbd40d940f59d958fddc54a542f",
       "style": "IPY_MODEL_8569940a49c043a789ab34d609f211b7"
      }
     }
    },
    "version_major": 2,
    "version_minor": 0
   }
  }
 },
 "nbformat": 4,
 "nbformat_minor": 4
}
