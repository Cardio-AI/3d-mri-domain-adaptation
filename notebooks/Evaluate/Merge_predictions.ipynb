{
 "cells": [
  {
   "cell_type": "code",
   "execution_count": 1,
   "metadata": {},
   "outputs": [
    {
     "name": "stdout",
     "output_type": "stream",
     "text": [
      "search for root_dir and set working directory\n",
      "Working directory set to: /mnt/data/git/cardio\n"
     ]
    },
    {
     "name": "stderr",
     "output_type": "stream",
     "text": [
      "2020-07-30 12:40:21,126 INFO -------------------- Start --------------------\n",
      "2020-07-30 12:40:21,127 INFO Working directory: /mnt/data/git/cardio.\n",
      "2020-07-30 12:40:21,127 INFO Log file: ./logs/Merge_predictions.log\n",
      "2020-07-30 12:40:21,127 INFO Log level for console: INFO\n"
     ]
    },
    {
     "data": {
      "text/plain": [
       "<src.utils.utils_io.Console_and_file_logger at 0x7f6b42fb32e8>"
      ]
     },
     "execution_count": 1,
     "metadata": {},
     "output_type": "execute_result"
    }
   ],
   "source": [
    "# define logging and working directory\n",
    "from ProjectRoot import change_wd_to_project_root \n",
    "change_wd_to_project_root()\n",
    "from pyforest import *\n",
    "from src.utils.notebook_imports import *\n",
    "Console_and_file_logger('Merge_predictions', logging.INFO)"
   ]
  },
  {
   "cell_type": "code",
   "execution_count": 2,
   "metadata": {},
   "outputs": [
    {
     "data": {
      "application/vnd.jupyter.widget-view+json": {
       "model_id": "6338fcff8365467480157a063d19aa69",
       "version_major": 2,
       "version_minor": 0
      },
      "text/plain": [
       "FileChooser(path='/mnt/data/git/cardio/data/predicted', filename='', show_hidden='False')"
      ]
     },
     "metadata": {},
     "output_type": "display_data"
    }
   ],
   "source": [
    "# select folder with the images and masks\n",
    "# choose the root folder before the gt/pred sub-folders\n",
    "from ipyfilechooser import FileChooser\n",
    "path1_chooser = FileChooser(os.path.join(os.getcwd(),'data/predicted/'), '')\n",
    "display(path1_chooser)"
   ]
  },
  {
   "cell_type": "code",
   "execution_count": 3,
   "metadata": {},
   "outputs": [
    {
     "data": {
      "application/vnd.jupyter.widget-view+json": {
       "model_id": "e0e1f672128f42b7a1db04bb694b1e18",
       "version_major": 2,
       "version_minor": 0
      },
      "text/plain": [
       "FileChooser(path='/mnt/data/git/cardio/data/predicted', filename='', show_hidden='False')"
      ]
     },
     "metadata": {},
     "output_type": "display_data"
    }
   ],
   "source": [
    "# select folder with the images and masks\n",
    "# choose the root folder before the gt/pred sub-folders\n",
    "from ipyfilechooser import FileChooser\n",
    "path2_chooser = FileChooser(os.path.join(os.getcwd(),'data/predicted/'), '')\n",
    "display(path2_chooser)"
   ]
  },
  {
   "cell_type": "code",
   "execution_count": 4,
   "metadata": {},
   "outputs": [
    {
     "name": "stderr",
     "output_type": "stream",
     "text": [
      "2020-07-30 12:41:43,844 INFO 162\n",
      "2020-07-30 12:41:43,845 INFO ['/mnt/data/git/cardio/data/predicted/enc_gap_m_ax2sax_unetprob_l1_l2_Nomasked_inplaneweight_l3_0_2_1weights_NoPost/3D/gt/0000-0HQQW4ZN_2007-05-23_ED_msk.nrrd', '/mnt/data/git/cardio/data/predicted/enc_gap_m_ax2sax_unetprob_l1_l2_Nomasked_inplaneweight_l3_0_2_1weights_NoPost/3D/gt/0000-0HQQW4ZN_2007-05-23_ES_msk.nrrd', '/mnt/data/git/cardio/data/predicted/enc_gap_m_ax2sax_unetprob_l1_l2_Nomasked_inplaneweight_l3_0_2_1weights_NoPost/3D/gt/0000-0PTV75MP_2005-06-27_ED_msk.nrrd', '/mnt/data/git/cardio/data/predicted/enc_gap_m_ax2sax_unetprob_l1_l2_Nomasked_inplaneweight_l3_0_2_1weights_NoPost/3D/gt/0000-0PTV75MP_2005-06-27_ES_msk.nrrd', '/mnt/data/git/cardio/data/predicted/enc_gap_m_ax2sax_unetprob_l1_l2_Nomasked_inplaneweight_l3_0_2_1weights_NoPost/3D/gt/0000-0RPELLU8_2007-02-13_ED_msk.nrrd']\n",
      "2020-07-30 12:41:43,848 INFO 162\n",
      "2020-07-30 12:41:43,848 INFO ['/mnt/data/git/cardio/data/predicted/enc_gap_m_ax2sax_unetprob_l1_l2_Nomasked_inplaneweight_l3_0_2_1weights_NoPost/3D/pred/0000-0HQQW4ZN_2007-05-23_ED_msk.nrrd', '/mnt/data/git/cardio/data/predicted/enc_gap_m_ax2sax_unetprob_l1_l2_Nomasked_inplaneweight_l3_0_2_1weights_NoPost/3D/pred/0000-0HQQW4ZN_2007-05-23_ES_msk.nrrd', '/mnt/data/git/cardio/data/predicted/enc_gap_m_ax2sax_unetprob_l1_l2_Nomasked_inplaneweight_l3_0_2_1weights_NoPost/3D/pred/0000-0PTV75MP_2005-06-27_ED_msk.nrrd', '/mnt/data/git/cardio/data/predicted/enc_gap_m_ax2sax_unetprob_l1_l2_Nomasked_inplaneweight_l3_0_2_1weights_NoPost/3D/pred/0000-0PTV75MP_2005-06-27_ES_msk.nrrd', '/mnt/data/git/cardio/data/predicted/enc_gap_m_ax2sax_unetprob_l1_l2_Nomasked_inplaneweight_l3_0_2_1weights_NoPost/3D/pred/0000-0RPELLU8_2007-02-13_ED_msk.nrrd']\n"
     ]
    }
   ],
   "source": [
    "root_path = path1_chooser.selected\n",
    "\n",
    "gt_path = os.path.join(root_path, 'gt')\n",
    "#gt_path = 'data/temp/gt'\n",
    "gt1 = sorted(glob.glob(os.path.join(gt_path, '*')))\n",
    "logging.info(len(gt1))\n",
    "logging.info(gt1[:5])\n",
    "\n",
    "pred_path = os.path.join(root_path, 'pred')\n",
    "#pred_path = 'data/temp/pred'\n",
    "pred1 = sorted(glob.glob(os.path.join(pred_path, '*')))\n",
    "logging.info(len(pred1))\n",
    "logging.info(pred1[:5])"
   ]
  },
  {
   "cell_type": "code",
   "execution_count": 5,
   "metadata": {},
   "outputs": [
    {
     "name": "stderr",
     "output_type": "stream",
     "text": [
      "2020-07-30 12:41:45,087 INFO 162\n",
      "2020-07-30 12:41:45,087 INFO ['/mnt/data/git/cardio/data/predicted/gcn_excl_ax_onAX/3D/gt/0000-0HQQW4ZN_2007-05-23_ED_msk.nrrd', '/mnt/data/git/cardio/data/predicted/gcn_excl_ax_onAX/3D/gt/0000-0HQQW4ZN_2007-05-23_ES_msk.nrrd', '/mnt/data/git/cardio/data/predicted/gcn_excl_ax_onAX/3D/gt/0000-0PTV75MP_2005-06-27_ED_msk.nrrd', '/mnt/data/git/cardio/data/predicted/gcn_excl_ax_onAX/3D/gt/0000-0PTV75MP_2005-06-27_ES_msk.nrrd', '/mnt/data/git/cardio/data/predicted/gcn_excl_ax_onAX/3D/gt/0000-0RPELLU8_2007-02-13_ED_msk.nrrd']\n",
      "2020-07-30 12:41:45,089 INFO 162\n",
      "2020-07-30 12:41:45,089 INFO ['/mnt/data/git/cardio/data/predicted/gcn_excl_ax_onAX/3D/pred/0000-0HQQW4ZN_2007-05-23_ED_msk.nrrd', '/mnt/data/git/cardio/data/predicted/gcn_excl_ax_onAX/3D/pred/0000-0HQQW4ZN_2007-05-23_ES_msk.nrrd', '/mnt/data/git/cardio/data/predicted/gcn_excl_ax_onAX/3D/pred/0000-0PTV75MP_2005-06-27_ED_msk.nrrd', '/mnt/data/git/cardio/data/predicted/gcn_excl_ax_onAX/3D/pred/0000-0PTV75MP_2005-06-27_ES_msk.nrrd', '/mnt/data/git/cardio/data/predicted/gcn_excl_ax_onAX/3D/pred/0000-0RPELLU8_2007-02-13_ED_msk.nrrd']\n"
     ]
    }
   ],
   "source": [
    "root_path = path2_chooser.selected\n",
    "\n",
    "gt_path = os.path.join(root_path, 'gt')\n",
    "#gt_path = 'data/temp/gt'\n",
    "gt2 = sorted(glob.glob(os.path.join(gt_path, '*')))\n",
    "logging.info(len(gt2))\n",
    "logging.info(gt2[:5])\n",
    "\n",
    "pred_path = os.path.join(root_path, 'pred')\n",
    "#pred_path = 'data/temp/pred'\n",
    "pred2 = sorted(glob.glob(os.path.join(pred_path, '*')))\n",
    "logging.info(len(pred2))\n",
    "logging.info(pred2[:5])"
   ]
  },
  {
   "cell_type": "code",
   "execution_count": 6,
   "metadata": {},
   "outputs": [
    {
     "data": {
      "image/png": "[encoded data removed]",
      "text/plain": [
       "<Figure size 1800x576 with 20 Axes>"
      ]
     },
     "metadata": {},
     "output_type": "display_data"
    }
   ],
   "source": [
    "# visualise one mask\n",
    "from src.visualization.Visualize import show_2D_or_3D\n",
    "temp = sitk.ReadImage(pred1[0])\n",
    "show_2D_or_3D(temp)\n",
    "plt.show()\n"
   ]
  },
  {
   "cell_type": "code",
   "execution_count": 7,
   "metadata": {},
   "outputs": [
    {
     "data": {
      "image/png": "[encoded data removed]",
      "text/plain": [
       "<Figure size 1800x576 with 20 Axes>"
      ]
     },
     "metadata": {},
     "output_type": "display_data"
    }
   ],
   "source": [
    "# visualise one mask\n",
    "from src.visualization.Visualize import show_2D_or_3D\n",
    "temp = sitk.ReadImage(pred2[0])\n",
    "show_2D_or_3D(temp)\n",
    "plt.show()"
   ]
  },
  {
   "cell_type": "code",
   "execution_count": 7,
   "metadata": {},
   "outputs": [
    {
     "data": {
      "text/plain": [
       "(array([3946360.,       0.,       0.,   16409.,       0.,       0.,\n",
       "          15009.,       0.,       0.,   36302.]),\n",
       " array([0. , 0.3, 0.6, 0.9, 1.2, 1.5, 1.8, 2.1, 2.4, 2.7, 3. ]),\n",
       " <a list of 10 Patch objects>)"
      ]
     },
     "execution_count": 7,
     "metadata": {},
     "output_type": "execute_result"
    },
    {
     "data": {
      "image/png": "[encoded data removed]",
      "text/plain": [
       "<Figure size 432x288 with 1 Axes>"
      ]
     },
     "metadata": {
      "needs_background": "light"
     },
     "output_type": "display_data"
    }
   ],
   "source": [
    "temp = sitk.ReadImage(pred2[0])\n",
    "plt.hist(sitk.GetArrayFromImage(temp).flatten())"
   ]
  },
  {
   "cell_type": "code",
   "execution_count": 9,
   "metadata": {},
   "outputs": [
    {
     "data": {
      "image/png": "[encoded data removed]",
      "text/plain": [
       "<Figure size 1800x576 with 20 Axes>"
      ]
     },
     "metadata": {},
     "output_type": "display_data"
    },
    {
     "data": {
      "image/png": "[encoded data removed]",
      "text/plain": [
       "<Figure size 1800x576 with 20 Axes>"
      ]
     },
     "metadata": {},
     "output_type": "display_data"
    },
    {
     "name": "stdout",
     "output_type": "stream",
     "text": [
      "(80, 224, 224)\n"
     ]
    },
    {
     "data": {
      "image/png": "[encoded data removed]",
      "text/plain": [
       "<Figure size 1800x576 with 20 Axes>"
      ]
     },
     "metadata": {},
     "output_type": "display_data"
    },
    {
     "data": {
      "image/png": "[encoded data removed]",
      "text/plain": [
       "<Figure size 1800x576 with 20 Axes>"
      ]
     },
     "metadata": {},
     "output_type": "display_data"
    },
    {
     "data": {
      "image/png": "[encoded data removed]",
      "text/plain": [
       "<Figure size 1800x576 with 20 Axes>"
      ]
     },
     "metadata": {},
     "output_type": "display_data"
    },
    {
     "name": "stderr",
     "output_type": "stream",
     "text": [
      "2020-07-24 15:42:17,582 INFO 2d cleaning ---------------------\n"
     ]
    },
    {
     "data": {
      "image/png": "[encoded data removed]",
      "text/plain": [
       "<Figure size 1800x576 with 20 Axes>"
      ]
     },
     "metadata": {},
     "output_type": "display_data"
    },
    {
     "data": {
      "image/png": "[encoded data removed]",
      "text/plain": [
       "<Figure size 1800x576 with 20 Axes>"
      ]
     },
     "metadata": {},
     "output_type": "display_data"
    },
    {
     "data": {
      "image/png": "[encoded data removed]",
      "text/plain": [
       "<Figure size 1800x576 with 20 Axes>"
      ]
     },
     "metadata": {},
     "output_type": "display_data"
    },
    {
     "data": {
      "image/png": "[encoded data removed]",
      "text/plain": [
       "<Figure size 1800x576 with 20 Axes>"
      ]
     },
     "metadata": {},
     "output_type": "display_data"
    }
   ],
   "source": [
    "# visualise the second mask\n",
    "from src.visualization.Visualize import show_2D_or_3D\n",
    "from src.data.Postprocess import clean_3d_prediction_3d_cc, clean_3d_prediction_2d_cc\n",
    "temp = sitk.ReadImage(pred2[0])\n",
    "show_2D_or_3D(temp)\n",
    "plt.show()\n",
    "temp = clean_3d_prediction_3d_cc(sitk.GetArrayFromImage(temp))\n",
    "show_2D_or_3D(temp)\n",
    "plt.show()\n",
    "print(temp.shape)\n",
    "show_2D_or_3D(temp==1)\n",
    "plt.show()\n",
    "show_2D_or_3D(temp==2)\n",
    "plt.show()\n",
    "show_2D_or_3D(temp==3)\n",
    "plt.show()\n",
    "logging.info('2d cleaning ---------------------')\n",
    "temp = clean_3d_prediction_2d_cc(temp)\n",
    "show_2D_or_3D(temp)\n",
    "plt.show()\n",
    "show_2D_or_3D(temp==1)\n",
    "plt.show()\n",
    "show_2D_or_3D(temp==2)\n",
    "plt.show()\n",
    "show_2D_or_3D(temp==3)\n",
    "plt.show()\n"
   ]
  },
  {
   "cell_type": "code",
   "execution_count": 21,
   "metadata": {},
   "outputs": [
    {
     "data": {
      "image/png": "[encoded data removed]",
      "text/plain": [
       "<Figure size 1800x576 with 20 Axes>"
      ]
     },
     "metadata": {},
     "output_type": "display_data"
    },
    {
     "data": {
      "image/png": "[encoded data removed]",
      "text/plain": [
       "<Figure size 1800x576 with 20 Axes>"
      ]
     },
     "metadata": {},
     "output_type": "display_data"
    }
   ],
   "source": [
    "# combine map one and two\n",
    "temp1 = sitk.GetArrayFromImage(sitk.ReadImage(pred1[0]))\n",
    "show_2D_or_3D(temp1)\n",
    "plt.show()\n",
    "temp2 = sitk.GetArrayFromImage(sitk.ReadImage(pred2[0]))\n",
    "temp2 = clean_3d_prediction_3d_cc(temp2)\n",
    "temp2 = clean_3d_prediction_2d_cc(temp2)\n",
    "show_2D_or_3D(temp2)\n",
    "plt.show()"
   ]
  },
  {
   "cell_type": "code",
   "execution_count": 20,
   "metadata": {},
   "outputs": [
    {
     "name": "stdout",
     "output_type": "stream",
     "text": [
      "0\n",
      "58886\n",
      "1\n",
      "35440\n",
      "2\n",
      "16089\n",
      "3\n",
      "15837\n"
     ]
    },
    {
     "data": {
      "image/png": "[encoded data removed]",
      "text/plain": [
       "<Figure size 1800x576 with 20 Axes>"
      ]
     },
     "metadata": {},
     "output_type": "display_data"
    }
   ],
   "source": [
    "combined = np.zeros_like(temp1)\n",
    "for label in np.unique(temp1):\n",
    "    print(label)\n",
    "    mask1 = temp1==label\n",
    "    mask2 = temp2==label\n",
    "    mask = np.logical_xor(mask1,mask2)\n",
    "    print(mask.sum())\n",
    "    if label == 3:\n",
    "        temp1[mask] = label\n",
    "show_2D_or_3D(temp1)\n",
    "    "
   ]
  },
  {
   "cell_type": "code",
   "execution_count": null,
   "metadata": {},
   "outputs": [],
   "source": []
  }
 ],
 "metadata": {
  "kernelspec": {
   "display_name": "Python 3",
   "language": "python",
   "name": "python3"
  },
  "language_info": {
   "codemirror_mode": {
    "name": "ipython",
    "version": 3
   },
   "file_extension": ".py",
   "mimetype": "text/x-python",
   "name": "python",
   "nbconvert_exporter": "python",
   "pygments_lexer": "ipython3",
   "version": "3.6.9"
  },
  "widgets": {
   "application/vnd.jupyter.widget-state+json": {
    "state": {
     "008fc25d0845400aa9ad99a42118807f": {
      "model_module": "@jupyter-widgets/base",
      "model_module_version": "1.1.0",
      "model_name": "LayoutModel",
      "state": {
       "_model_module_version": "1.1.0",
       "_view_module_version": "1.1.0",
       "width": "auto"
      }
     },
     "04cc3f36350f4f3b80689e6e92d822b7": {
      "model_module": "@jupyter-widgets/controls",
      "model_module_version": "1.4.0",
      "model_name": "DescriptionStyleModel",
      "state": {
       "_model_module_version": "1.4.0",
       "_view_module_version": "1.1.0",
       "description_width": ""
      }
     },
     "091d2b62623b48a1a1ba907c4dd86a51": {
      "model_module": "@jupyter-widgets/controls",
      "model_module_version": "1.4.0",
      "model_name": "ButtonModel",
      "state": {
       "_model_module_version": "1.4.0",
       "_view_module_version": "1.4.0",
       "description": "Cancel",
       "layout": "IPY_MODEL_1e6e9f5c73b04657b590321fafdc65cb",
       "style": "IPY_MODEL_ebe20d8289b747d6b047e0e8ab088ba9"
      }
     },
     "0b2b888f38e04c4e8a45437e696cdee9": {
      "model_module": "@jupyter-widgets/base",
      "model_module_version": "1.1.0",
      "model_name": "LayoutModel",
      "state": {
       "_model_module_version": "1.1.0",
       "_view_module_version": "1.1.0",
       "grid_area": "pathlist",
       "width": "auto"
      }
     },
     "0b2d985dc86e4b8d980ea202dcdf20cb": {
      "model_module": "@jupyter-widgets/base",
      "model_module_version": "1.1.0",
      "model_name": "LayoutModel",
      "state": {
       "_model_module_version": "1.1.0",
       "_view_module_version": "1.1.0",
       "display": "none",
       "width": "auto"
      }
     },
     "0cccb34902d1412a970854f43c385c94": {
      "model_module": "@jupyter-widgets/controls",
      "model_module_version": "1.4.0",
      "model_name": "ButtonStyleModel",
      "state": {
       "_model_module_version": "1.4.0",
       "_view_module_version": "1.1.0"
      }
     },
     "1cdf8ac95ad242ecbd1838a320770b98": {
      "model_module": "@jupyter-widgets/controls",
      "model_module_version": "1.4.0",
      "model_name": "DropdownModel",
      "state": {
       "_model_module_version": "1.4.0",
       "_options_labels": [
        "/mnt/data/git/cardio/data/predicted/gcn_excl_ax_onAX/3D",
        "/mnt/data/git/cardio/data/predicted/gcn_excl_ax_onAX",
        "/mnt/data/git/cardio/data/predicted",
        "/mnt/data/git/cardio/data",
        "/mnt/data/git/cardio",
        "/mnt/data/git",
        "/mnt/data",
        "/mnt",
        "/"
       ],
       "_view_module_version": "1.4.0",
       "index": 0,
       "layout": "IPY_MODEL_356a41b9fd964e54b6e8352d77435074",
       "style": "IPY_MODEL_f6c03a567dd84ba08988595d2563b7d0"
      }
     },
     "1cef7e8770014ece83cda0eb3e72bac0": {
      "model_module": "@jupyter-widgets/controls",
      "model_module_version": "1.4.0",
      "model_name": "DropdownModel",
      "state": {
       "_model_module_version": "1.4.0",
       "_options_labels": [
        "/mnt/data/git/cardio/data/predicted/enc_gap_m_ax2sax_unetprob_l1_l2_Nomasked_inplaneweight_l3_0_2_1weights_NoPost/3D",
        "/mnt/data/git/cardio/data/predicted/enc_gap_m_ax2sax_unetprob_l1_l2_Nomasked_inplaneweight_l3_0_2_1weights_NoPost",
        "/mnt/data/git/cardio/data/predicted",
        "/mnt/data/git/cardio/data",
        "/mnt/data/git/cardio",
        "/mnt/data/git",
        "/mnt/data",
        "/mnt",
        "/"
       ],
       "_view_module_version": "1.4.0",
       "index": 0,
       "layout": "IPY_MODEL_0b2b888f38e04c4e8a45437e696cdee9",
       "style": "IPY_MODEL_a8853296199d43adab347c7d85d2b743"
      }
     },
     "1e6e9f5c73b04657b590321fafdc65cb": {
      "model_module": "@jupyter-widgets/base",
      "model_module_version": "1.1.0",
      "model_name": "LayoutModel",
      "state": {
       "_model_module_version": "1.1.0",
       "_view_module_version": "1.1.0",
       "display": "none",
       "width": "auto"
      }
     },
     "256eb38c9a2244a0894c68bb0ac7a564": {
      "model_module": "@jupyter-widgets/controls",
      "model_module_version": "1.4.0",
      "model_name": "HTMLModel",
      "state": {
       "_model_module_version": "1.4.0",
       "_view_module_version": "1.4.0",
       "layout": "IPY_MODEL_4986aad05c61490aa86b5c3b93467e8c",
       "style": "IPY_MODEL_3d48a6c45b75489eb3d991f5d9513e93"
      }
     },
     "2e0332318f684619b918fd450d151684": {
      "model_module": "@jupyter-widgets/controls",
      "model_module_version": "1.4.0",
      "model_name": "ButtonModel",
      "state": {
       "_model_module_version": "1.4.0",
       "_view_module_version": "1.4.0",
       "description": "Change",
       "layout": "IPY_MODEL_708930bd1bb5447bb5df5d00d765080a",
       "style": "IPY_MODEL_38bc6cfed3cf43b78c63c8565691a8a5"
      }
     },
     "3295de3524e944cf8379f113fea74d0d": {
      "model_module": "@jupyter-widgets/controls",
      "model_module_version": "1.4.0",
      "model_name": "DescriptionStyleModel",
      "state": {
       "_model_module_version": "1.4.0",
       "_view_module_version": "1.1.0",
       "description_width": ""
      }
     },
     "33d58d6651a24b7caf3dfa0c04c63562": {
      "model_module": "@jupyter-widgets/base",
      "model_module_version": "1.1.0",
      "model_name": "LayoutModel",
      "state": {
       "_model_module_version": "1.1.0",
       "_view_module_version": "1.1.0",
       "width": "auto"
      }
     },
     "348dab681b6d4e2988bf3605174c28bd": {
      "model_module": "@jupyter-widgets/controls",
      "model_module_version": "1.4.0",
      "model_name": "HBoxModel",
      "state": {
       "_model_module_version": "1.4.0",
       "_view_module_version": "1.4.0",
       "children": [
        "IPY_MODEL_2e0332318f684619b918fd450d151684",
        "IPY_MODEL_091d2b62623b48a1a1ba907c4dd86a51",
        "IPY_MODEL_7269ed99c5694a54bbb3ca74811c9ae5"
       ],
       "layout": "IPY_MODEL_caf4137b06934f26b5700d9e9cc49287"
      }
     },
     "34fec9e6967f4563acf001b5bfe05205": {
      "model_module": "@jupyter-widgets/base",
      "model_module_version": "1.1.0",
      "model_name": "LayoutModel",
      "state": {
       "_model_module_version": "1.1.0",
       "_view_module_version": "1.1.0",
       "width": "auto"
      }
     },
     "356a41b9fd964e54b6e8352d77435074": {
      "model_module": "@jupyter-widgets/base",
      "model_module_version": "1.1.0",
      "model_name": "LayoutModel",
      "state": {
       "_model_module_version": "1.1.0",
       "_view_module_version": "1.1.0",
       "grid_area": "pathlist",
       "width": "auto"
      }
     },
     "38bc6cfed3cf43b78c63c8565691a8a5": {
      "model_module": "@jupyter-widgets/controls",
      "model_module_version": "1.4.0",
      "model_name": "ButtonStyleModel",
      "state": {
       "_model_module_version": "1.4.0",
       "_view_module_version": "1.1.0"
      }
     },
     "3d48a6c45b75489eb3d991f5d9513e93": {
      "model_module": "@jupyter-widgets/controls",
      "model_module_version": "1.4.0",
      "model_name": "DescriptionStyleModel",
      "state": {
       "_model_module_version": "1.4.0",
       "_view_module_version": "1.1.0",
       "description_width": ""
      }
     },
     "3fbb9830dc394c2499555b0f5a5367a0": {
      "model_module": "@jupyter-widgets/controls",
      "model_module_version": "1.4.0",
      "model_name": "SelectModel",
      "state": {
       "_model_module_version": "1.4.0",
       "_options_labels": [
        "..",
        "gt",
        "image",
        "pred"
       ],
       "_view_module_version": "1.4.0",
       "index": null,
       "layout": "IPY_MODEL_4dbc67a18cb5487a87d2390fca85653a",
       "rows": 8,
       "style": "IPY_MODEL_e2cc74106bfb41eaa5ef9223cd900c39"
      }
     },
     "438bf3fb965a4b3b9ad346100f6e6696": {
      "model_module": "@jupyter-widgets/controls",
      "model_module_version": "1.4.0",
      "model_name": "TextModel",
      "state": {
       "_model_module_version": "1.4.0",
       "_view_module_version": "1.4.0",
       "layout": "IPY_MODEL_8eb788ede26f4ec3bc265e2df1a43940",
       "placeholder": "output filename",
       "style": "IPY_MODEL_3295de3524e944cf8379f113fea74d0d"
      }
     },
     "44aba1196ccb4bfc8832b4f9a5ac5e13": {
      "model_module": "@jupyter-widgets/controls",
      "model_module_version": "1.4.0",
      "model_name": "HTMLModel",
      "state": {
       "_model_module_version": "1.4.0",
       "_view_module_version": "1.4.0",
       "layout": "IPY_MODEL_e66e92e4fe304ae6ad15ed0be17bca40",
       "placeholder": "",
       "style": "IPY_MODEL_d18c1763b2174e229a19e920dc9a9582",
       "value": "<span style=\"margin-left:10px; color:green;\">/mnt/data/git/cardio/data/predicted/enc_gap_m_ax2sax_unetprob_l1_l2_Nomasked_inplaneweight_l3_0_2_1weights_NoPost/3D/</span>"
      }
     },
     "496562b48fa04e15ac827e004a17bd50": {
      "model_module": "@jupyter-widgets/controls",
      "model_module_version": "1.4.0",
      "model_name": "DescriptionStyleModel",
      "state": {
       "_model_module_version": "1.4.0",
       "_view_module_version": "1.1.0",
       "description_width": ""
      }
     },
     "4986aad05c61490aa86b5c3b93467e8c": {
      "model_module": "@jupyter-widgets/base",
      "model_module_version": "1.1.0",
      "model_name": "LayoutModel",
      "state": {
       "_model_module_version": "1.1.0",
       "_view_module_version": "1.1.0",
       "display": "none"
      }
     },
     "4dbc67a18cb5487a87d2390fca85653a": {
      "model_module": "@jupyter-widgets/base",
      "model_module_version": "1.1.0",
      "model_name": "LayoutModel",
      "state": {
       "_model_module_version": "1.1.0",
       "_view_module_version": "1.1.0",
       "grid_area": "dircontent",
       "width": "auto"
      }
     },
     "55d4cd5e75f24b20916cb0b02d8f71af": {
      "model_module": "@jupyter-widgets/base",
      "model_module_version": "1.1.0",
      "model_name": "LayoutModel",
      "state": {
       "_model_module_version": "1.1.0",
       "_view_module_version": "1.1.0",
       "grid_area": "dircontent",
       "width": "auto"
      }
     },
     "622cf6747c3841d3bff365a8e4f45f35": {
      "model_module": "@jupyter-widgets/base",
      "model_module_version": "1.1.0",
      "model_name": "LayoutModel",
      "state": {
       "_model_module_version": "1.1.0",
       "_view_module_version": "1.1.0",
       "display": "none",
       "grid_gap": "0px 0px",
       "grid_template_areas": "\n                    'pathlist filename'\n                    'dircontent dircontent'\n                    ",
       "grid_template_columns": "60% 40%",
       "grid_template_rows": "auto auto",
       "width": "500px"
      }
     },
     "62b9a42d19694447a0087695361474d3": {
      "model_module": "@jupyter-widgets/controls",
      "model_module_version": "1.4.0",
      "model_name": "DescriptionStyleModel",
      "state": {
       "_model_module_version": "1.4.0",
       "_view_module_version": "1.1.0",
       "description_width": ""
      }
     },
     "6338fcff8365467480157a063d19aa69": {
      "model_module": "@jupyter-widgets/controls",
      "model_module_version": "1.4.0",
      "model_name": "VBoxModel",
      "state": {
       "_model_module_version": "1.4.0",
       "_view_module_version": "1.4.0",
       "children": [
        "IPY_MODEL_ab44c2783a99449197f7f453e70fbfbb",
        "IPY_MODEL_6b60870230c84a6b893106f6e671962f",
        "IPY_MODEL_adc60a471c5e4768ae647ea596f9270b"
       ],
       "layout": "IPY_MODEL_63a621cba7264fb79488577249cc7763"
      }
     },
     "63a621cba7264fb79488577249cc7763": {
      "model_module": "@jupyter-widgets/base",
      "model_module_version": "1.1.0",
      "model_name": "LayoutModel",
      "state": {
       "_model_module_version": "1.1.0",
       "_view_module_version": "1.1.0",
       "width": "auto"
      }
     },
     "6b60870230c84a6b893106f6e671962f": {
      "model_module": "@jupyter-widgets/controls",
      "model_module_version": "1.4.0",
      "model_name": "GridBoxModel",
      "state": {
       "_model_module_version": "1.4.0",
       "_view_module_version": "1.4.0",
       "children": [
        "IPY_MODEL_1cef7e8770014ece83cda0eb3e72bac0",
        "IPY_MODEL_438bf3fb965a4b3b9ad346100f6e6696",
        "IPY_MODEL_3fbb9830dc394c2499555b0f5a5367a0"
       ],
       "layout": "IPY_MODEL_622cf6747c3841d3bff365a8e4f45f35"
      }
     },
     "708930bd1bb5447bb5df5d00d765080a": {
      "model_module": "@jupyter-widgets/base",
      "model_module_version": "1.1.0",
      "model_name": "LayoutModel",
      "state": {
       "_model_module_version": "1.1.0",
       "_view_module_version": "1.1.0",
       "width": "auto"
      }
     },
     "7269ed99c5694a54bbb3ca74811c9ae5": {
      "model_module": "@jupyter-widgets/controls",
      "model_module_version": "1.4.0",
      "model_name": "HTMLModel",
      "state": {
       "_model_module_version": "1.4.0",
       "_view_module_version": "1.4.0",
       "layout": "IPY_MODEL_9a2c4691ca1d4008b54d42ca3ede3c8a",
       "placeholder": "",
       "style": "IPY_MODEL_e0e0e52a4c8e461498091c73f49f4a72",
       "value": "<span style=\"margin-left:10px; color:green;\">/mnt/data/git/cardio/data/predicted/gcn_excl_ax_onAX/3D/</span>"
      }
     },
     "847ee39e98fd4321ab065359256083af": {
      "model_module": "@jupyter-widgets/base",
      "model_module_version": "1.1.0",
      "model_name": "LayoutModel",
      "state": {
       "_model_module_version": "1.1.0",
       "_view_module_version": "1.1.0",
       "display": "none"
      }
     },
     "8eb788ede26f4ec3bc265e2df1a43940": {
      "model_module": "@jupyter-widgets/base",
      "model_module_version": "1.1.0",
      "model_name": "LayoutModel",
      "state": {
       "_model_module_version": "1.1.0",
       "_view_module_version": "1.1.0",
       "grid_area": "filename",
       "width": "auto"
      }
     },
     "92d397b63af84d3f852a230956ee2eeb": {
      "model_module": "@jupyter-widgets/base",
      "model_module_version": "1.1.0",
      "model_name": "LayoutModel",
      "state": {
       "_model_module_version": "1.1.0",
       "_view_module_version": "1.1.0",
       "grid_area": "filename",
       "width": "auto"
      }
     },
     "9a2c4691ca1d4008b54d42ca3ede3c8a": {
      "model_module": "@jupyter-widgets/base",
      "model_module_version": "1.1.0",
      "model_name": "LayoutModel",
      "state": {
       "_model_module_version": "1.1.0",
       "_view_module_version": "1.1.0"
      }
     },
     "a76eb7bd813a4369b568b3f93669d949": {
      "model_module": "@jupyter-widgets/controls",
      "model_module_version": "1.4.0",
      "model_name": "ButtonStyleModel",
      "state": {
       "_model_module_version": "1.4.0",
       "_view_module_version": "1.1.0"
      }
     },
     "a8853296199d43adab347c7d85d2b743": {
      "model_module": "@jupyter-widgets/controls",
      "model_module_version": "1.4.0",
      "model_name": "DescriptionStyleModel",
      "state": {
       "_model_module_version": "1.4.0",
       "_view_module_version": "1.1.0",
       "description_width": ""
      }
     },
     "a99b74caf6df443498269416d19ede55": {
      "model_module": "@jupyter-widgets/controls",
      "model_module_version": "1.4.0",
      "model_name": "GridBoxModel",
      "state": {
       "_model_module_version": "1.4.0",
       "_view_module_version": "1.4.0",
       "children": [
        "IPY_MODEL_1cdf8ac95ad242ecbd1838a320770b98",
        "IPY_MODEL_ac17a95d6dc9424bb19ccf14b5774420",
        "IPY_MODEL_ca53faec26c042d1aa3d50594e9150ad"
       ],
       "layout": "IPY_MODEL_f74f5f2006424a1abbfc2b92151e13c1"
      }
     },
     "ab44c2783a99449197f7f453e70fbfbb": {
      "model_module": "@jupyter-widgets/controls",
      "model_module_version": "1.4.0",
      "model_name": "HTMLModel",
      "state": {
       "_model_module_version": "1.4.0",
       "_view_module_version": "1.4.0",
       "layout": "IPY_MODEL_847ee39e98fd4321ab065359256083af",
       "style": "IPY_MODEL_62b9a42d19694447a0087695361474d3"
      }
     },
     "ac17a95d6dc9424bb19ccf14b5774420": {
      "model_module": "@jupyter-widgets/controls",
      "model_module_version": "1.4.0",
      "model_name": "TextModel",
      "state": {
       "_model_module_version": "1.4.0",
       "_view_module_version": "1.4.0",
       "layout": "IPY_MODEL_92d397b63af84d3f852a230956ee2eeb",
       "placeholder": "output filename",
       "style": "IPY_MODEL_04cc3f36350f4f3b80689e6e92d822b7"
      }
     },
     "adc60a471c5e4768ae647ea596f9270b": {
      "model_module": "@jupyter-widgets/controls",
      "model_module_version": "1.4.0",
      "model_name": "HBoxModel",
      "state": {
       "_model_module_version": "1.4.0",
       "_view_module_version": "1.4.0",
       "children": [
        "IPY_MODEL_cd801e9353af405baef26b41fa4bd3c0",
        "IPY_MODEL_f6b9aef5237d453794e0b0fcb2ec69ec",
        "IPY_MODEL_44aba1196ccb4bfc8832b4f9a5ac5e13"
       ],
       "layout": "IPY_MODEL_008fc25d0845400aa9ad99a42118807f"
      }
     },
     "ca53faec26c042d1aa3d50594e9150ad": {
      "model_module": "@jupyter-widgets/controls",
      "model_module_version": "1.4.0",
      "model_name": "SelectModel",
      "state": {
       "_model_module_version": "1.4.0",
       "_options_labels": [
        "..",
        "gt",
        "images",
        "pred",
        "results.csv"
       ],
       "_view_module_version": "1.4.0",
       "index": null,
       "layout": "IPY_MODEL_55d4cd5e75f24b20916cb0b02d8f71af",
       "rows": 8,
       "style": "IPY_MODEL_496562b48fa04e15ac827e004a17bd50"
      }
     },
     "caf4137b06934f26b5700d9e9cc49287": {
      "model_module": "@jupyter-widgets/base",
      "model_module_version": "1.1.0",
      "model_name": "LayoutModel",
      "state": {
       "_model_module_version": "1.1.0",
       "_view_module_version": "1.1.0",
       "width": "auto"
      }
     },
     "cd801e9353af405baef26b41fa4bd3c0": {
      "model_module": "@jupyter-widgets/controls",
      "model_module_version": "1.4.0",
      "model_name": "ButtonModel",
      "state": {
       "_model_module_version": "1.4.0",
       "_view_module_version": "1.4.0",
       "description": "Change",
       "layout": "IPY_MODEL_34fec9e6967f4563acf001b5bfe05205",
       "style": "IPY_MODEL_0cccb34902d1412a970854f43c385c94"
      }
     },
     "d18c1763b2174e229a19e920dc9a9582": {
      "model_module": "@jupyter-widgets/controls",
      "model_module_version": "1.4.0",
      "model_name": "DescriptionStyleModel",
      "state": {
       "_model_module_version": "1.4.0",
       "_view_module_version": "1.1.0",
       "description_width": ""
      }
     },
     "e0e0e52a4c8e461498091c73f49f4a72": {
      "model_module": "@jupyter-widgets/controls",
      "model_module_version": "1.4.0",
      "model_name": "DescriptionStyleModel",
      "state": {
       "_model_module_version": "1.4.0",
       "_view_module_version": "1.1.0",
       "description_width": ""
      }
     },
     "e0e1f672128f42b7a1db04bb694b1e18": {
      "model_module": "@jupyter-widgets/controls",
      "model_module_version": "1.4.0",
      "model_name": "VBoxModel",
      "state": {
       "_model_module_version": "1.4.0",
       "_view_module_version": "1.4.0",
       "children": [
        "IPY_MODEL_256eb38c9a2244a0894c68bb0ac7a564",
        "IPY_MODEL_a99b74caf6df443498269416d19ede55",
        "IPY_MODEL_348dab681b6d4e2988bf3605174c28bd"
       ],
       "layout": "IPY_MODEL_33d58d6651a24b7caf3dfa0c04c63562"
      }
     },
     "e2cc74106bfb41eaa5ef9223cd900c39": {
      "model_module": "@jupyter-widgets/controls",
      "model_module_version": "1.4.0",
      "model_name": "DescriptionStyleModel",
      "state": {
       "_model_module_version": "1.4.0",
       "_view_module_version": "1.1.0",
       "description_width": ""
      }
     },
     "e66e92e4fe304ae6ad15ed0be17bca40": {
      "model_module": "@jupyter-widgets/base",
      "model_module_version": "1.1.0",
      "model_name": "LayoutModel",
      "state": {
       "_model_module_version": "1.1.0",
       "_view_module_version": "1.1.0"
      }
     },
     "ebe20d8289b747d6b047e0e8ab088ba9": {
      "model_module": "@jupyter-widgets/controls",
      "model_module_version": "1.4.0",
      "model_name": "ButtonStyleModel",
      "state": {
       "_model_module_version": "1.4.0",
       "_view_module_version": "1.1.0"
      }
     },
     "f6b9aef5237d453794e0b0fcb2ec69ec": {
      "model_module": "@jupyter-widgets/controls",
      "model_module_version": "1.4.0",
      "model_name": "ButtonModel",
      "state": {
       "_model_module_version": "1.4.0",
       "_view_module_version": "1.4.0",
       "description": "Cancel",
       "layout": "IPY_MODEL_0b2d985dc86e4b8d980ea202dcdf20cb",
       "style": "IPY_MODEL_a76eb7bd813a4369b568b3f93669d949"
      }
     },
     "f6c03a567dd84ba08988595d2563b7d0": {
      "model_module": "@jupyter-widgets/controls",
      "model_module_version": "1.4.0",
      "model_name": "DescriptionStyleModel",
      "state": {
       "_model_module_version": "1.4.0",
       "_view_module_version": "1.1.0",
       "description_width": ""
      }
     },
     "f74f5f2006424a1abbfc2b92151e13c1": {
      "model_module": "@jupyter-widgets/base",
      "model_module_version": "1.1.0",
      "model_name": "LayoutModel",
      "state": {
       "_model_module_version": "1.1.0",
       "_view_module_version": "1.1.0",
       "display": "none",
       "grid_gap": "0px 0px",
       "grid_template_areas": "\n                    'pathlist filename'\n                    'dircontent dircontent'\n                    ",
       "grid_template_columns": "60% 40%",
       "grid_template_rows": "auto auto",
       "width": "500px"
      }
     }
    },
    "version_major": 2,
    "version_minor": 0
   }
  }
 },
 "nbformat": 4,
 "nbformat_minor": 4
}
