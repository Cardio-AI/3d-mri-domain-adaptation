{
 "cells": [
  {
   "cell_type": "code",
   "execution_count": 7,
   "metadata": {},
   "outputs": [
    {
     "name": "stderr",
     "output_type": "stream",
     "text": [
      "2019-09-12 15:43:31,260 INFO -------------------- Start --------------------\n",
      "2019-09-12 15:43:31,261 INFO Working directory: /mnt/data/git/cardio.\n",
      "2019-09-12 15:43:31,261 INFO Log file: ./logs/model_layer_output.log\n"
     ]
    },
    {
     "name": "stdout",
     "output_type": "stream",
     "text": [
      "search for root_dir and set working directory\n",
      "Working directory set to: /mnt/data/git/cardio\n",
      "[name: \"/device:CPU:0\"\n",
      "device_type: \"CPU\"\n",
      "memory_limit: 268435456\n",
      "locality {\n",
      "}\n",
      "incarnation: 3061950334555056163\n",
      ", name: \"/device:XLA_CPU:0\"\n",
      "device_type: \"XLA_CPU\"\n",
      "memory_limit: 17179869184\n",
      "locality {\n",
      "}\n",
      "incarnation: 14039814209509739461\n",
      "physical_device_desc: \"device: XLA_CPU device\"\n",
      ", name: \"/device:GPU:0\"\n",
      "device_type: \"GPU\"\n",
      "memory_limit: 23871111168\n",
      "locality {\n",
      "  bus_id: 1\n",
      "  links {\n",
      "  }\n",
      "}\n",
      "incarnation: 1054375268840051514\n",
      "physical_device_desc: \"device: 0, name: TITAN RTX, pci bus id: 0000:02:00.0, compute capability: 7.5\"\n",
      ", name: \"/device:XLA_GPU:0\"\n",
      "device_type: \"XLA_GPU\"\n",
      "memory_limit: 17179869184\n",
      "locality {\n",
      "}\n",
      "incarnation: 12995834942125272154\n",
      "physical_device_desc: \"device: XLA_GPU device\"\n",
      "]\n"
     ]
    }
   ],
   "source": [
    "from ProjectRoot import change_wd_to_project_root \n",
    "change_wd_to_project_root()\n",
    "%matplotlib inline\n",
    "%reload_ext autoreload\n",
    "%autoreload 2\n",
    "import matplotlib\n",
    "matplotlib.rcParams.update({'font.size': 22})\n",
    "from src.utils.notebook_imports import *\n",
    "Console_and_file_logger('model_layer_output')\n",
    "\n",
    "gpu_id = '1'\n",
    "current_gpu = choose_gpu_by_id(gpu_id)\n",
    "\n",
    "from src.models.ModelManager import load_pretrained_model\n",
    "from sklearn.model_selection import train_test_split\n",
    "\n",
    "import tensorflow.keras\n",
    "from keras.models import Model\n",
    "import src.utils.my_metrics as metr\n",
    "from skimage.transform import resize\n",
    "from src.models.ModelManager import create_2d_unet\n",
    "from src.data.generators import DataGenerator\n",
    "from src.data.dataset import get_img_msk_files_from_split_dir\n",
    "from src.visualization.visualize import show_slice_transparent, show_slice, show_2D_or_3D"
   ]
  },
  {
   "cell_type": "markdown",
   "metadata": {},
   "source": [
    "# Create a custom 2d unet"
   ]
  },
  {
   "cell_type": "code",
   "execution_count": 3,
   "metadata": {},
   "outputs": [
    {
     "name": "stderr",
     "output_type": "stream",
     "text": [
      "2019-09-06 10:20:17,784 INFO Optimizer: Adam\n"
     ]
    }
   ],
   "source": [
    "model = create_2d_unet({} )"
   ]
  },
  {
   "cell_type": "markdown",
   "metadata": {},
   "source": [
    "# Load a pretrained model"
   ]
  },
  {
   "cell_type": "code",
   "execution_count": 58,
   "metadata": {},
   "outputs": [
    {
     "data": {
      "application/vnd.jupyter.widget-view+json": {
       "model_id": "180f121004034558a374db2d406ef2fd",
       "version_major": 2,
       "version_minor": 0
      },
      "text/plain": [
       "interactive(children=(Dropdown(description='config_file', options=('reports/configs/2D/close_gap/acdc_plus0/20…"
      ]
     },
     "metadata": {},
     "output_type": "display_data"
    }
   ],
   "source": [
    "# load a pretrained model\n",
    "@interact\n",
    "def interact_load_pretrained_model(config_file=sorted(glob.glob('reports/configs/2D/close_gap/**/**/*.json',)), load=False):\n",
    "    \"\"\"\n",
    "    load past config for model training \n",
    "    \"\"\"\n",
    "    metrics = [\n",
    "    metr.bce_dice_jac_loss,\n",
    "    metr.dice_coef,\n",
    "    metr.dice_coef_labels,\n",
    "    metr.dice_coef_background,\n",
    "    metr.dice_coef_myo,\n",
    "    metr.dice_coef_lv,\n",
    "    metr.dice_coef_rv]\n",
    "    LOSS_FUNCTION = keras.losses.categorical_crossentropy\n",
    "    # load config with all params into global namespace\n",
    "    if load:\n",
    "        with open(config_file, encoding='utf-8') as data_file:\n",
    "            config = json.loads(data_file.read())\n",
    "        #globals()['MODEL_PATH'] = config['MODEL_PATH']\n",
    "        logging.info('Experiment: {}'.format(config['EXPERIMENT']))\n",
    "        logging.info('config:\\n {}'.format(json.dumps(config, indent=4, sort_keys=True)))\n",
    "        config['LOSS_FUNCTION'] =  LOSS_FUNCTION\n",
    "        try:\n",
    "            # load model\n",
    "            globals()['model'] = load_pretrained_model(config, metrics)\n",
    "            globals()['config'] = config\n",
    "            model.summary()\n",
    "        except Exception as e:\n",
    "            logging.error(str(e))"
   ]
  },
  {
   "cell_type": "markdown",
   "metadata": {},
   "source": [
    "# Visualise Layer names"
   ]
  },
  {
   "cell_type": "code",
   "execution_count": 7,
   "metadata": {},
   "outputs": [
    {
     "name": "stdout",
     "output_type": "stream",
     "text": [
      "input_1\n",
      "conv2d_1\n",
      "batch_normalization_1\n",
      "dropout_1\n",
      "conv2d_2\n",
      "batch_normalization_2\n",
      "max_pooling2d_1\n",
      "conv2d_3\n",
      "batch_normalization_3\n",
      "dropout_2\n",
      "conv2d_4\n",
      "batch_normalization_4\n",
      "max_pooling2d_2\n",
      "conv2d_5\n",
      "batch_normalization_5\n",
      "dropout_3\n",
      "conv2d_6\n",
      "batch_normalization_6\n",
      "max_pooling2d_3\n",
      "conv2d_7\n",
      "batch_normalization_7\n",
      "dropout_4\n",
      "conv2d_8\n",
      "batch_normalization_8\n",
      "max_pooling2d_4\n",
      "conv2d_9\n",
      "batch_normalization_9\n",
      "dropout_5\n",
      "conv2d_10\n",
      "batch_normalization_10\n",
      "conv2d_transpose_1\n",
      "concatenate_1\n",
      "conv2d_11\n",
      "batch_normalization_11\n",
      "dropout_6\n",
      "conv2d_12\n",
      "batch_normalization_12\n",
      "conv2d_transpose_2\n",
      "concatenate_2\n",
      "conv2d_13\n",
      "batch_normalization_13\n",
      "dropout_7\n",
      "conv2d_14\n",
      "batch_normalization_14\n",
      "conv2d_transpose_3\n",
      "concatenate_3\n",
      "conv2d_15\n",
      "batch_normalization_15\n",
      "dropout_8\n",
      "conv2d_16\n",
      "batch_normalization_16\n",
      "conv2d_transpose_4\n",
      "concatenate_4\n",
      "conv2d_17\n",
      "batch_normalization_17\n",
      "dropout_9\n",
      "conv2d_18\n",
      "batch_normalization_18\n",
      "conv2d_19\n"
     ]
    }
   ],
   "source": [
    "for layer in model.layers:\n",
    "    print(layer.name)"
   ]
  },
  {
   "cell_type": "code",
   "execution_count": 59,
   "metadata": {},
   "outputs": [
    {
     "data": {
      "text/plain": [
       "keras.engine.training.Model"
      ]
     },
     "execution_count": 59,
     "metadata": {},
     "output_type": "execute_result"
    }
   ],
   "source": [
    "type(model)"
   ]
  },
  {
   "cell_type": "code",
   "execution_count": 60,
   "metadata": {},
   "outputs": [
    {
     "data": {
      "text/plain": [
       "<keras.layers.convolutional.Conv2D at 0x7fa6f2ef6e80>"
      ]
     },
     "execution_count": 60,
     "metadata": {},
     "output_type": "execute_result"
    }
   ],
   "source": [
    "layer_name = 'conv2d_10'\n",
    "model.get_layer(layer_name)"
   ]
  },
  {
   "cell_type": "code",
   "execution_count": 61,
   "metadata": {},
   "outputs": [
    {
     "data": {
      "text/plain": [
       "TensorShape([Dimension(None), Dimension(224), Dimension(224), Dimension(1)])"
      ]
     },
     "execution_count": 61,
     "metadata": {},
     "output_type": "execute_result"
    }
   ],
   "source": [
    "model.input.shape"
   ]
  },
  {
   "cell_type": "markdown",
   "metadata": {},
   "source": [
    "# Build Wrapper-Model to get the output of one intermediate layers"
   ]
  },
  {
   "cell_type": "code",
   "execution_count": 62,
   "metadata": {},
   "outputs": [],
   "source": [
    "\n",
    "\n",
    "# Build a wrapper model, define new ouptut\n",
    "\n",
    "intermediate_layer_model = Model(inputs=model.input,outputs=model.get_layer(layer_name).output)"
   ]
  },
  {
   "cell_type": "markdown",
   "metadata": {},
   "source": [
    "# Create random noise and predict the output"
   ]
  },
  {
   "cell_type": "code",
   "execution_count": 63,
   "metadata": {},
   "outputs": [],
   "source": [
    "test = np.random.random((16,*config['DIM'],1)) # create random noise\n",
    "intermediate_output = intermediate_layer_model.predict(test)"
   ]
  },
  {
   "cell_type": "code",
   "execution_count": 64,
   "metadata": {},
   "outputs": [
    {
     "data": {
      "text/plain": [
       "(16, 14, 14, 256)"
      ]
     },
     "execution_count": 64,
     "metadata": {},
     "output_type": "execute_result"
    }
   ],
   "source": [
    "intermediate_output.shape"
   ]
  },
  {
   "cell_type": "code",
   "execution_count": 65,
   "metadata": {},
   "outputs": [
    {
     "data": {
      "application/vnd.jupyter.widget-view+json": {
       "model_id": "fd966d7e694c4838b820581240a853d6",
       "version_major": 2,
       "version_minor": 0
      },
      "text/plain": [
       "interactive(children=(IntSlider(value=7, description='img', max=14), IntSlider(value=128, description='feature…"
      ]
     },
     "metadata": {},
     "output_type": "display_data"
    }
   ],
   "source": [
    "# plot random noise prediction\n",
    "@interact\n",
    "def plot_intermediate(img= (0,intermediate_output.shape[1]), feature= (0,intermediate_output.shape[-1])):\n",
    "    \n",
    "    ncols = 3\n",
    "    nrows = 1\n",
    "    \n",
    "    fig, axes = plt.subplots(nrows=nrows, ncols=ncols, figsize=(ncols * 10, nrows * 10))\n",
    "    \n",
    "    axes[0].imshow(test[img,:,:,0])\n",
    "    axes[0].set_title('Input image {}'.format(img))\n",
    "    axes[1].imshow(intermediate_output[img,:,:,feature])\n",
    "    axes[1].set_title('Feature map: {}'.format(feature))\n",
    "    axes[2].imshow(resize(intermediate_output[img,:,:,feature], test[img,:,:,0].shape, anti_aliasing=True))\n",
    "    axes[2].set_title('Feature map - resized: {}'.format(feature))\n",
    "    plt.show()"
   ]
  },
  {
   "cell_type": "markdown",
   "metadata": {},
   "source": [
    "# Load ACDC 2D data"
   ]
  },
  {
   "cell_type": "code",
   "execution_count": 86,
   "metadata": {},
   "outputs": [
    {
     "name": "stderr",
     "output_type": "stream",
     "text": [
      "2019-09-06 11:25:40,670 INFO Create DataGenerator\n",
      "2019-09-06 11:25:40,672 INFO Datagenerator created with: \n",
      " shape: [224, 224]\n",
      " batchsize: 24\n",
      " Scaler: MinMax\n",
      " Images: 434 \n",
      " Augment_grid: False\n",
      "2019-09-06 11:25:40,672 INFO No augmentation\n"
     ]
    }
   ],
   "source": [
    "# create a batchgenerator\n",
    "# load a real image\n",
    "images_f, masks_f = get_img_msk_files_from_split_dir('data/raw/ACDC/2D/val/')\n",
    "len(images_f)\n",
    "\n",
    "#avoid augmentation\n",
    "config['AUGMENT_GRID'] = False\n",
    "batch_generator = DataGenerator(images_f, masks_f, config)\n",
    "acdc_test_images = batch_generator.__getitem__(0)[0]\n"
   ]
  },
  {
   "cell_type": "code",
   "execution_count": 87,
   "metadata": {},
   "outputs": [],
   "source": [
    "intermediate_output_image = intermediate_layer_model.predict(acdc_test_images)"
   ]
  },
  {
   "cell_type": "code",
   "execution_count": 88,
   "metadata": {},
   "outputs": [
    {
     "data": {
      "text/plain": [
       "(24, 14, 14, 256)"
      ]
     },
     "execution_count": 88,
     "metadata": {},
     "output_type": "execute_result"
    }
   ],
   "source": [
    "intermediate_output_image.shape"
   ]
  },
  {
   "cell_type": "markdown",
   "metadata": {},
   "source": [
    "# Visualise the feature maps for one batch"
   ]
  },
  {
   "cell_type": "code",
   "execution_count": 70,
   "metadata": {},
   "outputs": [
    {
     "data": {
      "application/vnd.jupyter.widget-view+json": {
       "model_id": "8fb9a5c01efa49f0b8f7158d4d81d60f",
       "version_major": 2,
       "version_minor": 0
      },
      "text/plain": [
       "interactive(children=(IntSlider(value=7, description='img', max=14), IntSlider(value=128, description='feature…"
      ]
     },
     "metadata": {},
     "output_type": "display_data"
    }
   ],
   "source": [
    "@interact\n",
    "def plot_intermediate(img= (0,intermediate_output_image.shape[1]), feature= (0,intermediate_output_image.shape[-1])):\n",
    "    \n",
    "    ncols = 3\n",
    "    nrows = 1\n",
    "    \n",
    "    fig, axes = plt.subplots(nrows=nrows, ncols=ncols, figsize=(ncols * 10, nrows * 10))\n",
    "    \n",
    "    axes[0].imshow(test_images[img,:,:,0])\n",
    "    axes[0].set_title('Input image {}'.format(img))\n",
    "    axes[1].imshow(intermediate_output_image[img,:,:,feature])\n",
    "    axes[1].set_title('Feature map: {}'.format(feature))\n",
    "    axes[2].imshow(resize(intermediate_output_image[img,:,:,feature], test_images[img,:,:,0].shape, anti_aliasing=True))\n",
    "    axes[2].set_title('Feature map - resized: {}'.format(feature))\n",
    "    plt.show()"
   ]
  },
  {
   "cell_type": "markdown",
   "metadata": {},
   "source": [
    "# Build Model wrapper which outputs all layers"
   ]
  },
  {
   "cell_type": "code",
   "execution_count": 89,
   "metadata": {},
   "outputs": [],
   "source": [
    "# get all layers\n",
    "layers = [layer.name for layer in model.layers if 'input' not in layer.name]\n",
    "outputs = [model.get_layer(layer).output for layer in layers]\n",
    "\n",
    "# define a wrapper model to get the output of all layers\n",
    "all_layers_model = Model(inputs=model.input,outputs=outputs)"
   ]
  },
  {
   "cell_type": "code",
   "execution_count": 91,
   "metadata": {},
   "outputs": [],
   "source": [
    "# predict on test images\n",
    "all_layers_output = all_layers_model.predict(acdc_test_images)"
   ]
  },
  {
   "cell_type": "code",
   "execution_count": 92,
   "metadata": {},
   "outputs": [],
   "source": [
    "# predict on original model\n",
    "pred = model.predict(acdc_test_images)"
   ]
  },
  {
   "cell_type": "code",
   "execution_count": 76,
   "metadata": {},
   "outputs": [
    {
     "data": {
      "image/png": "[encoded data removed]",
      "text/plain": [
       "<Figure size 1080x360 with 3 Axes>"
      ]
     },
     "metadata": {
      "needs_background": "light"
     },
     "output_type": "display_data"
    },
    {
     "name": "stderr",
     "output_type": "stream",
     "text": [
      "2019-09-06 11:08:56,603 INFO Image-shape: (224, 224)\n",
      "2019-09-06 11:08:56,604 INFO Image data points: 0\n",
      "2019-09-06 11:08:56,604 INFO Image mean: 0.000\n",
      "2019-09-06 11:08:56,605 INFO Image max: 0.000\n",
      "2019-09-06 11:08:56,605 INFO Image min: 0.000\n",
      "2019-09-06 11:08:56,606 INFO Mask-shape: (224, 224, 3)\n",
      "2019-09-06 11:08:56,606 INFO RV mask data points: 50176\n",
      "2019-09-06 11:08:56,606 INFO Myo mask data points: 50176\n",
      "2019-09-06 11:08:56,607 INFO LV mask data points: 50176\n",
      "2019-09-06 11:08:56,607 INFO RV mask mean: 0.02451271377503872\n",
      "2019-09-06 11:08:56,608 INFO Myo mask mean: 0.018275227397680283\n",
      "2019-09-06 11:08:56,608 INFO LV mask mean: 0.026808664202690125\n"
     ]
    }
   ],
   "source": [
    "test = pred[10]\n",
    "show_slice(mask=test)"
   ]
  },
  {
   "cell_type": "code",
   "execution_count": 77,
   "metadata": {},
   "outputs": [
    {
     "data": {
      "text/plain": [
       "58"
      ]
     },
     "execution_count": 77,
     "metadata": {},
     "output_type": "execute_result"
    }
   ],
   "source": [
    "# how many layers exclusive input layer?\n",
    "len(all_layers_output)"
   ]
  },
  {
   "cell_type": "code",
   "execution_count": 78,
   "metadata": {},
   "outputs": [
    {
     "data": {
      "application/vnd.jupyter.widget-view+json": {
       "model_id": "6d548bc56bbf4fab8a9bc787cf052c50",
       "version_major": 2,
       "version_minor": 0
      },
      "text/plain": [
       "interactive(children=(IntSlider(value=12, description='img', max=24), Checkbox(value=False, description='plot'…"
      ]
     },
     "metadata": {},
     "output_type": "display_data"
    }
   ],
   "source": [
    "# print the first featuremap for each layers of the model for one image\n",
    "@interact\n",
    "def show_all_layers_for_one_image(img=(0,test_images.shape[0]), plot=False):\n",
    "    plt.imshow(test_images[img,:,:,0])\n",
    "    plt.show()\n",
    "    if plot:\n",
    "        #img = 0\n",
    "        ncols = 10\n",
    "        nrows = int(len(all_layers_output)/ncols)\n",
    "\n",
    "        # create a grid\n",
    "        fig, axes = plt.subplots(nrows=nrows, ncols=ncols, figsize=(ncols * 5, nrows * 5))\n",
    "        axes = axes.flatten()\n",
    "\n",
    "        # show input image\n",
    "        axes[0].imshow(test_images[img,:,:,0])\n",
    "        axes[0].set_title('Input image {}'.format(img))\n",
    "\n",
    "        # show ouput image\n",
    "        axes[1].imshow(show_slice(mask=pred[img,...], show=False))\n",
    "        axes[1].set_title('output image {}'.format(img))\n",
    "\n",
    "        # show one image output of all layers\n",
    "        for layer_name, output, ax in zip(layers, all_layers_output, axes[2:]):\n",
    "            ax.imshow(output[img,:,:,0])\n",
    "            ax.set_title('layer: {} \\n shape: {}'.format(layer_name, output.shape),fontsize=18, ha='center')\n",
    "        plt.tight_layout()"
   ]
  },
  {
   "cell_type": "markdown",
   "metadata": {},
   "source": [
    "# model trained with ACDC - predicted on ACDC val data\n",
    "## ACDC featuremaps of all layers"
   ]
  },
  {
   "cell_type": "code",
   "execution_count": 8,
   "metadata": {},
   "outputs": [
    {
     "data": {
      "application/vnd.jupyter.widget-view+json": {
       "model_id": "ec06f5967ab54dae949e691ee6865d70",
       "version_major": 2,
       "version_minor": 0
      },
      "text/plain": [
       "interactive(children=(Dropdown(description='config_file', options=('reports/configs/2D/close_gap/acdc_plus0/20…"
      ]
     },
     "metadata": {},
     "output_type": "display_data"
    }
   ],
   "source": [
    "# load a pretrained model\n",
    "@interact\n",
    "def interact_load_pretrained_model(config_file=sorted(glob.glob('reports/configs/2D/close_gap/**/**/*.json',)), load=False):\n",
    "    \"\"\"\n",
    "    load past config for model training \n",
    "    \"\"\"\n",
    "    metrics = [\n",
    "    metr.bce_dice_jac_loss,\n",
    "    metr.dice_coef,\n",
    "    metr.dice_coef_labels,\n",
    "    metr.dice_coef_background,\n",
    "    metr.dice_coef_myo,\n",
    "    metr.dice_coef_lv,\n",
    "    metr.dice_coef_rv]\n",
    "    LOSS_FUNCTION = keras.losses.categorical_crossentropy\n",
    "    # load config with all params into global namespace\n",
    "    if load:\n",
    "        with open(config_file, encoding='utf-8') as data_file:\n",
    "            config = json.loads(data_file.read())\n",
    "        #globals()['MODEL_PATH'] = config['MODEL_PATH']\n",
    "        logging.info('Experiment: {}'.format(config['EXPERIMENT']))\n",
    "        logging.info('config:\\n {}'.format(json.dumps(config, indent=4, sort_keys=True)))\n",
    "        config['LOSS_FUNCTION'] =  LOSS_FUNCTION\n",
    "        try:\n",
    "            # load model\n",
    "            globals()['model'] = load_pretrained_model(config, metrics)\n",
    "            globals()['config'] = config\n",
    "            #model.summary()\n",
    "        except Exception as e:\n",
    "            logging.error(str(e))"
   ]
  },
  {
   "cell_type": "code",
   "execution_count": 10,
   "metadata": {},
   "outputs": [
    {
     "data": {
      "application/vnd.jupyter.widget-view+json": {
       "model_id": "e6aaabbb983c4549a1c383344bde3ce1",
       "version_major": 2,
       "version_minor": 0
      },
      "text/plain": [
       "interactive(children=(Text(value='data/raw/ACDC/2D/val/', description='dir'), Checkbox(value=False, descriptio…"
      ]
     },
     "metadata": {},
     "output_type": "display_data"
    }
   ],
   "source": [
    "# create a batchgenerator\n",
    "# load a real image\n",
    "@interact\n",
    "def load_data(dir='data/raw/ACDC/2D/val/', load=False):\n",
    "    \n",
    "    if load:\n",
    "        images_f, masks_f = get_img_msk_files_from_split_dir('data/raw/ACDC/2D/val/')\n",
    "        logging.info('loaded: {} files'.format(len(images_f)))\n",
    "\n",
    "        #avoid augmentation\n",
    "        config['AUGMENT_GRID'] = False\n",
    "        batch_generator = DataGenerator(images_f, masks_f, config)\n",
    "        globals()['test_images'] = batch_generator.__getitem__(0)[0]\n",
    "\n",
    "        # get all layers\n",
    "        layers = [layer.name for layer in model.layers if 'input' not in layer.name]\n",
    "        outputs = [model.get_layer(layer).output for layer in layers]\n",
    "\n",
    "        # define a wrapper model to get the output of all layers\n",
    "        globals()['model_all_layers'] = Model(inputs=model.input,outputs=outputs)"
   ]
  },
  {
   "cell_type": "code",
   "execution_count": 11,
   "metadata": {},
   "outputs": [],
   "source": [
    "# get output of all layers for test data\n",
    "pred_all_layers = model_all_layers.predict(test_images)\n",
    "\n",
    "# get the output of the original model for the test data\n",
    "pred = model.predict(test_images)"
   ]
  },
  {
   "cell_type": "code",
   "execution_count": 13,
   "metadata": {},
   "outputs": [
    {
     "data": {
      "application/vnd.jupyter.widget-view+json": {
       "model_id": "afa766065dc54bd3a78864f5d545a209",
       "version_major": 2,
       "version_minor": 0
      },
      "text/plain": [
       "interactive(children=(IntSlider(value=12, description='img', max=24), IntSlider(value=10, description='feature…"
      ]
     },
     "metadata": {},
     "output_type": "display_data"
    }
   ],
   "source": [
    "# print all layers output for one image\n",
    "@interact\n",
    "def show_n_featuremaps_per_layer(img=(0,test_images.shape[0]), features_per_layer = (1, 20), plot=False):\n",
    "    #plt.imshow(test_images[img,:,:,0])\n",
    "    #plt.show()\n",
    "    #show_slice(mask=pred[img,...], show=True)\n",
    "    show_2D_or_3D(test_images[img,:,:,0],  mask=pred[img,...])\n",
    "    \n",
    "    if plot:\n",
    "        #img = 0\n",
    "        ncols = features_per_layer\n",
    "        nrows = len(pred_all_layers)\n",
    "\n",
    "        # create a grid\n",
    "        fig, axes = plt.subplots(nrows=nrows, ncols=ncols, figsize=(ncols * 5, nrows * 5))\n",
    "        axes = axes.flatten()\n",
    "\n",
    "        # show output of all layers\n",
    "        ax_idx = 0\n",
    "        \n",
    "        for layer_name, output in zip(layers, pred_all_layers): # traverse through all layers output tensors\n",
    "            \n",
    "            for c in range(features_per_layer): # get 10 examples of each layer if possible\n",
    "                \n",
    "                if c < output.shape[-1]: # make sure the current output tensor has enough feature maps\n",
    "                    \n",
    "                    try:\n",
    "                        axes[ax_idx].imshow(output[img,:,:,c])\n",
    "                        axes[ax_idx].set_title('layer:{}, c:{} \\n shape:{}'.format(layer_name, c, output.shape),fontsize=18, ha='center')\n",
    "                    except Exception as e:\n",
    "                        print(str(e))\n",
    "                        \n",
    "                # increase ax-id to make sure we get a new line for each model layer\n",
    "                ax_idx += 1\n",
    "        plt.tight_layout()"
   ]
  },
  {
   "cell_type": "markdown",
   "metadata": {},
   "source": [
    "# Load Fallot data"
   ]
  },
  {
   "cell_type": "code",
   "execution_count": 58,
   "metadata": {
    "collapsed": true,
    "jupyter": {
     "outputs_hidden": true
    }
   },
   "outputs": [
    {
     "data": {
      "application/vnd.jupyter.widget-view+json": {
       "model_id": "180f121004034558a374db2d406ef2fd",
       "version_major": 2,
       "version_minor": 0
      },
      "text/plain": [
       "interactive(children=(Dropdown(description='config_file', options=('reports/configs/2D/close_gap/acdc_plus0/20…"
      ]
     },
     "metadata": {},
     "output_type": "display_data"
    }
   ],
   "source": [
    "# load a pretrained model\n",
    "@interact\n",
    "def interact_load_pretrained_model(config_file=sorted(glob.glob('reports/configs/2D/close_gap/**/**/*.json',)), load=False):\n",
    "    \"\"\"\n",
    "    load past config for model training \n",
    "    \"\"\"\n",
    "    metrics = [\n",
    "    metr.bce_dice_jac_loss,\n",
    "    metr.dice_coef,\n",
    "    metr.dice_coef_labels,\n",
    "    metr.dice_coef_background,\n",
    "    metr.dice_coef_myo,\n",
    "    metr.dice_coef_lv,\n",
    "    metr.dice_coef_rv]\n",
    "    LOSS_FUNCTION = keras.losses.categorical_crossentropy\n",
    "    # load config with all params into global namespace\n",
    "    if load:\n",
    "        with open(config_file, encoding='utf-8') as data_file:\n",
    "            config = json.loads(data_file.read())\n",
    "        #globals()['MODEL_PATH'] = config['MODEL_PATH']\n",
    "        logging.info('Experiment: {}'.format(config['EXPERIMENT']))\n",
    "        logging.info('config:\\n {}'.format(json.dumps(config, indent=4, sort_keys=True)))\n",
    "        config['LOSS_FUNCTION'] =  LOSS_FUNCTION\n",
    "        try:\n",
    "            # load model\n",
    "            globals()['model'] = load_pretrained_model(config, metrics)\n",
    "            globals()['config'] = config\n",
    "            model.summary()\n",
    "        except Exception as e:\n",
    "            logging.error(str(e))"
   ]
  },
  {
   "cell_type": "code",
   "execution_count": 103,
   "metadata": {},
   "outputs": [
    {
     "name": "stderr",
     "output_type": "stream",
     "text": [
      "2019-09-06 11:39:10,274 INFO Create DataGenerator\n",
      "2019-09-06 11:39:10,279 INFO Datagenerator created with: \n",
      " shape: [224, 224]\n",
      " batchsize: 24\n",
      " Scaler: MinMax\n",
      " Images: 1870 \n",
      " Augment_grid: False\n",
      "2019-09-06 11:39:10,280 INFO No augmentation\n"
     ]
    }
   ],
   "source": [
    "# create a batchgenerator\n",
    "# load a real image\n",
    "images_f, masks_f = get_img_msk_files_from_split_dir('data/raw/tetra/2D/val/')\n",
    "\n",
    "#avoid augmentation\n",
    "config['AUGMENT_GRID'] = False\n",
    "config['SHUFFLE'] = False\n",
    "batch_generator = DataGenerator(images_f, masks_f, config)\n",
    "test_images_fallot = batch_generator.__getitem__(0)[0]"
   ]
  },
  {
   "cell_type": "code",
   "execution_count": 104,
   "metadata": {},
   "outputs": [],
   "source": [
    "# predict on test images\n",
    "all_layers_output_fallot = all_layers_model.predict(test_images_fallot)\n",
    "\n",
    "# predict on original model\n",
    "pred_fallot = model.predict(test_images_fallot)"
   ]
  },
  {
   "cell_type": "code",
   "execution_count": 105,
   "metadata": {},
   "outputs": [
    {
     "data": {
      "application/vnd.jupyter.widget-view+json": {
       "model_id": "d0c18902dfdf4bbca7ae7ec1f6100e7a",
       "version_major": 2,
       "version_minor": 0
      },
      "text/plain": [
       "interactive(children=(IntSlider(value=12, description='img', max=24), IntSlider(value=10, description='feature…"
      ]
     },
     "metadata": {},
     "output_type": "display_data"
    }
   ],
   "source": [
    "# print all layers output for one image\n",
    "@interact\n",
    "def show_n_featuremaps_per_layer(img=(0,test_images_fallot.shape[0]), features_per_layer = (1, 20), plot=False):\n",
    "    plt.imshow(test_images_fallot[img,:,:,0])\n",
    "    plt.show()\n",
    "    show_slice(mask=pred_fallot[img,...], show=True)\n",
    "    show_2D_or_3D(test_images_fallot[img,:,:,0],  mask=pred_fallot[img,...])\n",
    "    \n",
    "    if plot:\n",
    "        # define grid, one row per layer and n images/featuremaps each\n",
    "        ncols = features_per_layer\n",
    "        nrows = len(all_layers_output_fallot)\n",
    "        size_per_featuremap = 5\n",
    "\n",
    "        # create a grid, make the gridsize dynamic\n",
    "        fig, axes = plt.subplots(nrows=nrows, ncols=ncols, figsize=(ncols * size_per_featuremap, nrows * size_per_featuremap))\n",
    "        axes = axes.flatten() # flatten grid of axes to make linear indexing possible\n",
    "\n",
    "        # show n feature maps per layer\n",
    "        ax_idx = 0\n",
    "        \n",
    "        for layer_name, output in zip(layers, all_layers_output_fallot): # traverse through all layers output tensors\n",
    "            \n",
    "            for c in range(features_per_layer): # get 10 examples of each layer if possible\n",
    "                \n",
    "                if c < output.shape[-1]: # make sure the current output tensor has enough feature maps\n",
    "                    \n",
    "                    try:\n",
    "                        axes[ax_idx].imshow(output[img,:,:,c])\n",
    "                        axes[ax_idx].set_title('layer:{}, c:{} \\n shape:{}'.format(layer_name, c, output.shape),fontsize=18, ha='center')\n",
    "                    except Exception as e:\n",
    "                        print(str(e))\n",
    "                        \n",
    "                # increase ax-id to make sure we get a new line for each model layer\n",
    "                ax_idx += 1\n",
    "        plt.tight_layout()"
   ]
  },
  {
   "cell_type": "code",
   "execution_count": null,
   "metadata": {},
   "outputs": [],
   "source": []
  },
  {
   "cell_type": "code",
   "execution_count": null,
   "metadata": {},
   "outputs": [],
   "source": []
  }
 ],
 "metadata": {
  "kernelspec": {
   "display_name": "Python 3",
   "language": "python",
   "name": "python3"
  },
  "language_info": {
   "codemirror_mode": {
    "name": "ipython",
    "version": 3
   },
   "file_extension": ".py",
   "mimetype": "text/x-python",
   "name": "python",
   "nbconvert_exporter": "python",
   "pygments_lexer": "ipython3",
   "version": "3.6.9"
  },
  "widgets": {
   "application/vnd.jupyter.widget-state+json": {
    "state": {},
    "version_major": 2,
    "version_minor": 0
   }
  }
 },
 "nbformat": 4,
 "nbformat_minor": 4
}
