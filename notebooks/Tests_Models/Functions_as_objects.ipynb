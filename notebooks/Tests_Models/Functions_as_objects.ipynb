{
 "cells": [
  {
   "cell_type": "markdown",
   "metadata": {},
   "source": [
    "# Python objects and functions"
   ]
  },
  {
   "cell_type": "markdown",
   "metadata": {},
   "source": [
    "## variable"
   ]
  },
  {
   "cell_type": "code",
   "execution_count": 64,
   "metadata": {},
   "outputs": [
    {
     "data": {
      "text/plain": [
       "'plain_fn'"
      ]
     },
     "execution_count": 64,
     "metadata": {},
     "output_type": "execute_result"
    }
   ],
   "source": [
    "plain_var = 'plain_fn'\n",
    "plain_var"
   ]
  },
  {
   "cell_type": "markdown",
   "metadata": {},
   "source": [
    "## lambda fn"
   ]
  },
  {
   "cell_type": "code",
   "execution_count": 65,
   "metadata": {},
   "outputs": [
    {
     "data": {
      "text/plain": [
       "<function __main__.<lambda>(x)>"
      ]
     },
     "execution_count": 65,
     "metadata": {},
     "output_type": "execute_result"
    }
   ],
   "source": [
    "lambda_fn = lambda x: x*x\n",
    "lambda_fn"
   ]
  },
  {
   "cell_type": "markdown",
   "metadata": {},
   "source": [
    "## plain function"
   ]
  },
  {
   "cell_type": "code",
   "execution_count": 66,
   "metadata": {},
   "outputs": [
    {
     "data": {
      "text/plain": [
       "<function __main__.plain_fn(x)>"
      ]
     },
     "execution_count": 66,
     "metadata": {},
     "output_type": "execute_result"
    }
   ],
   "source": [
    "def plain_fn(x):\n",
    "    return x*x\n",
    "plain_fn"
   ]
  },
  {
   "cell_type": "code",
   "execution_count": 67,
   "metadata": {},
   "outputs": [
    {
     "data": {
      "text/plain": [
       "25"
      ]
     },
     "execution_count": 67,
     "metadata": {},
     "output_type": "execute_result"
    }
   ],
   "source": [
    "plain_fn(5)"
   ]
  },
  {
   "cell_type": "markdown",
   "metadata": {},
   "source": [
    "## assigned fn"
   ]
  },
  {
   "cell_type": "code",
   "execution_count": 68,
   "metadata": {},
   "outputs": [
    {
     "data": {
      "text/plain": [
       "<function __main__.plain_fn(x)>"
      ]
     },
     "execution_count": 68,
     "metadata": {},
     "output_type": "execute_result"
    }
   ],
   "source": [
    "assigned_fn = plain_fn\n",
    "assigned_fn"
   ]
  },
  {
   "cell_type": "code",
   "execution_count": 69,
   "metadata": {},
   "outputs": [
    {
     "data": {
      "text/plain": [
       "25"
      ]
     },
     "execution_count": 69,
     "metadata": {},
     "output_type": "execute_result"
    }
   ],
   "source": [
    "assigned_fn(5)"
   ]
  },
  {
   "cell_type": "markdown",
   "metadata": {},
   "source": [
    "## fn returns a fn"
   ]
  },
  {
   "cell_type": "code",
   "execution_count": 70,
   "metadata": {},
   "outputs": [],
   "source": [
    "def loss_1(x):\n",
    "    return x+10\n",
    "def loss_2(x):\n",
    "    return x*10"
   ]
  },
  {
   "cell_type": "code",
   "execution_count": 71,
   "metadata": {},
   "outputs": [],
   "source": [
    "# excetutes another fn\n",
    "def call_fn(x):\n",
    "    if x< 100:\n",
    "        res = loss_1(x)\n",
    "    else:\n",
    "        res = loss_2(x)\n",
    "    return res"
   ]
  },
  {
   "cell_type": "code",
   "execution_count": 75,
   "metadata": {},
   "outputs": [],
   "source": [
    "# returns a callable function\n",
    "def get_fn(x):\n",
    "    if x< 100:\n",
    "        fn = loss_1\n",
    "    else:\n",
    "        fn = loss_2\n",
    "    return fn"
   ]
  },
  {
   "cell_type": "code",
   "execution_count": 72,
   "metadata": {},
   "outputs": [
    {
     "data": {
      "text/plain": [
       "<function __main__.call_fn(x)>"
      ]
     },
     "execution_count": 72,
     "metadata": {},
     "output_type": "execute_result"
    }
   ],
   "source": [
    "call_fn"
   ]
  },
  {
   "cell_type": "code",
   "execution_count": 74,
   "metadata": {},
   "outputs": [
    {
     "data": {
      "text/plain": [
       "2000"
      ]
     },
     "execution_count": 74,
     "metadata": {},
     "output_type": "execute_result"
    }
   ],
   "source": [
    "call_fn(200)"
   ]
  },
  {
   "cell_type": "code",
   "execution_count": 76,
   "metadata": {},
   "outputs": [
    {
     "data": {
      "text/plain": [
       "<function __main__.get_fn(x)>"
      ]
     },
     "execution_count": 76,
     "metadata": {},
     "output_type": "execute_result"
    }
   ],
   "source": [
    "get_fn"
   ]
  },
  {
   "cell_type": "code",
   "execution_count": 77,
   "metadata": {},
   "outputs": [
    {
     "data": {
      "text/plain": [
       "<function __main__.loss_1(x)>"
      ]
     },
     "execution_count": 77,
     "metadata": {},
     "output_type": "execute_result"
    }
   ],
   "source": [
    "get_fn(10)"
   ]
  },
  {
   "cell_type": "code",
   "execution_count": 78,
   "metadata": {},
   "outputs": [
    {
     "data": {
      "text/plain": [
       "<function __main__.loss_1(x)>"
      ]
     },
     "execution_count": 78,
     "metadata": {},
     "output_type": "execute_result"
    }
   ],
   "source": [
    "my_fn = get_fn(10)\n",
    "my_fn"
   ]
  },
  {
   "cell_type": "code",
   "execution_count": 80,
   "metadata": {},
   "outputs": [
    {
     "data": {
      "text/plain": [
       "20"
      ]
     },
     "execution_count": 80,
     "metadata": {},
     "output_type": "execute_result"
    }
   ],
   "source": [
    "my_fn(10)"
   ]
  },
  {
   "cell_type": "markdown",
   "metadata": {},
   "source": [
    "## wrapped functions"
   ]
  },
  {
   "cell_type": "code",
   "execution_count": 81,
   "metadata": {},
   "outputs": [],
   "source": [
    "def loss_factory(factor=10):\n",
    "    if factor<100:\n",
    "        fn = lambda x:x*factor\n",
    "    else:\n",
    "        fn = lambda x:x+factor\n",
    "    return fn"
   ]
  },
  {
   "cell_type": "code",
   "execution_count": 82,
   "metadata": {},
   "outputs": [
    {
     "data": {
      "text/plain": [
       "<function __main__.loss_factory(factor=10)>"
      ]
     },
     "execution_count": 82,
     "metadata": {},
     "output_type": "execute_result"
    }
   ],
   "source": [
    "# inspect the factory\n",
    "loss_factory"
   ]
  },
  {
   "cell_type": "code",
   "execution_count": 83,
   "metadata": {},
   "outputs": [
    {
     "data": {
      "text/plain": [
       "<function __main__.loss_factory.<locals>.<lambda>(x)>"
      ]
     },
     "execution_count": 83,
     "metadata": {},
     "output_type": "execute_result"
    }
   ],
   "source": [
    "# inspect the returned loss\n",
    "loss_factory(50)"
   ]
  },
  {
   "cell_type": "code",
   "execution_count": 44,
   "metadata": {},
   "outputs": [
    {
     "data": {
      "text/plain": [
       "<function __main__.loss_factory.<locals>.<lambda>(x)>"
      ]
     },
     "execution_count": 44,
     "metadata": {},
     "output_type": "execute_result"
    }
   ],
   "source": [
    "# assign the returned loss\n",
    "loss = loss_factory(50)\n",
    "loss"
   ]
  },
  {
   "cell_type": "code",
   "execution_count": 86,
   "metadata": {},
   "outputs": [
    {
     "data": {
      "text/plain": [
       "100"
      ]
     },
     "execution_count": 86,
     "metadata": {},
     "output_type": "execute_result"
    }
   ],
   "source": [
    "# use the created loss, with injected factor\n",
    "loss(2)"
   ]
  },
  {
   "cell_type": "code",
   "execution_count": 89,
   "metadata": {},
   "outputs": [
    {
     "data": {
      "text/plain": [
       "100"
      ]
     },
     "execution_count": 89,
     "metadata": {},
     "output_type": "execute_result"
    }
   ],
   "source": [
    "loss_factory(50)(2)"
   ]
  },
  {
   "cell_type": "code",
   "execution_count": 59,
   "metadata": {},
   "outputs": [],
   "source": [
    "class Myloss():\n",
    "    def __init__(self, factor=10):\n",
    "        self.factor = factor\n",
    "    \n",
    "    def __call__(self,x):\n",
    "        return self.factor * x"
   ]
  },
  {
   "cell_type": "code",
   "execution_count": 90,
   "metadata": {},
   "outputs": [
    {
     "data": {
      "text/plain": [
       "__main__.Myloss"
      ]
     },
     "execution_count": 90,
     "metadata": {},
     "output_type": "execute_result"
    }
   ],
   "source": [
    "Myloss"
   ]
  },
  {
   "cell_type": "code",
   "execution_count": 91,
   "metadata": {},
   "outputs": [
    {
     "data": {
      "text/plain": [
       "<__main__.Myloss at 0x7f1c70ca9160>"
      ]
     },
     "execution_count": 91,
     "metadata": {},
     "output_type": "execute_result"
    }
   ],
   "source": [
    "Myloss()"
   ]
  },
  {
   "cell_type": "code",
   "execution_count": 92,
   "metadata": {},
   "outputs": [
    {
     "data": {
      "text/plain": [
       "<__main__.Myloss at 0x7f1c70ca9240>"
      ]
     },
     "execution_count": 92,
     "metadata": {},
     "output_type": "execute_result"
    }
   ],
   "source": [
    "myloss = Myloss()\n",
    "myloss"
   ]
  },
  {
   "cell_type": "code",
   "execution_count": 93,
   "metadata": {},
   "outputs": [
    {
     "data": {
      "text/plain": [
       "300"
      ]
     },
     "execution_count": 93,
     "metadata": {},
     "output_type": "execute_result"
    }
   ],
   "source": [
    "myloss(30)"
   ]
  },
  {
   "cell_type": "code",
   "execution_count": 94,
   "metadata": {},
   "outputs": [
    {
     "data": {
      "text/plain": [
       "200"
      ]
     },
     "execution_count": 94,
     "metadata": {},
     "output_type": "execute_result"
    }
   ],
   "source": [
    "Myloss(20)(10)"
   ]
  },
  {
   "cell_type": "code",
   "execution_count": 95,
   "metadata": {},
   "outputs": [],
   "source": [
    "def my_test(y_true,y_pred,weights=[10,5]):\n",
    "    return y_true*weights[0], y_pred * weights[1]"
   ]
  },
  {
   "cell_type": "code",
   "execution_count": 96,
   "metadata": {},
   "outputs": [
    {
     "data": {
      "text/plain": [
       "(1000, 5)"
      ]
     },
     "execution_count": 96,
     "metadata": {},
     "output_type": "execute_result"
    }
   ],
   "source": [
    "my_test(100, 1)"
   ]
  },
  {
   "cell_type": "markdown",
   "metadata": {},
   "source": [
    "# Using tensorflows dataset as generator for nrrd files"
   ]
  },
  {
   "cell_type": "code",
   "execution_count": 1,
   "metadata": {},
   "outputs": [],
   "source": [
    "import tensorflow as tf"
   ]
  },
  {
   "cell_type": "code",
   "execution_count": 2,
   "metadata": {},
   "outputs": [
    {
     "data": {
      "text/plain": [
       "array([[[5.43891638e-01, 4.14470029e-02],\n",
       "        [1.80940987e-01, 9.56020448e-01],\n",
       "        [8.22048803e-01, 3.56648937e-01],\n",
       "        [9.84203053e-01, 9.78148331e-01],\n",
       "        [9.30008817e-02, 1.74194352e-01]],\n",
       "\n",
       "       [[5.81766313e-01, 1.39213787e-01],\n",
       "        [1.53166480e-01, 9.63757711e-01],\n",
       "        [6.71772118e-01, 3.86789004e-01],\n",
       "        [4.54703819e-01, 5.87398806e-01],\n",
       "        [5.65616529e-01, 6.06364260e-01]],\n",
       "\n",
       "       [[3.47249075e-01, 4.22095577e-01],\n",
       "        [1.35463515e-01, 1.49666017e-01],\n",
       "        [7.97782972e-02, 7.66389477e-01],\n",
       "        [5.59079554e-01, 9.10026320e-01],\n",
       "        [9.08229213e-01, 2.05951865e-01]],\n",
       "\n",
       "       [[5.42335918e-01, 2.92858640e-01],\n",
       "        [2.36563908e-01, 6.41802873e-01],\n",
       "        [4.13549856e-01, 9.53322155e-01],\n",
       "        [5.64038419e-01, 1.47341779e-02],\n",
       "        [6.52086130e-01, 2.46230430e-01]],\n",
       "\n",
       "       [[1.41389808e-01, 4.59673088e-03],\n",
       "        [3.57573531e-02, 4.07245746e-01],\n",
       "        [5.80780920e-01, 5.21561736e-01],\n",
       "        [9.02399926e-01, 6.21338841e-01],\n",
       "        [4.06541232e-01, 2.92075718e-04]]])"
      ]
     },
     "execution_count": 2,
     "metadata": {},
     "output_type": "execute_result"
    }
   ],
   "source": [
    "import numpy as np\n",
    "temp = np.random.random((5,5,2))\n",
    "temp"
   ]
  },
  {
   "cell_type": "code",
   "execution_count": 4,
   "metadata": {},
   "outputs": [
    {
     "data": {
      "text/plain": [
       "(5, 5)"
      ]
     },
     "execution_count": 4,
     "metadata": {},
     "output_type": "execute_result"
    }
   ],
   "source": [
    "tf.reduce_max(temp,axis=-1).numpy().shape"
   ]
  },
  {
   "cell_type": "code",
   "execution_count": 8,
   "metadata": {
    "collapsed": true,
    "jupyter": {
     "outputs_hidden": true
    }
   },
   "outputs": [
    {
     "data": {
      "text/plain": [
       "['/mnt/data/git/cardio/data/raw/gcn_05_2020_ax_sax_86/AX/0000-0HQQW4ZN_2007-05-23_volume_clean.nrrd',\n",
       " '/mnt/data/git/cardio/data/raw/gcn_05_2020_ax_sax_86/AX/0000-0PTV75MP_2005-06-27_volume_clean.nrrd',\n",
       " '/mnt/data/git/cardio/data/raw/gcn_05_2020_ax_sax_86/AX/0000-0RPELLU8_2007-02-13_volume_clean.nrrd',\n",
       " '/mnt/data/git/cardio/data/raw/gcn_05_2020_ax_sax_86/AX/0000-11YU3CUF_2007-12-10_volume_clean.nrrd',\n",
       " '/mnt/data/git/cardio/data/raw/gcn_05_2020_ax_sax_86/AX/0000-13JLP3HN_2007-05-22_volume_clean.nrrd',\n",
       " '/mnt/data/git/cardio/data/raw/gcn_05_2020_ax_sax_86/AX/0000-1E4PF7MR_2006-07-06_volume_clean.nrrd',\n",
       " '/mnt/data/git/cardio/data/raw/gcn_05_2020_ax_sax_86/AX/0000-1E8MCV9L_2005-12-15_volume_clean.nrrd',\n",
       " '/mnt/data/git/cardio/data/raw/gcn_05_2020_ax_sax_86/AX/0000-1EMMCVKN_2006-06-29_volume_clean.nrrd',\n",
       " '/mnt/data/git/cardio/data/raw/gcn_05_2020_ax_sax_86/AX/0000-1PFT9CA1_2006-05-17_volume_clean.nrrd',\n",
       " '/mnt/data/git/cardio/data/raw/gcn_05_2020_ax_sax_86/AX/0000-1ZZF5E55_2006-10-01_volume_clean.nrrd',\n",
       " '/mnt/data/git/cardio/data/raw/gcn_05_2020_ax_sax_86/AX/0000-24YLF77L_2007-11-19_volume_clean.nrrd',\n",
       " '/mnt/data/git/cardio/data/raw/gcn_05_2020_ax_sax_86/AX/0000-2CVUG1C5_2006-09-06_volume_clean.nrrd',\n",
       " '/mnt/data/git/cardio/data/raw/gcn_05_2020_ax_sax_86/AX/0000-2CW0G1A5_2006-04-06_volume_clean.nrrd',\n",
       " '/mnt/data/git/cardio/data/raw/gcn_05_2020_ax_sax_86/AX/0000-2FUH59VD_2006-08-24_volume_clean.nrrd',\n",
       " '/mnt/data/git/cardio/data/raw/gcn_05_2020_ax_sax_86/AX/0000-2HQVK81W_2005-03-11_volume_clean.nrrd',\n",
       " '/mnt/data/git/cardio/data/raw/gcn_05_2020_ax_sax_86/AX/0000-2V8HJLHN_2005-08-30_volume_clean.nrrd',\n",
       " '/mnt/data/git/cardio/data/raw/gcn_05_2020_ax_sax_86/AX/0000-2VRMJ3ZF_2006-01-17_volume_clean.nrrd',\n",
       " '/mnt/data/git/cardio/data/raw/gcn_05_2020_ax_sax_86/AX/0000-2WHFP73X_2007-03-28_volume_clean.nrrd',\n",
       " '/mnt/data/git/cardio/data/raw/gcn_05_2020_ax_sax_86/AX/0000-2XRR719Z_2005-05-02_volume_clean.nrrd',\n",
       " '/mnt/data/git/cardio/data/raw/gcn_05_2020_ax_sax_86/AX/0000-2Y9U5LLC_2006-07-24_volume_clean.nrrd',\n",
       " '/mnt/data/git/cardio/data/raw/gcn_05_2020_ax_sax_86/AX/0000-3E8U83K5_2006-04-01_volume_clean.nrrd',\n",
       " '/mnt/data/git/cardio/data/raw/gcn_05_2020_ax_sax_86/AX/0000-3E90836W_2006-05-23_volume_clean.nrrd',\n",
       " '/mnt/data/git/cardio/data/raw/gcn_05_2020_ax_sax_86/AX/0000-3EX293QC_2006-06-19_volume_clean.nrrd',\n",
       " '/mnt/data/git/cardio/data/raw/gcn_05_2020_ax_sax_86/AX/0000-3HQQHA3N_2006-03-01_volume_clean.nrrd',\n",
       " '/mnt/data/git/cardio/data/raw/gcn_05_2020_ax_sax_86/AX/0000-3HYXWJWW_2006-11-17_volume_clean.nrrd',\n",
       " '/mnt/data/git/cardio/data/raw/gcn_05_2020_ax_sax_86/AX/0000-3U3KT9LV_2006-12-19_volume_clean.nrrd',\n",
       " '/mnt/data/git/cardio/data/raw/gcn_05_2020_ax_sax_86/AX/0000-44U3AGET_2006-08-01_volume_clean.nrrd',\n",
       " '/mnt/data/git/cardio/data/raw/gcn_05_2020_ax_sax_86/AX/0000-49RHVC6C_2005-11-22_volume_clean.nrrd',\n",
       " '/mnt/data/git/cardio/data/raw/gcn_05_2020_ax_sax_86/AX/0000-4A4PVCYL_2006-09-01_volume_clean.nrrd',\n",
       " '/mnt/data/git/cardio/data/raw/gcn_05_2020_ax_sax_86/AX/0000-4EUFPCDM_2007-01-15_volume_clean.nrrd',\n",
       " '/mnt/data/git/cardio/data/raw/gcn_05_2020_ax_sax_86/AX/0000-5RMHZGWP_2006-08-03_volume_clean.nrrd',\n",
       " '/mnt/data/git/cardio/data/raw/gcn_05_2020_ax_sax_86/AX/0000-5RRMWQX2_2005-06-10_volume_clean.nrrd',\n",
       " '/mnt/data/git/cardio/data/raw/gcn_05_2020_ax_sax_86/AX/0000-5T8DXCQ2_2006-10-01_volume_clean.nrrd',\n",
       " '/mnt/data/git/cardio/data/raw/gcn_05_2020_ax_sax_86/AX/0000-5W8RFCJD_2005-04-18_volume_clean.nrrd',\n",
       " '/mnt/data/git/cardio/data/raw/gcn_05_2020_ax_sax_86/AX/0000-6E5FAVTH_2007-03-28_volume_clean.nrrd',\n",
       " '/mnt/data/git/cardio/data/raw/gcn_05_2020_ax_sax_86/AX/0000-73FTW74F_2006-11-28_volume_clean.nrrd',\n",
       " '/mnt/data/git/cardio/data/raw/gcn_05_2020_ax_sax_86/AX/0000-76RJ3Z26_2006-11-23_volume_clean.nrrd',\n",
       " '/mnt/data/git/cardio/data/raw/gcn_05_2020_ax_sax_86/AX/0000-84R7FQH3_2007-03-16_volume_clean.nrrd',\n",
       " '/mnt/data/git/cardio/data/raw/gcn_05_2020_ax_sax_86/AX/0000-8J5NZ5G7_2008-03-27_volume_clean.nrrd',\n",
       " '/mnt/data/git/cardio/data/raw/gcn_05_2020_ax_sax_86/AX/0000-8NFJ8VMR_2006-11-10_volume_clean.nrrd',\n",
       " '/mnt/data/git/cardio/data/raw/gcn_05_2020_ax_sax_86/AX/0000-8WTUG5ML_2006-07-27_volume_clean.nrrd',\n",
       " '/mnt/data/git/cardio/data/raw/gcn_05_2020_ax_sax_86/AX/0000-9A8UTCZ4_2007-03-16_volume_clean.nrrd',\n",
       " '/mnt/data/git/cardio/data/raw/gcn_05_2020_ax_sax_86/AX/0000-9HQPRPDH_2006-01-31_volume_clean.nrrd',\n",
       " '/mnt/data/git/cardio/data/raw/gcn_05_2020_ax_sax_86/AX/0000-9MTQG5XR_2005-05-23_volume_clean.nrrd',\n",
       " '/mnt/data/git/cardio/data/raw/gcn_05_2020_ax_sax_86/AX/0000-AEUM7ZGH_2006-09-01_volume_clean.nrrd',\n",
       " '/mnt/data/git/cardio/data/raw/gcn_05_2020_ax_sax_86/AX/0000-CK8JTQLW_2005-08-08_volume_clean.nrrd',\n",
       " '/mnt/data/git/cardio/data/raw/gcn_05_2020_ax_sax_86/AX/0000-CKFQTQ9F_2006-11-10_volume_clean.nrrd',\n",
       " '/mnt/data/git/cardio/data/raw/gcn_05_2020_ax_sax_86/AX/0000-CT8YR38C_2005-10-25_volume_clean.nrrd',\n",
       " '/mnt/data/git/cardio/data/raw/gcn_05_2020_ax_sax_86/AX/0000-CUKYUVC2_2006-09-20_volume_clean.nrrd',\n",
       " '/mnt/data/git/cardio/data/raw/gcn_05_2020_ax_sax_86/AX/0000-D8RUZJ8N_2006-09-22_volume_clean.nrrd',\n",
       " '/mnt/data/git/cardio/data/raw/gcn_05_2020_ax_sax_86/AX/0000-D9HN2LZW_2007-03-23_volume_clean.nrrd',\n",
       " '/mnt/data/git/cardio/data/raw/gcn_05_2020_ax_sax_86/AX/0000-DG1U4JUW_2006-12-22_volume_clean.nrrd',\n",
       " '/mnt/data/git/cardio/data/raw/gcn_05_2020_ax_sax_86/AX/0000-DHQPDW6M_2007-02-16_volume_clean.nrrd',\n",
       " '/mnt/data/git/cardio/data/raw/gcn_05_2020_ax_sax_86/AX/0000-DLTVKE94_2006-07-18_volume_clean.nrrd',\n",
       " '/mnt/data/git/cardio/data/raw/gcn_05_2020_ax_sax_86/AX/0000-E0RJZQQM_2005-09-30_volume_clean.nrrd',\n",
       " '/mnt/data/git/cardio/data/raw/gcn_05_2020_ax_sax_86/AX/0000-E18NUCU2_2005-05-19_volume_clean.nrrd',\n",
       " '/mnt/data/git/cardio/data/raw/gcn_05_2020_ax_sax_86/AX/0000-E24LRCWD_2006-11-23_volume_clean.nrrd',\n",
       " '/mnt/data/git/cardio/data/raw/gcn_05_2020_ax_sax_86/AX/0000-E4YTNGAZ_2006-11-07_volume_clean.nrrd',\n",
       " '/mnt/data/git/cardio/data/raw/gcn_05_2020_ax_sax_86/AX/0000-E8030CFZ_2007-01-03_volume_clean.nrrd',\n",
       " '/mnt/data/git/cardio/data/raw/gcn_05_2020_ax_sax_86/AX/0000-ER5Q2EXD_2007-02-22_volume_clean.nrrd',\n",
       " '/mnt/data/git/cardio/data/raw/gcn_05_2020_ax_sax_86/AX/0000-F0QP6ZJR_2006-01-01_volume_clean.nrrd',\n",
       " '/mnt/data/git/cardio/data/raw/gcn_05_2020_ax_sax_86/AX/0000-FANDNZ55_2007-02-19_volume_clean.nrrd',\n",
       " '/mnt/data/git/cardio/data/raw/gcn_05_2020_ax_sax_86/AX/0000-FHQU30DQ_2005-05-10_volume_clean.nrrd',\n",
       " '/mnt/data/git/cardio/data/raw/gcn_05_2020_ax_sax_86/AX/0000-FUKDVLPD_2007-01-22_volume_clean.nrrd',\n",
       " '/mnt/data/git/cardio/data/raw/gcn_05_2020_ax_sax_86/AX/0000-G8XJ03CH_2007-10-31_volume_clean.nrrd',\n",
       " '/mnt/data/git/cardio/data/raw/gcn_05_2020_ax_sax_86/AX/0000-GLGJL3TK_2006-11-17_volume_clean.nrrd',\n",
       " '/mnt/data/git/cardio/data/raw/gcn_05_2020_ax_sax_86/AX/0000-GYMP57R6_2006-12-18_volume_clean.nrrd',\n",
       " '/mnt/data/git/cardio/data/raw/gcn_05_2020_ax_sax_86/AX/0000-GYRF6ZAA_2004-08-01_volume_clean.nrrd',\n",
       " '/mnt/data/git/cardio/data/raw/gcn_05_2020_ax_sax_86/AX/0000-GZ4M6Z9G_2006-12-07_volume_clean.nrrd',\n",
       " '/mnt/data/git/cardio/data/raw/gcn_05_2020_ax_sax_86/AX/0000-HNE7CVMU_2006-10-27_volume_clean.nrrd',\n",
       " '/mnt/data/git/cardio/data/raw/gcn_05_2020_ax_sax_86/AX/0000-JDRPF7F4_2006-02-28_volume_clean.nrrd',\n",
       " '/mnt/data/git/cardio/data/raw/gcn_05_2020_ax_sax_86/AX/0000-JERK6VC0_2006-01-19_volume_clean.nrrd',\n",
       " '/mnt/data/git/cardio/data/raw/gcn_05_2020_ax_sax_86/AX/0000-JP6XAZWH_2007-03-02_volume_clean.nrrd',\n",
       " '/mnt/data/git/cardio/data/raw/gcn_05_2020_ax_sax_86/AX/0000-K4HCL72E_2007-03-27_volume_clean.nrrd',\n",
       " '/mnt/data/git/cardio/data/raw/gcn_05_2020_ax_sax_86/AX/0000-K5T17122_2005-08-25_volume_clean.nrrd',\n",
       " '/mnt/data/git/cardio/data/raw/gcn_05_2020_ax_sax_86/AX/0000-K61NJJ2D_2007-05-29_volume_clean.nrrd',\n",
       " '/mnt/data/git/cardio/data/raw/gcn_05_2020_ax_sax_86/AX/0000-KHQNN842_2006-01-01_volume_clean.nrrd',\n",
       " '/mnt/data/git/cardio/data/raw/gcn_05_2020_ax_sax_86/AX/0000-KK9VRLND_2006-07-10_volume_clean.nrrd',\n",
       " '/mnt/data/git/cardio/data/raw/gcn_05_2020_ax_sax_86/AX/0000-LA9KRLWV_2005-05-13_volume_clean.nrrd',\n",
       " '/mnt/data/git/cardio/data/raw/gcn_05_2020_ax_sax_86/AX/0000-LLLNJLF6_2006-09-27_volume_clean.nrrd',\n",
       " '/mnt/data/git/cardio/data/raw/gcn_05_2020_ax_sax_86/AX/0000-LV70LENY_2007-03-12_volume_clean.nrrd',\n",
       " '/mnt/data/git/cardio/data/raw/gcn_05_2020_ax_sax_86/AX/0000-MA4HVCMK_2006-06-22_volume_clean.nrrd',\n",
       " '/mnt/data/git/cardio/data/raw/gcn_05_2020_ax_sax_86/AX/0000-NWFRFC1Z_2006-11-16_volume_clean.nrrd',\n",
       " '/mnt/data/git/cardio/data/raw/gcn_05_2020_ax_sax_86/AX/0000-RA1PTVNQ_1900-01-01_volume_clean.nrrd',\n",
       " '/mnt/data/git/cardio/data/raw/gcn_05_2020_ax_sax_86/AX/0000-TET48V2Z_2008-01-10_volume_clean.nrrd',\n",
       " '/mnt/data/git/cardio/data/raw/gcn_05_2020_ax_sax_86/AX/0000-Z0QR21CJ_2005-11-02_volume_clean.nrrd']"
      ]
     },
     "execution_count": 8,
     "metadata": {},
     "output_type": "execute_result"
    }
   ],
   "source": [
    "sorted(glob.glob('/mnt/data/git/cardio/data/raw/gcn_05_2020_ax_sax_86/AX/*clean.nrrd'))"
   ]
  },
  {
   "cell_type": "code",
   "execution_count": 1,
   "metadata": {},
   "outputs": [
    {
     "data": {
      "text/plain": [
       "(TensorSpec(shape=(), dtype=tf.string, name=None),\n",
       " TensorSpec(shape=(), dtype=tf.string, name=None))"
      ]
     },
     "execution_count": 1,
     "metadata": {},
     "output_type": "execute_result"
    }
   ],
   "source": [
    "import tensorflow as tf\n",
    "import SimpleITK as sitk\n",
    "import glob\n",
    "dataset_x = tf.data.Dataset.list_files('/mnt/data/git/cardio/data/raw/gcn_05_2020_ax_sax_86/AX/*clean.nrrd')\n",
    "dataset_y = tf.data.Dataset.list_files('/mnt/data/git/cardio/data/raw/gcn_05_2020_ax_sax_86/AX/*mask.nrrd')\n",
    "\n",
    "dataset = tf.data.Dataset.zip((dataset_x, dataset_y))\n",
    "dataset.batch(2)\n",
    "dataset.element_spec"
   ]
  },
  {
   "cell_type": "code",
   "execution_count": 5,
   "metadata": {},
   "outputs": [
    {
     "data": {
      "text/plain": [
       "TensorSpec(shape=(), dtype=tf.string, name=None)"
      ]
     },
     "execution_count": 5,
     "metadata": {},
     "output_type": "execute_result"
    }
   ],
   "source": [
    "dataset = tf.data.TextLineDataset(sorted(glob.glob('/mnt/data/git/cardio/data/raw/gcn_05_2020_ax_sax_86/AX/*clean.nrrd')))\n",
    "dataset.element_spec"
   ]
  },
  {
   "cell_type": "code",
   "execution_count": 6,
   "metadata": {},
   "outputs": [],
   "source": [
    "def load_img(x):\n",
    "    \n",
    "    x = tf.cast(sitk.GetArrayFromImage(sitk.ReadImage(x)),tf.float32)\n",
    "    return x"
   ]
  },
  {
   "cell_type": "code",
   "execution_count": 3,
   "metadata": {},
   "outputs": [],
   "source": [
    "def load_img(x,y):\n",
    "    \n",
    "    x = x.numpy().decode('utf-8')\n",
    "    y = y.numpy().decode('utf-8')\n",
    "    \n",
    "    x = tf.cast(sitk.GetArrayFromImage(sitk.ReadImage(x)),tf.float32)\n",
    "    y = tf.cast(sitk.GetArrayFromImage(sitk.ReadImage(y)),tf.float32)\n",
    "    return [x,y]"
   ]
  },
  {
   "cell_type": "code",
   "execution_count": null,
   "metadata": {},
   "outputs": [],
   "source": [
    "dataset = dataset.map(load_img)\n",
    "\n",
    "#dataset = dataset.map(lambda x, y: tf.py_function(load_img,[x,y], tf.float32))\n",
    "#dataset = dataset.map(as_numpy)\n",
    "\n",
    "#dataset_small = dataset.range(5)"
   ]
  },
  {
   "cell_type": "code",
   "execution_count": 9,
   "metadata": {},
   "outputs": [
    {
     "name": "stdout",
     "output_type": "stream",
     "text": [
      "tf.Tensor(b'NRRD0004', shape=(), dtype=string)\n",
      "tf.Tensor(b'# Complete NRRD file format specification at:', shape=(), dtype=string)\n",
      "tf.Tensor(b'# http://teem.sourceforge.net/nrrd/format.html', shape=(), dtype=string)\n",
      "tf.Tensor(b'type: float', shape=(), dtype=string)\n",
      "tf.Tensor(b'dimension: 4', shape=(), dtype=string)\n"
     ]
    }
   ],
   "source": [
    "for x in dataset.take(5):\n",
    "    print(x)\n",
    "\n",
    "    #x,y = load_img(x,y)\n",
    "    #print(x.shape)"
   ]
  },
  {
   "cell_type": "code",
   "execution_count": null,
   "metadata": {},
   "outputs": [],
   "source": [
    "\n"
   ]
  },
  {
   "cell_type": "code",
   "execution_count": null,
   "metadata": {},
   "outputs": [],
   "source": []
  }
 ],
 "metadata": {
  "kernelspec": {
   "display_name": "Python 3",
   "language": "python",
   "name": "python3"
  },
  "language_info": {
   "codemirror_mode": {
    "name": "ipython",
    "version": 3
   },
   "file_extension": ".py",
   "mimetype": "text/x-python",
   "name": "python",
   "nbconvert_exporter": "python",
   "pygments_lexer": "ipython3",
   "version": "3.6.9"
  },
  "widgets": {
   "application/vnd.jupyter.widget-state+json": {
    "state": {},
    "version_major": 2,
    "version_minor": 0
   }
  }
 },
 "nbformat": 4,
 "nbformat_minor": 4
}
