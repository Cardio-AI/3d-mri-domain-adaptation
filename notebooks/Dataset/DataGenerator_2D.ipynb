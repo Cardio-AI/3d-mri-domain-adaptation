{
 "cells": [
  {
   "cell_type": "code",
   "execution_count": 1,
   "metadata": {},
   "outputs": [
    {
     "data": {
      "text/html": [
       "<style>.container { width:90% !important; }</style>"
      ],
      "text/plain": [
       "<IPython.core.display.HTML object>"
      ]
     },
     "metadata": {},
     "output_type": "display_data"
    },
    {
     "name": "stderr",
     "output_type": "stream",
     "text": [
      "2019-08-29 15:05:43,906 INFO -------------------- Start --------------------\n",
      "2019-08-29 15:05:43,906 INFO Working directory: E:\\sven\\git\\cardio.\n",
      "2019-08-29 15:05:43,906 INFO Log file: ./logs/2D_DataGenerator_tests.log\n"
     ]
    },
    {
     "name": "stdout",
     "output_type": "stream",
     "text": [
      "E:\\sven\\git\\cardio\\notebooks\\dataset\n",
      "E:\\sven\\git\\cardio\n"
     ]
    },
    {
     "data": {
      "text/plain": [
       "<src.utils.utils_io.Console_and_file_logger at 0x11e76320>"
      ]
     },
     "execution_count": 1,
     "metadata": {},
     "output_type": "execute_result"
    }
   ],
   "source": [
    "# define logging and working directory\n",
    "import os\n",
    "import logging\n",
    "import platform\n",
    "import SimpleITK as sitk\n",
    "import glob\n",
    "import random\n",
    "from collections import Counter\n",
    "import matplotlib.pyplot as plt\n",
    "import keras\n",
    "from skimage.transform import resize\n",
    "from keras.utils import to_categorical\n",
    "from keras.preprocessing.image import ImageDataGenerator\n",
    "from time import time\n",
    "\n",
    "%matplotlib inline\n",
    "%reload_ext autoreload\n",
    "%autoreload 2\n",
    "\n",
    "import pandas as pd\n",
    "import numpy as np\n",
    "\n",
    "from ipywidgets import interact\n",
    "from IPython.core.display import display, HTML\n",
    "display(HTML(\"<style>.container { width:90% !important; }</style>\"))\n",
    "\n",
    "# setup working directory\n",
    "print(os.getcwd())\n",
    "# change working directory to project root - neccessary for jupyter notebooks\n",
    "if platform.system() is \"Windows\":\n",
    "    os.chdir('E:\\\\sven\\\\git\\\\cardio')\n",
    "else:\n",
    "    os.chdir('/Users/minority/Code/Git/cardio')\n",
    "print(os.getcwd())\n",
    "\n",
    "\n",
    "from src.utils.utils_io import Console_and_file_logger, ensure_dir\n",
    "from src.utils.myshow import myshow, myshow3d\n",
    "from src.visualization.visualize import plot_3d_vol, plot_4d_vol, show_slice, show_slice_transparent, show_2D_or_3D\n",
    "from src.data.dataset import get_metadata_maybe, filter_4d_vol, describe_sitk\n",
    "Console_and_file_logger('2D_DataGenerator_tests', logging.INFO)\n",
    "\n",
    "\n"
   ]
  },
  {
   "cell_type": "code",
   "execution_count": 2,
   "metadata": {},
   "outputs": [],
   "source": [
    "# helpers\n",
    "def get_img_msk_files_from_split_dir(path):\n",
    "    images = sorted(glob.glob(os.path.join(path, '*img.nrrd')))\n",
    "    masks = sorted(glob.glob(os.path.join(path, '*msk.nrrd')))\n",
    "    return images, masks\n",
    "\n",
    "def get_patient_name_from_file(file_):\n",
    "    return os.path.basename(file_).split('.')[0].split('_')[0]"
   ]
  },
  {
   "cell_type": "markdown",
   "metadata": {},
   "source": [
    "# Get all 2D image and mask files"
   ]
  },
  {
   "cell_type": "code",
   "execution_count": 3,
   "metadata": {},
   "outputs": [
    {
     "name": "stdout",
     "output_type": "stream",
     "text": [
      "10342\n"
     ]
    }
   ],
   "source": [
    "import_path = 'data/raw/tetra/2D/train/'\n",
    "images, masks = get_img_msk_files_from_split_dir(import_path)\n",
    "assert(len(images) == len(masks))\n",
    "print(len(images))"
   ]
  },
  {
   "cell_type": "markdown",
   "metadata": {},
   "source": [
    "# Visualize any mask"
   ]
  },
  {
   "cell_type": "code",
   "execution_count": 4,
   "metadata": {},
   "outputs": [
    {
     "data": {
      "application/vnd.jupyter.widget-view+json": {
       "model_id": "674bc49142ab450db876fdd843313448",
       "version_major": 2,
       "version_minor": 0
      },
      "text/plain": [
       "interactive(children=(Dropdown(description='path', options=('data/raw/tetra/2D/train\\\\0003-04NEJQUZ-2007-03-13…"
      ]
     },
     "metadata": {},
     "output_type": "display_data"
    }
   ],
   "source": [
    "@interact\n",
    "def plot_masks(path=masks):\n",
    "    \n",
    "    logging.info(path)\n",
    "    sitk_img = sitk.ReadImage(path, sitk.sitkFloat32)\n",
    "    describe_sitk(sitk_img)\n",
    "    mask_nda = sitk.GetArrayFromImage(sitk_img)\n",
    "    print(mask_nda.shape)\n",
    "    show_slice(mask=mask_nda)"
   ]
  },
  {
   "cell_type": "markdown",
   "metadata": {},
   "source": [
    "# Select path"
   ]
  },
  {
   "cell_type": "code",
   "execution_count": 5,
   "metadata": {},
   "outputs": [
    {
     "data": {
      "application/vnd.jupyter.widget-view+json": {
       "model_id": "06c80585c1174d09a236ef0cf4515a5b",
       "version_major": 2,
       "version_minor": 0
      },
      "text/plain": [
       "interactive(children=(Text(value='data/raw/tetra/2D/train/', description='import_p'), Checkbox(value=False, de…"
      ]
     },
     "metadata": {},
     "output_type": "display_data"
    }
   ],
   "source": [
    "import_path = \"\"\n",
    "images = \"\"\n",
    "masks = \"\"\n",
    "@interact\n",
    "def select_path(import_p = 'data/raw/tetra/2D/train/', done=False):\n",
    "    if done:\n",
    "        global import_path, images, masks\n",
    "        import_path = import_p\n",
    "        images, masks = get_img_msk_files_from_split_dir(import_p)\n",
    "        assert(len(images) == len(masks))\n",
    "        logging.info('Files found: {}'.format(len(images)))"
   ]
  },
  {
   "cell_type": "markdown",
   "metadata": {},
   "source": [
    "# Select patient"
   ]
  },
  {
   "cell_type": "code",
   "execution_count": 7,
   "metadata": {},
   "outputs": [
    {
     "data": {
      "application/vnd.jupyter.widget-view+json": {
       "model_id": "966a3230ead24880ad4284b32356c20d",
       "version_major": 2,
       "version_minor": 0
      },
      "text/plain": [
       "interactive(children=(Dropdown(description='p', options=('0275-D8RUZJ8N-2006-09-22', '0144-76RJ3Z26-2006-11-23…"
      ]
     },
     "metadata": {},
     "output_type": "display_data"
    }
   ],
   "source": [
    "patient = \"\"\n",
    "p_masks = \"\"\n",
    "p_images = \"\"\n",
    "@interact\n",
    "def select_patient(p=list(set([get_patient_name_from_file(file) for file in images]))):\n",
    "    global patient, p_masks, p_images\n",
    "    patient = p\n",
    "    # filter images by patient\n",
    "    p_masks = [s for s in masks if p in s]\n",
    "    p_images = [s for s in images if p in s]\n",
    "    logging.info('Patient: {} with {} masks'.format(patient, len(p_masks)))\n"
   ]
  },
  {
   "cell_type": "markdown",
   "metadata": {},
   "source": [
    "# Select 2D mask and visualize"
   ]
  },
  {
   "cell_type": "code",
   "execution_count": 6,
   "metadata": {},
   "outputs": [
    {
     "data": {
      "application/vnd.jupyter.widget-view+json": {
       "model_id": "1ff6a1cf04dd4fbb92efa2df63733272",
       "version_major": 2,
       "version_minor": 0
      },
      "text/plain": [
       "interactive(children=(Dropdown(description='slice_', options=('data/raw/tetra/2D/train\\\\0207-A54LC7D6-2008-01-…"
      ]
     },
     "metadata": {},
     "output_type": "display_data"
    }
   ],
   "source": [
    "@interact\n",
    "def plot_masks(slice_=p_masks):\n",
    "    \n",
    "    logging.info(slice_)\n",
    "    sitk_msk = sitk.ReadImage(slice_, sitk.sitkInt16)\n",
    "    describe_sitk(sitk_msk)\n",
    "    nda_msk = sitk.GetArrayFromImage(sitk_msk)\n",
    "    plt.imshow(nda_msk)\n",
    "    plt.show()\n",
    "    # get image for mask\n",
    "    image_f = slice_.replace('msk', 'img')\n",
    "    sitk_img = sitk.ReadImage(image_f, sitk.sitkInt16)\n",
    "    describe_sitk(sitk_img)\n",
    "    nda_img = sitk.GetArrayFromImage(sitk_img)\n",
    "    plt.imshow(nda_img)\n",
    "    plt.show()\n",
    "    show_slice_transparent(img=nda_img, mask=nda_msk)"
   ]
  },
  {
   "cell_type": "markdown",
   "metadata": {},
   "source": [
    "# Create a Datagenerator and visualize one batch"
   ]
  },
  {
   "cell_type": "code",
   "execution_count": 8,
   "metadata": {},
   "outputs": [
    {
     "data": {
      "text/plain": [
       "{'DIM': [12, 224, 224],\n",
       " 'SPACING': [8, 1, 1],\n",
       " 'IMG_CHANNELS': 1,\n",
       " 'MASK_VALUES': [0, 1, 2, 3],\n",
       " 'MASK_CLASSES': 4,\n",
       " 'AUGMENT': False,\n",
       " 'AUGMENT_GRID': True,\n",
       " 'RESAMPLE': False,\n",
       " 'SHUFFLE': False,\n",
       " 'SPACING_X': 1.0,\n",
       " 'SPACING_Y': 1.0,\n",
       " 'SEED': 42,\n",
       " 'BATCHSIZE': 1,\n",
       " 'SCALER': 'MinMax',\n",
       " 'AUGMENT_IMAGE_PARAMS': {'width_shift_range': 0.1,\n",
       "  'height_shift_range': 0.1,\n",
       "  'zoom_range': 0.1},\n",
       " 'AUGMENT_MASK_PARAMS': {'width_shift_range': 0.1,\n",
       "  'height_shift_range': 0.1,\n",
       "  'zoom_range': 0.1,\n",
       "  'fill_mode': 'nearest'}}"
      ]
     },
     "execution_count": 8,
     "metadata": {},
     "output_type": "execute_result"
    }
   ],
   "source": [
    "# create a config\n",
    "\n",
    "# image params\n",
    "DIM = [12,224, 224]\n",
    "SPACING = [8,1, 1]\n",
    "# Greyscale images\n",
    "IMG_CHANNELS = 1\n",
    "# RV = 1 = Y[...,0] \n",
    "# Myo = 2 = Y[...,1] \n",
    "# LV = 3 = Y[...,2]\n",
    "MASK_VALUES = [0, 1, 2, 3]  \n",
    "MASK_CLASSES = len(MASK_VALUES)\n",
    "AUGMENT = False\n",
    "AUGMENT_GRID = True\n",
    "RESAMPLE = False\n",
    "SHUFFLE = False\n",
    "SPACING_X = 1.00\n",
    "SPACING_Y = 1.00\n",
    "SEED = 42\n",
    "BATCHSIZE =  1 # 64, 16, 1\n",
    "SCALER = 'MinMax'\n",
    "\n",
    "AUGMENT_IMAGE_PARAMS = dict(  # samplewise_center=True,\n",
    "                # samplewise_std_normalization=True,\n",
    "                #horizontal_flip=True,\n",
    "                #vertical_flip=True,\n",
    "                #rotation_range=30,\n",
    "                width_shift_range=0.1,\n",
    "                height_shift_range=0.1,\n",
    "                zoom_range=0.1,\n",
    "                # fill_mode='nearest'\n",
    "            )\n",
    "AUGMENT_MASK_PARAMS = dict(  # samplewise_center=True,\n",
    "                # samplewise_std_normalization=True,\n",
    "                #horizontal_flip=True,\n",
    "                #vertical_flip=True,\n",
    "                #rotation_range=30,\n",
    "                width_shift_range=0.1,\n",
    "                height_shift_range=0.1,\n",
    "                zoom_range=0.1,\n",
    "                fill_mode='nearest',\n",
    "                # dtype=np.bool\n",
    "            )\n",
    "config = dict(((key, value) for key, value in locals().items()\n",
    "               if key.isupper() and key not in ['HTML', 'K']))\n",
    "config"
   ]
  },
  {
   "cell_type": "code",
   "execution_count": 18,
   "metadata": {},
   "outputs": [
    {
     "data": {
      "text/plain": [
       "130"
      ]
     },
     "execution_count": 18,
     "metadata": {},
     "output_type": "execute_result"
    }
   ],
   "source": [
    "from src.data.generators import DataGenerator2D\n",
    "from src.data.dataset import get_img_msk_files_from_split_dir\n",
    "images_f, masks_f = get_img_msk_files_from_split_dir('data/raw/tetra/3D/val/')\n",
    "len(images_f)"
   ]
  },
  {
   "cell_type": "code",
   "execution_count": 19,
   "metadata": {},
   "outputs": [
    {
     "data": {
      "application/vnd.jupyter.widget-view+json": {
       "model_id": "9ddaab95bbf24c2f9debae6f6b793429",
       "version_major": 2,
       "version_minor": 0
      },
      "text/plain": [
       "interactive(children=(IntSlider(value=64, description='selected_batch', max=129), IntSlider(value=0, descripti…"
      ]
     },
     "metadata": {},
     "output_type": "display_data"
    }
   ],
   "source": [
    "# create one Datagenerator and visualize one batch\n",
    "@interact\n",
    "def interact_show_with_generator(selected_batch=(0, int(len(images_f)/config['BATCHSIZE'])-1), selected_img=(0, config['BATCHSIZE']-1)):\n",
    "    #selected_img = 70\n",
    "\n",
    "    logging.getLogger().setLevel(logging.DEBUG)\n",
    "    mpl_logger = logging.getLogger('matplotlib') \n",
    "    mpl_logger.setLevel(logging.WARNING) \n",
    "\n",
    "    batch_generator = DataGenerator2D(images_f, masks_f, config)\n",
    "    t0 = time()\n",
    "    x, y = batch_generator.__getitem__(selected_batch)\n",
    "    logging.info('loading batch: {}, took {:0.3f} sec'.format(selected_batch, time()- t0))\n",
    "    logging.info('X shape: {}'.format(x.shape))\n",
    "    logging.info('Y shape: {}'.format(y.shape))\n",
    "    # plot x and y\n",
    "    # errors with 3d data, caused by channels\n",
    "    #ax = show_2D_or_3D(x[selected_img], y[selected_img])\n",
    "\n",
    "    #show_slice(x[0], y[0])"
   ]
  },
  {
   "cell_type": "code",
   "execution_count": 9,
   "metadata": {},
   "outputs": [],
   "source": [
    "img = sitk.ReadImage(images_f[0], sitk.sitkFloat32)"
   ]
  },
  {
   "cell_type": "code",
   "execution_count": 52,
   "metadata": {},
   "outputs": [
    {
     "data": {
      "text/plain": [
       "'32-bit float'"
      ]
     },
     "execution_count": 52,
     "metadata": {},
     "output_type": "execute_result"
    }
   ],
   "source": [
    "img.GetPixelIDTypeAsString()"
   ]
  },
  {
   "cell_type": "code",
   "execution_count": 53,
   "metadata": {},
   "outputs": [
    {
     "data": {
      "text/plain": [
       "<matplotlib.image.AxesImage at 0x1956d940>"
      ]
     },
     "execution_count": 53,
     "metadata": {},
     "output_type": "execute_result"
    },
    {
     "data": {
      "image/png": "[encoded data removed]",
      "text/plain": [
       "<Figure size 432x288 with 1 Axes>"
      ]
     },
     "metadata": {
      "needs_background": "light"
     },
     "output_type": "display_data"
    }
   ],
   "source": [
    "plt.imshow(sitk.GetArrayFromImage(img))"
   ]
  },
  {
   "cell_type": "markdown",
   "metadata": {},
   "source": [
    "# Test the ACDC data slit"
   ]
  },
  {
   "cell_type": "code",
   "execution_count": 5,
   "metadata": {},
   "outputs": [],
   "source": [
    "fold = 0\n",
    "\n",
    "\n",
    "df_folds = pd.read_csv('reports/kfolds_data/2D/unet_acdc_spacing1_batch32_drop04_batchnorm_minmax_kfold/df_kfold_acdc.csv')\n",
    "\n",
    "# select the corresponding fold of data\n",
    "df_fold = df_folds[df_folds['fold'] == fold]\n",
    "\n",
    "#path_as_string = config.get('EXPERIMENT', 'temp') + dataset + '_' + area + '_' + str(fold) + '_{}'.format(modality)\n",
    "#path_as_string_test = config.get('EXPERIMENT', 'temp') + dataset + '_' + area + '_' + str(fold) + '_test'\n",
    "\n",
    "# load filenames\n",
    "\n",
    "# get the current folded train/validation data\n",
    "df_fold = df_folds[df_folds['fold'] == fold]\n",
    "X_train = sorted(df_fold[df_fold['modality'] == 'train']['x_path'])\n",
    "Y_train = sorted(df_fold[df_fold['modality'] == 'train']['y_path'])\n",
    "X_test = sorted(df_fold[df_fold['modality'] == 'test']['x_path'])\n",
    "Y_test = sorted(df_fold[df_fold['modality'] == 'test']['y_path'])\n",
    "\n",
    "X_test = X_train + X_test\n",
    "Y_test = Y_train + Y_test"
   ]
  },
  {
   "cell_type": "code",
   "execution_count": 6,
   "metadata": {},
   "outputs": [
    {
     "data": {
      "application/vnd.jupyter.widget-view+json": {
       "model_id": "",
       "version_major": 2,
       "version_minor": 0
      },
      "text/plain": [
       "interactive(children=(IntSlider(value=941, description='selected_batch', max=1883), IntSlider(value=0, descrip…"
      ]
     },
     "metadata": {},
     "output_type": "display_data"
    }
   ],
   "source": [
    "# create one Datagenerator and visualize one batch\n",
    "@interact\n",
    "def interact_show_with_generator(selected_batch=(0, int(len(X_test)/config['BATCHSIZE'])-1), selected_img=(0, config['BATCHSIZE']-1)):\n",
    "    #selected_img = 70\n",
    "\n",
    "    logging.getLogger().setLevel(logging.INFO)\n",
    "    mpl_logger = logging.getLogger('matplotlib') \n",
    "    mpl_logger.setLevel(logging.WARNING) \n",
    "\n",
    "    batch_generator = DataGenerator2D(X_test, Y_test, config)\n",
    "    t0 = time()\n",
    "    x, y = batch_generator.__getitem__(selected_batch)\n",
    "    logging.info('loading batch: {}, took {:0.3f} sec'.format(selected_batch, time()- t0))\n",
    "    logging.info('X shape: {}'.format(x.shape))\n",
    "    logging.info('Y shape: {}'.format(y.shape))\n",
    "    # plot x and y\n",
    "    ax = show_slice_transparent(x[selected_img], y[selected_img])"
   ]
  },
  {
   "cell_type": "code",
   "execution_count": 54,
   "metadata": {},
   "outputs": [],
   "source": [
    "img = sitk.ReadImage(X_test[0], sitk)"
   ]
  },
  {
   "cell_type": "code",
   "execution_count": 55,
   "metadata": {},
   "outputs": [
    {
     "data": {
      "text/plain": [
       "'16-bit signed integer'"
      ]
     },
     "execution_count": 55,
     "metadata": {},
     "output_type": "execute_result"
    }
   ],
   "source": [
    "img.GetPixelIDTypeAsString()"
   ]
  },
  {
   "cell_type": "markdown",
   "metadata": {},
   "source": [
    "# compare reading speed nii.gz vs nrrd files"
   ]
  },
  {
   "cell_type": "code",
   "execution_count": 38,
   "metadata": {},
   "outputs": [
    {
     "name": "stdout",
     "output_type": "stream",
     "text": [
      "4.19 ms ± 518 µs per loop (mean ± std. dev. of 7 runs, 100 loops each)\n"
     ]
    }
   ],
   "source": [
    "%%timeit\n",
    "img = sitk.ReadImage('data/raw/ACDC/original/all/patient001/patient001_frame01_gt.nii.gz')"
   ]
  },
  {
   "cell_type": "code",
   "execution_count": 35,
   "metadata": {},
   "outputs": [],
   "source": [
    "img = sitk.ReadImage('data/raw/ACDC/original/all/patient001/patient001_frame01_gt.nii.gz')\n",
    "sitk.WriteImage(img, 'data/raw/ACDC/original/all/patient001/patient001_frame01_gt.nrrd')"
   ]
  },
  {
   "cell_type": "code",
   "execution_count": 39,
   "metadata": {},
   "outputs": [
    {
     "name": "stdout",
     "output_type": "stream",
     "text": [
      "2.04 ms ± 393 µs per loop (mean ± std. dev. of 7 runs, 100 loops each)\n"
     ]
    }
   ],
   "source": [
    "%%timeit\n",
    "img = sitk.ReadImage('data/raw/ACDC/original/all/patient001/patient001_frame01_gt.nrrd')"
   ]
  },
  {
   "cell_type": "code",
   "execution_count": 40,
   "metadata": {},
   "outputs": [
    {
     "name": "stdout",
     "output_type": "stream",
     "text": [
      "7.39 ms ± 453 µs per loop (mean ± std. dev. of 7 runs, 100 loops each)\n"
     ]
    }
   ],
   "source": [
    "%%timeit\n",
    "img = sitk.ReadImage('data/raw/tetra/2D/val/0055-2V8HJLHN-2005-08-30__t0_z8_img.nrrd')\n",
    "nda = sitk.GetArrayFromImage(img)\n",
    "ninenine_q = np.quantile(nda.flatten(), .999, overwrite_input=False)\n",
    "nda = np.clip(nda, 0, ninenine_q)\n",
    "ninenine_q"
   ]
  },
  {
   "cell_type": "code",
   "execution_count": 42,
   "metadata": {},
   "outputs": [
    {
     "name": "stdout",
     "output_type": "stream",
     "text": [
      "4.48 ms ± 489 µs per loop (mean ± std. dev. of 7 runs, 100 loops each)\n"
     ]
    }
   ],
   "source": [
    "%%timeit\n",
    "img = sitk.ReadImage('data/raw/tetra/2D/val/0055-2V8HJLHN-2005-08-30__t0_z8_img.nrrd')\n",
    "nda = sitk.GetArrayFromImage(img)\n",
    "nda = np.clip(nda, 0, 2000)\n"
   ]
  },
  {
   "cell_type": "code",
   "execution_count": 45,
   "metadata": {},
   "outputs": [],
   "source": [
    "from sklearn.preprocessing import MinMaxScaler\n",
    "from sklearn.preprocessing import RobustScaler\n",
    "from sklearn.preprocessing import StandardScaler"
   ]
  },
  {
   "cell_type": "markdown",
   "metadata": {},
   "source": [
    "# Test speed of different scalings"
   ]
  },
  {
   "cell_type": "code",
   "execution_count": 47,
   "metadata": {},
   "outputs": [
    {
     "name": "stdout",
     "output_type": "stream",
     "text": [
      "7.72 ms ± 515 µs per loop (mean ± std. dev. of 7 runs, 100 loops each)\n"
     ]
    }
   ],
   "source": [
    "%%timeit\n",
    "img_nda = sitk.GetArrayFromImage(sitk.ReadImage('data/raw/tetra/2D/val/0055-2V8HJLHN-2005-08-30__t0_z8_img.nrrd'))\n",
    "StandardScaler(copy=True, with_mean=True, with_std=True).fit_transform(img_nda)"
   ]
  },
  {
   "cell_type": "code",
   "execution_count": 48,
   "metadata": {},
   "outputs": [
    {
     "name": "stdout",
     "output_type": "stream",
     "text": [
      "76.4 ms ± 7.42 ms per loop (mean ± std. dev. of 7 runs, 10 loops each)\n"
     ]
    }
   ],
   "source": [
    "%%timeit\n",
    "img_nda = sitk.GetArrayFromImage(sitk.ReadImage('data/raw/tetra/2D/val/0055-2V8HJLHN-2005-08-30__t0_z8_img.nrrd'))\n",
    "RobustScaler(copy=True, quantile_range=(25.0, 75.0), with_centering=True,with_scaling=True).fit_transform(img_nda)"
   ]
  },
  {
   "cell_type": "code",
   "execution_count": 49,
   "metadata": {},
   "outputs": [
    {
     "name": "stdout",
     "output_type": "stream",
     "text": [
      "5.46 ms ± 521 µs per loop (mean ± std. dev. of 7 runs, 100 loops each)\n"
     ]
    }
   ],
   "source": [
    "%%timeit\n",
    "img_nda = sitk.GetArrayFromImage(sitk.ReadImage('data/raw/tetra/2D/val/0055-2V8HJLHN-2005-08-30__t0_z8_img.nrrd'))\n",
    "(img_nda -img_nda.min() ) / (img_nda.max() - img_nda.min())"
   ]
  },
  {
   "cell_type": "code",
   "execution_count": 51,
   "metadata": {},
   "outputs": [
    {
     "name": "stdout",
     "output_type": "stream",
     "text": [
      "6.47 ms ± 652 µs per loop (mean ± std. dev. of 7 runs, 100 loops each)\n"
     ]
    }
   ],
   "source": [
    "%%timeit\n",
    "img_nda = sitk.GetArrayFromImage(sitk.ReadImage('data/raw/tetra/2D/val/0055-2V8HJLHN-2005-08-30__t0_z8_img.nrrd'))\n",
    "MinMaxScaler(copy=True).fit_transform(img_nda)"
   ]
  },
  {
   "cell_type": "code",
   "execution_count": null,
   "metadata": {},
   "outputs": [],
   "source": []
  },
  {
   "cell_type": "code",
   "execution_count": 24,
   "metadata": {},
   "outputs": [
    {
     "name": "stdout",
     "output_type": "stream",
     "text": [
      "1.82 ms ± 117 µs per loop (mean ± std. dev. of 7 runs, 1000 loops each)\n"
     ]
    }
   ],
   "source": [
    "# test binary mask creation speed\n",
    "%%timeit\n",
    "nda_c = transform_to_binary_mask_2d(nda)\n",
    "\n",
    "nda_c.shape"
   ]
  },
  {
   "cell_type": "code",
   "execution_count": 26,
   "metadata": {},
   "outputs": [
    {
     "name": "stdout",
     "output_type": "stream",
     "text": [
      "762 µs ± 60.3 µs per loop (mean ± std. dev. of 7 runs, 1000 loops each)\n"
     ]
    }
   ],
   "source": [
    "# test binary mask creation speed --> without np.max\n",
    "%%timeit\n",
    "nda_c = transform_to_binary_mask_2d(nda)\n",
    "nda_c.shape"
   ]
  },
  {
   "cell_type": "code",
   "execution_count": null,
   "metadata": {},
   "outputs": [],
   "source": []
  },
  {
   "cell_type": "code",
   "execution_count": null,
   "metadata": {},
   "outputs": [],
   "source": []
  },
  {
   "cell_type": "code",
   "execution_count": null,
   "metadata": {},
   "outputs": [],
   "source": []
  },
  {
   "cell_type": "code",
   "execution_count": null,
   "metadata": {},
   "outputs": [],
   "source": []
  },
  {
   "cell_type": "code",
   "execution_count": null,
   "metadata": {},
   "outputs": [],
   "source": []
  }
 ],
 "metadata": {
  "kernelspec": {
   "display_name": "Python 3",
   "language": "python",
   "name": "python3"
  },
  "language_info": {
   "codemirror_mode": {
    "name": "ipython",
    "version": 3
   },
   "file_extension": ".py",
   "mimetype": "text/x-python",
   "name": "python",
   "nbconvert_exporter": "python",
   "pygments_lexer": "ipython3",
   "version": "3.6.9"
  },
  "widgets": {
   "application/vnd.jupyter.widget-state+json": {
    "state": {},
    "version_major": 2,
    "version_minor": 0
   }
  }
 },
 "nbformat": 4,
 "nbformat_minor": 4
}
