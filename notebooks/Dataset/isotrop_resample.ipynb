{
 "cells": [
  {
   "cell_type": "code",
   "execution_count": 3,
   "metadata": {},
   "outputs": [
    {
     "name": "stdout",
     "output_type": "stream",
     "text": [
      "search for root_dir and set working directory\n",
      "Working directory set to: /mnt/ssd/git/3d-mri-domain-adaption\n"
     ]
    }
   ],
   "source": [
    "# define logging and working directory\n",
    "from ProjectRoot import change_wd_to_project_root \n",
    "change_wd_to_project_root()\n",
    "\n",
    "import SimpleITK as sitk\n",
    "import ipywidgets as widgets\n",
    "import matplotlib.pyplot as plt\n",
    "import pandas as pd\n",
    "import os\n",
    "import glob\n",
    "import shutil\n",
    "import numpy as np\n",
    "from scipy.spatial.transform import Rotation as R\n",
    "from src.data.Preprocess import *\n",
    "from src.utils.Notebook_imports import *\n"
   ]
  },
  {
   "cell_type": "markdown",
   "metadata": {},
   "source": [
    "# Resample to isotrop\n",
    "\n",
    "This method creates strange artefacts, so far I dont know how to solve"
   ]
  },
  {
   "cell_type": "code",
   "execution_count": 4,
   "metadata": {},
   "outputs": [],
   "source": [
    "ax_src = '/mnt/ssd/data/gcn/ax_sax_from_flo/ax3d/'\n",
    "sax_src = '/mnt/ssd/data/gcn/ax_sax_from_flo/sax3d/'\n",
    "ax_iso_dst = '/mnt/ssd/data/gcn/ax_sax_from_flo/ax3d_iso_linear/'\n",
    "sax_iso_dst = '/mnt/ssd/data/gcn/ax_sax_from_flo/sax3d_iso_linear/'"
   ]
  },
  {
   "cell_type": "code",
   "execution_count": 5,
   "metadata": {},
   "outputs": [],
   "source": [
    "# resample 3D image / mask into a fake isotrop resolution, use multithreadding, combine iso and orientation resample, everything in one step\n",
    "import concurrent.futures\n",
    "from concurrent.futures import as_completed\n",
    "slice_first = 2\n",
    "\n",
    "workers = 16\n",
    "futures_ax_iso = set()\n",
    "futures_sax_iso = set()\n",
    "futures_ax2sax_iso = set()\n",
    "futures_sax2ax_iso = set()\n",
    "\n",
    "ax_files = sorted(glob.glob(ax_src+'*.nrrd', recursive = True))\n",
    "sax_files = sorted(glob.glob(sax_src+'*.nrrd', recursive = True))\n",
    "ensure_dir(ax_iso_dst)\n",
    "ensure_dir(sax_iso_dst)\n",
    "\n",
    "target_spacing = (1.5,1.5,1.5)\n",
    "# spawn multiple threads or processes\n",
    "with concurrent.futures.ThreadPoolExecutor(max_workers=workers) as executor:# resample ax towards sax and vize versa\n",
    "    \n",
    "    for ax_file, sax_file in zip(ax_files, sax_files):\n",
    "        print('processing file: {}'.format(ax_file))\n",
    "        reader1 = sitk.ImageFileReader()\n",
    "        reader1.SetFileName(ax_file)\n",
    "        ax_img = reader1.Execute()\n",
    "        \n",
    "        reader2 = sitk.ImageFileReader()\n",
    "        reader2.SetFileName(sax_file)\n",
    "        sax_img = reader2.Execute()\n",
    "        \n",
    "        # make a pseudo isotrop volume from both input images\n",
    "        if 'img' in os.path.basename(ax_file):\n",
    "            futures_ax_iso.add(executor.submit(transform_to_isotrop_voxels, ax_img, sitk.sitkLinear,target_spacing, ax_file))\n",
    "            futures_sax_iso.add(executor.submit(transform_to_isotrop_voxels, sax_img, sitk.sitkLinear,target_spacing, sax_file))\n",
    "        else:\n",
    "            futures_ax_iso.add(executor.submit(max_thres_resample2_iso_label_img, ax_img,50, target_spacing, ax_file, sitk.sitkLinear))\n",
    "            futures_sax_iso.add(executor.submit(max_thres_resample2_iso_label_img, sax_img,50, target_spacing, sax_file, sitk.sitkLinear))\n",
    "\n",
    "# this part is sequential, we need only one writer\n",
    "writer = sitk.ImageFileWriter()\n",
    "for future in as_completed(futures_ax_iso):\n",
    "    try:\n",
    "        res = future.result()\n",
    "        iso_resampled, file_path = res\n",
    "        writer.SetFileName(os.path.join(ax_iso_dst,os.path.basename(file_path)))\n",
    "        writer.Execute(iso_resampled)\n",
    "\n",
    "    except Exception as e:\n",
    "        logging.error(\n",
    "            'Exception {} in datagenerator with: image: {} or mask: {}'.format(str(e)))\n",
    "        \n",
    "for future in as_completed(futures_sax_iso):\n",
    "    try:\n",
    "        res = future.result()\n",
    "        iso_resampled, file_path = res\n",
    "        writer.SetFileName(os.path.join(sax_iso_dst,os.path.basename(file_path)))\n",
    "        writer.Execute(iso_resampled)\n",
    "\n",
    "    except Exception as e:\n",
    "        logging.error(\n",
    "            'Exception {} in datagenerator with: image: {} or mask: {}'.format(str(e)))\n",
    "\n"
   ]
  },
  {
   "cell_type": "code",
   "execution_count": 21,
   "metadata": {},
   "outputs": [],
   "source": [
    "ax_src = '/mnt/ssd/data/gcn/ax_sax_from_flo/ax3d_iso_linear/'\n",
    "sax_src = '/mnt/ssd/data/gcn/ax_sax_from_flo/sax3d_iso_linear/'\n",
    "dst_ax2sax = '/mnt/ssd/data/gcn/ax_sax_from_flo/sax2ax3d_iso/'\n",
    "ax2sax_iso_dst = '/mnt/ssd/data/gcn/ax_sax_from_flo/ax2sax3d_iso_linear/'\n",
    "sax2ax_iso_dst = '/mnt/ssd/data/gcn/ax_sax_from_flo/sax2ax3d_iso_linear/'"
   ]
  },
  {
   "cell_type": "markdown",
   "metadata": {},
   "source": [
    "# Resample to other orientation"
   ]
  },
  {
   "cell_type": "code",
   "execution_count": 23,
   "metadata": {},
   "outputs": [
    {
     "name": "stdout",
     "output_type": "stream",
     "text": [
      "axial files: 324\n",
      "sax files: 324\n"
     ]
    }
   ],
   "source": [
    "# resample 3D image / mask from axial view into sax view or vize versa, extend the transformed vol by 10 voxel along the target z axis\n",
    "import concurrent.futures\n",
    "from concurrent.futures import as_completed\n",
    "\n",
    "workers = 16\n",
    "futures_ax2sax = set()\n",
    "futures_sax2ax = set()\n",
    "ensure_dir(ax2sax_iso_dst)\n",
    "ensure_dir(sax2ax_iso_dst)\n",
    "# spawn multiple threads or processes\n",
    "# transform the image of file_path with according to the direction of \n",
    "ax_files = sorted(glob.glob(ax_src+'*.nrrd', recursive = True))\n",
    "sax_files = sorted(glob.glob(sax_src+'*.nrrd', recursive = True))\n",
    "print('axial files: {}'.format(len(ax_files)))\n",
    "print('sax files: {}'.format(len(sax_files)))\n",
    "with concurrent.futures.ThreadPoolExecutor(max_workers=workers) as executor:\n",
    "    \n",
    "    for ax_file_path, sax_file_path in zip(ax_files, sax_files):\n",
    "        \n",
    "        reader1 = sitk.ImageFileReader()\n",
    "        reader1.SetFileName(ax_file_path)\n",
    "        ax_img = reader1.Execute()\n",
    "        \n",
    "        reader2 = sitk.ImageFileReader()\n",
    "        reader2.SetFileName(sax_file_path)\n",
    "        sax_img = reader2.Execute()\n",
    "    \n",
    "        if 'img' in os.path.basename(ax_file_path):\n",
    "            futures_ax2sax.add(executor.submit(resample_direcion_origin_spacing_shift, ax_img, sax_img, (0,0,-10), sitk.sitkLinear, ax_file_path))\n",
    "            futures_sax2ax.add(executor.submit(resample_direcion_origin_spacing_shift, sax_img, ax_img, (0,0,-10), sitk.sitkLinear, sax_file_path))\n",
    "\n",
    "        else:\n",
    "            futures_ax2sax.add(executor.submit(max_thres_resample2_label_img_shift, ax_img, sax_img, 50, (0,0,-10), ax_file_path))\n",
    "            futures_sax2ax.add(executor.submit(max_thres_resample2_label_img_shift, sax_img, ax_img, 50, (0,0,-10), sax_file_path))\n",
    "\n",
    "writer = sitk.ImageFileWriter()\n",
    "for i, future in enumerate(as_completed(futures_ax2sax)):\n",
    "    try:\n",
    "        res = future.result()\n",
    "        resampled, file_path = res\n",
    "        writer.SetFileName(os.path.join(ax2sax_iso_dst,os.path.basename(file_path)))\n",
    "        writer.Execute(resampled) \n",
    "\n",
    "    except Exception as e:\n",
    "        logging.error(\n",
    "            'Exception {} in datagenerator with: image: {} or mask: {}'.format(str(e)))\n",
    "        \n",
    "for i, future in enumerate(as_completed(futures_sax2ax)):\n",
    "    try:\n",
    "        res = future.result()\n",
    "        resampled, file_path = res\n",
    "        writer.SetFileName(os.path.join(sax2ax_iso_dst,os.path.basename(file_path)))\n",
    "        writer.Execute(resampled) \n",
    "\n",
    "    except Exception as e:\n",
    "        logging.error(\n",
    "            'Exception {} in datagenerator with: image: {} or mask: {}'.format(str(e)))"
   ]
  },
  {
   "cell_type": "markdown",
   "metadata": {},
   "source": [
    "# Manual tests, not needed currently"
   ]
  },
  {
   "cell_type": "code",
   "execution_count": 20,
   "metadata": {},
   "outputs": [],
   "source": [
    "ax_src = '/home/rflo/master/all_with_7_worst_regi/ax3d/'\n",
    "sax_src = '/home/rflo/master/all_with_7_worst_regi/sax3d/'\n",
    "dst = '/home/rflo/master/all_with_7_worst_regi/testground/'"
   ]
  },
  {
   "cell_type": "code",
   "execution_count": 21,
   "metadata": {},
   "outputs": [],
   "source": [
    "ensure_dir(dst)"
   ]
  },
  {
   "cell_type": "code",
   "execution_count": null,
   "metadata": {},
   "outputs": [],
   "source": [
    "ax_src = sorted(glob.glob('/home/rflo/master/all_with_7_worst_regi/ax3d/'+'*.nrrd', recursive = True))[0]\n",
    "sax_src = sorted(glob.glob('/home/rflo/master/all_with_7_worst_regi/sax3d/'+'*.nrrd', recursive = True))[0]"
   ]
  },
  {
   "cell_type": "code",
   "execution_count": 22,
   "metadata": {},
   "outputs": [],
   "source": [
    "ax_src = sorted(glob.glob('/home/rflo/master/all_with_7_worst_regi/ax3d_iso_linear/'+'*.nrrd', recursive = True))[0]\n",
    "sax_src = sorted(glob.glob('/home/rflo/master/all_with_7_worst_regi/sax3d_iso_linear/'+'*.nrrd', recursive = True))[0]"
   ]
  },
  {
   "cell_type": "code",
   "execution_count": null,
   "metadata": {},
   "outputs": [],
   "source": [
    "ax_src = sorted(glob.glob('/home/rflo/master/all_with_7_worst_regi/ax3d_iso_linear/'+'*.nrrd', recursive = True))[28]\n",
    "sax_src = sorted(glob.glob('/home/rflo/master/all_with_7_worst_regi/sax3d_iso_linear/'+'*.nrrd', recursive = True))[28]"
   ]
  },
  {
   "cell_type": "code",
   "execution_count": 23,
   "metadata": {},
   "outputs": [
    {
     "name": "stdout",
     "output_type": "stream",
     "text": [
      "/home/rflo/master/all_with_7_worst_regi/ax3d_iso_linear/0000-0HQQW4ZN_2007-05-23_ED_img.nrrd\n",
      "/home/rflo/master/all_with_7_worst_regi/sax3d_iso_linear/0000-0HQQW4ZN_2007-05-23_ED_img.nrrd\n"
     ]
    }
   ],
   "source": [
    "print(ax_src)\n",
    "print(sax_src)"
   ]
  },
  {
   "cell_type": "code",
   "execution_count": 24,
   "metadata": {},
   "outputs": [],
   "source": [
    "from scipy.ndimage import affine_transform\n",
    "#testing single pictures\n",
    "ax_file_path = ax_src\n",
    "sax_file_path = sax_src\n",
    "\n",
    "reader1 = sitk.ImageFileReader()\n",
    "reader1.SetFileName(ax_file_path)\n",
    "ax_img = reader1.Execute()\n",
    "\n",
    "reader2 = sitk.ImageFileReader()\n",
    "reader2.SetFileName(sax_file_path)\n",
    "sax_img = reader2.Execute()"
   ]
  },
  {
   "cell_type": "code",
   "execution_count": 25,
   "metadata": {},
   "outputs": [],
   "source": [
    "for shift in range(-20,1,2):    \n",
    "    resampled = resample_direcion_origin_spacing_shift(ax_img, sax_img, shift = (0,0,shift), interpolate=sitk.sitkLinear)\n",
    "    writer = sitk.ImageFileWriter()\n",
    "    writer.SetFileName(os.path.join(dst,'shift'+str((0,0,shift))+'.nrrd'))\n",
    "    writer.Execute(resampled) "
   ]
  },
  {
   "cell_type": "code",
   "execution_count": null,
   "metadata": {},
   "outputs": [],
   "source": [
    "for shift in range(-20,21,5):    \n",
    "    resampled = resample_direcion_origin_spacing_shift(ax_img, sax_img, shift = (shift,0,0), interpolate=sitk.sitkLinear)\n",
    "    writer = sitk.ImageFileWriter()\n",
    "    writer.SetFileName(os.path.join(dst,'shift'+str((shift,0,0))+'.nrrd'))\n",
    "    writer.Execute(resampled) \n",
    "    resampled = resample_direcion_origin_spacing_shift(ax_img, sax_img, shift = (0,shift,0), interpolate=sitk.sitkLinear)\n",
    "    writer = sitk.ImageFileWriter()\n",
    "    writer.SetFileName(os.path.join(dst,'shift'+str((0,shift,0))+'.nrrd'))\n",
    "    writer.Execute(resampled) \n",
    "    resampled = resample_direcion_origin_spacing_shift(ax_img, sax_img, shift = (0,0,shift), interpolate=sitk.sitkLinear)\n",
    "    writer = sitk.ImageFileWriter()\n",
    "    writer.SetFileName(os.path.join(dst,'shift'+str((0,0,shift))+'.nrrd'))\n",
    "    writer.Execute(resampled) "
   ]
  },
  {
   "cell_type": "code",
   "execution_count": null,
   "metadata": {},
   "outputs": [],
   "source": [
    "\"\"\"\n",
    "sitk_img1 = ax_img\n",
    "sitk_img2 = sax_ixmg\n",
    "    \n",
    "label1_img1 = get_single_label_img(sitk_img1,1)\n",
    "label2_img1 = get_single_label_img(sitk_img1,2)\n",
    "label3_img1 = get_single_label_img(sitk_img1,3)\n",
    "resampled_label1 = resample_img(label1_img1, sitk_img2)\n",
    "resampled_label2 = resample_img(label2_img1, sitk_img2)\n",
    "resampled_label3 = resample_img(label3_img1, sitk_img2)\n",
    "\"\"\"\n",
    "size = ax_img.GetSize()\n",
    "spacing = ax_img.GetSpacing()\n",
    "size_new = [int(s*p) for s,p in zip(size,spacing)]\n",
    "size_new = tuple(size_new)"
   ]
  },
  {
   "cell_type": "code",
   "execution_count": null,
   "metadata": {},
   "outputs": [],
   "source": [
    "resampler = sitk.ResampleImageFilter()\n",
    "resampler.SetSize(size_new)\n",
    "resampler.SetOutputSpacing((1,1,1))\n",
    "resampler.SetOutputOrigin(ax_img.GetOrigin())\n",
    "#resampler.SetInterpolator(sitk.sitkNearestNeighbor)\n",
    "new_img = resampler.Execute(ax_img)\n",
    "\n",
    "#sitk_img, size=(12, 256, 256), spacing=(8, 1.25, 1.25), interpolate=sitk.sitkNearestNeighbor\n",
    "\n",
    "\n",
    "ax_array = sitk.GetArrayFromImage(new_img)\n",
    "#ax_img.SetDirection(sax_img.GetDirection())\n",
    "direction = sax_img.GetDirection()\n",
    "direction = np.reshape(direction,(3,3))\n",
    "\n",
    "\n",
    "#r = R.from_matrix(direction)\n",
    "new_array = affine_transform(ax_array,direction)\n",
    "new_img = sitk.GetImageFromArray(new_array)\n",
    "new_img.SetOrigin(ax_img.GetOrigin())\n",
    "new_img.SetDirection(sax_img.GetDirection())   \n",
    "\n",
    "#resampled = max_thres_resample_label_img(ax_img, sax_img,50)\n",
    "#resampled = percentage_resample_label_img(ax_img, sax_img,80)\n",
    "\n",
    "writer = sitk.ImageFileWriter()\n",
    "writer.SetFileName(os.path.join(dst,os.path.basename('img_ax_new.nrrd')))\n",
    "writer.Execute(new_img) \n",
    "#writer = sitk.ImageFileWriter()\n",
    "#writer.SetFileName(os.path.join(dst,os.path.basename('sax_0.nrrd')))\n",
    "#writer.Execute(sax_img) \n",
    "\n",
    "#writer = sitk.ImageFileWriter()\n",
    "#writer.SetFileName(os.path.join(dst,os.path.basename(ax_file_path)))\n",
    "#writer.Execute(resampled) "
   ]
  },
  {
   "cell_type": "code",
   "execution_count": null,
   "metadata": {},
   "outputs": [],
   "source": []
  },
  {
   "cell_type": "code",
   "execution_count": null,
   "metadata": {},
   "outputs": [],
   "source": []
  },
  {
   "cell_type": "code",
   "execution_count": null,
   "metadata": {},
   "outputs": [],
   "source": [
    "png_path = '/home/rflo/master/data_search/ax'"
   ]
  },
  {
   "cell_type": "code",
   "execution_count": null,
   "metadata": {},
   "outputs": [],
   "source": [
    "png_path = '/home/rflo/master/data_search/ax_to_sax/'"
   ]
  },
  {
   "cell_type": "code",
   "execution_count": null,
   "metadata": {},
   "outputs": [],
   "source": [
    "from IPython.display import Image\n",
    "from ipywidgets import interact\n",
    "path_to_png = png_path\n",
    "@interact\n",
    "def show_png(i = (0, len(sorted(glob.glob(os.path.join(path_to_png,'*.png'))))-1)):\n",
    "    f_name = sorted(glob.glob(os.path.join(path_to_png,'*.png')))[i]\n",
    "    print(f_name)\n",
    "    return Image(filename=f_name)"
   ]
  },
  {
   "cell_type": "code",
   "execution_count": null,
   "metadata": {},
   "outputs": [],
   "source": []
  },
  {
   "cell_type": "code",
   "execution_count": null,
   "metadata": {},
   "outputs": [],
   "source": []
  },
  {
   "cell_type": "code",
   "execution_count": null,
   "metadata": {},
   "outputs": [],
   "source": []
  },
  {
   "cell_type": "code",
   "execution_count": null,
   "metadata": {},
   "outputs": [],
   "source": []
  },
  {
   "cell_type": "code",
   "execution_count": null,
   "metadata": {},
   "outputs": [],
   "source": []
  },
  {
   "cell_type": "code",
   "execution_count": null,
   "metadata": {},
   "outputs": [],
   "source": [
    "ax_src = '/home/rflo/master/all_with_7_worst_regi/ax3d/'\n",
    "sax_src = '/home/rflo/master/all_with_7_worst_regi/sax3d/'\n",
    "dst = '/home/rflo/master/all_with_7_worst_regi/testground/'"
   ]
  },
  {
   "cell_type": "code",
   "execution_count": null,
   "metadata": {},
   "outputs": [],
   "source": [
    "ax_src = '/home/rflo/master/all_with_7_worst_regi/ax3d_iso_linear/'\n",
    "sax_src = '/home/rflo/master/all_with_7_worst_regi/sax3d_iso_linear/'\n",
    "dst = '/home/rflo/master/all_with_7_worst_regi/testground/'"
   ]
  },
  {
   "cell_type": "code",
   "execution_count": null,
   "metadata": {},
   "outputs": [],
   "source": [
    "ensure_dir(dst)"
   ]
  },
  {
   "cell_type": "code",
   "execution_count": null,
   "metadata": {},
   "outputs": [],
   "source": [
    "src = ax_src"
   ]
  },
  {
   "cell_type": "code",
   "execution_count": null,
   "metadata": {},
   "outputs": [],
   "source": [
    "#copy all msk into dst\n",
    "\n",
    "for file_path in sorted(glob.glob(src+'*.nrrd', recursive = True)):\n",
    "    if 'msk' in os.path.basename(file_path):\n",
    "        shutil.copyfile(file_path,os.path.join(dst,os.path.basename(file_path)))\n",
    "        "
   ]
  },
  {
   "cell_type": "code",
   "execution_count": null,
   "metadata": {},
   "outputs": [],
   "source": []
  }
 ],
 "metadata": {
  "kernelspec": {
   "display_name": "ax2sax",
   "language": "python",
   "name": "ax2sax"
  },
  "language_info": {
   "codemirror_mode": {
    "name": "ipython",
    "version": 3
   },
   "file_extension": ".py",
   "mimetype": "text/x-python",
   "name": "python",
   "nbconvert_exporter": "python",
   "pygments_lexer": "ipython3",
   "version": "3.6.9"
  },
  "varInspector": {
   "cols": {
    "lenName": 16,
    "lenType": 16,
    "lenVar": 40
   },
   "kernels_config": {
    "python": {
     "delete_cmd_postfix": "",
     "delete_cmd_prefix": "del ",
     "library": "var_list.py",
     "varRefreshCmd": "print(var_dic_list())"
    },
    "r": {
     "delete_cmd_postfix": ") ",
     "delete_cmd_prefix": "rm(",
     "library": "var_list.r",
     "varRefreshCmd": "cat(var_dic_list()) "
    }
   },
   "types_to_exclude": [
    "module",
    "function",
    "builtin_function_or_method",
    "instance",
    "_Feature"
   ],
   "window_display": false
  },
  "widgets": {
   "application/vnd.jupyter.widget-state+json": {
    "state": {},
    "version_major": 2,
    "version_minor": 0
   }
  }
 },
 "nbformat": 4,
 "nbformat_minor": 4
}