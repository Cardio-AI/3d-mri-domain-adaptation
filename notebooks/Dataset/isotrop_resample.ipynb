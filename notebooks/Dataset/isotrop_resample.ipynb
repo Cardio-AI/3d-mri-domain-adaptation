{
 "cells": [
  {
   "cell_type": "code",
   "execution_count": 3,
   "metadata": {},
   "outputs": [
    {
     "name": "stdout",
     "output_type": "stream",
     "text": [
      "search for root_dir and set working directory\n",
      "Working directory set to: /mnt/ssd/git/3d-mri-domain-adaption\n"
     ]
    }
   ],
   "source": [
    "# define logging and working directory\n",
    "from ProjectRoot import change_wd_to_project_root \n",
    "change_wd_to_project_root()\n",
    "\n",
    "import SimpleITK as sitk\n",
    "import ipywidgets as widgets\n",
    "import matplotlib.pyplot as plt\n",
    "import pandas as pd\n",
    "import os\n",
    "import glob\n",
    "import shutil\n",
    "import numpy as np\n",
    "from scipy.spatial.transform import Rotation as R\n",
    "from src.data.Preprocess import *\n",
    "from src.utils.Notebook_imports import *\n"
   ]
  },
  {
   "cell_type": "markdown",
   "metadata": {},
   "source": [
    "# Resample to isotrop\n",
    "\n",
    "This method creates strange artefacts, so far I dont know how to solve"
   ]
  },
  {
   "cell_type": "code",
   "execution_count": 4,
   "metadata": {},
   "outputs": [],
   "source": [
    "ax_src = '/mnt/ssd/data/gcn/ax_sax_from_flo/ax3d/'\n",
    "sax_src = '/mnt/ssd/data/gcn/ax_sax_from_flo/sax3d/'\n",
    "ax_iso_dst = '/mnt/ssd/data/gcn/ax_sax_from_flo/ax3d_iso_linear/'\n",
    "sax_iso_dst = '/mnt/ssd/data/gcn/ax_sax_from_flo/sax3d_iso_linear/'"
   ]
  },
  {
   "cell_type": "code",
   "execution_count": 5,
   "metadata": {},
   "outputs": [],
   "source": [
    "# resample 3D image / mask into a fake isotrop resolution, use multithreadding, combine iso and orientation resample, everything in one step\n",
    "import concurrent.futures\n",
    "from concurrent.futures import as_completed\n",
    "slice_first = 2\n",
    "\n",
    "workers = 16\n",
    "futures_ax_iso = set()\n",
    "futures_sax_iso = set()\n",
    "futures_ax2sax_iso = set()\n",
    "futures_sax2ax_iso = set()\n",
    "\n",
    "ax_files = sorted(glob.glob(ax_src+'*.nrrd', recursive = True))\n",
    "sax_files = sorted(glob.glob(sax_src+'*.nrrd', recursive = True))\n",
    "ensure_dir(ax_iso_dst)\n",
    "ensure_dir(sax_iso_dst)\n",
    "\n",
    "target_spacing = (1.5,1.5,1.5)\n",
    "# spawn multiple threads or processes\n",
    "with concurrent.futures.ThreadPoolExecutor(max_workers=workers) as executor:# resample ax towards sax and vize versa\n",
    "    \n",
    "    for ax_file, sax_file in zip(ax_files, sax_files):\n",
    "        print('processing file: {}'.format(ax_file))\n",
    "        reader1 = sitk.ImageFileReader()\n",
    "        reader1.SetFileName(ax_file)\n",
    "        ax_img = reader1.Execute()\n",
    "        \n",
    "        reader2 = sitk.ImageFileReader()\n",
    "        reader2.SetFileName(sax_file)\n",
    "        sax_img = reader2.Execute()\n",
    "        \n",
    "        # make a pseudo isotrop volume from both input images\n",
    "        if 'img' in os.path.basename(ax_file):\n",
    "            futures_ax_iso.add(executor.submit(transform_to_isotrop_voxels, ax_img, sitk.sitkLinear,target_spacing, ax_file))\n",
    "            futures_sax_iso.add(executor.submit(transform_to_isotrop_voxels, sax_img, sitk.sitkLinear,target_spacing, sax_file))\n",
    "        else:\n",
    "            futures_ax_iso.add(executor.submit(max_thres_resample2_iso_label_img, ax_img,50, target_spacing, ax_file, sitk.sitkLinear))\n",
    "            futures_sax_iso.add(executor.submit(max_thres_resample2_iso_label_img, sax_img,50, target_spacing, sax_file, sitk.sitkLinear))\n",
    "\n",
    "# this part is sequential, we need only one writer\n",
    "writer = sitk.ImageFileWriter()\n",
    "for future in as_completed(futures_ax_iso):\n",
    "    try:\n",
    "        res = future.result()\n",
    "        iso_resampled, file_path = res\n",
    "        writer.SetFileName(os.path.join(ax_iso_dst,os.path.basename(file_path)))\n",
    "        writer.Execute(iso_resampled)\n",
    "\n",
    "    except Exception as e:\n",
    "        logging.error(\n",
    "            'Exception {} in datagenerator with: image: {} or mask: {}'.format(str(e)))\n",
    "        \n",
    "for future in as_completed(futures_sax_iso):\n",
    "    try:\n",
    "        res = future.result()\n",
    "        iso_resampled, file_path = res\n",
    "        writer.SetFileName(os.path.join(sax_iso_dst,os.path.basename(file_path)))\n",
    "        writer.Execute(iso_resampled)\n",
    "\n",
    "    except Exception as e:\n",
    "        logging.error(\n",
    "            'Exception {} in datagenerator with: image: {} or mask: {}'.format(str(e)))"
   ]
  },
  {
   "cell_type": "code",
   "execution_count": 57,
   "metadata": {},
   "outputs": [],
   "source": [
    "# resample 3D image / mask into a fake isotrop resolution, use multithreadding\n",
    "import concurrent.futures\n",
    "from concurrent.futures import as_completed\n",
    "\n",
    "workers = 16\n",
    "futures = set()\n",
    "files = sorted(glob.glob(sax_src+'*.nrrd', recursive = True))[:2]\n",
    "ensure_dir(dst)\n",
    "# spawn multiple threads or processes\n",
    "with concurrent.futures.ThreadPoolExecutor(max_workers=workers) as executor:\n",
    "    \n",
    "    for file_path in files:\n",
    "    \n",
    "        reader1 = sitk.ImageFileReader()\n",
    "        reader1.SetFileName(file_path)\n",
    "        sitk_img = reader1.Execute()\n",
    "    \n",
    "        if 'img' in os.path.basename(file_path):\n",
    "            futures.add(executor.submit(transform_to_isotrop_voxels, sitk_img, sitk.sitkLinear,(1.5,1.5,1.5), file_path))\n",
    "\n",
    "        else:\n",
    "            futures.add(executor.submit(max_thres_resample2_iso_label_img, sitk_img,50, file_path))\n",
    "\n",
    "for i, future in enumerate(as_completed(futures)):\n",
    "    try:\n",
    "        res = future.result()\n",
    "        iso_resampled, file_path = res\n",
    "        writer = sitk.ImageFileWriter()\n",
    "        writer.SetFileName(os.path.join(dst,os.path.basename(file_path)))\n",
    "        writer.Execute(iso_resampled)\n",
    "\n",
    "    except Exception as e:\n",
    "        logging.error(\n",
    "            'Exception {} in datagenerator with: image: {} or mask: {}'.format(str(e)))"
   ]
  },
  {
   "cell_type": "code",
   "execution_count": 125,
   "metadata": {
    "collapsed": true,
    "jupyter": {
     "outputs_hidden": true
    }
   },
   "outputs": [
    {
     "data": {
      "text/plain": [
       "'/mnt/ssd/data/gcn/ax_sax_from_flo/ax3d/0000-0HQQW4ZN_2007-05-23_ED_img.nrrd'"
      ]
     },
     "execution_count": 125,
     "metadata": {},
     "output_type": "execute_result"
    },
    {
     "data": {
      "text/plain": [
       "'/mnt/ssd/data/gcn/ax_sax_from_flo/ax3d/0000-0HQQW4ZN_2007-05-23_ED_msk.nrrd'"
      ]
     },
     "execution_count": 125,
     "metadata": {},
     "output_type": "execute_result"
    },
    {
     "name": "stdout",
     "output_type": "stream",
     "text": [
      "after closing\n",
      "int64\n"
     ]
    },
    {
     "data": {
      "text/plain": [
       "'/mnt/ssd/data/gcn/ax_sax_from_flo/ax3d/0000-0HQQW4ZN_2007-05-23_ES_img.nrrd'"
      ]
     },
     "execution_count": 125,
     "metadata": {},
     "output_type": "execute_result"
    },
    {
     "data": {
      "text/plain": [
       "'/mnt/ssd/data/gcn/ax_sax_from_flo/ax3d/0000-0HQQW4ZN_2007-05-23_ES_msk.nrrd'"
      ]
     },
     "execution_count": 125,
     "metadata": {},
     "output_type": "execute_result"
    },
    {
     "name": "stdout",
     "output_type": "stream",
     "text": [
      "after closing\n",
      "int64\n"
     ]
    },
    {
     "data": {
      "text/plain": [
       "'/mnt/ssd/data/gcn/ax_sax_from_flo/ax3d/0000-0PTV75MP_2005-06-27_ED_img.nrrd'"
      ]
     },
     "execution_count": 125,
     "metadata": {},
     "output_type": "execute_result"
    },
    {
     "data": {
      "text/plain": [
       "'/mnt/ssd/data/gcn/ax_sax_from_flo/ax3d/0000-0PTV75MP_2005-06-27_ED_msk.nrrd'"
      ]
     },
     "execution_count": 125,
     "metadata": {},
     "output_type": "execute_result"
    },
    {
     "name": "stdout",
     "output_type": "stream",
     "text": [
      "after closing\n",
      "int64\n"
     ]
    },
    {
     "data": {
      "text/plain": [
       "'/mnt/ssd/data/gcn/ax_sax_from_flo/ax3d/0000-0PTV75MP_2005-06-27_ES_img.nrrd'"
      ]
     },
     "execution_count": 125,
     "metadata": {},
     "output_type": "execute_result"
    },
    {
     "data": {
      "text/plain": [
       "'/mnt/ssd/data/gcn/ax_sax_from_flo/ax3d/0000-0PTV75MP_2005-06-27_ES_msk.nrrd'"
      ]
     },
     "execution_count": 125,
     "metadata": {},
     "output_type": "execute_result"
    },
    {
     "name": "stdout",
     "output_type": "stream",
     "text": [
      "after closing\n",
      "int64\n"
     ]
    },
    {
     "data": {
      "text/plain": [
       "'/mnt/ssd/data/gcn/ax_sax_from_flo/ax3d/0000-0RPELLU8_2007-02-13_ED_img.nrrd'"
      ]
     },
     "execution_count": 125,
     "metadata": {},
     "output_type": "execute_result"
    },
    {
     "data": {
      "text/plain": [
       "'/mnt/ssd/data/gcn/ax_sax_from_flo/ax3d/0000-0RPELLU8_2007-02-13_ED_msk.nrrd'"
      ]
     },
     "execution_count": 125,
     "metadata": {},
     "output_type": "execute_result"
    },
    {
     "name": "stdout",
     "output_type": "stream",
     "text": [
      "after closing\n",
      "int64\n"
     ]
    },
    {
     "data": {
      "text/plain": [
       "'/mnt/ssd/data/gcn/ax_sax_from_flo/ax3d/0000-0RPELLU8_2007-02-13_ES_img.nrrd'"
      ]
     },
     "execution_count": 125,
     "metadata": {},
     "output_type": "execute_result"
    },
    {
     "data": {
      "text/plain": [
       "'/mnt/ssd/data/gcn/ax_sax_from_flo/ax3d/0000-0RPELLU8_2007-02-13_ES_msk.nrrd'"
      ]
     },
     "execution_count": 125,
     "metadata": {},
     "output_type": "execute_result"
    },
    {
     "name": "stdout",
     "output_type": "stream",
     "text": [
      "after closing\n",
      "int64\n"
     ]
    },
    {
     "data": {
      "text/plain": [
       "'/mnt/ssd/data/gcn/ax_sax_from_flo/ax3d/0000-11YU3CUF_2007-12-10_ED_img.nrrd'"
      ]
     },
     "execution_count": 125,
     "metadata": {},
     "output_type": "execute_result"
    },
    {
     "data": {
      "text/plain": [
       "'/mnt/ssd/data/gcn/ax_sax_from_flo/ax3d/0000-11YU3CUF_2007-12-10_ED_msk.nrrd'"
      ]
     },
     "execution_count": 125,
     "metadata": {},
     "output_type": "execute_result"
    },
    {
     "name": "stdout",
     "output_type": "stream",
     "text": [
      "after closing\n",
      "int64\n"
     ]
    },
    {
     "data": {
      "text/plain": [
       "'/mnt/ssd/data/gcn/ax_sax_from_flo/ax3d/0000-11YU3CUF_2007-12-10_ES_img.nrrd'"
      ]
     },
     "execution_count": 125,
     "metadata": {},
     "output_type": "execute_result"
    },
    {
     "data": {
      "text/plain": [
       "'/mnt/ssd/data/gcn/ax_sax_from_flo/ax3d/0000-11YU3CUF_2007-12-10_ES_msk.nrrd'"
      ]
     },
     "execution_count": 125,
     "metadata": {},
     "output_type": "execute_result"
    },
    {
     "name": "stdout",
     "output_type": "stream",
     "text": [
      "after closing\n",
      "int64\n"
     ]
    },
    {
     "data": {
      "text/plain": [
       "'/mnt/ssd/data/gcn/ax_sax_from_flo/ax3d/0000-13JLP3HN_2007-05-22_ED_img.nrrd'"
      ]
     },
     "execution_count": 125,
     "metadata": {},
     "output_type": "execute_result"
    },
    {
     "data": {
      "text/plain": [
       "'/mnt/ssd/data/gcn/ax_sax_from_flo/ax3d/0000-13JLP3HN_2007-05-22_ED_msk.nrrd'"
      ]
     },
     "execution_count": 125,
     "metadata": {},
     "output_type": "execute_result"
    },
    {
     "name": "stdout",
     "output_type": "stream",
     "text": [
      "after closing\n",
      "int64\n"
     ]
    },
    {
     "data": {
      "text/plain": [
       "'/mnt/ssd/data/gcn/ax_sax_from_flo/ax3d/0000-13JLP3HN_2007-05-22_ES_img.nrrd'"
      ]
     },
     "execution_count": 125,
     "metadata": {},
     "output_type": "execute_result"
    },
    {
     "data": {
      "text/plain": [
       "'/mnt/ssd/data/gcn/ax_sax_from_flo/ax3d/0000-13JLP3HN_2007-05-22_ES_msk.nrrd'"
      ]
     },
     "execution_count": 125,
     "metadata": {},
     "output_type": "execute_result"
    },
    {
     "name": "stdout",
     "output_type": "stream",
     "text": [
      "after closing\n",
      "int64\n"
     ]
    },
    {
     "data": {
      "text/plain": [
       "'/mnt/ssd/data/gcn/ax_sax_from_flo/ax3d/0000-1E4PF7MR_2006-07-06_ED_img.nrrd'"
      ]
     },
     "execution_count": 125,
     "metadata": {},
     "output_type": "execute_result"
    },
    {
     "data": {
      "text/plain": [
       "'/mnt/ssd/data/gcn/ax_sax_from_flo/ax3d/0000-1E4PF7MR_2006-07-06_ED_msk.nrrd'"
      ]
     },
     "execution_count": 125,
     "metadata": {},
     "output_type": "execute_result"
    },
    {
     "name": "stdout",
     "output_type": "stream",
     "text": [
      "after closing\n",
      "int64\n"
     ]
    },
    {
     "data": {
      "text/plain": [
       "'/mnt/ssd/data/gcn/ax_sax_from_flo/ax3d/0000-1E4PF7MR_2006-07-06_ES_img.nrrd'"
      ]
     },
     "execution_count": 125,
     "metadata": {},
     "output_type": "execute_result"
    },
    {
     "data": {
      "text/plain": [
       "'/mnt/ssd/data/gcn/ax_sax_from_flo/ax3d/0000-1E4PF7MR_2006-07-06_ES_msk.nrrd'"
      ]
     },
     "execution_count": 125,
     "metadata": {},
     "output_type": "execute_result"
    },
    {
     "name": "stdout",
     "output_type": "stream",
     "text": [
      "after closing\n",
      "int64\n"
     ]
    },
    {
     "data": {
      "text/plain": [
       "'/mnt/ssd/data/gcn/ax_sax_from_flo/ax3d/0000-1E8MCV9L_2005-12-15_ED_img.nrrd'"
      ]
     },
     "execution_count": 125,
     "metadata": {},
     "output_type": "execute_result"
    },
    {
     "data": {
      "text/plain": [
       "'/mnt/ssd/data/gcn/ax_sax_from_flo/ax3d/0000-1E8MCV9L_2005-12-15_ED_msk.nrrd'"
      ]
     },
     "execution_count": 125,
     "metadata": {},
     "output_type": "execute_result"
    },
    {
     "name": "stdout",
     "output_type": "stream",
     "text": [
      "after closing\n",
      "int64\n"
     ]
    },
    {
     "data": {
      "text/plain": [
       "'/mnt/ssd/data/gcn/ax_sax_from_flo/ax3d/0000-1E8MCV9L_2005-12-15_ES_img.nrrd'"
      ]
     },
     "execution_count": 125,
     "metadata": {},
     "output_type": "execute_result"
    },
    {
     "data": {
      "text/plain": [
       "'/mnt/ssd/data/gcn/ax_sax_from_flo/ax3d/0000-1E8MCV9L_2005-12-15_ES_msk.nrrd'"
      ]
     },
     "execution_count": 125,
     "metadata": {},
     "output_type": "execute_result"
    },
    {
     "name": "stdout",
     "output_type": "stream",
     "text": [
      "after closing\n",
      "int64\n"
     ]
    },
    {
     "data": {
      "text/plain": [
       "'/mnt/ssd/data/gcn/ax_sax_from_flo/ax3d/0000-1PFT9CA1_2006-05-17_ED_img.nrrd'"
      ]
     },
     "execution_count": 125,
     "metadata": {},
     "output_type": "execute_result"
    },
    {
     "data": {
      "text/plain": [
       "'/mnt/ssd/data/gcn/ax_sax_from_flo/ax3d/0000-1PFT9CA1_2006-05-17_ED_msk.nrrd'"
      ]
     },
     "execution_count": 125,
     "metadata": {},
     "output_type": "execute_result"
    },
    {
     "name": "stdout",
     "output_type": "stream",
     "text": [
      "after closing\n",
      "int64\n"
     ]
    },
    {
     "data": {
      "text/plain": [
       "'/mnt/ssd/data/gcn/ax_sax_from_flo/ax3d/0000-1PFT9CA1_2006-05-17_ES_img.nrrd'"
      ]
     },
     "execution_count": 125,
     "metadata": {},
     "output_type": "execute_result"
    },
    {
     "data": {
      "text/plain": [
       "'/mnt/ssd/data/gcn/ax_sax_from_flo/ax3d/0000-1PFT9CA1_2006-05-17_ES_msk.nrrd'"
      ]
     },
     "execution_count": 125,
     "metadata": {},
     "output_type": "execute_result"
    },
    {
     "name": "stdout",
     "output_type": "stream",
     "text": [
      "after closing\n",
      "int64\n"
     ]
    },
    {
     "data": {
      "text/plain": [
       "'/mnt/ssd/data/gcn/ax_sax_from_flo/ax3d/0000-24YLF77L_2007-11-19_ED_img.nrrd'"
      ]
     },
     "execution_count": 125,
     "metadata": {},
     "output_type": "execute_result"
    },
    {
     "data": {
      "text/plain": [
       "'/mnt/ssd/data/gcn/ax_sax_from_flo/ax3d/0000-24YLF77L_2007-11-19_ED_msk.nrrd'"
      ]
     },
     "execution_count": 125,
     "metadata": {},
     "output_type": "execute_result"
    },
    {
     "name": "stdout",
     "output_type": "stream",
     "text": [
      "after closing\n",
      "int64\n"
     ]
    },
    {
     "data": {
      "text/plain": [
       "'/mnt/ssd/data/gcn/ax_sax_from_flo/ax3d/0000-24YLF77L_2007-11-19_ES_img.nrrd'"
      ]
     },
     "execution_count": 125,
     "metadata": {},
     "output_type": "execute_result"
    },
    {
     "data": {
      "text/plain": [
       "'/mnt/ssd/data/gcn/ax_sax_from_flo/ax3d/0000-24YLF77L_2007-11-19_ES_msk.nrrd'"
      ]
     },
     "execution_count": 125,
     "metadata": {},
     "output_type": "execute_result"
    },
    {
     "name": "stdout",
     "output_type": "stream",
     "text": [
      "after closing\n",
      "int64\n"
     ]
    },
    {
     "data": {
      "text/plain": [
       "'/mnt/ssd/data/gcn/ax_sax_from_flo/ax3d/0000-2CVUG1C5_2006-09-06_ED_img.nrrd'"
      ]
     },
     "execution_count": 125,
     "metadata": {},
     "output_type": "execute_result"
    },
    {
     "data": {
      "text/plain": [
       "'/mnt/ssd/data/gcn/ax_sax_from_flo/ax3d/0000-2CVUG1C5_2006-09-06_ED_msk.nrrd'"
      ]
     },
     "execution_count": 125,
     "metadata": {},
     "output_type": "execute_result"
    },
    {
     "name": "stdout",
     "output_type": "stream",
     "text": [
      "after closing\n",
      "int64\n"
     ]
    },
    {
     "data": {
      "text/plain": [
       "'/mnt/ssd/data/gcn/ax_sax_from_flo/ax3d/0000-2CVUG1C5_2006-09-06_ES_img.nrrd'"
      ]
     },
     "execution_count": 125,
     "metadata": {},
     "output_type": "execute_result"
    },
    {
     "data": {
      "text/plain": [
       "'/mnt/ssd/data/gcn/ax_sax_from_flo/ax3d/0000-2CVUG1C5_2006-09-06_ES_msk.nrrd'"
      ]
     },
     "execution_count": 125,
     "metadata": {},
     "output_type": "execute_result"
    },
    {
     "name": "stdout",
     "output_type": "stream",
     "text": [
      "after closing\n",
      "int64\n"
     ]
    },
    {
     "data": {
      "text/plain": [
       "'/mnt/ssd/data/gcn/ax_sax_from_flo/ax3d/0000-2CW0G1A5_2006-04-06_ED_img.nrrd'"
      ]
     },
     "execution_count": 125,
     "metadata": {},
     "output_type": "execute_result"
    },
    {
     "data": {
      "text/plain": [
       "'/mnt/ssd/data/gcn/ax_sax_from_flo/ax3d/0000-2CW0G1A5_2006-04-06_ED_msk.nrrd'"
      ]
     },
     "execution_count": 125,
     "metadata": {},
     "output_type": "execute_result"
    },
    {
     "name": "stdout",
     "output_type": "stream",
     "text": [
      "after closing\n",
      "int64\n"
     ]
    },
    {
     "data": {
      "text/plain": [
       "'/mnt/ssd/data/gcn/ax_sax_from_flo/ax3d/0000-2CW0G1A5_2006-04-06_ES_img.nrrd'"
      ]
     },
     "execution_count": 125,
     "metadata": {},
     "output_type": "execute_result"
    },
    {
     "data": {
      "text/plain": [
       "'/mnt/ssd/data/gcn/ax_sax_from_flo/ax3d/0000-2CW0G1A5_2006-04-06_ES_msk.nrrd'"
      ]
     },
     "execution_count": 125,
     "metadata": {},
     "output_type": "execute_result"
    },
    {
     "name": "stdout",
     "output_type": "stream",
     "text": [
      "after closing\n",
      "int64\n"
     ]
    },
    {
     "data": {
      "text/plain": [
       "'/mnt/ssd/data/gcn/ax_sax_from_flo/ax3d/0000-2FUH59VD_2006-08-24_ED_img.nrrd'"
      ]
     },
     "execution_count": 125,
     "metadata": {},
     "output_type": "execute_result"
    },
    {
     "data": {
      "text/plain": [
       "'/mnt/ssd/data/gcn/ax_sax_from_flo/ax3d/0000-2FUH59VD_2006-08-24_ED_msk.nrrd'"
      ]
     },
     "execution_count": 125,
     "metadata": {},
     "output_type": "execute_result"
    },
    {
     "name": "stdout",
     "output_type": "stream",
     "text": [
      "after closing\n",
      "int64\n"
     ]
    },
    {
     "data": {
      "text/plain": [
       "'/mnt/ssd/data/gcn/ax_sax_from_flo/ax3d/0000-2FUH59VD_2006-08-24_ES_img.nrrd'"
      ]
     },
     "execution_count": 125,
     "metadata": {},
     "output_type": "execute_result"
    },
    {
     "data": {
      "text/plain": [
       "'/mnt/ssd/data/gcn/ax_sax_from_flo/ax3d/0000-2FUH59VD_2006-08-24_ES_msk.nrrd'"
      ]
     },
     "execution_count": 125,
     "metadata": {},
     "output_type": "execute_result"
    },
    {
     "name": "stdout",
     "output_type": "stream",
     "text": [
      "after closing\n",
      "int64\n"
     ]
    },
    {
     "data": {
      "text/plain": [
       "'/mnt/ssd/data/gcn/ax_sax_from_flo/ax3d/0000-2HQVK81W_2005-03-11_ED_img.nrrd'"
      ]
     },
     "execution_count": 125,
     "metadata": {},
     "output_type": "execute_result"
    },
    {
     "data": {
      "text/plain": [
       "'/mnt/ssd/data/gcn/ax_sax_from_flo/ax3d/0000-2HQVK81W_2005-03-11_ED_msk.nrrd'"
      ]
     },
     "execution_count": 125,
     "metadata": {},
     "output_type": "execute_result"
    },
    {
     "name": "stdout",
     "output_type": "stream",
     "text": [
      "after closing\n",
      "int64\n"
     ]
    },
    {
     "data": {
      "text/plain": [
       "'/mnt/ssd/data/gcn/ax_sax_from_flo/ax3d/0000-2HQVK81W_2005-03-11_ES_img.nrrd'"
      ]
     },
     "execution_count": 125,
     "metadata": {},
     "output_type": "execute_result"
    },
    {
     "data": {
      "text/plain": [
       "'/mnt/ssd/data/gcn/ax_sax_from_flo/ax3d/0000-2HQVK81W_2005-03-11_ES_msk.nrrd'"
      ]
     },
     "execution_count": 125,
     "metadata": {},
     "output_type": "execute_result"
    },
    {
     "name": "stdout",
     "output_type": "stream",
     "text": [
      "after closing\n",
      "int64\n"
     ]
    },
    {
     "data": {
      "text/plain": [
       "'/mnt/ssd/data/gcn/ax_sax_from_flo/ax3d/0000-2V8HJLHN_2005-08-30_ED_img.nrrd'"
      ]
     },
     "execution_count": 125,
     "metadata": {},
     "output_type": "execute_result"
    },
    {
     "data": {
      "text/plain": [
       "'/mnt/ssd/data/gcn/ax_sax_from_flo/ax3d/0000-2V8HJLHN_2005-08-30_ED_msk.nrrd'"
      ]
     },
     "execution_count": 125,
     "metadata": {},
     "output_type": "execute_result"
    },
    {
     "name": "stdout",
     "output_type": "stream",
     "text": [
      "after closing\n",
      "int64\n"
     ]
    },
    {
     "data": {
      "text/plain": [
       "'/mnt/ssd/data/gcn/ax_sax_from_flo/ax3d/0000-2V8HJLHN_2005-08-30_ES_img.nrrd'"
      ]
     },
     "execution_count": 125,
     "metadata": {},
     "output_type": "execute_result"
    },
    {
     "data": {
      "text/plain": [
       "'/mnt/ssd/data/gcn/ax_sax_from_flo/ax3d/0000-2V8HJLHN_2005-08-30_ES_msk.nrrd'"
      ]
     },
     "execution_count": 125,
     "metadata": {},
     "output_type": "execute_result"
    },
    {
     "name": "stdout",
     "output_type": "stream",
     "text": [
      "after closing\n",
      "int64\n"
     ]
    },
    {
     "data": {
      "text/plain": [
       "'/mnt/ssd/data/gcn/ax_sax_from_flo/ax3d/0000-2VRMJ3ZF_2006-01-17_ED_img.nrrd'"
      ]
     },
     "execution_count": 125,
     "metadata": {},
     "output_type": "execute_result"
    },
    {
     "data": {
      "text/plain": [
       "'/mnt/ssd/data/gcn/ax_sax_from_flo/ax3d/0000-2VRMJ3ZF_2006-01-17_ED_msk.nrrd'"
      ]
     },
     "execution_count": 125,
     "metadata": {},
     "output_type": "execute_result"
    },
    {
     "name": "stdout",
     "output_type": "stream",
     "text": [
      "after closing\n",
      "int64\n"
     ]
    },
    {
     "data": {
      "text/plain": [
       "'/mnt/ssd/data/gcn/ax_sax_from_flo/ax3d/0000-2VRMJ3ZF_2006-01-17_ES_img.nrrd'"
      ]
     },
     "execution_count": 125,
     "metadata": {},
     "output_type": "execute_result"
    },
    {
     "data": {
      "text/plain": [
       "'/mnt/ssd/data/gcn/ax_sax_from_flo/ax3d/0000-2VRMJ3ZF_2006-01-17_ES_msk.nrrd'"
      ]
     },
     "execution_count": 125,
     "metadata": {},
     "output_type": "execute_result"
    },
    {
     "name": "stdout",
     "output_type": "stream",
     "text": [
      "after closing\n",
      "int64\n"
     ]
    },
    {
     "data": {
      "text/plain": [
       "'/mnt/ssd/data/gcn/ax_sax_from_flo/ax3d/0000-2WHFP73X_2007-03-28_ED_img.nrrd'"
      ]
     },
     "execution_count": 125,
     "metadata": {},
     "output_type": "execute_result"
    },
    {
     "data": {
      "text/plain": [
       "'/mnt/ssd/data/gcn/ax_sax_from_flo/ax3d/0000-2WHFP73X_2007-03-28_ED_msk.nrrd'"
      ]
     },
     "execution_count": 125,
     "metadata": {},
     "output_type": "execute_result"
    },
    {
     "name": "stdout",
     "output_type": "stream",
     "text": [
      "after closing\n",
      "int64\n"
     ]
    },
    {
     "data": {
      "text/plain": [
       "'/mnt/ssd/data/gcn/ax_sax_from_flo/ax3d/0000-2WHFP73X_2007-03-28_ES_img.nrrd'"
      ]
     },
     "execution_count": 125,
     "metadata": {},
     "output_type": "execute_result"
    },
    {
     "data": {
      "text/plain": [
       "'/mnt/ssd/data/gcn/ax_sax_from_flo/ax3d/0000-2WHFP73X_2007-03-28_ES_msk.nrrd'"
      ]
     },
     "execution_count": 125,
     "metadata": {},
     "output_type": "execute_result"
    },
    {
     "name": "stdout",
     "output_type": "stream",
     "text": [
      "after closing\n",
      "int64\n"
     ]
    },
    {
     "data": {
      "text/plain": [
       "'/mnt/ssd/data/gcn/ax_sax_from_flo/ax3d/0000-2XRR719Z_2005-05-02_ED_img.nrrd'"
      ]
     },
     "execution_count": 125,
     "metadata": {},
     "output_type": "execute_result"
    },
    {
     "data": {
      "text/plain": [
       "'/mnt/ssd/data/gcn/ax_sax_from_flo/ax3d/0000-2XRR719Z_2005-05-02_ED_msk.nrrd'"
      ]
     },
     "execution_count": 125,
     "metadata": {},
     "output_type": "execute_result"
    },
    {
     "name": "stdout",
     "output_type": "stream",
     "text": [
      "after closing\n",
      "int64\n"
     ]
    },
    {
     "data": {
      "text/plain": [
       "'/mnt/ssd/data/gcn/ax_sax_from_flo/ax3d/0000-2XRR719Z_2005-05-02_ES_img.nrrd'"
      ]
     },
     "execution_count": 125,
     "metadata": {},
     "output_type": "execute_result"
    },
    {
     "data": {
      "text/plain": [
       "'/mnt/ssd/data/gcn/ax_sax_from_flo/ax3d/0000-2XRR719Z_2005-05-02_ES_msk.nrrd'"
      ]
     },
     "execution_count": 125,
     "metadata": {},
     "output_type": "execute_result"
    },
    {
     "name": "stdout",
     "output_type": "stream",
     "text": [
      "after closing\n",
      "int64\n"
     ]
    },
    {
     "data": {
      "text/plain": [
       "'/mnt/ssd/data/gcn/ax_sax_from_flo/ax3d/0000-2Y9U5LLC_2006-07-24_ED_img.nrrd'"
      ]
     },
     "execution_count": 125,
     "metadata": {},
     "output_type": "execute_result"
    },
    {
     "data": {
      "text/plain": [
       "'/mnt/ssd/data/gcn/ax_sax_from_flo/ax3d/0000-2Y9U5LLC_2006-07-24_ED_msk.nrrd'"
      ]
     },
     "execution_count": 125,
     "metadata": {},
     "output_type": "execute_result"
    },
    {
     "name": "stdout",
     "output_type": "stream",
     "text": [
      "after closing\n",
      "int64\n"
     ]
    },
    {
     "data": {
      "text/plain": [
       "'/mnt/ssd/data/gcn/ax_sax_from_flo/ax3d/0000-2Y9U5LLC_2006-07-24_ES_img.nrrd'"
      ]
     },
     "execution_count": 125,
     "metadata": {},
     "output_type": "execute_result"
    },
    {
     "data": {
      "text/plain": [
       "'/mnt/ssd/data/gcn/ax_sax_from_flo/ax3d/0000-2Y9U5LLC_2006-07-24_ES_msk.nrrd'"
      ]
     },
     "execution_count": 125,
     "metadata": {},
     "output_type": "execute_result"
    },
    {
     "name": "stdout",
     "output_type": "stream",
     "text": [
      "after closing\n",
      "int64\n"
     ]
    },
    {
     "data": {
      "text/plain": [
       "'/mnt/ssd/data/gcn/ax_sax_from_flo/ax3d/0000-3E8U83K5_2006-04-01_ED_img.nrrd'"
      ]
     },
     "execution_count": 125,
     "metadata": {},
     "output_type": "execute_result"
    },
    {
     "data": {
      "text/plain": [
       "'/mnt/ssd/data/gcn/ax_sax_from_flo/ax3d/0000-3E8U83K5_2006-04-01_ED_msk.nrrd'"
      ]
     },
     "execution_count": 125,
     "metadata": {},
     "output_type": "execute_result"
    },
    {
     "name": "stdout",
     "output_type": "stream",
     "text": [
      "after closing\n",
      "int64\n"
     ]
    },
    {
     "data": {
      "text/plain": [
       "'/mnt/ssd/data/gcn/ax_sax_from_flo/ax3d/0000-3E8U83K5_2006-04-01_ES_img.nrrd'"
      ]
     },
     "execution_count": 125,
     "metadata": {},
     "output_type": "execute_result"
    },
    {
     "data": {
      "text/plain": [
       "'/mnt/ssd/data/gcn/ax_sax_from_flo/ax3d/0000-3E8U83K5_2006-04-01_ES_msk.nrrd'"
      ]
     },
     "execution_count": 125,
     "metadata": {},
     "output_type": "execute_result"
    },
    {
     "name": "stdout",
     "output_type": "stream",
     "text": [
      "after closing\n",
      "int64\n"
     ]
    },
    {
     "data": {
      "text/plain": [
       "'/mnt/ssd/data/gcn/ax_sax_from_flo/ax3d/0000-3E90836W_2006-05-23_ED_img.nrrd'"
      ]
     },
     "execution_count": 125,
     "metadata": {},
     "output_type": "execute_result"
    },
    {
     "data": {
      "text/plain": [
       "'/mnt/ssd/data/gcn/ax_sax_from_flo/ax3d/0000-3E90836W_2006-05-23_ED_msk.nrrd'"
      ]
     },
     "execution_count": 125,
     "metadata": {},
     "output_type": "execute_result"
    },
    {
     "name": "stdout",
     "output_type": "stream",
     "text": [
      "after closing\n",
      "int64\n"
     ]
    },
    {
     "data": {
      "text/plain": [
       "'/mnt/ssd/data/gcn/ax_sax_from_flo/ax3d/0000-3E90836W_2006-05-23_ES_img.nrrd'"
      ]
     },
     "execution_count": 125,
     "metadata": {},
     "output_type": "execute_result"
    },
    {
     "data": {
      "text/plain": [
       "'/mnt/ssd/data/gcn/ax_sax_from_flo/ax3d/0000-3E90836W_2006-05-23_ES_msk.nrrd'"
      ]
     },
     "execution_count": 125,
     "metadata": {},
     "output_type": "execute_result"
    },
    {
     "name": "stdout",
     "output_type": "stream",
     "text": [
      "after closing\n",
      "int64\n"
     ]
    },
    {
     "data": {
      "text/plain": [
       "'/mnt/ssd/data/gcn/ax_sax_from_flo/ax3d/0000-3EX293QC_2006-06-19_ED_img.nrrd'"
      ]
     },
     "execution_count": 125,
     "metadata": {},
     "output_type": "execute_result"
    },
    {
     "data": {
      "text/plain": [
       "'/mnt/ssd/data/gcn/ax_sax_from_flo/ax3d/0000-3EX293QC_2006-06-19_ED_msk.nrrd'"
      ]
     },
     "execution_count": 125,
     "metadata": {},
     "output_type": "execute_result"
    },
    {
     "name": "stdout",
     "output_type": "stream",
     "text": [
      "after closing\n",
      "int64\n"
     ]
    },
    {
     "data": {
      "text/plain": [
       "'/mnt/ssd/data/gcn/ax_sax_from_flo/ax3d/0000-3EX293QC_2006-06-19_ES_img.nrrd'"
      ]
     },
     "execution_count": 125,
     "metadata": {},
     "output_type": "execute_result"
    },
    {
     "data": {
      "text/plain": [
       "'/mnt/ssd/data/gcn/ax_sax_from_flo/ax3d/0000-3EX293QC_2006-06-19_ES_msk.nrrd'"
      ]
     },
     "execution_count": 125,
     "metadata": {},
     "output_type": "execute_result"
    },
    {
     "name": "stdout",
     "output_type": "stream",
     "text": [
      "after closing\n",
      "int64\n"
     ]
    },
    {
     "data": {
      "text/plain": [
       "'/mnt/ssd/data/gcn/ax_sax_from_flo/ax3d/0000-3HQQHA3N_2006-03-01_ED_img.nrrd'"
      ]
     },
     "execution_count": 125,
     "metadata": {},
     "output_type": "execute_result"
    },
    {
     "data": {
      "text/plain": [
       "'/mnt/ssd/data/gcn/ax_sax_from_flo/ax3d/0000-3HQQHA3N_2006-03-01_ED_msk.nrrd'"
      ]
     },
     "execution_count": 125,
     "metadata": {},
     "output_type": "execute_result"
    },
    {
     "name": "stdout",
     "output_type": "stream",
     "text": [
      "after closing\n",
      "int64\n"
     ]
    },
    {
     "data": {
      "text/plain": [
       "'/mnt/ssd/data/gcn/ax_sax_from_flo/ax3d/0000-3HQQHA3N_2006-03-01_ES_img.nrrd'"
      ]
     },
     "execution_count": 125,
     "metadata": {},
     "output_type": "execute_result"
    },
    {
     "data": {
      "text/plain": [
       "'/mnt/ssd/data/gcn/ax_sax_from_flo/ax3d/0000-3HQQHA3N_2006-03-01_ES_msk.nrrd'"
      ]
     },
     "execution_count": 125,
     "metadata": {},
     "output_type": "execute_result"
    },
    {
     "name": "stdout",
     "output_type": "stream",
     "text": [
      "after closing\n",
      "int64\n"
     ]
    },
    {
     "data": {
      "text/plain": [
       "'/mnt/ssd/data/gcn/ax_sax_from_flo/ax3d/0000-3HYXWJWW_2006-11-17_ED_img.nrrd'"
      ]
     },
     "execution_count": 125,
     "metadata": {},
     "output_type": "execute_result"
    },
    {
     "data": {
      "text/plain": [
       "'/mnt/ssd/data/gcn/ax_sax_from_flo/ax3d/0000-3HYXWJWW_2006-11-17_ED_msk.nrrd'"
      ]
     },
     "execution_count": 125,
     "metadata": {},
     "output_type": "execute_result"
    },
    {
     "name": "stdout",
     "output_type": "stream",
     "text": [
      "after closing\n",
      "int64\n"
     ]
    },
    {
     "data": {
      "text/plain": [
       "'/mnt/ssd/data/gcn/ax_sax_from_flo/ax3d/0000-3HYXWJWW_2006-11-17_ES_img.nrrd'"
      ]
     },
     "execution_count": 125,
     "metadata": {},
     "output_type": "execute_result"
    },
    {
     "data": {
      "text/plain": [
       "'/mnt/ssd/data/gcn/ax_sax_from_flo/ax3d/0000-3HYXWJWW_2006-11-17_ES_msk.nrrd'"
      ]
     },
     "execution_count": 125,
     "metadata": {},
     "output_type": "execute_result"
    },
    {
     "name": "stdout",
     "output_type": "stream",
     "text": [
      "after closing\n",
      "int64\n"
     ]
    },
    {
     "data": {
      "text/plain": [
       "'/mnt/ssd/data/gcn/ax_sax_from_flo/ax3d/0000-3U3KT9LV_2006-12-19_ED_img.nrrd'"
      ]
     },
     "execution_count": 125,
     "metadata": {},
     "output_type": "execute_result"
    },
    {
     "data": {
      "text/plain": [
       "'/mnt/ssd/data/gcn/ax_sax_from_flo/ax3d/0000-3U3KT9LV_2006-12-19_ED_msk.nrrd'"
      ]
     },
     "execution_count": 125,
     "metadata": {},
     "output_type": "execute_result"
    },
    {
     "name": "stdout",
     "output_type": "stream",
     "text": [
      "after closing\n",
      "int64\n"
     ]
    },
    {
     "data": {
      "text/plain": [
       "'/mnt/ssd/data/gcn/ax_sax_from_flo/ax3d/0000-3U3KT9LV_2006-12-19_ES_img.nrrd'"
      ]
     },
     "execution_count": 125,
     "metadata": {},
     "output_type": "execute_result"
    },
    {
     "data": {
      "text/plain": [
       "'/mnt/ssd/data/gcn/ax_sax_from_flo/ax3d/0000-3U3KT9LV_2006-12-19_ES_msk.nrrd'"
      ]
     },
     "execution_count": 125,
     "metadata": {},
     "output_type": "execute_result"
    },
    {
     "name": "stdout",
     "output_type": "stream",
     "text": [
      "after closing\n",
      "int64\n"
     ]
    },
    {
     "data": {
      "text/plain": [
       "'/mnt/ssd/data/gcn/ax_sax_from_flo/ax3d/0000-44U3AGET_2006-08-01_ED_img.nrrd'"
      ]
     },
     "execution_count": 125,
     "metadata": {},
     "output_type": "execute_result"
    },
    {
     "data": {
      "text/plain": [
       "'/mnt/ssd/data/gcn/ax_sax_from_flo/ax3d/0000-44U3AGET_2006-08-01_ED_msk.nrrd'"
      ]
     },
     "execution_count": 125,
     "metadata": {},
     "output_type": "execute_result"
    },
    {
     "name": "stdout",
     "output_type": "stream",
     "text": [
      "after closing\n",
      "int64\n"
     ]
    },
    {
     "data": {
      "text/plain": [
       "'/mnt/ssd/data/gcn/ax_sax_from_flo/ax3d/0000-44U3AGET_2006-08-01_ES_img.nrrd'"
      ]
     },
     "execution_count": 125,
     "metadata": {},
     "output_type": "execute_result"
    },
    {
     "data": {
      "text/plain": [
       "'/mnt/ssd/data/gcn/ax_sax_from_flo/ax3d/0000-44U3AGET_2006-08-01_ES_msk.nrrd'"
      ]
     },
     "execution_count": 125,
     "metadata": {},
     "output_type": "execute_result"
    },
    {
     "name": "stdout",
     "output_type": "stream",
     "text": [
      "after closing\n",
      "int64\n"
     ]
    },
    {
     "data": {
      "text/plain": [
       "'/mnt/ssd/data/gcn/ax_sax_from_flo/ax3d/0000-49RHVC6C_2005-11-22_ED_img.nrrd'"
      ]
     },
     "execution_count": 125,
     "metadata": {},
     "output_type": "execute_result"
    },
    {
     "data": {
      "text/plain": [
       "'/mnt/ssd/data/gcn/ax_sax_from_flo/ax3d/0000-49RHVC6C_2005-11-22_ED_msk.nrrd'"
      ]
     },
     "execution_count": 125,
     "metadata": {},
     "output_type": "execute_result"
    },
    {
     "name": "stdout",
     "output_type": "stream",
     "text": [
      "after closing\n",
      "int64\n"
     ]
    },
    {
     "data": {
      "text/plain": [
       "'/mnt/ssd/data/gcn/ax_sax_from_flo/ax3d/0000-49RHVC6C_2005-11-22_ES_img.nrrd'"
      ]
     },
     "execution_count": 125,
     "metadata": {},
     "output_type": "execute_result"
    },
    {
     "data": {
      "text/plain": [
       "'/mnt/ssd/data/gcn/ax_sax_from_flo/ax3d/0000-49RHVC6C_2005-11-22_ES_msk.nrrd'"
      ]
     },
     "execution_count": 125,
     "metadata": {},
     "output_type": "execute_result"
    },
    {
     "name": "stdout",
     "output_type": "stream",
     "text": [
      "after closing\n",
      "int64\n"
     ]
    },
    {
     "data": {
      "text/plain": [
       "'/mnt/ssd/data/gcn/ax_sax_from_flo/ax3d/0000-4A4PVCYL_2006-09-01_ED_img.nrrd'"
      ]
     },
     "execution_count": 125,
     "metadata": {},
     "output_type": "execute_result"
    },
    {
     "data": {
      "text/plain": [
       "'/mnt/ssd/data/gcn/ax_sax_from_flo/ax3d/0000-4A4PVCYL_2006-09-01_ED_msk.nrrd'"
      ]
     },
     "execution_count": 125,
     "metadata": {},
     "output_type": "execute_result"
    },
    {
     "name": "stdout",
     "output_type": "stream",
     "text": [
      "after closing\n",
      "int64\n"
     ]
    },
    {
     "data": {
      "text/plain": [
       "'/mnt/ssd/data/gcn/ax_sax_from_flo/ax3d/0000-4A4PVCYL_2006-09-01_ES_img.nrrd'"
      ]
     },
     "execution_count": 125,
     "metadata": {},
     "output_type": "execute_result"
    },
    {
     "data": {
      "text/plain": [
       "'/mnt/ssd/data/gcn/ax_sax_from_flo/ax3d/0000-4A4PVCYL_2006-09-01_ES_msk.nrrd'"
      ]
     },
     "execution_count": 125,
     "metadata": {},
     "output_type": "execute_result"
    },
    {
     "name": "stdout",
     "output_type": "stream",
     "text": [
      "after closing\n",
      "int64\n"
     ]
    },
    {
     "data": {
      "text/plain": [
       "'/mnt/ssd/data/gcn/ax_sax_from_flo/ax3d/0000-4EUFPCDM_2007-01-15_ED_img.nrrd'"
      ]
     },
     "execution_count": 125,
     "metadata": {},
     "output_type": "execute_result"
    },
    {
     "data": {
      "text/plain": [
       "'/mnt/ssd/data/gcn/ax_sax_from_flo/ax3d/0000-4EUFPCDM_2007-01-15_ED_msk.nrrd'"
      ]
     },
     "execution_count": 125,
     "metadata": {},
     "output_type": "execute_result"
    },
    {
     "name": "stdout",
     "output_type": "stream",
     "text": [
      "after closing\n",
      "int64\n"
     ]
    },
    {
     "data": {
      "text/plain": [
       "'/mnt/ssd/data/gcn/ax_sax_from_flo/ax3d/0000-4EUFPCDM_2007-01-15_ES_img.nrrd'"
      ]
     },
     "execution_count": 125,
     "metadata": {},
     "output_type": "execute_result"
    },
    {
     "data": {
      "text/plain": [
       "'/mnt/ssd/data/gcn/ax_sax_from_flo/ax3d/0000-4EUFPCDM_2007-01-15_ES_msk.nrrd'"
      ]
     },
     "execution_count": 125,
     "metadata": {},
     "output_type": "execute_result"
    },
    {
     "name": "stdout",
     "output_type": "stream",
     "text": [
      "after closing\n",
      "int64\n"
     ]
    },
    {
     "data": {
      "text/plain": [
       "'/mnt/ssd/data/gcn/ax_sax_from_flo/ax3d/0000-5RMHZGWP_2006-08-03_ED_img.nrrd'"
      ]
     },
     "execution_count": 125,
     "metadata": {},
     "output_type": "execute_result"
    },
    {
     "data": {
      "text/plain": [
       "'/mnt/ssd/data/gcn/ax_sax_from_flo/ax3d/0000-5RMHZGWP_2006-08-03_ED_msk.nrrd'"
      ]
     },
     "execution_count": 125,
     "metadata": {},
     "output_type": "execute_result"
    },
    {
     "name": "stdout",
     "output_type": "stream",
     "text": [
      "after closing\n",
      "int64\n"
     ]
    },
    {
     "data": {
      "text/plain": [
       "'/mnt/ssd/data/gcn/ax_sax_from_flo/ax3d/0000-5RMHZGWP_2006-08-03_ES_img.nrrd'"
      ]
     },
     "execution_count": 125,
     "metadata": {},
     "output_type": "execute_result"
    },
    {
     "data": {
      "text/plain": [
       "'/mnt/ssd/data/gcn/ax_sax_from_flo/ax3d/0000-5RMHZGWP_2006-08-03_ES_msk.nrrd'"
      ]
     },
     "execution_count": 125,
     "metadata": {},
     "output_type": "execute_result"
    },
    {
     "name": "stdout",
     "output_type": "stream",
     "text": [
      "after closing\n",
      "int64\n"
     ]
    },
    {
     "data": {
      "text/plain": [
       "'/mnt/ssd/data/gcn/ax_sax_from_flo/ax3d/0000-5RRMWQX2_2005-06-10_ED_img.nrrd'"
      ]
     },
     "execution_count": 125,
     "metadata": {},
     "output_type": "execute_result"
    },
    {
     "data": {
      "text/plain": [
       "'/mnt/ssd/data/gcn/ax_sax_from_flo/ax3d/0000-5RRMWQX2_2005-06-10_ED_msk.nrrd'"
      ]
     },
     "execution_count": 125,
     "metadata": {},
     "output_type": "execute_result"
    },
    {
     "name": "stdout",
     "output_type": "stream",
     "text": [
      "after closing\n",
      "int64\n"
     ]
    },
    {
     "data": {
      "text/plain": [
       "'/mnt/ssd/data/gcn/ax_sax_from_flo/ax3d/0000-5RRMWQX2_2005-06-10_ES_img.nrrd'"
      ]
     },
     "execution_count": 125,
     "metadata": {},
     "output_type": "execute_result"
    },
    {
     "data": {
      "text/plain": [
       "'/mnt/ssd/data/gcn/ax_sax_from_flo/ax3d/0000-5RRMWQX2_2005-06-10_ES_msk.nrrd'"
      ]
     },
     "execution_count": 125,
     "metadata": {},
     "output_type": "execute_result"
    },
    {
     "name": "stdout",
     "output_type": "stream",
     "text": [
      "after closing\n",
      "int64\n"
     ]
    },
    {
     "data": {
      "text/plain": [
       "'/mnt/ssd/data/gcn/ax_sax_from_flo/ax3d/0000-5T8DXCQ2_2006-10-01_ED_img.nrrd'"
      ]
     },
     "execution_count": 125,
     "metadata": {},
     "output_type": "execute_result"
    },
    {
     "data": {
      "text/plain": [
       "'/mnt/ssd/data/gcn/ax_sax_from_flo/ax3d/0000-5T8DXCQ2_2006-10-01_ED_msk.nrrd'"
      ]
     },
     "execution_count": 125,
     "metadata": {},
     "output_type": "execute_result"
    },
    {
     "name": "stdout",
     "output_type": "stream",
     "text": [
      "after closing\n",
      "int64\n"
     ]
    },
    {
     "data": {
      "text/plain": [
       "'/mnt/ssd/data/gcn/ax_sax_from_flo/ax3d/0000-5T8DXCQ2_2006-10-01_ES_img.nrrd'"
      ]
     },
     "execution_count": 125,
     "metadata": {},
     "output_type": "execute_result"
    },
    {
     "data": {
      "text/plain": [
       "'/mnt/ssd/data/gcn/ax_sax_from_flo/ax3d/0000-5T8DXCQ2_2006-10-01_ES_msk.nrrd'"
      ]
     },
     "execution_count": 125,
     "metadata": {},
     "output_type": "execute_result"
    },
    {
     "name": "stdout",
     "output_type": "stream",
     "text": [
      "after closing\n",
      "int64\n"
     ]
    },
    {
     "data": {
      "text/plain": [
       "'/mnt/ssd/data/gcn/ax_sax_from_flo/ax3d/0000-5W8RFCJD_2005-04-18_ED_img.nrrd'"
      ]
     },
     "execution_count": 125,
     "metadata": {},
     "output_type": "execute_result"
    },
    {
     "data": {
      "text/plain": [
       "'/mnt/ssd/data/gcn/ax_sax_from_flo/ax3d/0000-5W8RFCJD_2005-04-18_ED_msk.nrrd'"
      ]
     },
     "execution_count": 125,
     "metadata": {},
     "output_type": "execute_result"
    },
    {
     "name": "stdout",
     "output_type": "stream",
     "text": [
      "after closing\n",
      "int64\n"
     ]
    },
    {
     "data": {
      "text/plain": [
       "'/mnt/ssd/data/gcn/ax_sax_from_flo/ax3d/0000-5W8RFCJD_2005-04-18_ES_img.nrrd'"
      ]
     },
     "execution_count": 125,
     "metadata": {},
     "output_type": "execute_result"
    },
    {
     "data": {
      "text/plain": [
       "'/mnt/ssd/data/gcn/ax_sax_from_flo/ax3d/0000-5W8RFCJD_2005-04-18_ES_msk.nrrd'"
      ]
     },
     "execution_count": 125,
     "metadata": {},
     "output_type": "execute_result"
    },
    {
     "name": "stdout",
     "output_type": "stream",
     "text": [
      "after closing\n",
      "int64\n"
     ]
    },
    {
     "data": {
      "text/plain": [
       "'/mnt/ssd/data/gcn/ax_sax_from_flo/ax3d/0000-6E5FAVTH_2007-03-28_ED_img.nrrd'"
      ]
     },
     "execution_count": 125,
     "metadata": {},
     "output_type": "execute_result"
    },
    {
     "data": {
      "text/plain": [
       "'/mnt/ssd/data/gcn/ax_sax_from_flo/ax3d/0000-6E5FAVTH_2007-03-28_ED_msk.nrrd'"
      ]
     },
     "execution_count": 125,
     "metadata": {},
     "output_type": "execute_result"
    },
    {
     "name": "stdout",
     "output_type": "stream",
     "text": [
      "after closing\n",
      "int64\n"
     ]
    },
    {
     "data": {
      "text/plain": [
       "'/mnt/ssd/data/gcn/ax_sax_from_flo/ax3d/0000-6E5FAVTH_2007-03-28_ES_img.nrrd'"
      ]
     },
     "execution_count": 125,
     "metadata": {},
     "output_type": "execute_result"
    },
    {
     "data": {
      "text/plain": [
       "'/mnt/ssd/data/gcn/ax_sax_from_flo/ax3d/0000-6E5FAVTH_2007-03-28_ES_msk.nrrd'"
      ]
     },
     "execution_count": 125,
     "metadata": {},
     "output_type": "execute_result"
    },
    {
     "name": "stdout",
     "output_type": "stream",
     "text": [
      "after closing\n",
      "int64\n"
     ]
    },
    {
     "data": {
      "text/plain": [
       "'/mnt/ssd/data/gcn/ax_sax_from_flo/ax3d/0000-73FTW74F_2006-11-28_ED_img.nrrd'"
      ]
     },
     "execution_count": 125,
     "metadata": {},
     "output_type": "execute_result"
    },
    {
     "data": {
      "text/plain": [
       "'/mnt/ssd/data/gcn/ax_sax_from_flo/ax3d/0000-73FTW74F_2006-11-28_ED_msk.nrrd'"
      ]
     },
     "execution_count": 125,
     "metadata": {},
     "output_type": "execute_result"
    },
    {
     "name": "stdout",
     "output_type": "stream",
     "text": [
      "after closing\n",
      "int64\n"
     ]
    },
    {
     "data": {
      "text/plain": [
       "'/mnt/ssd/data/gcn/ax_sax_from_flo/ax3d/0000-73FTW74F_2006-11-28_ES_img.nrrd'"
      ]
     },
     "execution_count": 125,
     "metadata": {},
     "output_type": "execute_result"
    },
    {
     "data": {
      "text/plain": [
       "'/mnt/ssd/data/gcn/ax_sax_from_flo/ax3d/0000-73FTW74F_2006-11-28_ES_msk.nrrd'"
      ]
     },
     "execution_count": 125,
     "metadata": {},
     "output_type": "execute_result"
    },
    {
     "name": "stdout",
     "output_type": "stream",
     "text": [
      "after closing\n",
      "int64\n"
     ]
    },
    {
     "data": {
      "text/plain": [
       "'/mnt/ssd/data/gcn/ax_sax_from_flo/ax3d/0000-76RJ3Z26_2006-11-23_ED_img.nrrd'"
      ]
     },
     "execution_count": 125,
     "metadata": {},
     "output_type": "execute_result"
    },
    {
     "data": {
      "text/plain": [
       "'/mnt/ssd/data/gcn/ax_sax_from_flo/ax3d/0000-76RJ3Z26_2006-11-23_ED_msk.nrrd'"
      ]
     },
     "execution_count": 125,
     "metadata": {},
     "output_type": "execute_result"
    },
    {
     "name": "stdout",
     "output_type": "stream",
     "text": [
      "after closing\n",
      "int64\n"
     ]
    },
    {
     "data": {
      "text/plain": [
       "'/mnt/ssd/data/gcn/ax_sax_from_flo/ax3d/0000-76RJ3Z26_2006-11-23_ES_img.nrrd'"
      ]
     },
     "execution_count": 125,
     "metadata": {},
     "output_type": "execute_result"
    },
    {
     "data": {
      "text/plain": [
       "'/mnt/ssd/data/gcn/ax_sax_from_flo/ax3d/0000-76RJ3Z26_2006-11-23_ES_msk.nrrd'"
      ]
     },
     "execution_count": 125,
     "metadata": {},
     "output_type": "execute_result"
    },
    {
     "name": "stdout",
     "output_type": "stream",
     "text": [
      "after closing\n",
      "int64\n"
     ]
    },
    {
     "data": {
      "text/plain": [
       "'/mnt/ssd/data/gcn/ax_sax_from_flo/ax3d/0000-84R7FQH3_2007-03-16_ED_img.nrrd'"
      ]
     },
     "execution_count": 125,
     "metadata": {},
     "output_type": "execute_result"
    },
    {
     "data": {
      "text/plain": [
       "'/mnt/ssd/data/gcn/ax_sax_from_flo/ax3d/0000-84R7FQH3_2007-03-16_ED_msk.nrrd'"
      ]
     },
     "execution_count": 125,
     "metadata": {},
     "output_type": "execute_result"
    },
    {
     "name": "stdout",
     "output_type": "stream",
     "text": [
      "after closing\n",
      "int64\n"
     ]
    },
    {
     "data": {
      "text/plain": [
       "'/mnt/ssd/data/gcn/ax_sax_from_flo/ax3d/0000-84R7FQH3_2007-03-16_ES_img.nrrd'"
      ]
     },
     "execution_count": 125,
     "metadata": {},
     "output_type": "execute_result"
    },
    {
     "data": {
      "text/plain": [
       "'/mnt/ssd/data/gcn/ax_sax_from_flo/ax3d/0000-84R7FQH3_2007-03-16_ES_msk.nrrd'"
      ]
     },
     "execution_count": 125,
     "metadata": {},
     "output_type": "execute_result"
    },
    {
     "name": "stdout",
     "output_type": "stream",
     "text": [
      "after closing\n",
      "int64\n"
     ]
    },
    {
     "data": {
      "text/plain": [
       "'/mnt/ssd/data/gcn/ax_sax_from_flo/ax3d/0000-8J5NZ5G7_2008-03-27_ED_img.nrrd'"
      ]
     },
     "execution_count": 125,
     "metadata": {},
     "output_type": "execute_result"
    },
    {
     "data": {
      "text/plain": [
       "'/mnt/ssd/data/gcn/ax_sax_from_flo/ax3d/0000-8J5NZ5G7_2008-03-27_ED_msk.nrrd'"
      ]
     },
     "execution_count": 125,
     "metadata": {},
     "output_type": "execute_result"
    },
    {
     "name": "stdout",
     "output_type": "stream",
     "text": [
      "after closing\n",
      "int64\n"
     ]
    },
    {
     "data": {
      "text/plain": [
       "'/mnt/ssd/data/gcn/ax_sax_from_flo/ax3d/0000-8J5NZ5G7_2008-03-27_ES_img.nrrd'"
      ]
     },
     "execution_count": 125,
     "metadata": {},
     "output_type": "execute_result"
    },
    {
     "data": {
      "text/plain": [
       "'/mnt/ssd/data/gcn/ax_sax_from_flo/ax3d/0000-8J5NZ5G7_2008-03-27_ES_msk.nrrd'"
      ]
     },
     "execution_count": 125,
     "metadata": {},
     "output_type": "execute_result"
    },
    {
     "name": "stdout",
     "output_type": "stream",
     "text": [
      "after closing\n",
      "int64\n"
     ]
    },
    {
     "data": {
      "text/plain": [
       "'/mnt/ssd/data/gcn/ax_sax_from_flo/ax3d/0000-8NFJ8VMR_2006-11-10_ED_img.nrrd'"
      ]
     },
     "execution_count": 125,
     "metadata": {},
     "output_type": "execute_result"
    },
    {
     "data": {
      "text/plain": [
       "'/mnt/ssd/data/gcn/ax_sax_from_flo/ax3d/0000-8NFJ8VMR_2006-11-10_ED_msk.nrrd'"
      ]
     },
     "execution_count": 125,
     "metadata": {},
     "output_type": "execute_result"
    },
    {
     "name": "stdout",
     "output_type": "stream",
     "text": [
      "after closing\n",
      "int64\n"
     ]
    },
    {
     "data": {
      "text/plain": [
       "'/mnt/ssd/data/gcn/ax_sax_from_flo/ax3d/0000-8NFJ8VMR_2006-11-10_ES_img.nrrd'"
      ]
     },
     "execution_count": 125,
     "metadata": {},
     "output_type": "execute_result"
    },
    {
     "data": {
      "text/plain": [
       "'/mnt/ssd/data/gcn/ax_sax_from_flo/ax3d/0000-8NFJ8VMR_2006-11-10_ES_msk.nrrd'"
      ]
     },
     "execution_count": 125,
     "metadata": {},
     "output_type": "execute_result"
    },
    {
     "name": "stdout",
     "output_type": "stream",
     "text": [
      "after closing\n",
      "int64\n"
     ]
    },
    {
     "data": {
      "text/plain": [
       "'/mnt/ssd/data/gcn/ax_sax_from_flo/ax3d/0000-8WTUG5ML_2006-07-27_ED_img.nrrd'"
      ]
     },
     "execution_count": 125,
     "metadata": {},
     "output_type": "execute_result"
    },
    {
     "data": {
      "text/plain": [
       "'/mnt/ssd/data/gcn/ax_sax_from_flo/ax3d/0000-8WTUG5ML_2006-07-27_ED_msk.nrrd'"
      ]
     },
     "execution_count": 125,
     "metadata": {},
     "output_type": "execute_result"
    },
    {
     "name": "stdout",
     "output_type": "stream",
     "text": [
      "after closing\n",
      "int64\n"
     ]
    },
    {
     "data": {
      "text/plain": [
       "'/mnt/ssd/data/gcn/ax_sax_from_flo/ax3d/0000-8WTUG5ML_2006-07-27_ES_img.nrrd'"
      ]
     },
     "execution_count": 125,
     "metadata": {},
     "output_type": "execute_result"
    },
    {
     "data": {
      "text/plain": [
       "'/mnt/ssd/data/gcn/ax_sax_from_flo/ax3d/0000-8WTUG5ML_2006-07-27_ES_msk.nrrd'"
      ]
     },
     "execution_count": 125,
     "metadata": {},
     "output_type": "execute_result"
    },
    {
     "name": "stdout",
     "output_type": "stream",
     "text": [
      "after closing\n",
      "int64\n"
     ]
    },
    {
     "data": {
      "text/plain": [
       "'/mnt/ssd/data/gcn/ax_sax_from_flo/ax3d/0000-9A8UTCZ4_2007-03-16_ED_img.nrrd'"
      ]
     },
     "execution_count": 125,
     "metadata": {},
     "output_type": "execute_result"
    },
    {
     "data": {
      "text/plain": [
       "'/mnt/ssd/data/gcn/ax_sax_from_flo/ax3d/0000-9A8UTCZ4_2007-03-16_ED_msk.nrrd'"
      ]
     },
     "execution_count": 125,
     "metadata": {},
     "output_type": "execute_result"
    },
    {
     "name": "stdout",
     "output_type": "stream",
     "text": [
      "after closing\n",
      "int64\n"
     ]
    },
    {
     "data": {
      "text/plain": [
       "'/mnt/ssd/data/gcn/ax_sax_from_flo/ax3d/0000-9A8UTCZ4_2007-03-16_ES_img.nrrd'"
      ]
     },
     "execution_count": 125,
     "metadata": {},
     "output_type": "execute_result"
    },
    {
     "data": {
      "text/plain": [
       "'/mnt/ssd/data/gcn/ax_sax_from_flo/ax3d/0000-9A8UTCZ4_2007-03-16_ES_msk.nrrd'"
      ]
     },
     "execution_count": 125,
     "metadata": {},
     "output_type": "execute_result"
    },
    {
     "name": "stdout",
     "output_type": "stream",
     "text": [
      "after closing\n",
      "int64\n"
     ]
    },
    {
     "data": {
      "text/plain": [
       "'/mnt/ssd/data/gcn/ax_sax_from_flo/ax3d/0000-9HQPRPDH_2006-01-31_ED_img.nrrd'"
      ]
     },
     "execution_count": 125,
     "metadata": {},
     "output_type": "execute_result"
    },
    {
     "data": {
      "text/plain": [
       "'/mnt/ssd/data/gcn/ax_sax_from_flo/ax3d/0000-9HQPRPDH_2006-01-31_ED_msk.nrrd'"
      ]
     },
     "execution_count": 125,
     "metadata": {},
     "output_type": "execute_result"
    },
    {
     "name": "stdout",
     "output_type": "stream",
     "text": [
      "after closing\n",
      "int64\n"
     ]
    },
    {
     "data": {
      "text/plain": [
       "'/mnt/ssd/data/gcn/ax_sax_from_flo/ax3d/0000-9HQPRPDH_2006-01-31_ES_img.nrrd'"
      ]
     },
     "execution_count": 125,
     "metadata": {},
     "output_type": "execute_result"
    },
    {
     "data": {
      "text/plain": [
       "'/mnt/ssd/data/gcn/ax_sax_from_flo/ax3d/0000-9HQPRPDH_2006-01-31_ES_msk.nrrd'"
      ]
     },
     "execution_count": 125,
     "metadata": {},
     "output_type": "execute_result"
    },
    {
     "name": "stdout",
     "output_type": "stream",
     "text": [
      "after closing\n",
      "int64\n"
     ]
    },
    {
     "data": {
      "text/plain": [
       "'/mnt/ssd/data/gcn/ax_sax_from_flo/ax3d/0000-9MTQG5XR_2005-05-23_ED_img.nrrd'"
      ]
     },
     "execution_count": 125,
     "metadata": {},
     "output_type": "execute_result"
    },
    {
     "data": {
      "text/plain": [
       "'/mnt/ssd/data/gcn/ax_sax_from_flo/ax3d/0000-9MTQG5XR_2005-05-23_ED_msk.nrrd'"
      ]
     },
     "execution_count": 125,
     "metadata": {},
     "output_type": "execute_result"
    },
    {
     "name": "stdout",
     "output_type": "stream",
     "text": [
      "after closing\n",
      "int64\n"
     ]
    },
    {
     "data": {
      "text/plain": [
       "'/mnt/ssd/data/gcn/ax_sax_from_flo/ax3d/0000-9MTQG5XR_2005-05-23_ES_img.nrrd'"
      ]
     },
     "execution_count": 125,
     "metadata": {},
     "output_type": "execute_result"
    },
    {
     "data": {
      "text/plain": [
       "'/mnt/ssd/data/gcn/ax_sax_from_flo/ax3d/0000-9MTQG5XR_2005-05-23_ES_msk.nrrd'"
      ]
     },
     "execution_count": 125,
     "metadata": {},
     "output_type": "execute_result"
    },
    {
     "name": "stdout",
     "output_type": "stream",
     "text": [
      "after closing\n",
      "int64\n"
     ]
    },
    {
     "data": {
      "text/plain": [
       "'/mnt/ssd/data/gcn/ax_sax_from_flo/ax3d/0000-AEUM7ZGH_2006-09-01_ED_img.nrrd'"
      ]
     },
     "execution_count": 125,
     "metadata": {},
     "output_type": "execute_result"
    },
    {
     "data": {
      "text/plain": [
       "'/mnt/ssd/data/gcn/ax_sax_from_flo/ax3d/0000-AEUM7ZGH_2006-09-01_ED_msk.nrrd'"
      ]
     },
     "execution_count": 125,
     "metadata": {},
     "output_type": "execute_result"
    },
    {
     "name": "stdout",
     "output_type": "stream",
     "text": [
      "after closing\n",
      "int64\n"
     ]
    },
    {
     "data": {
      "text/plain": [
       "'/mnt/ssd/data/gcn/ax_sax_from_flo/ax3d/0000-AEUM7ZGH_2006-09-01_ES_img.nrrd'"
      ]
     },
     "execution_count": 125,
     "metadata": {},
     "output_type": "execute_result"
    },
    {
     "data": {
      "text/plain": [
       "'/mnt/ssd/data/gcn/ax_sax_from_flo/ax3d/0000-AEUM7ZGH_2006-09-01_ES_msk.nrrd'"
      ]
     },
     "execution_count": 125,
     "metadata": {},
     "output_type": "execute_result"
    },
    {
     "name": "stdout",
     "output_type": "stream",
     "text": [
      "after closing\n",
      "int64\n"
     ]
    },
    {
     "data": {
      "text/plain": [
       "'/mnt/ssd/data/gcn/ax_sax_from_flo/ax3d/0000-CK8JTQLW_2005-08-08_ED_img.nrrd'"
      ]
     },
     "execution_count": 125,
     "metadata": {},
     "output_type": "execute_result"
    },
    {
     "data": {
      "text/plain": [
       "'/mnt/ssd/data/gcn/ax_sax_from_flo/ax3d/0000-CK8JTQLW_2005-08-08_ED_msk.nrrd'"
      ]
     },
     "execution_count": 125,
     "metadata": {},
     "output_type": "execute_result"
    },
    {
     "name": "stdout",
     "output_type": "stream",
     "text": [
      "after closing\n",
      "int64\n"
     ]
    },
    {
     "data": {
      "text/plain": [
       "'/mnt/ssd/data/gcn/ax_sax_from_flo/ax3d/0000-CK8JTQLW_2005-08-08_ES_img.nrrd'"
      ]
     },
     "execution_count": 125,
     "metadata": {},
     "output_type": "execute_result"
    },
    {
     "data": {
      "text/plain": [
       "'/mnt/ssd/data/gcn/ax_sax_from_flo/ax3d/0000-CK8JTQLW_2005-08-08_ES_msk.nrrd'"
      ]
     },
     "execution_count": 125,
     "metadata": {},
     "output_type": "execute_result"
    },
    {
     "name": "stdout",
     "output_type": "stream",
     "text": [
      "after closing\n",
      "int64\n"
     ]
    },
    {
     "data": {
      "text/plain": [
       "'/mnt/ssd/data/gcn/ax_sax_from_flo/ax3d/0000-CKFQTQ9F_2006-11-10_ED_img.nrrd'"
      ]
     },
     "execution_count": 125,
     "metadata": {},
     "output_type": "execute_result"
    },
    {
     "data": {
      "text/plain": [
       "'/mnt/ssd/data/gcn/ax_sax_from_flo/ax3d/0000-CKFQTQ9F_2006-11-10_ED_msk.nrrd'"
      ]
     },
     "execution_count": 125,
     "metadata": {},
     "output_type": "execute_result"
    },
    {
     "name": "stdout",
     "output_type": "stream",
     "text": [
      "after closing\n",
      "int64\n"
     ]
    },
    {
     "data": {
      "text/plain": [
       "'/mnt/ssd/data/gcn/ax_sax_from_flo/ax3d/0000-CKFQTQ9F_2006-11-10_ES_img.nrrd'"
      ]
     },
     "execution_count": 125,
     "metadata": {},
     "output_type": "execute_result"
    },
    {
     "data": {
      "text/plain": [
       "'/mnt/ssd/data/gcn/ax_sax_from_flo/ax3d/0000-CKFQTQ9F_2006-11-10_ES_msk.nrrd'"
      ]
     },
     "execution_count": 125,
     "metadata": {},
     "output_type": "execute_result"
    },
    {
     "name": "stdout",
     "output_type": "stream",
     "text": [
      "after closing\n",
      "int64\n"
     ]
    },
    {
     "data": {
      "text/plain": [
       "'/mnt/ssd/data/gcn/ax_sax_from_flo/ax3d/0000-CT8YR38C_2005-10-25_ED_img.nrrd'"
      ]
     },
     "execution_count": 125,
     "metadata": {},
     "output_type": "execute_result"
    },
    {
     "data": {
      "text/plain": [
       "'/mnt/ssd/data/gcn/ax_sax_from_flo/ax3d/0000-CT8YR38C_2005-10-25_ED_msk.nrrd'"
      ]
     },
     "execution_count": 125,
     "metadata": {},
     "output_type": "execute_result"
    },
    {
     "name": "stdout",
     "output_type": "stream",
     "text": [
      "after closing\n",
      "int64\n"
     ]
    },
    {
     "data": {
      "text/plain": [
       "'/mnt/ssd/data/gcn/ax_sax_from_flo/ax3d/0000-CT8YR38C_2005-10-25_ES_img.nrrd'"
      ]
     },
     "execution_count": 125,
     "metadata": {},
     "output_type": "execute_result"
    },
    {
     "data": {
      "text/plain": [
       "'/mnt/ssd/data/gcn/ax_sax_from_flo/ax3d/0000-CT8YR38C_2005-10-25_ES_msk.nrrd'"
      ]
     },
     "execution_count": 125,
     "metadata": {},
     "output_type": "execute_result"
    },
    {
     "name": "stdout",
     "output_type": "stream",
     "text": [
      "after closing\n",
      "int64\n"
     ]
    },
    {
     "data": {
      "text/plain": [
       "'/mnt/ssd/data/gcn/ax_sax_from_flo/ax3d/0000-CUKYUVC2_2006-09-20_ED_img.nrrd'"
      ]
     },
     "execution_count": 125,
     "metadata": {},
     "output_type": "execute_result"
    },
    {
     "data": {
      "text/plain": [
       "'/mnt/ssd/data/gcn/ax_sax_from_flo/ax3d/0000-CUKYUVC2_2006-09-20_ED_msk.nrrd'"
      ]
     },
     "execution_count": 125,
     "metadata": {},
     "output_type": "execute_result"
    },
    {
     "name": "stdout",
     "output_type": "stream",
     "text": [
      "after closing\n",
      "int64\n"
     ]
    },
    {
     "data": {
      "text/plain": [
       "'/mnt/ssd/data/gcn/ax_sax_from_flo/ax3d/0000-CUKYUVC2_2006-09-20_ES_img.nrrd'"
      ]
     },
     "execution_count": 125,
     "metadata": {},
     "output_type": "execute_result"
    },
    {
     "data": {
      "text/plain": [
       "'/mnt/ssd/data/gcn/ax_sax_from_flo/ax3d/0000-CUKYUVC2_2006-09-20_ES_msk.nrrd'"
      ]
     },
     "execution_count": 125,
     "metadata": {},
     "output_type": "execute_result"
    },
    {
     "name": "stdout",
     "output_type": "stream",
     "text": [
      "after closing\n",
      "int64\n"
     ]
    },
    {
     "data": {
      "text/plain": [
       "'/mnt/ssd/data/gcn/ax_sax_from_flo/ax3d/0000-D8RUZJ8N_2006-09-22_ED_img.nrrd'"
      ]
     },
     "execution_count": 125,
     "metadata": {},
     "output_type": "execute_result"
    },
    {
     "data": {
      "text/plain": [
       "'/mnt/ssd/data/gcn/ax_sax_from_flo/ax3d/0000-D8RUZJ8N_2006-09-22_ED_msk.nrrd'"
      ]
     },
     "execution_count": 125,
     "metadata": {},
     "output_type": "execute_result"
    },
    {
     "name": "stdout",
     "output_type": "stream",
     "text": [
      "after closing\n",
      "int64\n"
     ]
    },
    {
     "data": {
      "text/plain": [
       "'/mnt/ssd/data/gcn/ax_sax_from_flo/ax3d/0000-D8RUZJ8N_2006-09-22_ES_img.nrrd'"
      ]
     },
     "execution_count": 125,
     "metadata": {},
     "output_type": "execute_result"
    },
    {
     "data": {
      "text/plain": [
       "'/mnt/ssd/data/gcn/ax_sax_from_flo/ax3d/0000-D8RUZJ8N_2006-09-22_ES_msk.nrrd'"
      ]
     },
     "execution_count": 125,
     "metadata": {},
     "output_type": "execute_result"
    },
    {
     "name": "stdout",
     "output_type": "stream",
     "text": [
      "after closing\n",
      "int64\n"
     ]
    },
    {
     "data": {
      "text/plain": [
       "'/mnt/ssd/data/gcn/ax_sax_from_flo/ax3d/0000-D9HN2LZW_2007-03-23_ED_img.nrrd'"
      ]
     },
     "execution_count": 125,
     "metadata": {},
     "output_type": "execute_result"
    },
    {
     "data": {
      "text/plain": [
       "'/mnt/ssd/data/gcn/ax_sax_from_flo/ax3d/0000-D9HN2LZW_2007-03-23_ED_msk.nrrd'"
      ]
     },
     "execution_count": 125,
     "metadata": {},
     "output_type": "execute_result"
    },
    {
     "name": "stdout",
     "output_type": "stream",
     "text": [
      "after closing\n",
      "int64\n"
     ]
    },
    {
     "data": {
      "text/plain": [
       "'/mnt/ssd/data/gcn/ax_sax_from_flo/ax3d/0000-D9HN2LZW_2007-03-23_ES_img.nrrd'"
      ]
     },
     "execution_count": 125,
     "metadata": {},
     "output_type": "execute_result"
    },
    {
     "data": {
      "text/plain": [
       "'/mnt/ssd/data/gcn/ax_sax_from_flo/ax3d/0000-D9HN2LZW_2007-03-23_ES_msk.nrrd'"
      ]
     },
     "execution_count": 125,
     "metadata": {},
     "output_type": "execute_result"
    },
    {
     "name": "stdout",
     "output_type": "stream",
     "text": [
      "after closing\n",
      "int64\n"
     ]
    },
    {
     "data": {
      "text/plain": [
       "'/mnt/ssd/data/gcn/ax_sax_from_flo/ax3d/0000-DG1U4JUW_2006-12-22_ED_img.nrrd'"
      ]
     },
     "execution_count": 125,
     "metadata": {},
     "output_type": "execute_result"
    },
    {
     "data": {
      "text/plain": [
       "'/mnt/ssd/data/gcn/ax_sax_from_flo/ax3d/0000-DG1U4JUW_2006-12-22_ED_msk.nrrd'"
      ]
     },
     "execution_count": 125,
     "metadata": {},
     "output_type": "execute_result"
    },
    {
     "name": "stdout",
     "output_type": "stream",
     "text": [
      "after closing\n",
      "int64\n"
     ]
    },
    {
     "data": {
      "text/plain": [
       "'/mnt/ssd/data/gcn/ax_sax_from_flo/ax3d/0000-DG1U4JUW_2006-12-22_ES_img.nrrd'"
      ]
     },
     "execution_count": 125,
     "metadata": {},
     "output_type": "execute_result"
    },
    {
     "data": {
      "text/plain": [
       "'/mnt/ssd/data/gcn/ax_sax_from_flo/ax3d/0000-DG1U4JUW_2006-12-22_ES_msk.nrrd'"
      ]
     },
     "execution_count": 125,
     "metadata": {},
     "output_type": "execute_result"
    },
    {
     "name": "stdout",
     "output_type": "stream",
     "text": [
      "after closing\n",
      "int64\n"
     ]
    },
    {
     "data": {
      "text/plain": [
       "'/mnt/ssd/data/gcn/ax_sax_from_flo/ax3d/0000-DHQPDW6M_2007-02-16_ED_img.nrrd'"
      ]
     },
     "execution_count": 125,
     "metadata": {},
     "output_type": "execute_result"
    },
    {
     "data": {
      "text/plain": [
       "'/mnt/ssd/data/gcn/ax_sax_from_flo/ax3d/0000-DHQPDW6M_2007-02-16_ED_msk.nrrd'"
      ]
     },
     "execution_count": 125,
     "metadata": {},
     "output_type": "execute_result"
    },
    {
     "name": "stdout",
     "output_type": "stream",
     "text": [
      "after closing\n",
      "int64\n"
     ]
    },
    {
     "data": {
      "text/plain": [
       "'/mnt/ssd/data/gcn/ax_sax_from_flo/ax3d/0000-DHQPDW6M_2007-02-16_ES_img.nrrd'"
      ]
     },
     "execution_count": 125,
     "metadata": {},
     "output_type": "execute_result"
    },
    {
     "data": {
      "text/plain": [
       "'/mnt/ssd/data/gcn/ax_sax_from_flo/ax3d/0000-DHQPDW6M_2007-02-16_ES_msk.nrrd'"
      ]
     },
     "execution_count": 125,
     "metadata": {},
     "output_type": "execute_result"
    },
    {
     "name": "stdout",
     "output_type": "stream",
     "text": [
      "after closing\n",
      "int64\n"
     ]
    },
    {
     "data": {
      "text/plain": [
       "'/mnt/ssd/data/gcn/ax_sax_from_flo/ax3d/0000-DLTVKE94_2006-07-18_ED_img.nrrd'"
      ]
     },
     "execution_count": 125,
     "metadata": {},
     "output_type": "execute_result"
    },
    {
     "data": {
      "text/plain": [
       "'/mnt/ssd/data/gcn/ax_sax_from_flo/ax3d/0000-DLTVKE94_2006-07-18_ED_msk.nrrd'"
      ]
     },
     "execution_count": 125,
     "metadata": {},
     "output_type": "execute_result"
    },
    {
     "name": "stdout",
     "output_type": "stream",
     "text": [
      "after closing\n",
      "int64\n"
     ]
    },
    {
     "data": {
      "text/plain": [
       "'/mnt/ssd/data/gcn/ax_sax_from_flo/ax3d/0000-DLTVKE94_2006-07-18_ES_img.nrrd'"
      ]
     },
     "execution_count": 125,
     "metadata": {},
     "output_type": "execute_result"
    },
    {
     "data": {
      "text/plain": [
       "'/mnt/ssd/data/gcn/ax_sax_from_flo/ax3d/0000-DLTVKE94_2006-07-18_ES_msk.nrrd'"
      ]
     },
     "execution_count": 125,
     "metadata": {},
     "output_type": "execute_result"
    },
    {
     "name": "stdout",
     "output_type": "stream",
     "text": [
      "after closing\n",
      "int64\n"
     ]
    },
    {
     "data": {
      "text/plain": [
       "'/mnt/ssd/data/gcn/ax_sax_from_flo/ax3d/0000-E0RJZQQM_2005-09-30_ED_img.nrrd'"
      ]
     },
     "execution_count": 125,
     "metadata": {},
     "output_type": "execute_result"
    },
    {
     "data": {
      "text/plain": [
       "'/mnt/ssd/data/gcn/ax_sax_from_flo/ax3d/0000-E0RJZQQM_2005-09-30_ED_msk.nrrd'"
      ]
     },
     "execution_count": 125,
     "metadata": {},
     "output_type": "execute_result"
    },
    {
     "name": "stdout",
     "output_type": "stream",
     "text": [
      "after closing\n",
      "int64\n"
     ]
    },
    {
     "data": {
      "text/plain": [
       "'/mnt/ssd/data/gcn/ax_sax_from_flo/ax3d/0000-E0RJZQQM_2005-09-30_ES_img.nrrd'"
      ]
     },
     "execution_count": 125,
     "metadata": {},
     "output_type": "execute_result"
    },
    {
     "data": {
      "text/plain": [
       "'/mnt/ssd/data/gcn/ax_sax_from_flo/ax3d/0000-E0RJZQQM_2005-09-30_ES_msk.nrrd'"
      ]
     },
     "execution_count": 125,
     "metadata": {},
     "output_type": "execute_result"
    },
    {
     "name": "stdout",
     "output_type": "stream",
     "text": [
      "after closing\n",
      "int64\n"
     ]
    },
    {
     "data": {
      "text/plain": [
       "'/mnt/ssd/data/gcn/ax_sax_from_flo/ax3d/0000-E18NUCU2_2005-05-19_ED_img.nrrd'"
      ]
     },
     "execution_count": 125,
     "metadata": {},
     "output_type": "execute_result"
    },
    {
     "data": {
      "text/plain": [
       "'/mnt/ssd/data/gcn/ax_sax_from_flo/ax3d/0000-E18NUCU2_2005-05-19_ED_msk.nrrd'"
      ]
     },
     "execution_count": 125,
     "metadata": {},
     "output_type": "execute_result"
    },
    {
     "name": "stdout",
     "output_type": "stream",
     "text": [
      "after closing\n",
      "int64\n"
     ]
    },
    {
     "data": {
      "text/plain": [
       "'/mnt/ssd/data/gcn/ax_sax_from_flo/ax3d/0000-E18NUCU2_2005-05-19_ES_img.nrrd'"
      ]
     },
     "execution_count": 125,
     "metadata": {},
     "output_type": "execute_result"
    },
    {
     "data": {
      "text/plain": [
       "'/mnt/ssd/data/gcn/ax_sax_from_flo/ax3d/0000-E18NUCU2_2005-05-19_ES_msk.nrrd'"
      ]
     },
     "execution_count": 125,
     "metadata": {},
     "output_type": "execute_result"
    },
    {
     "name": "stdout",
     "output_type": "stream",
     "text": [
      "after closing\n",
      "int64\n"
     ]
    },
    {
     "data": {
      "text/plain": [
       "'/mnt/ssd/data/gcn/ax_sax_from_flo/ax3d/0000-E24LRCWD_2006-11-23_ED_img.nrrd'"
      ]
     },
     "execution_count": 125,
     "metadata": {},
     "output_type": "execute_result"
    },
    {
     "data": {
      "text/plain": [
       "'/mnt/ssd/data/gcn/ax_sax_from_flo/ax3d/0000-E24LRCWD_2006-11-23_ED_msk.nrrd'"
      ]
     },
     "execution_count": 125,
     "metadata": {},
     "output_type": "execute_result"
    },
    {
     "name": "stdout",
     "output_type": "stream",
     "text": [
      "after closing\n",
      "int64\n"
     ]
    },
    {
     "data": {
      "text/plain": [
       "'/mnt/ssd/data/gcn/ax_sax_from_flo/ax3d/0000-E24LRCWD_2006-11-23_ES_img.nrrd'"
      ]
     },
     "execution_count": 125,
     "metadata": {},
     "output_type": "execute_result"
    },
    {
     "data": {
      "text/plain": [
       "'/mnt/ssd/data/gcn/ax_sax_from_flo/ax3d/0000-E24LRCWD_2006-11-23_ES_msk.nrrd'"
      ]
     },
     "execution_count": 125,
     "metadata": {},
     "output_type": "execute_result"
    },
    {
     "name": "stdout",
     "output_type": "stream",
     "text": [
      "after closing\n",
      "int64\n"
     ]
    },
    {
     "data": {
      "text/plain": [
       "'/mnt/ssd/data/gcn/ax_sax_from_flo/ax3d/0000-E4YTNGAZ_2006-11-07_ED_img.nrrd'"
      ]
     },
     "execution_count": 125,
     "metadata": {},
     "output_type": "execute_result"
    },
    {
     "data": {
      "text/plain": [
       "'/mnt/ssd/data/gcn/ax_sax_from_flo/ax3d/0000-E4YTNGAZ_2006-11-07_ED_msk.nrrd'"
      ]
     },
     "execution_count": 125,
     "metadata": {},
     "output_type": "execute_result"
    },
    {
     "name": "stdout",
     "output_type": "stream",
     "text": [
      "after closing\n",
      "int64\n"
     ]
    },
    {
     "data": {
      "text/plain": [
       "'/mnt/ssd/data/gcn/ax_sax_from_flo/ax3d/0000-E4YTNGAZ_2006-11-07_ES_img.nrrd'"
      ]
     },
     "execution_count": 125,
     "metadata": {},
     "output_type": "execute_result"
    },
    {
     "data": {
      "text/plain": [
       "'/mnt/ssd/data/gcn/ax_sax_from_flo/ax3d/0000-E4YTNGAZ_2006-11-07_ES_msk.nrrd'"
      ]
     },
     "execution_count": 125,
     "metadata": {},
     "output_type": "execute_result"
    },
    {
     "name": "stdout",
     "output_type": "stream",
     "text": [
      "after closing\n",
      "int64\n"
     ]
    },
    {
     "data": {
      "text/plain": [
       "'/mnt/ssd/data/gcn/ax_sax_from_flo/ax3d/0000-E8030CFZ_2007-01-03_ED_img.nrrd'"
      ]
     },
     "execution_count": 125,
     "metadata": {},
     "output_type": "execute_result"
    },
    {
     "data": {
      "text/plain": [
       "'/mnt/ssd/data/gcn/ax_sax_from_flo/ax3d/0000-E8030CFZ_2007-01-03_ED_msk.nrrd'"
      ]
     },
     "execution_count": 125,
     "metadata": {},
     "output_type": "execute_result"
    },
    {
     "name": "stdout",
     "output_type": "stream",
     "text": [
      "after closing\n",
      "int64\n"
     ]
    },
    {
     "data": {
      "text/plain": [
       "'/mnt/ssd/data/gcn/ax_sax_from_flo/ax3d/0000-E8030CFZ_2007-01-03_ES_img.nrrd'"
      ]
     },
     "execution_count": 125,
     "metadata": {},
     "output_type": "execute_result"
    },
    {
     "data": {
      "text/plain": [
       "'/mnt/ssd/data/gcn/ax_sax_from_flo/ax3d/0000-E8030CFZ_2007-01-03_ES_msk.nrrd'"
      ]
     },
     "execution_count": 125,
     "metadata": {},
     "output_type": "execute_result"
    },
    {
     "name": "stdout",
     "output_type": "stream",
     "text": [
      "after closing\n",
      "int64\n"
     ]
    },
    {
     "data": {
      "text/plain": [
       "'/mnt/ssd/data/gcn/ax_sax_from_flo/ax3d/0000-ER5Q2EXD_2007-02-22_ED_img.nrrd'"
      ]
     },
     "execution_count": 125,
     "metadata": {},
     "output_type": "execute_result"
    },
    {
     "data": {
      "text/plain": [
       "'/mnt/ssd/data/gcn/ax_sax_from_flo/ax3d/0000-ER5Q2EXD_2007-02-22_ED_msk.nrrd'"
      ]
     },
     "execution_count": 125,
     "metadata": {},
     "output_type": "execute_result"
    },
    {
     "name": "stdout",
     "output_type": "stream",
     "text": [
      "after closing\n",
      "int64\n"
     ]
    },
    {
     "data": {
      "text/plain": [
       "'/mnt/ssd/data/gcn/ax_sax_from_flo/ax3d/0000-ER5Q2EXD_2007-02-22_ES_img.nrrd'"
      ]
     },
     "execution_count": 125,
     "metadata": {},
     "output_type": "execute_result"
    },
    {
     "data": {
      "text/plain": [
       "'/mnt/ssd/data/gcn/ax_sax_from_flo/ax3d/0000-ER5Q2EXD_2007-02-22_ES_msk.nrrd'"
      ]
     },
     "execution_count": 125,
     "metadata": {},
     "output_type": "execute_result"
    },
    {
     "name": "stdout",
     "output_type": "stream",
     "text": [
      "after closing\n",
      "int64\n"
     ]
    },
    {
     "data": {
      "text/plain": [
       "'/mnt/ssd/data/gcn/ax_sax_from_flo/ax3d/0000-F0QP6ZJR_2006-01-01_ED_img.nrrd'"
      ]
     },
     "execution_count": 125,
     "metadata": {},
     "output_type": "execute_result"
    },
    {
     "data": {
      "text/plain": [
       "'/mnt/ssd/data/gcn/ax_sax_from_flo/ax3d/0000-F0QP6ZJR_2006-01-01_ED_msk.nrrd'"
      ]
     },
     "execution_count": 125,
     "metadata": {},
     "output_type": "execute_result"
    },
    {
     "name": "stdout",
     "output_type": "stream",
     "text": [
      "after closing\n",
      "int64\n"
     ]
    },
    {
     "data": {
      "text/plain": [
       "'/mnt/ssd/data/gcn/ax_sax_from_flo/ax3d/0000-F0QP6ZJR_2006-01-01_ES_img.nrrd'"
      ]
     },
     "execution_count": 125,
     "metadata": {},
     "output_type": "execute_result"
    },
    {
     "data": {
      "text/plain": [
       "'/mnt/ssd/data/gcn/ax_sax_from_flo/ax3d/0000-F0QP6ZJR_2006-01-01_ES_msk.nrrd'"
      ]
     },
     "execution_count": 125,
     "metadata": {},
     "output_type": "execute_result"
    },
    {
     "name": "stdout",
     "output_type": "stream",
     "text": [
      "after closing\n",
      "int64\n"
     ]
    },
    {
     "data": {
      "text/plain": [
       "'/mnt/ssd/data/gcn/ax_sax_from_flo/ax3d/0000-FANDNZ55_2007-02-19_ED_img.nrrd'"
      ]
     },
     "execution_count": 125,
     "metadata": {},
     "output_type": "execute_result"
    },
    {
     "data": {
      "text/plain": [
       "'/mnt/ssd/data/gcn/ax_sax_from_flo/ax3d/0000-FANDNZ55_2007-02-19_ED_msk.nrrd'"
      ]
     },
     "execution_count": 125,
     "metadata": {},
     "output_type": "execute_result"
    },
    {
     "name": "stdout",
     "output_type": "stream",
     "text": [
      "after closing\n",
      "int64\n"
     ]
    },
    {
     "data": {
      "text/plain": [
       "'/mnt/ssd/data/gcn/ax_sax_from_flo/ax3d/0000-FANDNZ55_2007-02-19_ES_img.nrrd'"
      ]
     },
     "execution_count": 125,
     "metadata": {},
     "output_type": "execute_result"
    },
    {
     "data": {
      "text/plain": [
       "'/mnt/ssd/data/gcn/ax_sax_from_flo/ax3d/0000-FANDNZ55_2007-02-19_ES_msk.nrrd'"
      ]
     },
     "execution_count": 125,
     "metadata": {},
     "output_type": "execute_result"
    },
    {
     "name": "stdout",
     "output_type": "stream",
     "text": [
      "after closing\n",
      "int64\n"
     ]
    },
    {
     "data": {
      "text/plain": [
       "'/mnt/ssd/data/gcn/ax_sax_from_flo/ax3d/0000-FHQU30DQ_2005-05-10_ED_img.nrrd'"
      ]
     },
     "execution_count": 125,
     "metadata": {},
     "output_type": "execute_result"
    },
    {
     "data": {
      "text/plain": [
       "'/mnt/ssd/data/gcn/ax_sax_from_flo/ax3d/0000-FHQU30DQ_2005-05-10_ED_msk.nrrd'"
      ]
     },
     "execution_count": 125,
     "metadata": {},
     "output_type": "execute_result"
    },
    {
     "name": "stdout",
     "output_type": "stream",
     "text": [
      "after closing\n",
      "int64\n"
     ]
    },
    {
     "data": {
      "text/plain": [
       "'/mnt/ssd/data/gcn/ax_sax_from_flo/ax3d/0000-FHQU30DQ_2005-05-10_ES_img.nrrd'"
      ]
     },
     "execution_count": 125,
     "metadata": {},
     "output_type": "execute_result"
    },
    {
     "data": {
      "text/plain": [
       "'/mnt/ssd/data/gcn/ax_sax_from_flo/ax3d/0000-FHQU30DQ_2005-05-10_ES_msk.nrrd'"
      ]
     },
     "execution_count": 125,
     "metadata": {},
     "output_type": "execute_result"
    },
    {
     "name": "stdout",
     "output_type": "stream",
     "text": [
      "after closing\n",
      "int64\n"
     ]
    },
    {
     "data": {
      "text/plain": [
       "'/mnt/ssd/data/gcn/ax_sax_from_flo/ax3d/0000-G8XJ03CH_2007-10-31_ED_img.nrrd'"
      ]
     },
     "execution_count": 125,
     "metadata": {},
     "output_type": "execute_result"
    },
    {
     "data": {
      "text/plain": [
       "'/mnt/ssd/data/gcn/ax_sax_from_flo/ax3d/0000-G8XJ03CH_2007-10-31_ED_msk.nrrd'"
      ]
     },
     "execution_count": 125,
     "metadata": {},
     "output_type": "execute_result"
    },
    {
     "name": "stdout",
     "output_type": "stream",
     "text": [
      "after closing\n",
      "int64\n"
     ]
    },
    {
     "data": {
      "text/plain": [
       "'/mnt/ssd/data/gcn/ax_sax_from_flo/ax3d/0000-G8XJ03CH_2007-10-31_ES_img.nrrd'"
      ]
     },
     "execution_count": 125,
     "metadata": {},
     "output_type": "execute_result"
    },
    {
     "data": {
      "text/plain": [
       "'/mnt/ssd/data/gcn/ax_sax_from_flo/ax3d/0000-G8XJ03CH_2007-10-31_ES_msk.nrrd'"
      ]
     },
     "execution_count": 125,
     "metadata": {},
     "output_type": "execute_result"
    },
    {
     "name": "stdout",
     "output_type": "stream",
     "text": [
      "after closing\n",
      "int64\n"
     ]
    },
    {
     "data": {
      "text/plain": [
       "'/mnt/ssd/data/gcn/ax_sax_from_flo/ax3d/0000-GLGJL3TK_2006-11-17_ED_img.nrrd'"
      ]
     },
     "execution_count": 125,
     "metadata": {},
     "output_type": "execute_result"
    },
    {
     "data": {
      "text/plain": [
       "'/mnt/ssd/data/gcn/ax_sax_from_flo/ax3d/0000-GLGJL3TK_2006-11-17_ED_msk.nrrd'"
      ]
     },
     "execution_count": 125,
     "metadata": {},
     "output_type": "execute_result"
    },
    {
     "name": "stdout",
     "output_type": "stream",
     "text": [
      "after closing\n",
      "int64\n"
     ]
    },
    {
     "data": {
      "text/plain": [
       "'/mnt/ssd/data/gcn/ax_sax_from_flo/ax3d/0000-GLGJL3TK_2006-11-17_ES_img.nrrd'"
      ]
     },
     "execution_count": 125,
     "metadata": {},
     "output_type": "execute_result"
    },
    {
     "data": {
      "text/plain": [
       "'/mnt/ssd/data/gcn/ax_sax_from_flo/ax3d/0000-GLGJL3TK_2006-11-17_ES_msk.nrrd'"
      ]
     },
     "execution_count": 125,
     "metadata": {},
     "output_type": "execute_result"
    },
    {
     "name": "stdout",
     "output_type": "stream",
     "text": [
      "after closing\n",
      "int64\n"
     ]
    },
    {
     "data": {
      "text/plain": [
       "'/mnt/ssd/data/gcn/ax_sax_from_flo/ax3d/0000-GYMP57R6_2006-12-18_ED_img.nrrd'"
      ]
     },
     "execution_count": 125,
     "metadata": {},
     "output_type": "execute_result"
    },
    {
     "data": {
      "text/plain": [
       "'/mnt/ssd/data/gcn/ax_sax_from_flo/ax3d/0000-GYMP57R6_2006-12-18_ED_msk.nrrd'"
      ]
     },
     "execution_count": 125,
     "metadata": {},
     "output_type": "execute_result"
    },
    {
     "name": "stdout",
     "output_type": "stream",
     "text": [
      "after closing\n",
      "int64\n"
     ]
    },
    {
     "data": {
      "text/plain": [
       "'/mnt/ssd/data/gcn/ax_sax_from_flo/ax3d/0000-GYMP57R6_2006-12-18_ES_img.nrrd'"
      ]
     },
     "execution_count": 125,
     "metadata": {},
     "output_type": "execute_result"
    },
    {
     "data": {
      "text/plain": [
       "'/mnt/ssd/data/gcn/ax_sax_from_flo/ax3d/0000-GYMP57R6_2006-12-18_ES_msk.nrrd'"
      ]
     },
     "execution_count": 125,
     "metadata": {},
     "output_type": "execute_result"
    },
    {
     "name": "stdout",
     "output_type": "stream",
     "text": [
      "after closing\n",
      "int64\n"
     ]
    },
    {
     "data": {
      "text/plain": [
       "'/mnt/ssd/data/gcn/ax_sax_from_flo/ax3d/0000-GYRF6ZAA_2004-08-01_ED_img.nrrd'"
      ]
     },
     "execution_count": 125,
     "metadata": {},
     "output_type": "execute_result"
    },
    {
     "data": {
      "text/plain": [
       "'/mnt/ssd/data/gcn/ax_sax_from_flo/ax3d/0000-GYRF6ZAA_2004-08-01_ED_msk.nrrd'"
      ]
     },
     "execution_count": 125,
     "metadata": {},
     "output_type": "execute_result"
    },
    {
     "name": "stdout",
     "output_type": "stream",
     "text": [
      "after closing\n",
      "int64\n"
     ]
    },
    {
     "data": {
      "text/plain": [
       "'/mnt/ssd/data/gcn/ax_sax_from_flo/ax3d/0000-GYRF6ZAA_2004-08-01_ES_img.nrrd'"
      ]
     },
     "execution_count": 125,
     "metadata": {},
     "output_type": "execute_result"
    },
    {
     "data": {
      "text/plain": [
       "'/mnt/ssd/data/gcn/ax_sax_from_flo/ax3d/0000-GYRF6ZAA_2004-08-01_ES_msk.nrrd'"
      ]
     },
     "execution_count": 125,
     "metadata": {},
     "output_type": "execute_result"
    },
    {
     "name": "stdout",
     "output_type": "stream",
     "text": [
      "after closing\n",
      "int64\n"
     ]
    },
    {
     "data": {
      "text/plain": [
       "'/mnt/ssd/data/gcn/ax_sax_from_flo/ax3d/0000-GZ4M6Z9G_2006-12-07_ED_img.nrrd'"
      ]
     },
     "execution_count": 125,
     "metadata": {},
     "output_type": "execute_result"
    },
    {
     "data": {
      "text/plain": [
       "'/mnt/ssd/data/gcn/ax_sax_from_flo/ax3d/0000-GZ4M6Z9G_2006-12-07_ED_msk.nrrd'"
      ]
     },
     "execution_count": 125,
     "metadata": {},
     "output_type": "execute_result"
    },
    {
     "name": "stdout",
     "output_type": "stream",
     "text": [
      "after closing\n",
      "int64\n"
     ]
    },
    {
     "data": {
      "text/plain": [
       "'/mnt/ssd/data/gcn/ax_sax_from_flo/ax3d/0000-GZ4M6Z9G_2006-12-07_ES_img.nrrd'"
      ]
     },
     "execution_count": 125,
     "metadata": {},
     "output_type": "execute_result"
    },
    {
     "data": {
      "text/plain": [
       "'/mnt/ssd/data/gcn/ax_sax_from_flo/ax3d/0000-GZ4M6Z9G_2006-12-07_ES_msk.nrrd'"
      ]
     },
     "execution_count": 125,
     "metadata": {},
     "output_type": "execute_result"
    },
    {
     "name": "stdout",
     "output_type": "stream",
     "text": [
      "after closing\n",
      "int64\n"
     ]
    },
    {
     "data": {
      "text/plain": [
       "'/mnt/ssd/data/gcn/ax_sax_from_flo/ax3d/0000-HNE7CVMU_2006-10-27_ED_img.nrrd'"
      ]
     },
     "execution_count": 125,
     "metadata": {},
     "output_type": "execute_result"
    },
    {
     "data": {
      "text/plain": [
       "'/mnt/ssd/data/gcn/ax_sax_from_flo/ax3d/0000-HNE7CVMU_2006-10-27_ED_msk.nrrd'"
      ]
     },
     "execution_count": 125,
     "metadata": {},
     "output_type": "execute_result"
    },
    {
     "name": "stdout",
     "output_type": "stream",
     "text": [
      "after closing\n",
      "int64\n"
     ]
    },
    {
     "data": {
      "text/plain": [
       "'/mnt/ssd/data/gcn/ax_sax_from_flo/ax3d/0000-HNE7CVMU_2006-10-27_ES_img.nrrd'"
      ]
     },
     "execution_count": 125,
     "metadata": {},
     "output_type": "execute_result"
    },
    {
     "data": {
      "text/plain": [
       "'/mnt/ssd/data/gcn/ax_sax_from_flo/ax3d/0000-HNE7CVMU_2006-10-27_ES_msk.nrrd'"
      ]
     },
     "execution_count": 125,
     "metadata": {},
     "output_type": "execute_result"
    },
    {
     "name": "stdout",
     "output_type": "stream",
     "text": [
      "after closing\n",
      "int64\n"
     ]
    },
    {
     "data": {
      "text/plain": [
       "'/mnt/ssd/data/gcn/ax_sax_from_flo/ax3d/0000-JDRPF7F4_2006-02-28_ED_img.nrrd'"
      ]
     },
     "execution_count": 125,
     "metadata": {},
     "output_type": "execute_result"
    },
    {
     "data": {
      "text/plain": [
       "'/mnt/ssd/data/gcn/ax_sax_from_flo/ax3d/0000-JDRPF7F4_2006-02-28_ED_msk.nrrd'"
      ]
     },
     "execution_count": 125,
     "metadata": {},
     "output_type": "execute_result"
    },
    {
     "name": "stdout",
     "output_type": "stream",
     "text": [
      "after closing\n",
      "int64\n"
     ]
    },
    {
     "data": {
      "text/plain": [
       "'/mnt/ssd/data/gcn/ax_sax_from_flo/ax3d/0000-JDRPF7F4_2006-02-28_ES_img.nrrd'"
      ]
     },
     "execution_count": 125,
     "metadata": {},
     "output_type": "execute_result"
    },
    {
     "data": {
      "text/plain": [
       "'/mnt/ssd/data/gcn/ax_sax_from_flo/ax3d/0000-JDRPF7F4_2006-02-28_ES_msk.nrrd'"
      ]
     },
     "execution_count": 125,
     "metadata": {},
     "output_type": "execute_result"
    },
    {
     "name": "stdout",
     "output_type": "stream",
     "text": [
      "after closing\n",
      "int64\n"
     ]
    },
    {
     "data": {
      "text/plain": [
       "'/mnt/ssd/data/gcn/ax_sax_from_flo/ax3d/0000-JERK6VC0_2006-01-19_ED_img.nrrd'"
      ]
     },
     "execution_count": 125,
     "metadata": {},
     "output_type": "execute_result"
    },
    {
     "data": {
      "text/plain": [
       "'/mnt/ssd/data/gcn/ax_sax_from_flo/ax3d/0000-JERK6VC0_2006-01-19_ED_msk.nrrd'"
      ]
     },
     "execution_count": 125,
     "metadata": {},
     "output_type": "execute_result"
    },
    {
     "name": "stdout",
     "output_type": "stream",
     "text": [
      "after closing\n",
      "int64\n"
     ]
    },
    {
     "data": {
      "text/plain": [
       "'/mnt/ssd/data/gcn/ax_sax_from_flo/ax3d/0000-JERK6VC0_2006-01-19_ES_img.nrrd'"
      ]
     },
     "execution_count": 125,
     "metadata": {},
     "output_type": "execute_result"
    },
    {
     "data": {
      "text/plain": [
       "'/mnt/ssd/data/gcn/ax_sax_from_flo/ax3d/0000-JERK6VC0_2006-01-19_ES_msk.nrrd'"
      ]
     },
     "execution_count": 125,
     "metadata": {},
     "output_type": "execute_result"
    },
    {
     "name": "stdout",
     "output_type": "stream",
     "text": [
      "after closing\n",
      "int64\n"
     ]
    },
    {
     "data": {
      "text/plain": [
       "'/mnt/ssd/data/gcn/ax_sax_from_flo/ax3d/0000-JP6XAZWH_2007-03-02_ED_img.nrrd'"
      ]
     },
     "execution_count": 125,
     "metadata": {},
     "output_type": "execute_result"
    },
    {
     "data": {
      "text/plain": [
       "'/mnt/ssd/data/gcn/ax_sax_from_flo/ax3d/0000-JP6XAZWH_2007-03-02_ED_msk.nrrd'"
      ]
     },
     "execution_count": 125,
     "metadata": {},
     "output_type": "execute_result"
    },
    {
     "name": "stdout",
     "output_type": "stream",
     "text": [
      "after closing\n",
      "int64\n"
     ]
    },
    {
     "data": {
      "text/plain": [
       "'/mnt/ssd/data/gcn/ax_sax_from_flo/ax3d/0000-JP6XAZWH_2007-03-02_ES_img.nrrd'"
      ]
     },
     "execution_count": 125,
     "metadata": {},
     "output_type": "execute_result"
    },
    {
     "data": {
      "text/plain": [
       "'/mnt/ssd/data/gcn/ax_sax_from_flo/ax3d/0000-JP6XAZWH_2007-03-02_ES_msk.nrrd'"
      ]
     },
     "execution_count": 125,
     "metadata": {},
     "output_type": "execute_result"
    },
    {
     "name": "stdout",
     "output_type": "stream",
     "text": [
      "after closing\n",
      "int64\n"
     ]
    },
    {
     "data": {
      "text/plain": [
       "'/mnt/ssd/data/gcn/ax_sax_from_flo/ax3d/0000-K4HCL72E_2007-03-27_ED_img.nrrd'"
      ]
     },
     "execution_count": 125,
     "metadata": {},
     "output_type": "execute_result"
    },
    {
     "data": {
      "text/plain": [
       "'/mnt/ssd/data/gcn/ax_sax_from_flo/ax3d/0000-K4HCL72E_2007-03-27_ED_msk.nrrd'"
      ]
     },
     "execution_count": 125,
     "metadata": {},
     "output_type": "execute_result"
    },
    {
     "name": "stdout",
     "output_type": "stream",
     "text": [
      "after closing\n",
      "int64\n"
     ]
    },
    {
     "data": {
      "text/plain": [
       "'/mnt/ssd/data/gcn/ax_sax_from_flo/ax3d/0000-K4HCL72E_2007-03-27_ES_img.nrrd'"
      ]
     },
     "execution_count": 125,
     "metadata": {},
     "output_type": "execute_result"
    },
    {
     "data": {
      "text/plain": [
       "'/mnt/ssd/data/gcn/ax_sax_from_flo/ax3d/0000-K4HCL72E_2007-03-27_ES_msk.nrrd'"
      ]
     },
     "execution_count": 125,
     "metadata": {},
     "output_type": "execute_result"
    },
    {
     "name": "stdout",
     "output_type": "stream",
     "text": [
      "after closing\n",
      "int64\n"
     ]
    },
    {
     "data": {
      "text/plain": [
       "'/mnt/ssd/data/gcn/ax_sax_from_flo/ax3d/0000-K5T17122_2005-08-25_ED_img.nrrd'"
      ]
     },
     "execution_count": 125,
     "metadata": {},
     "output_type": "execute_result"
    },
    {
     "data": {
      "text/plain": [
       "'/mnt/ssd/data/gcn/ax_sax_from_flo/ax3d/0000-K5T17122_2005-08-25_ED_msk.nrrd'"
      ]
     },
     "execution_count": 125,
     "metadata": {},
     "output_type": "execute_result"
    },
    {
     "name": "stdout",
     "output_type": "stream",
     "text": [
      "after closing\n",
      "int64\n"
     ]
    },
    {
     "data": {
      "text/plain": [
       "'/mnt/ssd/data/gcn/ax_sax_from_flo/ax3d/0000-K5T17122_2005-08-25_ES_img.nrrd'"
      ]
     },
     "execution_count": 125,
     "metadata": {},
     "output_type": "execute_result"
    },
    {
     "data": {
      "text/plain": [
       "'/mnt/ssd/data/gcn/ax_sax_from_flo/ax3d/0000-K5T17122_2005-08-25_ES_msk.nrrd'"
      ]
     },
     "execution_count": 125,
     "metadata": {},
     "output_type": "execute_result"
    },
    {
     "name": "stdout",
     "output_type": "stream",
     "text": [
      "after closing\n",
      "int64\n"
     ]
    },
    {
     "data": {
      "text/plain": [
       "'/mnt/ssd/data/gcn/ax_sax_from_flo/ax3d/0000-K61NJJ2D_2007-05-29_ED_img.nrrd'"
      ]
     },
     "execution_count": 125,
     "metadata": {},
     "output_type": "execute_result"
    },
    {
     "data": {
      "text/plain": [
       "'/mnt/ssd/data/gcn/ax_sax_from_flo/ax3d/0000-K61NJJ2D_2007-05-29_ED_msk.nrrd'"
      ]
     },
     "execution_count": 125,
     "metadata": {},
     "output_type": "execute_result"
    },
    {
     "name": "stdout",
     "output_type": "stream",
     "text": [
      "after closing\n",
      "int64\n"
     ]
    },
    {
     "data": {
      "text/plain": [
       "'/mnt/ssd/data/gcn/ax_sax_from_flo/ax3d/0000-K61NJJ2D_2007-05-29_ES_img.nrrd'"
      ]
     },
     "execution_count": 125,
     "metadata": {},
     "output_type": "execute_result"
    },
    {
     "data": {
      "text/plain": [
       "'/mnt/ssd/data/gcn/ax_sax_from_flo/ax3d/0000-K61NJJ2D_2007-05-29_ES_msk.nrrd'"
      ]
     },
     "execution_count": 125,
     "metadata": {},
     "output_type": "execute_result"
    },
    {
     "name": "stdout",
     "output_type": "stream",
     "text": [
      "after closing\n",
      "int64\n"
     ]
    },
    {
     "data": {
      "text/plain": [
       "'/mnt/ssd/data/gcn/ax_sax_from_flo/ax3d/0000-KHQNN842_2006-01-01_ED_img.nrrd'"
      ]
     },
     "execution_count": 125,
     "metadata": {},
     "output_type": "execute_result"
    },
    {
     "data": {
      "text/plain": [
       "'/mnt/ssd/data/gcn/ax_sax_from_flo/ax3d/0000-KHQNN842_2006-01-01_ED_msk.nrrd'"
      ]
     },
     "execution_count": 125,
     "metadata": {},
     "output_type": "execute_result"
    },
    {
     "name": "stdout",
     "output_type": "stream",
     "text": [
      "after closing\n",
      "int64\n"
     ]
    },
    {
     "data": {
      "text/plain": [
       "'/mnt/ssd/data/gcn/ax_sax_from_flo/ax3d/0000-KHQNN842_2006-01-01_ES_img.nrrd'"
      ]
     },
     "execution_count": 125,
     "metadata": {},
     "output_type": "execute_result"
    },
    {
     "data": {
      "text/plain": [
       "'/mnt/ssd/data/gcn/ax_sax_from_flo/ax3d/0000-KHQNN842_2006-01-01_ES_msk.nrrd'"
      ]
     },
     "execution_count": 125,
     "metadata": {},
     "output_type": "execute_result"
    },
    {
     "name": "stdout",
     "output_type": "stream",
     "text": [
      "after closing\n",
      "int64\n"
     ]
    },
    {
     "data": {
      "text/plain": [
       "'/mnt/ssd/data/gcn/ax_sax_from_flo/ax3d/0000-KK9VRLND_2006-07-10_ED_img.nrrd'"
      ]
     },
     "execution_count": 125,
     "metadata": {},
     "output_type": "execute_result"
    },
    {
     "data": {
      "text/plain": [
       "'/mnt/ssd/data/gcn/ax_sax_from_flo/ax3d/0000-KK9VRLND_2006-07-10_ED_msk.nrrd'"
      ]
     },
     "execution_count": 125,
     "metadata": {},
     "output_type": "execute_result"
    },
    {
     "name": "stdout",
     "output_type": "stream",
     "text": [
      "after closing\n",
      "int64\n"
     ]
    },
    {
     "data": {
      "text/plain": [
       "'/mnt/ssd/data/gcn/ax_sax_from_flo/ax3d/0000-KK9VRLND_2006-07-10_ES_img.nrrd'"
      ]
     },
     "execution_count": 125,
     "metadata": {},
     "output_type": "execute_result"
    },
    {
     "data": {
      "text/plain": [
       "'/mnt/ssd/data/gcn/ax_sax_from_flo/ax3d/0000-KK9VRLND_2006-07-10_ES_msk.nrrd'"
      ]
     },
     "execution_count": 125,
     "metadata": {},
     "output_type": "execute_result"
    },
    {
     "name": "stdout",
     "output_type": "stream",
     "text": [
      "after closing\n",
      "int64\n"
     ]
    },
    {
     "data": {
      "text/plain": [
       "'/mnt/ssd/data/gcn/ax_sax_from_flo/ax3d/0000-LLLNJLF6_2006-09-27_ED_img.nrrd'"
      ]
     },
     "execution_count": 125,
     "metadata": {},
     "output_type": "execute_result"
    },
    {
     "data": {
      "text/plain": [
       "'/mnt/ssd/data/gcn/ax_sax_from_flo/ax3d/0000-LLLNJLF6_2006-09-27_ED_msk.nrrd'"
      ]
     },
     "execution_count": 125,
     "metadata": {},
     "output_type": "execute_result"
    },
    {
     "name": "stdout",
     "output_type": "stream",
     "text": [
      "after closing\n",
      "int64\n"
     ]
    },
    {
     "data": {
      "text/plain": [
       "'/mnt/ssd/data/gcn/ax_sax_from_flo/ax3d/0000-LLLNJLF6_2006-09-27_ES_img.nrrd'"
      ]
     },
     "execution_count": 125,
     "metadata": {},
     "output_type": "execute_result"
    },
    {
     "data": {
      "text/plain": [
       "'/mnt/ssd/data/gcn/ax_sax_from_flo/ax3d/0000-LLLNJLF6_2006-09-27_ES_msk.nrrd'"
      ]
     },
     "execution_count": 125,
     "metadata": {},
     "output_type": "execute_result"
    },
    {
     "name": "stdout",
     "output_type": "stream",
     "text": [
      "after closing\n",
      "int64\n"
     ]
    },
    {
     "data": {
      "text/plain": [
       "'/mnt/ssd/data/gcn/ax_sax_from_flo/ax3d/0000-LV70LENY_2007-03-12_ED_img.nrrd'"
      ]
     },
     "execution_count": 125,
     "metadata": {},
     "output_type": "execute_result"
    },
    {
     "data": {
      "text/plain": [
       "'/mnt/ssd/data/gcn/ax_sax_from_flo/ax3d/0000-LV70LENY_2007-03-12_ED_msk.nrrd'"
      ]
     },
     "execution_count": 125,
     "metadata": {},
     "output_type": "execute_result"
    },
    {
     "name": "stdout",
     "output_type": "stream",
     "text": [
      "after closing\n",
      "int64\n"
     ]
    },
    {
     "data": {
      "text/plain": [
       "'/mnt/ssd/data/gcn/ax_sax_from_flo/ax3d/0000-LV70LENY_2007-03-12_ES_img.nrrd'"
      ]
     },
     "execution_count": 125,
     "metadata": {},
     "output_type": "execute_result"
    },
    {
     "data": {
      "text/plain": [
       "'/mnt/ssd/data/gcn/ax_sax_from_flo/ax3d/0000-LV70LENY_2007-03-12_ES_msk.nrrd'"
      ]
     },
     "execution_count": 125,
     "metadata": {},
     "output_type": "execute_result"
    },
    {
     "name": "stdout",
     "output_type": "stream",
     "text": [
      "after closing\n",
      "int64\n"
     ]
    },
    {
     "data": {
      "text/plain": [
       "'/mnt/ssd/data/gcn/ax_sax_from_flo/ax3d/0000-MA4HVCMK_2006-06-22_ED_img.nrrd'"
      ]
     },
     "execution_count": 125,
     "metadata": {},
     "output_type": "execute_result"
    },
    {
     "data": {
      "text/plain": [
       "'/mnt/ssd/data/gcn/ax_sax_from_flo/ax3d/0000-MA4HVCMK_2006-06-22_ED_msk.nrrd'"
      ]
     },
     "execution_count": 125,
     "metadata": {},
     "output_type": "execute_result"
    },
    {
     "name": "stdout",
     "output_type": "stream",
     "text": [
      "after closing\n",
      "int64\n"
     ]
    },
    {
     "data": {
      "text/plain": [
       "'/mnt/ssd/data/gcn/ax_sax_from_flo/ax3d/0000-MA4HVCMK_2006-06-22_ES_img.nrrd'"
      ]
     },
     "execution_count": 125,
     "metadata": {},
     "output_type": "execute_result"
    },
    {
     "data": {
      "text/plain": [
       "'/mnt/ssd/data/gcn/ax_sax_from_flo/ax3d/0000-MA4HVCMK_2006-06-22_ES_msk.nrrd'"
      ]
     },
     "execution_count": 125,
     "metadata": {},
     "output_type": "execute_result"
    },
    {
     "name": "stdout",
     "output_type": "stream",
     "text": [
      "after closing\n",
      "int64\n"
     ]
    },
    {
     "data": {
      "text/plain": [
       "'/mnt/ssd/data/gcn/ax_sax_from_flo/ax3d/0000-NWFRFC1Z_2006-11-16_ED_img.nrrd'"
      ]
     },
     "execution_count": 125,
     "metadata": {},
     "output_type": "execute_result"
    },
    {
     "data": {
      "text/plain": [
       "'/mnt/ssd/data/gcn/ax_sax_from_flo/ax3d/0000-NWFRFC1Z_2006-11-16_ED_msk.nrrd'"
      ]
     },
     "execution_count": 125,
     "metadata": {},
     "output_type": "execute_result"
    },
    {
     "name": "stdout",
     "output_type": "stream",
     "text": [
      "after closing\n",
      "int64\n"
     ]
    },
    {
     "data": {
      "text/plain": [
       "'/mnt/ssd/data/gcn/ax_sax_from_flo/ax3d/0000-NWFRFC1Z_2006-11-16_ES_img.nrrd'"
      ]
     },
     "execution_count": 125,
     "metadata": {},
     "output_type": "execute_result"
    },
    {
     "data": {
      "text/plain": [
       "'/mnt/ssd/data/gcn/ax_sax_from_flo/ax3d/0000-NWFRFC1Z_2006-11-16_ES_msk.nrrd'"
      ]
     },
     "execution_count": 125,
     "metadata": {},
     "output_type": "execute_result"
    },
    {
     "name": "stdout",
     "output_type": "stream",
     "text": [
      "after closing\n",
      "int64\n"
     ]
    },
    {
     "data": {
      "text/plain": [
       "'/mnt/ssd/data/gcn/ax_sax_from_flo/ax3d/0000-TET48V2Z_2008-01-10_ED_img.nrrd'"
      ]
     },
     "execution_count": 125,
     "metadata": {},
     "output_type": "execute_result"
    },
    {
     "data": {
      "text/plain": [
       "'/mnt/ssd/data/gcn/ax_sax_from_flo/ax3d/0000-TET48V2Z_2008-01-10_ED_msk.nrrd'"
      ]
     },
     "execution_count": 125,
     "metadata": {},
     "output_type": "execute_result"
    },
    {
     "name": "stdout",
     "output_type": "stream",
     "text": [
      "after closing\n",
      "int64\n"
     ]
    },
    {
     "data": {
      "text/plain": [
       "'/mnt/ssd/data/gcn/ax_sax_from_flo/ax3d/0000-TET48V2Z_2008-01-10_ES_img.nrrd'"
      ]
     },
     "execution_count": 125,
     "metadata": {},
     "output_type": "execute_result"
    },
    {
     "data": {
      "text/plain": [
       "'/mnt/ssd/data/gcn/ax_sax_from_flo/ax3d/0000-TET48V2Z_2008-01-10_ES_msk.nrrd'"
      ]
     },
     "execution_count": 125,
     "metadata": {},
     "output_type": "execute_result"
    },
    {
     "name": "stdout",
     "output_type": "stream",
     "text": [
      "after closing\n",
      "int64\n"
     ]
    },
    {
     "data": {
      "text/plain": [
       "'/mnt/ssd/data/gcn/ax_sax_from_flo/ax3d/0000-Z0QR21CJ_2005-11-02_ED_img.nrrd'"
      ]
     },
     "execution_count": 125,
     "metadata": {},
     "output_type": "execute_result"
    },
    {
     "data": {
      "text/plain": [
       "'/mnt/ssd/data/gcn/ax_sax_from_flo/ax3d/0000-Z0QR21CJ_2005-11-02_ED_msk.nrrd'"
      ]
     },
     "execution_count": 125,
     "metadata": {},
     "output_type": "execute_result"
    },
    {
     "name": "stdout",
     "output_type": "stream",
     "text": [
      "after closing\n",
      "int64\n"
     ]
    },
    {
     "data": {
      "text/plain": [
       "'/mnt/ssd/data/gcn/ax_sax_from_flo/ax3d/0000-Z0QR21CJ_2005-11-02_ES_img.nrrd'"
      ]
     },
     "execution_count": 125,
     "metadata": {},
     "output_type": "execute_result"
    },
    {
     "data": {
      "text/plain": [
       "'/mnt/ssd/data/gcn/ax_sax_from_flo/ax3d/0000-Z0QR21CJ_2005-11-02_ES_msk.nrrd'"
      ]
     },
     "execution_count": 125,
     "metadata": {},
     "output_type": "execute_result"
    },
    {
     "name": "stdout",
     "output_type": "stream",
     "text": [
      "after closing\n",
      "int64\n"
     ]
    }
   ],
   "source": [
    "#resample 3D Image into isotrop and write into dst\n",
    "for file_path in sorted(glob.glob(sax_src+'*.nrrd', recursive = True)):\n",
    "    file_path\n",
    "    \n",
    "    reader1 = sitk.ImageFileReader()\n",
    "    reader1.SetFileName(file_path)\n",
    "    sitk_img = reader1.Execute()\n",
    "    \n",
    "    if 'img' in os.path.basename(file_path):\n",
    "        iso_resampled = transform_to_isotrop_voxels(sitk_img, interpolate=sitk.sitkLinear, spacing_=(1.5,1.5,1.5))\n",
    "    else:\n",
    "        iso_resampled = max_thres_resample2_iso_label_img(sitk_img, 80)\n",
    "    \n",
    "    writer = sitk.ImageFileWriter()\n",
    "    writer.SetFileName(os.path.join(dst,os.path.basename(file_path)))\n",
    "    writer.Execute(iso_resampled) "
   ]
  },
  {
   "cell_type": "code",
   "execution_count": 21,
   "metadata": {},
   "outputs": [],
   "source": [
    "ax_src = '/mnt/ssd/data/gcn/ax_sax_from_flo/ax3d_iso_linear/'\n",
    "sax_src = '/mnt/ssd/data/gcn/ax_sax_from_flo/sax3d_iso_linear/'\n",
    "dst_ax2sax = '/mnt/ssd/data/gcn/ax_sax_from_flo/sax2ax3d_iso/'\n",
    "ax2sax_iso_dst = '/mnt/ssd/data/gcn/ax_sax_from_flo/ax2sax3d_iso_linear/'\n",
    "sax2ax_iso_dst = '/mnt/ssd/data/gcn/ax_sax_from_flo/sax2ax3d_iso_linear/'"
   ]
  },
  {
   "cell_type": "markdown",
   "metadata": {},
   "source": [
    "# Resample to other orientation"
   ]
  },
  {
   "cell_type": "code",
   "execution_count": 23,
   "metadata": {},
   "outputs": [
    {
     "name": "stdout",
     "output_type": "stream",
     "text": [
      "axial files: 324\n",
      "sax files: 324\n"
     ]
    }
   ],
   "source": [
    "# resample 3D image / mask from axial view into sax view or vize versa, extend the transformed vol by 10 voxel along the target z axis\n",
    "import concurrent.futures\n",
    "from concurrent.futures import as_completed\n",
    "\n",
    "workers = 16\n",
    "futures_ax2sax = set()\n",
    "futures_sax2ax = set()\n",
    "ensure_dir(ax2sax_iso_dst)\n",
    "ensure_dir(sax2ax_iso_dst)\n",
    "# spawn multiple threads or processes\n",
    "# transform the image of file_path with according to the direction of \n",
    "ax_files = sorted(glob.glob(ax_src+'*.nrrd', recursive = True))\n",
    "sax_files = sorted(glob.glob(sax_src+'*.nrrd', recursive = True))\n",
    "print('axial files: {}'.format(len(ax_files)))\n",
    "print('sax files: {}'.format(len(sax_files)))\n",
    "with concurrent.futures.ThreadPoolExecutor(max_workers=workers) as executor:\n",
    "    \n",
    "    for ax_file_path, sax_file_path in zip(ax_files, sax_files):\n",
    "        \n",
    "        reader1 = sitk.ImageFileReader()\n",
    "        reader1.SetFileName(ax_file_path)\n",
    "        ax_img = reader1.Execute()\n",
    "        \n",
    "        reader2 = sitk.ImageFileReader()\n",
    "        reader2.SetFileName(sax_file_path)\n",
    "        sax_img = reader2.Execute()\n",
    "    \n",
    "        if 'img' in os.path.basename(ax_file_path):\n",
    "            futures_ax2sax.add(executor.submit(resample_direcion_origin_spacing_shift, ax_img, sax_img, (0,0,-10), sitk.sitkLinear, ax_file_path))\n",
    "            futures_sax2ax.add(executor.submit(resample_direcion_origin_spacing_shift, sax_img, ax_img, (0,0,-10), sitk.sitkLinear, sax_file_path))\n",
    "\n",
    "        else:\n",
    "            futures_ax2sax.add(executor.submit(max_thres_resample2_label_img_shift, ax_img, sax_img, 50, (0,0,-10), ax_file_path))\n",
    "            futures_sax2ax.add(executor.submit(max_thres_resample2_label_img_shift, sax_img, ax_img, 50, (0,0,-10), sax_file_path))\n",
    "\n",
    "writer = sitk.ImageFileWriter()\n",
    "for i, future in enumerate(as_completed(futures_ax2sax)):\n",
    "    try:\n",
    "        res = future.result()\n",
    "        resampled, file_path = res\n",
    "        writer.SetFileName(os.path.join(ax2sax_iso_dst,os.path.basename(file_path)))\n",
    "        writer.Execute(resampled) \n",
    "\n",
    "    except Exception as e:\n",
    "        logging.error(\n",
    "            'Exception {} in datagenerator with: image: {} or mask: {}'.format(str(e)))\n",
    "        \n",
    "for i, future in enumerate(as_completed(futures_sax2ax)):\n",
    "    try:\n",
    "        res = future.result()\n",
    "        resampled, file_path = res\n",
    "        writer.SetFileName(os.path.join(sax2ax_iso_dst,os.path.basename(file_path)))\n",
    "        writer.Execute(resampled) \n",
    "\n",
    "    except Exception as e:\n",
    "        logging.error(\n",
    "            'Exception {} in datagenerator with: image: {} or mask: {}'.format(str(e)))"
   ]
  },
  {
   "cell_type": "markdown",
   "metadata": {},
   "source": [
    "# Manual tests from flo, not needed currently"
   ]
  },
  {
   "cell_type": "code",
   "execution_count": 20,
   "metadata": {},
   "outputs": [],
   "source": [
    "ax_src = '/home/rflo/master/all_with_7_worst_regi/ax3d/'\n",
    "sax_src = '/home/rflo/master/all_with_7_worst_regi/sax3d/'\n",
    "dst = '/home/rflo/master/all_with_7_worst_regi/testground/'"
   ]
  },
  {
   "cell_type": "code",
   "execution_count": 21,
   "metadata": {},
   "outputs": [],
   "source": [
    "ensure_dir(dst)"
   ]
  },
  {
   "cell_type": "code",
   "execution_count": null,
   "metadata": {},
   "outputs": [],
   "source": [
    "ax_src = sorted(glob.glob('/home/rflo/master/all_with_7_worst_regi/ax3d/'+'*.nrrd', recursive = True))[0]\n",
    "sax_src = sorted(glob.glob('/home/rflo/master/all_with_7_worst_regi/sax3d/'+'*.nrrd', recursive = True))[0]"
   ]
  },
  {
   "cell_type": "code",
   "execution_count": 22,
   "metadata": {},
   "outputs": [],
   "source": [
    "ax_src = sorted(glob.glob('/home/rflo/master/all_with_7_worst_regi/ax3d_iso_linear/'+'*.nrrd', recursive = True))[0]\n",
    "sax_src = sorted(glob.glob('/home/rflo/master/all_with_7_worst_regi/sax3d_iso_linear/'+'*.nrrd', recursive = True))[0]"
   ]
  },
  {
   "cell_type": "code",
   "execution_count": null,
   "metadata": {},
   "outputs": [],
   "source": [
    "ax_src = sorted(glob.glob('/home/rflo/master/all_with_7_worst_regi/ax3d_iso_linear/'+'*.nrrd', recursive = True))[28]\n",
    "sax_src = sorted(glob.glob('/home/rflo/master/all_with_7_worst_regi/sax3d_iso_linear/'+'*.nrrd', recursive = True))[28]"
   ]
  },
  {
   "cell_type": "code",
   "execution_count": 23,
   "metadata": {},
   "outputs": [
    {
     "name": "stdout",
     "output_type": "stream",
     "text": [
      "/home/rflo/master/all_with_7_worst_regi/ax3d_iso_linear/0000-0HQQW4ZN_2007-05-23_ED_img.nrrd\n",
      "/home/rflo/master/all_with_7_worst_regi/sax3d_iso_linear/0000-0HQQW4ZN_2007-05-23_ED_img.nrrd\n"
     ]
    }
   ],
   "source": [
    "print(ax_src)\n",
    "print(sax_src)"
   ]
  },
  {
   "cell_type": "code",
   "execution_count": 24,
   "metadata": {},
   "outputs": [],
   "source": [
    "from scipy.ndimage import affine_transform\n",
    "#testing single pictures\n",
    "ax_file_path = ax_src\n",
    "sax_file_path = sax_src\n",
    "\n",
    "reader1 = sitk.ImageFileReader()\n",
    "reader1.SetFileName(ax_file_path)\n",
    "ax_img = reader1.Execute()\n",
    "\n",
    "reader2 = sitk.ImageFileReader()\n",
    "reader2.SetFileName(sax_file_path)\n",
    "sax_img = reader2.Execute()"
   ]
  },
  {
   "cell_type": "code",
   "execution_count": 25,
   "metadata": {},
   "outputs": [],
   "source": [
    "for shift in range(-20,1,2):    \n",
    "    resampled = resample_direcion_origin_spacing_shift(ax_img, sax_img, shift = (0,0,shift), interpolate=sitk.sitkLinear)\n",
    "    writer = sitk.ImageFileWriter()\n",
    "    writer.SetFileName(os.path.join(dst,'shift'+str((0,0,shift))+'.nrrd'))\n",
    "    writer.Execute(resampled) "
   ]
  },
  {
   "cell_type": "code",
   "execution_count": null,
   "metadata": {},
   "outputs": [],
   "source": [
    "for shift in range(-20,21,5):    \n",
    "    resampled = resample_direcion_origin_spacing_shift(ax_img, sax_img, shift = (shift,0,0), interpolate=sitk.sitkLinear)\n",
    "    writer = sitk.ImageFileWriter()\n",
    "    writer.SetFileName(os.path.join(dst,'shift'+str((shift,0,0))+'.nrrd'))\n",
    "    writer.Execute(resampled) \n",
    "    resampled = resample_direcion_origin_spacing_shift(ax_img, sax_img, shift = (0,shift,0), interpolate=sitk.sitkLinear)\n",
    "    writer = sitk.ImageFileWriter()\n",
    "    writer.SetFileName(os.path.join(dst,'shift'+str((0,shift,0))+'.nrrd'))\n",
    "    writer.Execute(resampled) \n",
    "    resampled = resample_direcion_origin_spacing_shift(ax_img, sax_img, shift = (0,0,shift), interpolate=sitk.sitkLinear)\n",
    "    writer = sitk.ImageFileWriter()\n",
    "    writer.SetFileName(os.path.join(dst,'shift'+str((0,0,shift))+'.nrrd'))\n",
    "    writer.Execute(resampled) "
   ]
  },
  {
   "cell_type": "code",
   "execution_count": null,
   "metadata": {},
   "outputs": [],
   "source": [
    "\"\"\"\n",
    "sitk_img1 = ax_img\n",
    "sitk_img2 = sax_ixmg\n",
    "    \n",
    "label1_img1 = get_single_label_img(sitk_img1,1)\n",
    "label2_img1 = get_single_label_img(sitk_img1,2)\n",
    "label3_img1 = get_single_label_img(sitk_img1,3)\n",
    "resampled_label1 = resample_img(label1_img1, sitk_img2)\n",
    "resampled_label2 = resample_img(label2_img1, sitk_img2)\n",
    "resampled_label3 = resample_img(label3_img1, sitk_img2)\n",
    "\"\"\"\n",
    "size = ax_img.GetSize()\n",
    "spacing = ax_img.GetSpacing()\n",
    "size_new = [int(s*p) for s,p in zip(size,spacing)]\n",
    "size_new = tuple(size_new)"
   ]
  },
  {
   "cell_type": "code",
   "execution_count": null,
   "metadata": {},
   "outputs": [],
   "source": [
    "resampler = sitk.ResampleImageFilter()\n",
    "resampler.SetSize(size_new)\n",
    "resampler.SetOutputSpacing((1,1,1))\n",
    "resampler.SetOutputOrigin(ax_img.GetOrigin())\n",
    "#resampler.SetInterpolator(sitk.sitkNearestNeighbor)\n",
    "new_img = resampler.Execute(ax_img)\n",
    "\n",
    "#sitk_img, size=(12, 256, 256), spacing=(8, 1.25, 1.25), interpolate=sitk.sitkNearestNeighbor\n",
    "\n",
    "\n",
    "ax_array = sitk.GetArrayFromImage(new_img)\n",
    "#ax_img.SetDirection(sax_img.GetDirection())\n",
    "direction = sax_img.GetDirection()\n",
    "direction = np.reshape(direction,(3,3))\n",
    "\n",
    "\n",
    "#r = R.from_matrix(direction)\n",
    "new_array = affine_transform(ax_array,direction)\n",
    "new_img = sitk.GetImageFromArray(new_array)\n",
    "new_img.SetOrigin(ax_img.GetOrigin())\n",
    "new_img.SetDirection(sax_img.GetDirection())   \n",
    "\n",
    "#resampled = max_thres_resample_label_img(ax_img, sax_img,50)\n",
    "#resampled = percentage_resample_label_img(ax_img, sax_img,80)\n",
    "\n",
    "writer = sitk.ImageFileWriter()\n",
    "writer.SetFileName(os.path.join(dst,os.path.basename('img_ax_new.nrrd')))\n",
    "writer.Execute(new_img) \n",
    "#writer = sitk.ImageFileWriter()\n",
    "#writer.SetFileName(os.path.join(dst,os.path.basename('sax_0.nrrd')))\n",
    "#writer.Execute(sax_img) \n",
    "\n",
    "#writer = sitk.ImageFileWriter()\n",
    "#writer.SetFileName(os.path.join(dst,os.path.basename(ax_file_path)))\n",
    "#writer.Execute(resampled) "
   ]
  },
  {
   "cell_type": "code",
   "execution_count": null,
   "metadata": {},
   "outputs": [],
   "source": []
  },
  {
   "cell_type": "code",
   "execution_count": null,
   "metadata": {},
   "outputs": [],
   "source": []
  },
  {
   "cell_type": "code",
   "execution_count": null,
   "metadata": {},
   "outputs": [],
   "source": [
    "png_path = '/home/rflo/master/data_search/ax'"
   ]
  },
  {
   "cell_type": "code",
   "execution_count": null,
   "metadata": {},
   "outputs": [],
   "source": [
    "png_path = '/home/rflo/master/data_search/ax_to_sax/'"
   ]
  },
  {
   "cell_type": "code",
   "execution_count": null,
   "metadata": {},
   "outputs": [],
   "source": [
    "from IPython.display import Image\n",
    "from ipywidgets import interact\n",
    "path_to_png = png_path\n",
    "@interact\n",
    "def show_png(i = (0, len(sorted(glob.glob(os.path.join(path_to_png,'*.png'))))-1)):\n",
    "    f_name = sorted(glob.glob(os.path.join(path_to_png,'*.png')))[i]\n",
    "    print(f_name)\n",
    "    return Image(filename=f_name)"
   ]
  },
  {
   "cell_type": "code",
   "execution_count": null,
   "metadata": {},
   "outputs": [],
   "source": []
  },
  {
   "cell_type": "code",
   "execution_count": null,
   "metadata": {},
   "outputs": [],
   "source": []
  },
  {
   "cell_type": "code",
   "execution_count": null,
   "metadata": {},
   "outputs": [],
   "source": []
  },
  {
   "cell_type": "code",
   "execution_count": null,
   "metadata": {},
   "outputs": [],
   "source": []
  },
  {
   "cell_type": "code",
   "execution_count": null,
   "metadata": {},
   "outputs": [],
   "source": []
  },
  {
   "cell_type": "code",
   "execution_count": null,
   "metadata": {},
   "outputs": [],
   "source": [
    "ax_src = '/home/rflo/master/all_with_7_worst_regi/ax3d/'\n",
    "sax_src = '/home/rflo/master/all_with_7_worst_regi/sax3d/'\n",
    "dst = '/home/rflo/master/all_with_7_worst_regi/testground/'"
   ]
  },
  {
   "cell_type": "code",
   "execution_count": null,
   "metadata": {},
   "outputs": [],
   "source": [
    "ax_src = '/home/rflo/master/all_with_7_worst_regi/ax3d_iso_linear/'\n",
    "sax_src = '/home/rflo/master/all_with_7_worst_regi/sax3d_iso_linear/'\n",
    "dst = '/home/rflo/master/all_with_7_worst_regi/testground/'"
   ]
  },
  {
   "cell_type": "code",
   "execution_count": null,
   "metadata": {},
   "outputs": [],
   "source": [
    "ensure_dir(dst)"
   ]
  },
  {
   "cell_type": "code",
   "execution_count": null,
   "metadata": {},
   "outputs": [],
   "source": [
    "src = ax_src"
   ]
  },
  {
   "cell_type": "code",
   "execution_count": null,
   "metadata": {},
   "outputs": [],
   "source": [
    "#copy all msk into dst\n",
    "\n",
    "for file_path in sorted(glob.glob(src+'*.nrrd', recursive = True)):\n",
    "    if 'msk' in os.path.basename(file_path):\n",
    "        shutil.copyfile(file_path,os.path.join(dst,os.path.basename(file_path)))\n",
    "        "
   ]
  },
  {
   "cell_type": "code",
   "execution_count": null,
   "metadata": {},
   "outputs": [],
   "source": []
  }
 ],
 "metadata": {
  "kernelspec": {
   "display_name": "ax2sax",
   "language": "python",
   "name": "ax2sax"
  },
  "language_info": {
   "codemirror_mode": {
    "name": "ipython",
    "version": 3
   },
   "file_extension": ".py",
   "mimetype": "text/x-python",
   "name": "python",
   "nbconvert_exporter": "python",
   "pygments_lexer": "ipython3",
   "version": "3.6.9"
  },
  "varInspector": {
   "cols": {
    "lenName": 16,
    "lenType": 16,
    "lenVar": 40
   },
   "kernels_config": {
    "python": {
     "delete_cmd_postfix": "",
     "delete_cmd_prefix": "del ",
     "library": "var_list.py",
     "varRefreshCmd": "print(var_dic_list())"
    },
    "r": {
     "delete_cmd_postfix": ") ",
     "delete_cmd_prefix": "rm(",
     "library": "var_list.r",
     "varRefreshCmd": "cat(var_dic_list()) "
    }
   },
   "types_to_exclude": [
    "module",
    "function",
    "builtin_function_or_method",
    "instance",
    "_Feature"
   ],
   "window_display": false
  },
  "widgets": {
   "application/vnd.jupyter.widget-state+json": {
    "state": {},
    "version_major": 2,
    "version_minor": 0
   }
  }
 },
 "nbformat": 4,
 "nbformat_minor": 4
}
