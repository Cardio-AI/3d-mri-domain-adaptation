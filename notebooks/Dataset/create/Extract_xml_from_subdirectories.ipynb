{
 "cells": [
  {
   "cell_type": "code",
   "execution_count": 1,
   "metadata": {
    "ExecuteTime": {
     "end_time": "2019-03-04T13:02:09.990005Z",
     "start_time": "2019-03-04T13:02:09.956003Z"
    }
   },
   "outputs": [
    {
     "name": "stdout",
     "output_type": "stream",
     "text": [
      "search for root_dir and set working directory\n",
      "Working directory set to: /mnt/data/git/cardio\n"
     ]
    },
    {
     "name": "stderr",
     "output_type": "stream",
     "text": [
      "2019-11-11 22:01:41,504 INFO -------------------- Start --------------------\n",
      "2019-11-11 22:01:41,505 INFO Working directory: /mnt/data/git/cardio.\n",
      "2019-11-11 22:01:41,505 INFO Log file: ./logs/extract_xml_test.log\n"
     ]
    }
   ],
   "source": [
    "# define logging and working directory\n",
    "from ProjectRoot import change_wd_to_project_root\n",
    "change_wd_to_project_root()\n",
    "from src.utils.utils_io import Console_and_file_logger, ensure_dir\n",
    "from src.utils.file_wrapper.app.Files import Basefile, Dicomfile\n",
    "from src.utils.file_wrapper.app.IO import FileWalker\n",
    "import logging\n",
    "Console_and_file_logger('extract_xml_test', logging.INFO)\n",
    "\n",
    "# specific imports\n",
    "import glob\n",
    "import os\n",
    "from collections import Counter"
   ]
  },
  {
   "cell_type": "code",
   "execution_count": 2,
   "metadata": {
    "ExecuteTime": {
     "end_time": "2019-03-04T13:27:23.998007Z",
     "start_time": "2019-03-04T13:27:23.986006Z"
    }
   },
   "outputs": [
    {
     "name": "stdout",
     "output_type": "stream",
     "text": [
      "Export dir has already: 0 xml files.\n"
     ]
    }
   ],
   "source": [
    "# small script to copy recursively all xml files from a given root-directory to a given export directory\n",
    "\n",
    "XML_IMPORT_ROOT = 'data/temp/04NEJQUZ/'\n",
    "XML_EXPORT_DIR = 'data/temp/xml_files/'\n",
    "assert(os.path.isdir(XML_IMPORT_ROOT))\n",
    "ensure_dir(XML_EXPORT_DIR)\n",
    "xml_files_before_import = glob.glob(os.path.join(XML_EXPORT_DIR, '*.cvi42wsx'))\n",
    "print('Export dir has already: {} xml files.'.format(len(xml_files_before_import)))"
   ]
  },
  {
   "cell_type": "code",
   "execution_count": 5,
   "metadata": {
    "ExecuteTime": {
     "end_time": "2019-03-04T13:27:27.955233Z",
     "start_time": "2019-03-04T13:27:27.820225Z"
    }
   },
   "outputs": [
    {
     "name": "stdout",
     "output_type": "stream",
     "text": [
      "Total Files to import: 1602, XML files found: 1\n"
     ]
    }
   ],
   "source": [
    "# check how many files\n",
    "files = glob.glob(os.path.join(XML_IMPORT_ROOT, '**/**/*.*'), recursive=True)\n",
    "# get only the cvi42wsx files\n",
    "xml_files = glob.glob(os.path.join(XML_IMPORT_ROOT, '**/**/*.cvi42wsx'), recursive=True)\n",
    "print('Total Files to import: {}, XML files found: {}'.format(len(files), len(xml_files)))"
   ]
  },
  {
   "cell_type": "code",
   "execution_count": 6,
   "metadata": {
    "ExecuteTime": {
     "end_time": "2019-03-04T13:27:30.392373Z",
     "start_time": "2019-03-04T13:27:30.365371Z"
    },
    "scrolled": true
   },
   "outputs": [
    {
     "data": {
      "text/plain": [
       "['data/temp/04NEJQUZ/04NEJQUZ200703130733401.3.46.670589.11.0.0.11.4.2.0.8365.5.7500.2007031307333781538.cvi42wsx']"
      ]
     },
     "execution_count": 6,
     "metadata": {},
     "output_type": "execute_result"
    }
   ],
   "source": [
    "# visual check of import xml files\n",
    "xml_files"
   ]
  },
  {
   "cell_type": "code",
   "execution_count": 7,
   "metadata": {
    "ExecuteTime": {
     "end_time": "2019-03-04T13:28:49.405892Z",
     "start_time": "2019-03-04T13:27:41.629015Z"
    },
    "scrolled": true
   },
   "outputs": [
    {
     "name": "stdout",
     "output_type": "stream",
     "text": [
      "0 copy xml file: data/temp/04NEJQUZ/04NEJQUZ200703130733401.3.46.670589.11.0.0.11.4.2.0.8365.5.7500.2007031307333781538.cvi42wsx to data/temp/xml_files/\n",
      "copied 1 files\n"
     ]
    }
   ],
   "source": [
    "# copy files to xml export path for further processing\n",
    "import shutil\n",
    "for idx, file in enumerate(xml_files):\n",
    "    print('{} copy xml file: {} to {}'.format(idx, file, XML_EXPORT_DIR))\n",
    "    shutil.copy2(file, XML_EXPORT_DIR)\n",
    "print('copied {} files'.format(idx+1)) # idx starts with 0"
   ]
  },
  {
   "cell_type": "code",
   "execution_count": 8,
   "metadata": {
    "ExecuteTime": {
     "end_time": "2019-03-04T13:32:35.964702Z",
     "start_time": "2019-03-04T13:32:35.949702Z"
    }
   },
   "outputs": [
    {
     "name": "stdout",
     "output_type": "stream",
     "text": [
      "Copied: 1 xml files, New xml files in export dir: 1, Total xml files in export dir:1 \n"
     ]
    }
   ],
   "source": [
    "# check if all files are copied\n",
    "xml_files_after_import = glob.glob(os.path.join(XML_EXPORT_DIR, '*.cvi42wsx'))\n",
    "print('Copied: {} xml files, New xml files in export dir: {}, Total xml files in export dir:{} '.format(len(xml_files),len(xml_files_after_import)-len(xml_files_before_import), len(xml_files_after_import)))\n"
   ]
  },
  {
   "cell_type": "code",
   "execution_count": 9,
   "metadata": {
    "ExecuteTime": {
     "end_time": "2019-03-04T13:33:42.370157Z",
     "start_time": "2019-03-04T13:33:42.323357Z"
    }
   },
   "outputs": [
    {
     "name": "stdout",
     "output_type": "stream",
     "text": [
      "Files in origin: 1\n",
      "Files in destination: 1\n",
      "Files skipped: 0\n",
      "Files duplicated: 0\n",
      "[]\n"
     ]
    }
   ],
   "source": [
    "# check if there are skipped files\n",
    "import ntpath\n",
    "import collections\n",
    "xml_names_origin = [ntpath.basename(xml) for xml in xml_files]\n",
    "xml_names_destination = [ntpath.basename(xml) for xml in xml_files_after_import]\n",
    "skipped = [xml for xml in xml_names_origin if xml not in xml_names_destination]\n",
    "# check if there are some files double\n",
    "duplicates = [(item, count) for item, count in collections.Counter(xml_names_origin).items() if count > 1]\n",
    "\n",
    "print('Files in origin: {}'.format(len(xml_names_origin)))\n",
    "print('Files in destination: {}'.format(len(xml_names_destination)))\n",
    "print('Files skipped: {}'.format(len(skipped)))\n",
    "\n",
    "print('Files duplicated: {}'.format(len(duplicates)))\n",
    "print(duplicates)\n"
   ]
  },
  {
   "cell_type": "code",
   "execution_count": null,
   "metadata": {},
   "outputs": [],
   "source": []
  }
 ],
 "metadata": {
  "kernelspec": {
   "display_name": "Python 3",
   "language": "python",
   "name": "python3"
  },
  "language_info": {
   "codemirror_mode": {
    "name": "ipython",
    "version": 3
   },
   "file_extension": ".py",
   "mimetype": "text/x-python",
   "name": "python",
   "nbconvert_exporter": "python",
   "pygments_lexer": "ipython3",
   "version": "3.6.9"
  },
  "varInspector": {
   "cols": {
    "lenName": 16,
    "lenType": 16,
    "lenVar": 40
   },
   "kernels_config": {
    "python": {
     "delete_cmd_postfix": "",
     "delete_cmd_prefix": "del ",
     "library": "var_list.py",
     "varRefreshCmd": "print(var_dic_list())"
    },
    "r": {
     "delete_cmd_postfix": ") ",
     "delete_cmd_prefix": "rm(",
     "library": "var_list.r",
     "varRefreshCmd": "cat(var_dic_list()) "
    }
   },
   "position": {
    "height": "551.7391357421875px",
    "left": "1856.0870361328125px",
    "right": "20px",
    "top": "120px",
    "width": "350px"
   },
   "types_to_exclude": [
    "module",
    "function",
    "builtin_function_or_method",
    "instance",
    "_Feature"
   ],
   "window_display": false
  },
  "widgets": {
   "application/vnd.jupyter.widget-state+json": {
    "state": {},
    "version_major": 2,
    "version_minor": 0
   }
  }
 },
 "nbformat": 4,
 "nbformat_minor": 4
}
