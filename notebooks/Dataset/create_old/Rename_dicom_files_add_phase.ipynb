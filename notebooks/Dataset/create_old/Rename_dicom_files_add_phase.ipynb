{
 "cells": [
  {
   "cell_type": "markdown",
   "metadata": {},
   "source": [
    "# Rename the SAX/AX 3D dicom files according to the phase info"
   ]
  },
  {
   "cell_type": "code",
   "execution_count": 2,
   "metadata": {},
   "outputs": [
    {
     "name": "stdout",
     "output_type": "stream",
     "text": [
      "search for root_dir and set working directory\n",
      "Working directory set to: /mnt/data/git/cardio\n"
     ]
    },
    {
     "name": "stderr",
     "output_type": "stream",
     "text": [
      "2020-06-12 08:53:45,585 INFO -------------------- Start --------------------\n",
      "2020-06-12 08:53:45,586 INFO Working directory: /mnt/data/git/cardio.\n",
      "2020-06-12 08:53:45,586 INFO Log file: ./logs/merge_data/rename_dicom_files.log\n",
      "2020-06-12 08:53:45,587 INFO Log level for console: INFO\n",
      "Using TensorFlow backend.\n"
     ]
    }
   ],
   "source": [
    "# define logging and working directory\n",
    "from ProjectRoot import change_wd_to_project_root\n",
    "change_wd_to_project_root()\n",
    "from src.utils.notebook_imports import *\n",
    "from pyforest import *\n",
    "Console_and_file_logger('merge_data/rename_dicom_files', logging.INFO)\n",
    "\n",
    "import SimpleITK as sitk\n",
    "import random\n",
    "from collections import Counter\n",
    "from ipywidgets import interact\n",
    "\n",
    "%matplotlib inline\n",
    "plt.rcParams.update({'font.size': 30})\n",
    "%reload_ext autoreload\n",
    "%autoreload 2\n",
    "pd.options.display.max_columns = None\n",
    "\n",
    "from src.utils.utils_io import Console_and_file_logger, ensure_dir\n",
    "from src.visualization.Visualize import plot_3d_vol, plot_4d_vol, plot_value_histogram, show_2D_or_3D\n",
    "from src.data.Dataset import get_metadata_maybe, filter_4d_vol, copy_meta_and_save, create_3d_volumes_from_4d_files, describe_sitk, describe_volume, describe_path, get_phase, is_patient_in_df, get_extremas\n"
   ]
  },
  {
   "cell_type": "code",
   "execution_count": 3,
   "metadata": {},
   "outputs": [
    {
     "data": {
      "application/vnd.jupyter.widget-view+json": {
       "model_id": "4750ca176d8a4d979ad6fbcd61bdef1c",
       "version_major": 2,
       "version_minor": 0
      },
      "text/plain": [
       "FileChooser(path='/mnt/data/git/cardio/data/raw/gcn_05_2020_ax_sax_86', filename='', show_hidden='False')"
      ]
     },
     "metadata": {},
     "output_type": "display_data"
    }
   ],
   "source": [
    "# Interativ dataframe chooser\n",
    "# select the path to the dicom dataframe\n",
    "from ipyfilechooser import FileChooser\n",
    "df_chooser = FileChooser(os.path.join(os.getcwd(),'data/raw/gcn_05_2020_ax_sax_86'), '')\n",
    "display(df_chooser)"
   ]
  },
  {
   "cell_type": "code",
   "execution_count": 28,
   "metadata": {},
   "outputs": [
    {
     "name": "stdout",
     "output_type": "stream",
     "text": [
      "(429, 14)\n"
     ]
    },
    {
     "data": {
      "text/html": [
       "<div>\n",
       "<style scoped>\n",
       "    .dataframe tbody tr th:only-of-type {\n",
       "        vertical-align: middle;\n",
       "    }\n",
       "\n",
       "    .dataframe tbody tr th {\n",
       "        vertical-align: top;\n",
       "    }\n",
       "\n",
       "    .dataframe thead th {\n",
       "        text-align: right;\n",
       "    }\n",
       "</style>\n",
       "<table border=\"1\" class=\"dataframe\">\n",
       "  <thead>\n",
       "    <tr style=\"text-align: right;\">\n",
       "      <th></th>\n",
       "      <th>patient</th>\n",
       "      <th>x_path</th>\n",
       "      <th>y_path</th>\n",
       "      <th>t</th>\n",
       "      <th>YYYY</th>\n",
       "      <th>MM</th>\n",
       "      <th>DD</th>\n",
       "      <th>ID</th>\n",
       "      <th>ED#</th>\n",
       "      <th>MS#</th>\n",
       "      <th>ES#</th>\n",
       "      <th>PF#</th>\n",
       "      <th>MD#</th>\n",
       "      <th>phase</th>\n",
       "    </tr>\n",
       "  </thead>\n",
       "  <tbody>\n",
       "    <tr>\n",
       "      <th>0</th>\n",
       "      <td>0HQQW4ZN</td>\n",
       "      <td>/mnt/data/git/cardio/data/raw/gcn_05_2020_ax_s...</td>\n",
       "      <td>/mnt/data/git/cardio/data/raw/gcn_05_2020_ax_s...</td>\n",
       "      <td>10</td>\n",
       "      <td>2007</td>\n",
       "      <td>5</td>\n",
       "      <td>23</td>\n",
       "      <td>0HQQW4ZN</td>\n",
       "      <td>25.0</td>\n",
       "      <td>7.0</td>\n",
       "      <td>11.0</td>\n",
       "      <td>16.0</td>\n",
       "      <td>22.0</td>\n",
       "      <td>ES</td>\n",
       "    </tr>\n",
       "    <tr>\n",
       "      <th>1</th>\n",
       "      <td>0HQQW4ZN</td>\n",
       "      <td>/mnt/data/git/cardio/data/raw/gcn_05_2020_ax_s...</td>\n",
       "      <td>/mnt/data/git/cardio/data/raw/gcn_05_2020_ax_s...</td>\n",
       "      <td>15</td>\n",
       "      <td>2007</td>\n",
       "      <td>5</td>\n",
       "      <td>23</td>\n",
       "      <td>0HQQW4ZN</td>\n",
       "      <td>25.0</td>\n",
       "      <td>7.0</td>\n",
       "      <td>11.0</td>\n",
       "      <td>16.0</td>\n",
       "      <td>22.0</td>\n",
       "      <td>PF</td>\n",
       "    </tr>\n",
       "    <tr>\n",
       "      <th>2</th>\n",
       "      <td>0HQQW4ZN</td>\n",
       "      <td>/mnt/data/git/cardio/data/raw/gcn_05_2020_ax_s...</td>\n",
       "      <td>/mnt/data/git/cardio/data/raw/gcn_05_2020_ax_s...</td>\n",
       "      <td>21</td>\n",
       "      <td>2007</td>\n",
       "      <td>5</td>\n",
       "      <td>23</td>\n",
       "      <td>0HQQW4ZN</td>\n",
       "      <td>25.0</td>\n",
       "      <td>7.0</td>\n",
       "      <td>11.0</td>\n",
       "      <td>16.0</td>\n",
       "      <td>22.0</td>\n",
       "      <td>MD</td>\n",
       "    </tr>\n",
       "    <tr>\n",
       "      <th>3</th>\n",
       "      <td>0HQQW4ZN</td>\n",
       "      <td>/mnt/data/git/cardio/data/raw/gcn_05_2020_ax_s...</td>\n",
       "      <td>/mnt/data/git/cardio/data/raw/gcn_05_2020_ax_s...</td>\n",
       "      <td>24</td>\n",
       "      <td>2007</td>\n",
       "      <td>5</td>\n",
       "      <td>23</td>\n",
       "      <td>0HQQW4ZN</td>\n",
       "      <td>25.0</td>\n",
       "      <td>7.0</td>\n",
       "      <td>11.0</td>\n",
       "      <td>16.0</td>\n",
       "      <td>22.0</td>\n",
       "      <td>ED</td>\n",
       "    </tr>\n",
       "    <tr>\n",
       "      <th>4</th>\n",
       "      <td>0HQQW4ZN</td>\n",
       "      <td>/mnt/data/git/cardio/data/raw/gcn_05_2020_ax_s...</td>\n",
       "      <td>/mnt/data/git/cardio/data/raw/gcn_05_2020_ax_s...</td>\n",
       "      <td>6</td>\n",
       "      <td>2007</td>\n",
       "      <td>5</td>\n",
       "      <td>23</td>\n",
       "      <td>0HQQW4ZN</td>\n",
       "      <td>25.0</td>\n",
       "      <td>7.0</td>\n",
       "      <td>11.0</td>\n",
       "      <td>16.0</td>\n",
       "      <td>22.0</td>\n",
       "      <td>MS</td>\n",
       "    </tr>\n",
       "  </tbody>\n",
       "</table>\n",
       "</div>"
      ],
      "text/plain": [
       "    patient                                             x_path  \\\n",
       "0  0HQQW4ZN  /mnt/data/git/cardio/data/raw/gcn_05_2020_ax_s...   \n",
       "1  0HQQW4ZN  /mnt/data/git/cardio/data/raw/gcn_05_2020_ax_s...   \n",
       "2  0HQQW4ZN  /mnt/data/git/cardio/data/raw/gcn_05_2020_ax_s...   \n",
       "3  0HQQW4ZN  /mnt/data/git/cardio/data/raw/gcn_05_2020_ax_s...   \n",
       "4  0HQQW4ZN  /mnt/data/git/cardio/data/raw/gcn_05_2020_ax_s...   \n",
       "\n",
       "                                              y_path   t  YYYY  MM  DD  \\\n",
       "0  /mnt/data/git/cardio/data/raw/gcn_05_2020_ax_s...  10  2007   5  23   \n",
       "1  /mnt/data/git/cardio/data/raw/gcn_05_2020_ax_s...  15  2007   5  23   \n",
       "2  /mnt/data/git/cardio/data/raw/gcn_05_2020_ax_s...  21  2007   5  23   \n",
       "3  /mnt/data/git/cardio/data/raw/gcn_05_2020_ax_s...  24  2007   5  23   \n",
       "4  /mnt/data/git/cardio/data/raw/gcn_05_2020_ax_s...   6  2007   5  23   \n",
       "\n",
       "         ID   ED#  MS#   ES#   PF#   MD# phase  \n",
       "0  0HQQW4ZN  25.0  7.0  11.0  16.0  22.0    ES  \n",
       "1  0HQQW4ZN  25.0  7.0  11.0  16.0  22.0    PF  \n",
       "2  0HQQW4ZN  25.0  7.0  11.0  16.0  22.0    MD  \n",
       "3  0HQQW4ZN  25.0  7.0  11.0  16.0  22.0    ED  \n",
       "4  0HQQW4ZN  25.0  7.0  11.0  16.0  22.0    MS  "
      ]
     },
     "execution_count": 28,
     "metadata": {},
     "output_type": "execute_result"
    }
   ],
   "source": [
    "# read 4D dataframe\n",
    "df = pd.read_csv(df_chooser.selected)\n",
    "print(df.shape)\n",
    "df.head()"
   ]
  },
  {
   "cell_type": "code",
   "execution_count": 29,
   "metadata": {},
   "outputs": [],
   "source": [
    "# helper to replace the t0-9 substring in the x and y file names with the phase\n",
    "def get_new_name(full_filename, phase):\n",
    "    p, f = os.path.split(full_filename)\n",
    "    f_ = re.sub('__t[0-9]+', '_{}'.format(phase), f)\n",
    "    return os.path.join(p, f_)\n",
    "\n",
    "def rename_x_path_y_path(row):\n",
    "    import re\n",
    "    phase = row['phase']\n",
    "    \n",
    "    old_x = row['x_path']\n",
    "    old_y = row['y_path']\n",
    "    new_x = get_new_name(old_x, phase)\n",
    "    new_y = get_new_name(old_y, phase)\n",
    "    try:\n",
    "        os.rename(old_x, new_x)\n",
    "        os.rename(old_y, new_y)\n",
    "    except Exception as e:\n",
    "        logging.debug(str(e))\n",
    "    return new_x, new_y\n",
    "    \n",
    "    "
   ]
  },
  {
   "cell_type": "code",
   "execution_count": 30,
   "metadata": {},
   "outputs": [],
   "source": [
    "# rename the x and y path of the dicom files and save the new file names to the dataframe\n",
    "df['x_path'], df['y_path'] = zip(*df.apply(rename_x_path_y_path, axis=1))"
   ]
  },
  {
   "cell_type": "code",
   "execution_count": 31,
   "metadata": {},
   "outputs": [],
   "source": [
    "df.to_csv(df_chooser.selected, index=False)"
   ]
  },
  {
   "cell_type": "code",
   "execution_count": null,
   "metadata": {},
   "outputs": [],
   "source": []
  }
 ],
 "metadata": {
  "kernelspec": {
   "display_name": "Python 3",
   "language": "python",
   "name": "python3"
  },
  "language_info": {
   "codemirror_mode": {
    "name": "ipython",
    "version": 3
   },
   "file_extension": ".py",
   "mimetype": "text/x-python",
   "name": "python",
   "nbconvert_exporter": "python",
   "pygments_lexer": "ipython3",
   "version": "3.6.9"
  },
  "widgets": {
   "application/vnd.jupyter.widget-state+json": {
    "state": {},
    "version_major": 2,
    "version_minor": 0
   }
  }
 },
 "nbformat": 4,
 "nbformat_minor": 4
}
