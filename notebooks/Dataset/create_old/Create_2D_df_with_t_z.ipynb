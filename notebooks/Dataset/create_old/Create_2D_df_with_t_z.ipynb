{
 "cells": [
  {
   "cell_type": "code",
   "execution_count": 1,
   "metadata": {},
   "outputs": [
    {
     "name": "stdout",
     "output_type": "stream",
     "text": [
      "search for root_dir and set working directory\n",
      "Working directory set to: /mnt/data/git/cardio\n"
     ]
    },
    {
     "name": "stderr",
     "output_type": "stream",
     "text": [
      "2020-06-12 10:23:38,560 INFO -------------------- Start --------------------\n",
      "2020-06-12 10:23:38,563 INFO Working directory: /mnt/data/git/cardio.\n",
      "2020-06-12 10:23:38,563 INFO Log file: ./logs/Clean_Repo.log\n",
      "2020-06-12 10:23:38,563 INFO Log level for console: INFO\n"
     ]
    },
    {
     "data": {
      "text/plain": [
       "<src.utils.utils_io.Console_and_file_logger at 0x7f78580b05f8>"
      ]
     },
     "execution_count": 1,
     "metadata": {},
     "output_type": "execute_result"
    }
   ],
   "source": [
    "# define logging and working directory\n",
    "from ProjectRoot import change_wd_to_project_root \n",
    "change_wd_to_project_root()\n",
    "%matplotlib inline\n",
    "%reload_ext autoreload\n",
    "%autoreload 2\n",
    "from src.utils.notebook_imports import *\n",
    "Console_and_file_logger('Clean_Repo')"
   ]
  },
  {
   "cell_type": "markdown",
   "metadata": {},
   "source": [
    "# Create a 2D dataframe \n",
    "## Extract the t and z position from the filenames\n",
    "## normalize labeled timesteps to values between 0 and 5\n",
    "## Filter all patients with less than 5 labeled timesteps\n",
    " "
   ]
  },
  {
   "cell_type": "code",
   "execution_count": 16,
   "metadata": {},
   "outputs": [],
   "source": [
    "# GCN & ACDC DATA\n",
    "kfold_data_dir = 'reports/kfolds_data/2D/gcn/df_kfold.csv'\n",
    "df_folds = pd.read_csv(kfold_data_dir)\n"
   ]
  },
  {
   "cell_type": "code",
   "execution_count": 17,
   "metadata": {},
   "outputs": [
    {
     "data": {
      "text/html": [
       "<div>\n",
       "<style scoped>\n",
       "    .dataframe tbody tr th:only-of-type {\n",
       "        vertical-align: middle;\n",
       "    }\n",
       "\n",
       "    .dataframe tbody tr th {\n",
       "        vertical-align: top;\n",
       "    }\n",
       "\n",
       "    .dataframe thead th {\n",
       "        text-align: right;\n",
       "    }\n",
       "</style>\n",
       "<table border=\"1\" class=\"dataframe\">\n",
       "  <thead>\n",
       "    <tr style=\"text-align: right;\">\n",
       "      <th></th>\n",
       "      <th>Unnamed: 0</th>\n",
       "      <th>fold</th>\n",
       "      <th>x_path</th>\n",
       "      <th>y_path</th>\n",
       "      <th>modality</th>\n",
       "      <th>patient</th>\n",
       "    </tr>\n",
       "  </thead>\n",
       "  <tbody>\n",
       "    <tr>\n",
       "      <th>0</th>\n",
       "      <td>0</td>\n",
       "      <td>3</td>\n",
       "      <td>data/raw/GCN/2D/test/0019-1EMMCVKN-2006-06-29_...</td>\n",
       "      <td>data/raw/GCN/2D/test/0019-1EMMCVKN-2006-06-29_...</td>\n",
       "      <td>train</td>\n",
       "      <td>0019-1EMMCVKN-2006-06-29</td>\n",
       "    </tr>\n",
       "    <tr>\n",
       "      <th>1</th>\n",
       "      <td>1</td>\n",
       "      <td>3</td>\n",
       "      <td>data/raw/GCN/2D/test/0019-1EMMCVKN-2006-06-29_...</td>\n",
       "      <td>data/raw/GCN/2D/test/0019-1EMMCVKN-2006-06-29_...</td>\n",
       "      <td>train</td>\n",
       "      <td>0019-1EMMCVKN-2006-06-29</td>\n",
       "    </tr>\n",
       "    <tr>\n",
       "      <th>2</th>\n",
       "      <td>2</td>\n",
       "      <td>3</td>\n",
       "      <td>data/raw/GCN/2D/test/0019-1EMMCVKN-2006-06-29_...</td>\n",
       "      <td>data/raw/GCN/2D/test/0019-1EMMCVKN-2006-06-29_...</td>\n",
       "      <td>train</td>\n",
       "      <td>0019-1EMMCVKN-2006-06-29</td>\n",
       "    </tr>\n",
       "    <tr>\n",
       "      <th>3</th>\n",
       "      <td>3</td>\n",
       "      <td>3</td>\n",
       "      <td>data/raw/GCN/2D/test/0019-1EMMCVKN-2006-06-29_...</td>\n",
       "      <td>data/raw/GCN/2D/test/0019-1EMMCVKN-2006-06-29_...</td>\n",
       "      <td>train</td>\n",
       "      <td>0019-1EMMCVKN-2006-06-29</td>\n",
       "    </tr>\n",
       "    <tr>\n",
       "      <th>4</th>\n",
       "      <td>4</td>\n",
       "      <td>3</td>\n",
       "      <td>data/raw/GCN/2D/test/0019-1EMMCVKN-2006-06-29_...</td>\n",
       "      <td>data/raw/GCN/2D/test/0019-1EMMCVKN-2006-06-29_...</td>\n",
       "      <td>train</td>\n",
       "      <td>0019-1EMMCVKN-2006-06-29</td>\n",
       "    </tr>\n",
       "  </tbody>\n",
       "</table>\n",
       "</div>"
      ],
      "text/plain": [
       "   Unnamed: 0  fold                                             x_path  \\\n",
       "0           0     3  data/raw/GCN/2D/test/0019-1EMMCVKN-2006-06-29_...   \n",
       "1           1     3  data/raw/GCN/2D/test/0019-1EMMCVKN-2006-06-29_...   \n",
       "2           2     3  data/raw/GCN/2D/test/0019-1EMMCVKN-2006-06-29_...   \n",
       "3           3     3  data/raw/GCN/2D/test/0019-1EMMCVKN-2006-06-29_...   \n",
       "4           4     3  data/raw/GCN/2D/test/0019-1EMMCVKN-2006-06-29_...   \n",
       "\n",
       "                                              y_path modality  \\\n",
       "0  data/raw/GCN/2D/test/0019-1EMMCVKN-2006-06-29_...    train   \n",
       "1  data/raw/GCN/2D/test/0019-1EMMCVKN-2006-06-29_...    train   \n",
       "2  data/raw/GCN/2D/test/0019-1EMMCVKN-2006-06-29_...    train   \n",
       "3  data/raw/GCN/2D/test/0019-1EMMCVKN-2006-06-29_...    train   \n",
       "4  data/raw/GCN/2D/test/0019-1EMMCVKN-2006-06-29_...    train   \n",
       "\n",
       "                    patient  \n",
       "0  0019-1EMMCVKN-2006-06-29  \n",
       "1  0019-1EMMCVKN-2006-06-29  \n",
       "2  0019-1EMMCVKN-2006-06-29  \n",
       "3  0019-1EMMCVKN-2006-06-29  \n",
       "4  0019-1EMMCVKN-2006-06-29  "
      ]
     },
     "execution_count": 17,
     "metadata": {},
     "output_type": "execute_result"
    }
   ],
   "source": [
    "df_folds.head()"
   ]
  },
  {
   "cell_type": "code",
   "execution_count": 18,
   "metadata": {},
   "outputs": [],
   "source": [
    "from src.data.dataset import *\n",
    "df_folds['t'] = df_folds['x_path'].map(get_t_position_from_filename)\n",
    "df_folds['z'] = df_folds['x_path'].map(get_z_position_from_filename)"
   ]
  },
  {
   "cell_type": "code",
   "execution_count": 19,
   "metadata": {},
   "outputs": [
    {
     "data": {
      "text/html": [
       "<div>\n",
       "<style scoped>\n",
       "    .dataframe tbody tr th:only-of-type {\n",
       "        vertical-align: middle;\n",
       "    }\n",
       "\n",
       "    .dataframe tbody tr th {\n",
       "        vertical-align: top;\n",
       "    }\n",
       "\n",
       "    .dataframe thead th {\n",
       "        text-align: right;\n",
       "    }\n",
       "</style>\n",
       "<table border=\"1\" class=\"dataframe\">\n",
       "  <thead>\n",
       "    <tr style=\"text-align: right;\">\n",
       "      <th></th>\n",
       "      <th>Unnamed: 0</th>\n",
       "      <th>fold</th>\n",
       "      <th>x_path</th>\n",
       "      <th>y_path</th>\n",
       "      <th>modality</th>\n",
       "      <th>patient</th>\n",
       "      <th>t</th>\n",
       "      <th>z</th>\n",
       "    </tr>\n",
       "  </thead>\n",
       "  <tbody>\n",
       "    <tr>\n",
       "      <th>0</th>\n",
       "      <td>0</td>\n",
       "      <td>3</td>\n",
       "      <td>data/raw/GCN/2D/test/0019-1EMMCVKN-2006-06-29_...</td>\n",
       "      <td>data/raw/GCN/2D/test/0019-1EMMCVKN-2006-06-29_...</td>\n",
       "      <td>train</td>\n",
       "      <td>0019-1EMMCVKN-2006-06-29</td>\n",
       "      <td>13</td>\n",
       "      <td>0</td>\n",
       "    </tr>\n",
       "    <tr>\n",
       "      <th>1</th>\n",
       "      <td>1</td>\n",
       "      <td>3</td>\n",
       "      <td>data/raw/GCN/2D/test/0019-1EMMCVKN-2006-06-29_...</td>\n",
       "      <td>data/raw/GCN/2D/test/0019-1EMMCVKN-2006-06-29_...</td>\n",
       "      <td>train</td>\n",
       "      <td>0019-1EMMCVKN-2006-06-29</td>\n",
       "      <td>13</td>\n",
       "      <td>10</td>\n",
       "    </tr>\n",
       "    <tr>\n",
       "      <th>2</th>\n",
       "      <td>2</td>\n",
       "      <td>3</td>\n",
       "      <td>data/raw/GCN/2D/test/0019-1EMMCVKN-2006-06-29_...</td>\n",
       "      <td>data/raw/GCN/2D/test/0019-1EMMCVKN-2006-06-29_...</td>\n",
       "      <td>train</td>\n",
       "      <td>0019-1EMMCVKN-2006-06-29</td>\n",
       "      <td>13</td>\n",
       "      <td>11</td>\n",
       "    </tr>\n",
       "    <tr>\n",
       "      <th>3</th>\n",
       "      <td>3</td>\n",
       "      <td>3</td>\n",
       "      <td>data/raw/GCN/2D/test/0019-1EMMCVKN-2006-06-29_...</td>\n",
       "      <td>data/raw/GCN/2D/test/0019-1EMMCVKN-2006-06-29_...</td>\n",
       "      <td>train</td>\n",
       "      <td>0019-1EMMCVKN-2006-06-29</td>\n",
       "      <td>13</td>\n",
       "      <td>1</td>\n",
       "    </tr>\n",
       "    <tr>\n",
       "      <th>4</th>\n",
       "      <td>4</td>\n",
       "      <td>3</td>\n",
       "      <td>data/raw/GCN/2D/test/0019-1EMMCVKN-2006-06-29_...</td>\n",
       "      <td>data/raw/GCN/2D/test/0019-1EMMCVKN-2006-06-29_...</td>\n",
       "      <td>train</td>\n",
       "      <td>0019-1EMMCVKN-2006-06-29</td>\n",
       "      <td>13</td>\n",
       "      <td>2</td>\n",
       "    </tr>\n",
       "  </tbody>\n",
       "</table>\n",
       "</div>"
      ],
      "text/plain": [
       "   Unnamed: 0  fold                                             x_path  \\\n",
       "0           0     3  data/raw/GCN/2D/test/0019-1EMMCVKN-2006-06-29_...   \n",
       "1           1     3  data/raw/GCN/2D/test/0019-1EMMCVKN-2006-06-29_...   \n",
       "2           2     3  data/raw/GCN/2D/test/0019-1EMMCVKN-2006-06-29_...   \n",
       "3           3     3  data/raw/GCN/2D/test/0019-1EMMCVKN-2006-06-29_...   \n",
       "4           4     3  data/raw/GCN/2D/test/0019-1EMMCVKN-2006-06-29_...   \n",
       "\n",
       "                                              y_path modality  \\\n",
       "0  data/raw/GCN/2D/test/0019-1EMMCVKN-2006-06-29_...    train   \n",
       "1  data/raw/GCN/2D/test/0019-1EMMCVKN-2006-06-29_...    train   \n",
       "2  data/raw/GCN/2D/test/0019-1EMMCVKN-2006-06-29_...    train   \n",
       "3  data/raw/GCN/2D/test/0019-1EMMCVKN-2006-06-29_...    train   \n",
       "4  data/raw/GCN/2D/test/0019-1EMMCVKN-2006-06-29_...    train   \n",
       "\n",
       "                    patient   t   z  \n",
       "0  0019-1EMMCVKN-2006-06-29  13   0  \n",
       "1  0019-1EMMCVKN-2006-06-29  13  10  \n",
       "2  0019-1EMMCVKN-2006-06-29  13  11  \n",
       "3  0019-1EMMCVKN-2006-06-29  13   1  \n",
       "4  0019-1EMMCVKN-2006-06-29  13   2  "
      ]
     },
     "execution_count": 19,
     "metadata": {},
     "output_type": "execute_result"
    }
   ],
   "source": [
    "df_folds.head()"
   ]
  },
  {
   "cell_type": "code",
   "execution_count": 20,
   "metadata": {},
   "outputs": [],
   "source": [
    "def norm_t(df):\n",
    "    \n",
    "    patients = []\n",
    "    for p in sorted(df_folds['patient'].unique()):\n",
    "        # slice all rows of this patient\n",
    "        df_patient_temp = df_folds[df_folds['patient'] == p].copy()\n",
    "        # get a ordered list of timesteps for this patient\n",
    "        relative_t = sorted(df_patient_temp['t'].unique())\n",
    "        # create a dict with replacement values\n",
    "        replace = {key:value for key, value in zip(relative_t, np.arange(len(relative_t)))}\n",
    "        # create a normalized timestep column from the current t and the replacement dict\n",
    "        df_patient_temp['t_norm'] = df_patient_temp['t'].replace(to_replace=replace)\n",
    "        patients.append(df_patient_temp)\n",
    "    return pd.concat(patients)\n",
    "\n",
    "df_folds = norm_t(df_folds)"
   ]
  },
  {
   "cell_type": "code",
   "execution_count": 21,
   "metadata": {},
   "outputs": [],
   "source": [
    "df_folds = df_folds.loc[:, ~df_folds.columns.str.contains('^Unnamed')]"
   ]
  },
  {
   "cell_type": "code",
   "execution_count": 22,
   "metadata": {},
   "outputs": [
    {
     "data": {
      "text/html": [
       "<div>\n",
       "<style scoped>\n",
       "    .dataframe tbody tr th:only-of-type {\n",
       "        vertical-align: middle;\n",
       "    }\n",
       "\n",
       "    .dataframe tbody tr th {\n",
       "        vertical-align: top;\n",
       "    }\n",
       "\n",
       "    .dataframe thead th {\n",
       "        text-align: right;\n",
       "    }\n",
       "</style>\n",
       "<table border=\"1\" class=\"dataframe\">\n",
       "  <thead>\n",
       "    <tr style=\"text-align: right;\">\n",
       "      <th></th>\n",
       "      <th>fold</th>\n",
       "      <th>x_path</th>\n",
       "      <th>y_path</th>\n",
       "      <th>modality</th>\n",
       "      <th>patient</th>\n",
       "      <th>t</th>\n",
       "      <th>z</th>\n",
       "      <th>t_norm</th>\n",
       "    </tr>\n",
       "  </thead>\n",
       "  <tbody>\n",
       "    <tr>\n",
       "      <th>1690</th>\n",
       "      <td>3</td>\n",
       "      <td>data/raw/GCN/2D/train/0003-04NEJQUZ-2007-03-13...</td>\n",
       "      <td>data/raw/GCN/2D/train/0003-04NEJQUZ-2007-03-13...</td>\n",
       "      <td>train</td>\n",
       "      <td>0003-04NEJQUZ-2007-03-13</td>\n",
       "      <td>12</td>\n",
       "      <td>0</td>\n",
       "      <td>1</td>\n",
       "    </tr>\n",
       "    <tr>\n",
       "      <th>1691</th>\n",
       "      <td>3</td>\n",
       "      <td>data/raw/GCN/2D/train/0003-04NEJQUZ-2007-03-13...</td>\n",
       "      <td>data/raw/GCN/2D/train/0003-04NEJQUZ-2007-03-13...</td>\n",
       "      <td>train</td>\n",
       "      <td>0003-04NEJQUZ-2007-03-13</td>\n",
       "      <td>12</td>\n",
       "      <td>10</td>\n",
       "      <td>1</td>\n",
       "    </tr>\n",
       "    <tr>\n",
       "      <th>1692</th>\n",
       "      <td>3</td>\n",
       "      <td>data/raw/GCN/2D/train/0003-04NEJQUZ-2007-03-13...</td>\n",
       "      <td>data/raw/GCN/2D/train/0003-04NEJQUZ-2007-03-13...</td>\n",
       "      <td>train</td>\n",
       "      <td>0003-04NEJQUZ-2007-03-13</td>\n",
       "      <td>12</td>\n",
       "      <td>11</td>\n",
       "      <td>1</td>\n",
       "    </tr>\n",
       "    <tr>\n",
       "      <th>1693</th>\n",
       "      <td>3</td>\n",
       "      <td>data/raw/GCN/2D/train/0003-04NEJQUZ-2007-03-13...</td>\n",
       "      <td>data/raw/GCN/2D/train/0003-04NEJQUZ-2007-03-13...</td>\n",
       "      <td>train</td>\n",
       "      <td>0003-04NEJQUZ-2007-03-13</td>\n",
       "      <td>12</td>\n",
       "      <td>12</td>\n",
       "      <td>1</td>\n",
       "    </tr>\n",
       "    <tr>\n",
       "      <th>1694</th>\n",
       "      <td>3</td>\n",
       "      <td>data/raw/GCN/2D/train/0003-04NEJQUZ-2007-03-13...</td>\n",
       "      <td>data/raw/GCN/2D/train/0003-04NEJQUZ-2007-03-13...</td>\n",
       "      <td>train</td>\n",
       "      <td>0003-04NEJQUZ-2007-03-13</td>\n",
       "      <td>12</td>\n",
       "      <td>13</td>\n",
       "      <td>1</td>\n",
       "    </tr>\n",
       "  </tbody>\n",
       "</table>\n",
       "</div>"
      ],
      "text/plain": [
       "      fold                                             x_path  \\\n",
       "1690     3  data/raw/GCN/2D/train/0003-04NEJQUZ-2007-03-13...   \n",
       "1691     3  data/raw/GCN/2D/train/0003-04NEJQUZ-2007-03-13...   \n",
       "1692     3  data/raw/GCN/2D/train/0003-04NEJQUZ-2007-03-13...   \n",
       "1693     3  data/raw/GCN/2D/train/0003-04NEJQUZ-2007-03-13...   \n",
       "1694     3  data/raw/GCN/2D/train/0003-04NEJQUZ-2007-03-13...   \n",
       "\n",
       "                                                 y_path modality  \\\n",
       "1690  data/raw/GCN/2D/train/0003-04NEJQUZ-2007-03-13...    train   \n",
       "1691  data/raw/GCN/2D/train/0003-04NEJQUZ-2007-03-13...    train   \n",
       "1692  data/raw/GCN/2D/train/0003-04NEJQUZ-2007-03-13...    train   \n",
       "1693  data/raw/GCN/2D/train/0003-04NEJQUZ-2007-03-13...    train   \n",
       "1694  data/raw/GCN/2D/train/0003-04NEJQUZ-2007-03-13...    train   \n",
       "\n",
       "                       patient   t   z  t_norm  \n",
       "1690  0003-04NEJQUZ-2007-03-13  12   0       1  \n",
       "1691  0003-04NEJQUZ-2007-03-13  12  10       1  \n",
       "1692  0003-04NEJQUZ-2007-03-13  12  11       1  \n",
       "1693  0003-04NEJQUZ-2007-03-13  12  12       1  \n",
       "1694  0003-04NEJQUZ-2007-03-13  12  13       1  "
      ]
     },
     "execution_count": 22,
     "metadata": {},
     "output_type": "execute_result"
    }
   ],
   "source": [
    "df_folds.head()"
   ]
  },
  {
   "cell_type": "code",
   "execution_count": 23,
   "metadata": {},
   "outputs": [],
   "source": [
    "df_folds.to_csv('reports/kfolds_data/2D/gcn/df_kfold.csv')"
   ]
  },
  {
   "cell_type": "code",
   "execution_count": 24,
   "metadata": {},
   "outputs": [],
   "source": [
    "df_folds = pd.read_csv('reports/kfolds_data/2D/gcn/df_kfold.csv')"
   ]
  },
  {
   "cell_type": "code",
   "execution_count": 25,
   "metadata": {},
   "outputs": [],
   "source": [
    "df_fold = df_folds[df_folds['fold'] == 0]"
   ]
  },
  {
   "cell_type": "code",
   "execution_count": 26,
   "metadata": {},
   "outputs": [
    {
     "data": {
      "text/plain": [
       "(14344, 9)"
      ]
     },
     "execution_count": 26,
     "metadata": {},
     "output_type": "execute_result"
    }
   ],
   "source": [
    "df_fold.shape"
   ]
  },
  {
   "cell_type": "code",
   "execution_count": 27,
   "metadata": {},
   "outputs": [
    {
     "data": {
      "text/plain": [
       "(2903,)"
      ]
     },
     "execution_count": 27,
     "metadata": {},
     "output_type": "execute_result"
    }
   ],
   "source": [
    "df_fold[df_fold['t_norm'] == 0]['x_path'].shape"
   ]
  },
  {
   "cell_type": "code",
   "execution_count": 28,
   "metadata": {},
   "outputs": [
    {
     "data": {
      "text/plain": [
       "(2867,)"
      ]
     },
     "execution_count": 28,
     "metadata": {},
     "output_type": "execute_result"
    }
   ],
   "source": [
    "df_fold[df_fold['t_norm'] == 1]['x_path'].shape"
   ]
  },
  {
   "cell_type": "code",
   "execution_count": 29,
   "metadata": {},
   "outputs": [
    {
     "data": {
      "text/plain": [
       "array([1, 2, 3, 4, 0, 5])"
      ]
     },
     "execution_count": 29,
     "metadata": {},
     "output_type": "execute_result"
    }
   ],
   "source": [
    "df_folds['t_norm'].unique()"
   ]
  },
  {
   "cell_type": "markdown",
   "metadata": {},
   "source": [
    "# Some patients have more than 5 labeled timesteps\n",
    "# we need to drop them"
   ]
  },
  {
   "cell_type": "code",
   "execution_count": 30,
   "metadata": {},
   "outputs": [
    {
     "data": {
      "text/plain": [
       "array([[<matplotlib.axes._subplots.AxesSubplot object at 0x7fcf91377d68>]],\n",
       "      dtype=object)"
      ]
     },
     "execution_count": 30,
     "metadata": {},
     "output_type": "execute_result"
    },
    {
     "data": {
      "image/png": "[encoded data removed]",
      "text/plain": [
       "<Figure size 432x288 with 1 Axes>"
      ]
     },
     "metadata": {
      "needs_background": "light"
     },
     "output_type": "display_data"
    }
   ],
   "source": [
    "df_fold[['t_norm']].hist()"
   ]
  },
  {
   "cell_type": "code",
   "execution_count": 31,
   "metadata": {},
   "outputs": [],
   "source": [
    "# filter patients with len(t_norm.unique()) != 5\n",
    "df_temp = df_fold.apply(lambda x : (len(df_fold[df_fold['patient'] == x['patient']]['t_norm'].unique()) != 5), axis=1)"
   ]
  },
  {
   "cell_type": "code",
   "execution_count": 32,
   "metadata": {},
   "outputs": [
    {
     "data": {
      "text/plain": [
       "209"
      ]
     },
     "execution_count": 32,
     "metadata": {},
     "output_type": "execute_result"
    }
   ],
   "source": [
    "# how many patients do we have?\n",
    "df_fold.shape\n",
    "len(df_fold.patient.unique())"
   ]
  },
  {
   "cell_type": "code",
   "execution_count": 33,
   "metadata": {},
   "outputs": [
    {
     "data": {
      "text/plain": [
       "203"
      ]
     },
     "execution_count": 33,
     "metadata": {},
     "output_type": "execute_result"
    }
   ],
   "source": [
    "# how many patients with 5 labelled timesteps do we have?, difference have more or less timesteps\n",
    "df = df_fold[~df_temp]\n",
    "len(df.patient.unique())"
   ]
  },
  {
   "cell_type": "code",
   "execution_count": 34,
   "metadata": {},
   "outputs": [
    {
     "data": {
      "text/plain": [
       "(2826,)"
      ]
     },
     "execution_count": 34,
     "metadata": {},
     "output_type": "execute_result"
    }
   ],
   "source": [
    "df[df['t_norm'] == 0]['x_path'].shape\n",
    "df[df['t_norm'] == 1]['x_path'].shape\n",
    "df[df['t_norm'] == 2]['x_path'].shape\n",
    "df[df['t_norm'] == 3]['x_path'].shape\n",
    "df[df['t_norm'] == 4]['x_path'].shape"
   ]
  },
  {
   "cell_type": "code",
   "execution_count": 35,
   "metadata": {},
   "outputs": [],
   "source": [
    "df.to_csv('reports/motion/2D/gcn/only_2d_slices_with_5_timesteps.csv')"
   ]
  },
  {
   "cell_type": "code",
   "execution_count": 36,
   "metadata": {},
   "outputs": [
    {
     "data": {
      "text/html": [
       "<div>\n",
       "<style scoped>\n",
       "    .dataframe tbody tr th:only-of-type {\n",
       "        vertical-align: middle;\n",
       "    }\n",
       "\n",
       "    .dataframe tbody tr th {\n",
       "        vertical-align: top;\n",
       "    }\n",
       "\n",
       "    .dataframe thead th {\n",
       "        text-align: right;\n",
       "    }\n",
       "</style>\n",
       "<table border=\"1\" class=\"dataframe\">\n",
       "  <thead>\n",
       "    <tr style=\"text-align: right;\">\n",
       "      <th></th>\n",
       "      <th>Unnamed: 0</th>\n",
       "      <th>fold</th>\n",
       "      <th>x_path</th>\n",
       "      <th>y_path</th>\n",
       "      <th>modality</th>\n",
       "      <th>patient</th>\n",
       "      <th>t</th>\n",
       "      <th>z</th>\n",
       "      <th>t_norm</th>\n",
       "    </tr>\n",
       "  </thead>\n",
       "  <tbody>\n",
       "    <tr>\n",
       "      <th>240</th>\n",
       "      <td>44142</td>\n",
       "      <td>0</td>\n",
       "      <td>data/raw/GCN/2D/train/0003-04NEJQUZ-2007-03-13...</td>\n",
       "      <td>data/raw/GCN/2D/train/0003-04NEJQUZ-2007-03-13...</td>\n",
       "      <td>train</td>\n",
       "      <td>0003-04NEJQUZ-2007-03-13</td>\n",
       "      <td>12</td>\n",
       "      <td>0</td>\n",
       "      <td>1</td>\n",
       "    </tr>\n",
       "    <tr>\n",
       "      <th>241</th>\n",
       "      <td>44143</td>\n",
       "      <td>0</td>\n",
       "      <td>data/raw/GCN/2D/train/0003-04NEJQUZ-2007-03-13...</td>\n",
       "      <td>data/raw/GCN/2D/train/0003-04NEJQUZ-2007-03-13...</td>\n",
       "      <td>train</td>\n",
       "      <td>0003-04NEJQUZ-2007-03-13</td>\n",
       "      <td>12</td>\n",
       "      <td>10</td>\n",
       "      <td>1</td>\n",
       "    </tr>\n",
       "    <tr>\n",
       "      <th>242</th>\n",
       "      <td>44144</td>\n",
       "      <td>0</td>\n",
       "      <td>data/raw/GCN/2D/train/0003-04NEJQUZ-2007-03-13...</td>\n",
       "      <td>data/raw/GCN/2D/train/0003-04NEJQUZ-2007-03-13...</td>\n",
       "      <td>train</td>\n",
       "      <td>0003-04NEJQUZ-2007-03-13</td>\n",
       "      <td>12</td>\n",
       "      <td>11</td>\n",
       "      <td>1</td>\n",
       "    </tr>\n",
       "    <tr>\n",
       "      <th>243</th>\n",
       "      <td>44145</td>\n",
       "      <td>0</td>\n",
       "      <td>data/raw/GCN/2D/train/0003-04NEJQUZ-2007-03-13...</td>\n",
       "      <td>data/raw/GCN/2D/train/0003-04NEJQUZ-2007-03-13...</td>\n",
       "      <td>train</td>\n",
       "      <td>0003-04NEJQUZ-2007-03-13</td>\n",
       "      <td>12</td>\n",
       "      <td>12</td>\n",
       "      <td>1</td>\n",
       "    </tr>\n",
       "    <tr>\n",
       "      <th>244</th>\n",
       "      <td>44146</td>\n",
       "      <td>0</td>\n",
       "      <td>data/raw/GCN/2D/train/0003-04NEJQUZ-2007-03-13...</td>\n",
       "      <td>data/raw/GCN/2D/train/0003-04NEJQUZ-2007-03-13...</td>\n",
       "      <td>train</td>\n",
       "      <td>0003-04NEJQUZ-2007-03-13</td>\n",
       "      <td>12</td>\n",
       "      <td>13</td>\n",
       "      <td>1</td>\n",
       "    </tr>\n",
       "  </tbody>\n",
       "</table>\n",
       "</div>"
      ],
      "text/plain": [
       "     Unnamed: 0  fold                                             x_path  \\\n",
       "240       44142     0  data/raw/GCN/2D/train/0003-04NEJQUZ-2007-03-13...   \n",
       "241       44143     0  data/raw/GCN/2D/train/0003-04NEJQUZ-2007-03-13...   \n",
       "242       44144     0  data/raw/GCN/2D/train/0003-04NEJQUZ-2007-03-13...   \n",
       "243       44145     0  data/raw/GCN/2D/train/0003-04NEJQUZ-2007-03-13...   \n",
       "244       44146     0  data/raw/GCN/2D/train/0003-04NEJQUZ-2007-03-13...   \n",
       "\n",
       "                                                y_path modality  \\\n",
       "240  data/raw/GCN/2D/train/0003-04NEJQUZ-2007-03-13...    train   \n",
       "241  data/raw/GCN/2D/train/0003-04NEJQUZ-2007-03-13...    train   \n",
       "242  data/raw/GCN/2D/train/0003-04NEJQUZ-2007-03-13...    train   \n",
       "243  data/raw/GCN/2D/train/0003-04NEJQUZ-2007-03-13...    train   \n",
       "244  data/raw/GCN/2D/train/0003-04NEJQUZ-2007-03-13...    train   \n",
       "\n",
       "                      patient   t   z  t_norm  \n",
       "240  0003-04NEJQUZ-2007-03-13  12   0       1  \n",
       "241  0003-04NEJQUZ-2007-03-13  12  10       1  \n",
       "242  0003-04NEJQUZ-2007-03-13  12  11       1  \n",
       "243  0003-04NEJQUZ-2007-03-13  12  12       1  \n",
       "244  0003-04NEJQUZ-2007-03-13  12  13       1  "
      ]
     },
     "execution_count": 36,
     "metadata": {},
     "output_type": "execute_result"
    }
   ],
   "source": [
    "df.head()"
   ]
  },
  {
   "cell_type": "markdown",
   "metadata": {},
   "source": [
    "# Create a motiongenerator from dataframe --> train voxelmorph"
   ]
  },
  {
   "cell_type": "code",
   "execution_count": 40,
   "metadata": {},
   "outputs": [
    {
     "name": "stderr",
     "output_type": "stream",
     "text": [
      "2019-10-01 15:48:23,385 INFO Create DataGenerator\n",
      "2019-10-01 15:48:23,417 INFO Datagenerator created with: \n",
      " shape: [256, 256]\n",
      " batchsize: 32\n",
      " Scaler: MinMax\n",
      " Images: 10764 \n",
      " Augment_grid: False \n",
      " Thread workers: 32\n",
      "2019-10-01 15:48:23,417 INFO No augmentation\n"
     ]
    }
   ],
   "source": [
    "from src.data.generators import MotionDataGenerator\n",
    "# create a list of z slices with t_n and t_n+1 , not possible for the last timestep\n",
    "t_1 = np.concatenate([df[df['t_norm'] == 0]['x_path'].values, df[df['t_norm'] == 1]['x_path'].values, df[df['t_norm'] == 2]['x_path'].values, df[df['t_norm'] == 3]['x_path'].values])\n",
    "t_2 = np.concatenate([df[df['t_norm'] == 1]['x_path'].values, df[df['t_norm'] == 2]['x_path'].values, df[df['t_norm'] == 3]['x_path'].values, df[df['t_norm'] == 4]['x_path'].values])\n",
    "batch_generator = MotionDataGenerator(t_1, t_2)"
   ]
  },
  {
   "cell_type": "code",
   "execution_count": 41,
   "metadata": {},
   "outputs": [
    {
     "data": {
      "text/plain": [
       "10764"
      ]
     },
     "execution_count": 41,
     "metadata": {},
     "output_type": "execute_result"
    }
   ],
   "source": [
    "len(t_1)"
   ]
  },
  {
   "cell_type": "code",
   "execution_count": 42,
   "metadata": {},
   "outputs": [],
   "source": [
    "logging.getLogger().setLevel(logging.INFO)\n",
    "from src.visualization.visualize import show_2D_or_3D"
   ]
  },
  {
   "cell_type": "code",
   "execution_count": 4,
   "metadata": {},
   "outputs": [
    {
     "data": {
      "application/vnd.jupyter.widget-view+json": {
       "model_id": "a8fbd1e3f45149b7b6da6ae7693a9912",
       "version_major": 2,
       "version_minor": 0
      },
      "text/plain": [
       "interactive(children=(IntSlider(value=2691, description='batch', max=5382), Output()), _dom_classes=('widget-i…"
      ]
     },
     "metadata": {},
     "output_type": "display_data"
    }
   ],
   "source": [
    "# Select batch generator output\n",
    "x = ''\n",
    "y = ''\n",
    "@interact\n",
    "def select_batch(batch = (0,len(batch_generator), 1)):\n",
    "    global x, y\n",
    "    input_ , output_ = batch_generator.__getitem__(batch)\n",
    "    x = input_[0]\n",
    "    y = output_[0]\n",
    "    logging.info(x.shape)\n",
    "    logging.info(y.shape)"
   ]
  },
  {
   "cell_type": "code",
   "execution_count": 5,
   "metadata": {},
   "outputs": [
    {
     "data": {
      "application/vnd.jupyter.widget-view+json": {
       "model_id": "a94cc05f1ada4b739f67e1e4814debd6",
       "version_major": 2,
       "version_minor": 0
      },
      "text/plain": [
       "interactive(children=(IntSlider(value=0, description='im', max=1), Output()), _dom_classes=('widget-interact',…"
      ]
     },
     "metadata": {},
     "output_type": "display_data"
    }
   ],
   "source": [
    "@interact\n",
    "def select_image_in_batch(im = (0,x.shape[0]- 1, 1)):\n",
    "    \n",
    "    # define a different logging level to make the generator steps visible\n",
    "    logging.getLogger().setLevel(logging.INFO)\n",
    "    show_2D_or_3D(x[im])\n",
    "    plt.show()\n",
    "    show_2D_or_3D(y[im])\n",
    "    plt.show()"
   ]
  },
  {
   "cell_type": "markdown",
   "metadata": {},
   "source": [
    "# Create 2D slices from 3D slices with any filename structure"
   ]
  },
  {
   "cell_type": "code",
   "execution_count": 8,
   "metadata": {},
   "outputs": [],
   "source": [
    "from src.data.Dataset import create_2d_slices_from_3d_volume_files_any_filename"
   ]
  },
  {
   "cell_type": "code",
   "execution_count": 9,
   "metadata": {},
   "outputs": [
    {
     "data": {
      "application/vnd.jupyter.widget-view+json": {
       "model_id": "263b9c16757148a796bbe6d2338a1de0",
       "version_major": 2,
       "version_minor": 0
      },
      "text/plain": [
       "FileChooser(path='/mnt/data/git/cardio/data', filename='', show_hidden='False')"
      ]
     },
     "metadata": {},
     "output_type": "display_data"
    }
   ],
   "source": [
    "# select the folder with the *img.nrrd and *msk.nrrd 3D files\n",
    "from ipyfilechooser import FileChooser\n",
    "chooser = FileChooser(os.path.join(os.getcwd(),'data/'), '')\n",
    "display(chooser)"
   ]
  },
  {
   "cell_type": "code",
   "execution_count": 12,
   "metadata": {},
   "outputs": [
    {
     "name": "stdout",
     "output_type": "stream",
     "text": [
      "masks: 429\n",
      "images: 429\n"
     ]
    }
   ],
   "source": [
    "data_path = chooser.selected\n",
    "masks = sorted(glob.glob(os.path.join(data_path,'*msk.nrrd')))\n",
    "images = sorted(glob.glob(os.path.join(data_path,'*img.nrrd')))\n",
    "print('masks: {}'.format(len(masks)))\n",
    "print('images: {}'.format(len(images)))"
   ]
  },
  {
   "cell_type": "code",
   "execution_count": 13,
   "metadata": {},
   "outputs": [],
   "source": [
    "export_dir = 'data/raw/gcn_05_2020_ax_sax_86/SAX_2D/'\n",
    "temp = [create_2d_slices_from_3d_volume_files_any_filename(img, msk, export_dir) for img, msk in zip(images, masks)]"
   ]
  },
  {
   "cell_type": "code",
   "execution_count": 15,
   "metadata": {},
   "outputs": [],
   "source": [
    "from src.data.Dataset import get_kfolded_data\n",
    "df = get_kfolded_data(kfolds=4, path_to_data='data/raw/gcn_05_2020_ax_sax_86/SAX_3D')"
   ]
  },
  {
   "cell_type": "code",
   "execution_count": 33,
   "metadata": {},
   "outputs": [],
   "source": [
    "df = df.drop_duplicates(subset=['fold', 'modality', 'patient'],keep='first')[['fold', 'modality', 'patient']].sort_values('patient')"
   ]
  },
  {
   "cell_type": "code",
   "execution_count": 38,
   "metadata": {},
   "outputs": [],
   "source": [
    "df.to_csv('data/raw/gcn_05_2020_ax_sax_86/folds.csv', index=False)"
   ]
  },
  {
   "cell_type": "code",
   "execution_count": 39,
   "metadata": {},
   "outputs": [
    {
     "data": {
      "text/plain": [
       "(86,)"
      ]
     },
     "execution_count": 39,
     "metadata": {},
     "output_type": "execute_result"
    }
   ],
   "source": [
    "patients = pd.read_csv('data/raw/gcn_05_2020_ax_sax_86/folds.csv')\n",
    "patients = patients[patients.fold.isin([0])]['patient'].values\n",
    "patients.shape"
   ]
  },
  {
   "cell_type": "code",
   "execution_count": null,
   "metadata": {},
   "outputs": [],
   "source": [
    "df = pd.read_csv('data/raw/gcn_05_2020_ax_sax_86/')"
   ]
  },
  {
   "cell_type": "markdown",
   "metadata": {},
   "source": [
    "# Load df fold and filter files by the patient id of one fold"
   ]
  },
  {
   "cell_type": "code",
   "execution_count": 79,
   "metadata": {},
   "outputs": [
    {
     "data": {
      "application/vnd.jupyter.widget-view+json": {
       "model_id": "a8289d43b3544fde9427ceb5188d1303",
       "version_major": 2,
       "version_minor": 0
      },
      "text/plain": [
       "FileChooser(path='/mnt/data/git/cardio/data/raw', filename='', show_hidden='False')"
      ]
     },
     "metadata": {},
     "output_type": "display_data"
    }
   ],
   "source": [
    "# Define a data path\n",
    "from ipyfilechooser import FileChooser\n",
    "chooser = FileChooser(os.path.join(os.getcwd(),'data/raw'), '')\n",
    "display(chooser)"
   ]
  },
  {
   "cell_type": "code",
   "execution_count": 83,
   "metadata": {},
   "outputs": [
    {
     "name": "stderr",
     "output_type": "stream",
     "text": [
      "2020-06-15 08:22:24,158 INFO Found 6190 images/masks in /mnt/data/git/cardio/data/raw/gcn_05_2020_ax_sax_86/SAX_2D/\n",
      "2020-06-15 08:22:24,340 INFO Selected 4605 of 6190 files with 64 of 86 patients for training fold 0\n"
     ]
    }
   ],
   "source": [
    "from src.data.Dataset import get_trainings_files\n",
    "\n",
    "x,y, x_, y_ = get_trainings_files(chooser.selected)"
   ]
  },
  {
   "cell_type": "code",
   "execution_count": null,
   "metadata": {},
   "outputs": [],
   "source": []
  }
 ],
 "metadata": {
  "kernelspec": {
   "display_name": "Python 3",
   "language": "python",
   "name": "python3"
  },
  "language_info": {
   "codemirror_mode": {
    "name": "ipython",
    "version": 3
   },
   "file_extension": ".py",
   "mimetype": "text/x-python",
   "name": "python",
   "nbconvert_exporter": "python",
   "pygments_lexer": "ipython3",
   "version": "3.6.9"
  },
  "widgets": {
   "application/vnd.jupyter.widget-state+json": {
    "state": {},
    "version_major": 2,
    "version_minor": 0
   }
  }
 },
 "nbformat": 4,
 "nbformat_minor": 4
}
