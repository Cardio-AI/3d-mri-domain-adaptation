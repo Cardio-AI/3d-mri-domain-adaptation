{
 "cells": [
  {
   "cell_type": "code",
   "execution_count": 3,
   "metadata": {},
   "outputs": [
    {
     "name": "stdout",
     "output_type": "stream",
     "text": [
      "search for root_dir and set working directory\n",
      "Working directory set to: /mnt/data/git/cardio\n"
     ]
    },
    {
     "name": "stderr",
     "output_type": "stream",
     "text": [
      "Using TensorFlow backend.\n",
      "2020-07-06 11:03:24,751 INFO -------------------- Start --------------------\n",
      "2020-07-06 11:03:24,752 INFO Working directory: /mnt/data/git/cardio.\n",
      "2020-07-06 11:03:24,752 INFO Log file: ./logs/df_for_3D_files.log\n",
      "2020-07-06 11:03:24,752 INFO Log level for console: INFO\n"
     ]
    },
    {
     "data": {
      "text/plain": [
       "<src.utils.utils_io.Console_and_file_logger at 0x7f7830df8048>"
      ]
     },
     "execution_count": 3,
     "metadata": {},
     "output_type": "execute_result"
    }
   ],
   "source": [
    "# define logging and working directory\n",
    "from ProjectRoot import change_wd_to_project_root\n",
    "change_wd_to_project_root()\n",
    "from src.utils.notebook_imports import *\n",
    "from pyforest import *\n",
    "import os\n",
    "%matplotlib inline\n",
    "%reload_ext autoreload\n",
    "%autoreload 2\n",
    "\n",
    "from src.data.Dataset import create_3d_volumes_from_4d_files, create_4d_volumes_from_4d_files, create_2d_slices_from_4d_volume_files\n",
    "from src.utils.utils_io import Console_and_file_logger, ensure_dir\n",
    "Console_and_file_logger('df_for_3D_files')"
   ]
  },
  {
   "cell_type": "code",
   "execution_count": 4,
   "metadata": {},
   "outputs": [
    {
     "data": {
      "application/vnd.jupyter.widget-view+json": {
       "model_id": "d4652e7a7b33423a802f083635d97f6b",
       "version_major": 2,
       "version_minor": 0
      },
      "text/plain": [
       "FileChooser(path='/mnt/data/git/cardio/data/raw/gcn_05_2020_ax_sax_86', filename='', show_hidden='False')"
      ]
     },
     "metadata": {},
     "output_type": "display_data"
    }
   ],
   "source": [
    "# Interativ dataframe chooser\n",
    "# select the path to 3D files\n",
    "from ipyfilechooser import FileChooser\n",
    "path_chooser = FileChooser(os.path.join(os.getcwd(),'data/raw/gcn_05_2020_ax_sax_86'), '')\n",
    "display(path_chooser)"
   ]
  },
  {
   "cell_type": "code",
   "execution_count": 8,
   "metadata": {},
   "outputs": [
    {
     "name": "stderr",
     "output_type": "stream",
     "text": [
      "2020-07-06 11:08:49,939 INFO found 162 3D volumes\n"
     ]
    },
    {
     "data": {
      "text/html": [
       "<div>\n",
       "<style scoped>\n",
       "    .dataframe tbody tr th:only-of-type {\n",
       "        vertical-align: middle;\n",
       "    }\n",
       "\n",
       "    .dataframe tbody tr th {\n",
       "        vertical-align: top;\n",
       "    }\n",
       "\n",
       "    .dataframe thead th {\n",
       "        text-align: right;\n",
       "    }\n",
       "</style>\n",
       "<table border=\"1\" class=\"dataframe\">\n",
       "  <thead>\n",
       "    <tr style=\"text-align: right;\">\n",
       "      <th></th>\n",
       "      <th>patient</th>\n",
       "      <th>x_path</th>\n",
       "      <th>y_path</th>\n",
       "    </tr>\n",
       "  </thead>\n",
       "  <tbody>\n",
       "    <tr>\n",
       "      <th>0</th>\n",
       "      <td>0000-0HQQW4ZN</td>\n",
       "      <td>/mnt/data/git/cardio/data/raw/gcn_05_2020_ax_s...</td>\n",
       "      <td>/mnt/data/git/cardio/data/raw/gcn_05_2020_ax_s...</td>\n",
       "    </tr>\n",
       "    <tr>\n",
       "      <th>1</th>\n",
       "      <td>0000-0HQQW4ZN</td>\n",
       "      <td>/mnt/data/git/cardio/data/raw/gcn_05_2020_ax_s...</td>\n",
       "      <td>/mnt/data/git/cardio/data/raw/gcn_05_2020_ax_s...</td>\n",
       "    </tr>\n",
       "    <tr>\n",
       "      <th>2</th>\n",
       "      <td>0000-0PTV75MP</td>\n",
       "      <td>/mnt/data/git/cardio/data/raw/gcn_05_2020_ax_s...</td>\n",
       "      <td>/mnt/data/git/cardio/data/raw/gcn_05_2020_ax_s...</td>\n",
       "    </tr>\n",
       "    <tr>\n",
       "      <th>3</th>\n",
       "      <td>0000-0PTV75MP</td>\n",
       "      <td>/mnt/data/git/cardio/data/raw/gcn_05_2020_ax_s...</td>\n",
       "      <td>/mnt/data/git/cardio/data/raw/gcn_05_2020_ax_s...</td>\n",
       "    </tr>\n",
       "    <tr>\n",
       "      <th>4</th>\n",
       "      <td>0000-0RPELLU8</td>\n",
       "      <td>/mnt/data/git/cardio/data/raw/gcn_05_2020_ax_s...</td>\n",
       "      <td>/mnt/data/git/cardio/data/raw/gcn_05_2020_ax_s...</td>\n",
       "    </tr>\n",
       "  </tbody>\n",
       "</table>\n",
       "</div>"
      ],
      "text/plain": [
       "         patient                                             x_path  \\\n",
       "0  0000-0HQQW4ZN  /mnt/data/git/cardio/data/raw/gcn_05_2020_ax_s...   \n",
       "1  0000-0HQQW4ZN  /mnt/data/git/cardio/data/raw/gcn_05_2020_ax_s...   \n",
       "2  0000-0PTV75MP  /mnt/data/git/cardio/data/raw/gcn_05_2020_ax_s...   \n",
       "3  0000-0PTV75MP  /mnt/data/git/cardio/data/raw/gcn_05_2020_ax_s...   \n",
       "4  0000-0RPELLU8  /mnt/data/git/cardio/data/raw/gcn_05_2020_ax_s...   \n",
       "\n",
       "                                              y_path  \n",
       "0  /mnt/data/git/cardio/data/raw/gcn_05_2020_ax_s...  \n",
       "1  /mnt/data/git/cardio/data/raw/gcn_05_2020_ax_s...  \n",
       "2  /mnt/data/git/cardio/data/raw/gcn_05_2020_ax_s...  \n",
       "3  /mnt/data/git/cardio/data/raw/gcn_05_2020_ax_s...  \n",
       "4  /mnt/data/git/cardio/data/raw/gcn_05_2020_ax_s...  "
      ]
     },
     "execution_count": 8,
     "metadata": {},
     "output_type": "execute_result"
    }
   ],
   "source": [
    "path = path_chooser.selected\n",
    "images_filtered = sorted(glob.glob(os.path.join(path, '*img.nrrd')))\n",
    "masks_filtered = sorted(glob.glob(os.path.join(path, '*msk.nrrd')))\n",
    "logging.info('found {} 3D volumes'.format(len(images_filtered)))\n",
    "patients = [f.split('/')[-1].split('_')[0] for f in images_filtered]\n",
    "df = pd.DataFrame({'patient': patients, 'x_path':images_filtered, 'y_path': masks_filtered})\n",
    "df.head()"
   ]
  },
  {
   "cell_type": "code",
   "execution_count": 9,
   "metadata": {},
   "outputs": [
    {
     "data": {
      "text/html": [
       "<div>\n",
       "<style scoped>\n",
       "    .dataframe tbody tr th:only-of-type {\n",
       "        vertical-align: middle;\n",
       "    }\n",
       "\n",
       "    .dataframe tbody tr th {\n",
       "        vertical-align: top;\n",
       "    }\n",
       "\n",
       "    .dataframe thead th {\n",
       "        text-align: right;\n",
       "    }\n",
       "</style>\n",
       "<table border=\"1\" class=\"dataframe\">\n",
       "  <thead>\n",
       "    <tr style=\"text-align: right;\">\n",
       "      <th></th>\n",
       "      <th>patient</th>\n",
       "      <th>x_path</th>\n",
       "      <th>y_path</th>\n",
       "      <th>phase</th>\n",
       "    </tr>\n",
       "  </thead>\n",
       "  <tbody>\n",
       "    <tr>\n",
       "      <th>0</th>\n",
       "      <td>0000-0HQQW4ZN</td>\n",
       "      <td>/mnt/data/git/cardio/data/raw/gcn_05_2020_ax_s...</td>\n",
       "      <td>/mnt/data/git/cardio/data/raw/gcn_05_2020_ax_s...</td>\n",
       "      <td>ED</td>\n",
       "    </tr>\n",
       "    <tr>\n",
       "      <th>1</th>\n",
       "      <td>0000-0HQQW4ZN</td>\n",
       "      <td>/mnt/data/git/cardio/data/raw/gcn_05_2020_ax_s...</td>\n",
       "      <td>/mnt/data/git/cardio/data/raw/gcn_05_2020_ax_s...</td>\n",
       "      <td>ES</td>\n",
       "    </tr>\n",
       "    <tr>\n",
       "      <th>2</th>\n",
       "      <td>0000-0PTV75MP</td>\n",
       "      <td>/mnt/data/git/cardio/data/raw/gcn_05_2020_ax_s...</td>\n",
       "      <td>/mnt/data/git/cardio/data/raw/gcn_05_2020_ax_s...</td>\n",
       "      <td>ED</td>\n",
       "    </tr>\n",
       "    <tr>\n",
       "      <th>3</th>\n",
       "      <td>0000-0PTV75MP</td>\n",
       "      <td>/mnt/data/git/cardio/data/raw/gcn_05_2020_ax_s...</td>\n",
       "      <td>/mnt/data/git/cardio/data/raw/gcn_05_2020_ax_s...</td>\n",
       "      <td>ES</td>\n",
       "    </tr>\n",
       "    <tr>\n",
       "      <th>4</th>\n",
       "      <td>0000-0RPELLU8</td>\n",
       "      <td>/mnt/data/git/cardio/data/raw/gcn_05_2020_ax_s...</td>\n",
       "      <td>/mnt/data/git/cardio/data/raw/gcn_05_2020_ax_s...</td>\n",
       "      <td>ED</td>\n",
       "    </tr>\n",
       "  </tbody>\n",
       "</table>\n",
       "</div>"
      ],
      "text/plain": [
       "         patient                                             x_path  \\\n",
       "0  0000-0HQQW4ZN  /mnt/data/git/cardio/data/raw/gcn_05_2020_ax_s...   \n",
       "1  0000-0HQQW4ZN  /mnt/data/git/cardio/data/raw/gcn_05_2020_ax_s...   \n",
       "2  0000-0PTV75MP  /mnt/data/git/cardio/data/raw/gcn_05_2020_ax_s...   \n",
       "3  0000-0PTV75MP  /mnt/data/git/cardio/data/raw/gcn_05_2020_ax_s...   \n",
       "4  0000-0RPELLU8  /mnt/data/git/cardio/data/raw/gcn_05_2020_ax_s...   \n",
       "\n",
       "                                              y_path phase  \n",
       "0  /mnt/data/git/cardio/data/raw/gcn_05_2020_ax_s...    ED  \n",
       "1  /mnt/data/git/cardio/data/raw/gcn_05_2020_ax_s...    ES  \n",
       "2  /mnt/data/git/cardio/data/raw/gcn_05_2020_ax_s...    ED  \n",
       "3  /mnt/data/git/cardio/data/raw/gcn_05_2020_ax_s...    ES  \n",
       "4  /mnt/data/git/cardio/data/raw/gcn_05_2020_ax_s...    ED  "
      ]
     },
     "execution_count": 9,
     "metadata": {},
     "output_type": "execute_result"
    }
   ],
   "source": [
    "# extract phase\n",
    "def extract_phase_from_filename(f_name):\n",
    "    return os.path.basename(os.path.normpath(f_name)).split('_')[-2]\n",
    "\n",
    "# extract t from the filenames\n",
    "def extract_t_from_filename(f_name):\n",
    "    return int(os.path.basename(os.path.normpath(f_name)).split('__')[1].split('_')[0].replace('t',''))\n",
    "\n",
    "try:\n",
    "    df['phase'] = df.x_path.apply(extract_phase_from_filename)\n",
    "except:\n",
    "    df['phase'] = df.x_path.apply(extract_t_from_filename)\n",
    "df.head()"
   ]
  },
  {
   "cell_type": "code",
   "execution_count": 10,
   "metadata": {},
   "outputs": [],
   "source": [
    "df.to_csv('data/raw/gcn_05_2020_ax_sax_86/df_AX_3D_ISO.csv', index=False)"
   ]
  },
  {
   "cell_type": "code",
   "execution_count": 11,
   "metadata": {},
   "outputs": [
    {
     "data": {
      "text/html": [
       "<div>\n",
       "<style scoped>\n",
       "    .dataframe tbody tr th:only-of-type {\n",
       "        vertical-align: middle;\n",
       "    }\n",
       "\n",
       "    .dataframe tbody tr th {\n",
       "        vertical-align: top;\n",
       "    }\n",
       "\n",
       "    .dataframe thead th {\n",
       "        text-align: right;\n",
       "    }\n",
       "</style>\n",
       "<table border=\"1\" class=\"dataframe\">\n",
       "  <thead>\n",
       "    <tr style=\"text-align: right;\">\n",
       "      <th></th>\n",
       "      <th>patient</th>\n",
       "      <th>x_path</th>\n",
       "      <th>y_path</th>\n",
       "      <th>phase</th>\n",
       "    </tr>\n",
       "  </thead>\n",
       "  <tbody>\n",
       "    <tr>\n",
       "      <th>0</th>\n",
       "      <td>0000-0HQQW4ZN</td>\n",
       "      <td>/mnt/data/git/cardio/data/raw/gcn_05_2020_ax_s...</td>\n",
       "      <td>/mnt/data/git/cardio/data/raw/gcn_05_2020_ax_s...</td>\n",
       "      <td>ED</td>\n",
       "    </tr>\n",
       "    <tr>\n",
       "      <th>1</th>\n",
       "      <td>0000-0HQQW4ZN</td>\n",
       "      <td>/mnt/data/git/cardio/data/raw/gcn_05_2020_ax_s...</td>\n",
       "      <td>/mnt/data/git/cardio/data/raw/gcn_05_2020_ax_s...</td>\n",
       "      <td>ES</td>\n",
       "    </tr>\n",
       "    <tr>\n",
       "      <th>2</th>\n",
       "      <td>0000-0PTV75MP</td>\n",
       "      <td>/mnt/data/git/cardio/data/raw/gcn_05_2020_ax_s...</td>\n",
       "      <td>/mnt/data/git/cardio/data/raw/gcn_05_2020_ax_s...</td>\n",
       "      <td>ED</td>\n",
       "    </tr>\n",
       "    <tr>\n",
       "      <th>3</th>\n",
       "      <td>0000-0PTV75MP</td>\n",
       "      <td>/mnt/data/git/cardio/data/raw/gcn_05_2020_ax_s...</td>\n",
       "      <td>/mnt/data/git/cardio/data/raw/gcn_05_2020_ax_s...</td>\n",
       "      <td>ES</td>\n",
       "    </tr>\n",
       "    <tr>\n",
       "      <th>4</th>\n",
       "      <td>0000-0RPELLU8</td>\n",
       "      <td>/mnt/data/git/cardio/data/raw/gcn_05_2020_ax_s...</td>\n",
       "      <td>/mnt/data/git/cardio/data/raw/gcn_05_2020_ax_s...</td>\n",
       "      <td>ED</td>\n",
       "    </tr>\n",
       "  </tbody>\n",
       "</table>\n",
       "</div>"
      ],
      "text/plain": [
       "         patient                                             x_path  \\\n",
       "0  0000-0HQQW4ZN  /mnt/data/git/cardio/data/raw/gcn_05_2020_ax_s...   \n",
       "1  0000-0HQQW4ZN  /mnt/data/git/cardio/data/raw/gcn_05_2020_ax_s...   \n",
       "2  0000-0PTV75MP  /mnt/data/git/cardio/data/raw/gcn_05_2020_ax_s...   \n",
       "3  0000-0PTV75MP  /mnt/data/git/cardio/data/raw/gcn_05_2020_ax_s...   \n",
       "4  0000-0RPELLU8  /mnt/data/git/cardio/data/raw/gcn_05_2020_ax_s...   \n",
       "\n",
       "                                              y_path phase  \n",
       "0  /mnt/data/git/cardio/data/raw/gcn_05_2020_ax_s...    ED  \n",
       "1  /mnt/data/git/cardio/data/raw/gcn_05_2020_ax_s...    ES  \n",
       "2  /mnt/data/git/cardio/data/raw/gcn_05_2020_ax_s...    ED  \n",
       "3  /mnt/data/git/cardio/data/raw/gcn_05_2020_ax_s...    ES  \n",
       "4  /mnt/data/git/cardio/data/raw/gcn_05_2020_ax_s...    ED  "
      ]
     },
     "execution_count": 11,
     "metadata": {},
     "output_type": "execute_result"
    }
   ],
   "source": [
    "df = pd.read_csv('data/raw/gcn_05_2020_ax_sax_86/df_AX_3D_ISO.csv')\n",
    "df.head()"
   ]
  },
  {
   "cell_type": "code",
   "execution_count": null,
   "metadata": {},
   "outputs": [],
   "source": []
  }
 ],
 "metadata": {
  "kernelspec": {
   "display_name": "Python 3",
   "language": "python",
   "name": "python3"
  },
  "language_info": {
   "codemirror_mode": {
    "name": "ipython",
    "version": 3
   },
   "file_extension": ".py",
   "mimetype": "text/x-python",
   "name": "python",
   "nbconvert_exporter": "python",
   "pygments_lexer": "ipython3",
   "version": "3.6.9"
  },
  "widgets": {
   "application/vnd.jupyter.widget-state+json": {
    "state": {},
    "version_major": 2,
    "version_minor": 0
   }
  }
 },
 "nbformat": 4,
 "nbformat_minor": 4
}
