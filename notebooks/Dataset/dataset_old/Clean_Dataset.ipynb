{
 "cells": [
  {
   "cell_type": "code",
   "execution_count": 2,
   "metadata": {},
   "outputs": [
    {
     "name": "stdout",
     "output_type": "stream",
     "text": [
      "D:\\git\\cardio\n",
      "D:\\git\\cardio\n"
     ]
    }
   ],
   "source": [
    "import os\n",
    "print(os.getcwd())\n",
    "# change working directory to project root\n",
    "import platform\n",
    "if platform.system() is \"Windows\":\n",
    "    os.chdir('D:\\\\git\\\\cardio')\n",
    "else:\n",
    "    os.chdir('/Users/Code/Git/cardio')\n",
    "print(os.getcwd())\n",
    "from src.utils.utils_io import Console_and_file_logger\n",
    "from src.utils.file_wrapper.app.Files import Basefile, Dicomfile\n",
    "from src.utils.file_wrapper.app.IO import FileWalker\n",
    "import logging\n",
    "Console_and_file_logger('cleaning_small', logging.INFO)\n",
    "\n",
    "import re\n",
    "import nrrd\n",
    "import numpy as np\n",
    "from scipy import stats\n",
    "from collections import OrderedDict\n",
    "import json\n",
    "import SimpleITK as sitk"
   ]
  },
  {
   "cell_type": "code",
   "execution_count": null,
   "metadata": {},
   "outputs": [],
   "source": [
    "class Clean_Dataset(Basefile):\n",
    "    \"\"\"\n",
    "    super Dicomfile already knows how to open save, desribe and visualize a dcm image\n",
    "    you need to implement:\n",
    "    \n",
    "    file_type\n",
    "    def __init__(self, dir_name='./', filename='test.dcm', destination='./dest'):\n",
    "    action(self):\n",
    "\n",
    "    important, return the file for later statistics\n",
    "    \"\"\"\n",
    "    file_type = '.dcm'\n",
    "\n",
    "    def __init__(self,\n",
    "                 dir_name='./',\n",
    "                 filename='test.dcm',\n",
    "                 destination='./dest'):\n",
    "        super(MyDicomfile, self).__init__(dir_name, filename, destination)\n",
    "        self.stats['filetype'] = self.__class__.file_type\n",
    "        # increase speed and reduce ram for statistics\n",
    "        del self.img\n",
    "\n",
    "    def action(self):\n",
    "        logging.debug('action performed')\n",
    "        return self"
   ]
  }
 ],
 "metadata": {
  "kernelspec": {
   "display_name": "cardio",
   "language": "python",
   "name": "cardio"
  },
  "language_info": {
   "codemirror_mode": {
    "name": "ipython",
    "version": 3
   },
   "file_extension": ".py",
   "mimetype": "text/x-python",
   "name": "python",
   "nbconvert_exporter": "python",
   "pygments_lexer": "ipython3",
   "version": "3.6.6"
  }
 },
 "nbformat": 4,
 "nbformat_minor": 2
}
