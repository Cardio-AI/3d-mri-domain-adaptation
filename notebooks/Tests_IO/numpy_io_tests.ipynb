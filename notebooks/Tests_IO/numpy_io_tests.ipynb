{
 "cells": [
  {
   "cell_type": "code",
   "execution_count": 3,
   "metadata": {},
   "outputs": [
    {
     "name": "stdout",
     "output_type": "stream",
     "text": [
      "G:\\sven\\git\\cardio\n",
      "G:\\sven\\git\\cardio\n"
     ]
    }
   ],
   "source": [
    "import os\n",
    "print(os.getcwd())\n",
    "# change working directory to project root\n",
    "import platform\n",
    "if platform.system() is \"Windows\":\n",
    "    os.chdir('G:\\\\sven\\\\git\\\\cardio')\n",
    "else:\n",
    "    os.chdir('/Users/minority/Code/Git/cardio')\n",
    "print(os.getcwd())\n",
    "from src.utils.utils_io import Console_and_file_logger, ensure_dir\n",
    "from src.utils.file_wrapper.app.Files import Basefile, Dicomfile\n",
    "from src.utils.file_wrapper.app.IO import FileWalker\n",
    "from src.utils.myshow import myshow, myshow3d\n",
    "\n",
    "import logging\n",
    "Console_and_file_logger('numpy_load', logging.INFO)\n",
    "\n",
    "import matplotlib.pyplot as plt\n",
    "%matplotlib inline\n",
    "\n",
    "from ipywidgets import interact\n",
    "from src.utils.myshow import myshow, myshow3d\n",
    "\n",
    "import re\n",
    "import SimpleITK as sitk\n",
    "import numpy as np\n",
    "#import ipyvolume as ipv"
   ]
  },
  {
   "cell_type": "code",
   "execution_count": 4,
   "metadata": {},
   "outputs": [
    {
     "name": "stdout",
     "output_type": "stream",
     "text": [
      "(25, 16, 256, 256)\n"
     ]
    }
   ],
   "source": [
    "# test of the performance of numpy save and load with 4D, 3D and 2D numpy arrays\n",
    "\n",
    "\n",
    "filename = \"data/processed/all/images/0003-04NEJQUZ-2007-03-13_volume_clean.nrrd\"\n",
    "export_path = 'data/processed/nrrd/export/'\n",
    "export_sitk = 'data/processed/nrrd/export_sitk/'\n",
    "slice_export_path = 'data/processed/nrrd/export_slice/'\n",
    "ensure_dir(export_path)\n",
    "ensure_dir(export_sitk)\n",
    "\n",
    "img = sitk.ReadImage(filename)\n",
    "img_nda = sitk.GetArrayFromImage(img)\n",
    "print(img_nda.shape)\n",
    "\n"
   ]
  },
  {
   "cell_type": "code",
   "execution_count": 5,
   "metadata": {},
   "outputs": [
    {
     "name": "stdout",
     "output_type": "stream",
     "text": [
      "1.26 s ± 290 ms per loop (mean ± std. dev. of 7 runs, 10 loops each)\n"
     ]
    }
   ],
   "source": [
    "%%timeit -n 10\n",
    "# write a 4d nrrd volume with sitk\n",
    "out_sitk = os.path.join(export_sitk, 'volume{}.nrrd'.format('_' + str(0)))\n",
    "sitk.WriteImage(img, out_sitk)"
   ]
  },
  {
   "cell_type": "code",
   "execution_count": 6,
   "metadata": {},
   "outputs": [
    {
     "name": "stdout",
     "output_type": "stream",
     "text": [
      "1.29 s ± 268 ms per loop (mean ± std. dev. of 7 runs, 10 loops each)\n"
     ]
    }
   ],
   "source": [
    "%%timeit -n 10\n",
    "# save a 4d npy volume with numpy to disk\n",
    "out_file = os.path.join(export_path, 'volume{}.npy'.format('_' + str(0)))\n",
    "np.save(out_file, img_nda)"
   ]
  },
  {
   "cell_type": "code",
   "execution_count": 159,
   "metadata": {},
   "outputs": [
    {
     "name": "stdout",
     "output_type": "stream",
     "text": [
      "1000 loops, best of 3: 62.7 ms per loop\n"
     ]
    }
   ],
   "source": [
    "%%timeit -n 10\n",
    "# laod a 4d nrrd volume with sitk from disk\n",
    "img = sitk.ReadImage(filename)"
   ]
  },
  {
   "cell_type": "code",
   "execution_count": 158,
   "metadata": {},
   "outputs": [
    {
     "name": "stdout",
     "output_type": "stream",
     "text": [
      "1000 loops, best of 3: 657 µs per loop\n"
     ]
    }
   ],
   "source": [
    "%%timeit -n 10\n",
    "# load a 4d volume with numpy from disk\n",
    "nda_loaded = np.load(out_file)"
   ]
  },
  {
   "cell_type": "code",
   "execution_count": 68,
   "metadata": {},
   "outputs": [
    {
     "name": "stdout",
     "output_type": "stream",
     "text": [
      "1 loop, best of 3: 3.02 s per loop\n"
     ]
    }
   ],
   "source": [
    "%%timeit\n",
    "# save 10 x 4D volumes as npy files to disk\n",
    "for i in range(10):\n",
    "    \n",
    "    out_file = os.path.join(export_path, 'volume{}.npy'.format('_' + str(i)))\n",
    "    np.save(out_file, img_nda)\n"
   ]
  },
  {
   "cell_type": "code",
   "execution_count": 58,
   "metadata": {},
   "outputs": [
    {
     "data": {
      "text/plain": [
       "'data/processed/nrrd/export/'"
      ]
     },
     "execution_count": 58,
     "metadata": {},
     "output_type": "execute_result"
    }
   ],
   "source": [
    "export_path"
   ]
  },
  {
   "cell_type": "code",
   "execution_count": 59,
   "metadata": {},
   "outputs": [
    {
     "data": {
      "text/plain": [
       "['volume_0.npy',\n",
       " 'volume_1.npy',\n",
       " 'volume_2.npy',\n",
       " 'volume_3.npy',\n",
       " 'volume_4.npy',\n",
       " 'volume_5.npy',\n",
       " 'volume_6.npy',\n",
       " 'volume_7.npy',\n",
       " 'volume_8.npy',\n",
       " 'volume_9.npy']"
      ]
     },
     "execution_count": 59,
     "metadata": {},
     "output_type": "execute_result"
    }
   ],
   "source": [
    "os.listdir(export_path)"
   ]
  },
  {
   "cell_type": "code",
   "execution_count": 66,
   "metadata": {},
   "outputs": [
    {
     "data": {
      "text/plain": [
       "880805120"
      ]
     },
     "execution_count": 66,
     "metadata": {},
     "output_type": "execute_result"
    }
   ],
   "source": [
    "# size of the exported volumes\n",
    "sum([os.path.getsize(os.path.join(export_path, f)) for f in os.listdir(export_path)])"
   ]
  },
  {
   "cell_type": "code",
   "execution_count": 67,
   "metadata": {},
   "outputs": [
    {
     "data": {
      "text/plain": [
       "os.stat_result(st_mode=16877, st_ino=2692381, st_dev=16777220, st_nlink=12, st_uid=501, st_gid=20, st_size=408, st_atime=1548431589, st_mtime=1548430907, st_ctime=1548430907)"
      ]
     },
     "execution_count": 67,
     "metadata": {},
     "output_type": "execute_result"
    }
   ],
   "source": [
    "# additional file infos\n",
    "os.stat(export_path)"
   ]
  },
  {
   "cell_type": "code",
   "execution_count": 69,
   "metadata": {},
   "outputs": [
    {
     "name": "stdout",
     "output_type": "stream",
     "text": [
      "1 loop, best of 3: 1.87 s per loop\n"
     ]
    }
   ],
   "source": [
    "%%timeit\n",
    "# load 10 4D volumes, with a size of 88MB each\n",
    "for i in range(10):\n",
    "    out_file = os.path.join(export_path, 'volume{}.npy'.format('_' + str(i)))\n",
    "    nda_loaded = np.load(out_file)\n"
   ]
  },
  {
   "cell_type": "code",
   "execution_count": 25,
   "metadata": {},
   "outputs": [
    {
     "name": "stdout",
     "output_type": "stream",
     "text": [
      "(14, 12, 256, 256)\n"
     ]
    }
   ],
   "source": [
    "print(nda_loaded.shape)"
   ]
  },
  {
   "cell_type": "code",
   "execution_count": 84,
   "metadata": {},
   "outputs": [
    {
     "name": "stdout",
     "output_type": "stream",
     "text": [
      "1 loop, best of 3: 700 ms per loop\n"
     ]
    }
   ],
   "source": [
    "%%timeit\n",
    "# write all slices of a 4D volume to disk\n",
    "for t in range(img_nda.shape[0]):\n",
    "    for z in range(img_nda.shape[1]):\n",
    "        out_file = os.path.join(slice_export_path, 'slice{}.npy'.format('_' + str(t) + \"_\" + str(z)))\n",
    "        np.save(out_file, img_nda[t,z,:,:])\n",
    "        "
   ]
  },
  {
   "cell_type": "code",
   "execution_count": 91,
   "metadata": {},
   "outputs": [
    {
     "data": {
      "text/plain": [
       "169"
      ]
     },
     "execution_count": 91,
     "metadata": {},
     "output_type": "execute_result"
    }
   ],
   "source": [
    "len(os.listdir(slice_export_path))"
   ]
  },
  {
   "cell_type": "code",
   "execution_count": 83,
   "metadata": {},
   "outputs": [
    {
     "name": "stdout",
     "output_type": "stream",
     "text": [
      "100 loops, best of 3: 3.26 ms per loop\n"
     ]
    }
   ],
   "source": [
    "# get the size of all exported slices in MB\n",
    "sum([os.path.getsize(os.path.join(slice_export_path, f)) for f in os.listdir(slice_export_path)])/(1024*1024.0)"
   ]
  },
  {
   "cell_type": "code",
   "execution_count": 125,
   "metadata": {},
   "outputs": [
    {
     "name": "stdout",
     "output_type": "stream",
     "text": [
      "1000 loops, best of 3: 1.22 ms per loop\n"
     ]
    }
   ],
   "source": [
    "%%timeit\n",
    "# get a list of all files with os.listdir\n",
    "files = [os.path.join(slice_export_path,file) for file in sorted(os.listdir(slice_export_path)) if file != '.DS_Store']"
   ]
  },
  {
   "cell_type": "code",
   "execution_count": 131,
   "metadata": {},
   "outputs": [
    {
     "data": {
      "text/plain": [
       "168"
      ]
     },
     "execution_count": 131,
     "metadata": {},
     "output_type": "execute_result"
    }
   ],
   "source": [
    "#%%timeit\n",
    "# get a list of all files with glob\n",
    "files = glob.glob(os.path.join(slice_export_path, '*.npy'))\n",
    "len(files)"
   ]
  },
  {
   "cell_type": "code",
   "execution_count": 130,
   "metadata": {},
   "outputs": [
    {
     "name": "stdout",
     "output_type": "stream",
     "text": [
      "1 loop, best of 3: 206 ms per loop\n"
     ]
    }
   ],
   "source": [
    "%%timeit\n",
    "# read all slices of a 4d volume\n",
    "slices = []\n",
    "# load all slices of a 4D volume from disk\n",
    "for file in files:\n",
    "        slices.append(np.load(file))"
   ]
  },
  {
   "cell_type": "code",
   "execution_count": 103,
   "metadata": {},
   "outputs": [
    {
     "data": {
      "text/plain": [
       "168"
      ]
     },
     "execution_count": 103,
     "metadata": {},
     "output_type": "execute_result"
    }
   ],
   "source": [
    "len(slices)"
   ]
  },
  {
   "cell_type": "code",
   "execution_count": 133,
   "metadata": {},
   "outputs": [
    {
     "name": "stdout",
     "output_type": "stream",
     "text": [
      "1000 loops, best of 3: 889 µs per loop\n"
     ]
    }
   ],
   "source": [
    "%%timeit\n",
    "single_nda = np.load(files[0])"
   ]
  },
  {
   "cell_type": "code",
   "execution_count": 110,
   "metadata": {},
   "outputs": [
    {
     "data": {
      "text/plain": [
       "(256, 256)"
      ]
     },
     "execution_count": 110,
     "metadata": {},
     "output_type": "execute_result"
    }
   ],
   "source": [
    "single_nda.shape"
   ]
  },
  {
   "cell_type": "code",
   "execution_count": 119,
   "metadata": {},
   "outputs": [
    {
     "data": {
      "text/plain": [
       "168"
      ]
     },
     "execution_count": 119,
     "metadata": {},
     "output_type": "execute_result"
    }
   ],
   "source": [
    "\n",
    "import glob\n",
    "len(glob.glob(os.path.join(slice_export_path, '*.npy')))"
   ]
  },
  {
   "cell_type": "code",
   "execution_count": null,
   "metadata": {},
   "outputs": [],
   "source": []
  }
 ],
 "metadata": {
  "kernelspec": {
   "display_name": "tfc_s_3",
   "language": "python",
   "name": "tfc_s_3"
  },
  "language_info": {
   "codemirror_mode": {
    "name": "ipython",
    "version": 3
   },
   "file_extension": ".py",
   "mimetype": "text/x-python",
   "name": "python",
   "nbconvert_exporter": "python",
   "pygments_lexer": "ipython3",
   "version": "3.6.5"
  },
  "varInspector": {
   "cols": {
    "lenName": 16,
    "lenType": 16,
    "lenVar": 40
   },
   "kernels_config": {
    "python": {
     "delete_cmd_postfix": "",
     "delete_cmd_prefix": "del ",
     "library": "var_list.py",
     "varRefreshCmd": "print(var_dic_list())"
    },
    "r": {
     "delete_cmd_postfix": ") ",
     "delete_cmd_prefix": "rm(",
     "library": "var_list.r",
     "varRefreshCmd": "cat(var_dic_list()) "
    }
   },
   "oldHeight": 509,
   "position": {
    "height": "40px",
    "left": "1096px",
    "right": "20px",
    "top": "120px",
    "width": "250px"
   },
   "types_to_exclude": [
    "module",
    "function",
    "builtin_function_or_method",
    "instance",
    "_Feature"
   ],
   "varInspector_section_display": "none",
   "window_display": true
  }
 },
 "nbformat": 4,
 "nbformat_minor": 2
}
