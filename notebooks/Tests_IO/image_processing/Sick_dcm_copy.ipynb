{
 "cells": [
  {
   "cell_type": "code",
   "execution_count": 13,
   "metadata": {},
   "outputs": [],
   "source": [
    "from src.utils.file_wrapper.app.IO import FileWalker\n",
    "from src.utils.file_wrapper.app.Files import Wavefile, JsonFile, Dicomfile\n",
    "from src.utils.file_wrapper.app.Setup import Console_and_file_logger\n",
    "from src.utils.file_wrapper.app.Singelton_stats import *\n",
    "from argparse import ArgumentParser\n",
    "import yaml\n",
    "from time import time\n",
    "import os"
   ]
  },
  {
   "cell_type": "code",
   "execution_count": 14,
   "metadata": {},
   "outputs": [],
   "source": [
    "def copy_with_file_wrapper(params):\n",
    "    \"\"\"\n",
    "    Use the FileWalker to copy all dcm files\n",
    "    \"\"\"\n",
    "    src = params[\"dir_to_src\"]\n",
    "    dest = params[\"dir_to_dest\"]\n",
    "    start_time = time()\n",
    "    \n",
    "    # static_destination = true\n",
    "    # --> ignore order structure, copy all in the given destination folder\n",
    "    fw = FileWalker(\n",
    "        file_wrapper=Dicomfile,\n",
    "        src_dir=src,\n",
    "        dest_dir=dest,\n",
    "        static_destination=True)\n",
    "    \n",
    "    fw.log_stats()\n",
    "    logging.info(\n",
    "        'FileWalker finished after {:0.3f} seconds'.format(time() -\n",
    "                                                           start_time))"
   ]
  },
  {
   "cell_type": "code",
   "execution_count": 18,
   "metadata": {},
   "outputs": [],
   "source": [
    "def main():\n",
    "    \n",
    "    # mock the params\n",
    "    import logging\n",
    "    import os\n",
    "    # change working directory to project root\n",
    "    os.chdir('/Users/minority/Code/Git/cardio')\n",
    "    params = {}\n",
    "    params['dir_to_src'] = 'data/raw/0001_small/'\n",
    "    params['dir_to_dest'] = 'data/processed/copied/'\n",
    "    \n",
    "\n",
    "    # start the script\n",
    "    copy_with_file_wrapper(params)\n",
    "main()"
   ]
  },
  {
   "cell_type": "code",
   "execution_count": null,
   "metadata": {},
   "outputs": [],
   "source": []
  }
 ],
 "metadata": {
  "kernelspec": {
   "display_name": "cardio",
   "language": "python",
   "name": "cardio"
  },
  "language_info": {
   "codemirror_mode": {
    "name": "ipython",
    "version": 3
   },
   "file_extension": ".py",
   "mimetype": "text/x-python",
   "name": "python",
   "nbconvert_exporter": "python",
   "pygments_lexer": "ipython3",
   "version": "3.6.6"
  },
  "varInspector": {
   "cols": {
    "lenName": 16,
    "lenType": 16,
    "lenVar": 40
   },
   "kernels_config": {
    "python": {
     "delete_cmd_postfix": "",
     "delete_cmd_prefix": "del ",
     "library": "var_list.py",
     "varRefreshCmd": "print(var_dic_list())"
    },
    "r": {
     "delete_cmd_postfix": ") ",
     "delete_cmd_prefix": "rm(",
     "library": "var_list.r",
     "varRefreshCmd": "cat(var_dic_list()) "
    }
   },
   "position": {
    "height": "319px",
    "left": "996px",
    "right": "20px",
    "top": "120px",
    "width": "350px"
   },
   "types_to_exclude": [
    "module",
    "function",
    "builtin_function_or_method",
    "instance",
    "_Feature"
   ],
   "window_display": true
  }
 },
 "nbformat": 4,
 "nbformat_minor": 2
}
