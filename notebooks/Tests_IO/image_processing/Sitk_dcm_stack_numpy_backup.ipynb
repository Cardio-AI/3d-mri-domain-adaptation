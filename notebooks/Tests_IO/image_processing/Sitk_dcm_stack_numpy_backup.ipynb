{
 "cells": [
  {
   "cell_type": "code",
   "execution_count": 1,
   "metadata": {
    "scrolled": false
   },
   "outputs": [
    {
     "name": "stdout",
     "output_type": "stream",
     "text": [
      "Windows\n",
      "D:\\git\\cardio\\venv\\Scripts\\python.exe\n",
      "C:\\Users\\1720267\\Anaconda3\\python.exe\n"
     ]
    }
   ],
   "source": []
  },
  {
   "cell_type": "code",
   "execution_count": 2,
   "metadata": {},
   "outputs": [
    {
     "name": "stdout",
     "output_type": "stream",
     "text": [
      "D:\\git\\cardio\n"
     ]
    },
    {
     "ename": "ModuleNotFoundError",
     "evalue": "No module named '_SimpleITK'",
     "traceback": [
      "\u001b[1;31m---------------------------------------------------------------------------\u001b[0m",
      "\u001b[1;31mModuleNotFoundError\u001b[0m                       Traceback (most recent call last)",
      "\u001b[1;32m~\\Anaconda3\\lib\\site-packages\\SimpleITK\\SimpleITK.py\u001b[0m in \u001b[0;36mswig_import_helper\u001b[1;34m()\u001b[0m\n\u001b[0;32m     13\u001b[0m         \u001b[1;32mtry\u001b[0m\u001b[1;33m:\u001b[0m\u001b[1;33m\u001b[0m\u001b[0m\n\u001b[1;32m---> 14\u001b[1;33m             \u001b[1;32mreturn\u001b[0m \u001b[0mimportlib\u001b[0m\u001b[1;33m.\u001b[0m\u001b[0mimport_module\u001b[0m\u001b[1;33m(\u001b[0m\u001b[0mmname\u001b[0m\u001b[1;33m)\u001b[0m\u001b[1;33m\u001b[0m\u001b[0m\n\u001b[0m\u001b[0;32m     15\u001b[0m         \u001b[1;32mexcept\u001b[0m \u001b[0mImportError\u001b[0m\u001b[1;33m:\u001b[0m\u001b[1;33m\u001b[0m\u001b[0m\n",
      "\u001b[1;32m~\\Anaconda3\\lib\\importlib\\__init__.py\u001b[0m in \u001b[0;36mimport_module\u001b[1;34m(name, package)\u001b[0m\n\u001b[0;32m    125\u001b[0m             \u001b[0mlevel\u001b[0m \u001b[1;33m+=\u001b[0m \u001b[1;36m1\u001b[0m\u001b[1;33m\u001b[0m\u001b[0m\n\u001b[1;32m--> 126\u001b[1;33m     \u001b[1;32mreturn\u001b[0m \u001b[0m_bootstrap\u001b[0m\u001b[1;33m.\u001b[0m\u001b[0m_gcd_import\u001b[0m\u001b[1;33m(\u001b[0m\u001b[0mname\u001b[0m\u001b[1;33m[\u001b[0m\u001b[0mlevel\u001b[0m\u001b[1;33m:\u001b[0m\u001b[1;33m]\u001b[0m\u001b[1;33m,\u001b[0m \u001b[0mpackage\u001b[0m\u001b[1;33m,\u001b[0m \u001b[0mlevel\u001b[0m\u001b[1;33m)\u001b[0m\u001b[1;33m\u001b[0m\u001b[0m\n\u001b[0m\u001b[0;32m    127\u001b[0m \u001b[1;33m\u001b[0m\u001b[0m\n",
      "\u001b[1;32m~\\Anaconda3\\lib\\importlib\\_bootstrap.py\u001b[0m in \u001b[0;36m_gcd_import\u001b[1;34m(name, package, level)\u001b[0m\n",
      "\u001b[1;32m~\\Anaconda3\\lib\\importlib\\_bootstrap.py\u001b[0m in \u001b[0;36m_find_and_load\u001b[1;34m(name, import_)\u001b[0m\n",
      "\u001b[1;32m~\\Anaconda3\\lib\\importlib\\_bootstrap.py\u001b[0m in \u001b[0;36m_find_and_load_unlocked\u001b[1;34m(name, import_)\u001b[0m\n",
      "\u001b[1;31mModuleNotFoundError\u001b[0m: No module named 'SimpleITK._SimpleITK'",
      "\nDuring handling of the above exception, another exception occurred:\n",
      "\u001b[1;31mModuleNotFoundError\u001b[0m                       Traceback (most recent call last)",
      "\u001b[1;32m<ipython-input-2-40ba67e4fd42>\u001b[0m in \u001b[0;36m<module>\u001b[1;34m\u001b[0m\n\u001b[0;32m     20\u001b[0m \u001b[1;31m# enable inline plotting\u001b[0m\u001b[1;33m\u001b[0m\u001b[1;33m\u001b[0m\u001b[0m\n\u001b[0;32m     21\u001b[0m \u001b[0mget_ipython\u001b[0m\u001b[1;33m(\u001b[0m\u001b[1;33m)\u001b[0m\u001b[1;33m.\u001b[0m\u001b[0mrun_line_magic\u001b[0m\u001b[1;33m(\u001b[0m\u001b[1;34m'matplotlib'\u001b[0m\u001b[1;33m,\u001b[0m \u001b[1;34m'inline'\u001b[0m\u001b[1;33m)\u001b[0m\u001b[1;33m\u001b[0m\u001b[0m\n\u001b[1;32m---> 22\u001b[1;33m \u001b[1;32mimport\u001b[0m \u001b[0mSimpleITK\u001b[0m \u001b[1;32mas\u001b[0m \u001b[0msitk\u001b[0m\u001b[1;33m\u001b[0m\u001b[0m\n\u001b[0m\u001b[0;32m     23\u001b[0m \u001b[1;33m\u001b[0m\u001b[0m\n\u001b[0;32m     24\u001b[0m \u001b[1;32mfrom\u001b[0m \u001b[0mdistutils\u001b[0m\u001b[1;33m.\u001b[0m\u001b[0mversion\u001b[0m \u001b[1;32mimport\u001b[0m \u001b[0mLooseVersion\u001b[0m\u001b[1;33m\u001b[0m\u001b[0m\n",
      "\u001b[1;32m~\\Anaconda3\\lib\\site-packages\\SimpleITK\\__init__.py\u001b[0m in \u001b[0;36m<module>\u001b[1;34m\u001b[0m\n\u001b[1;32m----> 1\u001b[1;33m \u001b[1;32mfrom\u001b[0m \u001b[1;33m.\u001b[0m\u001b[0mSimpleITK\u001b[0m \u001b[1;32mimport\u001b[0m \u001b[1;33m*\u001b[0m\u001b[1;33m\u001b[0m\u001b[0m\n\u001b[0m",
      "\u001b[1;32m~\\Anaconda3\\lib\\site-packages\\SimpleITK\\SimpleITK.py\u001b[0m in \u001b[0;36m<module>\u001b[1;34m\u001b[0m\n\u001b[0;32m     15\u001b[0m         \u001b[1;32mexcept\u001b[0m \u001b[0mImportError\u001b[0m\u001b[1;33m:\u001b[0m\u001b[1;33m\u001b[0m\u001b[0m\n\u001b[0;32m     16\u001b[0m             \u001b[1;32mreturn\u001b[0m \u001b[0mimportlib\u001b[0m\u001b[1;33m.\u001b[0m\u001b[0mimport_module\u001b[0m\u001b[1;33m(\u001b[0m\u001b[1;34m'_SimpleITK'\u001b[0m\u001b[1;33m)\u001b[0m\u001b[1;33m\u001b[0m\u001b[0m\n\u001b[1;32m---> 17\u001b[1;33m     \u001b[0m_SimpleITK\u001b[0m \u001b[1;33m=\u001b[0m \u001b[0mswig_import_helper\u001b[0m\u001b[1;33m(\u001b[0m\u001b[1;33m)\u001b[0m\u001b[1;33m\u001b[0m\u001b[0m\n\u001b[0m\u001b[0;32m     18\u001b[0m     \u001b[1;32mdel\u001b[0m \u001b[0mswig_import_helper\u001b[0m\u001b[1;33m\u001b[0m\u001b[0m\n\u001b[0;32m     19\u001b[0m \u001b[1;32melif\u001b[0m \u001b[0m_swig_python_version_info\u001b[0m \u001b[1;33m>=\u001b[0m \u001b[1;33m(\u001b[0m\u001b[1;36m2\u001b[0m\u001b[1;33m,\u001b[0m \u001b[1;36m6\u001b[0m\u001b[1;33m,\u001b[0m \u001b[1;36m0\u001b[0m\u001b[1;33m)\u001b[0m\u001b[1;33m:\u001b[0m\u001b[1;33m\u001b[0m\u001b[0m\n",
      "\u001b[1;32m~\\Anaconda3\\lib\\site-packages\\SimpleITK\\SimpleITK.py\u001b[0m in \u001b[0;36mswig_import_helper\u001b[1;34m()\u001b[0m\n\u001b[0;32m     14\u001b[0m             \u001b[1;32mreturn\u001b[0m \u001b[0mimportlib\u001b[0m\u001b[1;33m.\u001b[0m\u001b[0mimport_module\u001b[0m\u001b[1;33m(\u001b[0m\u001b[0mmname\u001b[0m\u001b[1;33m)\u001b[0m\u001b[1;33m\u001b[0m\u001b[0m\n\u001b[0;32m     15\u001b[0m         \u001b[1;32mexcept\u001b[0m \u001b[0mImportError\u001b[0m\u001b[1;33m:\u001b[0m\u001b[1;33m\u001b[0m\u001b[0m\n\u001b[1;32m---> 16\u001b[1;33m             \u001b[1;32mreturn\u001b[0m \u001b[0mimportlib\u001b[0m\u001b[1;33m.\u001b[0m\u001b[0mimport_module\u001b[0m\u001b[1;33m(\u001b[0m\u001b[1;34m'_SimpleITK'\u001b[0m\u001b[1;33m)\u001b[0m\u001b[1;33m\u001b[0m\u001b[0m\n\u001b[0m\u001b[0;32m     17\u001b[0m     \u001b[0m_SimpleITK\u001b[0m \u001b[1;33m=\u001b[0m \u001b[0mswig_import_helper\u001b[0m\u001b[1;33m(\u001b[0m\u001b[1;33m)\u001b[0m\u001b[1;33m\u001b[0m\u001b[0m\n\u001b[0;32m     18\u001b[0m     \u001b[1;32mdel\u001b[0m \u001b[0mswig_import_helper\u001b[0m\u001b[1;33m\u001b[0m\u001b[0m\n",
      "\u001b[1;32m~\\Anaconda3\\lib\\importlib\\__init__.py\u001b[0m in \u001b[0;36mimport_module\u001b[1;34m(name, package)\u001b[0m\n\u001b[0;32m    124\u001b[0m                 \u001b[1;32mbreak\u001b[0m\u001b[1;33m\u001b[0m\u001b[0m\n\u001b[0;32m    125\u001b[0m             \u001b[0mlevel\u001b[0m \u001b[1;33m+=\u001b[0m \u001b[1;36m1\u001b[0m\u001b[1;33m\u001b[0m\u001b[0m\n\u001b[1;32m--> 126\u001b[1;33m     \u001b[1;32mreturn\u001b[0m \u001b[0m_bootstrap\u001b[0m\u001b[1;33m.\u001b[0m\u001b[0m_gcd_import\u001b[0m\u001b[1;33m(\u001b[0m\u001b[0mname\u001b[0m\u001b[1;33m[\u001b[0m\u001b[0mlevel\u001b[0m\u001b[1;33m:\u001b[0m\u001b[1;33m]\u001b[0m\u001b[1;33m,\u001b[0m \u001b[0mpackage\u001b[0m\u001b[1;33m,\u001b[0m \u001b[0mlevel\u001b[0m\u001b[1;33m)\u001b[0m\u001b[1;33m\u001b[0m\u001b[0m\n\u001b[0m\u001b[0;32m    127\u001b[0m \u001b[1;33m\u001b[0m\u001b[0m\n\u001b[0;32m    128\u001b[0m \u001b[1;33m\u001b[0m\u001b[0m\n",
      "\u001b[1;31mModuleNotFoundError\u001b[0m: No module named '_SimpleITK'"
     ],
     "output_type": "error"
    }
   ],
   "source": [
    "# imports, setup and personal settings\n",
    "# use slicer instead of imageJ\n",
    "#export SITK_SHOW_COMMAND=/Applications/Slicer.app/Contents/MacOS/Slicer\n",
    "from __future__ import print_function\n",
    "import logging\n",
    "import os\n",
    "import importlib\n",
    "# change working directory to project root\n",
    "import platform\n",
    "if platform.system() is \"Windows\":\n",
    "    os.chdir('D:\\\\git\\\\cardio')\n",
    "else:\n",
    "    os.chdir('/Users/Code/Git/cardio')\n",
    "print(os.getcwd())\n",
    "import IPython.core.debugger as debugger\n",
    "import numpy as np\n",
    "import matplotlib.pyplot as plt\n",
    "import matplotlib as mpl\n",
    "mpl.rc('image', aspect='equal')\n",
    "# enable inline plotting\n",
    "%matplotlib inline\n",
    "import SimpleITK as sitk\n",
    "\n",
    "from distutils.version import LooseVersion\n",
    "import sys\n",
    "print(sys.version)\n",
    "print(sys.version_info)\n",
    "\n",
    "# project related helper functions\n",
    "from src.utils.file_wrapper.app.Files import Dicomfile\n",
    "from src.utils.file_wrapper.app.IO import FileWalker\n",
    "from src.utils.file_wrapper.app.Setup import Console_and_file_logger\n",
    "from src.utils.myshow import myshow, myshow3d\n",
    "from src.utils.utils_io import __ensure_dir__\n",
    "\n",
    "# for detailed debug infos\n",
    "#Console_and_file_logger('ipython_sitk_stack')\n",
    "\n",
    "# toggle detailed print messages\n",
    "DETAILED_DEBUG = False\n",
    "\n",
    "# check that all neccessary packages are installed (see requirements.txt file)\n",
    "required_packages = {\n",
    "    'jupyter', 'numpy', 'matplotlib', 'ipywidgets', 'scipy', 'pandas',\n",
    "    'SimpleITK'\n",
    "}\n",
    "\n",
    "problem_packages = list()\n",
    "# Iterate over the required packages: If the package is not installed\n",
    "# ignore the exception.\n",
    "for package in required_packages:\n",
    "    try:\n",
    "        p = importlib.import_module(package)\n",
    "    except ImportError:\n",
    "        problem_packages.append(package)\n",
    "\n",
    "if len(problem_packages) is 0:\n",
    "    print('All is well.')\n",
    "else:\n",
    "    print('The following packages are required but not installed: ' \\\n",
    "          + ', '.join(problem_packages))"
   ]
  },
  {
   "cell_type": "code",
   "execution_count": null,
   "metadata": {},
   "outputs": [],
   "source": [
    "class MyDicomfile(Dicomfile):\n",
    "    \"\"\"\n",
    "    super Dicomfile already knows how to open save, desribe and visualize a dcm image\n",
    "    you need to implement:\n",
    "    \n",
    "    file_type\n",
    "    def __init__(self, dir_name='./', filename='test.dcm', destination='./dest'):\n",
    "    action(self):\n",
    "\n",
    "    important, return the file for later statistics\n",
    "    \"\"\"\n",
    "    file_type = '.dcm'\n",
    "\n",
    "    def __init__(self,\n",
    "                 dir_name='./',\n",
    "                 filename='test.dcm',\n",
    "                 destination='./dest'):\n",
    "        super(MyDicomfile, self).__init__(dir_name, filename, destination)\n",
    "        self.stats['filetype'] = self.__class__.file_type\n",
    "\n",
    "    def action(self):\n",
    "        logging.info('action performed')\n",
    "        return self"
   ]
  },
  {
   "cell_type": "code",
   "execution_count": null,
   "metadata": {},
   "outputs": [],
   "source": [
    "src1 = 'data/raw/0001_small/1.3.12.2.1107.5.99.2.1013.30000008030612131778100062857'\n",
    "src2 = 'data/raw/0001_small/1.3.12.2.1107.5.99.2.1013.30000008030612131778100062911'\n",
    "dest = 'data/processed/small/test1'\n",
    "\n",
    "\n",
    "# get all pictures of two studies\n",
    "fw1 = FileWalker(MyDicomfile, src_dir=src1, dest_dir=dest)\n",
    "fw2 = FileWalker(MyDicomfile, src_dir=src2, dest_dir=dest)\n",
    "\n",
    "#print(fw1.open_files[0].stats)\n",
    "\n",
    "#fw.log_stats()"
   ]
  },
  {
   "cell_type": "code",
   "execution_count": null,
   "metadata": {},
   "outputs": [],
   "source": [
    "#select the first two pictures of each serie\n",
    "# same timestep, but different slices\n",
    "img1 = fw1.open_files[0].img\n",
    "img2 = fw2.open_files[0].img\n",
    "\n",
    "# show both slices\n",
    "myshow3d(img1)\n",
    "myshow3d(img2)\n",
    "\n",
    "# get the numpy array out of an dcm file\n",
    "img1_nda = sitk.GetArrayFromImage(img1)\n",
    "img2_nda = sitk.GetArrayFromImage(img2)\n",
    "\n",
    "print(img1_nda)\n",
    "print('numpy shape: {}'.format(img1_nda.shape))\n",
    "print('sitk shape: {}'.format(img1.GetSize()))"
   ]
  },
  {
   "cell_type": "code",
   "execution_count": null,
   "metadata": {
    "scrolled": false
   },
   "outputs": [],
   "source": [
    "\n",
    "def stack_with_vstack():\n",
    "    \"\"\"\n",
    "    stack two dcm images with nunpy vstack and show them\n",
    "    \"\"\"\n",
    "    stacked_nda = np.vstack((img1_nda, img2_nda))\n",
    "    stacked_img = sitk.GetImageFromArray(stacked_nda)\n",
    "    myshow3d(stacked_img)\n",
    "\n",
    "stack_with_vstack"
   ]
  },
  {
   "cell_type": "code",
   "execution_count": null,
   "metadata": {},
   "outputs": [],
   "source": [
    "\n",
    "def stack_with_concatenate():\n",
    "    \"\"\"\n",
    "    Concatenate two dcm images with np.concatenate\n",
    "    \"\"\"\n",
    "    stacked_nda_concat = np.concatenate((img1_nda, img2_nda))\n",
    "    stacked_img_concat = sitk.GetImageFromArray(stacked_nda_concat)\n",
    "    myshow3d(stacked_img_concat)\n",
    "    \n",
    "stack_with_concatenate"
   ]
  },
  {
   "cell_type": "code",
   "execution_count": null,
   "metadata": {},
   "outputs": [],
   "source": [
    "\n",
    "def create_emtpty_sitk():\n",
    "    \"\"\"\n",
    "    Create an empty sitk image and set the size\n",
    "    \"\"\"\n",
    "\n",
    "    merged_img = sitk.Image(192, 168, 2, sitk.sitkUInt16)\n",
    "    merged_nda = sitk.GetArrayFromImage(merged_img)\n",
    "    print(merged_nda)\n",
    "    print('numpy shape: {}'.format(merged_nda.shape))\n",
    "    print('sitk shape: {}'.format(merged_img.GetSize()))\n",
    "    \n",
    "create_emtpty_sitk"
   ]
  },
  {
   "cell_type": "code",
   "execution_count": null,
   "metadata": {},
   "outputs": [],
   "source": [
    "def save(sitk_image, dest, f_name):\n",
    "    \"\"\"\n",
    "    Use simpleITK to write the current dicom file to disk\n",
    "    :return:\n",
    "    \"\"\"\n",
    "    __ensure_dir__(dest)\n",
    "    try:\n",
    "        sitk.WriteImage(sitk_image, os.path.join(dest, f_name))\n",
    "    except Exception as e:\n",
    "        print('Failed to save sitk image {} due to: {}'.format(f_name, e.message))\n"
   ]
  },
  {
   "cell_type": "code",
   "execution_count": null,
   "metadata": {},
   "outputs": [],
   "source": [
    "def create_a_file_walker(src_path, dest_path):\n",
    "    \"\"\"\n",
    "    MyDicomfile wrapper just loads the dcm image\n",
    "    \"\"\"\n",
    "    fw = None\n",
    "    fw = FileWalker(MyDicomfile, src_dir=src_path, dest_dir=dest_path)\n",
    "    # logging in notebook must be activated, uncomment the Console_and_file_logger\n",
    "    fw.log_stats()\n",
    "    return fw\n",
    "    "
   ]
  },
  {
   "cell_type": "code",
   "execution_count": null,
   "metadata": {},
   "outputs": [],
   "source": [
    "\n",
    "def get_all_series(path):\n",
    "    \"\"\"\n",
    "    returns a list of all series-Folder\n",
    "    \"\"\"\n",
    "    __ensure_dir__(path)\n",
    "    series = []\n",
    "    series = [\n",
    "        d for d in sorted(os.listdir(path)) if os.path.isdir(os.path.join(path, d))\n",
    "    ]\n",
    "    print('Folders in source: {}'.format(len(series)))\n",
    "    if DETAILED_DEBUG:\n",
    "        [print(folder + '\\n') for folder in series]\n",
    "    return series"
   ]
  },
  {
   "cell_type": "code",
   "execution_count": null,
   "metadata": {},
   "outputs": [],
   "source": [
    "\n",
    "def create_3d_from_dcm_slices(slices, axis=0):\n",
    "    slices_nda = []\n",
    "    volume_nda = []\n",
    "    \n",
    "    slices_nda = [sitk.GetArrayFromImage(slice) for slice in slices]\n",
    "    volume_nda = np.concatenate(slices_nda, axis=axis)\n",
    "    volume_img = sitk.GetImageFromArray(volume_nda)\n",
    "    \n",
    "    if DETAILED_DEBUG:\n",
    "        print('create 3D image from: {} slices'.format(len(slices)))\n",
    "        print('Shape of 3D image: {}'.format(volume_nda.shape))\n",
    "        print('Size of 3D sitk Image {}'.format(volume_img.GetSize()))\n",
    "        \n",
    "    return volume_img\n",
    "        "
   ]
  },
  {
   "cell_type": "code",
   "execution_count": null,
   "metadata": {},
   "outputs": [],
   "source": [
    "def create_histogram(values, labels, title='unnamed', xlabel='', ylabel=''):\n",
    "    \"\"\"\n",
    "    Create a bar chart with nice looking ticks and spacing\n",
    "    \"\"\"\n",
    "    fig, ax = plt.subplots()\n",
    "    indexes = np.arange(len(labels))\n",
    "    width = 1 \n",
    "\n",
    "    ax.set_title(title)\n",
    "    ax.set_xlabel(xlabel)\n",
    "    ax.set_ylabel(ylabel)\n",
    "    ax.set_xticks(indexes)\n",
    "    ax.set_xticklabels(labels, rotation=90)\n",
    "    ax.bar(indexes, values, 0.5, label=labels, align='center')"
   ]
  },
  {
   "cell_type": "code",
   "execution_count": null,
   "metadata": {},
   "outputs": [],
   "source": [
    "def create_statistics(file_walkers):\n",
    "    \"\"\"\n",
    "    get some statistics from the open files\n",
    "    \"\"\"\n",
    "    from collections import Counter\n",
    "    \n",
    "    images_per_fw = []\n",
    "    labels = []\n",
    "\n",
    "    print('File_walkers: {}'.format(len(file_walkers)))\n",
    "\n",
    "    # print each serie and the corresponding number of images\n",
    "    [print('Serie: {} with {} images'.format(fw.open_files[0].dir,len(fw.open_files)))for idx, fw in enumerate(file_walkers)]\n",
    "    \n",
    "    # create one list with the stats of all images\n",
    "    image_stats = []\n",
    "    for fw in file_walkers:\n",
    "        for file in fw.open_files:\n",
    "            image_stats.append(file.stats)\n",
    "    \n",
    "    # get the number of open files per file walker\n",
    "    images_per_fw = [len(fw.open_files) for fw in file_walkers]   \n",
    "    c = Counter(images_per_fw)\n",
    "    labels, values = zip(*c.items())   \n",
    "    create_histogram(values, labels, 'Images per Serie', '# of images', 'total of series')\n",
    "\n",
    "    # how many open files of which size?\n",
    "    c1 = Counter(stats['size'] for stats in image_stats)\n",
    "    labels, values = zip(*c1.items())\n",
    "    create_histogram(values, labels, 'Distribution of Image-Size', 'Imagesize', 'total in all series')\n",
    "                 \n",
    "    \n",
    "                         \n",
    "    \"\"\"\n",
    "    One example Stats dictionary from the dicom filewarpper\n",
    "                {\n",
    "        'filetype':\n",
    "        '.dcm',\n",
    "        'file':\n",
    "        '1.3.12.2.1107.5.99.2.1013.30000008030612131778100062853.dcm',\n",
    "        'src_path':\n",
    "        'data/raw/0001-02Z1L14N-2006-11-09/1.3.12.2.1107.5.99.2.1013.30000008030612131778100062857',\n",
    "        'dimension':\n",
    "        3,\n",
    "        'size': (192, 168, 1),\n",
    "        'origin': (-159.76539802551, -149.47937488556, 68.646492004395),\n",
    "        'spacing': (1.6145833333333, 1.6145833333333, 6.0)\n",
    "    }\n",
    "    \"\"\""
   ]
  },
  {
   "cell_type": "code",
   "execution_count": null,
   "metadata": {},
   "outputs": [],
   "source": [
    "\n",
    "def get_all_series_as_file_walker_unfiltered(src, dest):\n",
    "    \"\"\"\n",
    "    Finds all subdirectories for src, create a filewriter per sub-dir\n",
    "    loads all contained dcm files\n",
    "    \"\"\"\n",
    "    sub_folders = []\n",
    "    file_walkers = []\n",
    "    images_per_series = []\n",
    "\n",
    "    sub_folders = get_all_series(src)\n",
    "    print('Series in {}: {}'.format(src, len(sub_folders)))\n",
    "    \n",
    "    file_walkers = [create_a_file_walker(os.path.join(src, serie_f), dest) for serie_f in sub_folders]\n",
    "    \n",
    "    return file_walkers"
   ]
  },
  {
   "cell_type": "code",
   "execution_count": null,
   "metadata": {},
   "outputs": [],
   "source": [
    "def get_origin_from_fw(fw):\n",
    "    #print(fw.open_files[0].stats['origin'][2])\n",
    "    return fw.open_files[0].stats['origin'][2]"
   ]
  },
  {
   "cell_type": "code",
   "execution_count": null,
   "metadata": {},
   "outputs": [],
   "source": [
    "\n",
    "def get_all_series_as_file_walker(src, dest):\n",
    "    \"\"\"\n",
    "    Finds all subdirectories for src, create a filewriter per sub-dir\n",
    "    loads all contained dcm files\n",
    "    \"\"\"\n",
    "    sub_folders = []\n",
    "    file_walkers = []\n",
    "    images_per_series = []\n",
    "\n",
    "    sub_folders = get_all_series(src)\n",
    "    print('Series in {}: {}'.format(src, len(sub_folders)))\n",
    "    \n",
    "    file_walkers = [create_a_file_walker(os.path.join(src, serie_f), dest) for serie_f in sub_folders]\n",
    "\n",
    "    # filter only the series with 18 included files\n",
    "    file_walkers_filtered = [fw for fw in file_walkers if len(fw.open_files) is 18]\n",
    "    print('file walkers filtered')\n",
    "    \n",
    "    # sort the file walkers according to the origin of the included images\n",
    "    file_walkers_sorted = sorted(file_walkers_filtered, key=get_origin_from_fw)\n",
    "    [print('origin: {}'.format(get_origin_from_fw(fw))) for fw in file_walkers_sorted]\n",
    "    \n",
    "    \n",
    "    return file_walkers_sorted\n",
    "    "
   ]
  },
  {
   "cell_type": "code",
   "execution_count": null,
   "metadata": {},
   "outputs": [],
   "source": [
    "\n",
    "def stack_to_volumes(file_walkers, dest, persist=False):\n",
    "    \"\"\"\n",
    "    stack all dcm images of the given file_walker\n",
    "    concatenate fw[n].open_files[j] + fw[n+1].open_files[j] ...\n",
    "    \"\"\"\n",
    "\n",
    "    volume_slices = []\n",
    "    stacked_volumes = []\n",
    "\n",
    "\n",
    "    # the len of all open files = timesteps?\n",
    "    for x in range(len(file_walkers[0].open_files)):\n",
    "        # concat all slices with timestep n\n",
    "        # get the n-image from each file walker (series)\n",
    "        volume_slices = [fw.open_files[x].img for fw in file_walkers]\n",
    "        # create a volume from the given volume slices\n",
    "        stacked_volumes.append(create_3d_from_dcm_slices(volume_slices))\n",
    "        \n",
    "    # show the stacked volumes\n",
    "    for idx, volume in enumerate(stacked_volumes):\n",
    "        myshow3d(volume)\n",
    "        if persist:\n",
    "            save(volume, dest, str(idx) + 'volume.dcm')\n",
    "\n"
   ]
  },
  {
   "cell_type": "code",
   "execution_count": null,
   "metadata": {
    "scrolled": false
   },
   "outputs": [],
   "source": [
    "# works, but the files are not sorted, volumes are messed up\n",
    "\n",
    "# src = 'data/raw/0001_small/'\n",
    "# dest = 'data/processed/stacked/0001_small/'\n",
    "\n",
    "src = 'data/raw/0001-02Z1L14N-2006-11-09/'\n",
    "dest = 'data/processed/stacked_sorted/0001-02Z1L14N-2006-11-09/'\n",
    "\n",
    "f_walkers = get_all_series_as_file_walker(src, dest)\n",
    "\n",
    "stack_to_volumes(f_walkers, dest, True)\n"
   ]
  },
  {
   "cell_type": "code",
   "execution_count": null,
   "metadata": {
    "scrolled": false
   },
   "outputs": [],
   "source": [
    "# Plot some distribution of the data\n",
    "\n",
    "#src = 'data/raw/0001_small/'\n",
    "#dest = 'data/processed/stacked/0001_small/'\n",
    "# 0001-02Z1L14N-2006-11-09/\n",
    "# 0706-ZY8H5791-2005-06-16/\n",
    "src = 'data/raw/0001-02Z1L14N-2006-11-09/'\n",
    "dest = 'data/processed/stacked/0001-02Z1L14N-2006-11-09/'\n",
    "\n",
    "f_walkers = get_all_series_as_file_walker_unfiltered(src, dest)\n",
    "create_statistics(f_walkers)\n",
    "\n"
   ]
  },
  {
   "cell_type": "code",
   "execution_count": 3,
   "metadata": {},
   "outputs": [
    {
     "name": "stdout",
     "output_type": "stream",
     "text": [
      "Collecting simpleitk\n",
      "  Downloading https://files.pythonhosted.org/packages/63/ad/b00ed74f909762550c19fa98360e2b8e974be7f168c481c83393a558e89d/SimpleITK-1.1.0-cp37-cp37m-win_amd64.whl (27.1MB)\n",
      "Installing collected packages: simpleitk\n",
      "Successfully installed simpleitk-1.1.0\n"
     ]
    }
   ],
   "source": [
    "!pip install simpleitk"
   ]
  },
  {
   "cell_type": "code",
   "execution_count": null,
   "metadata": {},
   "outputs": [],
   "source": []
  }
 ],
 "metadata": {
  "kernelspec": {
   "display_name": "cardio",
   "language": "python",
   "name": "cardio"
  },
  "language_info": {
   "codemirror_mode": {
    "name": "ipython",
    "version": 3
   },
   "file_extension": ".py",
   "mimetype": "text/x-python",
   "name": "python",
   "nbconvert_exporter": "python",
   "pygments_lexer": "ipython3",
   "version": "3.6.6"
  },
  "varInspector": {
   "cols": {
    "lenName": 16.0,
    "lenType": 16.0,
    "lenVar": 40.0
   },
   "kernels_config": {
    "python": {
     "delete_cmd_postfix": "",
     "delete_cmd_prefix": "del ",
     "library": "var_list.py",
     "varRefreshCmd": "print(var_dic_list())"
    },
    "r": {
     "delete_cmd_postfix": ") ",
     "delete_cmd_prefix": "rm(",
     "library": "var_list.r",
     "varRefreshCmd": "cat(var_dic_list()) "
    }
   },
   "oldHeight": 521.0,
   "position": {
    "height": "543px",
    "left": "2183px",
    "right": "28px",
    "top": "113px",
    "width": "349px"
   },
   "types_to_exclude": [
    "module",
    "function",
    "builtin_function_or_method",
    "instance",
    "_Feature"
   ],
   "varInspector_section_display": "block",
   "window_display": false
  }
 },
 "nbformat": 4,
 "nbformat_minor": 2
}
