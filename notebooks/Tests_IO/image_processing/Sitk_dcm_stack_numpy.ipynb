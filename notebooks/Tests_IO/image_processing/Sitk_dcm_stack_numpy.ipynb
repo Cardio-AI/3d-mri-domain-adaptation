{
 "cells": [
  {
   "cell_type": "code",
<<<<<<< HEAD
   "execution_count": 35,
=======
   "execution_count": null,
   "metadata": {},
   "outputs": [],
   "source": [
    "import platform\n",
    "platform.system()\n",
    "!pip install jupyter_contrib_nbextensions"
   ]
  },
  {
   "cell_type": "code",
   "execution_count": 12,
>>>>>>> 05805f0d9cfad6d4f4adf200d9b00a069b4af582
   "metadata": {},
   "outputs": [
    {
     "name": "stdout",
     "output_type": "stream",
     "text": [
      "D:\\git\\cardio\n",
      "3.7.0 (default, Jun 28 2018, 08:04:48) [MSC v.1912 64 bit (AMD64)]\n",
      "sys.version_info(major=3, minor=7, micro=0, releaselevel='final', serial=0)\n"
     ]
    },
    {
     "ename": "ModuleNotFoundError",
     "evalue": "No module named 'scipy'",
     "output_type": "error",
     "traceback": [
      "\u001b[1;31m---------------------------------------------------------------------------\u001b[0m",
      "\u001b[1;31mModuleNotFoundError\u001b[0m                       Traceback (most recent call last)",
      "\u001b[1;32m<ipython-input-12-6015f75668e6>\u001b[0m in \u001b[0;36m<module>\u001b[1;34m\u001b[0m\n\u001b[0;32m     24\u001b[0m \u001b[1;33m\u001b[0m\u001b[0m\n\u001b[0;32m     25\u001b[0m \u001b[1;31m# project related helper functions\u001b[0m\u001b[1;33m\u001b[0m\u001b[1;33m\u001b[0m\u001b[0m\n\u001b[1;32m---> 26\u001b[1;33m \u001b[1;32mfrom\u001b[0m \u001b[0msrc\u001b[0m\u001b[1;33m.\u001b[0m\u001b[0mutils\u001b[0m\u001b[1;33m.\u001b[0m\u001b[0mfile_wrapper\u001b[0m\u001b[1;33m.\u001b[0m\u001b[0mapp\u001b[0m\u001b[1;33m.\u001b[0m\u001b[0mFiles\u001b[0m \u001b[1;32mimport\u001b[0m \u001b[0mDicomfile\u001b[0m\u001b[1;33m\u001b[0m\u001b[0m\n\u001b[0m\u001b[0;32m     27\u001b[0m \u001b[1;32mfrom\u001b[0m \u001b[0msrc\u001b[0m\u001b[1;33m.\u001b[0m\u001b[0mutils\u001b[0m\u001b[1;33m.\u001b[0m\u001b[0mfile_wrapper\u001b[0m\u001b[1;33m.\u001b[0m\u001b[0mapp\u001b[0m\u001b[1;33m.\u001b[0m\u001b[0mIO\u001b[0m \u001b[1;32mimport\u001b[0m \u001b[0mFileWalker\u001b[0m\u001b[1;33m\u001b[0m\u001b[0m\n\u001b[0;32m     28\u001b[0m \u001b[1;32mfrom\u001b[0m \u001b[0msrc\u001b[0m\u001b[1;33m.\u001b[0m\u001b[0mutils\u001b[0m\u001b[1;33m.\u001b[0m\u001b[0mfile_wrapper\u001b[0m\u001b[1;33m.\u001b[0m\u001b[0mapp\u001b[0m\u001b[1;33m.\u001b[0m\u001b[0mSetup\u001b[0m \u001b[1;32mimport\u001b[0m \u001b[0mConsole_and_file_logger\u001b[0m\u001b[1;33m\u001b[0m\u001b[0m\n",
      "\u001b[1;32mD:\\git\\cardio\\src\\utils\\file_wrapper\\app\\Files.py\u001b[0m in \u001b[0;36m<module>\u001b[1;34m\u001b[0m\n\u001b[1;32m----> 1\u001b[1;33m \u001b[1;32mfrom\u001b[0m \u001b[0mscipy\u001b[0m\u001b[1;33m.\u001b[0m\u001b[0mio\u001b[0m \u001b[1;32mimport\u001b[0m \u001b[0mwavfile\u001b[0m\u001b[1;33m\u001b[0m\u001b[0m\n\u001b[0m\u001b[0;32m      2\u001b[0m \u001b[1;32mimport\u001b[0m \u001b[0mjson\u001b[0m\u001b[1;33m\u001b[0m\u001b[0m\n\u001b[0;32m      3\u001b[0m \u001b[1;32mimport\u001b[0m \u001b[0mmatplotlib\u001b[0m \u001b[1;32mas\u001b[0m \u001b[0mmpl\u001b[0m\u001b[1;33m\u001b[0m\u001b[0m\n\u001b[0;32m      4\u001b[0m \u001b[0mmpl\u001b[0m\u001b[1;33m.\u001b[0m\u001b[0muse\u001b[0m\u001b[1;33m(\u001b[0m\u001b[1;34m'TkAgg'\u001b[0m\u001b[1;33m)\u001b[0m\u001b[1;33m\u001b[0m\u001b[0m\n\u001b[0;32m      5\u001b[0m \u001b[1;32mimport\u001b[0m \u001b[0mmatplotlib\u001b[0m\u001b[1;33m.\u001b[0m\u001b[0mpyplot\u001b[0m \u001b[1;32mas\u001b[0m \u001b[0mplt\u001b[0m\u001b[1;33m\u001b[0m\u001b[0m\n",
      "\u001b[1;31mModuleNotFoundError\u001b[0m: No module named 'scipy'"
     ]
    }
   ],
   "source": [
    "# imports, setup and personal settings\n",
    "# use slicer instead of imageJ\n",
    "#export SITK_SHOW_COMMAND=/Applications/Slicer.app/Contents/MacOS/Slicer\n",
    "from __future__ import print_function\n",
    "import logging\n",
    "import os\n",
    "# change working directory to project root\n",
    "os.chdir('D:\\\\git\\\\cardio')\n",
    "print(os.getcwd())\n",
    "import IPython.core.debugger as debugger\n",
    "import numpy as np\n",
    "import matplotlib.pyplot as plt\n",
    "import matplotlib as mpl\n",
    "mpl.rc('image', aspect='equal')\n",
    "# enable inline plotting\n",
    "%matplotlib inline\n",
    "import SimpleITK as sitk\n",
    "\n",
    "import importlib\n",
    "from distutils.version import LooseVersion\n",
    "import sys\n",
    "print(sys.version)\n",
    "print(sys.version_info)\n",
    "\n",
    "# project related helper functions\n",
    "from src.utils.file_wrapper.app.Files import Dicomfile\n",
    "from src.utils.file_wrapper.app.IO import FileWalker\n",
    "from src.utils.file_wrapper.app.Setup import Console_and_file_logger\n",
    "from src.utils.myshow import myshow, myshow3d\n",
    "from src.utils.utils_io import __ensure_dir__\n",
    "\n",
    "# for detailed debug infos\n",
    "#Console_and_file_logger('ipython_sitk_stack')\n",
    "\n",
    "# toggle detailed print messages\n",
    "DETAILED_DEBUG = True\n",
    "\n",
    "# check that all neccessary packages are installed (see requirements.txt file)\n",
    "required_packages = {\n",
    "    'jupyter', 'numpy', 'matplotlib', 'ipywidgets', 'scipy', 'pandas',\n",
    "    'SimpleITK'\n",
    "}\n",
    "\n",
    "problem_packages = list()\n",
    "# Iterate over the required packages: If the package is not installed\n",
    "# ignore the exception.\n",
    "for package in required_packages:\n",
    "    try:\n",
    "        p = importlib.import_module(package)\n",
    "    except ImportError:\n",
    "        problem_packages.append(package)\n",
    "\n",
    "if len(problem_packages) is 0:\n",
    "    print('All is well.')\n",
    "else:\n",
    "    print('The following packages are required but not installed: ' \\\n",
    "          + ', '.join(problem_packages))"
   ]
  },
  {
   "cell_type": "code",
<<<<<<< HEAD
   "execution_count": 5,
=======
   "execution_count": null,
>>>>>>> 05805f0d9cfad6d4f4adf200d9b00a069b4af582
   "metadata": {},
   "outputs": [],
   "source": [
    "class MyDicomfile(Dicomfile):\n",
    "    \"\"\"\n",
    "    super Dicomfile already knows how to open save, desribe and visualize a dcm image\n",
    "    you need to implement:\n",
    "    \n",
    "    file_type\n",
    "    def __init__(self, dir_name='./', filename='test.dcm', destination='./dest'):\n",
    "    action(self):\n",
    "\n",
    "    important, return the file for later statistics\n",
    "    \"\"\"\n",
    "    file_type = '.dcm'\n",
    "\n",
    "    def __init__(self,\n",
    "                 dir_name='./',\n",
    "                 filename='test.dcm',\n",
    "                 destination='./dest'):\n",
    "        super(MyDicomfile, self).__init__(dir_name, filename, destination)\n",
    "        self.stats['filetype'] = self.__class__.file_type\n",
    "\n",
    "    def action(self):\n",
    "        logging.info('action performed')\n",
    "        return self"
   ]
  },
  {
   "cell_type": "code",
<<<<<<< HEAD
   "execution_count": 6,
=======
   "execution_count": null,
>>>>>>> 05805f0d9cfad6d4f4adf200d9b00a069b4af582
   "metadata": {},
   "outputs": [],
   "source": [
    "src1 = 'data/raw/0001_small/1.3.12.2.1107.5.99.2.1013.30000008030612131778100062857'\n",
    "src2 = 'data/raw/0001_small/1.3.12.2.1107.5.99.2.1013.30000008030612131778100062911'\n",
    "dest = 'data/processed/small/test1'\n",
    "\n",
    "\n",
    "# get all pictures of two studies\n",
    "fw1 = FileWalker(MyDicomfile, src_dir=src1, dest_dir=dest)\n",
    "fw2 = FileWalker(MyDicomfile, src_dir=src2, dest_dir=dest)\n",
    "\n",
    "#print(fw1.open_files[0].stats)\n",
    "\n",
    "#fw.log_stats()"
   ]
  },
  {
   "cell_type": "code",
<<<<<<< HEAD
   "execution_count": 7,
   "metadata": {},
   "outputs": [
    {
     "data": {
      "application/vnd.jupyter.widget-view+json": {
       "model_id": "081d4beb44604937a33d585f69cfe095",
       "version_major": 2,
       "version_minor": 0
      },
      "text/plain": [
       "interactive(children=(IntSlider(value=0, description='z', max=0), Output()), _dom_classes=('widget-interact',)…"
      ]
     },
     "metadata": {},
     "output_type": "display_data"
    },
    {
     "data": {
      "application/vnd.jupyter.widget-view+json": {
       "model_id": "eef62a1bc1e84f70920b4291b61b6a85",
       "version_major": 2,
       "version_minor": 0
      },
      "text/plain": [
       "interactive(children=(IntSlider(value=0, description='z', max=0), Output()), _dom_classes=('widget-interact',)…"
      ]
     },
     "metadata": {},
     "output_type": "display_data"
    },
    {
     "name": "stdout",
     "output_type": "stream",
     "text": [
      "[[[ 0 35 30 ... 23 32 32]\n",
      "  [ 0 46 27 ... 28 32 32]\n",
      "  [ 0 43 32 ... 20 18 33]\n",
      "  ...\n",
      "  [ 0 32 45 ... 30 40 44]\n",
      "  [ 0 36 29 ... 24 27 29]\n",
      "  [ 0 47 34 ... 29 29 24]]]\n",
      "numpy shape: (1, 168, 192)\n",
      "sitk shape: (192, 168, 1)\n"
     ]
    }
   ],
=======
   "execution_count": null,
   "metadata": {},
   "outputs": [],
>>>>>>> 05805f0d9cfad6d4f4adf200d9b00a069b4af582
   "source": [
    "#select the first two pictures of each serie\n",
    "# same timestep, but different slices\n",
    "img1 = fw1.open_files[0].img\n",
    "img2 = fw2.open_files[0].img\n",
    "\n",
    "# show both slices\n",
    "myshow3d(img1)\n",
    "myshow3d(img2)\n",
    "\n",
    "# get the numpy array out of an dcm file\n",
    "img1_nda = sitk.GetArrayFromImage(img1)\n",
    "img2_nda = sitk.GetArrayFromImage(img2)\n",
    "\n",
    "print(img1_nda)\n",
    "print('numpy shape: {}'.format(img1_nda.shape))\n",
    "print('sitk shape: {}'.format(img1.GetSize()))"
   ]
  },
  {
   "cell_type": "code",
<<<<<<< HEAD
   "execution_count": 8,
   "metadata": {
    "scrolled": false
   },
   "outputs": [
    {
     "data": {
      "application/vnd.jupyter.widget-view+json": {
       "model_id": "a3a3a6373b3f4ea998ca94ef1067871a",
       "version_major": 2,
       "version_minor": 0
      },
      "text/plain": [
       "interactive(children=(IntSlider(value=0, description='z', max=1), Output()), _dom_classes=('widget-interact',)…"
      ]
     },
     "metadata": {},
     "output_type": "display_data"
    }
   ],
=======
   "execution_count": null,
   "metadata": {
    "scrolled": false
   },
   "outputs": [],
>>>>>>> 05805f0d9cfad6d4f4adf200d9b00a069b4af582
   "source": [
    "\n",
    "def stack_with_vstack():\n",
    "    \"\"\"\n",
    "    stack two dcm images with nunpy vstack and show them\n",
    "    \"\"\"\n",
    "    stacked_nda = np.vstack((img1_nda, img2_nda))\n",
    "    stacked_img = sitk.GetImageFromArray(stacked_nda)\n",
    "    myshow3d(stacked_img)\n",
    "\n",
    "stack_with_vstack()"
   ]
  },
  {
   "cell_type": "code",
<<<<<<< HEAD
   "execution_count": 9,
   "metadata": {},
   "outputs": [
    {
     "data": {
      "application/vnd.jupyter.widget-view+json": {
       "model_id": "cd456d5265774a4da4ad6d76de88dd99",
       "version_major": 2,
       "version_minor": 0
      },
      "text/plain": [
       "interactive(children=(IntSlider(value=0, description='z', max=1), Output()), _dom_classes=('widget-interact',)…"
      ]
     },
     "metadata": {},
     "output_type": "display_data"
    }
   ],
=======
   "execution_count": null,
   "metadata": {},
   "outputs": [],
>>>>>>> 05805f0d9cfad6d4f4adf200d9b00a069b4af582
   "source": [
    "\n",
    "def stack_with_concatenate():\n",
    "    \"\"\"\n",
    "    Concatenate two dcm images with np.concatenate\n",
    "    \"\"\"\n",
    "    stacked_nda_concat = np.concatenate((img1_nda, img2_nda))\n",
    "    stacked_img_concat = sitk.GetImageFromArray(stacked_nda_concat)\n",
    "    myshow3d(stacked_img_concat)\n",
    "    \n",
    "stack_with_concatenate()"
   ]
  },
  {
   "cell_type": "code",
<<<<<<< HEAD
   "execution_count": 10,
   "metadata": {},
   "outputs": [
    {
     "data": {
      "text/plain": [
       "<function __main__.create_emtpty_sitk>"
      ]
     },
     "execution_count": 10,
     "metadata": {},
     "output_type": "execute_result"
    }
   ],
=======
   "execution_count": null,
   "metadata": {},
   "outputs": [],
>>>>>>> 05805f0d9cfad6d4f4adf200d9b00a069b4af582
   "source": [
    "\n",
    "def create_emtpty_sitk():\n",
    "    \"\"\"\n",
    "    Create an empty sitk image and set the size\n",
    "    \"\"\"\n",
    "\n",
    "    merged_img = sitk.Image(192, 168, 2, sitk.sitkUInt16)\n",
    "    merged_nda = sitk.GetArrayFromImage(merged_img)\n",
    "    print(merged_nda)\n",
    "    print('numpy shape: {}'.format(merged_nda.shape))\n",
    "    print('sitk shape: {}'.format(merged_img.GetSize()))\n",
    "    \n",
    "create_emtpty_sitk"
   ]
  },
  {
   "cell_type": "code",
<<<<<<< HEAD
   "execution_count": 11,
=======
   "execution_count": null,
>>>>>>> 05805f0d9cfad6d4f4adf200d9b00a069b4af582
   "metadata": {},
   "outputs": [],
   "source": [
    "def save(sitk_image, dest, f_name):\n",
    "    \"\"\"\n",
    "    Use simpleITK to write the current dicom file to disk\n",
    "    :return:\n",
    "    \"\"\"\n",
    "    __ensure_dir__(dest)\n",
    "    try:\n",
    "        sitk.WriteImage(sitk_image, os.path.join(dest, f_name))\n",
    "    except Exception as e:\n",
    "        print('Failed to save sitk image {} due to: {}'.format(f_name, e.message))\n"
   ]
  },
  {
   "cell_type": "code",
<<<<<<< HEAD
   "execution_count": 12,
=======
   "execution_count": null,
>>>>>>> 05805f0d9cfad6d4f4adf200d9b00a069b4af582
   "metadata": {},
   "outputs": [],
   "source": [
    "def create_a_file_walker(src_path, dest_path):\n",
    "    \"\"\"\n",
    "    MyDicomfile wrapper just loads the dcm image\n",
    "    \"\"\"\n",
    "    fw = None\n",
    "    fw = FileWalker(MyDicomfile, src_dir=src_path, dest_dir=dest_path)\n",
    "    # logging in notebook must be activated, uncomment the Console_and_file_logger\n",
    "    fw.log_stats()\n",
    "    return fw\n",
    "    "
   ]
  },
  {
   "cell_type": "code",
<<<<<<< HEAD
   "execution_count": 13,
=======
   "execution_count": null,
>>>>>>> 05805f0d9cfad6d4f4adf200d9b00a069b4af582
   "metadata": {},
   "outputs": [],
   "source": [
    "\n",
    "def get_all_series(path):\n",
    "    \"\"\"\n",
    "    returns a list of all series-Folder\n",
    "    \"\"\"\n",
    "    __ensure_dir__(path)\n",
    "    series = []\n",
    "    series = [\n",
    "        d for d in sorted(os.listdir(path)) if os.path.isdir(os.path.join(path, d))\n",
    "    ]\n",
    "    print('Folders in source: {}'.format(len(series)))\n",
    "    if DETAILED_DEBUG:\n",
    "        [print(folder + '\\n') for folder in series]\n",
    "    return series"
   ]
  },
  {
   "cell_type": "code",
<<<<<<< HEAD
   "execution_count": 14,
=======
   "execution_count": null,
>>>>>>> 05805f0d9cfad6d4f4adf200d9b00a069b4af582
   "metadata": {},
   "outputs": [],
   "source": [
    "\n",
    "def create_3d_from_dcm_slices(slices, axis=0):\n",
    "    slices_nda = []\n",
    "    volume_nda = []\n",
    "    \n",
    "    slices_nda = [sitk.GetArrayFromImage(slice) for slice in slices]\n",
    "    volume_nda = np.concatenate(slices_nda, axis=axis)\n",
    "    volume_img = sitk.GetImageFromArray(volume_nda)\n",
    "    \n",
    "    if DETAILED_DEBUG:\n",
    "        print('create 3D image from: {} slices'.format(len(slices)))\n",
    "        print('Shape of 3D image: {}'.format(volume_nda.shape))\n",
    "        print('Size of 3D sitk Image {}'.format(volume_img.GetSize()))\n",
    "        \n",
    "    return volume_img\n",
    "        "
   ]
  },
  {
   "cell_type": "code",
<<<<<<< HEAD
   "execution_count": 15,
=======
   "execution_count": null,
>>>>>>> 05805f0d9cfad6d4f4adf200d9b00a069b4af582
   "metadata": {},
   "outputs": [],
   "source": [
    "def create_histogram(values, labels, title='unnamed', xlabel='', ylabel=''):\n",
    "    \"\"\"\n",
    "    Create a bar chart with nice looking ticks and spacing\n",
    "    \"\"\"\n",
    "    fig, ax = plt.subplots()\n",
    "    indexes = np.arange(len(labels))\n",
    "    width = 1 \n",
    "\n",
    "    ax.set_title(title)\n",
    "    ax.set_xlabel(xlabel)\n",
    "    ax.set_ylabel(ylabel)\n",
    "    ax.set_xticks(indexes)\n",
    "    ax.set_xticklabels(labels, rotation=90)\n",
    "    ax.bar(indexes, values, 0.5, label=labels, align='center')"
   ]
  },
  {
   "cell_type": "code",
<<<<<<< HEAD
   "execution_count": 16,
=======
   "execution_count": null,
>>>>>>> 05805f0d9cfad6d4f4adf200d9b00a069b4af582
   "metadata": {},
   "outputs": [],
   "source": [
    "def create_statistics(file_walkers):\n",
    "    \"\"\"\n",
    "    get some statistics from the open files\n",
    "    \"\"\"\n",
    "    from collections import Counter\n",
    "    \n",
    "    images_per_fw = []\n",
    "    labels = []\n",
    "\n",
    "    print('File_walkers: {}'.format(len(file_walkers)))\n",
    "\n",
    "    # print each serie and the corresponding number of images\n",
    "    [print('Serie: {} with {} images'.format(fw.open_files[0].dir,len(fw.open_files)))for idx, fw in enumerate(file_walkers)]\n",
    "    \n",
    "    # create one list with the stats of all images\n",
    "    image_stats = []\n",
    "    for fw in file_walkers:\n",
    "        for file in fw.open_files:\n",
    "            image_stats.append(file.stats)\n",
    "    \n",
    "    # get the number of open files per file walker\n",
    "    images_per_fw = [len(fw.open_files) for fw in file_walkers]   \n",
    "    c = Counter(images_per_fw)\n",
    "    labels, values = zip(*c.items())   \n",
    "    create_histogram(values, labels, 'Images per Serie', '# of images', 'total of series')\n",
    "\n",
    "    # how many open files of which size?\n",
    "    c1 = Counter(stats['size'] for stats in image_stats)\n",
    "    labels, values = zip(*c1.items())\n",
    "    create_histogram(values, labels, 'Distribution of Image-Size', 'Imagesize', 'total in all series')\n",
    "                 \n",
    "    \n",
    "                         \n",
    "    \"\"\"\n",
    "    One example Stats dictionary from the dicom filewarpper\n",
    "                {\n",
    "        'filetype':\n",
    "        '.dcm',\n",
    "        'file':\n",
    "        '1.3.12.2.1107.5.99.2.1013.30000008030612131778100062853.dcm',\n",
    "        'src_path':\n",
    "        'data/raw/0001-02Z1L14N-2006-11-09/1.3.12.2.1107.5.99.2.1013.30000008030612131778100062857',\n",
    "        'dimension':\n",
    "        3,\n",
    "        'size': (192, 168, 1),\n",
    "        'origin': (-159.76539802551, -149.47937488556, 68.646492004395),\n",
    "        'spacing': (1.6145833333333, 1.6145833333333, 6.0)\n",
    "    }\n",
    "    \"\"\""
   ]
  },
  {
   "cell_type": "code",
<<<<<<< HEAD
   "execution_count": 17,
=======
   "execution_count": null,
>>>>>>> 05805f0d9cfad6d4f4adf200d9b00a069b4af582
   "metadata": {},
   "outputs": [],
   "source": [
    "\n",
    "def get_all_series_as_file_walker_unfiltered(src, dest):\n",
    "    \"\"\"\n",
    "    Finds all subdirectories for src, create a filewriter per sub-dir\n",
    "    loads all contained dcm files\n",
    "    \"\"\"\n",
    "    sub_folders = []\n",
    "    file_walkers = []\n",
    "    images_per_series = []\n",
    "\n",
    "    sub_folders = get_all_series(src)\n",
    "    print('Series in {}: {}'.format(src, len(sub_folders)))\n",
    "    \n",
    "    file_walkers = [create_a_file_walker(os.path.join(src, serie_f), dest) for serie_f in sub_folders]\n",
    "    \n",
    "    return file_walkers"
   ]
  },
  {
   "cell_type": "code",
<<<<<<< HEAD
   "execution_count": 18,
=======
   "execution_count": null,
>>>>>>> 05805f0d9cfad6d4f4adf200d9b00a069b4af582
   "metadata": {},
   "outputs": [],
   "source": [
    "def get_origin_from_fw(fw):\n",
    "    #print(fw.open_files[0].stats['origin'][2])\n",
    "    return fw.open_files[0].stats['origin'][2]"
   ]
  },
  {
   "cell_type": "code",
<<<<<<< HEAD
   "execution_count": 19,
=======
   "execution_count": null,
>>>>>>> 05805f0d9cfad6d4f4adf200d9b00a069b4af582
   "metadata": {},
   "outputs": [],
   "source": [
    "\n",
    "def get_all_series_as_file_walker(src, dest):\n",
    "    \"\"\"\n",
    "    Finds all subdirectories for src, create a filewriter per sub-dir\n",
    "    loads all contained dcm files\n",
    "    \"\"\"\n",
    "    sub_folders = []\n",
    "    file_walkers = []\n",
    "    images_per_series = []\n",
    "\n",
    "    sub_folders = get_all_series(src)\n",
    "    print('Series in {}: {}'.format(src, len(sub_folders)))\n",
    "    \n",
    "    file_walkers = [create_a_file_walker(os.path.join(src, serie_f), dest) for serie_f in sub_folders]\n",
    "\n",
    "    # filter only the series with 18 included files\n",
    "    file_walkers_filtered = [fw for fw in file_walkers if len(fw.open_files) is 18]\n",
    "    print('file walkers filtered')\n",
    "    \n",
    "    # sort the file walkers according to the origin of the included images\n",
    "    file_walkers_sorted = sorted(file_walkers_filtered, key=get_origin_from_fw)\n",
    "    [print('origin: {}'.format(get_origin_from_fw(fw))) for fw in file_walkers_sorted]\n",
    "    \n",
    "    \n",
    "    return file_walkers_sorted\n",
    "    "
   ]
  },
  {
   "cell_type": "code",
<<<<<<< HEAD
   "execution_count": 22,
=======
   "execution_count": null,
>>>>>>> 05805f0d9cfad6d4f4adf200d9b00a069b4af582
   "metadata": {},
   "outputs": [],
   "source": [
    "\n",
    "def stack_to_volumes(file_walkers, dest, persist=False):\n",
    "    \"\"\"\n",
    "    stack all dcm images of the given file_walkers\n",
    "    concatenate fw[n].open_files[j] + fw[n+1].open_files[j] ...\n",
    "    \"\"\"\n",
    "\n",
    "    volume_slices = []\n",
    "    stacked_volumes = []\n",
    "\n",
    "\n",
    "    # the len of all open files = timesteps?\n",
    "    for x in range(len(file_walkers[0].open_files)):\n",
    "        # concat all slices with timestep n\n",
    "        # get the n-image from each file walker (series)\n",
    "        volume_slices = [fw.open_files[x].img for fw in file_walkers]\n",
    "        # create a volume from the given volume slices\n",
    "        stacked_volumes.append(create_3d_from_dcm_slices(volume_slices))\n",
    "        \n",
    "    # show the stacked volumes\n",
    "    for idx, volume in enumerate(stacked_volumes):\n",
    "        # works only with 2d and 3d arrays\n",
    "        myshow3d(volume)\n",
    "        if persist:\n",
    "            save(volume, dest, str(idx) + 'volume.dcm')\n",
    "\n"
   ]
  },
  {
   "cell_type": "code",
   "execution_count": null,
   "metadata": {
    "scrolled": true
   },
   "outputs": [],
   "source": [
    "# works, but the files are not sorted, volumes are messed up\n",
    "\n",
    "# src = 'data/raw/0001_small/'\n",
    "# dest = 'data/processed/stacked/0001_small/'\n",
    "\n",
    "src = 'data/raw/0001-02Z1L14N-2006-11-09/'\n",
    "dest = 'data/processed/stacked_sorted/0001-02Z1L14N-2006-11-09/'\n",
    "\n",
    "f_walkers = get_all_series_as_file_walker(src, dest)\n",
    "\n",
    "stack_to_volumes(f_walkers, dest, True)\n"
   ]
  },
  {
   "cell_type": "code",
<<<<<<< HEAD
   "execution_count": 21,
=======
   "execution_count": null,
>>>>>>> 05805f0d9cfad6d4f4adf200d9b00a069b4af582
   "metadata": {
    "scrolled": true
   },
   "outputs": [],
   "source": [
    "# Plot some distribution of the data\n",
    "\n",
    "#src = 'data/raw/0001_small/'\n",
    "#dest = 'data/processed/stacked/0001_small/'\n",
    "# 0001-02Z1L14N-2006-11-09/\n",
    "# 0706-ZY8H5791-2005-06-16/\n",
    "src = 'data/raw/0001-02Z1L14N-2006-11-09/'\n",
    "dest = 'data/processed/stacked/0001-02Z1L14N-2006-11-09/'\n",
    "\n",
    "f_walkers = get_all_series_as_file_walker_unfiltered(src, dest)\n",
    "create_statistics(f_walkers)\n",
    "\n"
   ]
  },
  {
   "cell_type": "code",
<<<<<<< HEAD
   "execution_count": 50,
   "metadata": {
    "scrolled": false
   },
=======
   "execution_count": 3,
   "metadata": {},
>>>>>>> 05805f0d9cfad6d4f4adf200d9b00a069b4af582
   "outputs": [
    {
     "name": "stdout",
     "output_type": "stream",
     "text": [
<<<<<<< HEAD
      "create 4D image from: 18 slices\n",
      "origin shape: (24, 168, 192)\n",
      "Shape of 3D image: (432, 168, 192)\n",
      "origin size: (192, 168, 24)\n",
      "Size of 3D sitk Image (192, 168, 432)\n"
     ]
    },
    {
     "data": {
      "text/plain": [
       "<SimpleITK.SimpleITK.Image; proxy of <Swig Object of type 'std::vector< itk::simple::Image >::value_type *' at 0x12e79fe10> >"
      ]
     },
     "execution_count": 50,
     "metadata": {},
     "output_type": "execute_result"
    }
   ],
   "source": [
    "# stack to 4 dimensional nunpy arrays\n",
    "\n",
    "src = 'data/processed/stacked/0001-02Z1L14N-2006-11-09/'\n",
    "dest = 'data/processed/stacked_4d/0001-02Z1L14N-2006-11-09/'\n",
    "images = []\n",
    "images_nda = []\n",
    "\n",
    "def create_4d_from_dcm_slices(slices, axis=0):\n",
    "    slices_nda = []\n",
    "    volume_nda = []\n",
    "    assert len(slices) >=1\n",
    "    \n",
    "    slices_nda = [sitk.GetArrayFromImage(slice) for slice in slices]\n",
    "    volume_nda = np.vstack(slices_nda, )\n",
    "    volume_img = sitk.GetImageFromArray(volume_nda)\n",
    "    \n",
    "    if DETAILED_DEBUG:\n",
    "        print('create 4D image from: {} slices'.format(len(slices)))\n",
    "        print('origin shape: {}'.format(slices_nda[0].shape))\n",
    "        print('Shape of 3D image: {}'.format(volume_nda.shape))\n",
    "        print('origin size: {}'.format(slices[0].GetSize()))\n",
    "        print('Size of 3D sitk Image {}'.format(volume_img.GetSize()))\n",
    "        \n",
    "    return volume_img\n",
    "\n",
    "f_walker = create_a_file_walker(src_path=src, dest_path=dest)\n",
    "\n",
    "#[myshow3d(file.img) for file in f_walker.open_files]\n",
    "[images.append(file.img) for file in f_walker.open_files]\n",
    "create_4d_from_dcm_slices(images, axis=2)\n",
    "\n",
    "\n",
    "\n"
=======
      "Collecting simpleitk\n",
      "  Downloading https://files.pythonhosted.org/packages/63/ad/b00ed74f909762550c19fa98360e2b8e974be7f168c481c83393a558e89d/SimpleITK-1.1.0-cp37-cp37m-win_amd64.whl (27.1MB)\n",
      "Installing collected packages: simpleitk\n",
      "Successfully installed simpleitk-1.1.0\n"
     ]
    }
   ],
   "source": [
    "!pip install simpleitk"
>>>>>>> 05805f0d9cfad6d4f4adf200d9b00a069b4af582
   ]
  },
  {
   "cell_type": "code",
   "execution_count": null,
   "metadata": {},
   "outputs": [],
   "source": []
  }
 ],
 "metadata": {
  "kernelspec": {
   "display_name": "cardio",
   "language": "python",
   "name": "cardio"
  },
  "language_info": {
   "codemirror_mode": {
    "name": "ipython",
    "version": 3
   },
   "file_extension": ".py",
   "mimetype": "text/x-python",
   "name": "python",
   "nbconvert_exporter": "python",
   "pygments_lexer": "ipython3",
   "version": "3.7.0"
  },
  "varInspector": {
   "cols": {
    "lenName": 16,
    "lenType": 16,
    "lenVar": 40
   },
   "kernels_config": {
    "python": {
     "delete_cmd_postfix": "",
     "delete_cmd_prefix": "del ",
     "library": "var_list.py",
     "varRefreshCmd": "print(var_dic_list())"
    },
    "r": {
     "delete_cmd_postfix": ") ",
     "delete_cmd_prefix": "rm(",
     "library": "var_list.r",
     "varRefreshCmd": "cat(var_dic_list()) "
    }
   },
   "oldHeight": 521,
   "position": {
    "height": "543px",
    "left": "2183px",
    "right": "28px",
    "top": "113px",
    "width": "349px"
   },
   "types_to_exclude": [
    "module",
    "function",
    "builtin_function_or_method",
    "instance",
    "_Feature"
   ],
   "varInspector_section_display": "block",
   "window_display": true
  }
 },
 "nbformat": 4,
 "nbformat_minor": 2
}
