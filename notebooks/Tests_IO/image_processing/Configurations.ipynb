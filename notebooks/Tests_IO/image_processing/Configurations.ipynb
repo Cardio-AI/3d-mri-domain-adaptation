{
 "cells": [
  {
   "cell_type": "code",
   "execution_count": 41,
   "metadata": {},
   "outputs": [
    {
     "name": "stdout",
     "output_type": "stream",
     "text": [
      "Windows\n",
      "D:\\git\\cardio\\venv\\Scripts\\python.exe\n",
      "C:\\Users\\1720267\\Anaconda3\\python.exe\n"
     ]
    },
    {
     "data": {
      "text/plain": [
       "['.git',\n",
       " '.gitattributes',\n",
       " '.gitignore',\n",
       " '.ipynb_checkpoints',\n",
       " 'docs',\n",
       " 'history.md',\n",
       " 'LICENSE',\n",
       " 'Makefile',\n",
       " 'models',\n",
       " 'notebooks',\n",
       " 'README.md',\n",
       " 'references',\n",
       " 'reports',\n",
       " 'requirements.txt',\n",
       " 'setup.py',\n",
       " 'src',\n",
       " 'test_environment.py',\n",
       " 'tox.ini',\n",
       " 'venv']"
      ]
     },
     "execution_count": 41,
     "metadata": {},
     "output_type": "execute_result"
    }
   ],
   "source": [
    "import platform\n",
    "import os\n",
    "print(platform.system())\n",
    "!where python\n",
    "os.chdir('D:\\\\git\\\\cardio')\n",
    "os.listdir()\n",
    "#import shutil\n",
    "#shutil.rmtree('D:\\\\git\\\\cardio\\\\venv')"
   ]
  },
  {
   "cell_type": "code",
   "execution_count": 35,
   "metadata": {},
   "outputs": [],
   "source": [
    "from IPython.core.interactiveshell import InteractiveShell\n",
    "InteractiveShell.ast_node_interactivity = \"all\""
   ]
  },
  {
   "cell_type": "code",
   "execution_count": 1,
   "metadata": {},
   "outputs": [
    {
     "name": "stdout",
     "output_type": "stream",
     "text": [
      "Using base prefix 'c:\\\\users\\\\1720267\\\\anaconda3'\n",
      "New python executable in D:\\git\\cardio\\notebooks\\sitk_tests\\venv\\Scripts\\python.exe\n",
      "Installing setuptools, pip, wheel...done.\n"
     ]
    }
   ],
   "source": [
    "#import shutil\n",
    "#shutil.rmtree('D:\\\\git\\\\cardio\\\\venv')"
   ]
  },
  {
   "cell_type": "code",
   "execution_count": null,
   "metadata": {},
   "outputs": [],
   "source": [
    "!virtualenv venv"
   ]
  },
  {
   "cell_type": "code",
   "execution_count": 45,
   "metadata": {},
   "outputs": [
    {
     "name": "stdout",
     "output_type": "stream",
     "text": [
      "D:\\git\\cardio\\venv\\Scripts\\python.exe\n",
      "C:\\Users\\1720267\\Anaconda3\\python.exe\n"
     ]
    },
    {
     "data": {
      "text/plain": [
       "['.git',\n",
       " '.gitattributes',\n",
       " '.gitignore',\n",
       " '.ipynb_checkpoints',\n",
       " 'docs',\n",
       " 'history.md',\n",
       " 'LICENSE',\n",
       " 'Makefile',\n",
       " 'models',\n",
       " 'notebooks',\n",
       " 'README.md',\n",
       " 'references',\n",
       " 'reports',\n",
       " 'requirements.txt',\n",
       " 'setup.py',\n",
       " 'src',\n",
       " 'test_environment.py',\n",
       " 'tox.ini',\n",
       " 'venv']"
      ]
     },
     "execution_count": 45,
     "metadata": {},
     "output_type": "execute_result"
    }
   ],
   "source": [
    "!where python\n",
    "!pip list\n",
    "os.chdir('D:\\\\git\\\\cardio')\n",
    "os.listdir()\n"
   ]
  },
  {
   "cell_type": "code",
   "execution_count": 46,
   "metadata": {},
   "outputs": [
    {
     "data": {
      "text/plain": [
       "CompletedProcess(args=['cmd', 'start', '/D', 'D:\\\\git\\\\cardio\\\\venv\\\\Scripts\\\\activate'], returncode=0)"
      ]
     },
     "execution_count": 46,
     "metadata": {},
     "output_type": "execute_result"
    }
   ],
   "source": [
    "from subprocess import run\n",
    "subprocess.run([\"cmd\", \"start\", \"/D\", \"D:\\\\git\\\\cardio\\\\venv\\\\Scripts\\\\activate\"])"
   ]
  },
  {
   "cell_type": "code",
   "execution_count": 49,
   "metadata": {},
   "outputs": [
    {
     "name": "stdout",
     "output_type": "stream",
     "text": [
      "[]\n"
     ]
    }
   ],
   "source": [
    "#subprocess.run([\"pip\", \"list\"])\n",
    "pi = os.popen('pip list').readlines()\n",
    "print(pi)"
   ]
  },
  {
   "cell_type": "code",
   "execution_count": 40,
   "metadata": {},
   "outputs": [
    {
     "name": "stdout",
     "output_type": "stream",
     "text": [
      "D:\\git\\cardio\n",
      "[' Datentr„ger in Laufwerk D: ist Daten\\n', ' Volumeseriennummer: 70DF-88C8\\n', '\\n', ' Verzeichnis von D:\\\\git\\\\cardio\\n', '\\n', '16.10.2018  09:23    <DIR>          .\\n', '16.10.2018  09:23    <DIR>          ..\\n', '15.10.2018  13:03                68 .gitattributes\\n', '15.10.2018  13:03             1.131 .gitignore\\n', '15.10.2018  13:03    <DIR>          .ipynb_checkpoints\\n', '15.10.2018  13:03    <DIR>          docs\\n', '15.10.2018  14:44             8.986 history.md\\n', '15.10.2018  13:03             1.506 LICENSE\\n', '15.10.2018  13:03             4.719 Makefile\\n', '15.10.2018  13:03    <DIR>          models\\n', '15.10.2018  13:03    <DIR>          notebooks\\n', '15.10.2018  13:03             2.946 README.md\\n', '15.10.2018  13:03    <DIR>          references\\n', '15.10.2018  13:03    <DIR>          reports\\n', '15.10.2018  13:03             1.924 requirements.txt\\n', '15.10.2018  13:03               234 setup.py\\n', '15.10.2018  14:23    <DIR>          src\\n', '15.10.2018  13:03               657 test_environment.py\\n', '15.10.2018  13:03                53 tox.ini\\n', '16.10.2018  09:19    <DIR>          venv\\n', '              10 Datei(en),         22.224 Bytes\\n', '              10 Verzeichnis(se), 99.933.491.200 Bytes frei\\n']\n"
     ]
    }
   ],
   "source": [
    "import os\n",
    "print(os.getcwd())\n",
    "dir = os.popen(\"dir\").readlines()\n",
    "print(dir)"
   ]
  },
  {
   "cell_type": "code",
   "execution_count": 32,
   "metadata": {},
   "outputs": [],
   "source": [
    "!venv\\Scripts\\activate"
   ]
  },
  {
   "cell_type": "code",
   "execution_count": 33,
   "metadata": {},
   "outputs": [
    {
     "name": "stdout",
     "output_type": "stream",
     "text": [
      "D:\\git\\cardio\\venv\\Scripts\\python.exe\n",
      "C:\\Users\\1720267\\Anaconda3\\python.exe\n"
     ]
    }
   ],
   "source": [
    "!where python\n",
    "!pip install SimpleITK\n",
    "!pip list"
   ]
  },
  {
   "cell_type": "code",
   "execution_count": 36,
   "metadata": {},
   "outputs": [],
   "source": [
    "!pip install SimpleITK\n",
    "!pip list"
   ]
  },
  {
   "cell_type": "code",
   "execution_count": null,
   "metadata": {},
   "outputs": [],
   "source": []
  }
 ],
 "metadata": {
  "kernelspec": {
   "display_name": "Python 3",
   "language": "python",
   "name": "python3"
  },
  "language_info": {
   "codemirror_mode": {
    "name": "ipython",
    "version": 3
   },
   "file_extension": ".py",
   "mimetype": "text/x-python",
   "name": "python",
   "nbconvert_exporter": "python",
   "pygments_lexer": "ipython3",
   "version": "3.6.6"
  }
 },
 "nbformat": 4,
 "nbformat_minor": 2
}
