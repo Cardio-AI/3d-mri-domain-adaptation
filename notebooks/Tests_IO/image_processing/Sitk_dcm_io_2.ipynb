{
 "cells": [
  {
   "cell_type": "code",
   "execution_count": 1,
   "metadata": {},
   "outputs": [
    {
     "name": "stdout",
     "output_type": "stream",
     "text": [
      "/Users/minority/Code/Git/cardio\n"
     ]
    },
    {
     "name": "stderr",
     "output_type": "stream",
     "text": [
      "2018-09-30 20:21:00,751 INFO -------------------- Start --------------------\n"
     ]
    },
    {
     "name": "stderr",
     "output_type": "stream",
     "text": [
      "2018-09-30 20:21:00,754 INFO Filename: summary\n"
     ]
    },
    {
     "name": "stderr",
     "output_type": "stream",
     "text": [
      "2018-09-30 20:21:00,758 INFO Log directory: ./logs/\n"
     ]
    },
    {
     "name": "stderr",
     "output_type": "stream",
     "text": [
      "2018-09-30 20:21:00,771 INFO ['data/raw/0706-ZY8H5791-2005-06-16/1.3.46.670589.11.0.0.11.4.2.0.5167.5.4188.2005061614221471329', 'data/raw/0706-ZY8H5791-2005-06-16/1.3.46.670589.11.0.0.11.4.2.0.5167.5.4188.2005061614322310338', 'data/raw/0706-ZY8H5791-2005-06-16/1.3.46.670589.11.0.0.11.4.2.0.5167.5.4188.2005061614385196347', 'data/raw/0706-ZY8H5791-2005-06-16/1.3.46.670589.11.0.0.11.4.2.0.5167.5.4188.2005061614440812356', 'data/raw/0706-ZY8H5791-2005-06-16/1.3.46.670589.11.0.0.11.4.2.0.5167.5.4188.2005061614480173365', 'data/raw/0706-ZY8H5791-2005-06-16/1.3.46.670589.11.0.0.11.4.2.0.5167.5.4188.2005061614513735374', 'data/raw/0706-ZY8H5791-2005-06-16/1.3.46.670589.11.0.0.11.4.2.0.5167.5.4188.2005061614555551383', 'data/raw/0706-ZY8H5791-2005-06-16/1.3.46.670589.11.0.0.11.4.2.0.5167.5.4188.2005061615014245399', 'data/raw/0706-ZY8H5791-2005-06-16/1.3.46.670589.11.0.0.11.4.2.0.5167.5.4188.2005061615051803408', 'data/raw/0706-ZY8H5791-2005-06-16/1.3.46.670589.11.0.0.11.4.2.0.5167.5.4188.2005061615121925417', 'data/raw/0706-ZY8H5791-2005-06-16/1.3.46.670589.11.0.0.11.4.2.0.5167.5.4188.2005061615180007449']\n"
     ]
    },
    {
     "name": "stdout",
     "output_type": "stream",
     "text": [
      "Working directory: /Users/minority/Code/Git/cardio.\nLog dir: ./logs/\n"
     ]
    },
    {
     "name": "stderr",
     "output_type": "stream",
     "text": [
      "2018-09-30 20:21:01,052 INFO files: 36\n"
     ]
    },
    {
     "name": "stderr",
     "output_type": "stream",
     "text": [
      "2018-09-30 20:21:01,053 INFO Gridsize: 6 rows x 6 columns\n"
     ]
    },
    {
     "name": "stderr",
     "output_type": "stream",
     "text": [
      "2018-09-30 20:21:01,245 INFO Imagesize: (256, 256, 1)\n"
     ]
    },
    {
     "name": "stderr",
     "output_type": "stream",
     "text": [
      "2018-09-30 20:21:01,250 INFO Origing: (-178.96856740403, -153.83364266024, -102.59242018423)\n"
     ]
    },
    {
     "name": "stderr",
     "output_type": "stream",
     "text": [
      "2018-09-30 20:21:01,253 INFO Spacing: (1.484375, 1.484375, 8.80000019073486)\n"
     ]
    },
    {
     "name": "stderr",
     "output_type": "stream",
     "text": [
      "2018-09-30 20:21:01,256 INFO Direction: (0.999956554012201, 0.009321419836700005, -3.493239906757726e-05, -0.009321409940239772, 0.9999565173124507, 0.00027349786285671787, 3.748026851711091e-05, -0.0002731603612600002, 0.9999999619893226)\n"
     ]
    },
    {
     "name": "stderr",
     "output_type": "stream",
     "text": [
      "2018-09-30 20:21:01,257 INFO Components: 1\n"
     ]
    },
    {
     "name": "stderr",
     "output_type": "stream",
     "text": [
      "2018-09-30 20:21:01,324 INFO Imagesize: (256, 256, 1)\n"
     ]
    },
    {
     "name": "stderr",
     "output_type": "stream",
     "text": [
      "2018-09-30 20:21:01,327 INFO Origing: (-178.96856740403, -153.83364266024, -102.59242018423)\n"
     ]
    },
    {
     "name": "stderr",
     "output_type": "stream",
     "text": [
      "2018-09-30 20:21:01,329 INFO Spacing: (1.484375, 1.484375, 8.80000019073486)\n"
     ]
    },
    {
     "name": "stderr",
     "output_type": "stream",
     "text": [
      "2018-09-30 20:21:01,331 INFO Direction: (0.999956554012201, 0.009321419836700005, -3.493239906757726e-05, -0.009321409940239772, 0.9999565173124507, 0.00027349786285671787, 3.748026851711091e-05, -0.0002731603612600002, 0.9999999619893226)\n"
     ]
    },
    {
     "name": "stderr",
     "output_type": "stream",
     "text": [
      "2018-09-30 20:21:01,333 INFO Components: 1\n"
     ]
    },
    {
     "name": "stderr",
     "output_type": "stream",
     "text": [
      "2018-09-30 20:21:01,407 INFO Imagesize: (256, 256, 1)\n"
     ]
    },
    {
     "name": "stderr",
     "output_type": "stream",
     "text": [
      "2018-09-30 20:21:01,426 INFO Origing: (-178.96856740403, -153.83364266024, -102.59242018423)\n"
     ]
    },
    {
     "name": "stderr",
     "output_type": "stream",
     "text": [
      "2018-09-30 20:21:01,427 INFO Spacing: (1.484375, 1.484375, 8.80000019073486)\n"
     ]
    },
    {
     "name": "stderr",
     "output_type": "stream",
     "text": [
      "2018-09-30 20:21:01,433 INFO Direction: (0.999956554012201, 0.009321419836700005, -3.493239906757726e-05, -0.009321409940239772, 0.9999565173124507, 0.00027349786285671787, 3.748026851711091e-05, -0.0002731603612600002, 0.9999999619893226)\n"
     ]
    },
    {
     "name": "stderr",
     "output_type": "stream",
     "text": [
      "2018-09-30 20:21:01,435 INFO Components: 1\n"
     ]
    },
    {
     "name": "stderr",
     "output_type": "stream",
     "text": [
      "2018-09-30 20:21:01,491 INFO Imagesize: (256, 256, 1)\n"
     ]
    },
    {
     "name": "stderr",
     "output_type": "stream",
     "text": [
      "2018-09-30 20:21:01,494 INFO Origing: (-178.96856740403, -153.83364266024, -102.59242018423)\n"
     ]
    },
    {
     "name": "stderr",
     "output_type": "stream",
     "text": [
      "2018-09-30 20:21:01,497 INFO Spacing: (1.484375, 1.484375, 8.80000019073486)\n"
     ]
    },
    {
     "name": "stderr",
     "output_type": "stream",
     "text": [
      "2018-09-30 20:21:01,498 INFO Direction: (0.999956554012201, 0.009321419836700005, -3.493239906757726e-05, -0.009321409940239772, 0.9999565173124507, 0.00027349786285671787, 3.748026851711091e-05, -0.0002731603612600002, 0.9999999619893226)\n"
     ]
    },
    {
     "name": "stderr",
     "output_type": "stream",
     "text": [
      "2018-09-30 20:21:01,502 INFO Components: 1\n"
     ]
    },
    {
     "name": "stderr",
     "output_type": "stream",
     "text": [
      "2018-09-30 20:21:01,558 INFO Imagesize: (256, 256, 1)\n"
     ]
    },
    {
     "name": "stderr",
     "output_type": "stream",
     "text": [
      "2018-09-30 20:21:01,560 INFO Origing: (-178.96856740403, -153.83364266024, -102.59242018423)\n"
     ]
    },
    {
     "name": "stderr",
     "output_type": "stream",
     "text": [
      "2018-09-30 20:21:01,562 INFO Spacing: (1.484375, 1.484375, 8.80000019073486)\n"
     ]
    },
    {
     "name": "stderr",
     "output_type": "stream",
     "text": [
      "2018-09-30 20:21:01,567 INFO Direction: (0.999956554012201, 0.009321419836700005, -3.493239906757726e-05, -0.009321409940239772, 0.9999565173124507, 0.00027349786285671787, 3.748026851711091e-05, -0.0002731603612600002, 0.9999999619893226)\n"
     ]
    },
    {
     "name": "stderr",
     "output_type": "stream",
     "text": [
      "2018-09-30 20:21:01,572 INFO Components: 1\n"
     ]
    },
    {
     "name": "stderr",
     "output_type": "stream",
     "text": [
      "2018-09-30 20:21:01,634 INFO Imagesize: (256, 256, 1)\n"
     ]
    },
    {
     "name": "stderr",
     "output_type": "stream",
     "text": [
      "2018-09-30 20:21:01,638 INFO Origing: (-178.96856740403, -153.83364266024, -102.59242018423)\n"
     ]
    },
    {
     "name": "stderr",
     "output_type": "stream",
     "text": [
      "2018-09-30 20:21:01,640 INFO Spacing: (1.484375, 1.484375, 8.80000019073486)\n"
     ]
    },
    {
     "name": "stderr",
     "output_type": "stream",
     "text": [
      "2018-09-30 20:21:01,642 INFO Direction: (0.999956554012201, 0.009321419836700005, -3.493239906757726e-05, -0.009321409940239772, 0.9999565173124507, 0.00027349786285671787, 3.748026851711091e-05, -0.0002731603612600002, 0.9999999619893226)\n"
     ]
    },
    {
     "name": "stderr",
     "output_type": "stream",
     "text": [
      "2018-09-30 20:21:01,646 INFO Components: 1\n"
     ]
    },
    {
     "name": "stderr",
     "output_type": "stream",
     "text": [
      "2018-09-30 20:21:01,707 INFO Imagesize: (256, 256, 1)\n"
     ]
    },
    {
     "name": "stderr",
     "output_type": "stream",
     "text": [
      "2018-09-30 20:21:01,710 INFO Origing: (-178.96856740403, -153.83364266024, -102.59242018423)\n"
     ]
    },
    {
     "name": "stderr",
     "output_type": "stream",
     "text": [
      "2018-09-30 20:21:01,714 INFO Spacing: (1.484375, 1.484375, 8.80000019073486)\n"
     ]
    },
    {
     "name": "stderr",
     "output_type": "stream",
     "text": [
      "2018-09-30 20:21:01,716 INFO Direction: (0.999956554012201, 0.009321419836700005, -3.493239906757726e-05, -0.009321409940239772, 0.9999565173124507, 0.00027349786285671787, 3.748026851711091e-05, -0.0002731603612600002, 0.9999999619893226)\n"
     ]
    },
    {
     "name": "stderr",
     "output_type": "stream",
     "text": [
      "2018-09-30 20:21:01,720 INFO Components: 1\n"
     ]
    },
    {
     "name": "stderr",
     "output_type": "stream",
     "text": [
      "2018-09-30 20:21:01,768 INFO Imagesize: (256, 256, 1)\n"
     ]
    },
    {
     "name": "stderr",
     "output_type": "stream",
     "text": [
      "2018-09-30 20:21:01,770 INFO Origing: (-178.96856740403, -153.83364266024, -102.59242018423)\n"
     ]
    },
    {
     "name": "stderr",
     "output_type": "stream",
     "text": [
      "2018-09-30 20:21:01,772 INFO Spacing: (1.484375, 1.484375, 8.80000019073486)\n"
     ]
    },
    {
     "name": "stderr",
     "output_type": "stream",
     "text": [
      "2018-09-30 20:21:01,774 INFO Direction: (0.999956554012201, 0.009321419836700005, -3.493239906757726e-05, -0.009321409940239772, 0.9999565173124507, 0.00027349786285671787, 3.748026851711091e-05, -0.0002731603612600002, 0.9999999619893226)\n"
     ]
    },
    {
     "name": "stderr",
     "output_type": "stream",
     "text": [
      "2018-09-30 20:21:01,780 INFO Components: 1\n"
     ]
    },
    {
     "name": "stderr",
     "output_type": "stream",
     "text": [
      "2018-09-30 20:21:01,832 INFO Imagesize: (256, 256, 1)\n"
     ]
    },
    {
     "name": "stderr",
     "output_type": "stream",
     "text": [
      "2018-09-30 20:21:01,835 INFO Origing: (-178.96856740403, -153.83364266024, -102.59242018423)\n"
     ]
    },
    {
     "name": "stderr",
     "output_type": "stream",
     "text": [
      "2018-09-30 20:21:01,839 INFO Spacing: (1.484375, 1.484375, 8.80000019073486)\n"
     ]
    },
    {
     "name": "stderr",
     "output_type": "stream",
     "text": [
      "2018-09-30 20:21:01,840 INFO Direction: (0.999956554012201, 0.009321419836700005, -3.493239906757726e-05, -0.009321409940239772, 0.9999565173124507, 0.00027349786285671787, 3.748026851711091e-05, -0.0002731603612600002, 0.9999999619893226)\n"
     ]
    },
    {
     "name": "stderr",
     "output_type": "stream",
     "text": [
      "2018-09-30 20:21:01,844 INFO Components: 1\n"
     ]
    },
    {
     "name": "stderr",
     "output_type": "stream",
     "text": [
      "2018-09-30 20:21:01,896 INFO Imagesize: (256, 256, 1)\n"
     ]
    },
    {
     "name": "stderr",
     "output_type": "stream",
     "text": [
      "2018-09-30 20:21:01,899 INFO Origing: (-178.96856740403, -153.83364266024, -102.59242018423)\n"
     ]
    },
    {
     "name": "stderr",
     "output_type": "stream",
     "text": [
      "2018-09-30 20:21:01,907 INFO Spacing: (1.484375, 1.484375, 8.80000019073486)\n"
     ]
    },
    {
     "name": "stderr",
     "output_type": "stream",
     "text": [
      "2018-09-30 20:21:01,911 INFO Direction: (0.999956554012201, 0.009321419836700005, -3.493239906757726e-05, -0.009321409940239772, 0.9999565173124507, 0.00027349786285671787, 3.748026851711091e-05, -0.0002731603612600002, 0.9999999619893226)\n"
     ]
    },
    {
     "name": "stderr",
     "output_type": "stream",
     "text": [
      "2018-09-30 20:21:01,913 INFO Components: 1\n"
     ]
    },
    {
     "name": "stderr",
     "output_type": "stream",
     "text": [
      "2018-09-30 20:21:01,965 INFO Imagesize: (256, 256, 1)\n"
     ]
    },
    {
     "name": "stderr",
     "output_type": "stream",
     "text": [
      "2018-09-30 20:21:01,968 INFO Origing: (-178.96856740403, -153.83364266024, -102.59242018423)\n"
     ]
    },
    {
     "name": "stderr",
     "output_type": "stream",
     "text": [
      "2018-09-30 20:21:01,971 INFO Spacing: (1.484375, 1.484375, 8.80000019073486)\n"
     ]
    },
    {
     "name": "stderr",
     "output_type": "stream",
     "text": [
      "2018-09-30 20:21:01,975 INFO Direction: (0.999956554012201, 0.009321419836700005, -3.493239906757726e-05, -0.009321409940239772, 0.9999565173124507, 0.00027349786285671787, 3.748026851711091e-05, -0.0002731603612600002, 0.9999999619893226)\n"
     ]
    },
    {
     "name": "stderr",
     "output_type": "stream",
     "text": [
      "2018-09-30 20:21:01,978 INFO Components: 1\n"
     ]
    },
    {
     "name": "stderr",
     "output_type": "stream",
     "text": [
      "2018-09-30 20:21:02,023 INFO Imagesize: (256, 256, 1)\n"
     ]
    },
    {
     "name": "stderr",
     "output_type": "stream",
     "text": [
      "2018-09-30 20:21:02,026 INFO Origing: (-178.96856740403, -153.83364266024, -102.59242018423)\n"
     ]
    },
    {
     "name": "stderr",
     "output_type": "stream",
     "text": [
      "2018-09-30 20:21:02,029 INFO Spacing: (1.484375, 1.484375, 8.80000019073486)\n"
     ]
    },
    {
     "name": "stderr",
     "output_type": "stream",
     "text": [
      "2018-09-30 20:21:02,032 INFO Direction: (0.999956554012201, 0.009321419836700005, -3.493239906757726e-05, -0.009321409940239772, 0.9999565173124507, 0.00027349786285671787, 3.748026851711091e-05, -0.0002731603612600002, 0.9999999619893226)\n"
     ]
    },
    {
     "name": "stderr",
     "output_type": "stream",
     "text": [
      "2018-09-30 20:21:02,034 INFO Components: 1\n"
     ]
    },
    {
     "name": "stderr",
     "output_type": "stream",
     "text": [
      "2018-09-30 20:21:02,081 INFO Imagesize: (256, 256, 1)\n"
     ]
    },
    {
     "name": "stderr",
     "output_type": "stream",
     "text": [
      "2018-09-30 20:21:02,083 INFO Origing: (-178.96856740403, -153.83364266024, -102.59242018423)\n"
     ]
    },
    {
     "name": "stderr",
     "output_type": "stream",
     "text": [
      "2018-09-30 20:21:02,084 INFO Spacing: (1.484375, 1.484375, 8.80000019073486)\n"
     ]
    },
    {
     "name": "stderr",
     "output_type": "stream",
     "text": [
      "2018-09-30 20:21:02,087 INFO Direction: (0.999956554012201, 0.009321419836700005, -3.493239906757726e-05, -0.009321409940239772, 0.9999565173124507, 0.00027349786285671787, 3.748026851711091e-05, -0.0002731603612600002, 0.9999999619893226)\n"
     ]
    },
    {
     "name": "stderr",
     "output_type": "stream",
     "text": [
      "2018-09-30 20:21:02,091 INFO Components: 1\n"
     ]
    },
    {
     "name": "stderr",
     "output_type": "stream",
     "text": [
      "2018-09-30 20:21:02,137 INFO Imagesize: (256, 256, 1)\n"
     ]
    },
    {
     "name": "stderr",
     "output_type": "stream",
     "text": [
      "2018-09-30 20:21:02,138 INFO Origing: (-178.96856740403, -153.83364266024, -102.59242018423)\n"
     ]
    },
    {
     "name": "stderr",
     "output_type": "stream",
     "text": [
      "2018-09-30 20:21:02,140 INFO Spacing: (1.484375, 1.484375, 8.80000019073486)\n"
     ]
    },
    {
     "name": "stderr",
     "output_type": "stream",
     "text": [
      "2018-09-30 20:21:02,143 INFO Direction: (0.999956554012201, 0.009321419836700005, -3.493239906757726e-05, -0.009321409940239772, 0.9999565173124507, 0.00027349786285671787, 3.748026851711091e-05, -0.0002731603612600002, 0.9999999619893226)\n"
     ]
    },
    {
     "name": "stderr",
     "output_type": "stream",
     "text": [
      "2018-09-30 20:21:02,145 INFO Components: 1\n"
     ]
    },
    {
     "name": "stderr",
     "output_type": "stream",
     "text": [
      "2018-09-30 20:21:02,185 INFO Imagesize: (256, 256, 1)\n"
     ]
    },
    {
     "name": "stderr",
     "output_type": "stream",
     "text": [
      "2018-09-30 20:21:02,187 INFO Origing: (-178.96856740403, -153.83364266024, -102.59242018423)\n"
     ]
    },
    {
     "name": "stderr",
     "output_type": "stream",
     "text": [
      "2018-09-30 20:21:02,189 INFO Spacing: (1.484375, 1.484375, 8.80000019073486)\n"
     ]
    },
    {
     "name": "stderr",
     "output_type": "stream",
     "text": [
      "2018-09-30 20:21:02,191 INFO Direction: (0.999956554012201, 0.009321419836700005, -3.493239906757726e-05, -0.009321409940239772, 0.9999565173124507, 0.00027349786285671787, 3.748026851711091e-05, -0.0002731603612600002, 0.9999999619893226)\n"
     ]
    },
    {
     "name": "stderr",
     "output_type": "stream",
     "text": [
      "2018-09-30 20:21:02,194 INFO Components: 1\n"
     ]
    },
    {
     "name": "stderr",
     "output_type": "stream",
     "text": [
      "2018-09-30 20:21:02,237 INFO Imagesize: (256, 256, 1)\n"
     ]
    },
    {
     "name": "stderr",
     "output_type": "stream",
     "text": [
      "2018-09-30 20:21:02,241 INFO Origing: (-178.96856740403, -153.83364266024, -102.59242018423)\n"
     ]
    },
    {
     "name": "stderr",
     "output_type": "stream",
     "text": [
      "2018-09-30 20:21:02,244 INFO Spacing: (1.484375, 1.484375, 8.80000019073486)\n"
     ]
    },
    {
     "name": "stderr",
     "output_type": "stream",
     "text": [
      "2018-09-30 20:21:02,246 INFO Direction: (0.999956554012201, 0.009321419836700005, -3.493239906757726e-05, -0.009321409940239772, 0.9999565173124507, 0.00027349786285671787, 3.748026851711091e-05, -0.0002731603612600002, 0.9999999619893226)\n"
     ]
    },
    {
     "name": "stderr",
     "output_type": "stream",
     "text": [
      "2018-09-30 20:21:02,248 INFO Components: 1\n"
     ]
    },
    {
     "name": "stderr",
     "output_type": "stream",
     "text": [
      "2018-09-30 20:21:02,285 INFO Imagesize: (256, 256, 1)\n"
     ]
    },
    {
     "name": "stderr",
     "output_type": "stream",
     "text": [
      "2018-09-30 20:21:02,287 INFO Origing: (-178.96887448716, -153.83123558626, -93.792417132474)\n"
     ]
    },
    {
     "name": "stderr",
     "output_type": "stream",
     "text": [
      "2018-09-30 20:21:02,288 INFO Spacing: (1.484375, 1.484375, 8.80000019073486)\n"
     ]
    },
    {
     "name": "stderr",
     "output_type": "stream",
     "text": [
      "2018-09-30 20:21:02,290 INFO Direction: (0.999956554012201, 0.009321419836700005, -3.493239906757726e-05, -0.009321409940239772, 0.9999565173124507, 0.00027349786285671787, 3.748026851711091e-05, -0.0002731603612600002, 0.9999999619893226)\n"
     ]
    },
    {
     "name": "stderr",
     "output_type": "stream",
     "text": [
      "2018-09-30 20:21:02,292 INFO Components: 1\n"
     ]
    },
    {
     "name": "stderr",
     "output_type": "stream",
     "text": [
      "2018-09-30 20:21:02,339 INFO Imagesize: (256, 256, 1)\n"
     ]
    },
    {
     "name": "stderr",
     "output_type": "stream",
     "text": [
      "2018-09-30 20:21:02,341 INFO Origing: (-178.96887448716, -153.83123558626, -93.792417132474)\n"
     ]
    },
    {
     "name": "stderr",
     "output_type": "stream",
     "text": [
      "2018-09-30 20:21:02,343 INFO Spacing: (1.484375, 1.484375, 8.80000019073486)\n"
     ]
    },
    {
     "name": "stderr",
     "output_type": "stream",
     "text": [
      "2018-09-30 20:21:02,345 INFO Direction: (0.999956554012201, 0.009321419836700005, -3.493239906757726e-05, -0.009321409940239772, 0.9999565173124507, 0.00027349786285671787, 3.748026851711091e-05, -0.0002731603612600002, 0.9999999619893226)\n"
     ]
    },
    {
     "name": "stderr",
     "output_type": "stream",
     "text": [
      "2018-09-30 20:21:02,346 INFO Components: 1\n"
     ]
    },
    {
     "name": "stderr",
     "output_type": "stream",
     "text": [
      "2018-09-30 20:21:02,393 INFO Imagesize: (256, 256, 1)\n"
     ]
    },
    {
     "name": "stderr",
     "output_type": "stream",
     "text": [
      "2018-09-30 20:21:02,395 INFO Origing: (-178.96887448716, -153.83123558626, -93.792417132474)\n"
     ]
    },
    {
     "name": "stderr",
     "output_type": "stream",
     "text": [
      "2018-09-30 20:21:02,400 INFO Spacing: (1.484375, 1.484375, 8.80000019073486)\n"
     ]
    },
    {
     "name": "stderr",
     "output_type": "stream",
     "text": [
      "2018-09-30 20:21:02,403 INFO Direction: (0.999956554012201, 0.009321419836700005, -3.493239906757726e-05, -0.009321409940239772, 0.9999565173124507, 0.00027349786285671787, 3.748026851711091e-05, -0.0002731603612600002, 0.9999999619893226)\n"
     ]
    },
    {
     "name": "stderr",
     "output_type": "stream",
     "text": [
      "2018-09-30 20:21:02,405 INFO Components: 1\n"
     ]
    },
    {
     "name": "stderr",
     "output_type": "stream",
     "text": [
      "2018-09-30 20:21:02,438 INFO Imagesize: (256, 256, 1)\n"
     ]
    },
    {
     "name": "stderr",
     "output_type": "stream",
     "text": [
      "2018-09-30 20:21:02,440 INFO Origing: (-178.96887448716, -153.83123558626, -93.792417132474)\n"
     ]
    },
    {
     "name": "stderr",
     "output_type": "stream",
     "text": [
      "2018-09-30 20:21:02,443 INFO Spacing: (1.484375, 1.484375, 8.80000019073486)\n"
     ]
    },
    {
     "name": "stderr",
     "output_type": "stream",
     "text": [
      "2018-09-30 20:21:02,448 INFO Direction: (0.999956554012201, 0.009321419836700005, -3.493239906757726e-05, -0.009321409940239772, 0.9999565173124507, 0.00027349786285671787, 3.748026851711091e-05, -0.0002731603612600002, 0.9999999619893226)\n"
     ]
    },
    {
     "name": "stderr",
     "output_type": "stream",
     "text": [
      "2018-09-30 20:21:02,450 INFO Components: 1\n"
     ]
    },
    {
     "name": "stderr",
     "output_type": "stream",
     "text": [
      "2018-09-30 20:21:02,497 INFO Imagesize: (256, 256, 1)\n"
     ]
    },
    {
     "name": "stderr",
     "output_type": "stream",
     "text": [
      "2018-09-30 20:21:02,498 INFO Origing: (-178.96887448716, -153.83123558626, -93.792417132474)\n"
     ]
    },
    {
     "name": "stderr",
     "output_type": "stream",
     "text": [
      "2018-09-30 20:21:02,502 INFO Spacing: (1.484375, 1.484375, 8.80000019073486)\n"
     ]
    },
    {
     "name": "stderr",
     "output_type": "stream",
     "text": [
      "2018-09-30 20:21:02,506 INFO Direction: (0.999956554012201, 0.009321419836700005, -3.493239906757726e-05, -0.009321409940239772, 0.9999565173124507, 0.00027349786285671787, 3.748026851711091e-05, -0.0002731603612600002, 0.9999999619893226)\n"
     ]
    },
    {
     "name": "stderr",
     "output_type": "stream",
     "text": [
      "2018-09-30 20:21:02,509 INFO Components: 1\n"
     ]
    },
    {
     "name": "stderr",
     "output_type": "stream",
     "text": [
      "2018-09-30 20:21:02,565 INFO Imagesize: (256, 256, 1)\n"
     ]
    },
    {
     "name": "stderr",
     "output_type": "stream",
     "text": [
      "2018-09-30 20:21:02,568 INFO Origing: (-178.96887448716, -153.83123558626, -93.792417132474)\n"
     ]
    },
    {
     "name": "stderr",
     "output_type": "stream",
     "text": [
      "2018-09-30 20:21:02,569 INFO Spacing: (1.484375, 1.484375, 8.80000019073486)\n"
     ]
    },
    {
     "name": "stderr",
     "output_type": "stream",
     "text": [
      "2018-09-30 20:21:02,571 INFO Direction: (0.999956554012201, 0.009321419836700005, -3.493239906757726e-05, -0.009321409940239772, 0.9999565173124507, 0.00027349786285671787, 3.748026851711091e-05, -0.0002731603612600002, 0.9999999619893226)\n"
     ]
    },
    {
     "name": "stderr",
     "output_type": "stream",
     "text": [
      "2018-09-30 20:21:02,574 INFO Components: 1\n"
     ]
    },
    {
     "name": "stderr",
     "output_type": "stream",
     "text": [
      "2018-09-30 20:21:02,621 INFO Imagesize: (256, 256, 1)\n"
     ]
    },
    {
     "name": "stderr",
     "output_type": "stream",
     "text": [
      "2018-09-30 20:21:02,623 INFO Origing: (-178.96887448716, -153.83123558626, -93.792417132474)\n"
     ]
    },
    {
     "name": "stderr",
     "output_type": "stream",
     "text": [
      "2018-09-30 20:21:02,627 INFO Spacing: (1.484375, 1.484375, 8.80000019073486)\n"
     ]
    },
    {
     "name": "stderr",
     "output_type": "stream",
     "text": [
      "2018-09-30 20:21:02,629 INFO Direction: (0.999956554012201, 0.009321419836700005, -3.493239906757726e-05, -0.009321409940239772, 0.9999565173124507, 0.00027349786285671787, 3.748026851711091e-05, -0.0002731603612600002, 0.9999999619893226)\n"
     ]
    },
    {
     "name": "stderr",
     "output_type": "stream",
     "text": [
      "2018-09-30 20:21:02,633 INFO Components: 1\n"
     ]
    },
    {
     "name": "stderr",
     "output_type": "stream",
     "text": [
      "2018-09-30 20:21:02,678 INFO Imagesize: (256, 256, 1)\n"
     ]
    },
    {
     "name": "stderr",
     "output_type": "stream",
     "text": [
      "2018-09-30 20:21:02,679 INFO Origing: (-178.96887448716, -153.83123558626, -93.792417132474)\n"
     ]
    },
    {
     "name": "stderr",
     "output_type": "stream",
     "text": [
      "2018-09-30 20:21:02,682 INFO Spacing: (1.484375, 1.484375, 8.80000019073486)\n"
     ]
    },
    {
     "name": "stderr",
     "output_type": "stream",
     "text": [
      "2018-09-30 20:21:02,684 INFO Direction: (0.999956554012201, 0.009321419836700005, -3.493239906757726e-05, -0.009321409940239772, 0.9999565173124507, 0.00027349786285671787, 3.748026851711091e-05, -0.0002731603612600002, 0.9999999619893226)\n"
     ]
    },
    {
     "name": "stderr",
     "output_type": "stream",
     "text": [
      "2018-09-30 20:21:02,687 INFO Components: 1\n"
     ]
    },
    {
     "name": "stderr",
     "output_type": "stream",
     "text": [
      "2018-09-30 20:21:02,735 INFO Imagesize: (256, 256, 1)\n"
     ]
    },
    {
     "name": "stderr",
     "output_type": "stream",
     "text": [
      "2018-09-30 20:21:02,742 INFO Origing: (-178.96887448716, -153.83123558626, -93.792417132474)\n"
     ]
    },
    {
     "name": "stderr",
     "output_type": "stream",
     "text": [
      "2018-09-30 20:21:02,745 INFO Spacing: (1.484375, 1.484375, 8.80000019073486)\n"
     ]
    },
    {
     "name": "stderr",
     "output_type": "stream",
     "text": [
      "2018-09-30 20:21:02,748 INFO Direction: (0.999956554012201, 0.009321419836700005, -3.493239906757726e-05, -0.009321409940239772, 0.9999565173124507, 0.00027349786285671787, 3.748026851711091e-05, -0.0002731603612600002, 0.9999999619893226)\n"
     ]
    },
    {
     "name": "stderr",
     "output_type": "stream",
     "text": [
      "2018-09-30 20:21:02,751 INFO Components: 1\n"
     ]
    },
    {
     "name": "stderr",
     "output_type": "stream",
     "text": [
      "2018-09-30 20:21:02,798 INFO Imagesize: (256, 256, 1)\n"
     ]
    },
    {
     "name": "stderr",
     "output_type": "stream",
     "text": [
      "2018-09-30 20:21:02,799 INFO Origing: (-178.96887448716, -153.83123558626, -93.792417132474)\n"
     ]
    },
    {
     "name": "stderr",
     "output_type": "stream",
     "text": [
      "2018-09-30 20:21:02,801 INFO Spacing: (1.484375, 1.484375, 8.80000019073486)\n"
     ]
    },
    {
     "name": "stderr",
     "output_type": "stream",
     "text": [
      "2018-09-30 20:21:02,814 INFO Direction: (0.999956554012201, 0.009321419836700005, -3.493239906757726e-05, -0.009321409940239772, 0.9999565173124507, 0.00027349786285671787, 3.748026851711091e-05, -0.0002731603612600002, 0.9999999619893226)\n"
     ]
    },
    {
     "name": "stderr",
     "output_type": "stream",
     "text": [
      "2018-09-30 20:21:02,816 INFO Components: 1\n"
     ]
    },
    {
     "name": "stderr",
     "output_type": "stream",
     "text": [
      "2018-09-30 20:21:02,863 INFO Imagesize: (256, 256, 1)\n"
     ]
    },
    {
     "name": "stderr",
     "output_type": "stream",
     "text": [
      "2018-09-30 20:21:02,865 INFO Origing: (-178.96887448716, -153.83123558626, -93.792417132474)\n"
     ]
    },
    {
     "name": "stderr",
     "output_type": "stream",
     "text": [
      "2018-09-30 20:21:02,868 INFO Spacing: (1.484375, 1.484375, 8.80000019073486)\n"
     ]
    },
    {
     "name": "stderr",
     "output_type": "stream",
     "text": [
      "2018-09-30 20:21:02,871 INFO Direction: (0.999956554012201, 0.009321419836700005, -3.493239906757726e-05, -0.009321409940239772, 0.9999565173124507, 0.00027349786285671787, 3.748026851711091e-05, -0.0002731603612600002, 0.9999999619893226)\n"
     ]
    },
    {
     "name": "stderr",
     "output_type": "stream",
     "text": [
      "2018-09-30 20:21:02,873 INFO Components: 1\n"
     ]
    },
    {
     "name": "stderr",
     "output_type": "stream",
     "text": [
      "2018-09-30 20:21:02,917 INFO Imagesize: (256, 256, 1)\n"
     ]
    },
    {
     "name": "stderr",
     "output_type": "stream",
     "text": [
      "2018-09-30 20:21:02,919 INFO Origing: (-178.96887448716, -153.83123558626, -93.792417132474)\n"
     ]
    },
    {
     "name": "stderr",
     "output_type": "stream",
     "text": [
      "2018-09-30 20:21:02,923 INFO Spacing: (1.484375, 1.484375, 8.80000019073486)\n"
     ]
    },
    {
     "name": "stderr",
     "output_type": "stream",
     "text": [
      "2018-09-30 20:21:02,926 INFO Direction: (0.999956554012201, 0.009321419836700005, -3.493239906757726e-05, -0.009321409940239772, 0.9999565173124507, 0.00027349786285671787, 3.748026851711091e-05, -0.0002731603612600002, 0.9999999619893226)\n"
     ]
    },
    {
     "name": "stderr",
     "output_type": "stream",
     "text": [
      "2018-09-30 20:21:02,929 INFO Components: 1\n"
     ]
    },
    {
     "name": "stderr",
     "output_type": "stream",
     "text": [
      "2018-09-30 20:21:02,977 INFO Imagesize: (256, 256, 1)\n"
     ]
    },
    {
     "name": "stderr",
     "output_type": "stream",
     "text": [
      "2018-09-30 20:21:02,978 INFO Origing: (-178.96887448716, -153.83123558626, -93.792417132474)\n"
     ]
    },
    {
     "name": "stderr",
     "output_type": "stream",
     "text": [
      "2018-09-30 20:21:02,982 INFO Spacing: (1.484375, 1.484375, 8.80000019073486)\n"
     ]
    },
    {
     "name": "stderr",
     "output_type": "stream",
     "text": [
      "2018-09-30 20:21:02,983 INFO Direction: (0.999956554012201, 0.009321419836700005, -3.493239906757726e-05, -0.009321409940239772, 0.9999565173124507, 0.00027349786285671787, 3.748026851711091e-05, -0.0002731603612600002, 0.9999999619893226)\n"
     ]
    },
    {
     "name": "stderr",
     "output_type": "stream",
     "text": [
      "2018-09-30 20:21:02,986 INFO Components: 1\n"
     ]
    },
    {
     "name": "stderr",
     "output_type": "stream",
     "text": [
      "2018-09-30 20:21:03,033 INFO Imagesize: (256, 256, 1)\n"
     ]
    },
    {
     "name": "stderr",
     "output_type": "stream",
     "text": [
      "2018-09-30 20:21:03,034 INFO Origing: (-178.96887448716, -153.83123558626, -93.792417132474)\n"
     ]
    },
    {
     "name": "stderr",
     "output_type": "stream",
     "text": [
      "2018-09-30 20:21:03,036 INFO Spacing: (1.484375, 1.484375, 8.80000019073486)\n"
     ]
    },
    {
     "name": "stderr",
     "output_type": "stream",
     "text": [
      "2018-09-30 20:21:03,039 INFO Direction: (0.999956554012201, 0.009321419836700005, -3.493239906757726e-05, -0.009321409940239772, 0.9999565173124507, 0.00027349786285671787, 3.748026851711091e-05, -0.0002731603612600002, 0.9999999619893226)\n"
     ]
    },
    {
     "name": "stderr",
     "output_type": "stream",
     "text": [
      "2018-09-30 20:21:03,043 INFO Components: 1\n"
     ]
    },
    {
     "name": "stderr",
     "output_type": "stream",
     "text": [
      "2018-09-30 20:21:03,090 INFO Imagesize: (256, 256, 1)\n"
     ]
    },
    {
     "name": "stderr",
     "output_type": "stream",
     "text": [
      "2018-09-30 20:21:03,092 INFO Origing: (-178.96887448716, -153.83123558626, -93.792417132474)\n"
     ]
    },
    {
     "name": "stderr",
     "output_type": "stream",
     "text": [
      "2018-09-30 20:21:03,094 INFO Spacing: (1.484375, 1.484375, 8.80000019073486)\n"
     ]
    },
    {
     "name": "stderr",
     "output_type": "stream",
     "text": [
      "2018-09-30 20:21:03,097 INFO Direction: (0.999956554012201, 0.009321419836700005, -3.493239906757726e-05, -0.009321409940239772, 0.9999565173124507, 0.00027349786285671787, 3.748026851711091e-05, -0.0002731603612600002, 0.9999999619893226)\n"
     ]
    },
    {
     "name": "stderr",
     "output_type": "stream",
     "text": [
      "2018-09-30 20:21:03,099 INFO Components: 1\n"
     ]
    },
    {
     "name": "stderr",
     "output_type": "stream",
     "text": [
      "2018-09-30 20:21:03,137 INFO Imagesize: (256, 256, 1)\n"
     ]
    },
    {
     "name": "stderr",
     "output_type": "stream",
     "text": [
      "2018-09-30 20:21:03,139 INFO Origing: (-178.96887448716, -153.83123558626, -93.792417132474)\n"
     ]
    },
    {
     "name": "stderr",
     "output_type": "stream",
     "text": [
      "2018-09-30 20:21:03,142 INFO Spacing: (1.484375, 1.484375, 8.80000019073486)\n"
     ]
    },
    {
     "name": "stderr",
     "output_type": "stream",
     "text": [
      "2018-09-30 20:21:03,143 INFO Direction: (0.999956554012201, 0.009321419836700005, -3.493239906757726e-05, -0.009321409940239772, 0.9999565173124507, 0.00027349786285671787, 3.748026851711091e-05, -0.0002731603612600002, 0.9999999619893226)\n"
     ]
    },
    {
     "name": "stderr",
     "output_type": "stream",
     "text": [
      "2018-09-30 20:21:03,145 INFO Components: 1\n"
     ]
    },
    {
     "name": "stderr",
     "output_type": "stream",
     "text": [
      "2018-09-30 20:21:03,181 INFO Imagesize: (256, 256, 1)\n"
     ]
    },
    {
     "name": "stderr",
     "output_type": "stream",
     "text": [
      "2018-09-30 20:21:03,182 INFO Origing: (-178.96918157029, -153.82882851229, -84.992421710111)\n"
     ]
    },
    {
     "name": "stderr",
     "output_type": "stream",
     "text": [
      "2018-09-30 20:21:03,184 INFO Spacing: (1.484375, 1.484375, 8.80000019073486)\n"
     ]
    },
    {
     "name": "stderr",
     "output_type": "stream",
     "text": [
      "2018-09-30 20:21:03,186 INFO Direction: (0.999956554012201, 0.009321419836700005, -3.493239906757726e-05, -0.009321409940239772, 0.9999565173124507, 0.00027349786285671787, 3.748026851711091e-05, -0.0002731603612600002, 0.9999999619893226)\n"
     ]
    },
    {
     "name": "stderr",
     "output_type": "stream",
     "text": [
      "2018-09-30 20:21:03,188 INFO Components: 1\n"
     ]
    },
    {
     "name": "stderr",
     "output_type": "stream",
     "text": [
      "2018-09-30 20:21:03,231 INFO Imagesize: (256, 256, 1)\n"
     ]
    },
    {
     "name": "stderr",
     "output_type": "stream",
     "text": [
      "2018-09-30 20:21:03,234 INFO Origing: (-178.96918157029, -153.82882851229, -84.992421710111)\n"
     ]
    },
    {
     "name": "stderr",
     "output_type": "stream",
     "text": [
      "2018-09-30 20:21:03,235 INFO Spacing: (1.484375, 1.484375, 8.80000019073486)\n"
     ]
    },
    {
     "name": "stderr",
     "output_type": "stream",
     "text": [
      "2018-09-30 20:21:03,237 INFO Direction: (0.999956554012201, 0.009321419836700005, -3.493239906757726e-05, -0.009321409940239772, 0.9999565173124507, 0.00027349786285671787, 3.748026851711091e-05, -0.0002731603612600002, 0.9999999619893226)\n"
     ]
    },
    {
     "name": "stderr",
     "output_type": "stream",
     "text": [
      "2018-09-30 20:21:03,242 INFO Components: 1\n"
     ]
    },
    {
     "name": "stderr",
     "output_type": "stream",
     "text": [
      "2018-09-30 20:21:03,276 INFO Imagesize: (256, 256, 1)\n"
     ]
    },
    {
     "name": "stderr",
     "output_type": "stream",
     "text": [
      "2018-09-30 20:21:03,279 INFO Origing: (-178.96918157029, -153.82882851229, -84.992421710111)\n"
     ]
    },
    {
     "name": "stderr",
     "output_type": "stream",
     "text": [
      "2018-09-30 20:21:03,282 INFO Spacing: (1.484375, 1.484375, 8.80000019073486)\n"
     ]
    },
    {
     "name": "stderr",
     "output_type": "stream",
     "text": [
      "2018-09-30 20:21:03,283 INFO Direction: (0.999956554012201, 0.009321419836700005, -3.493239906757726e-05, -0.009321409940239772, 0.9999565173124507, 0.00027349786285671787, 3.748026851711091e-05, -0.0002731603612600002, 0.9999999619893226)\n"
     ]
    },
    {
     "name": "stderr",
     "output_type": "stream",
     "text": [
      "2018-09-30 20:21:03,285 INFO Components: 1\n"
     ]
    },
    {
     "name": "stderr",
     "output_type": "stream",
     "text": [
      "2018-09-30 20:21:03,324 INFO Imagesize: (256, 256, 1)\n"
     ]
    },
    {
     "name": "stderr",
     "output_type": "stream",
     "text": [
      "2018-09-30 20:21:03,326 INFO Origing: (-178.96918157029, -153.82882851229, -84.992421710111)\n"
     ]
    },
    {
     "name": "stderr",
     "output_type": "stream",
     "text": [
      "2018-09-30 20:21:03,328 INFO Spacing: (1.484375, 1.484375, 8.80000019073486)\n"
     ]
    },
    {
     "name": "stderr",
     "output_type": "stream",
     "text": [
      "2018-09-30 20:21:03,330 INFO Direction: (0.999956554012201, 0.009321419836700005, -3.493239906757726e-05, -0.009321409940239772, 0.9999565173124507, 0.00027349786285671787, 3.748026851711091e-05, -0.0002731603612600002, 0.9999999619893226)\n"
     ]
    },
    {
     "name": "stderr",
     "output_type": "stream",
     "text": [
      "2018-09-30 20:21:03,333 INFO Components: 1\n"
     ]
    },
    {
     "name": "stderr",
     "output_type": "stream",
     "text": [
      "2018-09-30 20:21:03,335 DEBUG Trying to save to data/processed/sumarized/0706-ZY8H5791-2005-06-16/\n"
     ]
    },
    {
     "name": "stderr",
     "output_type": "stream",
     "text": [
      "2018-09-30 20:21:03,337 DEBUG Creating directory data/processed/sumarized/0706-ZY8H5791-2005-06-16/\n"
     ]
    },
    {
     "name": "stderr",
     "output_type": "stream",
     "text": [
      "2018-09-30 20:21:03,373 DEBUG update_title_pos\n"
     ]
    },
    {
     "name": "stderr",
     "output_type": "stream",
     "text": [
      "2018-09-30 20:21:03,413 DEBUG findfont: Matching :family=sans-serif:style=normal:variant=normal:weight=normal:stretch=normal:size=12.0 to DejaVu Sans ('/Users/minority/Code/Git/cardio/venv/lib/python3.6/site-packages/matplotlib/mpl-data/fonts/ttf/DejaVuSans.ttf') with score of 0.050000.\n"
     ]
    },
    {
     "name": "stderr",
     "output_type": "stream",
     "text": [
      "2018-09-30 20:21:03,430 DEBUG update_title_pos\n"
     ]
    },
    {
     "name": "stderr",
     "output_type": "stream",
     "text": [
      "2018-09-30 20:21:03,454 DEBUG update_title_pos\n"
     ]
    },
    {
     "name": "stderr",
     "output_type": "stream",
     "text": [
      "2018-09-30 20:21:03,472 DEBUG update_title_pos\n"
     ]
    },
    {
     "name": "stderr",
     "output_type": "stream",
     "text": [
      "2018-09-30 20:21:03,493 DEBUG update_title_pos\n"
     ]
    },
    {
     "name": "stderr",
     "output_type": "stream",
     "text": [
      "2018-09-30 20:21:03,511 DEBUG update_title_pos\n"
     ]
    },
    {
     "name": "stderr",
     "output_type": "stream",
     "text": [
      "2018-09-30 20:21:03,531 DEBUG update_title_pos\n"
     ]
    },
    {
     "name": "stderr",
     "output_type": "stream",
     "text": [
      "2018-09-30 20:21:03,553 DEBUG update_title_pos\n"
     ]
    },
    {
     "name": "stderr",
     "output_type": "stream",
     "text": [
      "2018-09-30 20:21:03,573 DEBUG update_title_pos\n"
     ]
    },
    {
     "name": "stderr",
     "output_type": "stream",
     "text": [
      "2018-09-30 20:21:03,593 DEBUG update_title_pos\n"
     ]
    },
    {
     "name": "stderr",
     "output_type": "stream",
     "text": [
      "2018-09-30 20:21:03,613 DEBUG update_title_pos\n"
     ]
    },
    {
     "name": "stderr",
     "output_type": "stream",
     "text": [
      "2018-09-30 20:21:03,632 DEBUG update_title_pos\n"
     ]
    },
    {
     "name": "stderr",
     "output_type": "stream",
     "text": [
      "2018-09-30 20:21:03,652 DEBUG update_title_pos\n"
     ]
    },
    {
     "name": "stderr",
     "output_type": "stream",
     "text": [
      "2018-09-30 20:21:03,671 DEBUG update_title_pos\n"
     ]
    },
    {
     "name": "stderr",
     "output_type": "stream",
     "text": [
      "2018-09-30 20:21:03,691 DEBUG update_title_pos\n"
     ]
    },
    {
     "name": "stderr",
     "output_type": "stream",
     "text": [
      "2018-09-30 20:21:03,711 DEBUG update_title_pos\n"
     ]
    },
    {
     "name": "stderr",
     "output_type": "stream",
     "text": [
      "2018-09-30 20:21:03,730 DEBUG update_title_pos\n"
     ]
    },
    {
     "name": "stderr",
     "output_type": "stream",
     "text": [
      "2018-09-30 20:21:03,751 DEBUG update_title_pos\n"
     ]
    },
    {
     "name": "stderr",
     "output_type": "stream",
     "text": [
      "2018-09-30 20:21:03,769 DEBUG update_title_pos\n"
     ]
    },
    {
     "name": "stderr",
     "output_type": "stream",
     "text": [
      "2018-09-30 20:21:03,788 DEBUG update_title_pos\n"
     ]
    },
    {
     "name": "stderr",
     "output_type": "stream",
     "text": [
      "2018-09-30 20:21:03,806 DEBUG update_title_pos\n"
     ]
    },
    {
     "name": "stderr",
     "output_type": "stream",
     "text": [
      "2018-09-30 20:21:03,827 DEBUG update_title_pos\n"
     ]
    },
    {
     "name": "stderr",
     "output_type": "stream",
     "text": [
      "2018-09-30 20:21:03,849 DEBUG update_title_pos\n"
     ]
    },
    {
     "name": "stderr",
     "output_type": "stream",
     "text": [
      "2018-09-30 20:21:03,869 DEBUG update_title_pos\n"
     ]
    },
    {
     "name": "stderr",
     "output_type": "stream",
     "text": [
      "2018-09-30 20:21:03,888 DEBUG update_title_pos\n"
     ]
    },
    {
     "name": "stderr",
     "output_type": "stream",
     "text": [
      "2018-09-30 20:21:03,908 DEBUG update_title_pos\n"
     ]
    },
    {
     "name": "stderr",
     "output_type": "stream",
     "text": [
      "2018-09-30 20:21:03,927 DEBUG update_title_pos\n"
     ]
    },
    {
     "name": "stderr",
     "output_type": "stream",
     "text": [
      "2018-09-30 20:21:03,948 DEBUG update_title_pos\n"
     ]
    },
    {
     "name": "stderr",
     "output_type": "stream",
     "text": [
      "2018-09-30 20:21:03,968 DEBUG update_title_pos\n"
     ]
    },
    {
     "name": "stderr",
     "output_type": "stream",
     "text": [
      "2018-09-30 20:21:03,986 DEBUG update_title_pos\n"
     ]
    },
    {
     "name": "stderr",
     "output_type": "stream",
     "text": [
      "2018-09-30 20:21:04,006 DEBUG update_title_pos\n"
     ]
    },
    {
     "name": "stderr",
     "output_type": "stream",
     "text": [
      "2018-09-30 20:21:04,025 DEBUG update_title_pos\n"
     ]
    },
    {
     "name": "stderr",
     "output_type": "stream",
     "text": [
      "2018-09-30 20:21:04,045 DEBUG update_title_pos\n"
     ]
    },
    {
     "name": "stderr",
     "output_type": "stream",
     "text": [
      "2018-09-30 20:21:04,063 DEBUG update_title_pos\n"
     ]
    },
    {
     "name": "stderr",
     "output_type": "stream",
     "text": [
      "2018-09-30 20:21:04,083 DEBUG update_title_pos\n"
     ]
    },
    {
     "name": "stderr",
     "output_type": "stream",
     "text": [
      "2018-09-30 20:21:04,102 DEBUG update_title_pos\n"
     ]
    },
    {
     "name": "stderr",
     "output_type": "stream",
     "text": [
      "2018-09-30 20:21:06,209 DEBUG Image saved: data/processed/sumarized/0706-ZY8H5791-2005-06-16/1.3.46.670589.11.0.0.11.4.2.0.5167.5.4188.2005061614221471329_1.png\n"
     ]
    },
    {
     "name": "stderr",
     "output_type": "stream",
     "text": [
      "2018-09-30 20:21:06,317 INFO files: 36\n"
     ]
    },
    {
     "name": "stderr",
     "output_type": "stream",
     "text": [
      "2018-09-30 20:21:06,319 INFO Gridsize: 6 rows x 6 columns\n"
     ]
    },
    {
     "name": "stderr",
     "output_type": "stream",
     "text": [
      "2018-09-30 20:21:06,355 INFO Imagesize: (256, 256, 1)\n"
     ]
    },
    {
     "name": "stderr",
     "output_type": "stream",
     "text": [
      "2018-09-30 20:21:06,356 INFO Origing: (-176.69779611701, -108.9129856872, -84.235170795513)\n"
     ]
    },
    {
     "name": "stderr",
     "output_type": "stream",
     "text": [
      "2018-09-30 20:21:06,358 INFO Spacing: (1.3671875, 1.3671875, 8.80000019073486)\n"
     ]
    },
    {
     "name": "stderr",
     "output_type": "stream",
     "text": [
      "2018-09-30 20:21:06,360 INFO Direction: (0.9252134255707757, 0.2318078422449527, 0.30040845763282054, -1.3698247258720084e-09, 0.7917004565174289, -0.6109094754135795, -0.3794471203522185, 0.5652216480495366, 0.7324918917179734)\n"
     ]
    },
    {
     "name": "stderr",
     "output_type": "stream",
     "text": [
      "2018-09-30 20:21:06,362 INFO Components: 1\n"
     ]
    },
    {
     "name": "stderr",
     "output_type": "stream",
     "text": [
      "2018-09-30 20:21:06,396 INFO Imagesize: (256, 256, 1)\n"
     ]
    },
    {
     "name": "stderr",
     "output_type": "stream",
     "text": [
      "2018-09-30 20:21:06,399 INFO Origing: (-176.69779611701, -108.9129856872, -84.235170795513)\n"
     ]
    },
    {
     "name": "stderr",
     "output_type": "stream",
     "text": [
      "2018-09-30 20:21:06,400 INFO Spacing: (1.3671875, 1.3671875, 8.80000019073486)\n"
     ]
    },
    {
     "name": "stderr",
     "output_type": "stream",
     "text": [
      "2018-09-30 20:21:06,402 INFO Direction: (0.9252134255707757, 0.2318078422449527, 0.30040845763282054, -1.3698247258720084e-09, 0.7917004565174289, -0.6109094754135795, -0.3794471203522185, 0.5652216480495366, 0.7324918917179734)\n"
     ]
    },
    {
     "name": "stderr",
     "output_type": "stream",
     "text": [
      "2018-09-30 20:21:06,404 INFO Components: 1\n"
     ]
    },
    {
     "name": "stderr",
     "output_type": "stream",
     "text": [
      "2018-09-30 20:21:06,438 INFO Imagesize: (256, 256, 1)\n"
     ]
    },
    {
     "name": "stderr",
     "output_type": "stream",
     "text": [
      "2018-09-30 20:21:06,440 INFO Origing: (-176.69779611701, -108.9129856872, -84.235170795513)\n"
     ]
    },
    {
     "name": "stderr",
     "output_type": "stream",
     "text": [
      "2018-09-30 20:21:06,442 INFO Spacing: (1.3671875, 1.3671875, 8.80000019073486)\n"
     ]
    },
    {
     "name": "stderr",
     "output_type": "stream",
     "text": [
      "2018-09-30 20:21:06,444 INFO Direction: (0.9252134255707757, 0.2318078422449527, 0.30040845763282054, -1.3698247258720084e-09, 0.7917004565174289, -0.6109094754135795, -0.3794471203522185, 0.5652216480495366, 0.7324918917179734)\n"
     ]
    },
    {
     "name": "stderr",
     "output_type": "stream",
     "text": [
      "2018-09-30 20:21:06,447 INFO Components: 1\n"
     ]
    },
    {
     "name": "stderr",
     "output_type": "stream",
     "text": [
      "2018-09-30 20:21:06,484 INFO Imagesize: (256, 256, 1)\n"
     ]
    },
    {
     "name": "stderr",
     "output_type": "stream",
     "text": [
      "2018-09-30 20:21:06,486 INFO Origing: (-176.69779611701, -108.9129856872, -84.235170795513)\n"
     ]
    },
    {
     "name": "stderr",
     "output_type": "stream",
     "text": [
      "2018-09-30 20:21:06,488 INFO Spacing: (1.3671875, 1.3671875, 8.80000019073486)\n"
     ]
    },
    {
     "name": "stderr",
     "output_type": "stream",
     "text": [
      "2018-09-30 20:21:06,490 INFO Direction: (0.9252134255707757, 0.2318078422449527, 0.30040845763282054, -1.3698247258720084e-09, 0.7917004565174289, -0.6109094754135795, -0.3794471203522185, 0.5652216480495366, 0.7324918917179734)\n"
     ]
    },
    {
     "name": "stderr",
     "output_type": "stream",
     "text": [
      "2018-09-30 20:21:06,492 INFO Components: 1\n"
     ]
    },
    {
     "name": "stderr",
     "output_type": "stream",
     "text": [
      "2018-09-30 20:21:06,526 INFO Imagesize: (256, 256, 1)\n"
     ]
    },
    {
     "name": "stderr",
     "output_type": "stream",
     "text": [
      "2018-09-30 20:21:06,529 INFO Origing: (-176.69779611701, -108.9129856872, -84.235170795513)\n"
     ]
    },
    {
     "name": "stderr",
     "output_type": "stream",
     "text": [
      "2018-09-30 20:21:06,530 INFO Spacing: (1.3671875, 1.3671875, 8.80000019073486)\n"
     ]
    },
    {
     "name": "stderr",
     "output_type": "stream",
     "text": [
      "2018-09-30 20:21:06,532 INFO Direction: (0.9252134255707757, 0.2318078422449527, 0.30040845763282054, -1.3698247258720084e-09, 0.7917004565174289, -0.6109094754135795, -0.3794471203522185, 0.5652216480495366, 0.7324918917179734)\n"
     ]
    },
    {
     "name": "stderr",
     "output_type": "stream",
     "text": [
      "2018-09-30 20:21:06,534 INFO Components: 1\n"
     ]
    },
    {
     "name": "stderr",
     "output_type": "stream",
     "text": [
      "2018-09-30 20:21:06,569 INFO Imagesize: (256, 256, 1)\n"
     ]
    },
    {
     "name": "stderr",
     "output_type": "stream",
     "text": [
      "2018-09-30 20:21:06,571 INFO Origing: (-176.69779611701, -108.9129856872, -84.235170795513)\n"
     ]
    },
    {
     "name": "stderr",
     "output_type": "stream",
     "text": [
      "2018-09-30 20:21:06,573 INFO Spacing: (1.3671875, 1.3671875, 8.80000019073486)\n"
     ]
    },
    {
     "name": "stderr",
     "output_type": "stream",
     "text": [
      "2018-09-30 20:21:06,575 INFO Direction: (0.9252134255707757, 0.2318078422449527, 0.30040845763282054, -1.3698247258720084e-09, 0.7917004565174289, -0.6109094754135795, -0.3794471203522185, 0.5652216480495366, 0.7324918917179734)\n"
     ]
    },
    {
     "name": "stderr",
     "output_type": "stream",
     "text": [
      "2018-09-30 20:21:06,577 INFO Components: 1\n"
     ]
    },
    {
     "name": "stderr",
     "output_type": "stream",
     "text": [
      "2018-09-30 20:21:06,703 INFO Imagesize: (256, 256, 1)\n"
     ]
    },
    {
     "name": "stderr",
     "output_type": "stream",
     "text": [
      "2018-09-30 20:21:06,705 INFO Origing: (-176.69779611701, -108.9129856872, -84.235170795513)\n"
     ]
    },
    {
     "name": "stderr",
     "output_type": "stream",
     "text": [
      "2018-09-30 20:21:06,706 INFO Spacing: (1.3671875, 1.3671875, 8.80000019073486)\n"
     ]
    },
    {
     "name": "stderr",
     "output_type": "stream",
     "text": [
      "2018-09-30 20:21:06,708 INFO Direction: (0.9252134255707757, 0.2318078422449527, 0.30040845763282054, -1.3698247258720084e-09, 0.7917004565174289, -0.6109094754135795, -0.3794471203522185, 0.5652216480495366, 0.7324918917179734)\n"
     ]
    },
    {
     "name": "stderr",
     "output_type": "stream",
     "text": [
      "2018-09-30 20:21:06,709 INFO Components: 1\n"
     ]
    },
    {
     "name": "stderr",
     "output_type": "stream",
     "text": [
      "2018-09-30 20:21:06,745 INFO Imagesize: (256, 256, 1)\n"
     ]
    },
    {
     "name": "stderr",
     "output_type": "stream",
     "text": [
      "2018-09-30 20:21:06,747 INFO Origing: (-176.69779611701, -108.9129856872, -84.235170795513)\n"
     ]
    },
    {
     "name": "stderr",
     "output_type": "stream",
     "text": [
      "2018-09-30 20:21:06,748 INFO Spacing: (1.3671875, 1.3671875, 8.80000019073486)\n"
     ]
    },
    {
     "name": "stderr",
     "output_type": "stream",
     "text": [
      "2018-09-30 20:21:06,751 INFO Direction: (0.9252134255707757, 0.2318078422449527, 0.30040845763282054, -1.3698247258720084e-09, 0.7917004565174289, -0.6109094754135795, -0.3794471203522185, 0.5652216480495366, 0.7324918917179734)\n"
     ]
    },
    {
     "name": "stderr",
     "output_type": "stream",
     "text": [
      "2018-09-30 20:21:06,752 INFO Components: 1\n"
     ]
    },
    {
     "name": "stderr",
     "output_type": "stream",
     "text": [
      "2018-09-30 20:21:06,788 INFO Imagesize: (256, 256, 1)\n"
     ]
    },
    {
     "name": "stderr",
     "output_type": "stream",
     "text": [
      "2018-09-30 20:21:06,790 INFO Origing: (-176.69779611701, -108.9129856872, -84.235170795513)\n"
     ]
    },
    {
     "name": "stderr",
     "output_type": "stream",
     "text": [
      "2018-09-30 20:21:06,792 INFO Spacing: (1.3671875, 1.3671875, 8.80000019073486)\n"
     ]
    },
    {
     "name": "stderr",
     "output_type": "stream",
     "text": [
      "2018-09-30 20:21:06,794 INFO Direction: (0.9252134255707757, 0.2318078422449527, 0.30040845763282054, -1.3698247258720084e-09, 0.7917004565174289, -0.6109094754135795, -0.3794471203522185, 0.5652216480495366, 0.7324918917179734)\n"
     ]
    },
    {
     "name": "stderr",
     "output_type": "stream",
     "text": [
      "2018-09-30 20:21:06,796 INFO Components: 1\n"
     ]
    },
    {
     "name": "stderr",
     "output_type": "stream",
     "text": [
      "2018-09-30 20:21:06,828 INFO Imagesize: (256, 256, 1)\n"
     ]
    },
    {
     "name": "stderr",
     "output_type": "stream",
     "text": [
      "2018-09-30 20:21:06,830 INFO Origing: (-176.69779611701, -108.9129856872, -84.235170795513)\n"
     ]
    },
    {
     "name": "stderr",
     "output_type": "stream",
     "text": [
      "2018-09-30 20:21:06,832 INFO Spacing: (1.3671875, 1.3671875, 8.80000019073486)\n"
     ]
    },
    {
     "name": "stderr",
     "output_type": "stream",
     "text": [
      "2018-09-30 20:21:06,834 INFO Direction: (0.9252134255707757, 0.2318078422449527, 0.30040845763282054, -1.3698247258720084e-09, 0.7917004565174289, -0.6109094754135795, -0.3794471203522185, 0.5652216480495366, 0.7324918917179734)\n"
     ]
    },
    {
     "name": "stderr",
     "output_type": "stream",
     "text": [
      "2018-09-30 20:21:06,838 INFO Components: 1\n"
     ]
    },
    {
     "name": "stderr",
     "output_type": "stream",
     "text": [
      "2018-09-30 20:21:06,870 INFO Imagesize: (256, 256, 1)\n"
     ]
    },
    {
     "name": "stderr",
     "output_type": "stream",
     "text": [
      "2018-09-30 20:21:06,872 INFO Origing: (-176.69779611701, -108.9129856872, -84.235170795513)\n"
     ]
    },
    {
     "name": "stderr",
     "output_type": "stream",
     "text": [
      "2018-09-30 20:21:06,873 INFO Spacing: (1.3671875, 1.3671875, 8.80000019073486)\n"
     ]
    },
    {
     "name": "stderr",
     "output_type": "stream",
     "text": [
      "2018-09-30 20:21:06,875 INFO Direction: (0.9252134255707757, 0.2318078422449527, 0.30040845763282054, -1.3698247258720084e-09, 0.7917004565174289, -0.6109094754135795, -0.3794471203522185, 0.5652216480495366, 0.7324918917179734)\n"
     ]
    },
    {
     "name": "stderr",
     "output_type": "stream",
     "text": [
      "2018-09-30 20:21:06,876 INFO Components: 1\n"
     ]
    },
    {
     "name": "stderr",
     "output_type": "stream",
     "text": [
      "2018-09-30 20:21:06,913 INFO Imagesize: (256, 256, 1)\n"
     ]
    },
    {
     "name": "stderr",
     "output_type": "stream",
     "text": [
      "2018-09-30 20:21:06,914 INFO Origing: (-176.69779611701, -108.9129856872, -84.235170795513)\n"
     ]
    },
    {
     "name": "stderr",
     "output_type": "stream",
     "text": [
      "2018-09-30 20:21:06,916 INFO Spacing: (1.3671875, 1.3671875, 8.80000019073486)\n"
     ]
    },
    {
     "name": "stderr",
     "output_type": "stream",
     "text": [
      "2018-09-30 20:21:06,919 INFO Direction: (0.9252134255707757, 0.2318078422449527, 0.30040845763282054, -1.3698247258720084e-09, 0.7917004565174289, -0.6109094754135795, -0.3794471203522185, 0.5652216480495366, 0.7324918917179734)\n"
     ]
    },
    {
     "name": "stderr",
     "output_type": "stream",
     "text": [
      "2018-09-30 20:21:06,921 INFO Components: 1\n"
     ]
    },
    {
     "name": "stderr",
     "output_type": "stream",
     "text": [
      "2018-09-30 20:21:06,955 INFO Imagesize: (256, 256, 1)\n"
     ]
    },
    {
     "name": "stderr",
     "output_type": "stream",
     "text": [
      "2018-09-30 20:21:06,957 INFO Origing: (-176.69779611701, -108.9129856872, -84.235170795513)\n"
     ]
    },
    {
     "name": "stderr",
     "output_type": "stream",
     "text": [
      "2018-09-30 20:21:06,958 INFO Spacing: (1.3671875, 1.3671875, 8.80000019073486)\n"
     ]
    },
    {
     "name": "stderr",
     "output_type": "stream",
     "text": [
      "2018-09-30 20:21:06,960 INFO Direction: (0.9252134255707757, 0.2318078422449527, 0.30040845763282054, -1.3698247258720084e-09, 0.7917004565174289, -0.6109094754135795, -0.3794471203522185, 0.5652216480495366, 0.7324918917179734)\n"
     ]
    },
    {
     "name": "stderr",
     "output_type": "stream",
     "text": [
      "2018-09-30 20:21:06,961 INFO Components: 1\n"
     ]
    },
    {
     "name": "stderr",
     "output_type": "stream",
     "text": [
      "2018-09-30 20:21:06,996 INFO Imagesize: (256, 256, 1)\n"
     ]
    },
    {
     "name": "stderr",
     "output_type": "stream",
     "text": [
      "2018-09-30 20:21:06,997 INFO Origing: (-176.69779611701, -108.9129856872, -84.235170795513)\n"
     ]
    },
    {
     "name": "stderr",
     "output_type": "stream",
     "text": [
      "2018-09-30 20:21:06,999 INFO Spacing: (1.3671875, 1.3671875, 8.80000019073486)\n"
     ]
    },
    {
     "name": "stderr",
     "output_type": "stream",
     "text": [
      "2018-09-30 20:21:07,001 INFO Direction: (0.9252134255707757, 0.2318078422449527, 0.30040845763282054, -1.3698247258720084e-09, 0.7917004565174289, -0.6109094754135795, -0.3794471203522185, 0.5652216480495366, 0.7324918917179734)\n"
     ]
    },
    {
     "name": "stderr",
     "output_type": "stream",
     "text": [
      "2018-09-30 20:21:07,003 INFO Components: 1\n"
     ]
    },
    {
     "name": "stderr",
     "output_type": "stream",
     "text": [
      "2018-09-30 20:21:07,037 INFO Imagesize: (256, 256, 1)\n"
     ]
    },
    {
     "name": "stderr",
     "output_type": "stream",
     "text": [
      "2018-09-30 20:21:07,038 INFO Origing: (-176.69779611701, -108.9129856872, -84.235170795513)\n"
     ]
    },
    {
     "name": "stderr",
     "output_type": "stream",
     "text": [
      "2018-09-30 20:21:07,040 INFO Spacing: (1.3671875, 1.3671875, 8.80000019073486)\n"
     ]
    },
    {
     "name": "stderr",
     "output_type": "stream",
     "text": [
      "2018-09-30 20:21:07,042 INFO Direction: (0.9252134255707757, 0.2318078422449527, 0.30040845763282054, -1.3698247258720084e-09, 0.7917004565174289, -0.6109094754135795, -0.3794471203522185, 0.5652216480495366, 0.7324918917179734)\n"
     ]
    },
    {
     "name": "stderr",
     "output_type": "stream",
     "text": [
      "2018-09-30 20:21:07,044 INFO Components: 1\n"
     ]
    },
    {
     "name": "stderr",
     "output_type": "stream",
     "text": [
      "2018-09-30 20:21:07,081 INFO Imagesize: (256, 256, 1)\n"
     ]
    },
    {
     "name": "stderr",
     "output_type": "stream",
     "text": [
      "2018-09-30 20:21:07,082 INFO Origing: (-176.69779611701, -108.9129856872, -84.235170795513)\n"
     ]
    },
    {
     "name": "stderr",
     "output_type": "stream",
     "text": [
      "2018-09-30 20:21:07,085 INFO Spacing: (1.3671875, 1.3671875, 8.80000019073486)\n"
     ]
    },
    {
     "name": "stderr",
     "output_type": "stream",
     "text": [
      "2018-09-30 20:21:07,087 INFO Direction: (0.9252134255707757, 0.2318078422449527, 0.30040845763282054, -1.3698247258720084e-09, 0.7917004565174289, -0.6109094754135795, -0.3794471203522185, 0.5652216480495366, 0.7324918917179734)\n"
     ]
    },
    {
     "name": "stderr",
     "output_type": "stream",
     "text": [
      "2018-09-30 20:21:07,089 INFO Components: 1\n"
     ]
    },
    {
     "name": "stderr",
     "output_type": "stream",
     "text": [
      "2018-09-30 20:21:07,124 INFO Imagesize: (256, 256, 1)\n"
     ]
    },
    {
     "name": "stderr",
     "output_type": "stream",
     "text": [
      "2018-09-30 20:21:07,126 INFO Origing: (-174.05420137519, -114.28898895259, -77.789244129253)\n"
     ]
    },
    {
     "name": "stderr",
     "output_type": "stream",
     "text": [
      "2018-09-30 20:21:07,127 INFO Spacing: (1.3671875, 1.3671875, 8.80000019073486)\n"
     ]
    },
    {
     "name": "stderr",
     "output_type": "stream",
     "text": [
      "2018-09-30 20:21:07,129 INFO Direction: (0.9252134255707757, 0.2318078422449527, 0.30040845763282054, -1.3698247258720084e-09, 0.7917004565174289, -0.6109094754135795, -0.3794471203522185, 0.5652216480495366, 0.7324918917179734)\n"
     ]
    },
    {
     "name": "stderr",
     "output_type": "stream",
     "text": [
      "2018-09-30 20:21:07,130 INFO Components: 1\n"
     ]
    },
    {
     "name": "stderr",
     "output_type": "stream",
     "text": [
      "2018-09-30 20:21:07,170 INFO Imagesize: (256, 256, 1)\n"
     ]
    },
    {
     "name": "stderr",
     "output_type": "stream",
     "text": [
      "2018-09-30 20:21:07,171 INFO Origing: (-174.05420137519, -114.28898895259, -77.789244129253)\n"
     ]
    },
    {
     "name": "stderr",
     "output_type": "stream",
     "text": [
      "2018-09-30 20:21:07,172 INFO Spacing: (1.3671875, 1.3671875, 8.80000019073486)\n"
     ]
    },
    {
     "name": "stderr",
     "output_type": "stream",
     "text": [
      "2018-09-30 20:21:07,174 INFO Direction: (0.9252134255707757, 0.2318078422449527, 0.30040845763282054, -1.3698247258720084e-09, 0.7917004565174289, -0.6109094754135795, -0.3794471203522185, 0.5652216480495366, 0.7324918917179734)\n"
     ]
    },
    {
     "name": "stderr",
     "output_type": "stream",
     "text": [
      "2018-09-30 20:21:07,176 INFO Components: 1\n"
     ]
    },
    {
     "name": "stderr",
     "output_type": "stream",
     "text": [
      "2018-09-30 20:21:07,212 INFO Imagesize: (256, 256, 1)\n"
     ]
    },
    {
     "name": "stderr",
     "output_type": "stream",
     "text": [
      "2018-09-30 20:21:07,214 INFO Origing: (-174.05420137519, -114.28898895259, -77.789244129253)\n"
     ]
    },
    {
     "name": "stderr",
     "output_type": "stream",
     "text": [
      "2018-09-30 20:21:07,217 INFO Spacing: (1.3671875, 1.3671875, 8.80000019073486)\n"
     ]
    },
    {
     "name": "stderr",
     "output_type": "stream",
     "text": [
      "2018-09-30 20:21:07,220 INFO Direction: (0.9252134255707757, 0.2318078422449527, 0.30040845763282054, -1.3698247258720084e-09, 0.7917004565174289, -0.6109094754135795, -0.3794471203522185, 0.5652216480495366, 0.7324918917179734)\n"
     ]
    },
    {
     "name": "stderr",
     "output_type": "stream",
     "text": [
      "2018-09-30 20:21:07,222 INFO Components: 1\n"
     ]
    },
    {
     "name": "stderr",
     "output_type": "stream",
     "text": [
      "2018-09-30 20:21:07,262 INFO Imagesize: (256, 256, 1)\n"
     ]
    },
    {
     "name": "stderr",
     "output_type": "stream",
     "text": [
      "2018-09-30 20:21:07,264 INFO Origing: (-174.05420137519, -114.28898895259, -77.789244129253)\n"
     ]
    },
    {
     "name": "stderr",
     "output_type": "stream",
     "text": [
      "2018-09-30 20:21:07,265 INFO Spacing: (1.3671875, 1.3671875, 8.80000019073486)\n"
     ]
    },
    {
     "name": "stderr",
     "output_type": "stream",
     "text": [
      "2018-09-30 20:21:07,267 INFO Direction: (0.9252134255707757, 0.2318078422449527, 0.30040845763282054, -1.3698247258720084e-09, 0.7917004565174289, -0.6109094754135795, -0.3794471203522185, 0.5652216480495366, 0.7324918917179734)\n"
     ]
    },
    {
     "name": "stderr",
     "output_type": "stream",
     "text": [
      "2018-09-30 20:21:07,269 INFO Components: 1\n"
     ]
    },
    {
     "name": "stderr",
     "output_type": "stream",
     "text": [
      "2018-09-30 20:21:07,309 INFO Imagesize: (256, 256, 1)\n"
     ]
    },
    {
     "name": "stderr",
     "output_type": "stream",
     "text": [
      "2018-09-30 20:21:07,310 INFO Origing: (-174.05420137519, -114.28898895259, -77.789244129253)\n"
     ]
    },
    {
     "name": "stderr",
     "output_type": "stream",
     "text": [
      "2018-09-30 20:21:07,313 INFO Spacing: (1.3671875, 1.3671875, 8.80000019073486)\n"
     ]
    },
    {
     "name": "stderr",
     "output_type": "stream",
     "text": [
      "2018-09-30 20:21:07,315 INFO Direction: (0.9252134255707757, 0.2318078422449527, 0.30040845763282054, -1.3698247258720084e-09, 0.7917004565174289, -0.6109094754135795, -0.3794471203522185, 0.5652216480495366, 0.7324918917179734)\n"
     ]
    },
    {
     "name": "stderr",
     "output_type": "stream",
     "text": [
      "2018-09-30 20:21:07,317 INFO Components: 1\n"
     ]
    },
    {
     "name": "stderr",
     "output_type": "stream",
     "text": [
      "2018-09-30 20:21:07,361 INFO Imagesize: (256, 256, 1)\n"
     ]
    },
    {
     "name": "stderr",
     "output_type": "stream",
     "text": [
      "2018-09-30 20:21:07,363 INFO Origing: (-174.05420137519, -114.28898895259, -77.789244129253)\n"
     ]
    },
    {
     "name": "stderr",
     "output_type": "stream",
     "text": [
      "2018-09-30 20:21:07,365 INFO Spacing: (1.3671875, 1.3671875, 8.80000019073486)\n"
     ]
    },
    {
     "name": "stderr",
     "output_type": "stream",
     "text": [
      "2018-09-30 20:21:07,366 INFO Direction: (0.9252134255707757, 0.2318078422449527, 0.30040845763282054, -1.3698247258720084e-09, 0.7917004565174289, -0.6109094754135795, -0.3794471203522185, 0.5652216480495366, 0.7324918917179734)\n"
     ]
    },
    {
     "name": "stderr",
     "output_type": "stream",
     "text": [
      "2018-09-30 20:21:07,372 INFO Components: 1\n"
     ]
    },
    {
     "name": "stderr",
     "output_type": "stream",
     "text": [
      "2018-09-30 20:21:07,411 INFO Imagesize: (256, 256, 1)\n"
     ]
    },
    {
     "name": "stderr",
     "output_type": "stream",
     "text": [
      "2018-09-30 20:21:07,412 INFO Origing: (-174.05420137519, -114.28898895259, -77.789244129253)\n"
     ]
    },
    {
     "name": "stderr",
     "output_type": "stream",
     "text": [
      "2018-09-30 20:21:07,414 INFO Spacing: (1.3671875, 1.3671875, 8.80000019073486)\n"
     ]
    },
    {
     "name": "stderr",
     "output_type": "stream",
     "text": [
      "2018-09-30 20:21:07,416 INFO Direction: (0.9252134255707757, 0.2318078422449527, 0.30040845763282054, -1.3698247258720084e-09, 0.7917004565174289, -0.6109094754135795, -0.3794471203522185, 0.5652216480495366, 0.7324918917179734)\n"
     ]
    },
    {
     "name": "stderr",
     "output_type": "stream",
     "text": [
      "2018-09-30 20:21:07,418 INFO Components: 1\n"
     ]
    },
    {
     "name": "stderr",
     "output_type": "stream",
     "text": [
      "2018-09-30 20:21:07,456 INFO Imagesize: (256, 256, 1)\n"
     ]
    },
    {
     "name": "stderr",
     "output_type": "stream",
     "text": [
      "2018-09-30 20:21:07,458 INFO Origing: (-174.05420137519, -114.28898895259, -77.789244129253)\n"
     ]
    },
    {
     "name": "stderr",
     "output_type": "stream",
     "text": [
      "2018-09-30 20:21:07,460 INFO Spacing: (1.3671875, 1.3671875, 8.80000019073486)\n"
     ]
    },
    {
     "name": "stderr",
     "output_type": "stream",
     "text": [
      "2018-09-30 20:21:07,464 INFO Direction: (0.9252134255707757, 0.2318078422449527, 0.30040845763282054, -1.3698247258720084e-09, 0.7917004565174289, -0.6109094754135795, -0.3794471203522185, 0.5652216480495366, 0.7324918917179734)\n"
     ]
    },
    {
     "name": "stderr",
     "output_type": "stream",
     "text": [
      "2018-09-30 20:21:07,466 INFO Components: 1"
     ]
    },
    {
     "name": "stderr",
     "output_type": "stream",
     "text": [
      "\n"
     ]
    },
    {
     "name": "stderr",
     "output_type": "stream",
     "text": [
      "2018-09-30 20:21:07,504 INFO Imagesize: (256, 256, 1)\n"
     ]
    },
    {
     "name": "stderr",
     "output_type": "stream",
     "text": [
      "2018-09-30 20:21:07,506 INFO Origing: (-174.05420137519, -114.28898895259, -77.789244129253)\n"
     ]
    },
    {
     "name": "stderr",
     "output_type": "stream",
     "text": [
      "2018-09-30 20:21:07,511 INFO Spacing: (1.3671875, 1.3671875, 8.80000019073486)\n"
     ]
    },
    {
     "name": "stderr",
     "output_type": "stream",
     "text": [
      "2018-09-30 20:21:07,513 INFO Direction: (0.9252134255707757, 0.2318078422449527, 0.30040845763282054, -1.3698247258720084e-09, 0.7917004565174289, -0.6109094754135795, -0.3794471203522185, 0.5652216480495366, 0.7324918917179734)\n"
     ]
    },
    {
     "name": "stderr",
     "output_type": "stream",
     "text": [
      "2018-09-30 20:21:07,515 INFO Components: 1"
     ]
    },
    {
     "name": "stderr",
     "output_type": "stream",
     "text": [
      "\n"
     ]
    },
    {
     "name": "stderr",
     "output_type": "stream",
     "text": [
      "2018-09-30 20:21:07,554 INFO Imagesize: (256, 256, 1)\n"
     ]
    },
    {
     "name": "stderr",
     "output_type": "stream",
     "text": [
      "2018-09-30 20:21:07,555 INFO Origing: (-174.05420137519, -114.28898895259, -77.789244129253)\n"
     ]
    },
    {
     "name": "stderr",
     "output_type": "stream",
     "text": [
      "2018-09-30 20:21:07,558 INFO Spacing: (1.3671875, 1.3671875, 8.80000019073486)\n"
     ]
    },
    {
     "name": "stderr",
     "output_type": "stream",
     "text": [
      "2018-09-30 20:21:07,561 INFO Direction: (0.9252134255707757, 0.2318078422449527, 0.30040845763282054, -1.3698247258720084e-09, 0.7917004565174289, -0.6109094754135795, -0.3794471203522185, 0.5652216480495366, 0.7324918917179734)\n"
     ]
    },
    {
     "name": "stderr",
     "output_type": "stream",
     "text": [
      "2018-09-30 20:21:07,562 INFO Components: 1\n"
     ]
    },
    {
     "name": "stderr",
     "output_type": "stream",
     "text": [
      "2018-09-30 20:21:07,598 INFO Imagesize: (256, 256, 1)\n"
     ]
    },
    {
     "name": "stderr",
     "output_type": "stream",
     "text": [
      "2018-09-30 20:21:07,600 INFO Origing: (-174.05420137519, -114.28898895259, -77.789244129253)\n"
     ]
    },
    {
     "name": "stderr",
     "output_type": "stream",
     "text": [
      "2018-09-30 20:21:07,602 INFO Spacing: (1.3671875, 1.3671875, 8.80000019073486)\n"
     ]
    },
    {
     "name": "stderr",
     "output_type": "stream",
     "text": [
      "2018-09-30 20:21:07,604 INFO Direction: (0.9252134255707757, 0.2318078422449527, 0.30040845763282054, -1.3698247258720084e-09, 0.7917004565174289, -0.6109094754135795, -0.3794471203522185, 0.5652216480495366, 0.7324918917179734)\n"
     ]
    },
    {
     "name": "stderr",
     "output_type": "stream",
     "text": [
      "2018-09-30 20:21:07,606 INFO Components: 1\n"
     ]
    },
    {
     "name": "stderr",
     "output_type": "stream",
     "text": [
      "2018-09-30 20:21:07,643 INFO Imagesize: (256, 256, 1)\n"
     ]
    },
    {
     "name": "stderr",
     "output_type": "stream",
     "text": [
      "2018-09-30 20:21:07,644 INFO Origing: (-174.05420137519, -114.28898895259, -77.789244129253)\n"
     ]
    },
    {
     "name": "stderr",
     "output_type": "stream",
     "text": [
      "2018-09-30 20:21:07,646 INFO Spacing: (1.3671875, 1.3671875, 8.80000019073486)\n"
     ]
    },
    {
     "name": "stderr",
     "output_type": "stream",
     "text": [
      "2018-09-30 20:21:07,648 INFO Direction: (0.9252134255707757, 0.2318078422449527, 0.30040845763282054, -1.3698247258720084e-09, 0.7917004565174289, -0.6109094754135795, -0.3794471203522185, 0.5652216480495366, 0.7324918917179734)\n"
     ]
    },
    {
     "name": "stderr",
     "output_type": "stream",
     "text": [
      "2018-09-30 20:21:07,651 INFO Components: 1\n"
     ]
    },
    {
     "name": "stderr",
     "output_type": "stream",
     "text": [
      "2018-09-30 20:21:07,693 INFO Imagesize: (256, 256, 1)\n"
     ]
    },
    {
     "name": "stderr",
     "output_type": "stream",
     "text": [
      "2018-09-30 20:21:07,695 INFO Origing: (-174.05420137519, -114.28898895259, -77.789244129253)\n"
     ]
    },
    {
     "name": "stderr",
     "output_type": "stream",
     "text": [
      "2018-09-30 20:21:07,697 INFO Spacing: (1.3671875, 1.3671875, 8.80000019073486)\n"
     ]
    },
    {
     "name": "stderr",
     "output_type": "stream",
     "text": [
      "2018-09-30 20:21:07,699 INFO Direction: (0.9252134255707757, 0.2318078422449527, 0.30040845763282054, -1.3698247258720084e-09, 0.7917004565174289, -0.6109094754135795, -0.3794471203522185, 0.5652216480495366, 0.7324918917179734)\n"
     ]
    },
    {
     "name": "stderr",
     "output_type": "stream",
     "text": [
      "2018-09-30 20:21:07,700 INFO Components: 1\n"
     ]
    },
    {
     "name": "stderr",
     "output_type": "stream",
     "text": [
      "2018-09-30 20:21:07,737 INFO Imagesize: (256, 256, 1)\n"
     ]
    },
    {
     "name": "stderr",
     "output_type": "stream",
     "text": [
      "2018-09-30 20:21:07,738 INFO Origing: (-174.05420137519, -114.28898895259, -77.789244129253)\n"
     ]
    },
    {
     "name": "stderr",
     "output_type": "stream",
     "text": [
      "2018-09-30 20:21:07,741 INFO Spacing: (1.3671875, 1.3671875, 8.80000019073486)\n"
     ]
    },
    {
     "name": "stderr",
     "output_type": "stream",
     "text": [
      "2018-09-30 20:21:07,743 INFO Direction: (0.9252134255707757, 0.2318078422449527, 0.30040845763282054, -1.3698247258720084e-09, 0.7917004565174289, -0.6109094754135795, -0.3794471203522185, 0.5652216480495366, 0.7324918917179734)\n"
     ]
    },
    {
     "name": "stderr",
     "output_type": "stream",
     "text": [
      "2018-09-30 20:21:07,744 INFO Components: 1\n"
     ]
    },
    {
     "name": "stderr",
     "output_type": "stream",
     "text": [
      "2018-09-30 20:21:07,779 INFO Imagesize: (256, 256, 1)\n"
     ]
    },
    {
     "name": "stderr",
     "output_type": "stream",
     "text": [
      "2018-09-30 20:21:07,780 INFO Origing: (-174.05420137519, -114.28898895259, -77.789244129253)\n"
     ]
    },
    {
     "name": "stderr",
     "output_type": "stream",
     "text": [
      "2018-09-30 20:21:07,782 INFO Spacing: (1.3671875, 1.3671875, 8.80000019073486)\n"
     ]
    },
    {
     "name": "stderr",
     "output_type": "stream",
     "text": [
      "2018-09-30 20:21:07,784 INFO Direction: (0.9252134255707757, 0.2318078422449527, 0.30040845763282054, -1.3698247258720084e-09, 0.7917004565174289, -0.6109094754135795, -0.3794471203522185, 0.5652216480495366, 0.7324918917179734)\n"
     ]
    },
    {
     "name": "stderr",
     "output_type": "stream",
     "text": [
      "2018-09-30 20:21:07,788 INFO Components: 1\n"
     ]
    },
    {
     "name": "stderr",
     "output_type": "stream",
     "text": [
      "2018-09-30 20:21:07,823 INFO Imagesize: (256, 256, 1)\n"
     ]
    },
    {
     "name": "stderr",
     "output_type": "stream",
     "text": [
      "2018-09-30 20:21:07,824 INFO Origing: (-174.05420137519, -114.28898895259, -77.789244129253)\n"
     ]
    },
    {
     "name": "stderr",
     "output_type": "stream",
     "text": [
      "2018-09-30 20:21:07,826 INFO Spacing: (1.3671875, 1.3671875, 8.80000019073486)\n"
     ]
    },
    {
     "name": "stderr",
     "output_type": "stream",
     "text": [
      "2018-09-30 20:21:07,829 INFO Direction: (0.9252134255707757, 0.2318078422449527, 0.30040845763282054, -1.3698247258720084e-09, 0.7917004565174289, -0.6109094754135795, -0.3794471203522185, 0.5652216480495366, 0.7324918917179734)\n"
     ]
    },
    {
     "name": "stderr",
     "output_type": "stream",
     "text": [
      "2018-09-30 20:21:07,831 INFO Components: 1\n"
     ]
    },
    {
     "name": "stderr",
     "output_type": "stream",
     "text": [
      "2018-09-30 20:21:07,868 INFO Imagesize: (256, 256, 1)\n"
     ]
    },
    {
     "name": "stderr",
     "output_type": "stream",
     "text": [
      "2018-09-30 20:21:07,871 INFO Origing: (-171.41060854072, -119.66499221797, -71.343313648296)\n"
     ]
    },
    {
     "name": "stderr",
     "output_type": "stream",
     "text": [
      "2018-09-30 20:21:07,873 INFO Spacing: (1.3671875, 1.3671875, 8.80000019073486)\n"
     ]
    },
    {
     "name": "stderr",
     "output_type": "stream",
     "text": [
      "2018-09-30 20:21:07,875 INFO Direction: (0.9252134255707757, 0.2318078422449527, 0.30040845763282054, -1.3698247258720084e-09, 0.7917004565174289, -0.6109094754135795, -0.3794471203522185, 0.5652216480495366, 0.7324918917179734)\n"
     ]
    },
    {
     "name": "stderr",
     "output_type": "stream",
     "text": [
      "2018-09-30 20:21:07,876 INFO Components: 1\n"
     ]
    },
    {
     "name": "stderr",
     "output_type": "stream",
     "text": [
      "2018-09-30 20:21:07,913 INFO Imagesize: (256, 256, 1)\n"
     ]
    },
    {
     "name": "stderr",
     "output_type": "stream",
     "text": [
      "2018-09-30 20:21:07,915 INFO Origing: (-171.41060854072, -119.66499221797, -71.343313648296)\n"
     ]
    },
    {
     "name": "stderr",
     "output_type": "stream",
     "text": [
      "2018-09-30 20:21:07,916 INFO Spacing: (1.3671875, 1.3671875, 8.80000019073486)\n"
     ]
    },
    {
     "name": "stderr",
     "output_type": "stream",
     "text": [
      "2018-09-30 20:21:07,918 INFO Direction: (0.9252134255707757, 0.2318078422449527, 0.30040845763282054, -1.3698247258720084e-09, 0.7917004565174289, -0.6109094754135795, -0.3794471203522185, 0.5652216480495366, 0.7324918917179734)\n"
     ]
    },
    {
     "name": "stderr",
     "output_type": "stream",
     "text": [
      "2018-09-30 20:21:07,920 INFO Components: 1\n"
     ]
    },
    {
     "name": "stderr",
     "output_type": "stream",
     "text": [
      "2018-09-30 20:21:07,959 INFO Imagesize: (256, 256, 1)\n"
     ]
    },
    {
     "name": "stderr",
     "output_type": "stream",
     "text": [
      "2018-09-30 20:21:07,960 INFO Origing: (-171.41060854072, -119.66499221797, -71.343313648296)\n"
     ]
    },
    {
     "name": "stderr",
     "output_type": "stream",
     "text": [
      "2018-09-30 20:21:07,962 INFO Spacing: (1.3671875, 1.3671875, 8.80000019073486)\n"
     ]
    },
    {
     "name": "stderr",
     "output_type": "stream",
     "text": [
      "2018-09-30 20:21:07,967 INFO Direction: (0.9252134255707757, 0.2318078422449527, 0.30040845763282054, -1.3698247258720084e-09, 0.7917004565174289, -0.6109094754135795, -0.3794471203522185, 0.5652216480495366, 0.7324918917179734)\n"
     ]
    },
    {
     "name": "stderr",
     "output_type": "stream",
     "text": [
      "2018-09-30 20:21:07,968 INFO Components: 1\n"
     ]
    },
    {
     "name": "stderr",
     "output_type": "stream",
     "text": [
      "2018-09-30 20:21:08,004 INFO Imagesize: (256, 256, 1)\n"
     ]
    },
    {
     "name": "stderr",
     "output_type": "stream",
     "text": [
      "2018-09-30 20:21:08,006 INFO Origing: (-171.41060854072, -119.66499221797, -71.343313648296)\n"
     ]
    },
    {
     "name": "stderr",
     "output_type": "stream",
     "text": [
      "2018-09-30 20:21:08,007 INFO Spacing: (1.3671875, 1.3671875, 8.80000019073486)\n"
     ]
    },
    {
     "name": "stderr",
     "output_type": "stream",
     "text": [
      "2018-09-30 20:21:08,009 INFO Direction: (0.9252134255707757, 0.2318078422449527, 0.30040845763282054, -1.3698247258720084e-09, 0.7917004565174289, -0.6109094754135795, -0.3794471203522185, 0.5652216480495366, 0.7324918917179734)\n"
     ]
    },
    {
     "name": "stderr",
     "output_type": "stream",
     "text": [
      "2018-09-30 20:21:08,011 INFO Components: 1\n"
     ]
    },
    {
     "name": "stderr",
     "output_type": "stream",
     "text": [
      "2018-09-30 20:21:08,013 DEBUG Trying to save to data/processed/sumarized/0706-ZY8H5791-2005-06-16/\n"
     ]
    },
    {
     "name": "stderr",
     "output_type": "stream",
     "text": [
      "2018-09-30 20:21:08,028 DEBUG update_title_pos"
     ]
    },
    {
     "name": "stderr",
     "output_type": "stream",
     "text": [
      "\n"
     ]
    },
    {
     "name": "stderr",
     "output_type": "stream",
     "text": [
      "2018-09-30 20:21:08,054 DEBUG update_title_pos\n"
     ]
    },
    {
     "name": "stderr",
     "output_type": "stream",
     "text": [
      "2018-09-30 20:21:08,073 DEBUG update_title_pos\n"
     ]
    },
    {
     "name": "stderr",
     "output_type": "stream",
     "text": [
      "2018-09-30 20:21:08,092 DEBUG update_title_pos\n"
     ]
    },
    {
     "name": "stderr",
     "output_type": "stream",
     "text": [
      "2018-09-30 20:21:08,110 DEBUG update_title_pos\n"
     ]
    },
    {
     "name": "stderr",
     "output_type": "stream",
     "text": [
      "2018-09-30 20:21:08,130 DEBUG update_title_pos\n"
     ]
    },
    {
     "name": "stderr",
     "output_type": "stream",
     "text": [
      "2018-09-30 20:21:08,150 DEBUG update_title_pos\n"
     ]
    },
    {
     "name": "stderr",
     "output_type": "stream",
     "text": [
      "2018-09-30 20:21:08,170 DEBUG update_title_pos\n"
     ]
    },
    {
     "name": "stderr",
     "output_type": "stream",
     "text": [
      "2018-09-30 20:21:08,189 DEBUG update_title_pos\n"
     ]
    },
    {
     "name": "stderr",
     "output_type": "stream",
     "text": [
      "2018-09-30 20:21:08,208 DEBUG update_title_pos\n"
     ]
    },
    {
     "name": "stderr",
     "output_type": "stream",
     "text": [
      "2018-09-30 20:21:08,228 DEBUG update_title_pos\n"
     ]
    },
    {
     "name": "stderr",
     "output_type": "stream",
     "text": [
      "2018-09-30 20:21:08,246 DEBUG update_title_pos\n"
     ]
    },
    {
     "name": "stderr",
     "output_type": "stream",
     "text": [
      "2018-09-30 20:21:08,265 DEBUG update_title_pos\n"
     ]
    },
    {
     "name": "stderr",
     "output_type": "stream",
     "text": [
      "2018-09-30 20:21:08,285 DEBUG update_title_pos\n"
     ]
    },
    {
     "name": "stderr",
     "output_type": "stream",
     "text": [
      "2018-09-30 20:21:08,303 DEBUG update_title_pos\n"
     ]
    },
    {
     "name": "stderr",
     "output_type": "stream",
     "text": [
      "2018-09-30 20:21:08,321 DEBUG update_title_pos\n"
     ]
    },
    {
     "name": "stderr",
     "output_type": "stream",
     "text": [
      "2018-09-30 20:21:08,343 DEBUG update_title_pos\n"
     ]
    },
    {
     "name": "stderr",
     "output_type": "stream",
     "text": [
      "2018-09-30 20:21:08,362 DEBUG update_title_pos\n"
     ]
    },
    {
     "name": "stderr",
     "output_type": "stream",
     "text": [
      "2018-09-30 20:21:08,381 DEBUG update_title_pos\n"
     ]
    },
    {
     "name": "stderr",
     "output_type": "stream",
     "text": [
      "2018-09-30 20:21:08,403 DEBUG update_title_pos\n"
     ]
    },
    {
     "name": "stderr",
     "output_type": "stream",
     "text": [
      "2018-09-30 20:21:08,421 DEBUG update_title_pos\n"
     ]
    },
    {
     "name": "stderr",
     "output_type": "stream",
     "text": [
      "2018-09-30 20:21:08,440 DEBUG update_title_pos\n"
     ]
    },
    {
     "name": "stderr",
     "output_type": "stream",
     "text": [
      "2018-09-30 20:21:08,463 DEBUG update_title_pos\n"
     ]
    },
    {
     "name": "stderr",
     "output_type": "stream",
     "text": [
      "2018-09-30 20:21:08,481 DEBUG update_title_pos\n"
     ]
    },
    {
     "name": "stderr",
     "output_type": "stream",
     "text": [
      "2018-09-30 20:21:08,499 DEBUG update_title_pos\n"
     ]
    },
    {
     "name": "stderr",
     "output_type": "stream",
     "text": [
      "2018-09-30 20:21:08,519 DEBUG update_title_pos\n"
     ]
    },
    {
     "name": "stderr",
     "output_type": "stream",
     "text": [
      "2018-09-30 20:21:08,538 DEBUG update_title_pos\n"
     ]
    },
    {
     "name": "stderr",
     "output_type": "stream",
     "text": [
      "2018-09-30 20:21:08,557 DEBUG update_title_pos\n"
     ]
    },
    {
     "name": "stderr",
     "output_type": "stream",
     "text": [
      "2018-09-30 20:21:08,575 DEBUG update_title_pos\n"
     ]
    },
    {
     "name": "stderr",
     "output_type": "stream",
     "text": [
      "2018-09-30 20:21:08,597 DEBUG update_title_pos\n"
     ]
    },
    {
     "name": "stderr",
     "output_type": "stream",
     "text": [
      "2018-09-30 20:21:08,615 DEBUG update_title_pos\n"
     ]
    },
    {
     "name": "stderr",
     "output_type": "stream",
     "text": [
      "2018-09-30 20:21:08,634 DEBUG update_title_pos\n"
     ]
    },
    {
     "name": "stderr",
     "output_type": "stream",
     "text": [
      "2018-09-30 20:21:08,655 DEBUG update_title_pos\n"
     ]
    },
    {
     "name": "stderr",
     "output_type": "stream",
     "text": [
      "2018-09-30 20:21:08,674 DEBUG update_title_pos\n"
     ]
    },
    {
     "name": "stderr",
     "output_type": "stream",
     "text": [
      "2018-09-30 20:21:08,694 DEBUG update_title_pos\n"
     ]
    },
    {
     "name": "stderr",
     "output_type": "stream",
     "text": [
      "2018-09-30 20:21:08,714 DEBUG update_title_pos\n"
     ]
    },
    {
     "name": "stderr",
     "output_type": "stream",
     "text": [
      "2018-09-30 20:21:11,690 DEBUG Image saved: data/processed/sumarized/0706-ZY8H5791-2005-06-16/1.3.46.670589.11.0.0.11.4.2.0.5167.5.4188.2005061614322310338_1.png\n"
     ]
    },
    {
     "name": "stderr",
     "output_type": "stream",
     "text": [
      "2018-09-30 20:21:11,769 INFO files: 36\n"
     ]
    },
    {
     "name": "stderr",
     "output_type": "stream",
     "text": [
      "2018-09-30 20:21:11,771 INFO Gridsize: 6 rows x 6 columns\n"
     ]
    },
    {
     "name": "stderr",
     "output_type": "stream",
     "text": [
      "2018-09-30 20:21:11,803 INFO Imagesize: (256, 256, 1)\n"
     ]
    },
    {
     "name": "stderr",
     "output_type": "stream",
     "text": [
      "2018-09-30 20:21:11,804 INFO Origing: (102.596215350655, -174.09604157503, 73.9652346477644)\n"
     ]
    },
    {
     "name": "stderr",
     "output_type": "stream",
     "text": [
      "2018-09-30 20:21:11,806 INFO Spacing: (1.3671875, 1.3671875, 8.80000019073486)\n"
     ]
    },
    {
     "name": "stderr",
     "output_type": "stream",
     "text": [
      "2018-09-30 20:21:11,808 INFO Direction: (0.35055422664613933, -0.49599041606613836, -0.7944213248340369, 0.9148862287825855, 0.0, 0.40371176399007597, -0.20023716579223239, -0.8683279951553672, 0.4537748012670548)\n"
     ]
    },
    {
     "name": "stderr",
     "output_type": "stream",
     "text": [
      "2018-09-30 20:21:11,809 INFO Components: 1\n"
     ]
    },
    {
     "name": "stderr",
     "output_type": "stream",
     "text": [
      "2018-09-30 20:21:11,843 INFO Imagesize: (256, 256, 1)\n"
     ]
    },
    {
     "name": "stderr",
     "output_type": "stream",
     "text": [
      "2018-09-30 20:21:11,844 INFO Origing: (102.596215350655, -174.09604157503, 73.9652346477644)\n"
     ]
    },
    {
     "name": "stderr",
     "output_type": "stream",
     "text": [
      "2018-09-30 20:21:11,845 INFO Spacing: (1.3671875, 1.3671875, 8.80000019073486)\n"
     ]
    },
    {
     "name": "stderr",
     "output_type": "stream",
     "text": [
      "2018-09-30 20:21:11,847 INFO Direction: (0.35055422664613933, -0.49599041606613836, -0.7944213248340369, 0.9148862287825855, 0.0, 0.40371176399007597, -0.20023716579223239, -0.8683279951553672, 0.4537748012670548)\n"
     ]
    },
    {
     "name": "stderr",
     "output_type": "stream",
     "text": [
      "2018-09-30 20:21:11,849 INFO Components: 1\n"
     ]
    },
    {
     "name": "stderr",
     "output_type": "stream",
     "text": [
      "2018-09-30 20:21:11,886 INFO Imagesize: (256, 256, 1)\n"
     ]
    },
    {
     "name": "stderr",
     "output_type": "stream",
     "text": [
      "2018-09-30 20:21:11,887 INFO Origing: (102.596215350655, -174.09604157503, 73.9652346477644)\n"
     ]
    },
    {
     "name": "stderr",
     "output_type": "stream",
     "text": [
      "2018-09-30 20:21:11,888 INFO Spacing: (1.3671875, 1.3671875, 8.80000019073486)\n"
     ]
    },
    {
     "name": "stderr",
     "output_type": "stream",
     "text": [
      "2018-09-30 20:21:11,890 INFO Direction: (0.35055422664613933, -0.49599041606613836, -0.7944213248340369, 0.9148862287825855, 0.0, 0.40371176399007597, -0.20023716579223239, -0.8683279951553672, 0.4537748012670548)\n"
     ]
    },
    {
     "name": "stderr",
     "output_type": "stream",
     "text": [
      "2018-09-30 20:21:11,892 INFO Components: 1\n"
     ]
    },
    {
     "name": "stderr",
     "output_type": "stream",
     "text": [
      "2018-09-30 20:21:11,925 INFO Imagesize: (256, 256, 1)\n"
     ]
    },
    {
     "name": "stderr",
     "output_type": "stream",
     "text": [
      "2018-09-30 20:21:11,926 INFO Origing: (102.596215350655, -174.09604157503, 73.9652346477644)\n"
     ]
    },
    {
     "name": "stderr",
     "output_type": "stream",
     "text": [
      "2018-09-30 20:21:11,927 INFO Spacing: (1.3671875, 1.3671875, 8.80000019073486)\n"
     ]
    },
    {
     "name": "stderr",
     "output_type": "stream",
     "text": [
      "2018-09-30 20:21:11,929 INFO Direction: (0.35055422664613933, -0.49599041606613836, -0.7944213248340369, 0.9148862287825855, 0.0, 0.40371176399007597, -0.20023716579223239, -0.8683279951553672, 0.4537748012670548)\n"
     ]
    },
    {
     "name": "stderr",
     "output_type": "stream",
     "text": [
      "2018-09-30 20:21:11,931 INFO Components: 1\n"
     ]
    },
    {
     "name": "stderr",
     "output_type": "stream",
     "text": [
      "2018-09-30 20:21:11,970 INFO Imagesize: (256, 256, 1)\n"
     ]
    },
    {
     "name": "stderr",
     "output_type": "stream",
     "text": [
      "2018-09-30 20:21:11,972 INFO Origing: (102.596215350655, -174.09604157503, 73.9652346477644)\n"
     ]
    },
    {
     "name": "stderr",
     "output_type": "stream",
     "text": [
      "2018-09-30 20:21:11,973 INFO Spacing: (1.3671875, 1.3671875, 8.80000019073486)\n"
     ]
    },
    {
     "name": "stderr",
     "output_type": "stream",
     "text": [
      "2018-09-30 20:21:11,974 INFO Direction: (0.35055422664613933, -0.49599041606613836, -0.7944213248340369, 0.9148862287825855, 0.0, 0.40371176399007597, -0.20023716579223239, -0.8683279951553672, 0.4537748012670548)\n"
     ]
    },
    {
     "name": "stderr",
     "output_type": "stream",
     "text": [
      "2018-09-30 20:21:11,976 INFO Components: 1\n"
     ]
    },
    {
     "name": "stderr",
     "output_type": "stream",
     "text": [
      "2018-09-30 20:21:12,013 INFO Imagesize: (256, 256, 1)\n"
     ]
    },
    {
     "name": "stderr",
     "output_type": "stream",
     "text": [
      "2018-09-30 20:21:12,184 INFO Origing: (102.596215350655, -174.09604157503, 73.9652346477644)\n"
     ]
    },
    {
     "name": "stderr",
     "output_type": "stream",
     "text": [
      "2018-09-30 20:21:12,186 INFO Spacing: (1.3671875, 1.3671875, 8.80000019073486)\n"
     ]
    },
    {
     "name": "stderr",
     "output_type": "stream",
     "text": [
      "2018-09-30 20:21:12,188 INFO Direction: (0.35055422664613933, -0.49599041606613836, -0.7944213248340369, 0.9148862287825855, 0.0, 0.40371176399007597, -0.20023716579223239, -0.8683279951553672, 0.4537748012670548)\n"
     ]
    },
    {
     "name": "stderr",
     "output_type": "stream",
     "text": [
      "2018-09-30 20:21:12,189 INFO Components: 1\n"
     ]
    },
    {
     "name": "stderr",
     "output_type": "stream",
     "text": [
      "2018-09-30 20:21:12,235 INFO Imagesize: (256, 256, 1)\n"
     ]
    },
    {
     "name": "stderr",
     "output_type": "stream",
     "text": [
      "2018-09-30 20:21:12,240 INFO Origing: (102.596215350655, -174.09604157503, 73.9652346477644)\n"
     ]
    },
    {
     "name": "stderr",
     "output_type": "stream",
     "text": [
      "2018-09-30 20:21:12,241 INFO Spacing: (1.3671875, 1.3671875, 8.80000019073486)\n"
     ]
    },
    {
     "name": "stderr",
     "output_type": "stream",
     "text": [
      "2018-09-30 20:21:12,243 INFO Direction: (0.35055422664613933, -0.49599041606613836, -0.7944213248340369, 0.9148862287825855, 0.0, 0.40371176399007597, -0.20023716579223239, -0.8683279951553672, 0.4537748012670548)\n"
     ]
    },
    {
     "name": "stderr",
     "output_type": "stream",
     "text": [
      "2018-09-30 20:21:12,244 INFO Components: 1\n"
     ]
    },
    {
     "name": "stderr",
     "output_type": "stream",
     "text": [
      "2018-09-30 20:21:12,278 INFO Imagesize: (256, 256, 1)\n"
     ]
    },
    {
     "name": "stderr",
     "output_type": "stream",
     "text": [
      "2018-09-30 20:21:12,280 INFO Origing: (102.596215350655, -174.09604157503, 73.9652346477644)\n"
     ]
    },
    {
     "name": "stderr",
     "output_type": "stream",
     "text": [
      "2018-09-30 20:21:12,281 INFO Spacing: (1.3671875, 1.3671875, 8.80000019073486)\n"
     ]
    },
    {
     "name": "stderr",
     "output_type": "stream",
     "text": [
      "2018-09-30 20:21:12,282 INFO Direction: (0.35055422664613933, -0.49599041606613836, -0.7944213248340369, 0.9148862287825855, 0.0, 0.40371176399007597, -0.20023716579223239, -0.8683279951553672, 0.4537748012670548)\n"
     ]
    },
    {
     "name": "stderr",
     "output_type": "stream",
     "text": [
      "2018-09-30 20:21:12,283 INFO Components: 1\n"
     ]
    },
    {
     "name": "stderr",
     "output_type": "stream",
     "text": [
      "2018-09-30 20:21:12,321 INFO Imagesize: (256, 256, 1)\n"
     ]
    },
    {
     "name": "stderr",
     "output_type": "stream",
     "text": [
      "2018-09-30 20:21:12,322 INFO Origing: (102.596215350655, -174.09604157503, 73.9652346477644)\n"
     ]
    },
    {
     "name": "stderr",
     "output_type": "stream",
     "text": [
      "2018-09-30 20:21:12,324 INFO Spacing: (1.3671875, 1.3671875, 8.80000019073486)\n"
     ]
    },
    {
     "name": "stderr",
     "output_type": "stream",
     "text": [
      "2018-09-30 20:21:12,326 INFO Direction: (0.35055422664613933, -0.49599041606613836, -0.7944213248340369, 0.9148862287825855, 0.0, 0.40371176399007597, -0.20023716579223239, -0.8683279951553672, 0.4537748012670548)\n"
     ]
    },
    {
     "name": "stderr",
     "output_type": "stream",
     "text": [
      "2018-09-30 20:21:12,328 INFO Components: 1\n"
     ]
    },
    {
     "name": "stderr",
     "output_type": "stream",
     "text": [
      "2018-09-30 20:21:12,361 INFO Imagesize: (256, 256, 1)\n"
     ]
    },
    {
     "name": "stderr",
     "output_type": "stream",
     "text": [
      "2018-09-30 20:21:12,362 INFO Origing: (102.596215350655, -174.09604157503, 73.9652346477644)\n"
     ]
    },
    {
     "name": "stderr",
     "output_type": "stream",
     "text": [
      "2018-09-30 20:21:12,364 INFO Spacing: (1.3671875, 1.3671875, 8.80000019073486)\n"
     ]
    },
    {
     "name": "stderr",
     "output_type": "stream",
     "text": [
      "2018-09-30 20:21:12,365 INFO Direction: (0.35055422664613933, -0.49599041606613836, -0.7944213248340369, 0.9148862287825855, 0.0, 0.40371176399007597, -0.20023716579223239, -0.8683279951553672, 0.4537748012670548)\n"
     ]
    },
    {
     "name": "stderr",
     "output_type": "stream",
     "text": [
      "2018-09-30 20:21:12,367 INFO Components: 1\n"
     ]
    },
    {
     "name": "stderr",
     "output_type": "stream",
     "text": [
      "2018-09-30 20:21:12,410 INFO Imagesize: (256, 256, 1)\n"
     ]
    },
    {
     "name": "stderr",
     "output_type": "stream",
     "text": [
      "2018-09-30 20:21:12,411 INFO Origing: (102.596215350655, -174.09604157503, 73.9652346477644)\n"
     ]
    },
    {
     "name": "stderr",
     "output_type": "stream",
     "text": [
      "2018-09-30 20:21:12,412 INFO Spacing: (1.3671875, 1.3671875, 8.80000019073486)\n"
     ]
    },
    {
     "name": "stderr",
     "output_type": "stream",
     "text": [
      "2018-09-30 20:21:12,414 INFO Direction: (0.35055422664613933, -0.49599041606613836, -0.7944213248340369, 0.9148862287825855, 0.0, 0.40371176399007597, -0.20023716579223239, -0.8683279951553672, 0.4537748012670548)\n"
     ]
    },
    {
     "name": "stderr",
     "output_type": "stream",
     "text": [
      "2018-09-30 20:21:12,416 INFO Components: 1\n"
     ]
    },
    {
     "name": "stderr",
     "output_type": "stream",
     "text": [
      "2018-09-30 20:21:12,451 INFO Imagesize: (256, 256, 1)\n"
     ]
    },
    {
     "name": "stderr",
     "output_type": "stream",
     "text": [
      "2018-09-30 20:21:12,456 INFO Origing: (102.596215350655, -174.09604157503, 73.9652346477644)\n"
     ]
    },
    {
     "name": "stderr",
     "output_type": "stream",
     "text": [
      "2018-09-30 20:21:12,457 INFO Spacing: (1.3671875, 1.3671875, 8.80000019073486)\n"
     ]
    },
    {
     "name": "stderr",
     "output_type": "stream",
     "text": [
      "2018-09-30 20:21:12,459 INFO Direction: (0.35055422664613933, -0.49599041606613836, -0.7944213248340369, 0.9148862287825855, 0.0, 0.40371176399007597, -0.20023716579223239, -0.8683279951553672, 0.4537748012670548)\n"
     ]
    },
    {
     "name": "stderr",
     "output_type": "stream",
     "text": [
      "2018-09-30 20:21:12,461 INFO Components: 1\n"
     ]
    },
    {
     "name": "stderr",
     "output_type": "stream",
     "text": [
      "2018-09-30 20:21:12,502 INFO Imagesize: (256, 256, 1)\n"
     ]
    },
    {
     "name": "stderr",
     "output_type": "stream",
     "text": [
      "2018-09-30 20:21:12,504 INFO Origing: (102.596215350655, -174.09604157503, 73.9652346477644)\n"
     ]
    },
    {
     "name": "stderr",
     "output_type": "stream",
     "text": [
      "2018-09-30 20:21:12,505 INFO Spacing: (1.3671875, 1.3671875, 8.80000019073486)\n"
     ]
    },
    {
     "name": "stderr",
     "output_type": "stream",
     "text": [
      "2018-09-30 20:21:12,506 INFO Direction: (0.35055422664613933, -0.49599041606613836, -0.7944213248340369, 0.9148862287825855, 0.0, 0.40371176399007597, -0.20023716579223239, -0.8683279951553672, 0.4537748012670548)\n"
     ]
    },
    {
     "name": "stderr",
     "output_type": "stream",
     "text": [
      "2018-09-30 20:21:12,508 INFO Components: 1\n"
     ]
    },
    {
     "name": "stderr",
     "output_type": "stream",
     "text": [
      "2018-09-30 20:21:12,544 INFO Imagesize: (256, 256, 1)\n"
     ]
    },
    {
     "name": "stderr",
     "output_type": "stream",
     "text": [
      "2018-09-30 20:21:12,546 INFO Origing: (102.596215350655, -174.09604157503, 73.9652346477644)\n"
     ]
    },
    {
     "name": "stderr",
     "output_type": "stream",
     "text": [
      "2018-09-30 20:21:12,548 INFO Spacing: (1.3671875, 1.3671875, 8.80000019073486)\n"
     ]
    },
    {
     "name": "stderr",
     "output_type": "stream",
     "text": [
      "2018-09-30 20:21:12,550 INFO Direction: (0.35055422664613933, -0.49599041606613836, -0.7944213248340369, 0.9148862287825855, 0.0, 0.40371176399007597, -0.20023716579223239, -0.8683279951553672, 0.4537748012670548)\n"
     ]
    },
    {
     "name": "stderr",
     "output_type": "stream",
     "text": [
      "2018-09-30 20:21:12,551 INFO Components: 1\n"
     ]
    },
    {
     "name": "stderr",
     "output_type": "stream",
     "text": [
      "2018-09-30 20:21:12,586 INFO Imagesize: (256, 256, 1)\n"
     ]
    },
    {
     "name": "stderr",
     "output_type": "stream",
     "text": [
      "2018-09-30 20:21:12,587 INFO Origing: (102.596215350655, -174.09604157503, 73.9652346477644)\n"
     ]
    },
    {
     "name": "stderr",
     "output_type": "stream",
     "text": [
      "2018-09-30 20:21:12,589 INFO Spacing: (1.3671875, 1.3671875, 8.80000019073486)\n"
     ]
    },
    {
     "name": "stderr",
     "output_type": "stream",
     "text": [
      "2018-09-30 20:21:12,590 INFO Direction: (0.35055422664613933, -0.49599041606613836, -0.7944213248340369, 0.9148862287825855, 0.0, 0.40371176399007597, -0.20023716579223239, -0.8683279951553672, 0.4537748012670548)\n"
     ]
    },
    {
     "name": "stderr",
     "output_type": "stream",
     "text": [
      "2018-09-30 20:21:12,592 INFO Components: 1\n"
     ]
    },
    {
     "name": "stderr",
     "output_type": "stream",
     "text": [
      "2018-09-30 20:21:12,628 INFO Imagesize: (256, 256, 1)\n"
     ]
    },
    {
     "name": "stderr",
     "output_type": "stream",
     "text": [
      "2018-09-30 20:21:12,629 INFO Origing: (95.6053095889365, -170.54337777193, 77.9584521160262)\n"
     ]
    },
    {
     "name": "stderr",
     "output_type": "stream",
     "text": [
      "2018-09-30 20:21:12,631 INFO Spacing: (1.3671875, 1.3671875, 8.80000019073486)\n"
     ]
    },
    {
     "name": "stderr",
     "output_type": "stream",
     "text": [
      "2018-09-30 20:21:12,632 INFO Direction: (0.35055422664613933, -0.49599041606613836, -0.7944213248340369, 0.9148862287825855, 0.0, 0.40371176399007597, -0.20023716579223239, -0.8683279951553672, 0.4537748012670548)\n"
     ]
    },
    {
     "name": "stderr",
     "output_type": "stream",
     "text": [
      "2018-09-30 20:21:12,634 INFO Components: 1\n"
     ]
    },
    {
     "name": "stderr",
     "output_type": "stream",
     "text": [
      "2018-09-30 20:21:12,671 INFO Imagesize: (256, 256, 1)\n"
     ]
    },
    {
     "name": "stderr",
     "output_type": "stream",
     "text": [
      "2018-09-30 20:21:12,672 INFO Origing: (95.6053095889365, -170.54337777193, 77.9584521160262)\n"
     ]
    },
    {
     "name": "stderr",
     "output_type": "stream",
     "text": [
      "2018-09-30 20:21:12,673 INFO Spacing: (1.3671875, 1.3671875, 8.80000019073486)\n"
     ]
    },
    {
     "name": "stderr",
     "output_type": "stream",
     "text": [
      "2018-09-30 20:21:12,675 INFO Direction: (0.35055422664613933, -0.49599041606613836, -0.7944213248340369, 0.9148862287825855, 0.0, 0.40371176399007597, -0.20023716579223239, -0.8683279951553672, 0.4537748012670548)\n"
     ]
    },
    {
     "name": "stderr",
     "output_type": "stream",
     "text": [
      "2018-09-30 20:21:12,676 INFO Components: 1\n"
     ]
    },
    {
     "name": "stderr",
     "output_type": "stream",
     "text": [
      "2018-09-30 20:21:12,711 INFO Imagesize: (256, 256, 1)\n"
     ]
    },
    {
     "name": "stderr",
     "output_type": "stream",
     "text": [
      "2018-09-30 20:21:12,712 INFO Origing: (95.6053095889365, -170.54337777193, 77.9584521160262)\n"
     ]
    },
    {
     "name": "stderr",
     "output_type": "stream",
     "text": [
      "2018-09-30 20:21:12,713 INFO Spacing: (1.3671875, 1.3671875, 8.80000019073486)\n"
     ]
    },
    {
     "name": "stderr",
     "output_type": "stream",
     "text": [
      "2018-09-30 20:21:12,715 INFO Direction: (0.35055422664613933, -0.49599041606613836, -0.7944213248340369, 0.9148862287825855, 0.0, 0.40371176399007597, -0.20023716579223239, -0.8683279951553672, 0.4537748012670548)\n"
     ]
    },
    {
     "name": "stderr",
     "output_type": "stream",
     "text": [
      "2018-09-30 20:21:12,717 INFO Components: 1\n"
     ]
    },
    {
     "name": "stderr",
     "output_type": "stream",
     "text": [
      "2018-09-30 20:21:12,755 INFO Imagesize: (256, 256, 1)\n"
     ]
    },
    {
     "name": "stderr",
     "output_type": "stream",
     "text": [
      "2018-09-30 20:21:12,756 INFO Origing: (95.6053095889365, -170.54337777193, 77.9584521160262)\n"
     ]
    },
    {
     "name": "stderr",
     "output_type": "stream",
     "text": [
      "2018-09-30 20:21:12,758 INFO Spacing: (1.3671875, 1.3671875, 8.80000019073486)\n"
     ]
    },
    {
     "name": "stderr",
     "output_type": "stream",
     "text": [
      "2018-09-30 20:21:12,760 INFO Direction: (0.35055422664613933, -0.49599041606613836, -0.7944213248340369, 0.9148862287825855, 0.0, 0.40371176399007597, -0.20023716579223239, -0.8683279951553672, 0.4537748012670548)\n"
     ]
    },
    {
     "name": "stderr",
     "output_type": "stream",
     "text": [
      "2018-09-30 20:21:12,761 INFO Components: 1\n"
     ]
    },
    {
     "name": "stderr",
     "output_type": "stream",
     "text": [
      "2018-09-30 20:21:12,797 INFO Imagesize: (256, 256, 1)\n"
     ]
    },
    {
     "name": "stderr",
     "output_type": "stream",
     "text": [
      "2018-09-30 20:21:12,798 INFO Origing: (95.6053095889365, -170.54337777193, 77.9584521160262)\n"
     ]
    },
    {
     "name": "stderr",
     "output_type": "stream",
     "text": [
      "2018-09-30 20:21:12,801 INFO Spacing: (1.3671875, 1.3671875, 8.80000019073486)\n"
     ]
    },
    {
     "name": "stderr",
     "output_type": "stream",
     "text": [
      "2018-09-30 20:21:12,802 INFO Direction: (0.35055422664613933, -0.49599041606613836, -0.7944213248340369, 0.9148862287825855, 0.0, 0.40371176399007597, -0.20023716579223239, -0.8683279951553672, 0.4537748012670548)\n"
     ]
    },
    {
     "name": "stderr",
     "output_type": "stream",
     "text": [
      "2018-09-30 20:21:12,804 INFO Components: 1\n"
     ]
    },
    {
     "name": "stderr",
     "output_type": "stream",
     "text": [
      "2018-09-30 20:21:12,839 INFO Imagesize: (256, 256, 1)\n"
     ]
    },
    {
     "name": "stderr",
     "output_type": "stream",
     "text": [
      "2018-09-30 20:21:12,840 INFO Origing: (95.6053095889365, -170.54337777193, 77.9584521160262)\n"
     ]
    },
    {
     "name": "stderr",
     "output_type": "stream",
     "text": [
      "2018-09-30 20:21:12,842 INFO Spacing: (1.3671875, 1.3671875, 8.80000019073486)\n"
     ]
    },
    {
     "name": "stderr",
     "output_type": "stream",
     "text": [
      "2018-09-30 20:21:12,845 INFO Direction: (0.35055422664613933, -0.49599041606613836, -0.7944213248340369, 0.9148862287825855, 0.0, 0.40371176399007597, -0.20023716579223239, -0.8683279951553672, 0.4537748012670548)\n"
     ]
    },
    {
     "name": "stderr",
     "output_type": "stream",
     "text": [
      "2018-09-30 20:21:12,847 INFO Components: 1\n"
     ]
    },
    {
     "name": "stderr",
     "output_type": "stream",
     "text": [
      "2018-09-30 20:21:12,884 INFO Imagesize: (256, 256, 1)\n"
     ]
    },
    {
     "name": "stderr",
     "output_type": "stream",
     "text": [
      "2018-09-30 20:21:12,887 INFO Origing: (95.6053095889365, -170.54337777193, 77.9584521160262)\n"
     ]
    },
    {
     "name": "stderr",
     "output_type": "stream",
     "text": [
      "2018-09-30 20:21:12,889 INFO Spacing: (1.3671875, 1.3671875, 8.80000019073486)\n"
     ]
    },
    {
     "name": "stderr",
     "output_type": "stream",
     "text": [
      "2018-09-30 20:21:12,890 INFO Direction: (0.35055422664613933, -0.49599041606613836, -0.7944213248340369, 0.9148862287825855, 0.0, 0.40371176399007597, -0.20023716579223239, -0.8683279951553672, 0.4537748012670548)\n"
     ]
    },
    {
     "name": "stderr",
     "output_type": "stream",
     "text": [
      "2018-09-30 20:21:12,892 INFO Components: 1\n"
     ]
    },
    {
     "name": "stderr",
     "output_type": "stream",
     "text": [
      "2018-09-30 20:21:12,928 INFO Imagesize: (256, 256, 1)\n"
     ]
    },
    {
     "name": "stderr",
     "output_type": "stream",
     "text": [
      "2018-09-30 20:21:12,930 INFO Origing: (95.6053095889365, -170.54337777193, 77.9584521160262)\n"
     ]
    },
    {
     "name": "stderr",
     "output_type": "stream",
     "text": [
      "2018-09-30 20:21:12,932 INFO Spacing: (1.3671875, 1.3671875, 8.80000019073486)\n"
     ]
    },
    {
     "name": "stderr",
     "output_type": "stream",
     "text": [
      "2018-09-30 20:21:12,933 INFO Direction: (0.35055422664613933, -0.49599041606613836, -0.7944213248340369, 0.9148862287825855, 0.0, 0.40371176399007597, -0.20023716579223239, -0.8683279951553672, 0.4537748012670548)\n"
     ]
    },
    {
     "name": "stderr",
     "output_type": "stream",
     "text": [
      "2018-09-30 20:21:12,935 INFO Components: 1\n"
     ]
    },
    {
     "name": "stderr",
     "output_type": "stream",
     "text": [
      "2018-09-30 20:21:12,971 INFO Imagesize: (256, 256, 1)\n"
     ]
    },
    {
     "name": "stderr",
     "output_type": "stream",
     "text": [
      "2018-09-30 20:21:12,973 INFO Origing: (95.6053095889365, -170.54337777193, 77.9584521160262)\n"
     ]
    },
    {
     "name": "stderr",
     "output_type": "stream",
     "text": [
      "2018-09-30 20:21:12,974 INFO Spacing: (1.3671875, 1.3671875, 8.80000019073486)\n"
     ]
    },
    {
     "name": "stderr",
     "output_type": "stream",
     "text": [
      "2018-09-30 20:21:12,978 INFO Direction: (0.35055422664613933, -0.49599041606613836, -0.7944213248340369, 0.9148862287825855, 0.0, 0.40371176399007597, -0.20023716579223239, -0.8683279951553672, 0.4537748012670548)\n"
     ]
    },
    {
     "name": "stderr",
     "output_type": "stream",
     "text": [
      "2018-09-30 20:21:12,979 INFO Components: 1\n"
     ]
    },
    {
     "name": "stderr",
     "output_type": "stream",
     "text": [
      "2018-09-30 20:21:13,015 INFO Imagesize: (256, 256, 1)\n"
     ]
    },
    {
     "name": "stderr",
     "output_type": "stream",
     "text": [
      "2018-09-30 20:21:13,017 INFO Origing: (95.6053095889365, -170.54337777193, 77.9584521160262)\n"
     ]
    },
    {
     "name": "stderr",
     "output_type": "stream",
     "text": [
      "2018-09-30 20:21:13,021 INFO Spacing: (1.3671875, 1.3671875, 8.80000019073486)\n"
     ]
    },
    {
     "name": "stderr",
     "output_type": "stream",
     "text": [
      "2018-09-30 20:21:13,023 INFO Direction: (0.35055422664613933, -0.49599041606613836, -0.7944213248340369, 0.9148862287825855, 0.0, 0.40371176399007597, -0.20023716579223239, -0.8683279951553672, 0.4537748012670548)\n"
     ]
    },
    {
     "name": "stderr",
     "output_type": "stream",
     "text": [
      "2018-09-30 20:21:13,025 INFO Components: 1\n"
     ]
    },
    {
     "name": "stderr",
     "output_type": "stream",
     "text": [
      "2018-09-30 20:21:13,062 INFO Imagesize: (256, 256, 1)\n"
     ]
    },
    {
     "name": "stderr",
     "output_type": "stream",
     "text": [
      "2018-09-30 20:21:13,063 INFO Origing: (95.6053095889365, -170.54337777193, 77.9584521160262)\n"
     ]
    },
    {
     "name": "stderr",
     "output_type": "stream",
     "text": [
      "2018-09-30 20:21:13,065 INFO Spacing: (1.3671875, 1.3671875, 8.80000019073486)\n"
     ]
    },
    {
     "name": "stderr",
     "output_type": "stream",
     "text": [
      "2018-09-30 20:21:13,067 INFO Direction: (0.35055422664613933, -0.49599041606613836, -0.7944213248340369, 0.9148862287825855, 0.0, 0.40371176399007597, -0.20023716579223239, -0.8683279951553672, 0.4537748012670548)\n"
     ]
    },
    {
     "name": "stderr",
     "output_type": "stream",
     "text": [
      "2018-09-30 20:21:13,069 INFO Components: 1\n"
     ]
    },
    {
     "name": "stderr",
     "output_type": "stream",
     "text": [
      "2018-09-30 20:21:13,106 INFO Imagesize: (256, 256, 1)\n"
     ]
    },
    {
     "name": "stderr",
     "output_type": "stream",
     "text": [
      "2018-09-30 20:21:13,107 INFO Origing: (95.6053095889365, -170.54337777193, 77.9584521160262)\n"
     ]
    },
    {
     "name": "stderr",
     "output_type": "stream",
     "text": [
      "2018-09-30 20:21:13,109 INFO Spacing: (1.3671875, 1.3671875, 8.80000019073486)\n"
     ]
    },
    {
     "name": "stderr",
     "output_type": "stream",
     "text": [
      "2018-09-30 20:21:13,111 INFO Direction: (0.35055422664613933, -0.49599041606613836, -0.7944213248340369, 0.9148862287825855, 0.0, 0.40371176399007597, -0.20023716579223239, -0.8683279951553672, 0.4537748012670548)\n"
     ]
    },
    {
     "name": "stderr",
     "output_type": "stream",
     "text": [
      "2018-09-30 20:21:13,112 INFO Components: 1\n"
     ]
    },
    {
     "name": "stderr",
     "output_type": "stream",
     "text": [
      "2018-09-30 20:21:13,148 INFO Imagesize: (256, 256, 1)\n"
     ]
    },
    {
     "name": "stderr",
     "output_type": "stream",
     "text": [
      "2018-09-30 20:21:13,150 INFO Origing: (95.6053095889365, -170.54337777193, 77.9584521160262)\n"
     ]
    },
    {
     "name": "stderr",
     "output_type": "stream",
     "text": [
      "2018-09-30 20:21:13,153 INFO Spacing: (1.3671875, 1.3671875, 8.80000019073486)\n"
     ]
    },
    {
     "name": "stderr",
     "output_type": "stream",
     "text": [
      "2018-09-30 20:21:13,154 INFO Direction: (0.35055422664613933, -0.49599041606613836, -0.7944213248340369, 0.9148862287825855, 0.0, 0.40371176399007597, -0.20023716579223239, -0.8683279951553672, 0.4537748012670548)\n"
     ]
    },
    {
     "name": "stderr",
     "output_type": "stream",
     "text": [
      "2018-09-30 20:21:13,155 INFO Components: 1\n"
     ]
    },
    {
     "name": "stderr",
     "output_type": "stream",
     "text": [
      "2018-09-30 20:21:13,192 INFO Imagesize: (256, 256, 1)\n"
     ]
    },
    {
     "name": "stderr",
     "output_type": "stream",
     "text": [
      "2018-09-30 20:21:13,193 INFO Origing: (95.6053095889365, -170.54337777193, 77.9584521160262)\n"
     ]
    },
    {
     "name": "stderr",
     "output_type": "stream",
     "text": [
      "2018-09-30 20:21:13,195 INFO Spacing: (1.3671875, 1.3671875, 8.80000019073486)\n"
     ]
    },
    {
     "name": "stderr",
     "output_type": "stream",
     "text": [
      "2018-09-30 20:21:13,197 INFO Direction: (0.35055422664613933, -0.49599041606613836, -0.7944213248340369, 0.9148862287825855, 0.0, 0.40371176399007597, -0.20023716579223239, -0.8683279951553672, 0.4537748012670548)\n"
     ]
    },
    {
     "name": "stderr",
     "output_type": "stream",
     "text": [
      "2018-09-30 20:21:13,198 INFO Components: 1\n"
     ]
    },
    {
     "name": "stderr",
     "output_type": "stream",
     "text": [
      "2018-09-30 20:21:13,237 INFO Imagesize: (256, 256, 1)\n"
     ]
    },
    {
     "name": "stderr",
     "output_type": "stream",
     "text": [
      "2018-09-30 20:21:13,238 INFO Origing: (95.6053095889365, -170.54337777193, 77.9584521160262)\n"
     ]
    },
    {
     "name": "stderr",
     "output_type": "stream",
     "text": [
      "2018-09-30 20:21:13,241 INFO Spacing: (1.3671875, 1.3671875, 8.80000019073486)\n"
     ]
    },
    {
     "name": "stderr",
     "output_type": "stream",
     "text": [
      "2018-09-30 20:21:13,243 INFO Direction: (0.35055422664613933, -0.49599041606613836, -0.7944213248340369, 0.9148862287825855, 0.0, 0.40371176399007597, -0.20023716579223239, -0.8683279951553672, 0.4537748012670548)\n"
     ]
    },
    {
     "name": "stderr",
     "output_type": "stream",
     "text": [
      "2018-09-30 20:21:13,245 INFO Components: 1\n"
     ]
    },
    {
     "name": "stderr",
     "output_type": "stream",
     "text": [
      "2018-09-30 20:21:13,280 INFO Imagesize: (256, 256, 1)\n"
     ]
    },
    {
     "name": "stderr",
     "output_type": "stream",
     "text": [
      "2018-09-30 20:21:13,283 INFO Origing: (88.6144000125205, -166.99071396883, 81.9516695842879)\n"
     ]
    },
    {
     "name": "stderr",
     "output_type": "stream",
     "text": [
      "2018-09-30 20:21:13,284 INFO Spacing: (1.3671875, 1.3671875, 8.80000019073486)\n"
     ]
    },
    {
     "name": "stderr",
     "output_type": "stream",
     "text": [
      "2018-09-30 20:21:13,286 INFO Direction: (0.35055422664613933, -0.49599041606613836, -0.7944213248340369, 0.9148862287825855, 0.0, 0.40371176399007597, -0.20023716579223239, -0.8683279951553672, 0.4537748012670548)\n"
     ]
    },
    {
     "name": "stderr",
     "output_type": "stream",
     "text": [
      "2018-09-30 20:21:13,288 INFO Components: 1\n"
     ]
    },
    {
     "name": "stderr",
     "output_type": "stream",
     "text": [
      "2018-09-30 20:21:13,327 INFO Imagesize: (256, 256, 1)\n"
     ]
    },
    {
     "name": "stderr",
     "output_type": "stream",
     "text": [
      "2018-09-30 20:21:13,329 INFO Origing: (88.6144000125205, -166.99071396883, 81.9516695842879)\n"
     ]
    },
    {
     "name": "stderr",
     "output_type": "stream",
     "text": [
      "2018-09-30 20:21:13,330 INFO Spacing: (1.3671875, 1.3671875, 8.80000019073486)\n"
     ]
    },
    {
     "name": "stderr",
     "output_type": "stream",
     "text": [
      "2018-09-30 20:21:13,333 INFO Direction: (0.35055422664613933, -0.49599041606613836, -0.7944213248340369, 0.9148862287825855, 0.0, 0.40371176399007597, -0.20023716579223239, -0.8683279951553672, 0.4537748012670548)\n"
     ]
    },
    {
     "name": "stderr",
     "output_type": "stream",
     "text": [
      "2018-09-30 20:21:13,334 INFO Components: 1\n"
     ]
    },
    {
     "name": "stderr",
     "output_type": "stream",
     "text": [
      "2018-09-30 20:21:13,372 INFO Imagesize: (256, 256, 1)\n"
     ]
    },
    {
     "name": "stderr",
     "output_type": "stream",
     "text": [
      "2018-09-30 20:21:13,374 INFO Origing: (88.6144000125205, -166.99071396883, 81.9516695842879)\n"
     ]
    },
    {
     "name": "stderr",
     "output_type": "stream",
     "text": [
      "2018-09-30 20:21:13,376 INFO Spacing: (1.3671875, 1.3671875, 8.80000019073486)\n"
     ]
    },
    {
     "name": "stderr",
     "output_type": "stream",
     "text": [
      "2018-09-30 20:21:13,378 INFO Direction: (0.35055422664613933, -0.49599041606613836, -0.7944213248340369, 0.9148862287825855, 0.0, 0.40371176399007597, -0.20023716579223239, -0.8683279951553672, 0.4537748012670548)\n"
     ]
    },
    {
     "name": "stderr",
     "output_type": "stream",
     "text": [
      "2018-09-30 20:21:13,380 INFO Components: 1\n"
     ]
    },
    {
     "name": "stderr",
     "output_type": "stream",
     "text": [
      "2018-09-30 20:21:13,416 INFO Imagesize: (256, 256, 1)\n"
     ]
    },
    {
     "name": "stderr",
     "output_type": "stream",
     "text": [
      "2018-09-30 20:21:13,418 INFO Origing: (88.6144000125205, -166.99071396883, 81.9516695842879)\n"
     ]
    },
    {
     "name": "stderr",
     "output_type": "stream",
     "text": [
      "2018-09-30 20:21:13,420 INFO Spacing: (1.3671875, 1.3671875, 8.80000019073486)\n"
     ]
    },
    {
     "name": "stderr",
     "output_type": "stream",
     "text": [
      "2018-09-30 20:21:13,422 INFO Direction: (0.35055422664613933, -0.49599041606613836, -0.7944213248340369, 0.9148862287825855, 0.0, 0.40371176399007597, -0.20023716579223239, -0.8683279951553672, 0.4537748012670548)\n"
     ]
    },
    {
     "name": "stderr",
     "output_type": "stream",
     "text": [
      "2018-09-30 20:21:13,424 INFO Components: 1\n"
     ]
    },
    {
     "name": "stderr",
     "output_type": "stream",
     "text": [
      "2018-09-30 20:21:13,463 INFO Imagesize: (256, 256, 1)\n"
     ]
    },
    {
     "name": "stderr",
     "output_type": "stream",
     "text": [
      "2018-09-30 20:21:13,464 INFO Origing: (88.6144000125205, -166.99071396883, 81.9516695842879)\n"
     ]
    },
    {
     "name": "stderr",
     "output_type": "stream",
     "text": [
      "2018-09-30 20:21:13,467 INFO Spacing: (1.3671875, 1.3671875, 8.80000019073486)\n"
     ]
    },
    {
     "name": "stderr",
     "output_type": "stream",
     "text": [
      "2018-09-30 20:21:13,469 INFO Direction: (0.35055422664613933, -0.49599041606613836, -0.7944213248340369, 0.9148862287825855, 0.0, 0.40371176399007597, -0.20023716579223239, -0.8683279951553672, 0.4537748012670548)\n"
     ]
    },
    {
     "name": "stderr",
     "output_type": "stream",
     "text": [
      "2018-09-30 20:21:13,471 INFO Components: 1\n"
     ]
    },
    {
     "name": "stderr",
     "output_type": "stream",
     "text": [
      "2018-09-30 20:21:13,504 INFO Imagesize: (256, 256, 1)\n"
     ]
    },
    {
     "name": "stderr",
     "output_type": "stream",
     "text": [
      "2018-09-30 20:21:13,506 INFO Origing: (88.6144000125205, -166.99071396883, 81.9516695842879)\n"
     ]
    },
    {
     "name": "stderr",
     "output_type": "stream",
     "text": [
      "2018-09-30 20:21:13,509 INFO Spacing: (1.3671875, 1.3671875, 8.80000019073486)\n"
     ]
    },
    {
     "name": "stderr",
     "output_type": "stream",
     "text": [
      "2018-09-30 20:21:13,510 INFO Direction: (0.35055422664613933, -0.49599041606613836, -0.7944213248340369, 0.9148862287825855, 0.0, 0.40371176399007597, -0.20023716579223239, -0.8683279951553672, 0.4537748012670548)\n"
     ]
    },
    {
     "name": "stderr",
     "output_type": "stream",
     "text": [
      "2018-09-30 20:21:13,512 INFO Components: 1\n"
     ]
    },
    {
     "name": "stderr",
     "output_type": "stream",
     "text": [
      "2018-09-30 20:21:13,518 DEBUG Trying to save to data/processed/sumarized/0706-ZY8H5791-2005-06-16/\n"
     ]
    },
    {
     "name": "stderr",
     "output_type": "stream",
     "text": [
      "2018-09-30 20:21:13,555 DEBUG update_title_pos\n"
     ]
    },
    {
     "name": "stderr",
     "output_type": "stream",
     "text": [
      "2018-09-30 20:21:13,584 DEBUG update_title_pos\n"
     ]
    },
    {
     "name": "stderr",
     "output_type": "stream",
     "text": [
      "2018-09-30 20:21:13,601 DEBUG update_title_pos\n"
     ]
    },
    {
     "name": "stderr",
     "output_type": "stream",
     "text": [
      "2018-09-30 20:21:13,620 DEBUG update_title_pos\n"
     ]
    },
    {
     "name": "stderr",
     "output_type": "stream",
     "text": [
      "2018-09-30 20:21:13,640 DEBUG update_title_pos\n"
     ]
    },
    {
     "name": "stderr",
     "output_type": "stream",
     "text": [
      "2018-09-30 20:21:13,658 DEBUG update_title_pos\n"
     ]
    },
    {
     "name": "stderr",
     "output_type": "stream",
     "text": [
      "2018-09-30 20:21:13,677 DEBUG update_title_pos\n"
     ]
    },
    {
     "name": "stderr",
     "output_type": "stream",
     "text": [
      "2018-09-30 20:21:13,695 DEBUG update_title_pos\n"
     ]
    },
    {
     "name": "stderr",
     "output_type": "stream",
     "text": [
      "2018-09-30 20:21:13,717 DEBUG update_title_pos\n"
     ]
    },
    {
     "name": "stderr",
     "output_type": "stream",
     "text": [
      "2018-09-30 20:21:13,736 DEBUG update_title_pos\n"
     ]
    },
    {
     "name": "stderr",
     "output_type": "stream",
     "text": [
      "2018-09-30 20:21:13,755 DEBUG update_title_pos\n"
     ]
    },
    {
     "name": "stderr",
     "output_type": "stream",
     "text": [
      "2018-09-30 20:21:13,773 DEBUG update_title_pos\n"
     ]
    },
    {
     "name": "stderr",
     "output_type": "stream",
     "text": [
      "2018-09-30 20:21:13,794 DEBUG update_title_pos\n"
     ]
    },
    {
     "name": "stderr",
     "output_type": "stream",
     "text": [
      "2018-09-30 20:21:13,813 DEBUG update_title_pos\n"
     ]
    },
    {
     "name": "stderr",
     "output_type": "stream",
     "text": [
      "2018-09-30 20:21:13,832 DEBUG update_title_pos\n"
     ]
    },
    {
     "name": "stderr",
     "output_type": "stream",
     "text": [
      "2018-09-30 20:21:13,851 DEBUG update_title_pos\n"
     ]
    },
    {
     "name": "stderr",
     "output_type": "stream",
     "text": [
      "2018-09-30 20:21:13,871 DEBUG update_title_pos\n"
     ]
    },
    {
     "name": "stderr",
     "output_type": "stream",
     "text": [
      "2018-09-30 20:21:13,891 DEBUG update_title_pos\n"
     ]
    },
    {
     "name": "stderr",
     "output_type": "stream",
     "text": [
      "2018-09-30 20:21:13,909 DEBUG update_title_pos\n"
     ]
    },
    {
     "name": "stderr",
     "output_type": "stream",
     "text": [
      "2018-09-30 20:21:13,928 DEBUG update_title_pos\n"
     ]
    },
    {
     "name": "stderr",
     "output_type": "stream",
     "text": [
      "2018-09-30 20:21:13,948 DEBUG update_title_pos\n"
     ]
    },
    {
     "name": "stderr",
     "output_type": "stream",
     "text": [
      "2018-09-30 20:21:13,967 DEBUG update_title_pos\n"
     ]
    },
    {
     "name": "stderr",
     "output_type": "stream",
     "text": [
      "2018-09-30 20:21:13,986 DEBUG update_title_pos\n"
     ]
    },
    {
     "name": "stderr",
     "output_type": "stream",
     "text": [
      "2018-09-30 20:21:14,006 DEBUG update_title_pos\n"
     ]
    },
    {
     "name": "stderr",
     "output_type": "stream",
     "text": [
      "2018-09-30 20:21:14,025 DEBUG update_title_pos\n"
     ]
    },
    {
     "name": "stderr",
     "output_type": "stream",
     "text": [
      "2018-09-30 20:21:14,043 DEBUG update_title_pos\n"
     ]
    },
    {
     "name": "stderr",
     "output_type": "stream",
     "text": [
      "2018-09-30 20:21:14,062 DEBUG update_title_pos\n"
     ]
    },
    {
     "name": "stderr",
     "output_type": "stream",
     "text": [
      "2018-09-30 20:21:14,083 DEBUG update_title_pos\n"
     ]
    },
    {
     "name": "stderr",
     "output_type": "stream",
     "text": [
      "2018-09-30 20:21:14,103 DEBUG update_title_pos\n"
     ]
    },
    {
     "name": "stderr",
     "output_type": "stream",
     "text": [
      "2018-09-30 20:21:14,121 DEBUG update_title_pos\n"
     ]
    },
    {
     "name": "stderr",
     "output_type": "stream",
     "text": [
      "2018-09-30 20:21:14,140 DEBUG update_title_pos\n"
     ]
    },
    {
     "name": "stderr",
     "output_type": "stream",
     "text": [
      "2018-09-30 20:21:14,159 DEBUG update_title_pos\n"
     ]
    },
    {
     "name": "stderr",
     "output_type": "stream",
     "text": [
      "2018-09-30 20:21:14,183 DEBUG update_title_pos\n"
     ]
    },
    {
     "name": "stderr",
     "output_type": "stream",
     "text": [
      "2018-09-30 20:21:14,205 DEBUG update_title_pos\n"
     ]
    },
    {
     "name": "stderr",
     "output_type": "stream",
     "text": [
      "2018-09-30 20:21:14,226 DEBUG update_title_pos\n"
     ]
    },
    {
     "name": "stderr",
     "output_type": "stream",
     "text": [
      "2018-09-30 20:21:14,246 DEBUG update_title_pos\n"
     ]
    },
    {
     "name": "stderr",
     "output_type": "stream",
     "text": [
      "2018-09-30 20:21:16,423 DEBUG Image saved: data/processed/sumarized/0706-ZY8H5791-2005-06-16/1.3.46.670589.11.0.0.11.4.2.0.5167.5.4188.2005061614385196347_1.png\n"
     ]
    },
    {
     "name": "stderr",
     "output_type": "stream",
     "text": [
      "2018-09-30 20:21:16,502 INFO files: 36\n"
     ]
    },
    {
     "name": "stderr",
     "output_type": "stream",
     "text": [
      "2018-09-30 20:21:16,504 INFO Gridsize: 6 rows x 6 columns\n"
     ]
    },
    {
     "name": "stderr",
     "output_type": "stream",
     "text": [
      "2018-09-30 20:21:16,663 INFO Imagesize: (256, 256, 1)\n"
     ]
    },
    {
     "name": "stderr",
     "output_type": "stream",
     "text": [
      "2018-09-30 20:21:16,665 INFO Origing: (-121.89307234124, -140.69259539428, -44.249044788004)\n"
     ]
    },
    {
     "name": "stderr",
     "output_type": "stream",
     "text": [
      "2018-09-30 20:21:16,667 INFO Spacing: (1.171875, 1.171875, 6.0)\n"
     ]
    },
    {
     "name": "stderr",
     "output_type": "stream",
     "text": [
      "2018-09-30 20:21:16,669 INFO Direction: (0.9377259686095734, -0.01155596139150009, -0.347183622239811, 3.017325105048063e-11, 0.9994465186017673, -0.03326644638081255, 0.3473758883331393, 0.031194810644170227, 0.9372069547296566)\n"
     ]
    },
    {
     "name": "stderr",
     "output_type": "stream",
     "text": [
      "2018-09-30 20:21:16,670 INFO Components: 1\n"
     ]
    },
    {
     "name": "stderr",
     "output_type": "stream",
     "text": [
      "2018-09-30 20:21:16,704 INFO Imagesize: (256, 256, 1)\n"
     ]
    },
    {
     "name": "stderr",
     "output_type": "stream",
     "text": [
      "2018-09-30 20:21:16,706 INFO Origing: (-121.89307234124, -140.69259539428, -44.249044788004)\n"
     ]
    },
    {
     "name": "stderr",
     "output_type": "stream",
     "text": [
      "2018-09-30 20:21:16,708 INFO Spacing: (1.171875, 1.171875, 6.0)\n"
     ]
    },
    {
     "name": "stderr",
     "output_type": "stream",
     "text": [
      "2018-09-30 20:21:16,710 INFO Direction: (0.9377259686095734, -0.01155596139150009, -0.347183622239811, 3.017325105048063e-11, 0.9994465186017673, -0.03326644638081255, 0.3473758883331393, 0.031194810644170227, 0.9372069547296566)\n"
     ]
    },
    {
     "name": "stderr",
     "output_type": "stream",
     "text": [
      "2018-09-30 20:21:16,712 INFO Components: 1\n"
     ]
    },
    {
     "name": "stderr",
     "output_type": "stream",
     "text": [
      "2018-09-30 20:21:16,742 INFO Imagesize: (256, 256, 1)\n"
     ]
    },
    {
     "name": "stderr",
     "output_type": "stream",
     "text": [
      "2018-09-30 20:21:16,743 INFO Origing: (-121.89307234124, -140.69259539428, -44.249044788004)\n"
     ]
    },
    {
     "name": "stderr",
     "output_type": "stream",
     "text": [
      "2018-09-30 20:21:16,745 INFO Spacing: (1.171875, 1.171875, 6.0)\n"
     ]
    },
    {
     "name": "stderr",
     "output_type": "stream",
     "text": [
      "2018-09-30 20:21:16,747 INFO Direction: (0.9377259686095734, -0.01155596139150009, -0.347183622239811, 3.017325105048063e-11, 0.9994465186017673, -0.03326644638081255, 0.3473758883331393, 0.031194810644170227, 0.9372069547296566)\n"
     ]
    },
    {
     "name": "stderr",
     "output_type": "stream",
     "text": [
      "2018-09-30 20:21:16,751 INFO Components: 1\n"
     ]
    },
    {
     "name": "stderr",
     "output_type": "stream",
     "text": [
      "2018-09-30 20:21:16,783 INFO Imagesize: (256, 256, 1)\n"
     ]
    },
    {
     "name": "stderr",
     "output_type": "stream",
     "text": [
      "2018-09-30 20:21:16,785 INFO Origing: (-121.89307234124, -140.69259539428, -44.249044788004)\n"
     ]
    },
    {
     "name": "stderr",
     "output_type": "stream",
     "text": [
      "2018-09-30 20:21:16,787 INFO Spacing: (1.171875, 1.171875, 6.0)\n"
     ]
    },
    {
     "name": "stderr",
     "output_type": "stream",
     "text": [
      "2018-09-30 20:21:16,789 INFO Direction: (0.9377259686095734, -0.01155596139150009, -0.347183622239811, 3.017325105048063e-11, 0.9994465186017673, -0.03326644638081255, 0.3473758883331393, 0.031194810644170227, 0.9372069547296566)\n"
     ]
    },
    {
     "name": "stderr",
     "output_type": "stream",
     "text": [
      "2018-09-30 20:21:16,790 INFO Components: 1\n"
     ]
    },
    {
     "name": "stderr",
     "output_type": "stream",
     "text": [
      "2018-09-30 20:21:16,821 INFO Imagesize: (256, 256, 1)\n"
     ]
    },
    {
     "name": "stderr",
     "output_type": "stream",
     "text": [
      "2018-09-30 20:21:16,823 INFO Origing: (-121.89307234124, -140.69259539428, -44.249044788004)\n"
     ]
    },
    {
     "name": "stderr",
     "output_type": "stream",
     "text": [
      "2018-09-30 20:21:16,825 INFO Spacing: (1.171875, 1.171875, 6.0)\n"
     ]
    },
    {
     "name": "stderr",
     "output_type": "stream",
     "text": [
      "2018-09-30 20:21:16,828 INFO Direction: (0.9377259686095734, -0.01155596139150009, -0.347183622239811, 3.017325105048063e-11, 0.9994465186017673, -0.03326644638081255, 0.3473758883331393, 0.031194810644170227, 0.9372069547296566)\n"
     ]
    },
    {
     "name": "stderr",
     "output_type": "stream",
     "text": [
      "2018-09-30 20:21:16,830 INFO Components: 1\n"
     ]
    },
    {
     "name": "stderr",
     "output_type": "stream",
     "text": [
      "2018-09-30 20:21:16,861 INFO Imagesize: (256, 256, 1)\n"
     ]
    },
    {
     "name": "stderr",
     "output_type": "stream",
     "text": [
      "2018-09-30 20:21:16,863 INFO Origing: (-121.89307234124, -140.69259539428, -44.249044788004)\n"
     ]
    },
    {
     "name": "stderr",
     "output_type": "stream",
     "text": [
      "2018-09-30 20:21:16,864 INFO Spacing: (1.171875, 1.171875, 6.0)\n"
     ]
    },
    {
     "name": "stderr",
     "output_type": "stream",
     "text": [
      "2018-09-30 20:21:16,866 INFO Direction: (0.9377259686095734, -0.01155596139150009, -0.347183622239811, 3.017325105048063e-11, 0.9994465186017673, -0.03326644638081255, 0.3473758883331393, 0.031194810644170227, 0.9372069547296566)\n"
     ]
    },
    {
     "name": "stderr",
     "output_type": "stream",
     "text": [
      "2018-09-30 20:21:16,868 INFO Components: 1\n"
     ]
    },
    {
     "name": "stderr",
     "output_type": "stream",
     "text": [
      "2018-09-30 20:21:16,901 INFO Imagesize: (256, 256, 1)\n"
     ]
    },
    {
     "name": "stderr",
     "output_type": "stream",
     "text": [
      "2018-09-30 20:21:16,903 INFO Origing: (-121.89307234124, -140.69259539428, -44.249044788004)\n"
     ]
    },
    {
     "name": "stderr",
     "output_type": "stream",
     "text": [
      "2018-09-30 20:21:16,904 INFO Spacing: (1.171875, 1.171875, 6.0)\n"
     ]
    },
    {
     "name": "stderr",
     "output_type": "stream",
     "text": [
      "2018-09-30 20:21:16,906 INFO Direction: (0.9377259686095734, -0.01155596139150009, -0.347183622239811, 3.017325105048063e-11, 0.9994465186017673, -0.03326644638081255, 0.3473758883331393, 0.031194810644170227, 0.9372069547296566)\n"
     ]
    },
    {
     "name": "stderr",
     "output_type": "stream",
     "text": [
      "2018-09-30 20:21:16,908 INFO Components: 1\n"
     ]
    },
    {
     "name": "stderr",
     "output_type": "stream",
     "text": [
      "2018-09-30 20:21:16,943 INFO Imagesize: (256, 256, 1)\n"
     ]
    },
    {
     "name": "stderr",
     "output_type": "stream",
     "text": [
      "2018-09-30 20:21:16,945 INFO Origing: (-121.89307234124, -140.69259539428, -44.249044788004)\n"
     ]
    },
    {
     "name": "stderr",
     "output_type": "stream",
     "text": [
      "2018-09-30 20:21:16,948 INFO Spacing: (1.171875, 1.171875, 6.0)\n"
     ]
    },
    {
     "name": "stderr",
     "output_type": "stream",
     "text": [
      "2018-09-30 20:21:16,949 INFO Direction: (0.9377259686095734, -0.01155596139150009, -0.347183622239811, 3.017325105048063e-11, 0.9994465186017673, -0.03326644638081255, 0.3473758883331393, 0.031194810644170227, 0.9372069547296566)\n"
     ]
    },
    {
     "name": "stderr",
     "output_type": "stream",
     "text": [
      "2018-09-30 20:21:16,951 INFO Components: 1\n"
     ]
    },
    {
     "name": "stderr",
     "output_type": "stream",
     "text": [
      "2018-09-30 20:21:16,984 INFO Imagesize: (256, 256, 1)\n"
     ]
    },
    {
     "name": "stderr",
     "output_type": "stream",
     "text": [
      "2018-09-30 20:21:16,986 INFO Origing: (-121.89307234124, -140.69259539428, -44.249044788004)\n"
     ]
    },
    {
     "name": "stderr",
     "output_type": "stream",
     "text": [
      "2018-09-30 20:21:16,988 INFO Spacing: (1.171875, 1.171875, 6.0)\n"
     ]
    },
    {
     "name": "stderr",
     "output_type": "stream",
     "text": [
      "2018-09-30 20:21:16,990 INFO Direction: (0.9377259686095734, -0.01155596139150009, -0.347183622239811, 3.017325105048063e-11, 0.9994465186017673, -0.03326644638081255, 0.3473758883331393, 0.031194810644170227, 0.9372069547296566)\n"
     ]
    },
    {
     "name": "stderr",
     "output_type": "stream",
     "text": [
      "2018-09-30 20:21:16,992 INFO Components: 1\n"
     ]
    },
    {
     "name": "stderr",
     "output_type": "stream",
     "text": [
      "2018-09-30 20:21:17,024 INFO Imagesize: (256, 256, 1)\n"
     ]
    },
    {
     "name": "stderr",
     "output_type": "stream",
     "text": [
      "2018-09-30 20:21:17,025 INFO Origing: (-121.89307234124, -140.69259539428, -44.249044788004)\n"
     ]
    },
    {
     "name": "stderr",
     "output_type": "stream",
     "text": [
      "2018-09-30 20:21:17,027 INFO Spacing: (1.171875, 1.171875, 6.0)\n"
     ]
    },
    {
     "name": "stderr",
     "output_type": "stream",
     "text": [
      "2018-09-30 20:21:17,029 INFO Direction: (0.9377259686095734, -0.01155596139150009, -0.347183622239811, 3.017325105048063e-11, 0.9994465186017673, -0.03326644638081255, 0.3473758883331393, 0.031194810644170227, 0.9372069547296566)\n"
     ]
    },
    {
     "name": "stderr",
     "output_type": "stream",
     "text": [
      "2018-09-30 20:21:17,030 INFO Components: 1\n"
     ]
    },
    {
     "name": "stderr",
     "output_type": "stream",
     "text": [
      "2018-09-30 20:21:17,067 INFO Imagesize: (256, 256, 1)\n"
     ]
    },
    {
     "name": "stderr",
     "output_type": "stream",
     "text": [
      "2018-09-30 20:21:17,068 INFO Origing: (-121.89307234124, -140.69259539428, -44.249044788004)\n"
     ]
    },
    {
     "name": "stderr",
     "output_type": "stream",
     "text": [
      "2018-09-30 20:21:17,069 INFO Spacing: (1.171875, 1.171875, 6.0)\n"
     ]
    },
    {
     "name": "stderr",
     "output_type": "stream",
     "text": [
      "2018-09-30 20:21:17,071 INFO Direction: (0.9377259686095734, -0.01155596139150009, -0.347183622239811, 3.017325105048063e-11, 0.9994465186017673, -0.03326644638081255, 0.3473758883331393, 0.031194810644170227, 0.9372069547296566)\n"
     ]
    },
    {
     "name": "stderr",
     "output_type": "stream",
     "text": [
      "2018-09-30 20:21:17,073 INFO Components: 1\n"
     ]
    },
    {
     "name": "stderr",
     "output_type": "stream",
     "text": [
      "2018-09-30 20:21:17,107 INFO Imagesize: (256, 256, 1)\n"
     ]
    },
    {
     "name": "stderr",
     "output_type": "stream",
     "text": [
      "2018-09-30 20:21:17,108 INFO Origing: (-121.89307234124, -140.69259539428, -44.249044788004)\n"
     ]
    },
    {
     "name": "stderr",
     "output_type": "stream",
     "text": [
      "2018-09-30 20:21:17,110 INFO Spacing: (1.171875, 1.171875, 6.0)\n"
     ]
    },
    {
     "name": "stderr",
     "output_type": "stream",
     "text": [
      "2018-09-30 20:21:17,112 INFO Direction: (0.9377259686095734, -0.01155596139150009, -0.347183622239811, 3.017325105048063e-11, 0.9994465186017673, -0.03326644638081255, 0.3473758883331393, 0.031194810644170227, 0.9372069547296566)\n"
     ]
    },
    {
     "name": "stderr",
     "output_type": "stream",
     "text": [
      "2018-09-30 20:21:17,113 INFO Components: 1\n"
     ]
    },
    {
     "name": "stderr",
     "output_type": "stream",
     "text": [
      "2018-09-30 20:21:17,147 INFO Imagesize: (256, 256, 1)\n"
     ]
    },
    {
     "name": "stderr",
     "output_type": "stream",
     "text": [
      "2018-09-30 20:21:17,149 INFO Origing: (-121.89307234124, -140.69259539428, -44.249044788004)\n"
     ]
    },
    {
     "name": "stderr",
     "output_type": "stream",
     "text": [
      "2018-09-30 20:21:17,151 INFO Spacing: (1.171875, 1.171875, 6.0)\n"
     ]
    },
    {
     "name": "stderr",
     "output_type": "stream",
     "text": [
      "2018-09-30 20:21:17,152 INFO Direction: (0.9377259686095734, -0.01155596139150009, -0.347183622239811, 3.017325105048063e-11, 0.9994465186017673, -0.03326644638081255, 0.3473758883331393, 0.031194810644170227, 0.9372069547296566)\n"
     ]
    },
    {
     "name": "stderr",
     "output_type": "stream",
     "text": [
      "2018-09-30 20:21:17,154 INFO Components: 1\n"
     ]
    },
    {
     "name": "stderr",
     "output_type": "stream",
     "text": [
      "2018-09-30 20:21:17,188 INFO Imagesize: (256, 256, 1)\n"
     ]
    },
    {
     "name": "stderr",
     "output_type": "stream",
     "text": [
      "2018-09-30 20:21:17,190 INFO Origing: (-121.89307234124, -140.69259539428, -44.249044788004)\n"
     ]
    },
    {
     "name": "stderr",
     "output_type": "stream",
     "text": [
      "2018-09-30 20:21:17,192 INFO Spacing: (1.171875, 1.171875, 6.0)\n"
     ]
    },
    {
     "name": "stderr",
     "output_type": "stream",
     "text": [
      "2018-09-30 20:21:17,193 INFO Direction: (0.9377259686095734, -0.01155596139150009, -0.347183622239811, 3.017325105048063e-11, 0.9994465186017673, -0.03326644638081255, 0.3473758883331393, 0.031194810644170227, 0.9372069547296566)\n"
     ]
    },
    {
     "name": "stderr",
     "output_type": "stream",
     "text": [
      "2018-09-30 20:21:17,195 INFO Components: 1\n"
     ]
    },
    {
     "name": "stderr",
     "output_type": "stream",
     "text": [
      "2018-09-30 20:21:17,229 INFO Imagesize: (256, 256, 1)\n"
     ]
    },
    {
     "name": "stderr",
     "output_type": "stream",
     "text": [
      "2018-09-30 20:21:17,232 INFO Origing: (-121.89307234124, -140.69259539428, -44.249044788004)\n"
     ]
    },
    {
     "name": "stderr",
     "output_type": "stream",
     "text": [
      "2018-09-30 20:21:17,233 INFO Spacing: (1.171875, 1.171875, 6.0)\n"
     ]
    },
    {
     "name": "stderr",
     "output_type": "stream",
     "text": [
      "2018-09-30 20:21:17,234 INFO Direction: (0.9377259686095734, -0.01155596139150009, -0.347183622239811, 3.017325105048063e-11, 0.9994465186017673, -0.03326644638081255, 0.3473758883331393, 0.031194810644170227, 0.9372069547296566)\n"
     ]
    },
    {
     "name": "stderr",
     "output_type": "stream",
     "text": [
      "2018-09-30 20:21:17,238 INFO Components: 1\n"
     ]
    },
    {
     "name": "stderr",
     "output_type": "stream",
     "text": [
      "2018-09-30 20:21:17,271 INFO Imagesize: (256, 256, 1)\n"
     ]
    },
    {
     "name": "stderr",
     "output_type": "stream",
     "text": [
      "2018-09-30 20:21:17,273 INFO Origing: (-121.89307234124, -140.69259539428, -44.249044788004)\n"
     ]
    },
    {
     "name": "stderr",
     "output_type": "stream",
     "text": [
      "2018-09-30 20:21:17,275 INFO Spacing: (1.171875, 1.171875, 6.0)\n"
     ]
    },
    {
     "name": "stderr",
     "output_type": "stream",
     "text": [
      "2018-09-30 20:21:17,276 INFO Direction: (0.9377259686095734, -0.01155596139150009, -0.347183622239811, 3.017325105048063e-11, 0.9994465186017673, -0.03326644638081255, 0.3473758883331393, 0.031194810644170227, 0.9372069547296566)\n"
     ]
    },
    {
     "name": "stderr",
     "output_type": "stream",
     "text": [
      "2018-09-30 20:21:17,278 INFO Components: 1\n"
     ]
    },
    {
     "name": "stderr",
     "output_type": "stream",
     "text": [
      "2018-09-30 20:21:17,313 INFO Imagesize: (256, 256, 1)\n"
     ]
    },
    {
     "name": "stderr",
     "output_type": "stream",
     "text": [
      "2018-09-30 20:21:17,315 INFO Origing: (-121.89307234124, -140.69259539428, -44.249044788004)\n"
     ]
    },
    {
     "name": "stderr",
     "output_type": "stream",
     "text": [
      "2018-09-30 20:21:17,316 INFO Spacing: (1.171875, 1.171875, 6.0)\n"
     ]
    },
    {
     "name": "stderr",
     "output_type": "stream",
     "text": [
      "2018-09-30 20:21:17,318 INFO Direction: (0.9377259686095734, -0.01155596139150009, -0.347183622239811, 3.017325105048063e-11, 0.9994465186017673, -0.03326644638081255, 0.3473758883331393, 0.031194810644170227, 0.9372069547296566)\n"
     ]
    },
    {
     "name": "stderr",
     "output_type": "stream",
     "text": [
      "2018-09-30 20:21:17,321 INFO Components: 1\n"
     ]
    },
    {
     "name": "stderr",
     "output_type": "stream",
     "text": [
      "2018-09-30 20:21:17,353 INFO Imagesize: (256, 256, 1)\n"
     ]
    },
    {
     "name": "stderr",
     "output_type": "stream",
     "text": [
      "2018-09-30 20:21:17,355 INFO Origing: (-121.89307234124, -140.69259539428, -44.249044788004)\n"
     ]
    },
    {
     "name": "stderr",
     "output_type": "stream",
     "text": [
      "2018-09-30 20:21:17,357 INFO Spacing: (1.171875, 1.171875, 6.0)\n"
     ]
    },
    {
     "name": "stderr",
     "output_type": "stream",
     "text": [
      "2018-09-30 20:21:17,358 INFO Direction: (0.9377259686095734, -0.01155596139150009, -0.347183622239811, 3.017325105048063e-11, 0.9994465186017673, -0.03326644638081255, 0.3473758883331393, 0.031194810644170227, 0.9372069547296566)\n"
     ]
    },
    {
     "name": "stderr",
     "output_type": "stream",
     "text": [
      "2018-09-30 20:21:17,360 INFO Components: 1\n"
     ]
    },
    {
     "name": "stderr",
     "output_type": "stream",
     "text": [
      "2018-09-30 20:21:17,393 INFO Imagesize: (256, 256, 1)\n"
     ]
    },
    {
     "name": "stderr",
     "output_type": "stream",
     "text": [
      "2018-09-30 20:21:17,395 INFO Origing: (-121.89307234124, -140.69259539428, -44.249044788004)\n"
     ]
    },
    {
     "name": "stderr",
     "output_type": "stream",
     "text": [
      "2018-09-30 20:21:17,397 INFO Spacing: (1.171875, 1.171875, 6.0)\n"
     ]
    },
    {
     "name": "stderr",
     "output_type": "stream",
     "text": [
      "2018-09-30 20:21:17,398 INFO Direction: (0.9377259686095734, -0.01155596139150009, -0.347183622239811, 3.017325105048063e-11, 0.9994465186017673, -0.03326644638081255, 0.3473758883331393, 0.031194810644170227, 0.9372069547296566)\n"
     ]
    },
    {
     "name": "stderr",
     "output_type": "stream",
     "text": [
      "2018-09-30 20:21:17,400 INFO Components: 1\n"
     ]
    },
    {
     "name": "stderr",
     "output_type": "stream",
     "text": [
      "2018-09-30 20:21:17,436 INFO Imagesize: (256, 256, 1)\n"
     ]
    },
    {
     "name": "stderr",
     "output_type": "stream",
     "text": [
      "2018-09-30 20:21:17,438 INFO Origing: (-121.89307234124, -140.69259539428, -44.249044788004)\n"
     ]
    },
    {
     "name": "stderr",
     "output_type": "stream",
     "text": [
      "2018-09-30 20:21:17,440 INFO Spacing: (1.171875, 1.171875, 6.0)\n"
     ]
    },
    {
     "name": "stderr",
     "output_type": "stream",
     "text": [
      "2018-09-30 20:21:17,441 INFO Direction: (0.9377259686095734, -0.01155596139150009, -0.347183622239811, 3.017325105048063e-11, 0.9994465186017673, -0.03326644638081255, 0.3473758883331393, 0.031194810644170227, 0.9372069547296566)\n"
     ]
    },
    {
     "name": "stderr",
     "output_type": "stream",
     "text": [
      "2018-09-30 20:21:17,446 INFO Components: 1\n"
     ]
    },
    {
     "name": "stderr",
     "output_type": "stream",
     "text": [
      "2018-09-30 20:21:17,480 INFO Imagesize: (256, 256, 1)\n"
     ]
    },
    {
     "name": "stderr",
     "output_type": "stream",
     "text": [
      "2018-09-30 20:21:17,481 INFO Origing: (-121.89307234124, -140.69259539428, -44.249044788004)\n"
     ]
    },
    {
     "name": "stderr",
     "output_type": "stream",
     "text": [
      "2018-09-30 20:21:17,483 INFO Spacing: (1.171875, 1.171875, 6.0)\n"
     ]
    },
    {
     "name": "stderr",
     "output_type": "stream",
     "text": [
      "2018-09-30 20:21:17,486 INFO Direction: (0.9377259686095734, -0.01155596139150009, -0.347183622239811, 3.017325105048063e-11, 0.9994465186017673, -0.03326644638081255, 0.3473758883331393, 0.031194810644170227, 0.9372069547296566)\n"
     ]
    },
    {
     "name": "stderr",
     "output_type": "stream",
     "text": [
      "2018-09-30 20:21:17,488 INFO Components: 1\n"
     ]
    },
    {
     "name": "stderr",
     "output_type": "stream",
     "text": [
      "2018-09-30 20:21:17,525 INFO Imagesize: (256, 256, 1)\n"
     ]
    },
    {
     "name": "stderr",
     "output_type": "stream",
     "text": [
      "2018-09-30 20:21:17,526 INFO Origing: (-121.89307234124, -140.69259539428, -44.249044788004)\n"
     ]
    },
    {
     "name": "stderr",
     "output_type": "stream",
     "text": [
      "2018-09-30 20:21:17,528 INFO Spacing: (1.171875, 1.171875, 6.0)\n"
     ]
    },
    {
     "name": "stderr",
     "output_type": "stream",
     "text": [
      "2018-09-30 20:21:17,529 INFO Direction: (0.9377259686095734, -0.01155596139150009, -0.347183622239811, 3.017325105048063e-11, 0.9994465186017673, -0.03326644638081255, 0.3473758883331393, 0.031194810644170227, 0.9372069547296566)\n"
     ]
    },
    {
     "name": "stderr",
     "output_type": "stream",
     "text": [
      "2018-09-30 20:21:17,530 INFO Components: 1\n"
     ]
    },
    {
     "name": "stderr",
     "output_type": "stream",
     "text": [
      "2018-09-30 20:21:17,565 INFO Imagesize: (256, 256, 1)\n"
     ]
    },
    {
     "name": "stderr",
     "output_type": "stream",
     "text": [
      "2018-09-30 20:21:17,567 INFO Origing: (-121.89307234124, -140.69259539428, -44.249044788004)\n"
     ]
    },
    {
     "name": "stderr",
     "output_type": "stream",
     "text": [
      "2018-09-30 20:21:17,568 INFO Spacing: (1.171875, 1.171875, 6.0)\n"
     ]
    },
    {
     "name": "stderr",
     "output_type": "stream",
     "text": [
      "2018-09-30 20:21:17,570 INFO Direction: (0.9377259686095734, -0.01155596139150009, -0.347183622239811, 3.017325105048063e-11, 0.9994465186017673, -0.03326644638081255, 0.3473758883331393, 0.031194810644170227, 0.9372069547296566)\n"
     ]
    },
    {
     "name": "stderr",
     "output_type": "stream",
     "text": [
      "2018-09-30 20:21:17,572 INFO Components: 1\n"
     ]
    },
    {
     "name": "stderr",
     "output_type": "stream",
     "text": [
      "2018-09-30 20:21:17,606 INFO Imagesize: (256, 256, 1)\n"
     ]
    },
    {
     "name": "stderr",
     "output_type": "stream",
     "text": [
      "2018-09-30 20:21:17,608 INFO Origing: (-121.89307234124, -140.69259539428, -44.249044788004)\n"
     ]
    },
    {
     "name": "stderr",
     "output_type": "stream",
     "text": [
      "2018-09-30 20:21:17,609 INFO Spacing: (1.171875, 1.171875, 6.0)\n"
     ]
    },
    {
     "name": "stderr",
     "output_type": "stream",
     "text": [
      "2018-09-30 20:21:17,611 INFO Direction: (0.9377259686095734, -0.01155596139150009, -0.347183622239811, 3.017325105048063e-11, 0.9994465186017673, -0.03326644638081255, 0.3473758883331393, 0.031194810644170227, 0.9372069547296566)\n"
     ]
    },
    {
     "name": "stderr",
     "output_type": "stream",
     "text": [
      "2018-09-30 20:21:17,613 INFO Components: 1\n"
     ]
    },
    {
     "name": "stderr",
     "output_type": "stream",
     "text": [
      "2018-09-30 20:21:17,647 INFO Imagesize: (256, 256, 1)\n"
     ]
    },
    {
     "name": "stderr",
     "output_type": "stream",
     "text": [
      "2018-09-30 20:21:17,649 INFO Origing: (-121.89307234124, -140.69259539428, -44.249044788004)\n"
     ]
    },
    {
     "name": "stderr",
     "output_type": "stream",
     "text": [
      "2018-09-30 20:21:17,651 INFO Spacing: (1.171875, 1.171875, 6.0)\n"
     ]
    },
    {
     "name": "stderr",
     "output_type": "stream",
     "text": [
      "2018-09-30 20:21:17,652 INFO Direction: (0.9377259686095734, -0.01155596139150009, -0.347183622239811, 3.017325105048063e-11, 0.9994465186017673, -0.03326644638081255, 0.3473758883331393, 0.031194810644170227, 0.9372069547296566)\n"
     ]
    },
    {
     "name": "stderr",
     "output_type": "stream",
     "text": [
      "2018-09-30 20:21:17,654 INFO Components: 1\n"
     ]
    },
    {
     "name": "stderr",
     "output_type": "stream",
     "text": [
      "2018-09-30 20:21:17,689 INFO Imagesize: (256, 256, 1)\n"
     ]
    },
    {
     "name": "stderr",
     "output_type": "stream",
     "text": [
      "2018-09-30 20:21:17,692 INFO Origing: (-121.89307234124, -140.69259539428, -44.249044788004)\n"
     ]
    },
    {
     "name": "stderr",
     "output_type": "stream",
     "text": [
      "2018-09-30 20:21:17,694 INFO Spacing: (1.171875, 1.171875, 6.0)\n"
     ]
    },
    {
     "name": "stderr",
     "output_type": "stream",
     "text": [
      "2018-09-30 20:21:17,697 INFO Direction: (0.9377259686095734, -0.01155596139150009, -0.347183622239811, 3.017325105048063e-11, 0.9994465186017673, -0.03326644638081255, 0.3473758883331393, 0.031194810644170227, 0.9372069547296566)\n"
     ]
    },
    {
     "name": "stderr",
     "output_type": "stream",
     "text": [
      "2018-09-30 20:21:17,699 INFO Components: 1\n"
     ]
    },
    {
     "name": "stderr",
     "output_type": "stream",
     "text": [
      "2018-09-30 20:21:17,733 INFO Imagesize: (256, 256, 1)\n"
     ]
    },
    {
     "name": "stderr",
     "output_type": "stream",
     "text": [
      "2018-09-30 20:21:17,735 INFO Origing: (-121.89307234124, -140.69259539428, -44.249044788004)\n"
     ]
    },
    {
     "name": "stderr",
     "output_type": "stream",
     "text": [
      "2018-09-30 20:21:17,738 INFO Spacing: (1.171875, 1.171875, 6.0)\n"
     ]
    },
    {
     "name": "stderr",
     "output_type": "stream",
     "text": [
      "2018-09-30 20:21:17,739 INFO Direction: (0.9377259686095734, -0.01155596139150009, -0.347183622239811, 3.017325105048063e-11, 0.9994465186017673, -0.03326644638081255, 0.3473758883331393, 0.031194810644170227, 0.9372069547296566)\n"
     ]
    },
    {
     "name": "stderr",
     "output_type": "stream",
     "text": [
      "2018-09-30 20:21:17,741 INFO Components: 1\n"
     ]
    },
    {
     "name": "stderr",
     "output_type": "stream",
     "text": [
      "2018-09-30 20:21:17,777 INFO Imagesize: (256, 256, 1)\n"
     ]
    },
    {
     "name": "stderr",
     "output_type": "stream",
     "text": [
      "2018-09-30 20:21:17,778 INFO Origing: (-121.89307234124, -140.69259539428, -44.249044788004)\n"
     ]
    },
    {
     "name": "stderr",
     "output_type": "stream",
     "text": [
      "2018-09-30 20:21:17,781 INFO Spacing: (1.171875, 1.171875, 6.0)\n"
     ]
    },
    {
     "name": "stderr",
     "output_type": "stream",
     "text": [
      "2018-09-30 20:21:17,783 INFO Direction: (0.9377259686095734, -0.01155596139150009, -0.347183622239811, 3.017325105048063e-11, 0.9994465186017673, -0.03326644638081255, 0.3473758883331393, 0.031194810644170227, 0.9372069547296566)\n"
     ]
    },
    {
     "name": "stderr",
     "output_type": "stream",
     "text": [
      "2018-09-30 20:21:17,784 INFO Components: 1\n"
     ]
    },
    {
     "name": "stderr",
     "output_type": "stream",
     "text": [
      "2018-09-30 20:21:17,820 INFO Imagesize: (256, 256, 1)\n"
     ]
    },
    {
     "name": "stderr",
     "output_type": "stream",
     "text": [
      "2018-09-30 20:21:17,822 INFO Origing: (-121.89307234124, -140.69259539428, -44.249044788004)\n"
     ]
    },
    {
     "name": "stderr",
     "output_type": "stream",
     "text": [
      "2018-09-30 20:21:17,824 INFO Spacing: (1.171875, 1.171875, 6.0)\n"
     ]
    },
    {
     "name": "stderr",
     "output_type": "stream",
     "text": [
      "2018-09-30 20:21:17,825 INFO Direction: (0.9377259686095734, -0.01155596139150009, -0.347183622239811, 3.017325105048063e-11, 0.9994465186017673, -0.03326644638081255, 0.3473758883331393, 0.031194810644170227, 0.9372069547296566)\n"
     ]
    },
    {
     "name": "stderr",
     "output_type": "stream",
     "text": [
      "2018-09-30 20:21:17,827 INFO Components: 1\n"
     ]
    },
    {
     "name": "stderr",
     "output_type": "stream",
     "text": [
      "2018-09-30 20:21:17,859 INFO Imagesize: (256, 256, 1)\n"
     ]
    },
    {
     "name": "stderr",
     "output_type": "stream",
     "text": [
      "2018-09-30 20:21:17,861 INFO Origing: (-121.89307234124, -140.69259539428, -44.249044788004)\n"
     ]
    },
    {
     "name": "stderr",
     "output_type": "stream",
     "text": [
      "2018-09-30 20:21:17,863 INFO Spacing: (1.171875, 1.171875, 6.0)\n"
     ]
    },
    {
     "name": "stderr",
     "output_type": "stream",
     "text": [
      "2018-09-30 20:21:17,866 INFO Direction: (0.9377259686095734, -0.01155596139150009, -0.347183622239811, 3.017325105048063e-11, 0.9994465186017673, -0.03326644638081255, 0.3473758883331393, 0.031194810644170227, 0.9372069547296566)\n"
     ]
    },
    {
     "name": "stderr",
     "output_type": "stream",
     "text": [
      "2018-09-30 20:21:17,867 INFO Components: 1\n"
     ]
    },
    {
     "name": "stderr",
     "output_type": "stream",
     "text": [
      "2018-09-30 20:21:17,903 INFO Imagesize: (256, 256, 1)\n"
     ]
    },
    {
     "name": "stderr",
     "output_type": "stream",
     "text": [
      "2018-09-30 20:21:17,905 INFO Origing: (-121.89307234124, -140.69259539428, -44.249044788004)\n"
     ]
    },
    {
     "name": "stderr",
     "output_type": "stream",
     "text": [
      "2018-09-30 20:21:17,907 INFO Spacing: (1.171875, 1.171875, 6.0)\n"
     ]
    },
    {
     "name": "stderr",
     "output_type": "stream",
     "text": [
      "2018-09-30 20:21:17,909 INFO Direction: (0.9377259686095734, -0.01155596139150009, -0.347183622239811, 3.017325105048063e-11, 0.9994465186017673, -0.03326644638081255, 0.3473758883331393, 0.031194810644170227, 0.9372069547296566)\n"
     ]
    },
    {
     "name": "stderr",
     "output_type": "stream",
     "text": [
      "2018-09-30 20:21:17,911 INFO Components: 1\n"
     ]
    },
    {
     "name": "stderr",
     "output_type": "stream",
     "text": [
      "2018-09-30 20:21:17,943 INFO Imagesize: (256, 256, 1)\n"
     ]
    },
    {
     "name": "stderr",
     "output_type": "stream",
     "text": [
      "2018-09-30 20:21:17,945 INFO Origing: (-121.89307234124, -140.69259539428, -44.249044788004)\n"
     ]
    },
    {
     "name": "stderr",
     "output_type": "stream",
     "text": [
      "2018-09-30 20:21:17,946 INFO Spacing: (1.171875, 1.171875, 6.0)\n"
     ]
    },
    {
     "name": "stderr",
     "output_type": "stream",
     "text": [
      "2018-09-30 20:21:17,948 INFO Direction: (0.9377259686095734, -0.01155596139150009, -0.347183622239811, 3.017325105048063e-11, 0.9994465186017673, -0.03326644638081255, 0.3473758883331393, 0.031194810644170227, 0.9372069547296566)\n"
     ]
    },
    {
     "name": "stderr",
     "output_type": "stream",
     "text": [
      "2018-09-30 20:21:17,950 INFO Components: 1\n"
     ]
    },
    {
     "name": "stderr",
     "output_type": "stream",
     "text": [
      "2018-09-30 20:21:17,984 INFO Imagesize: (256, 256, 1)\n"
     ]
    },
    {
     "name": "stderr",
     "output_type": "stream",
     "text": [
      "2018-09-30 20:21:17,986 INFO Origing: (-121.89307234124, -140.69259539428, -44.249044788004)\n"
     ]
    },
    {
     "name": "stderr",
     "output_type": "stream",
     "text": [
      "2018-09-30 20:21:17,989 INFO Spacing: (1.171875, 1.171875, 6.0)\n"
     ]
    },
    {
     "name": "stderr",
     "output_type": "stream",
     "text": [
      "2018-09-30 20:21:17,991 INFO Direction: (0.9377259686095734, -0.01155596139150009, -0.347183622239811, 3.017325105048063e-11, 0.9994465186017673, -0.03326644638081255, 0.3473758883331393, 0.031194810644170227, 0.9372069547296566)\n"
     ]
    },
    {
     "name": "stderr",
     "output_type": "stream",
     "text": [
      "2018-09-30 20:21:17,993 INFO Components: 1\n"
     ]
    },
    {
     "name": "stderr",
     "output_type": "stream",
     "text": [
      "2018-09-30 20:21:18,028 INFO Imagesize: (256, 256, 1)\n"
     ]
    },
    {
     "name": "stderr",
     "output_type": "stream",
     "text": [
      "2018-09-30 20:21:18,030 INFO Origing: (-121.89307234124, -140.69259539428, -44.249044788004)\n"
     ]
    },
    {
     "name": "stderr",
     "output_type": "stream",
     "text": [
      "2018-09-30 20:21:18,032 INFO Spacing: (1.171875, 1.171875, 6.0)\n"
     ]
    },
    {
     "name": "stderr",
     "output_type": "stream",
     "text": [
      "2018-09-30 20:21:18,034 INFO Direction: (0.9377259686095734, -0.01155596139150009, -0.347183622239811, 3.017325105048063e-11, 0.9994465186017673, -0.03326644638081255, 0.3473758883331393, 0.031194810644170227, 0.9372069547296566)\n"
     ]
    },
    {
     "name": "stderr",
     "output_type": "stream",
     "text": [
      "2018-09-30 20:21:18,037 INFO Components: 1\n"
     ]
    },
    {
     "name": "stderr",
     "output_type": "stream",
     "text": [
      "2018-09-30 20:21:18,074 INFO Imagesize: (256, 256, 1)\n"
     ]
    },
    {
     "name": "stderr",
     "output_type": "stream",
     "text": [
      "2018-09-30 20:21:18,076 INFO Origing: (-121.89307234124, -140.69259539428, -44.249044788004)\n"
     ]
    },
    {
     "name": "stderr",
     "output_type": "stream",
     "text": [
      "2018-09-30 20:21:18,078 INFO Spacing: (1.171875, 1.171875, 6.0)\n"
     ]
    },
    {
     "name": "stderr",
     "output_type": "stream",
     "text": [
      "2018-09-30 20:21:18,080 INFO Direction: (0.9377259686095734, -0.01155596139150009, -0.347183622239811, 3.017325105048063e-11, 0.9994465186017673, -0.03326644638081255, 0.3473758883331393, 0.031194810644170227, 0.9372069547296566)\n"
     ]
    },
    {
     "name": "stderr",
     "output_type": "stream",
     "text": [
      "2018-09-30 20:21:18,081 INFO Components: 1\n"
     ]
    },
    {
     "name": "stderr",
     "output_type": "stream",
     "text": [
      "2018-09-30 20:21:18,115 INFO Imagesize: (256, 256, 1)\n"
     ]
    },
    {
     "name": "stderr",
     "output_type": "stream",
     "text": [
      "2018-09-30 20:21:18,118 INFO Origing: (-121.89307234124, -140.69259539428, -44.249044788004)\n"
     ]
    },
    {
     "name": "stderr",
     "output_type": "stream",
     "text": [
      "2018-09-30 20:21:18,119 INFO Spacing: (1.171875, 1.171875, 6.0)\n"
     ]
    },
    {
     "name": "stderr",
     "output_type": "stream",
     "text": [
      "2018-09-30 20:21:18,121 INFO Direction: (0.9377259686095734, -0.01155596139150009, -0.347183622239811, 3.017325105048063e-11, 0.9994465186017673, -0.03326644638081255, 0.3473758883331393, 0.031194810644170227, 0.9372069547296566)\n"
     ]
    },
    {
     "name": "stderr",
     "output_type": "stream",
     "text": [
      "2018-09-30 20:21:18,123 INFO Components: 1\n"
     ]
    },
    {
     "name": "stderr",
     "output_type": "stream",
     "text": [
      "2018-09-30 20:21:18,126 DEBUG Trying to save to data/processed/sumarized/0706-ZY8H5791-2005-06-16/\n"
     ]
    },
    {
     "name": "stderr",
     "output_type": "stream",
     "text": [
      "2018-09-30 20:21:18,142 DEBUG update_title_pos\n"
     ]
    },
    {
     "name": "stderr",
     "output_type": "stream",
     "text": [
      "2018-09-30 20:21:18,165 DEBUG update_title_pos\n"
     ]
    },
    {
     "name": "stderr",
     "output_type": "stream",
     "text": [
      "2018-09-30 20:21:18,184 DEBUG update_title_pos\n"
     ]
    },
    {
     "name": "stderr",
     "output_type": "stream",
     "text": [
      "2018-09-30 20:21:18,202 DEBUG update_title_pos\n"
     ]
    },
    {
     "name": "stderr",
     "output_type": "stream",
     "text": [
      "2018-09-30 20:21:18,220 DEBUG update_title_pos\n"
     ]
    },
    {
     "name": "stderr",
     "output_type": "stream",
     "text": [
      "2018-09-30 20:21:18,237 DEBUG update_title_pos\n"
     ]
    },
    {
     "name": "stderr",
     "output_type": "stream",
     "text": [
      "2018-09-30 20:21:18,255 DEBUG update_title_pos\n"
     ]
    },
    {
     "name": "stderr",
     "output_type": "stream",
     "text": [
      "2018-09-30 20:21:18,275 DEBUG update_title_pos\n"
     ]
    },
    {
     "name": "stderr",
     "output_type": "stream",
     "text": [
      "2018-09-30 20:21:18,295 DEBUG update_title_pos\n"
     ]
    },
    {
     "name": "stderr",
     "output_type": "stream",
     "text": [
      "2018-09-30 20:21:18,312 DEBUG update_title_pos\n"
     ]
    },
    {
     "name": "stderr",
     "output_type": "stream",
     "text": [
      "2018-09-30 20:21:18,331 DEBUG update_title_pos\n"
     ]
    },
    {
     "name": "stderr",
     "output_type": "stream",
     "text": [
      "2018-09-30 20:21:18,350 DEBUG update_title_pos\n"
     ]
    },
    {
     "name": "stderr",
     "output_type": "stream",
     "text": [
      "2018-09-30 20:21:18,374 DEBUG update_title_pos\n"
     ]
    },
    {
     "name": "stderr",
     "output_type": "stream",
     "text": [
      "2018-09-30 20:21:18,393 DEBUG update_title_pos\n"
     ]
    },
    {
     "name": "stderr",
     "output_type": "stream",
     "text": [
      "2018-09-30 20:21:18,412 DEBUG update_title_pos\n"
     ]
    },
    {
     "name": "stderr",
     "output_type": "stream",
     "text": [
      "2018-09-30 20:21:18,430 DEBUG update_title_pos\n"
     ]
    },
    {
     "name": "stderr",
     "output_type": "stream",
     "text": [
      "2018-09-30 20:21:18,452 DEBUG update_title_pos\n"
     ]
    },
    {
     "name": "stderr",
     "output_type": "stream",
     "text": [
      "2018-09-30 20:21:18,473 DEBUG update_title_pos\n"
     ]
    },
    {
     "name": "stderr",
     "output_type": "stream",
     "text": [
      "2018-09-30 20:21:18,491 DEBUG update_title_pos\n"
     ]
    },
    {
     "name": "stderr",
     "output_type": "stream",
     "text": [
      "2018-09-30 20:21:18,510 DEBUG update_title_pos\n"
     ]
    },
    {
     "name": "stderr",
     "output_type": "stream",
     "text": [
      "2018-09-30 20:21:18,528 DEBUG update_title_pos\n"
     ]
    },
    {
     "name": "stderr",
     "output_type": "stream",
     "text": [
      "2018-09-30 20:21:18,548 DEBUG update_title_pos\n"
     ]
    },
    {
     "name": "stderr",
     "output_type": "stream",
     "text": [
      "2018-09-30 20:21:18,567 DEBUG update_title_pos\n"
     ]
    },
    {
     "name": "stderr",
     "output_type": "stream",
     "text": [
      "2018-09-30 20:21:18,586 DEBUG update_title_pos\n"
     ]
    },
    {
     "name": "stderr",
     "output_type": "stream",
     "text": [
      "2018-09-30 20:21:18,605 DEBUG update_title_pos\n"
     ]
    },
    {
     "name": "stderr",
     "output_type": "stream",
     "text": [
      "2018-09-30 20:21:18,625 DEBUG update_title_pos\n"
     ]
    },
    {
     "name": "stderr",
     "output_type": "stream",
     "text": [
      "2018-09-30 20:21:18,643 DEBUG update_title_pos\n"
     ]
    },
    {
     "name": "stderr",
     "output_type": "stream",
     "text": [
      "2018-09-30 20:21:18,663 DEBUG update_title_pos\n"
     ]
    },
    {
     "name": "stderr",
     "output_type": "stream",
     "text": [
      "2018-09-30 20:21:18,682 DEBUG update_title_pos\n"
     ]
    },
    {
     "name": "stderr",
     "output_type": "stream",
     "text": [
      "2018-09-30 20:21:18,701 DEBUG update_title_pos\n"
     ]
    },
    {
     "name": "stderr",
     "output_type": "stream",
     "text": [
      "2018-09-30 20:21:18,719 DEBUG update_title_pos\n"
     ]
    },
    {
     "name": "stderr",
     "output_type": "stream",
     "text": [
      "2018-09-30 20:21:18,739 DEBUG update_title_pos\n"
     ]
    },
    {
     "name": "stderr",
     "output_type": "stream",
     "text": [
      "2018-09-30 20:21:18,759 DEBUG update_title_pos\n"
     ]
    },
    {
     "name": "stderr",
     "output_type": "stream",
     "text": [
      "2018-09-30 20:21:18,778 DEBUG update_title_pos\n"
     ]
    },
    {
     "name": "stderr",
     "output_type": "stream",
     "text": [
      "2018-09-30 20:21:18,797 DEBUG update_title_pos\n"
     ]
    },
    {
     "name": "stderr",
     "output_type": "stream",
     "text": [
      "2018-09-30 20:21:18,816 DEBUG update_title_pos\n"
     ]
    },
    {
     "name": "stderr",
     "output_type": "stream",
     "text": [
      "2018-09-30 20:21:21,995 DEBUG Image saved: data/processed/sumarized/0706-ZY8H5791-2005-06-16/1.3.46.670589.11.0.0.11.4.2.0.5167.5.4188.2005061614440812356_1.png\n"
     ]
    },
    {
     "name": "stderr",
     "output_type": "stream",
     "text": [
      "2018-09-30 20:21:22,074 INFO files: 36\n"
     ]
    },
    {
     "name": "stderr",
     "output_type": "stream",
     "text": [
      "2018-09-30 20:21:22,075 INFO Gridsize: 6 rows x 6 columns\n"
     ]
    },
    {
     "name": "stderr",
     "output_type": "stream",
     "text": [
      "2018-09-30 20:21:22,106 INFO Imagesize: (256, 256, 1)\n"
     ]
    },
    {
     "name": "stderr",
     "output_type": "stream",
     "text": [
      "2018-09-30 20:21:22,108 INFO Origing: (-110.01421543532, -68.453125352868, 112.718008703027)\n"
     ]
    },
    {
     "name": "stderr",
     "output_type": "stream",
     "text": [
      "2018-09-30 20:21:22,110 INFO Spacing: (1.25, 1.25, 7.0)\n"
     ]
    },
    {
     "name": "stderr",
     "output_type": "stream",
     "text": [
      "2018-09-30 20:21:22,112 INFO Direction: (0.9796810982484128, 0.0, -0.2005615759181806, 0.18433444509171878, 0.39404411527258254, 0.9004165966772137, 0.07903010874035435, -0.9190915271174293, 0.3860375716085677)\n"
     ]
    },
    {
     "name": "stderr",
     "output_type": "stream",
     "text": [
      "2018-09-30 20:21:22,115 INFO Components: 1\n"
     ]
    },
    {
     "name": "stderr",
     "output_type": "stream",
     "text": [
      "2018-09-30 20:21:22,149 INFO Imagesize: (256, 256, 1)\n"
     ]
    },
    {
     "name": "stderr",
     "output_type": "stream",
     "text": [
      "2018-09-30 20:21:22,151 INFO Origing: (-110.01421543532, -68.453125352868, 112.718008703027)\n"
     ]
    },
    {
     "name": "stderr",
     "output_type": "stream",
     "text": [
      "2018-09-30 20:21:22,153 INFO Spacing: (1.25, 1.25, 7.0)\n"
     ]
    },
    {
     "name": "stderr",
     "output_type": "stream",
     "text": [
      "2018-09-30 20:21:22,155 INFO Direction: (0.9796810982484128, 0.0, -0.2005615759181806, 0.18433444509171878, 0.39404411527258254, 0.9004165966772137, 0.07903010874035435, -0.9190915271174293, 0.3860375716085677)\n"
     ]
    },
    {
     "name": "stderr",
     "output_type": "stream",
     "text": [
      "2018-09-30 20:21:22,156 INFO Components: 1\n"
     ]
    },
    {
     "name": "stderr",
     "output_type": "stream",
     "text": [
      "2018-09-30 20:21:22,188 INFO Imagesize: (256, 256, 1)\n"
     ]
    },
    {
     "name": "stderr",
     "output_type": "stream",
     "text": [
      "2018-09-30 20:21:22,190 INFO Origing: (-110.01421543532, -68.453125352868, 112.718008703027)\n"
     ]
    },
    {
     "name": "stderr",
     "output_type": "stream",
     "text": [
      "2018-09-30 20:21:22,192 INFO Spacing: (1.25, 1.25, 7.0)\n"
     ]
    },
    {
     "name": "stderr",
     "output_type": "stream",
     "text": [
      "2018-09-30 20:21:22,193 INFO Direction: (0.9796810982484128, 0.0, -0.2005615759181806, 0.18433444509171878, 0.39404411527258254, 0.9004165966772137, 0.07903010874035435, -0.9190915271174293, 0.3860375716085677)\n"
     ]
    },
    {
     "name": "stderr",
     "output_type": "stream",
     "text": [
      "2018-09-30 20:21:22,195 INFO Components: 1\n"
     ]
    },
    {
     "name": "stderr",
     "output_type": "stream",
     "text": [
      "2018-09-30 20:21:22,226 INFO Imagesize: (256, 256, 1)\n"
     ]
    },
    {
     "name": "stderr",
     "output_type": "stream",
     "text": [
      "2018-09-30 20:21:22,227 INFO Origing: (-110.01421543532, -68.453125352868, 112.718008703027)\n"
     ]
    },
    {
     "name": "stderr",
     "output_type": "stream",
     "text": [
      "2018-09-30 20:21:22,229 INFO Spacing: (1.25, 1.25, 7.0)\n"
     ]
    },
    {
     "name": "stderr",
     "output_type": "stream",
     "text": [
      "2018-09-30 20:21:22,232 INFO Direction: (0.9796810982484128, 0.0, -0.2005615759181806, 0.18433444509171878, 0.39404411527258254, 0.9004165966772137, 0.07903010874035435, -0.9190915271174293, 0.3860375716085677)\n"
     ]
    },
    {
     "name": "stderr",
     "output_type": "stream",
     "text": [
      "2018-09-30 20:21:22,234 INFO Components: 1\n"
     ]
    },
    {
     "name": "stderr",
     "output_type": "stream",
     "text": [
      "2018-09-30 20:21:22,265 INFO Imagesize: (256, 256, 1)\n"
     ]
    },
    {
     "name": "stderr",
     "output_type": "stream",
     "text": [
      "2018-09-30 20:21:22,267 INFO Origing: (-110.01421543532, -68.453125352868, 112.718008703027)\n"
     ]
    },
    {
     "name": "stderr",
     "output_type": "stream",
     "text": [
      "2018-09-30 20:21:22,269 INFO Spacing: (1.25, 1.25, 7.0)\n"
     ]
    },
    {
     "name": "stderr",
     "output_type": "stream",
     "text": [
      "2018-09-30 20:21:22,271 INFO Direction: (0.9796810982484128, 0.0, -0.2005615759181806, 0.18433444509171878, 0.39404411527258254, 0.9004165966772137, 0.07903010874035435, -0.9190915271174293, 0.3860375716085677)\n"
     ]
    },
    {
     "name": "stderr",
     "output_type": "stream",
     "text": [
      "2018-09-30 20:21:22,275 INFO Components: 1\n"
     ]
    },
    {
     "name": "stderr",
     "output_type": "stream",
     "text": [
      "2018-09-30 20:21:22,308 INFO Imagesize: (256, 256, 1)"
     ]
    },
    {
     "name": "stderr",
     "output_type": "stream",
     "text": [
      "\n"
     ]
    },
    {
     "name": "stderr",
     "output_type": "stream",
     "text": [
      "2018-09-30 20:21:22,311 INFO Origing: (-110.01421543532, -68.453125352868, 112.718008703027)\n"
     ]
    },
    {
     "name": "stderr",
     "output_type": "stream",
     "text": [
      "2018-09-30 20:21:22,314 INFO Spacing: (1.25, 1.25, 7.0)\n"
     ]
    },
    {
     "name": "stderr",
     "output_type": "stream",
     "text": [
      "2018-09-30 20:21:22,316 INFO Direction: (0.9796810982484128, 0.0, -0.2005615759181806, 0.18433444509171878, 0.39404411527258254, 0.9004165966772137, 0.07903010874035435, -0.9190915271174293, 0.3860375716085677)\n"
     ]
    },
    {
     "name": "stderr",
     "output_type": "stream",
     "text": [
      "2018-09-30 20:21:22,318 INFO Components: 1\n"
     ]
    },
    {
     "name": "stderr",
     "output_type": "stream",
     "text": [
      "2018-09-30 20:21:22,351 INFO Imagesize: (256, 256, 1)\n"
     ]
    },
    {
     "name": "stderr",
     "output_type": "stream",
     "text": [
      "2018-09-30 20:21:22,353 INFO Origing: (-110.01421543532, -68.453125352868, 112.718008703027)\n"
     ]
    },
    {
     "name": "stderr",
     "output_type": "stream",
     "text": [
      "2018-09-30 20:21:22,356 INFO Spacing: (1.25, 1.25, 7.0)\n"
     ]
    },
    {
     "name": "stderr",
     "output_type": "stream",
     "text": [
      "2018-09-30 20:21:22,357 INFO Direction: (0.9796810982484128, 0.0, -0.2005615759181806, 0.18433444509171878, 0.39404411527258254, 0.9004165966772137, 0.07903010874035435, -0.9190915271174293, 0.3860375716085677)\n"
     ]
    },
    {
     "name": "stderr",
     "output_type": "stream",
     "text": [
      "2018-09-30 20:21:22,359 INFO Components: 1\n"
     ]
    },
    {
     "name": "stderr",
     "output_type": "stream",
     "text": [
      "2018-09-30 20:21:22,394 INFO Imagesize: (256, 256, 1)\n"
     ]
    },
    {
     "name": "stderr",
     "output_type": "stream",
     "text": [
      "2018-09-30 20:21:22,396 INFO Origing: (-110.01421543532, -68.453125352868, 112.718008703027)\n"
     ]
    },
    {
     "name": "stderr",
     "output_type": "stream",
     "text": [
      "2018-09-30 20:21:22,398 INFO Spacing: (1.25, 1.25, 7.0)\n"
     ]
    },
    {
     "name": "stderr",
     "output_type": "stream",
     "text": [
      "2018-09-30 20:21:22,399 INFO Direction: (0.9796810982484128, 0.0, -0.2005615759181806, 0.18433444509171878, 0.39404411527258254, 0.9004165966772137, 0.07903010874035435, -0.9190915271174293, 0.3860375716085677)\n"
     ]
    },
    {
     "name": "stderr",
     "output_type": "stream",
     "text": [
      "2018-09-30 20:21:22,401 INFO Components: 1\n"
     ]
    },
    {
     "name": "stderr",
     "output_type": "stream",
     "text": [
      "2018-09-30 20:21:22,433 INFO Imagesize: (256, 256, 1)\n"
     ]
    },
    {
     "name": "stderr",
     "output_type": "stream",
     "text": [
      "2018-09-30 20:21:22,435 INFO Origing: (-110.01421543532, -68.453125352868, 112.718008703027)\n"
     ]
    },
    {
     "name": "stderr",
     "output_type": "stream",
     "text": [
      "2018-09-30 20:21:22,437 INFO Spacing: (1.25, 1.25, 7.0)\n"
     ]
    },
    {
     "name": "stderr",
     "output_type": "stream",
     "text": [
      "2018-09-30 20:21:22,439 INFO Direction: (0.9796810982484128, 0.0, -0.2005615759181806, 0.18433444509171878, 0.39404411527258254, 0.9004165966772137, 0.07903010874035435, -0.9190915271174293, 0.3860375716085677)\n"
     ]
    },
    {
     "name": "stderr",
     "output_type": "stream",
     "text": [
      "2018-09-30 20:21:22,440 INFO Components: 1\n"
     ]
    },
    {
     "name": "stderr",
     "output_type": "stream",
     "text": [
      "2018-09-30 20:21:22,481 INFO Imagesize: (256, 256, 1)\n"
     ]
    },
    {
     "name": "stderr",
     "output_type": "stream",
     "text": [
      "2018-09-30 20:21:22,483 INFO Origing: (-110.01421543532, -68.453125352868, 112.718008703027)\n"
     ]
    },
    {
     "name": "stderr",
     "output_type": "stream",
     "text": [
      "2018-09-30 20:21:22,485 INFO Spacing: (1.25, 1.25, 7.0)\n"
     ]
    },
    {
     "name": "stderr",
     "output_type": "stream",
     "text": [
      "2018-09-30 20:21:22,487 INFO Direction: (0.9796810982484128, 0.0, -0.2005615759181806, 0.18433444509171878, 0.39404411527258254, 0.9004165966772137, 0.07903010874035435, -0.9190915271174293, 0.3860375716085677)\n"
     ]
    },
    {
     "name": "stderr",
     "output_type": "stream",
     "text": [
      "2018-09-30 20:21:22,489 INFO Components: 1\n"
     ]
    },
    {
     "name": "stderr",
     "output_type": "stream",
     "text": [
      "2018-09-30 20:21:22,525 INFO Imagesize: (256, 256, 1)\n"
     ]
    },
    {
     "name": "stderr",
     "output_type": "stream",
     "text": [
      "2018-09-30 20:21:22,526 INFO Origing: (-110.01421543532, -68.453125352868, 112.718008703027)\n"
     ]
    },
    {
     "name": "stderr",
     "output_type": "stream",
     "text": [
      "2018-09-30 20:21:22,528 INFO Spacing: (1.25, 1.25, 7.0)\n"
     ]
    },
    {
     "name": "stderr",
     "output_type": "stream",
     "text": [
      "2018-09-30 20:21:22,530 INFO Direction: (0.9796810982484128, 0.0, -0.2005615759181806, 0.18433444509171878, 0.39404411527258254, 0.9004165966772137, 0.07903010874035435, -0.9190915271174293, 0.3860375716085677)\n"
     ]
    },
    {
     "name": "stderr",
     "output_type": "stream",
     "text": [
      "2018-09-30 20:21:22,531 INFO Components: 1\n"
     ]
    },
    {
     "name": "stderr",
     "output_type": "stream",
     "text": [
      "2018-09-30 20:21:22,568 INFO Imagesize: (256, 256, 1)\n"
     ]
    },
    {
     "name": "stderr",
     "output_type": "stream",
     "text": [
      "2018-09-30 20:21:22,570 INFO Origing: (-110.01421543532, -68.453125352868, 112.718008703027)\n"
     ]
    },
    {
     "name": "stderr",
     "output_type": "stream",
     "text": [
      "2018-09-30 20:21:22,572 INFO Spacing: (1.25, 1.25, 7.0)\n"
     ]
    },
    {
     "name": "stderr",
     "output_type": "stream",
     "text": [
      "2018-09-30 20:21:22,576 INFO Direction: (0.9796810982484128, 0.0, -0.2005615759181806, 0.18433444509171878, 0.39404411527258254, 0.9004165966772137, 0.07903010874035435, -0.9190915271174293, 0.3860375716085677)\n"
     ]
    },
    {
     "name": "stderr",
     "output_type": "stream",
     "text": [
      "2018-09-30 20:21:22,577 INFO Components: 1\n"
     ]
    },
    {
     "name": "stderr",
     "output_type": "stream",
     "text": [
      "2018-09-30 20:21:22,615 INFO Imagesize: (256, 256, 1)\n"
     ]
    },
    {
     "name": "stderr",
     "output_type": "stream",
     "text": [
      "2018-09-30 20:21:22,617 INFO Origing: (-110.01421543532, -68.453125352868, 112.718008703027)\n"
     ]
    },
    {
     "name": "stderr",
     "output_type": "stream",
     "text": [
      "2018-09-30 20:21:22,618 INFO Spacing: (1.25, 1.25, 7.0)\n"
     ]
    },
    {
     "name": "stderr",
     "output_type": "stream",
     "text": [
      "2018-09-30 20:21:22,619 INFO Direction: (0.9796810982484128, 0.0, -0.2005615759181806, 0.18433444509171878, 0.39404411527258254, 0.9004165966772137, 0.07903010874035435, -0.9190915271174293, 0.3860375716085677)\n"
     ]
    },
    {
     "name": "stderr",
     "output_type": "stream",
     "text": [
      "2018-09-30 20:21:22,621 INFO Components: 1\n"
     ]
    },
    {
     "name": "stderr",
     "output_type": "stream",
     "text": [
      "2018-09-30 20:21:22,656 INFO Imagesize: (256, 256, 1)\n"
     ]
    },
    {
     "name": "stderr",
     "output_type": "stream",
     "text": [
      "2018-09-30 20:21:22,657 INFO Origing: (-110.01421543532, -68.453125352868, 112.718008703027)\n"
     ]
    },
    {
     "name": "stderr",
     "output_type": "stream",
     "text": [
      "2018-09-30 20:21:22,659 INFO Spacing: (1.25, 1.25, 7.0)\n"
     ]
    },
    {
     "name": "stderr",
     "output_type": "stream",
     "text": [
      "2018-09-30 20:21:22,660 INFO Direction: (0.9796810982484128, 0.0, -0.2005615759181806, 0.18433444509171878, 0.39404411527258254, 0.9004165966772137, 0.07903010874035435, -0.9190915271174293, 0.3860375716085677)\n"
     ]
    },
    {
     "name": "stderr",
     "output_type": "stream",
     "text": [
      "2018-09-30 20:21:22,662 INFO Components: 1\n"
     ]
    },
    {
     "name": "stderr",
     "output_type": "stream",
     "text": [
      "2018-09-30 20:21:22,701 INFO Imagesize: (256, 256, 1)\n"
     ]
    },
    {
     "name": "stderr",
     "output_type": "stream",
     "text": [
      "2018-09-30 20:21:22,703 INFO Origing: (-110.01421543532, -68.453125352868, 112.718008703027)\n"
     ]
    },
    {
     "name": "stderr",
     "output_type": "stream",
     "text": [
      "2018-09-30 20:21:22,705 INFO Spacing: (1.25, 1.25, 7.0)\n"
     ]
    },
    {
     "name": "stderr",
     "output_type": "stream",
     "text": [
      "2018-09-30 20:21:22,706 INFO Direction: (0.9796810982484128, 0.0, -0.2005615759181806, 0.18433444509171878, 0.39404411527258254, 0.9004165966772137, 0.07903010874035435, -0.9190915271174293, 0.3860375716085677)\n"
     ]
    },
    {
     "name": "stderr",
     "output_type": "stream",
     "text": [
      "2018-09-30 20:21:22,708 INFO Components: 1\n"
     ]
    },
    {
     "name": "stderr",
     "output_type": "stream",
     "text": [
      "2018-09-30 20:21:22,741 INFO Imagesize: (256, 256, 1)\n"
     ]
    },
    {
     "name": "stderr",
     "output_type": "stream",
     "text": [
      "2018-09-30 20:21:22,743 INFO Origing: (-110.01421543532, -68.453125352868, 112.718008703027)\n"
     ]
    },
    {
     "name": "stderr",
     "output_type": "stream",
     "text": [
      "2018-09-30 20:21:22,745 INFO Spacing: (1.25, 1.25, 7.0)\n"
     ]
    },
    {
     "name": "stderr",
     "output_type": "stream",
     "text": [
      "2018-09-30 20:21:22,746 INFO Direction: (0.9796810982484128, 0.0, -0.2005615759181806, 0.18433444509171878, 0.39404411527258254, 0.9004165966772137, 0.07903010874035435, -0.9190915271174293, 0.3860375716085677)\n"
     ]
    },
    {
     "name": "stderr",
     "output_type": "stream",
     "text": [
      "2018-09-30 20:21:22,748 INFO Components: 1\n"
     ]
    },
    {
     "name": "stderr",
     "output_type": "stream",
     "text": [
      "2018-09-30 20:21:22,783 INFO Imagesize: (256, 256, 1)\n"
     ]
    },
    {
     "name": "stderr",
     "output_type": "stream",
     "text": [
      "2018-09-30 20:21:22,784 INFO Origing: (-110.01421543532, -68.453125352868, 112.718008703027)\n"
     ]
    },
    {
     "name": "stderr",
     "output_type": "stream",
     "text": [
      "2018-09-30 20:21:22,786 INFO Spacing: (1.25, 1.25, 7.0)\n"
     ]
    },
    {
     "name": "stderr",
     "output_type": "stream",
     "text": [
      "2018-09-30 20:21:22,789 INFO Direction: (0.9796810982484128, 0.0, -0.2005615759181806, 0.18433444509171878, 0.39404411527258254, 0.9004165966772137, 0.07903010874035435, -0.9190915271174293, 0.3860375716085677)\n"
     ]
    },
    {
     "name": "stderr",
     "output_type": "stream",
     "text": [
      "2018-09-30 20:21:22,790 INFO Components: 1\n"
     ]
    },
    {
     "name": "stderr",
     "output_type": "stream",
     "text": [
      "2018-09-30 20:21:22,826 INFO Imagesize: (256, 256, 1)\n"
     ]
    },
    {
     "name": "stderr",
     "output_type": "stream",
     "text": [
      "2018-09-30 20:21:22,828 INFO Origing: (-110.01421543532, -68.453125352868, 112.718008703027)\n"
     ]
    },
    {
     "name": "stderr",
     "output_type": "stream",
     "text": [
      "2018-09-30 20:21:22,829 INFO Spacing: (1.25, 1.25, 7.0)\n"
     ]
    },
    {
     "name": "stderr",
     "output_type": "stream",
     "text": [
      "2018-09-30 20:21:22,830 INFO Direction: (0.9796810982484128, 0.0, -0.2005615759181806, 0.18433444509171878, 0.39404411527258254, 0.9004165966772137, 0.07903010874035435, -0.9190915271174293, 0.3860375716085677)\n"
     ]
    },
    {
     "name": "stderr",
     "output_type": "stream",
     "text": [
      "2018-09-30 20:21:22,834 INFO Components: 1\n"
     ]
    },
    {
     "name": "stderr",
     "output_type": "stream",
     "text": [
      "2018-09-30 20:21:22,865 INFO Imagesize: (256, 256, 1)\n"
     ]
    },
    {
     "name": "stderr",
     "output_type": "stream",
     "text": [
      "2018-09-30 20:21:22,866 INFO Origing: (-110.01421543532, -68.453125352868, 112.718008703027)\n"
     ]
    },
    {
     "name": "stderr",
     "output_type": "stream",
     "text": [
      "2018-09-30 20:21:22,868 INFO Spacing: (1.25, 1.25, 7.0)\n"
     ]
    },
    {
     "name": "stderr",
     "output_type": "stream",
     "text": [
      "2018-09-30 20:21:22,870 INFO Direction: (0.9796810982484128, 0.0, -0.2005615759181806, 0.18433444509171878, 0.39404411527258254, 0.9004165966772137, 0.07903010874035435, -0.9190915271174293, 0.3860375716085677)\n"
     ]
    },
    {
     "name": "stderr",
     "output_type": "stream",
     "text": [
      "2018-09-30 20:21:22,872 INFO Components: 1\n"
     ]
    },
    {
     "name": "stderr",
     "output_type": "stream",
     "text": [
      "2018-09-30 20:21:22,906 INFO Imagesize: (256, 256, 1)\n"
     ]
    },
    {
     "name": "stderr",
     "output_type": "stream",
     "text": [
      "2018-09-30 20:21:22,908 INFO Origing: (-110.01421543532, -68.453125352868, 112.718008703027)\n"
     ]
    },
    {
     "name": "stderr",
     "output_type": "stream",
     "text": [
      "2018-09-30 20:21:22,909 INFO Spacing: (1.25, 1.25, 7.0)\n"
     ]
    },
    {
     "name": "stderr",
     "output_type": "stream",
     "text": [
      "2018-09-30 20:21:22,911 INFO Direction: (0.9796810982484128, 0.0, -0.2005615759181806, 0.18433444509171878, 0.39404411527258254, 0.9004165966772137, 0.07903010874035435, -0.9190915271174293, 0.3860375716085677)\n"
     ]
    },
    {
     "name": "stderr",
     "output_type": "stream",
     "text": [
      "2018-09-30 20:21:22,912 INFO Components: 1\n"
     ]
    },
    {
     "name": "stderr",
     "output_type": "stream",
     "text": [
      "2018-09-30 20:21:22,948 INFO Imagesize: (256, 256, 1)\n"
     ]
    },
    {
     "name": "stderr",
     "output_type": "stream",
     "text": [
      "2018-09-30 20:21:22,950 INFO Origing: (-110.01421543532, -68.453125352868, 112.718008703027)\n"
     ]
    },
    {
     "name": "stderr",
     "output_type": "stream",
     "text": [
      "2018-09-30 20:21:22,951 INFO Spacing: (1.25, 1.25, 7.0)\n"
     ]
    },
    {
     "name": "stderr",
     "output_type": "stream",
     "text": [
      "2018-09-30 20:21:22,953 INFO Direction: (0.9796810982484128, 0.0, -0.2005615759181806, 0.18433444509171878, 0.39404411527258254, 0.9004165966772137, 0.07903010874035435, -0.9190915271174293, 0.3860375716085677)\n"
     ]
    },
    {
     "name": "stderr",
     "output_type": "stream",
     "text": [
      "2018-09-30 20:21:22,954 INFO Components: 1\n"
     ]
    },
    {
     "name": "stderr",
     "output_type": "stream",
     "text": [
      "2018-09-30 20:21:22,986 INFO Imagesize: (256, 256, 1)"
     ]
    },
    {
     "name": "stderr",
     "output_type": "stream",
     "text": [
      "\n"
     ]
    },
    {
     "name": "stderr",
     "output_type": "stream",
     "text": [
      "2018-09-30 20:21:22,989 INFO Origing: (-110.01421543532, -68.453125352868, 112.718008703027)\n"
     ]
    },
    {
     "name": "stderr",
     "output_type": "stream",
     "text": [
      "2018-09-30 20:21:22,992 INFO Spacing: (1.25, 1.25, 7.0)\n"
     ]
    },
    {
     "name": "stderr",
     "output_type": "stream",
     "text": [
      "2018-09-30 20:21:22,993 INFO Direction: (0.9796810982484128, 0.0, -0.2005615759181806, 0.18433444509171878, 0.39404411527258254, 0.9004165966772137, 0.07903010874035435, -0.9190915271174293, 0.3860375716085677)\n"
     ]
    },
    {
     "name": "stderr",
     "output_type": "stream",
     "text": [
      "2018-09-30 20:21:22,995 INFO Components: 1\n"
     ]
    },
    {
     "name": "stderr",
     "output_type": "stream",
     "text": [
      "2018-09-30 20:21:23,028 INFO Imagesize: (256, 256, 1)\n"
     ]
    },
    {
     "name": "stderr",
     "output_type": "stream",
     "text": [
      "2018-09-30 20:21:23,030 INFO Origing: (-110.01421543532, -68.453125352868, 112.718008703027)\n"
     ]
    },
    {
     "name": "stderr",
     "output_type": "stream",
     "text": [
      "2018-09-30 20:21:23,032 INFO Spacing: (1.25, 1.25, 7.0)\n"
     ]
    },
    {
     "name": "stderr",
     "output_type": "stream",
     "text": [
      "2018-09-30 20:21:23,033 INFO Direction: (0.9796810982484128, 0.0, -0.2005615759181806, 0.18433444509171878, 0.39404411527258254, 0.9004165966772137, 0.07903010874035435, -0.9190915271174293, 0.3860375716085677)\n"
     ]
    },
    {
     "name": "stderr",
     "output_type": "stream",
     "text": [
      "2018-09-30 20:21:23,035 INFO Components: 1"
     ]
    },
    {
     "name": "stderr",
     "output_type": "stream",
     "text": [
      "\n"
     ]
    },
    {
     "name": "stderr",
     "output_type": "stream",
     "text": [
      "2018-09-30 20:21:23,069 INFO Imagesize: (256, 256, 1)\n"
     ]
    },
    {
     "name": "stderr",
     "output_type": "stream",
     "text": [
      "2018-09-30 20:21:23,071 INFO Origing: (-110.01421543532, -68.453125352868, 112.718008703027)\n"
     ]
    },
    {
     "name": "stderr",
     "output_type": "stream",
     "text": [
      "2018-09-30 20:21:23,072 INFO Spacing: (1.25, 1.25, 7.0)"
     ]
    },
    {
     "name": "stderr",
     "output_type": "stream",
     "text": [
      "\n"
     ]
    },
    {
     "name": "stderr",
     "output_type": "stream",
     "text": [
      "2018-09-30 20:21:23,075 INFO Direction: (0.9796810982484128, 0.0, -0.2005615759181806, 0.18433444509171878, 0.39404411527258254, 0.9004165966772137, 0.07903010874035435, -0.9190915271174293, 0.3860375716085677)\n"
     ]
    },
    {
     "name": "stderr",
     "output_type": "stream",
     "text": [
      "2018-09-30 20:21:23,076 INFO Components: 1\n"
     ]
    },
    {
     "name": "stderr",
     "output_type": "stream",
     "text": [
      "2018-09-30 20:21:23,111 INFO Imagesize: (256, 256, 1)"
     ]
    },
    {
     "name": "stderr",
     "output_type": "stream",
     "text": [
      "\n"
     ]
    },
    {
     "name": "stderr",
     "output_type": "stream",
     "text": [
      "2018-09-30 20:21:23,114 INFO Origing: (-110.01421543532, -68.453125352868, 112.718008703027)\n"
     ]
    },
    {
     "name": "stderr",
     "output_type": "stream",
     "text": [
      "2018-09-30 20:21:23,115 INFO Spacing: (1.25, 1.25, 7.0)\n"
     ]
    },
    {
     "name": "stderr",
     "output_type": "stream",
     "text": [
      "2018-09-30 20:21:23,117 INFO Direction: (0.9796810982484128, 0.0, -0.2005615759181806, 0.18433444509171878, 0.39404411527258254, 0.9004165966772137, 0.07903010874035435, -0.9190915271174293, 0.3860375716085677)\n"
     ]
    },
    {
     "name": "stderr",
     "output_type": "stream",
     "text": [
      "2018-09-30 20:21:23,118 INFO Components: 1\n"
     ]
    },
    {
     "name": "stderr",
     "output_type": "stream",
     "text": [
      "2018-09-30 20:21:23,152 INFO Imagesize: (256, 256, 1)\n"
     ]
    },
    {
     "name": "stderr",
     "output_type": "stream",
     "text": [
      "2018-09-30 20:21:23,153 INFO Origing: (-110.01421543532, -68.453125352868, 112.718008703027)\n"
     ]
    },
    {
     "name": "stderr",
     "output_type": "stream",
     "text": [
      "2018-09-30 20:21:23,157 INFO Spacing: (1.25, 1.25, 7.0)\n"
     ]
    },
    {
     "name": "stderr",
     "output_type": "stream",
     "text": [
      "2018-09-30 20:21:23,161 INFO Direction: (0.9796810982484128, 0.0, -0.2005615759181806, 0.18433444509171878, 0.39404411527258254, 0.9004165966772137, 0.07903010874035435, -0.9190915271174293, 0.3860375716085677)\n"
     ]
    },
    {
     "name": "stderr",
     "output_type": "stream",
     "text": [
      "2018-09-30 20:21:23,163 INFO Components: 1\n"
     ]
    },
    {
     "name": "stderr",
     "output_type": "stream",
     "text": [
      "2018-09-30 20:21:23,198 INFO Imagesize: (256, 256, 1)\n"
     ]
    },
    {
     "name": "stderr",
     "output_type": "stream",
     "text": [
      "2018-09-30 20:21:23,200 INFO Origing: (-110.01421543532, -68.453125352868, 112.718008703027)\n"
     ]
    },
    {
     "name": "stderr",
     "output_type": "stream",
     "text": [
      "2018-09-30 20:21:23,202 INFO Spacing: (1.25, 1.25, 7.0)\n"
     ]
    },
    {
     "name": "stderr",
     "output_type": "stream",
     "text": [
      "2018-09-30 20:21:23,203 INFO Direction: (0.9796810982484128, 0.0, -0.2005615759181806, 0.18433444509171878, 0.39404411527258254, 0.9004165966772137, 0.07903010874035435, -0.9190915271174293, 0.3860375716085677)\n"
     ]
    },
    {
     "name": "stderr",
     "output_type": "stream",
     "text": [
      "2018-09-30 20:21:23,205 INFO Components: 1\n"
     ]
    },
    {
     "name": "stderr",
     "output_type": "stream",
     "text": [
      "2018-09-30 20:21:23,238 INFO Imagesize: (256, 256, 1)\n"
     ]
    },
    {
     "name": "stderr",
     "output_type": "stream",
     "text": [
      "2018-09-30 20:21:23,239 INFO Origing: (-110.01421543532, -68.453125352868, 112.718008703027)\n"
     ]
    },
    {
     "name": "stderr",
     "output_type": "stream",
     "text": [
      "2018-09-30 20:21:23,241 INFO Spacing: (1.25, 1.25, 7.0)\n"
     ]
    },
    {
     "name": "stderr",
     "output_type": "stream",
     "text": [
      "2018-09-30 20:21:23,243 INFO Direction: (0.9796810982484128, 0.0, -0.2005615759181806, 0.18433444509171878, 0.39404411527258254, 0.9004165966772137, 0.07903010874035435, -0.9190915271174293, 0.3860375716085677)\n"
     ]
    },
    {
     "name": "stderr",
     "output_type": "stream",
     "text": [
      "2018-09-30 20:21:23,246 INFO Components: 1\n"
     ]
    },
    {
     "name": "stderr",
     "output_type": "stream",
     "text": [
      "2018-09-30 20:21:23,279 INFO Imagesize: (256, 256, 1)\n"
     ]
    },
    {
     "name": "stderr",
     "output_type": "stream",
     "text": [
      "2018-09-30 20:21:23,281 INFO Origing: (-110.01421543532, -68.453125352868, 112.718008703027)\n"
     ]
    },
    {
     "name": "stderr",
     "output_type": "stream",
     "text": [
      "2018-09-30 20:21:23,282 INFO Spacing: (1.25, 1.25, 7.0)\n"
     ]
    },
    {
     "name": "stderr",
     "output_type": "stream",
     "text": [
      "2018-09-30 20:21:23,284 INFO Direction: (0.9796810982484128, 0.0, -0.2005615759181806, 0.18433444509171878, 0.39404411527258254, 0.9004165966772137, 0.07903010874035435, -0.9190915271174293, 0.3860375716085677)\n"
     ]
    },
    {
     "name": "stderr",
     "output_type": "stream",
     "text": [
      "2018-09-30 20:21:23,286 INFO Components: 1\n"
     ]
    },
    {
     "name": "stderr",
     "output_type": "stream",
     "text": [
      "2018-09-30 20:21:23,320 INFO Imagesize: (256, 256, 1)\n"
     ]
    },
    {
     "name": "stderr",
     "output_type": "stream",
     "text": [
      "2018-09-30 20:21:23,322 INFO Origing: (-110.01421543532, -68.453125352868, 112.718008703027)\n"
     ]
    },
    {
     "name": "stderr",
     "output_type": "stream",
     "text": [
      "2018-09-30 20:21:23,323 INFO Spacing: (1.25, 1.25, 7.0)\n"
     ]
    },
    {
     "name": "stderr",
     "output_type": "stream",
     "text": [
      "2018-09-30 20:21:23,325 INFO Direction: (0.9796810982484128, 0.0, -0.2005615759181806, 0.18433444509171878, 0.39404411527258254, 0.9004165966772137, 0.07903010874035435, -0.9190915271174293, 0.3860375716085677)\n"
     ]
    },
    {
     "name": "stderr",
     "output_type": "stream",
     "text": [
      "2018-09-30 20:21:23,327 INFO Components: 1\n"
     ]
    },
    {
     "name": "stderr",
     "output_type": "stream",
     "text": [
      "2018-09-30 20:21:23,361 INFO Imagesize: (256, 256, 1)\n"
     ]
    },
    {
     "name": "stderr",
     "output_type": "stream",
     "text": [
      "2018-09-30 20:21:23,364 INFO Origing: (-110.01421543532, -68.453125352868, 112.718008703027)\n"
     ]
    },
    {
     "name": "stderr",
     "output_type": "stream",
     "text": [
      "2018-09-30 20:21:23,365 INFO Spacing: (1.25, 1.25, 7.0)\n"
     ]
    },
    {
     "name": "stderr",
     "output_type": "stream",
     "text": [
      "2018-09-30 20:21:23,367 INFO Direction: (0.9796810982484128, 0.0, -0.2005615759181806, 0.18433444509171878, 0.39404411527258254, 0.9004165966772137, 0.07903010874035435, -0.9190915271174293, 0.3860375716085677)\n"
     ]
    },
    {
     "name": "stderr",
     "output_type": "stream",
     "text": [
      "2018-09-30 20:21:23,368 INFO Components: 1\n"
     ]
    },
    {
     "name": "stderr",
     "output_type": "stream",
     "text": [
      "2018-09-30 20:21:23,403 INFO Imagesize: (256, 256, 1)"
     ]
    },
    {
     "name": "stderr",
     "output_type": "stream",
     "text": [
      "\n"
     ]
    },
    {
     "name": "stderr",
     "output_type": "stream",
     "text": [
      "2018-09-30 20:21:23,406 INFO Origing: (-110.01421543532, -68.453125352868, 112.718008703027)\n"
     ]
    },
    {
     "name": "stderr",
     "output_type": "stream",
     "text": [
      "2018-09-30 20:21:23,408 INFO Spacing: (1.25, 1.25, 7.0)\n"
     ]
    },
    {
     "name": "stderr",
     "output_type": "stream",
     "text": [
      "2018-09-30 20:21:23,409 INFO Direction: (0.9796810982484128, 0.0, -0.2005615759181806, 0.18433444509171878, 0.39404411527258254, 0.9004165966772137, 0.07903010874035435, -0.9190915271174293, 0.3860375716085677)\n"
     ]
    },
    {
     "name": "stderr",
     "output_type": "stream",
     "text": [
      "2018-09-30 20:21:23,411 INFO Components: 1\n"
     ]
    },
    {
     "name": "stderr",
     "output_type": "stream",
     "text": [
      "2018-09-30 20:21:23,445 INFO Imagesize: (256, 256, 1)\n"
     ]
    },
    {
     "name": "stderr",
     "output_type": "stream",
     "text": [
      "2018-09-30 20:21:23,447 INFO Origing: (-110.01421543532, -68.453125352868, 112.718008703027)\n"
     ]
    },
    {
     "name": "stderr",
     "output_type": "stream",
     "text": [
      "2018-09-30 20:21:23,448 INFO Spacing: (1.25, 1.25, 7.0)\n"
     ]
    },
    {
     "name": "stderr",
     "output_type": "stream",
     "text": [
      "2018-09-30 20:21:23,449 INFO Direction: (0.9796810982484128, 0.0, -0.2005615759181806, 0.18433444509171878, 0.39404411527258254, 0.9004165966772137, 0.07903010874035435, -0.9190915271174293, 0.3860375716085677)\n"
     ]
    },
    {
     "name": "stderr",
     "output_type": "stream",
     "text": [
      "2018-09-30 20:21:23,451 INFO Components: 1\n"
     ]
    },
    {
     "name": "stderr",
     "output_type": "stream",
     "text": [
      "2018-09-30 20:21:23,581 INFO Imagesize: (256, 256, 1)\n"
     ]
    },
    {
     "name": "stderr",
     "output_type": "stream",
     "text": [
      "2018-09-30 20:21:23,582 INFO Origing: (-110.01421543532, -68.453125352868, 112.718008703027)\n"
     ]
    },
    {
     "name": "stderr",
     "output_type": "stream",
     "text": [
      "2018-09-30 20:21:23,583 INFO Spacing: (1.25, 1.25, 7.0)\n"
     ]
    },
    {
     "name": "stderr",
     "output_type": "stream",
     "text": [
      "2018-09-30 20:21:23,585 INFO Direction: (0.9796810982484128, 0.0, -0.2005615759181806, 0.18433444509171878, 0.39404411527258254, 0.9004165966772137, 0.07903010874035435, -0.9190915271174293, 0.3860375716085677)\n"
     ]
    },
    {
     "name": "stderr",
     "output_type": "stream",
     "text": [
      "2018-09-30 20:21:23,587 INFO Components: 1\n"
     ]
    },
    {
     "name": "stderr",
     "output_type": "stream",
     "text": [
      "2018-09-30 20:21:23,623 INFO Imagesize: (256, 256, 1)\n"
     ]
    },
    {
     "name": "stderr",
     "output_type": "stream",
     "text": [
      "2018-09-30 20:21:23,625 INFO Origing: (-110.01421543532, -68.453125352868, 112.718008703027)\n"
     ]
    },
    {
     "name": "stderr",
     "output_type": "stream",
     "text": [
      "2018-09-30 20:21:23,627 INFO Spacing: (1.25, 1.25, 7.0)\n"
     ]
    },
    {
     "name": "stderr",
     "output_type": "stream",
     "text": [
      "2018-09-30 20:21:23,628 INFO Direction: (0.9796810982484128, 0.0, -0.2005615759181806, 0.18433444509171878, 0.39404411527258254, 0.9004165966772137, 0.07903010874035435, -0.9190915271174293, 0.3860375716085677)\n"
     ]
    },
    {
     "name": "stderr",
     "output_type": "stream",
     "text": [
      "2018-09-30 20:21:23,630 INFO Components: 1\n"
     ]
    },
    {
     "name": "stderr",
     "output_type": "stream",
     "text": [
      "2018-09-30 20:21:23,662 INFO Imagesize: (256, 256, 1)\n"
     ]
    },
    {
     "name": "stderr",
     "output_type": "stream",
     "text": [
      "2018-09-30 20:21:23,663 INFO Origing: (-110.01421543532, -68.453125352868, 112.718008703027)\n"
     ]
    },
    {
     "name": "stderr",
     "output_type": "stream",
     "text": [
      "2018-09-30 20:21:23,666 INFO Spacing: (1.25, 1.25, 7.0)\n"
     ]
    },
    {
     "name": "stderr",
     "output_type": "stream",
     "text": [
      "2018-09-30 20:21:23,668 INFO Direction: (0.9796810982484128, 0.0, -0.2005615759181806, 0.18433444509171878, 0.39404411527258254, 0.9004165966772137, 0.07903010874035435, -0.9190915271174293, 0.3860375716085677)\n"
     ]
    },
    {
     "name": "stderr",
     "output_type": "stream",
     "text": [
      "2018-09-30 20:21:23,669 INFO Components: 1\n"
     ]
    },
    {
     "name": "stderr",
     "output_type": "stream",
     "text": [
      "2018-09-30 20:21:23,671 DEBUG Trying to save to data/processed/sumarized/0706-ZY8H5791-2005-06-16/\n"
     ]
    },
    {
     "name": "stderr",
     "output_type": "stream",
     "text": [
      "2018-09-30 20:21:23,690 DEBUG update_title_pos\n"
     ]
    },
    {
     "name": "stderr",
     "output_type": "stream",
     "text": [
      "2018-09-30 20:21:23,710 DEBUG update_title_pos\n"
     ]
    },
    {
     "name": "stderr",
     "output_type": "stream",
     "text": [
      "2018-09-30 20:21:23,727 DEBUG update_title_pos\n"
     ]
    },
    {
     "name": "stderr",
     "output_type": "stream",
     "text": [
      "2018-09-30 20:21:23,745 DEBUG update_title_pos\n"
     ]
    },
    {
     "name": "stderr",
     "output_type": "stream",
     "text": [
      "2018-09-30 20:21:23,764 DEBUG update_title_pos\n"
     ]
    },
    {
     "name": "stderr",
     "output_type": "stream",
     "text": [
      "2018-09-30 20:21:23,782 DEBUG update_title_pos\n"
     ]
    },
    {
     "name": "stderr",
     "output_type": "stream",
     "text": [
      "2018-09-30 20:21:23,801 DEBUG update_title_pos\n"
     ]
    },
    {
     "name": "stderr",
     "output_type": "stream",
     "text": [
      "2018-09-30 20:21:23,822 DEBUG update_title_pos\n"
     ]
    },
    {
     "name": "stderr",
     "output_type": "stream",
     "text": [
      "2018-09-30 20:21:23,839 DEBUG update_title_pos\n"
     ]
    },
    {
     "name": "stderr",
     "output_type": "stream",
     "text": [
      "2018-09-30 20:21:23,859 DEBUG update_title_pos\n"
     ]
    },
    {
     "name": "stderr",
     "output_type": "stream",
     "text": [
      "2018-09-30 20:21:23,878 DEBUG update_title_pos\n"
     ]
    },
    {
     "name": "stderr",
     "output_type": "stream",
     "text": [
      "2018-09-30 20:21:23,898 DEBUG update_title_pos\n"
     ]
    },
    {
     "name": "stderr",
     "output_type": "stream",
     "text": [
      "2018-09-30 20:21:23,918 DEBUG update_title_pos\n"
     ]
    },
    {
     "name": "stderr",
     "output_type": "stream",
     "text": [
      "2018-09-30 20:21:23,936 DEBUG update_title_pos\n"
     ]
    },
    {
     "name": "stderr",
     "output_type": "stream",
     "text": [
      "2018-09-30 20:21:23,955 DEBUG update_title_pos\n"
     ]
    },
    {
     "name": "stderr",
     "output_type": "stream",
     "text": [
      "2018-09-30 20:21:23,973 DEBUG update_title_pos\n"
     ]
    },
    {
     "name": "stderr",
     "output_type": "stream",
     "text": [
      "2018-09-30 20:21:23,992 DEBUG update_title_pos\n"
     ]
    },
    {
     "name": "stderr",
     "output_type": "stream",
     "text": [
      "2018-09-30 20:21:24,012 DEBUG update_title_pos\n"
     ]
    },
    {
     "name": "stderr",
     "output_type": "stream",
     "text": [
      "2018-09-30 20:21:24,031 DEBUG update_title_pos\n"
     ]
    },
    {
     "name": "stderr",
     "output_type": "stream",
     "text": [
      "2018-09-30 20:21:24,050 DEBUG update_title_pos\n"
     ]
    },
    {
     "name": "stderr",
     "output_type": "stream",
     "text": [
      "2018-09-30 20:21:24,069 DEBUG update_title_pos\n"
     ]
    },
    {
     "name": "stderr",
     "output_type": "stream",
     "text": [
      "2018-09-30 20:21:24,089 DEBUG update_title_pos\n"
     ]
    },
    {
     "name": "stderr",
     "output_type": "stream",
     "text": [
      "2018-09-30 20:21:24,109 DEBUG update_title_pos\n"
     ]
    },
    {
     "name": "stderr",
     "output_type": "stream",
     "text": [
      "2018-09-30 20:21:24,129 DEBUG update_title_pos\n"
     ]
    },
    {
     "name": "stderr",
     "output_type": "stream",
     "text": [
      "2018-09-30 20:21:24,148 DEBUG update_title_pos\n"
     ]
    },
    {
     "name": "stderr",
     "output_type": "stream",
     "text": [
      "2018-09-30 20:21:24,167 DEBUG update_title_pos\n"
     ]
    },
    {
     "name": "stderr",
     "output_type": "stream",
     "text": [
      "2018-09-30 20:21:24,185 DEBUG update_title_pos\n"
     ]
    },
    {
     "name": "stderr",
     "output_type": "stream",
     "text": [
      "2018-09-30 20:21:24,205 DEBUG update_title_pos\n"
     ]
    },
    {
     "name": "stderr",
     "output_type": "stream",
     "text": [
      "2018-09-30 20:21:24,225 DEBUG update_title_pos\n"
     ]
    },
    {
     "name": "stderr",
     "output_type": "stream",
     "text": [
      "2018-09-30 20:21:24,243 DEBUG update_title_pos\n"
     ]
    },
    {
     "name": "stderr",
     "output_type": "stream",
     "text": [
      "2018-09-30 20:21:24,261 DEBUG update_title_pos\n"
     ]
    },
    {
     "name": "stderr",
     "output_type": "stream",
     "text": [
      "2018-09-30 20:21:24,280 DEBUG update_title_pos\n"
     ]
    },
    {
     "name": "stderr",
     "output_type": "stream",
     "text": [
      "2018-09-30 20:21:24,298 DEBUG update_title_pos\n"
     ]
    },
    {
     "name": "stderr",
     "output_type": "stream",
     "text": [
      "2018-09-30 20:21:24,318 DEBUG update_title_pos\n"
     ]
    },
    {
     "name": "stderr",
     "output_type": "stream",
     "text": [
      "2018-09-30 20:21:24,338 DEBUG update_title_pos\n"
     ]
    },
    {
     "name": "stderr",
     "output_type": "stream",
     "text": [
      "2018-09-30 20:21:24,357 DEBUG update_title_pos\n"
     ]
    },
    {
     "name": "stderr",
     "output_type": "stream",
     "text": [
      "2018-09-30 20:21:27,452 DEBUG Image saved: data/processed/sumarized/0706-ZY8H5791-2005-06-16/1.3.46.670589.11.0.0.11.4.2.0.5167.5.4188.2005061614480173365_1.png\n"
     ]
    },
    {
     "name": "stderr",
     "output_type": "stream",
     "text": [
      "2018-09-30 20:21:27,529 INFO files: 36\n"
     ]
    },
    {
     "name": "stderr",
     "output_type": "stream",
     "text": [
      "2018-09-30 20:21:27,530 INFO Gridsize: 6 rows x 6 columns\n"
     ]
    },
    {
     "name": "stderr",
     "output_type": "stream",
     "text": [
      "2018-09-30 20:21:27,562 INFO Imagesize: (256, 256, 1)\n"
     ]
    },
    {
     "name": "stderr",
     "output_type": "stream",
     "text": [
      "2018-09-30 20:21:27,564 INFO Origing: (-158.52684245954, 130.138300720652, 46.2148335820479)\n"
     ]
    },
    {
     "name": "stderr",
     "output_type": "stream",
     "text": [
      "2018-09-30 20:21:27,566 INFO Spacing: (1.171875, 1.171875, 6.0)\n"
     ]
    },
    {
     "name": "stderr",
     "output_type": "stream",
     "text": [
      "2018-09-30 20:21:27,567 INFO Direction: (0.6005932766629122, 0.6716347249879824, 0.4338139142738785, -0.5855367712431213, -2.7755575615628914e-17, 0.8106458471627304, 0.5444579006217903, -0.7408824442449136, 0.3932668283242249)\n"
     ]
    },
    {
     "name": "stderr",
     "output_type": "stream",
     "text": [
      "2018-09-30 20:21:27,569 INFO Components: 1\n"
     ]
    },
    {
     "name": "stderr",
     "output_type": "stream",
     "text": [
      "2018-09-30 20:21:27,605 INFO Imagesize: (256, 256, 1)\n"
     ]
    },
    {
     "name": "stderr",
     "output_type": "stream",
     "text": [
      "2018-09-30 20:21:27,607 INFO Origing: (-158.52684245954, 130.138300720652, 46.2148335820479)\n"
     ]
    },
    {
     "name": "stderr",
     "output_type": "stream",
     "text": [
      "2018-09-30 20:21:27,609 INFO Spacing: (1.171875, 1.171875, 6.0)\n"
     ]
    },
    {
     "name": "stderr",
     "output_type": "stream",
     "text": [
      "2018-09-30 20:21:27,611 INFO Direction: (0.6005932766629122, 0.6716347249879824, 0.4338139142738785, -0.5855367712431213, -2.7755575615628914e-17, 0.8106458471627304, 0.5444579006217903, -0.7408824442449136, 0.3932668283242249)\n"
     ]
    },
    {
     "name": "stderr",
     "output_type": "stream",
     "text": [
      "2018-09-30 20:21:27,613 INFO Components: 1\n"
     ]
    },
    {
     "name": "stderr",
     "output_type": "stream",
     "text": [
      "2018-09-30 20:21:27,646 INFO Imagesize: (256, 256, 1)\n"
     ]
    },
    {
     "name": "stderr",
     "output_type": "stream",
     "text": [
      "2018-09-30 20:21:27,648 INFO Origing: (-158.52684245954, 130.138300720652, 46.2148335820479)\n"
     ]
    },
    {
     "name": "stderr",
     "output_type": "stream",
     "text": [
      "2018-09-30 20:21:27,650 INFO Spacing: (1.171875, 1.171875, 6.0)\n"
     ]
    },
    {
     "name": "stderr",
     "output_type": "stream",
     "text": [
      "2018-09-30 20:21:27,652 INFO Direction: (0.6005932766629122, 0.6716347249879824, 0.4338139142738785, -0.5855367712431213, -2.7755575615628914e-17, 0.8106458471627304, 0.5444579006217903, -0.7408824442449136, 0.3932668283242249)\n"
     ]
    },
    {
     "name": "stderr",
     "output_type": "stream",
     "text": [
      "2018-09-30 20:21:27,654 INFO Components: 1\n"
     ]
    },
    {
     "name": "stderr",
     "output_type": "stream",
     "text": [
      "2018-09-30 20:21:27,685 INFO Imagesize: (256, 256, 1)\n"
     ]
    },
    {
     "name": "stderr",
     "output_type": "stream",
     "text": [
      "2018-09-30 20:21:27,687 INFO Origing: (-158.52684245954, 130.138300720652, 46.2148335820479)\n"
     ]
    },
    {
     "name": "stderr",
     "output_type": "stream",
     "text": [
      "2018-09-30 20:21:27,689 INFO Spacing: (1.171875, 1.171875, 6.0)\n"
     ]
    },
    {
     "name": "stderr",
     "output_type": "stream",
     "text": [
      "2018-09-30 20:21:27,690 INFO Direction: (0.6005932766629122, 0.6716347249879824, 0.4338139142738785, -0.5855367712431213, -2.7755575615628914e-17, 0.8106458471627304, 0.5444579006217903, -0.7408824442449136, 0.3932668283242249)\n"
     ]
    },
    {
     "name": "stderr",
     "output_type": "stream",
     "text": [
      "2018-09-30 20:21:27,692 INFO Components: 1\n"
     ]
    },
    {
     "name": "stderr",
     "output_type": "stream",
     "text": [
      "2018-09-30 20:21:27,727 INFO Imagesize: (256, 256, 1)\n"
     ]
    },
    {
     "name": "stderr",
     "output_type": "stream",
     "text": [
      "2018-09-30 20:21:27,730 INFO Origing: (-158.52684245954, 130.138300720652, 46.2148335820479)\n"
     ]
    },
    {
     "name": "stderr",
     "output_type": "stream",
     "text": [
      "2018-09-30 20:21:27,732 INFO Spacing: (1.171875, 1.171875, 6.0)\n"
     ]
    },
    {
     "name": "stderr",
     "output_type": "stream",
     "text": [
      "2018-09-30 20:21:27,733 INFO Direction: (0.6005932766629122, 0.6716347249879824, 0.4338139142738785, -0.5855367712431213, -2.7755575615628914e-17, 0.8106458471627304, 0.5444579006217903, -0.7408824442449136, 0.3932668283242249)\n"
     ]
    },
    {
     "name": "stderr",
     "output_type": "stream",
     "text": [
      "2018-09-30 20:21:27,735 INFO Components: 1\n"
     ]
    },
    {
     "name": "stderr",
     "output_type": "stream",
     "text": [
      "2018-09-30 20:21:27,766 INFO Imagesize: (256, 256, 1)\n"
     ]
    },
    {
     "name": "stderr",
     "output_type": "stream",
     "text": [
      "2018-09-30 20:21:27,768 INFO Origing: (-158.52684245954, 130.138300720652, 46.2148335820479)\n"
     ]
    },
    {
     "name": "stderr",
     "output_type": "stream",
     "text": [
      "2018-09-30 20:21:27,769 INFO Spacing: (1.171875, 1.171875, 6.0)\n"
     ]
    },
    {
     "name": "stderr",
     "output_type": "stream",
     "text": [
      "2018-09-30 20:21:27,773 INFO Direction: (0.6005932766629122, 0.6716347249879824, 0.4338139142738785, -0.5855367712431213, -2.7755575615628914e-17, 0.8106458471627304, 0.5444579006217903, -0.7408824442449136, 0.3932668283242249)\n"
     ]
    },
    {
     "name": "stderr",
     "output_type": "stream",
     "text": [
      "2018-09-30 20:21:27,774 INFO Components: 1\n"
     ]
    },
    {
     "name": "stderr",
     "output_type": "stream",
     "text": [
      "2018-09-30 20:21:27,808 INFO Imagesize: (256, 256, 1)\n"
     ]
    },
    {
     "name": "stderr",
     "output_type": "stream",
     "text": [
      "2018-09-30 20:21:27,809 INFO Origing: (-158.52684245954, 130.138300720652, 46.2148335820479)\n"
     ]
    },
    {
     "name": "stderr",
     "output_type": "stream",
     "text": [
      "2018-09-30 20:21:27,811 INFO Spacing: (1.171875, 1.171875, 6.0)\n"
     ]
    },
    {
     "name": "stderr",
     "output_type": "stream",
     "text": [
      "2018-09-30 20:21:27,813 INFO Direction: (0.6005932766629122, 0.6716347249879824, 0.4338139142738785, -0.5855367712431213, -2.7755575615628914e-17, 0.8106458471627304, 0.5444579006217903, -0.7408824442449136, 0.3932668283242249)\n"
     ]
    },
    {
     "name": "stderr",
     "output_type": "stream",
     "text": [
      "2018-09-30 20:21:27,815 INFO Components: 1\n"
     ]
    },
    {
     "name": "stderr",
     "output_type": "stream",
     "text": [
      "2018-09-30 20:21:27,848 INFO Imagesize: (256, 256, 1)\n"
     ]
    },
    {
     "name": "stderr",
     "output_type": "stream",
     "text": [
      "2018-09-30 20:21:27,850 INFO Origing: (-158.52684245954, 130.138300720652, 46.2148335820479)\n"
     ]
    },
    {
     "name": "stderr",
     "output_type": "stream",
     "text": [
      "2018-09-30 20:21:27,852 INFO Spacing: (1.171875, 1.171875, 6.0)\n"
     ]
    },
    {
     "name": "stderr",
     "output_type": "stream",
     "text": [
      "2018-09-30 20:21:27,853 INFO Direction: (0.6005932766629122, 0.6716347249879824, 0.4338139142738785, -0.5855367712431213, -2.7755575615628914e-17, 0.8106458471627304, 0.5444579006217903, -0.7408824442449136, 0.3932668283242249)\n"
     ]
    },
    {
     "name": "stderr",
     "output_type": "stream",
     "text": [
      "2018-09-30 20:21:27,855 INFO Components: 1\n"
     ]
    },
    {
     "name": "stderr",
     "output_type": "stream",
     "text": [
      "2018-09-30 20:21:27,889 INFO Imagesize: (256, 256, 1)\n"
     ]
    },
    {
     "name": "stderr",
     "output_type": "stream",
     "text": [
      "2018-09-30 20:21:27,891 INFO Origing: (-158.52684245954, 130.138300720652, 46.2148335820479)\n"
     ]
    },
    {
     "name": "stderr",
     "output_type": "stream",
     "text": [
      "2018-09-30 20:21:27,893 INFO Spacing: (1.171875, 1.171875, 6.0)\n"
     ]
    },
    {
     "name": "stderr",
     "output_type": "stream",
     "text": [
      "2018-09-30 20:21:27,894 INFO Direction: (0.6005932766629122, 0.6716347249879824, 0.4338139142738785, -0.5855367712431213, -2.7755575615628914e-17, 0.8106458471627304, 0.5444579006217903, -0.7408824442449136, 0.3932668283242249)\n"
     ]
    },
    {
     "name": "stderr",
     "output_type": "stream",
     "text": [
      "2018-09-30 20:21:27,896 INFO Components: 1\n"
     ]
    },
    {
     "name": "stderr",
     "output_type": "stream",
     "text": [
      "2018-09-30 20:21:27,929 INFO Imagesize: (256, 256, 1)\n"
     ]
    },
    {
     "name": "stderr",
     "output_type": "stream",
     "text": [
      "2018-09-30 20:21:27,931 INFO Origing: (-158.52684245954, 130.138300720652, 46.2148335820479)\n"
     ]
    },
    {
     "name": "stderr",
     "output_type": "stream",
     "text": [
      "2018-09-30 20:21:27,933 INFO Spacing: (1.171875, 1.171875, 6.0)\n"
     ]
    },
    {
     "name": "stderr",
     "output_type": "stream",
     "text": [
      "2018-09-30 20:21:27,935 INFO Direction: (0.6005932766629122, 0.6716347249879824, 0.4338139142738785, -0.5855367712431213, -2.7755575615628914e-17, 0.8106458471627304, 0.5444579006217903, -0.7408824442449136, 0.3932668283242249)\n"
     ]
    },
    {
     "name": "stderr",
     "output_type": "stream",
     "text": [
      "2018-09-30 20:21:27,937 INFO Components: 1\n"
     ]
    },
    {
     "name": "stderr",
     "output_type": "stream",
     "text": [
      "2018-09-30 20:21:27,971 INFO Imagesize: (256, 256, 1)\n"
     ]
    },
    {
     "name": "stderr",
     "output_type": "stream",
     "text": [
      "2018-09-30 20:21:27,973 INFO Origing: (-158.52684245954, 130.138300720652, 46.2148335820479)\n"
     ]
    },
    {
     "name": "stderr",
     "output_type": "stream",
     "text": [
      "2018-09-30 20:21:27,975 INFO Spacing: (1.171875, 1.171875, 6.0)\n"
     ]
    },
    {
     "name": "stderr",
     "output_type": "stream",
     "text": [
      "2018-09-30 20:21:27,976 INFO Direction: (0.6005932766629122, 0.6716347249879824, 0.4338139142738785, -0.5855367712431213, -2.7755575615628914e-17, 0.8106458471627304, 0.5444579006217903, -0.7408824442449136, 0.3932668283242249)\n"
     ]
    },
    {
     "name": "stderr",
     "output_type": "stream",
     "text": [
      "2018-09-30 20:21:27,980 INFO Components: 1\n"
     ]
    },
    {
     "name": "stderr",
     "output_type": "stream",
     "text": [
      "2018-09-30 20:21:28,011 INFO Imagesize: (256, 256, 1)\n"
     ]
    },
    {
     "name": "stderr",
     "output_type": "stream",
     "text": [
      "2018-09-30 20:21:28,013 INFO Origing: (-158.52684245954, 130.138300720652, 46.2148335820479)\n"
     ]
    },
    {
     "name": "stderr",
     "output_type": "stream",
     "text": [
      "2018-09-30 20:21:28,014 INFO Spacing: (1.171875, 1.171875, 6.0)\n"
     ]
    },
    {
     "name": "stderr",
     "output_type": "stream",
     "text": [
      "2018-09-30 20:21:28,018 INFO Direction: (0.6005932766629122, 0.6716347249879824, 0.4338139142738785, -0.5855367712431213, -2.7755575615628914e-17, 0.8106458471627304, 0.5444579006217903, -0.7408824442449136, 0.3932668283242249)\n"
     ]
    },
    {
     "name": "stderr",
     "output_type": "stream",
     "text": [
      "2018-09-30 20:21:28,019 INFO Components: 1\n"
     ]
    },
    {
     "name": "stderr",
     "output_type": "stream",
     "text": [
      "2018-09-30 20:21:28,052 INFO Imagesize: (256, 256, 1)"
     ]
    },
    {
     "name": "stderr",
     "output_type": "stream",
     "text": [
      "\n"
     ]
    },
    {
     "name": "stderr",
     "output_type": "stream",
     "text": [
      "2018-09-30 20:21:28,055 INFO Origing: (-158.52684245954, 130.138300720652, 46.2148335820479)"
     ]
    },
    {
     "name": "stderr",
     "output_type": "stream",
     "text": [
      "\n"
     ]
    },
    {
     "name": "stderr",
     "output_type": "stream",
     "text": [
      "2018-09-30 20:21:28,058 INFO Spacing: (1.171875, 1.171875, 6.0)\n"
     ]
    },
    {
     "name": "stderr",
     "output_type": "stream",
     "text": [
      "2018-09-30 20:21:28,060 INFO Direction: (0.6005932766629122, 0.6716347249879824, 0.4338139142738785, -0.5855367712431213, -2.7755575615628914e-17, 0.8106458471627304, 0.5444579006217903, -0.7408824442449136, 0.3932668283242249)\n"
     ]
    },
    {
     "name": "stderr",
     "output_type": "stream",
     "text": [
      "2018-09-30 20:21:28,063 INFO Components: 1\n"
     ]
    },
    {
     "name": "stderr",
     "output_type": "stream",
     "text": [
      "2018-09-30 20:21:28,097 INFO Imagesize: (256, 256, 1)\n"
     ]
    },
    {
     "name": "stderr",
     "output_type": "stream",
     "text": [
      "2018-09-30 20:21:28,100 INFO Origing: (-158.52684245954, 130.138300720652, 46.2148335820479)\n"
     ]
    },
    {
     "name": "stderr",
     "output_type": "stream",
     "text": [
      "2018-09-30 20:21:28,102 INFO Spacing: (1.171875, 1.171875, 6.0)\n"
     ]
    },
    {
     "name": "stderr",
     "output_type": "stream",
     "text": [
      "2018-09-30 20:21:28,103 INFO Direction: (0.6005932766629122, 0.6716347249879824, 0.4338139142738785, -0.5855367712431213, -2.7755575615628914e-17, 0.8106458471627304, 0.5444579006217903, -0.7408824442449136, 0.3932668283242249)\n"
     ]
    },
    {
     "name": "stderr",
     "output_type": "stream",
     "text": [
      "2018-09-30 20:21:28,105 INFO Components: 1\n"
     ]
    },
    {
     "name": "stderr",
     "output_type": "stream",
     "text": [
      "2018-09-30 20:21:28,140 INFO Imagesize: (256, 256, 1)\n"
     ]
    },
    {
     "name": "stderr",
     "output_type": "stream",
     "text": [
      "2018-09-30 20:21:28,142 INFO Origing: (-158.52684245954, 130.138300720652, 46.2148335820479)\n"
     ]
    },
    {
     "name": "stderr",
     "output_type": "stream",
     "text": [
      "2018-09-30 20:21:28,143 INFO Spacing: (1.171875, 1.171875, 6.0)\n"
     ]
    },
    {
     "name": "stderr",
     "output_type": "stream",
     "text": [
      "2018-09-30 20:21:28,145 INFO Direction: (0.6005932766629122, 0.6716347249879824, 0.4338139142738785, -0.5855367712431213, -2.7755575615628914e-17, 0.8106458471627304, 0.5444579006217903, -0.7408824442449136, 0.3932668283242249)\n"
     ]
    },
    {
     "name": "stderr",
     "output_type": "stream",
     "text": [
      "2018-09-30 20:21:28,147 INFO Components: 1\n"
     ]
    },
    {
     "name": "stderr",
     "output_type": "stream",
     "text": [
      "2018-09-30 20:21:28,187 INFO Imagesize: (256, 256, 1)\n"
     ]
    },
    {
     "name": "stderr",
     "output_type": "stream",
     "text": [
      "2018-09-30 20:21:28,189 INFO Origing: (-158.52684245954, 130.138300720652, 46.2148335820479)\n"
     ]
    },
    {
     "name": "stderr",
     "output_type": "stream",
     "text": [
      "2018-09-30 20:21:28,191 INFO Spacing: (1.171875, 1.171875, 6.0)\n"
     ]
    },
    {
     "name": "stderr",
     "output_type": "stream",
     "text": [
      "2018-09-30 20:21:28,192 INFO Direction: (0.6005932766629122, 0.6716347249879824, 0.4338139142738785, -0.5855367712431213, -2.7755575615628914e-17, 0.8106458471627304, 0.5444579006217903, -0.7408824442449136, 0.3932668283242249)\n"
     ]
    },
    {
     "name": "stderr",
     "output_type": "stream",
     "text": [
      "2018-09-30 20:21:28,195 INFO Components: 1\n"
     ]
    },
    {
     "name": "stderr",
     "output_type": "stream",
     "text": [
      "2018-09-30 20:21:28,239 INFO Imagesize: (256, 256, 1)\n"
     ]
    },
    {
     "name": "stderr",
     "output_type": "stream",
     "text": [
      "2018-09-30 20:21:28,241 INFO Origing: (-158.52684245954, 130.138300720652, 46.2148335820479)\n"
     ]
    },
    {
     "name": "stderr",
     "output_type": "stream",
     "text": [
      "2018-09-30 20:21:28,243 INFO Spacing: (1.171875, 1.171875, 6.0)\n"
     ]
    },
    {
     "name": "stderr",
     "output_type": "stream",
     "text": [
      "2018-09-30 20:21:28,245 INFO Direction: (0.6005932766629122, 0.6716347249879824, 0.4338139142738785, -0.5855367712431213, -2.7755575615628914e-17, 0.8106458471627304, 0.5444579006217903, -0.7408824442449136, 0.3932668283242249)\n"
     ]
    },
    {
     "name": "stderr",
     "output_type": "stream",
     "text": [
      "2018-09-30 20:21:28,248 INFO Components: 1\n"
     ]
    },
    {
     "name": "stderr",
     "output_type": "stream",
     "text": [
      "2018-09-30 20:21:28,285 INFO Imagesize: (256, 256, 1)\n"
     ]
    },
    {
     "name": "stderr",
     "output_type": "stream",
     "text": [
      "2018-09-30 20:21:28,287 INFO Origing: (-158.52684245954, 130.138300720652, 46.2148335820479)\n"
     ]
    },
    {
     "name": "stderr",
     "output_type": "stream",
     "text": [
      "2018-09-30 20:21:28,288 INFO Spacing: (1.171875, 1.171875, 6.0)\n"
     ]
    },
    {
     "name": "stderr",
     "output_type": "stream",
     "text": [
      "2018-09-30 20:21:28,290 INFO Direction: (0.6005932766629122, 0.6716347249879824, 0.4338139142738785, -0.5855367712431213, -2.7755575615628914e-17, 0.8106458471627304, 0.5444579006217903, -0.7408824442449136, 0.3932668283242249)\n"
     ]
    },
    {
     "name": "stderr",
     "output_type": "stream",
     "text": [
      "2018-09-30 20:21:28,294 INFO Components: 1\n"
     ]
    },
    {
     "name": "stderr",
     "output_type": "stream",
     "text": [
      "2018-09-30 20:21:28,332 INFO Imagesize: (256, 256, 1)\n"
     ]
    },
    {
     "name": "stderr",
     "output_type": "stream",
     "text": [
      "2018-09-30 20:21:28,334 INFO Origing: (-158.52684245954, 130.138300720652, 46.2148335820479)\n"
     ]
    },
    {
     "name": "stderr",
     "output_type": "stream",
     "text": [
      "2018-09-30 20:21:28,337 INFO Spacing: (1.171875, 1.171875, 6.0)\n"
     ]
    },
    {
     "name": "stderr",
     "output_type": "stream",
     "text": [
      "2018-09-30 20:21:28,339 INFO Direction: (0.6005932766629122, 0.6716347249879824, 0.4338139142738785, -0.5855367712431213, -2.7755575615628914e-17, 0.8106458471627304, 0.5444579006217903, -0.7408824442449136, 0.3932668283242249)\n"
     ]
    },
    {
     "name": "stderr",
     "output_type": "stream",
     "text": [
      "2018-09-30 20:21:28,344 INFO Components: 1"
     ]
    },
    {
     "name": "stderr",
     "output_type": "stream",
     "text": [
      "\n"
     ]
    },
    {
     "name": "stderr",
     "output_type": "stream",
     "text": [
      "2018-09-30 20:21:28,385 INFO Imagesize: (256, 256, 1)\n"
     ]
    },
    {
     "name": "stderr",
     "output_type": "stream",
     "text": [
      "2018-09-30 20:21:28,388 INFO Origing: (-158.52684245954, 130.138300720652, 46.2148335820479)\n"
     ]
    },
    {
     "name": "stderr",
     "output_type": "stream",
     "text": [
      "2018-09-30 20:21:28,389 INFO Spacing: (1.171875, 1.171875, 6.0)\n"
     ]
    },
    {
     "name": "stderr",
     "output_type": "stream",
     "text": [
      "2018-09-30 20:21:28,391 INFO Direction: (0.6005932766629122, 0.6716347249879824, 0.4338139142738785, -0.5855367712431213, -2.7755575615628914e-17, 0.8106458471627304, 0.5444579006217903, -0.7408824442449136, 0.3932668283242249)\n"
     ]
    },
    {
     "name": "stderr",
     "output_type": "stream",
     "text": [
      "2018-09-30 20:21:28,393 INFO Components: 1\n"
     ]
    },
    {
     "name": "stderr",
     "output_type": "stream",
     "text": [
      "2018-09-30 20:21:28,430 INFO Imagesize: (256, 256, 1)\n"
     ]
    },
    {
     "name": "stderr",
     "output_type": "stream",
     "text": [
      "2018-09-30 20:21:28,432 INFO Origing: (-158.52684245954, 130.138300720652, 46.2148335820479)\n"
     ]
    },
    {
     "name": "stderr",
     "output_type": "stream",
     "text": [
      "2018-09-30 20:21:28,434 INFO Spacing: (1.171875, 1.171875, 6.0)\n"
     ]
    },
    {
     "name": "stderr",
     "output_type": "stream",
     "text": [
      "2018-09-30 20:21:28,436 INFO Direction: (0.6005932766629122, 0.6716347249879824, 0.4338139142738785, -0.5855367712431213, -2.7755575615628914e-17, 0.8106458471627304, 0.5444579006217903, -0.7408824442449136, 0.3932668283242249)\n"
     ]
    },
    {
     "name": "stderr",
     "output_type": "stream",
     "text": [
      "2018-09-30 20:21:28,437 INFO Components: 1\n"
     ]
    },
    {
     "name": "stderr",
     "output_type": "stream",
     "text": [
      "2018-09-30 20:21:28,485 INFO Imagesize: (256, 256, 1)\n"
     ]
    },
    {
     "name": "stderr",
     "output_type": "stream",
     "text": [
      "2018-09-30 20:21:28,487 INFO Origing: (-158.52684245954, 130.138300720652, 46.2148335820479)\n"
     ]
    },
    {
     "name": "stderr",
     "output_type": "stream",
     "text": [
      "2018-09-30 20:21:28,488 INFO Spacing: (1.171875, 1.171875, 6.0)\n"
     ]
    },
    {
     "name": "stderr",
     "output_type": "stream",
     "text": [
      "2018-09-30 20:21:28,490 INFO Direction: (0.6005932766629122, 0.6716347249879824, 0.4338139142738785, -0.5855367712431213, -2.7755575615628914e-17, 0.8106458471627304, 0.5444579006217903, -0.7408824442449136, 0.3932668283242249)\n"
     ]
    },
    {
     "name": "stderr",
     "output_type": "stream",
     "text": [
      "2018-09-30 20:21:28,495 INFO Components: 1\n"
     ]
    },
    {
     "name": "stderr",
     "output_type": "stream",
     "text": [
      "2018-09-30 20:21:28,531 INFO Imagesize: (256, 256, 1)\n"
     ]
    },
    {
     "name": "stderr",
     "output_type": "stream",
     "text": [
      "2018-09-30 20:21:28,532 INFO Origing: (-158.52684245954, 130.138300720652, 46.2148335820479)\n"
     ]
    },
    {
     "name": "stderr",
     "output_type": "stream",
     "text": [
      "2018-09-30 20:21:28,534 INFO Spacing: (1.171875, 1.171875, 6.0)\n"
     ]
    },
    {
     "name": "stderr",
     "output_type": "stream",
     "text": [
      "2018-09-30 20:21:28,535 INFO Direction: (0.6005932766629122, 0.6716347249879824, 0.4338139142738785, -0.5855367712431213, -2.7755575615628914e-17, 0.8106458471627304, 0.5444579006217903, -0.7408824442449136, 0.3932668283242249)\n"
     ]
    },
    {
     "name": "stderr",
     "output_type": "stream",
     "text": [
      "2018-09-30 20:21:28,537 INFO Components: 1\n"
     ]
    },
    {
     "name": "stderr",
     "output_type": "stream",
     "text": [
      "2018-09-30 20:21:28,577 INFO Imagesize: (256, 256, 1)\n"
     ]
    },
    {
     "name": "stderr",
     "output_type": "stream",
     "text": [
      "2018-09-30 20:21:28,579 INFO Origing: (-158.52684245954, 130.138300720652, 46.2148335820479)\n"
     ]
    },
    {
     "name": "stderr",
     "output_type": "stream",
     "text": [
      "2018-09-30 20:21:28,580 INFO Spacing: (1.171875, 1.171875, 6.0)\n"
     ]
    },
    {
     "name": "stderr",
     "output_type": "stream",
     "text": [
      "2018-09-30 20:21:28,582 INFO Direction: (0.6005932766629122, 0.6716347249879824, 0.4338139142738785, -0.5855367712431213, -2.7755575615628914e-17, 0.8106458471627304, 0.5444579006217903, -0.7408824442449136, 0.3932668283242249)\n"
     ]
    },
    {
     "name": "stderr",
     "output_type": "stream",
     "text": [
      "2018-09-30 20:21:28,583 INFO Components: 1\n"
     ]
    },
    {
     "name": "stderr",
     "output_type": "stream",
     "text": [
      "2018-09-30 20:21:28,624 INFO Imagesize: (256, 256, 1)\n"
     ]
    },
    {
     "name": "stderr",
     "output_type": "stream",
     "text": [
      "2018-09-30 20:21:28,626 INFO Origing: (-158.52684245954, 130.138300720652, 46.2148335820479)\n"
     ]
    },
    {
     "name": "stderr",
     "output_type": "stream",
     "text": [
      "2018-09-30 20:21:28,628 INFO Spacing: (1.171875, 1.171875, 6.0)\n"
     ]
    },
    {
     "name": "stderr",
     "output_type": "stream",
     "text": [
      "2018-09-30 20:21:28,629 INFO Direction: (0.6005932766629122, 0.6716347249879824, 0.4338139142738785, -0.5855367712431213, -2.7755575615628914e-17, 0.8106458471627304, 0.5444579006217903, -0.7408824442449136, 0.3932668283242249)\n"
     ]
    },
    {
     "name": "stderr",
     "output_type": "stream",
     "text": [
      "2018-09-30 20:21:28,631 INFO Components: 1"
     ]
    },
    {
     "name": "stderr",
     "output_type": "stream",
     "text": [
      "\n"
     ]
    },
    {
     "name": "stderr",
     "output_type": "stream",
     "text": [
      "2018-09-30 20:21:28,669 INFO Imagesize: (256, 256, 1)\n"
     ]
    },
    {
     "name": "stderr",
     "output_type": "stream",
     "text": [
      "2018-09-30 20:21:28,670 INFO Origing: (-158.52684245954, 130.138300720652, 46.2148335820479)\n"
     ]
    },
    {
     "name": "stderr",
     "output_type": "stream",
     "text": [
      "2018-09-30 20:21:28,671 INFO Spacing: (1.171875, 1.171875, 6.0)\n"
     ]
    },
    {
     "name": "stderr",
     "output_type": "stream",
     "text": [
      "2018-09-30 20:21:28,673 INFO Direction: (0.6005932766629122, 0.6716347249879824, 0.4338139142738785, -0.5855367712431213, -2.7755575615628914e-17, 0.8106458471627304, 0.5444579006217903, -0.7408824442449136, 0.3932668283242249)\n"
     ]
    },
    {
     "name": "stderr",
     "output_type": "stream",
     "text": [
      "2018-09-30 20:21:28,674 INFO Components: 1\n"
     ]
    },
    {
     "name": "stderr",
     "output_type": "stream",
     "text": [
      "2018-09-30 20:21:28,714 INFO Imagesize: (256, 256, 1)\n"
     ]
    },
    {
     "name": "stderr",
     "output_type": "stream",
     "text": [
      "2018-09-30 20:21:28,715 INFO Origing: (-158.52684245954, 130.138300720652, 46.2148335820479)\n"
     ]
    },
    {
     "name": "stderr",
     "output_type": "stream",
     "text": [
      "2018-09-30 20:21:28,717 INFO Spacing: (1.171875, 1.171875, 6.0)\n"
     ]
    },
    {
     "name": "stderr",
     "output_type": "stream",
     "text": [
      "2018-09-30 20:21:28,719 INFO Direction: (0.6005932766629122, 0.6716347249879824, 0.4338139142738785, -0.5855367712431213, -2.7755575615628914e-17, 0.8106458471627304, 0.5444579006217903, -0.7408824442449136, 0.3932668283242249)\n"
     ]
    },
    {
     "name": "stderr",
     "output_type": "stream",
     "text": [
      "2018-09-30 20:21:28,721 INFO Components: 1\n"
     ]
    },
    {
     "name": "stderr",
     "output_type": "stream",
     "text": [
      "2018-09-30 20:21:28,760 INFO Imagesize: (256, 256, 1)\n"
     ]
    },
    {
     "name": "stderr",
     "output_type": "stream",
     "text": [
      "2018-09-30 20:21:28,762 INFO Origing: (-158.52684245954, 130.138300720652, 46.2148335820479)\n"
     ]
    },
    {
     "name": "stderr",
     "output_type": "stream",
     "text": [
      "2018-09-30 20:21:28,764 INFO Spacing: (1.171875, 1.171875, 6.0)\n"
     ]
    },
    {
     "name": "stderr",
     "output_type": "stream",
     "text": [
      "2018-09-30 20:21:28,766 INFO Direction: (0.6005932766629122, 0.6716347249879824, 0.4338139142738785, -0.5855367712431213, -2.7755575615628914e-17, 0.8106458471627304, 0.5444579006217903, -0.7408824442449136, 0.3932668283242249)\n"
     ]
    },
    {
     "name": "stderr",
     "output_type": "stream",
     "text": [
      "2018-09-30 20:21:28,768 INFO Components: 1\n"
     ]
    },
    {
     "name": "stderr",
     "output_type": "stream",
     "text": [
      "2018-09-30 20:21:28,802 INFO Imagesize: (256, 256, 1)\n"
     ]
    },
    {
     "name": "stderr",
     "output_type": "stream",
     "text": [
      "2018-09-30 20:21:28,804 INFO Origing: (-158.52684245954, 130.138300720652, 46.2148335820479)\n"
     ]
    },
    {
     "name": "stderr",
     "output_type": "stream",
     "text": [
      "2018-09-30 20:21:28,806 INFO Spacing: (1.171875, 1.171875, 6.0)\n"
     ]
    },
    {
     "name": "stderr",
     "output_type": "stream",
     "text": [
      "2018-09-30 20:21:28,807 INFO Direction: (0.6005932766629122, 0.6716347249879824, 0.4338139142738785, -0.5855367712431213, -2.7755575615628914e-17, 0.8106458471627304, 0.5444579006217903, -0.7408824442449136, 0.3932668283242249)\n"
     ]
    },
    {
     "name": "stderr",
     "output_type": "stream",
     "text": [
      "2018-09-30 20:21:28,809 INFO Components: 1\n"
     ]
    },
    {
     "name": "stderr",
     "output_type": "stream",
     "text": [
      "2018-09-30 20:21:28,843 INFO Imagesize: (256, 256, 1)\n"
     ]
    },
    {
     "name": "stderr",
     "output_type": "stream",
     "text": [
      "2018-09-30 20:21:28,845 INFO Origing: (-158.52684245954, 130.138300720652, 46.2148335820479)\n"
     ]
    },
    {
     "name": "stderr",
     "output_type": "stream",
     "text": [
      "2018-09-30 20:21:28,846 INFO Spacing: (1.171875, 1.171875, 6.0)\n"
     ]
    },
    {
     "name": "stderr",
     "output_type": "stream",
     "text": [
      "2018-09-30 20:21:28,849 INFO Direction: (0.6005932766629122, 0.6716347249879824, 0.4338139142738785, -0.5855367712431213, -2.7755575615628914e-17, 0.8106458471627304, 0.5444579006217903, -0.7408824442449136, 0.3932668283242249)\n"
     ]
    },
    {
     "name": "stderr",
     "output_type": "stream",
     "text": [
      "2018-09-30 20:21:28,850 INFO Components: 1\n"
     ]
    },
    {
     "name": "stderr",
     "output_type": "stream",
     "text": [
      "2018-09-30 20:21:28,888 INFO Imagesize: (256, 256, 1)\n"
     ]
    },
    {
     "name": "stderr",
     "output_type": "stream",
     "text": [
      "2018-09-30 20:21:28,889 INFO Origing: (-158.52684245954, 130.138300720652, 46.2148335820479)\n"
     ]
    },
    {
     "name": "stderr",
     "output_type": "stream",
     "text": [
      "2018-09-30 20:21:28,891 INFO Spacing: (1.171875, 1.171875, 6.0)\n"
     ]
    },
    {
     "name": "stderr",
     "output_type": "stream",
     "text": [
      "2018-09-30 20:21:28,893 INFO Direction: (0.6005932766629122, 0.6716347249879824, 0.4338139142738785, -0.5855367712431213, -2.7755575615628914e-17, 0.8106458471627304, 0.5444579006217903, -0.7408824442449136, 0.3932668283242249)\n"
     ]
    },
    {
     "name": "stderr",
     "output_type": "stream",
     "text": [
      "2018-09-30 20:21:28,895 INFO Components: 1\n"
     ]
    },
    {
     "name": "stderr",
     "output_type": "stream",
     "text": [
      "2018-09-30 20:21:28,929 INFO Imagesize: (256, 256, 1)\n"
     ]
    },
    {
     "name": "stderr",
     "output_type": "stream",
     "text": [
      "2018-09-30 20:21:28,930 INFO Origing: (-158.52684245954, 130.138300720652, 46.2148335820479)\n"
     ]
    },
    {
     "name": "stderr",
     "output_type": "stream",
     "text": [
      "2018-09-30 20:21:28,933 INFO Spacing: (1.171875, 1.171875, 6.0)\n"
     ]
    },
    {
     "name": "stderr",
     "output_type": "stream",
     "text": [
      "2018-09-30 20:21:28,934 INFO Direction: (0.6005932766629122, 0.6716347249879824, 0.4338139142738785, -0.5855367712431213, -2.7755575615628914e-17, 0.8106458471627304, 0.5444579006217903, -0.7408824442449136, 0.3932668283242249)\n"
     ]
    },
    {
     "name": "stderr",
     "output_type": "stream",
     "text": [
      "2018-09-30 20:21:28,936 INFO Components: 1\n"
     ]
    },
    {
     "name": "stderr",
     "output_type": "stream",
     "text": [
      "2018-09-30 20:21:28,977 INFO Imagesize: (256, 256, 1)\n"
     ]
    },
    {
     "name": "stderr",
     "output_type": "stream",
     "text": [
      "2018-09-30 20:21:28,979 INFO Origing: (-158.52684245954, 130.138300720652, 46.2148335820479)\n"
     ]
    },
    {
     "name": "stderr",
     "output_type": "stream",
     "text": [
      "2018-09-30 20:21:28,981 INFO Spacing: (1.171875, 1.171875, 6.0)\n"
     ]
    },
    {
     "name": "stderr",
     "output_type": "stream",
     "text": [
      "2018-09-30 20:21:28,983 INFO Direction: (0.6005932766629122, 0.6716347249879824, 0.4338139142738785, -0.5855367712431213, -2.7755575615628914e-17, 0.8106458471627304, 0.5444579006217903, -0.7408824442449136, 0.3932668283242249)\n"
     ]
    },
    {
     "name": "stderr",
     "output_type": "stream",
     "text": [
      "2018-09-30 20:21:28,985 INFO Components: 1\n"
     ]
    },
    {
     "name": "stderr",
     "output_type": "stream",
     "text": [
      "2018-09-30 20:21:29,019 INFO Imagesize: (256, 256, 1)\n"
     ]
    },
    {
     "name": "stderr",
     "output_type": "stream",
     "text": [
      "2018-09-30 20:21:29,021 INFO Origing: (-158.52684245954, 130.138300720652, 46.2148335820479)\n"
     ]
    },
    {
     "name": "stderr",
     "output_type": "stream",
     "text": [
      "2018-09-30 20:21:29,022 INFO Spacing: (1.171875, 1.171875, 6.0)\n"
     ]
    },
    {
     "name": "stderr",
     "output_type": "stream",
     "text": [
      "2018-09-30 20:21:29,024 INFO Direction: (0.6005932766629122, 0.6716347249879824, 0.4338139142738785, -0.5855367712431213, -2.7755575615628914e-17, 0.8106458471627304, 0.5444579006217903, -0.7408824442449136, 0.3932668283242249)\n"
     ]
    },
    {
     "name": "stderr",
     "output_type": "stream",
     "text": [
      "2018-09-30 20:21:29,026 INFO Components: 1\n"
     ]
    },
    {
     "name": "stderr",
     "output_type": "stream",
     "text": [
      "2018-09-30 20:21:29,060 INFO Imagesize: (256, 256, 1)\n"
     ]
    },
    {
     "name": "stderr",
     "output_type": "stream",
     "text": [
      "2018-09-30 20:21:29,062 INFO Origing: (-158.52684245954, 130.138300720652, 46.2148335820479)\n"
     ]
    },
    {
     "name": "stderr",
     "output_type": "stream",
     "text": [
      "2018-09-30 20:21:29,063 INFO Spacing: (1.171875, 1.171875, 6.0)\n"
     ]
    },
    {
     "name": "stderr",
     "output_type": "stream",
     "text": [
      "2018-09-30 20:21:29,065 INFO Direction: (0.6005932766629122, 0.6716347249879824, 0.4338139142738785, -0.5855367712431213, -2.7755575615628914e-17, 0.8106458471627304, 0.5444579006217903, -0.7408824442449136, 0.3932668283242249)\n"
     ]
    },
    {
     "name": "stderr",
     "output_type": "stream",
     "text": [
      "2018-09-30 20:21:29,067 INFO Components: 1\n"
     ]
    },
    {
     "name": "stderr",
     "output_type": "stream",
     "text": [
      "2018-09-30 20:21:29,105 INFO Imagesize: (256, 256, 1)\n"
     ]
    },
    {
     "name": "stderr",
     "output_type": "stream",
     "text": [
      "2018-09-30 20:21:29,106 INFO Origing: (-158.52684245954, 130.138300720652, 46.2148335820479)\n"
     ]
    },
    {
     "name": "stderr",
     "output_type": "stream",
     "text": [
      "2018-09-30 20:21:29,109 INFO Spacing: (1.171875, 1.171875, 6.0)\n"
     ]
    },
    {
     "name": "stderr",
     "output_type": "stream",
     "text": [
      "2018-09-30 20:21:29,111 INFO Direction: (0.6005932766629122, 0.6716347249879824, 0.4338139142738785, -0.5855367712431213, -2.7755575615628914e-17, 0.8106458471627304, 0.5444579006217903, -0.7408824442449136, 0.3932668283242249)\n"
     ]
    },
    {
     "name": "stderr",
     "output_type": "stream",
     "text": [
      "2018-09-30 20:21:29,115 INFO Components: 1\n"
     ]
    },
    {
     "name": "stderr",
     "output_type": "stream",
     "text": [
      "2018-09-30 20:21:29,117 DEBUG Trying to save to data/processed/sumarized/0706-ZY8H5791-2005-06-16/\n"
     ]
    },
    {
     "name": "stderr",
     "output_type": "stream",
     "text": [
      "2018-09-30 20:21:29,153 DEBUG update_title_pos\n"
     ]
    },
    {
     "name": "stderr",
     "output_type": "stream",
     "text": [
      "2018-09-30 20:21:29,177 DEBUG update_title_pos"
     ]
    },
    {
     "name": "stderr",
     "output_type": "stream",
     "text": [
      "\n"
     ]
    },
    {
     "name": "stderr",
     "output_type": "stream",
     "text": [
      "2018-09-30 20:21:29,198 DEBUG update_title_pos\n"
     ]
    },
    {
     "name": "stderr",
     "output_type": "stream",
     "text": [
      "2018-09-30 20:21:29,216 DEBUG update_title_pos\n"
     ]
    },
    {
     "name": "stderr",
     "output_type": "stream",
     "text": [
      "2018-09-30 20:21:29,241 DEBUG update_title_pos\n"
     ]
    },
    {
     "name": "stderr",
     "output_type": "stream",
     "text": [
      "2018-09-30 20:21:29,258 DEBUG update_title_pos\n"
     ]
    },
    {
     "name": "stderr",
     "output_type": "stream",
     "text": [
      "2018-09-30 20:21:29,276 DEBUG update_title_pos\n"
     ]
    },
    {
     "name": "stderr",
     "output_type": "stream",
     "text": [
      "2018-09-30 20:21:29,294 DEBUG update_title_pos\n"
     ]
    },
    {
     "name": "stderr",
     "output_type": "stream",
     "text": [
      "2018-09-30 20:21:29,312 DEBUG update_title_pos\n"
     ]
    },
    {
     "name": "stderr",
     "output_type": "stream",
     "text": [
      "2018-09-30 20:21:29,332 DEBUG update_title_pos\n"
     ]
    },
    {
     "name": "stderr",
     "output_type": "stream",
     "text": [
      "2018-09-30 20:21:29,352 DEBUG update_title_pos\n"
     ]
    },
    {
     "name": "stderr",
     "output_type": "stream",
     "text": [
      "2018-09-30 20:21:29,371 DEBUG update_title_pos\n"
     ]
    },
    {
     "name": "stderr",
     "output_type": "stream",
     "text": [
      "2018-09-30 20:21:29,390 DEBUG update_title_pos\n"
     ]
    },
    {
     "name": "stderr",
     "output_type": "stream",
     "text": [
      "2018-09-30 20:21:29,408 DEBUG update_title_pos\n"
     ]
    },
    {
     "name": "stderr",
     "output_type": "stream",
     "text": [
      "2018-09-30 20:21:29,427 DEBUG update_title_pos\n"
     ]
    },
    {
     "name": "stderr",
     "output_type": "stream",
     "text": [
      "2018-09-30 20:21:29,446 DEBUG update_title_pos\n"
     ]
    },
    {
     "name": "stderr",
     "output_type": "stream",
     "text": [
      "2018-09-30 20:21:29,467 DEBUG update_title_pos\n"
     ]
    },
    {
     "name": "stderr",
     "output_type": "stream",
     "text": [
      "2018-09-30 20:21:29,489 DEBUG update_title_pos\n"
     ]
    },
    {
     "name": "stderr",
     "output_type": "stream",
     "text": [
      "2018-09-30 20:21:29,507 DEBUG update_title_pos\n"
     ]
    },
    {
     "name": "stderr",
     "output_type": "stream",
     "text": [
      "2018-09-30 20:21:29,525 DEBUG update_title_pos\n"
     ]
    },
    {
     "name": "stderr",
     "output_type": "stream",
     "text": [
      "2018-09-30 20:21:29,544 DEBUG update_title_pos\n"
     ]
    },
    {
     "name": "stderr",
     "output_type": "stream",
     "text": [
      "2018-09-30 20:21:29,562 DEBUG update_title_pos\n"
     ]
    },
    {
     "name": "stderr",
     "output_type": "stream",
     "text": [
      "2018-09-30 20:21:29,581 DEBUG update_title_pos\n"
     ]
    },
    {
     "name": "stderr",
     "output_type": "stream",
     "text": [
      "2018-09-30 20:21:29,603 DEBUG update_title_pos\n"
     ]
    },
    {
     "name": "stderr",
     "output_type": "stream",
     "text": [
      "2018-09-30 20:21:29,622 DEBUG update_title_pos\n"
     ]
    },
    {
     "name": "stderr",
     "output_type": "stream",
     "text": [
      "2018-09-30 20:21:29,640 DEBUG update_title_pos\n"
     ]
    },
    {
     "name": "stderr",
     "output_type": "stream",
     "text": [
      "2018-09-30 20:21:29,659 DEBUG update_title_pos\n"
     ]
    },
    {
     "name": "stderr",
     "output_type": "stream",
     "text": [
      "2018-09-30 20:21:29,680 DEBUG update_title_pos\n"
     ]
    },
    {
     "name": "stderr",
     "output_type": "stream",
     "text": [
      "2018-09-30 20:21:29,700 DEBUG update_title_pos\n"
     ]
    },
    {
     "name": "stderr",
     "output_type": "stream",
     "text": [
      "2018-09-30 20:21:29,718 DEBUG update_title_pos\n"
     ]
    },
    {
     "name": "stderr",
     "output_type": "stream",
     "text": [
      "2018-09-30 20:21:29,737 DEBUG update_title_pos\n"
     ]
    },
    {
     "name": "stderr",
     "output_type": "stream",
     "text": [
      "2018-09-30 20:21:29,756 DEBUG update_title_pos\n"
     ]
    },
    {
     "name": "stderr",
     "output_type": "stream",
     "text": [
      "2018-09-30 20:21:29,775 DEBUG update_title_pos\n"
     ]
    },
    {
     "name": "stderr",
     "output_type": "stream",
     "text": [
      "2018-09-30 20:21:29,795 DEBUG update_title_pos\n"
     ]
    },
    {
     "name": "stderr",
     "output_type": "stream",
     "text": [
      "2018-09-30 20:21:29,814 DEBUG update_title_pos\n"
     ]
    },
    {
     "name": "stderr",
     "output_type": "stream",
     "text": [
      "2018-09-30 20:21:29,833 DEBUG update_title_pos\n"
     ]
    },
    {
     "name": "stderr",
     "output_type": "stream",
     "text": [
      "2018-09-30 20:21:33,198 DEBUG Image saved: data/processed/sumarized/0706-ZY8H5791-2005-06-16/1.3.46.670589.11.0.0.11.4.2.0.5167.5.4188.2005061614513735374_1.png\n"
     ]
    },
    {
     "name": "stderr",
     "output_type": "stream",
     "text": [
      "2018-09-30 20:21:33,278 INFO files: 36\n"
     ]
    },
    {
     "name": "stderr",
     "output_type": "stream",
     "text": [
      "2018-09-30 20:21:33,279 INFO Gridsize: 6 rows x 6 columns\n"
     ]
    },
    {
     "name": "stderr",
     "output_type": "stream",
     "text": [
      "2018-09-30 20:21:33,312 INFO Imagesize: (256, 256, 1)\n"
     ]
    },
    {
     "name": "stderr",
     "output_type": "stream",
     "text": [
      "2018-09-30 20:21:33,314 INFO Origing: (-39.021751449435, -124.81285386898, 121.545423851044)\n"
     ]
    },
    {
     "name": "stderr",
     "output_type": "stream",
     "text": [
      "2018-09-30 20:21:33,316 INFO Spacing: (1.171875, 1.171875, 6.0)\n"
     ]
    },
    {
     "name": "stderr",
     "output_type": "stream",
     "text": [
      "2018-09-30 20:21:33,319 INFO Direction: (0.32262723909146207, 0.10322256132258195, -0.9408808465635947, 0.9459337556109374, 6.938893903907228e-18, 0.32435987729031424, 0.03348125732418461, -0.9946582844545188, -0.09764170509565019)\n"
     ]
    },
    {
     "name": "stderr",
     "output_type": "stream",
     "text": [
      "2018-09-30 20:21:33,321 INFO Components: 1\n"
     ]
    },
    {
     "name": "stderr",
     "output_type": "stream",
     "text": [
      "2018-09-30 20:21:33,351 INFO Imagesize: (256, 256, 1)\n"
     ]
    },
    {
     "name": "stderr",
     "output_type": "stream",
     "text": [
      "2018-09-30 20:21:33,352 INFO Origing: (-39.021751449435, -124.81285386898, 121.545423851044)\n"
     ]
    },
    {
     "name": "stderr",
     "output_type": "stream",
     "text": [
      "2018-09-30 20:21:33,354 INFO Spacing: (1.171875, 1.171875, 6.0)\n"
     ]
    },
    {
     "name": "stderr",
     "output_type": "stream",
     "text": [
      "2018-09-30 20:21:33,357 INFO Direction: (0.32262723909146207, 0.10322256132258195, -0.9408808465635947, 0.9459337556109374, 6.938893903907228e-18, 0.32435987729031424, 0.03348125732418461, -0.9946582844545188, -0.09764170509565019)\n"
     ]
    },
    {
     "name": "stderr",
     "output_type": "stream",
     "text": [
      "2018-09-30 20:21:33,359 INFO Components: 1\n"
     ]
    },
    {
     "name": "stderr",
     "output_type": "stream",
     "text": [
      "2018-09-30 20:21:33,393 INFO Imagesize: (256, 256, 1)\n"
     ]
    },
    {
     "name": "stderr",
     "output_type": "stream",
     "text": [
      "2018-09-30 20:21:33,396 INFO Origing: (-39.021751449435, -124.81285386898, 121.545423851044)\n"
     ]
    },
    {
     "name": "stderr",
     "output_type": "stream",
     "text": [
      "2018-09-30 20:21:33,398 INFO Spacing: (1.171875, 1.171875, 6.0)\n"
     ]
    },
    {
     "name": "stderr",
     "output_type": "stream",
     "text": [
      "2018-09-30 20:21:33,400 INFO Direction: (0.32262723909146207, 0.10322256132258195, -0.9408808465635947, 0.9459337556109374, 6.938893903907228e-18, 0.32435987729031424, 0.03348125732418461, -0.9946582844545188, -0.09764170509565019)\n"
     ]
    },
    {
     "name": "stderr",
     "output_type": "stream",
     "text": [
      "2018-09-30 20:21:33,403 INFO Components: 1\n"
     ]
    },
    {
     "name": "stderr",
     "output_type": "stream",
     "text": [
      "2018-09-30 20:21:33,435 INFO Imagesize: (256, 256, 1)\n"
     ]
    },
    {
     "name": "stderr",
     "output_type": "stream",
     "text": [
      "2018-09-30 20:21:33,438 INFO Origing: (-39.021751449435, -124.81285386898, 121.545423851044)\n"
     ]
    },
    {
     "name": "stderr",
     "output_type": "stream",
     "text": [
      "2018-09-30 20:21:33,439 INFO Spacing: (1.171875, 1.171875, 6.0)\n"
     ]
    },
    {
     "name": "stderr",
     "output_type": "stream",
     "text": [
      "2018-09-30 20:21:33,441 INFO Direction: (0.32262723909146207, 0.10322256132258195, -0.9408808465635947, 0.9459337556109374, 6.938893903907228e-18, 0.32435987729031424, 0.03348125732418461, -0.9946582844545188, -0.09764170509565019)\n"
     ]
    },
    {
     "name": "stderr",
     "output_type": "stream",
     "text": [
      "2018-09-30 20:21:33,443 INFO Components: 1\n"
     ]
    },
    {
     "name": "stderr",
     "output_type": "stream",
     "text": [
      "2018-09-30 20:21:33,473 INFO Imagesize: (256, 256, 1)\n"
     ]
    },
    {
     "name": "stderr",
     "output_type": "stream",
     "text": [
      "2018-09-30 20:21:33,475 INFO Origing: (-39.021751449435, -124.81285386898, 121.545423851044)\n"
     ]
    },
    {
     "name": "stderr",
     "output_type": "stream",
     "text": [
      "2018-09-30 20:21:33,477 INFO Spacing: (1.171875, 1.171875, 6.0)\n"
     ]
    },
    {
     "name": "stderr",
     "output_type": "stream",
     "text": [
      "2018-09-30 20:21:33,478 INFO Direction: (0.32262723909146207, 0.10322256132258195, -0.9408808465635947, 0.9459337556109374, 6.938893903907228e-18, 0.32435987729031424, 0.03348125732418461, -0.9946582844545188, -0.09764170509565019)"
     ]
    },
    {
     "name": "stderr",
     "output_type": "stream",
     "text": [
      "\n"
     ]
    },
    {
     "name": "stderr",
     "output_type": "stream",
     "text": [
      "2018-09-30 20:21:33,481 INFO Components: 1\n"
     ]
    },
    {
     "name": "stderr",
     "output_type": "stream",
     "text": [
      "2018-09-30 20:21:33,516 INFO Imagesize: (256, 256, 1)\n"
     ]
    },
    {
     "name": "stderr",
     "output_type": "stream",
     "text": [
      "2018-09-30 20:21:33,518 INFO Origing: (-39.021751449435, -124.81285386898, 121.545423851044)\n"
     ]
    },
    {
     "name": "stderr",
     "output_type": "stream",
     "text": [
      "2018-09-30 20:21:33,519 INFO Spacing: (1.171875, 1.171875, 6.0)\n"
     ]
    },
    {
     "name": "stderr",
     "output_type": "stream",
     "text": [
      "2018-09-30 20:21:33,522 INFO Direction: (0.32262723909146207, 0.10322256132258195, -0.9408808465635947, 0.9459337556109374, 6.938893903907228e-18, 0.32435987729031424, 0.03348125732418461, -0.9946582844545188, -0.09764170509565019)\n"
     ]
    },
    {
     "name": "stderr",
     "output_type": "stream",
     "text": [
      "2018-09-30 20:21:33,524 INFO Components: 1\n"
     ]
    },
    {
     "name": "stderr",
     "output_type": "stream",
     "text": [
      "2018-09-30 20:21:33,559 INFO Imagesize: (256, 256, 1)\n"
     ]
    },
    {
     "name": "stderr",
     "output_type": "stream",
     "text": [
      "2018-09-30 20:21:33,561 INFO Origing: (-39.021751449435, -124.81285386898, 121.545423851044)\n"
     ]
    },
    {
     "name": "stderr",
     "output_type": "stream",
     "text": [
      "2018-09-30 20:21:33,562 INFO Spacing: (1.171875, 1.171875, 6.0)\n"
     ]
    },
    {
     "name": "stderr",
     "output_type": "stream",
     "text": [
      "2018-09-30 20:21:33,564 INFO Direction: (0.32262723909146207, 0.10322256132258195, -0.9408808465635947, 0.9459337556109374, 6.938893903907228e-18, 0.32435987729031424, 0.03348125732418461, -0.9946582844545188, -0.09764170509565019)\n"
     ]
    },
    {
     "name": "stderr",
     "output_type": "stream",
     "text": [
      "2018-09-30 20:21:33,566 INFO Components: 1\n"
     ]
    },
    {
     "name": "stderr",
     "output_type": "stream",
     "text": [
      "2018-09-30 20:21:33,600 INFO Imagesize: (256, 256, 1)\n"
     ]
    },
    {
     "name": "stderr",
     "output_type": "stream",
     "text": [
      "2018-09-30 20:21:33,603 INFO Origing: (-39.021751449435, -124.81285386898, 121.545423851044)\n"
     ]
    },
    {
     "name": "stderr",
     "output_type": "stream",
     "text": [
      "2018-09-30 20:21:33,604 INFO Spacing: (1.171875, 1.171875, 6.0)\n"
     ]
    },
    {
     "name": "stderr",
     "output_type": "stream",
     "text": [
      "2018-09-30 20:21:33,606 INFO Direction: (0.32262723909146207, 0.10322256132258195, -0.9408808465635947, 0.9459337556109374, 6.938893903907228e-18, 0.32435987729031424, 0.03348125732418461, -0.9946582844545188, -0.09764170509565019)\n"
     ]
    },
    {
     "name": "stderr",
     "output_type": "stream",
     "text": [
      "2018-09-30 20:21:33,607 INFO Components: 1\n"
     ]
    },
    {
     "name": "stderr",
     "output_type": "stream",
     "text": [
      "2018-09-30 20:21:33,642 INFO Imagesize: (256, 256, 1)\n"
     ]
    },
    {
     "name": "stderr",
     "output_type": "stream",
     "text": [
      "2018-09-30 20:21:33,644 INFO Origing: (-39.021751449435, -124.81285386898, 121.545423851044)\n"
     ]
    },
    {
     "name": "stderr",
     "output_type": "stream",
     "text": [
      "2018-09-30 20:21:33,646 INFO Spacing: (1.171875, 1.171875, 6.0)\n"
     ]
    },
    {
     "name": "stderr",
     "output_type": "stream",
     "text": [
      "2018-09-30 20:21:33,648 INFO Direction: (0.32262723909146207, 0.10322256132258195, -0.9408808465635947, 0.9459337556109374, 6.938893903907228e-18, 0.32435987729031424, 0.03348125732418461, -0.9946582844545188, -0.09764170509565019)\n"
     ]
    },
    {
     "name": "stderr",
     "output_type": "stream",
     "text": [
      "2018-09-30 20:21:33,650 INFO Components: 1\n"
     ]
    },
    {
     "name": "stderr",
     "output_type": "stream",
     "text": [
      "2018-09-30 20:21:33,686 INFO Imagesize: (256, 256, 1)\n"
     ]
    },
    {
     "name": "stderr",
     "output_type": "stream",
     "text": [
      "2018-09-30 20:21:33,688 INFO Origing: (-39.021751449435, -124.81285386898, 121.545423851044)\n"
     ]
    },
    {
     "name": "stderr",
     "output_type": "stream",
     "text": [
      "2018-09-30 20:21:33,689 INFO Spacing: (1.171875, 1.171875, 6.0)\n"
     ]
    },
    {
     "name": "stderr",
     "output_type": "stream",
     "text": [
      "2018-09-30 20:21:33,691 INFO Direction: (0.32262723909146207, 0.10322256132258195, -0.9408808465635947, 0.9459337556109374, 6.938893903907228e-18, 0.32435987729031424, 0.03348125732418461, -0.9946582844545188, -0.09764170509565019)\n"
     ]
    },
    {
     "name": "stderr",
     "output_type": "stream",
     "text": [
      "2018-09-30 20:21:33,692 INFO Components: 1\n"
     ]
    },
    {
     "name": "stderr",
     "output_type": "stream",
     "text": [
      "2018-09-30 20:21:33,726 INFO Imagesize: (256, 256, 1)\n"
     ]
    },
    {
     "name": "stderr",
     "output_type": "stream",
     "text": [
      "2018-09-30 20:21:33,728 INFO Origing: (-39.021751449435, -124.81285386898, 121.545423851044)\n"
     ]
    },
    {
     "name": "stderr",
     "output_type": "stream",
     "text": [
      "2018-09-30 20:21:33,729 INFO Spacing: (1.171875, 1.171875, 6.0)\n"
     ]
    },
    {
     "name": "stderr",
     "output_type": "stream",
     "text": [
      "2018-09-30 20:21:33,731 INFO Direction: (0.32262723909146207, 0.10322256132258195, -0.9408808465635947, 0.9459337556109374, 6.938893903907228e-18, 0.32435987729031424, 0.03348125732418461, -0.9946582844545188, -0.09764170509565019)\n"
     ]
    },
    {
     "name": "stderr",
     "output_type": "stream",
     "text": [
      "2018-09-30 20:21:33,732 INFO Components: 1\n"
     ]
    },
    {
     "name": "stderr",
     "output_type": "stream",
     "text": [
      "2018-09-30 20:21:33,767 INFO Imagesize: (256, 256, 1)\n"
     ]
    },
    {
     "name": "stderr",
     "output_type": "stream",
     "text": [
      "2018-09-30 20:21:33,770 INFO Origing: (-39.021751449435, -124.81285386898, 121.545423851044)\n"
     ]
    },
    {
     "name": "stderr",
     "output_type": "stream",
     "text": [
      "2018-09-30 20:21:33,772 INFO Spacing: (1.171875, 1.171875, 6.0)\n"
     ]
    },
    {
     "name": "stderr",
     "output_type": "stream",
     "text": [
      "2018-09-30 20:21:33,775 INFO Direction: (0.32262723909146207, 0.10322256132258195, -0.9408808465635947, 0.9459337556109374, 6.938893903907228e-18, 0.32435987729031424, 0.03348125732418461, -0.9946582844545188, -0.09764170509565019)\n"
     ]
    },
    {
     "name": "stderr",
     "output_type": "stream",
     "text": [
      "2018-09-30 20:21:33,777 INFO Components: 1\n"
     ]
    },
    {
     "name": "stderr",
     "output_type": "stream",
     "text": [
      "2018-09-30 20:21:33,813 INFO Imagesize: (256, 256, 1)\n"
     ]
    },
    {
     "name": "stderr",
     "output_type": "stream",
     "text": [
      "2018-09-30 20:21:33,814 INFO Origing: (-39.021751449435, -124.81285386898, 121.545423851044)\n"
     ]
    },
    {
     "name": "stderr",
     "output_type": "stream",
     "text": [
      "2018-09-30 20:21:33,817 INFO Spacing: (1.171875, 1.171875, 6.0)\n"
     ]
    },
    {
     "name": "stderr",
     "output_type": "stream",
     "text": [
      "2018-09-30 20:21:33,819 INFO Direction: (0.32262723909146207, 0.10322256132258195, -0.9408808465635947, 0.9459337556109374, 6.938893903907228e-18, 0.32435987729031424, 0.03348125732418461, -0.9946582844545188, -0.09764170509565019)\n"
     ]
    },
    {
     "name": "stderr",
     "output_type": "stream",
     "text": [
      "2018-09-30 20:21:33,820 INFO Components: 1\n"
     ]
    },
    {
     "name": "stderr",
     "output_type": "stream",
     "text": [
      "2018-09-30 20:21:33,855 INFO Imagesize: (256, 256, 1)\n"
     ]
    },
    {
     "name": "stderr",
     "output_type": "stream",
     "text": [
      "2018-09-30 20:21:33,858 INFO Origing: (-39.021751449435, -124.81285386898, 121.545423851044)\n"
     ]
    },
    {
     "name": "stderr",
     "output_type": "stream",
     "text": [
      "2018-09-30 20:21:33,859 INFO Spacing: (1.171875, 1.171875, 6.0)\n"
     ]
    },
    {
     "name": "stderr",
     "output_type": "stream",
     "text": [
      "2018-09-30 20:21:33,861 INFO Direction: (0.32262723909146207, 0.10322256132258195, -0.9408808465635947, 0.9459337556109374, 6.938893903907228e-18, 0.32435987729031424, 0.03348125732418461, -0.9946582844545188, -0.09764170509565019)\n"
     ]
    },
    {
     "name": "stderr",
     "output_type": "stream",
     "text": [
      "2018-09-30 20:21:33,863 INFO Components: 1\n"
     ]
    },
    {
     "name": "stderr",
     "output_type": "stream",
     "text": [
      "2018-09-30 20:21:33,899 INFO Imagesize: (256, 256, 1)\n"
     ]
    },
    {
     "name": "stderr",
     "output_type": "stream",
     "text": [
      "2018-09-30 20:21:33,901 INFO Origing: (-39.021751449435, -124.81285386898, 121.545423851044)\n"
     ]
    },
    {
     "name": "stderr",
     "output_type": "stream",
     "text": [
      "2018-09-30 20:21:33,903 INFO Spacing: (1.171875, 1.171875, 6.0)\n"
     ]
    },
    {
     "name": "stderr",
     "output_type": "stream",
     "text": [
      "2018-09-30 20:21:33,905 INFO Direction: (0.32262723909146207, 0.10322256132258195, -0.9408808465635947, 0.9459337556109374, 6.938893903907228e-18, 0.32435987729031424, 0.03348125732418461, -0.9946582844545188, -0.09764170509565019)\n"
     ]
    },
    {
     "name": "stderr",
     "output_type": "stream",
     "text": [
      "2018-09-30 20:21:33,907 INFO Components: 1\n"
     ]
    },
    {
     "name": "stderr",
     "output_type": "stream",
     "text": [
      "2018-09-30 20:21:33,944 INFO Imagesize: (256, 256, 1)\n"
     ]
    },
    {
     "name": "stderr",
     "output_type": "stream",
     "text": [
      "2018-09-30 20:21:33,946 INFO Origing: (-39.021751449435, -124.81285386898, 121.545423851044)\n"
     ]
    },
    {
     "name": "stderr",
     "output_type": "stream",
     "text": [
      "2018-09-30 20:21:33,948 INFO Spacing: (1.171875, 1.171875, 6.0)\n"
     ]
    },
    {
     "name": "stderr",
     "output_type": "stream",
     "text": [
      "2018-09-30 20:21:33,949 INFO Direction: (0.32262723909146207, 0.10322256132258195, -0.9408808465635947, 0.9459337556109374, 6.938893903907228e-18, 0.32435987729031424, 0.03348125732418461, -0.9946582844545188, -0.09764170509565019)\n"
     ]
    },
    {
     "name": "stderr",
     "output_type": "stream",
     "text": [
      "2018-09-30 20:21:33,951 INFO Components: 1\n"
     ]
    },
    {
     "name": "stderr",
     "output_type": "stream",
     "text": [
      "2018-09-30 20:21:33,986 INFO Imagesize: (256, 256, 1)\n"
     ]
    },
    {
     "name": "stderr",
     "output_type": "stream",
     "text": [
      "2018-09-30 20:21:33,988 INFO Origing: (-39.021751449435, -124.81285386898, 121.545423851044)\n"
     ]
    },
    {
     "name": "stderr",
     "output_type": "stream",
     "text": [
      "2018-09-30 20:21:33,990 INFO Spacing: (1.171875, 1.171875, 6.0)\n"
     ]
    },
    {
     "name": "stderr",
     "output_type": "stream",
     "text": [
      "2018-09-30 20:21:33,992 INFO Direction: (0.32262723909146207, 0.10322256132258195, -0.9408808465635947, 0.9459337556109374, 6.938893903907228e-18, 0.32435987729031424, 0.03348125732418461, -0.9946582844545188, -0.09764170509565019)\n"
     ]
    },
    {
     "name": "stderr",
     "output_type": "stream",
     "text": [
      "2018-09-30 20:21:33,994 INFO Components: 1\n"
     ]
    },
    {
     "name": "stderr",
     "output_type": "stream",
     "text": [
      "2018-09-30 20:21:34,030 INFO Imagesize: (256, 256, 1)\n"
     ]
    },
    {
     "name": "stderr",
     "output_type": "stream",
     "text": [
      "2018-09-30 20:21:34,031 INFO Origing: (-39.021751449435, -124.81285386898, 121.545423851044)\n"
     ]
    },
    {
     "name": "stderr",
     "output_type": "stream",
     "text": [
      "2018-09-30 20:21:34,034 INFO Spacing: (1.171875, 1.171875, 6.0)\n"
     ]
    },
    {
     "name": "stderr",
     "output_type": "stream",
     "text": [
      "2018-09-30 20:21:34,036 INFO Direction: (0.32262723909146207, 0.10322256132258195, -0.9408808465635947, 0.9459337556109374, 6.938893903907228e-18, 0.32435987729031424, 0.03348125732418461, -0.9946582844545188, -0.09764170509565019)\n"
     ]
    },
    {
     "name": "stderr",
     "output_type": "stream",
     "text": [
      "2018-09-30 20:21:34,039 INFO Components: 1\n"
     ]
    },
    {
     "name": "stderr",
     "output_type": "stream",
     "text": [
      "2018-09-30 20:21:34,072 INFO Imagesize: (256, 256, 1)\n"
     ]
    },
    {
     "name": "stderr",
     "output_type": "stream",
     "text": [
      "2018-09-30 20:21:34,075 INFO Origing: (-39.021751449435, -124.81285386898, 121.545423851044)\n"
     ]
    },
    {
     "name": "stderr",
     "output_type": "stream",
     "text": [
      "2018-09-30 20:21:34,076 INFO Spacing: (1.171875, 1.171875, 6.0)\n"
     ]
    },
    {
     "name": "stderr",
     "output_type": "stream",
     "text": [
      "2018-09-30 20:21:34,079 INFO Direction: (0.32262723909146207, 0.10322256132258195, -0.9408808465635947, 0.9459337556109374, 6.938893903907228e-18, 0.32435987729031424, 0.03348125732418461, -0.9946582844545188, -0.09764170509565019)\n"
     ]
    },
    {
     "name": "stderr",
     "output_type": "stream",
     "text": [
      "2018-09-30 20:21:34,081 INFO Components: 1\n"
     ]
    },
    {
     "name": "stderr",
     "output_type": "stream",
     "text": [
      "2018-09-30 20:21:34,117 INFO Imagesize: (256, 256, 1)\n"
     ]
    },
    {
     "name": "stderr",
     "output_type": "stream",
     "text": [
      "2018-09-30 20:21:34,119 INFO Origing: (-39.021751449435, -124.81285386898, 121.545423851044)\n"
     ]
    },
    {
     "name": "stderr",
     "output_type": "stream",
     "text": [
      "2018-09-30 20:21:34,123 INFO Spacing: (1.171875, 1.171875, 6.0)\n"
     ]
    },
    {
     "name": "stderr",
     "output_type": "stream",
     "text": [
      "2018-09-30 20:21:34,129 INFO Direction: (0.32262723909146207, 0.10322256132258195, -0.9408808465635947, 0.9459337556109374, 6.938893903907228e-18, 0.32435987729031424, 0.03348125732418461, -0.9946582844545188, -0.09764170509565019)\n"
     ]
    },
    {
     "name": "stderr",
     "output_type": "stream",
     "text": [
      "2018-09-30 20:21:34,133 INFO Components: 1\n"
     ]
    },
    {
     "name": "stderr",
     "output_type": "stream",
     "text": [
      "2018-09-30 20:21:34,167 INFO Imagesize: (256, 256, 1)\n"
     ]
    },
    {
     "name": "stderr",
     "output_type": "stream",
     "text": [
      "2018-09-30 20:21:34,169 INFO Origing: (-39.021751449435, -124.81285386898, 121.545423851044)\n"
     ]
    },
    {
     "name": "stderr",
     "output_type": "stream",
     "text": [
      "2018-09-30 20:21:34,171 INFO Spacing: (1.171875, 1.171875, 6.0)\n"
     ]
    },
    {
     "name": "stderr",
     "output_type": "stream",
     "text": [
      "2018-09-30 20:21:34,173 INFO Direction: (0.32262723909146207, 0.10322256132258195, -0.9408808465635947, 0.9459337556109374, 6.938893903907228e-18, 0.32435987729031424, 0.03348125732418461, -0.9946582844545188, -0.09764170509565019)\n"
     ]
    },
    {
     "name": "stderr",
     "output_type": "stream",
     "text": [
      "2018-09-30 20:21:34,174 INFO Components: 1\n"
     ]
    },
    {
     "name": "stderr",
     "output_type": "stream",
     "text": [
      "2018-09-30 20:21:34,211 INFO Imagesize: (256, 256, 1)\n"
     ]
    },
    {
     "name": "stderr",
     "output_type": "stream",
     "text": [
      "2018-09-30 20:21:34,213 INFO Origing: (-39.021751449435, -124.81285386898, 121.545423851044)\n"
     ]
    },
    {
     "name": "stderr",
     "output_type": "stream",
     "text": [
      "2018-09-30 20:21:34,215 INFO Spacing: (1.171875, 1.171875, 6.0)\n"
     ]
    },
    {
     "name": "stderr",
     "output_type": "stream",
     "text": [
      "2018-09-30 20:21:34,217 INFO Direction: (0.32262723909146207, 0.10322256132258195, -0.9408808465635947, 0.9459337556109374, 6.938893903907228e-18, 0.32435987729031424, 0.03348125732418461, -0.9946582844545188, -0.09764170509565019)\n"
     ]
    },
    {
     "name": "stderr",
     "output_type": "stream",
     "text": [
      "2018-09-30 20:21:34,219 INFO Components: 1\n"
     ]
    },
    {
     "name": "stderr",
     "output_type": "stream",
     "text": [
      "2018-09-30 20:21:34,255 INFO Imagesize: (256, 256, 1)\n"
     ]
    },
    {
     "name": "stderr",
     "output_type": "stream",
     "text": [
      "2018-09-30 20:21:34,257 INFO Origing: (-39.021751449435, -124.81285386898, 121.545423851044)\n"
     ]
    },
    {
     "name": "stderr",
     "output_type": "stream",
     "text": [
      "2018-09-30 20:21:34,260 INFO Spacing: (1.171875, 1.171875, 6.0)\n"
     ]
    },
    {
     "name": "stderr",
     "output_type": "stream",
     "text": [
      "2018-09-30 20:21:34,261 INFO Direction: (0.32262723909146207, 0.10322256132258195, -0.9408808465635947, 0.9459337556109374, 6.938893903907228e-18, 0.32435987729031424, 0.03348125732418461, -0.9946582844545188, -0.09764170509565019)\n"
     ]
    },
    {
     "name": "stderr",
     "output_type": "stream",
     "text": [
      "2018-09-30 20:21:34,263 INFO Components: 1\n"
     ]
    },
    {
     "name": "stderr",
     "output_type": "stream",
     "text": [
      "2018-09-30 20:21:34,302 INFO Imagesize: (256, 256, 1)\n"
     ]
    },
    {
     "name": "stderr",
     "output_type": "stream",
     "text": [
      "2018-09-30 20:21:34,304 INFO Origing: (-39.021751449435, -124.81285386898, 121.545423851044)\n"
     ]
    },
    {
     "name": "stderr",
     "output_type": "stream",
     "text": [
      "2018-09-30 20:21:34,308 INFO Spacing: (1.171875, 1.171875, 6.0)\n"
     ]
    },
    {
     "name": "stderr",
     "output_type": "stream",
     "text": [
      "2018-09-30 20:21:34,310 INFO Direction: (0.32262723909146207, 0.10322256132258195, -0.9408808465635947, 0.9459337556109374, 6.938893903907228e-18, 0.32435987729031424, 0.03348125732418461, -0.9946582844545188, -0.09764170509565019)\n"
     ]
    },
    {
     "name": "stderr",
     "output_type": "stream",
     "text": [
      "2018-09-30 20:21:34,313 INFO Components: 1\n"
     ]
    },
    {
     "name": "stderr",
     "output_type": "stream",
     "text": [
      "2018-09-30 20:21:34,351 INFO Imagesize: (256, 256, 1)\n"
     ]
    },
    {
     "name": "stderr",
     "output_type": "stream",
     "text": [
      "2018-09-30 20:21:34,353 INFO Origing: (-39.021751449435, -124.81285386898, 121.545423851044)\n"
     ]
    },
    {
     "name": "stderr",
     "output_type": "stream",
     "text": [
      "2018-09-30 20:21:34,355 INFO Spacing: (1.171875, 1.171875, 6.0)\n"
     ]
    },
    {
     "name": "stderr",
     "output_type": "stream",
     "text": [
      "2018-09-30 20:21:34,359 INFO Direction: (0.32262723909146207, 0.10322256132258195, -0.9408808465635947, 0.9459337556109374, 6.938893903907228e-18, 0.32435987729031424, 0.03348125732418461, -0.9946582844545188, -0.09764170509565019)\n"
     ]
    },
    {
     "name": "stderr",
     "output_type": "stream",
     "text": [
      "2018-09-30 20:21:34,361 INFO Components: 1\n"
     ]
    },
    {
     "name": "stderr",
     "output_type": "stream",
     "text": [
      "2018-09-30 20:21:34,395 INFO Imagesize: (256, 256, 1)\n"
     ]
    },
    {
     "name": "stderr",
     "output_type": "stream",
     "text": [
      "2018-09-30 20:21:34,397 INFO Origing: (-39.021751449435, -124.81285386898, 121.545423851044)\n"
     ]
    },
    {
     "name": "stderr",
     "output_type": "stream",
     "text": [
      "2018-09-30 20:21:34,399 INFO Spacing: (1.171875, 1.171875, 6.0)\n"
     ]
    },
    {
     "name": "stderr",
     "output_type": "stream",
     "text": [
      "2018-09-30 20:21:34,400 INFO Direction: (0.32262723909146207, 0.10322256132258195, -0.9408808465635947, 0.9459337556109374, 6.938893903907228e-18, 0.32435987729031424, 0.03348125732418461, -0.9946582844545188, -0.09764170509565019)\n"
     ]
    },
    {
     "name": "stderr",
     "output_type": "stream",
     "text": [
      "2018-09-30 20:21:34,402 INFO Components: 1\n"
     ]
    },
    {
     "name": "stderr",
     "output_type": "stream",
     "text": [
      "2018-09-30 20:21:34,577 INFO Imagesize: (256, 256, 1)\n"
     ]
    },
    {
     "name": "stderr",
     "output_type": "stream",
     "text": [
      "2018-09-30 20:21:34,578 INFO Origing: (-39.021751449435, -124.81285386898, 121.545423851044)\n"
     ]
    },
    {
     "name": "stderr",
     "output_type": "stream",
     "text": [
      "2018-09-30 20:21:34,579 INFO Spacing: (1.171875, 1.171875, 6.0)\n"
     ]
    },
    {
     "name": "stderr",
     "output_type": "stream",
     "text": [
      "2018-09-30 20:21:34,581 INFO Direction: (0.32262723909146207, 0.10322256132258195, -0.9408808465635947, 0.9459337556109374, 6.938893903907228e-18, 0.32435987729031424, 0.03348125732418461, -0.9946582844545188, -0.09764170509565019)\n"
     ]
    },
    {
     "name": "stderr",
     "output_type": "stream",
     "text": [
      "2018-09-30 20:21:34,583 INFO Components: 1\n"
     ]
    },
    {
     "name": "stderr",
     "output_type": "stream",
     "text": [
      "2018-09-30 20:21:34,617 INFO Imagesize: (256, 256, 1)\n"
     ]
    },
    {
     "name": "stderr",
     "output_type": "stream",
     "text": [
      "2018-09-30 20:21:34,618 INFO Origing: (-39.021751449435, -124.81285386898, 121.545423851044)\n"
     ]
    },
    {
     "name": "stderr",
     "output_type": "stream",
     "text": [
      "2018-09-30 20:21:34,619 INFO Spacing: (1.171875, 1.171875, 6.0)\n"
     ]
    },
    {
     "name": "stderr",
     "output_type": "stream",
     "text": [
      "2018-09-30 20:21:34,621 INFO Direction: (0.32262723909146207, 0.10322256132258195, -0.9408808465635947, 0.9459337556109374, 6.938893903907228e-18, 0.32435987729031424, 0.03348125732418461, -0.9946582844545188, -0.09764170509565019)\n"
     ]
    },
    {
     "name": "stderr",
     "output_type": "stream",
     "text": [
      "2018-09-30 20:21:34,622 INFO Components: 1\n"
     ]
    },
    {
     "name": "stderr",
     "output_type": "stream",
     "text": [
      "2018-09-30 20:21:34,656 INFO Imagesize: (256, 256, 1)\n"
     ]
    },
    {
     "name": "stderr",
     "output_type": "stream",
     "text": [
      "2018-09-30 20:21:34,658 INFO Origing: (-39.021751449435, -124.81285386898, 121.545423851044)\n"
     ]
    },
    {
     "name": "stderr",
     "output_type": "stream",
     "text": [
      "2018-09-30 20:21:34,659 INFO Spacing: (1.171875, 1.171875, 6.0)\n"
     ]
    },
    {
     "name": "stderr",
     "output_type": "stream",
     "text": [
      "2018-09-30 20:21:34,661 INFO Direction: (0.32262723909146207, 0.10322256132258195, -0.9408808465635947, 0.9459337556109374, 6.938893903907228e-18, 0.32435987729031424, 0.03348125732418461, -0.9946582844545188, -0.09764170509565019)\n"
     ]
    },
    {
     "name": "stderr",
     "output_type": "stream",
     "text": [
      "2018-09-30 20:21:34,662 INFO Components: 1\n"
     ]
    },
    {
     "name": "stderr",
     "output_type": "stream",
     "text": [
      "2018-09-30 20:21:34,694 INFO Imagesize: (256, 256, 1)\n"
     ]
    },
    {
     "name": "stderr",
     "output_type": "stream",
     "text": [
      "2018-09-30 20:21:34,696 INFO Origing: (-39.021751449435, -124.81285386898, 121.545423851044)\n"
     ]
    },
    {
     "name": "stderr",
     "output_type": "stream",
     "text": [
      "2018-09-30 20:21:34,697 INFO Spacing: (1.171875, 1.171875, 6.0)\n"
     ]
    },
    {
     "name": "stderr",
     "output_type": "stream",
     "text": [
      "2018-09-30 20:21:34,699 INFO Direction: (0.32262723909146207, 0.10322256132258195, -0.9408808465635947, 0.9459337556109374, 6.938893903907228e-18, 0.32435987729031424, 0.03348125732418461, -0.9946582844545188, -0.09764170509565019)\n"
     ]
    },
    {
     "name": "stderr",
     "output_type": "stream",
     "text": [
      "2018-09-30 20:21:34,701 INFO Components: 1\n"
     ]
    },
    {
     "name": "stderr",
     "output_type": "stream",
     "text": [
      "2018-09-30 20:21:34,737 INFO Imagesize: (256, 256, 1)\n"
     ]
    },
    {
     "name": "stderr",
     "output_type": "stream",
     "text": [
      "2018-09-30 20:21:34,738 INFO Origing: (-39.021751449435, -124.81285386898, 121.545423851044)\n"
     ]
    },
    {
     "name": "stderr",
     "output_type": "stream",
     "text": [
      "2018-09-30 20:21:34,740 INFO Spacing: (1.171875, 1.171875, 6.0)\n"
     ]
    },
    {
     "name": "stderr",
     "output_type": "stream",
     "text": [
      "2018-09-30 20:21:34,741 INFO Direction: (0.32262723909146207, 0.10322256132258195, -0.9408808465635947, 0.9459337556109374, 6.938893903907228e-18, 0.32435987729031424, 0.03348125732418461, -0.9946582844545188, -0.09764170509565019)\n"
     ]
    },
    {
     "name": "stderr",
     "output_type": "stream",
     "text": [
      "2018-09-30 20:21:34,743 INFO Components: 1\n"
     ]
    },
    {
     "name": "stderr",
     "output_type": "stream",
     "text": [
      "2018-09-30 20:21:34,776 INFO Imagesize: (256, 256, 1)\n"
     ]
    },
    {
     "name": "stderr",
     "output_type": "stream",
     "text": [
      "2018-09-30 20:21:34,777 INFO Origing: (-39.021751449435, -124.81285386898, 121.545423851044)\n"
     ]
    },
    {
     "name": "stderr",
     "output_type": "stream",
     "text": [
      "2018-09-30 20:21:34,779 INFO Spacing: (1.171875, 1.171875, 6.0)\n"
     ]
    },
    {
     "name": "stderr",
     "output_type": "stream",
     "text": [
      "2018-09-30 20:21:34,781 INFO Direction: (0.32262723909146207, 0.10322256132258195, -0.9408808465635947, 0.9459337556109374, 6.938893903907228e-18, 0.32435987729031424, 0.03348125732418461, -0.9946582844545188, -0.09764170509565019)\n"
     ]
    },
    {
     "name": "stderr",
     "output_type": "stream",
     "text": [
      "2018-09-30 20:21:34,782 INFO Components: 1\n"
     ]
    },
    {
     "name": "stderr",
     "output_type": "stream",
     "text": [
      "2018-09-30 20:21:34,816 INFO Imagesize: (256, 256, 1)\n"
     ]
    },
    {
     "name": "stderr",
     "output_type": "stream",
     "text": [
      "2018-09-30 20:21:34,817 INFO Origing: (-39.021751449435, -124.81285386898, 121.545423851044)\n"
     ]
    },
    {
     "name": "stderr",
     "output_type": "stream",
     "text": [
      "2018-09-30 20:21:34,819 INFO Spacing: (1.171875, 1.171875, 6.0)"
     ]
    },
    {
     "name": "stderr",
     "output_type": "stream",
     "text": [
      "\n"
     ]
    },
    {
     "name": "stderr",
     "output_type": "stream",
     "text": [
      "2018-09-30 20:21:34,821 INFO Direction: (0.32262723909146207, 0.10322256132258195, -0.9408808465635947, 0.9459337556109374, 6.938893903907228e-18, 0.32435987729031424, 0.03348125732418461, -0.9946582844545188, -0.09764170509565019)\n"
     ]
    },
    {
     "name": "stderr",
     "output_type": "stream",
     "text": [
      "2018-09-30 20:21:34,822 INFO Components: 1\n"
     ]
    },
    {
     "name": "stderr",
     "output_type": "stream",
     "text": [
      "2018-09-30 20:21:34,859 INFO Imagesize: (256, 256, 1)\n"
     ]
    },
    {
     "name": "stderr",
     "output_type": "stream",
     "text": [
      "2018-09-30 20:21:34,860 INFO Origing: (-39.021751449435, -124.81285386898, 121.545423851044)\n"
     ]
    },
    {
     "name": "stderr",
     "output_type": "stream",
     "text": [
      "2018-09-30 20:21:34,862 INFO Spacing: (1.171875, 1.171875, 6.0)\n"
     ]
    },
    {
     "name": "stderr",
     "output_type": "stream",
     "text": [
      "2018-09-30 20:21:34,863 INFO Direction: (0.32262723909146207, 0.10322256132258195, -0.9408808465635947, 0.9459337556109374, 6.938893903907228e-18, 0.32435987729031424, 0.03348125732418461, -0.9946582844545188, -0.09764170509565019)\n"
     ]
    },
    {
     "name": "stderr",
     "output_type": "stream",
     "text": [
      "2018-09-30 20:21:34,864 INFO Components: 1\n"
     ]
    },
    {
     "name": "stderr",
     "output_type": "stream",
     "text": [
      "2018-09-30 20:21:34,897 INFO Imagesize: (256, 256, 1)\n"
     ]
    },
    {
     "name": "stderr",
     "output_type": "stream",
     "text": [
      "2018-09-30 20:21:34,898 INFO Origing: (-39.021751449435, -124.81285386898, 121.545423851044)\n"
     ]
    },
    {
     "name": "stderr",
     "output_type": "stream",
     "text": [
      "2018-09-30 20:21:34,899 INFO Spacing: (1.171875, 1.171875, 6.0)\n"
     ]
    },
    {
     "name": "stderr",
     "output_type": "stream",
     "text": [
      "2018-09-30 20:21:34,901 INFO Direction: (0.32262723909146207, 0.10322256132258195, -0.9408808465635947, 0.9459337556109374, 6.938893903907228e-18, 0.32435987729031424, 0.03348125732418461, -0.9946582844545188, -0.09764170509565019)\n"
     ]
    },
    {
     "name": "stderr",
     "output_type": "stream",
     "text": [
      "2018-09-30 20:21:34,903 INFO Components: 1\n"
     ]
    },
    {
     "name": "stderr",
     "output_type": "stream",
     "text": [
      "2018-09-30 20:21:34,936 INFO Imagesize: (256, 256, 1)\n"
     ]
    },
    {
     "name": "stderr",
     "output_type": "stream",
     "text": [
      "2018-09-30 20:21:34,937 INFO Origing: (-39.021751449435, -124.81285386898, 121.545423851044)\n"
     ]
    },
    {
     "name": "stderr",
     "output_type": "stream",
     "text": [
      "2018-09-30 20:21:34,939 INFO Spacing: (1.171875, 1.171875, 6.0)\n"
     ]
    },
    {
     "name": "stderr",
     "output_type": "stream",
     "text": [
      "2018-09-30 20:21:34,941 INFO Direction: (0.32262723909146207, 0.10322256132258195, -0.9408808465635947, 0.9459337556109374, 6.938893903907228e-18, 0.32435987729031424, 0.03348125732418461, -0.9946582844545188, -0.09764170509565019)\n"
     ]
    },
    {
     "name": "stderr",
     "output_type": "stream",
     "text": [
      "2018-09-30 20:21:34,942 INFO Components: 1\n"
     ]
    },
    {
     "name": "stderr",
     "output_type": "stream",
     "text": [
      "2018-09-30 20:21:34,944 DEBUG Trying to save to data/processed/sumarized/0706-ZY8H5791-2005-06-16/\n"
     ]
    },
    {
     "name": "stderr",
     "output_type": "stream",
     "text": [
      "2018-09-30 20:21:34,961 DEBUG update_title_pos\n"
     ]
    },
    {
     "name": "stderr",
     "output_type": "stream",
     "text": [
      "2018-09-30 20:21:34,985 DEBUG update_title_pos\n"
     ]
    },
    {
     "name": "stderr",
     "output_type": "stream",
     "text": [
      "2018-09-30 20:21:35,004 DEBUG update_title_pos\n"
     ]
    },
    {
     "name": "stderr",
     "output_type": "stream",
     "text": [
      "2018-09-30 20:21:35,023 DEBUG update_title_pos\n"
     ]
    },
    {
     "name": "stderr",
     "output_type": "stream",
     "text": [
      "2018-09-30 20:21:35,041 DEBUG update_title_pos\n"
     ]
    },
    {
     "name": "stderr",
     "output_type": "stream",
     "text": [
      "2018-09-30 20:21:35,059 DEBUG update_title_pos\n"
     ]
    },
    {
     "name": "stderr",
     "output_type": "stream",
     "text": [
      "2018-09-30 20:21:35,077 DEBUG update_title_pos\n"
     ]
    },
    {
     "name": "stderr",
     "output_type": "stream",
     "text": [
      "2018-09-30 20:21:35,095 DEBUG update_title_pos\n"
     ]
    },
    {
     "name": "stderr",
     "output_type": "stream",
     "text": [
      "2018-09-30 20:21:35,116 DEBUG update_title_pos\n"
     ]
    },
    {
     "name": "stderr",
     "output_type": "stream",
     "text": [
      "2018-09-30 20:21:35,134 DEBUG update_title_pos\n"
     ]
    },
    {
     "name": "stderr",
     "output_type": "stream",
     "text": [
      "2018-09-30 20:21:35,154 DEBUG update_title_pos\n"
     ]
    },
    {
     "name": "stderr",
     "output_type": "stream",
     "text": [
      "2018-09-30 20:21:35,175 DEBUG update_title_pos\n"
     ]
    },
    {
     "name": "stderr",
     "output_type": "stream",
     "text": [
      "2018-09-30 20:21:35,197 DEBUG update_title_pos\n"
     ]
    },
    {
     "name": "stderr",
     "output_type": "stream",
     "text": [
      "2018-09-30 20:21:35,218 DEBUG update_title_pos\n"
     ]
    },
    {
     "name": "stderr",
     "output_type": "stream",
     "text": [
      "2018-09-30 20:21:35,239 DEBUG update_title_pos\n"
     ]
    },
    {
     "name": "stderr",
     "output_type": "stream",
     "text": [
      "2018-09-30 20:21:35,262 DEBUG update_title_pos\n"
     ]
    },
    {
     "name": "stderr",
     "output_type": "stream",
     "text": [
      "2018-09-30 20:21:35,283 DEBUG update_title_pos\n"
     ]
    },
    {
     "name": "stderr",
     "output_type": "stream",
     "text": [
      "2018-09-30 20:21:35,304 DEBUG update_title_pos\n"
     ]
    },
    {
     "name": "stderr",
     "output_type": "stream",
     "text": [
      "2018-09-30 20:21:35,325 DEBUG update_title_pos\n"
     ]
    },
    {
     "name": "stderr",
     "output_type": "stream",
     "text": [
      "2018-09-30 20:21:35,346 DEBUG update_title_pos\n"
     ]
    },
    {
     "name": "stderr",
     "output_type": "stream",
     "text": [
      "2018-09-30 20:21:35,367 DEBUG update_title_pos\n"
     ]
    },
    {
     "name": "stderr",
     "output_type": "stream",
     "text": [
      "2018-09-30 20:21:35,387 DEBUG update_title_pos\n"
     ]
    },
    {
     "name": "stderr",
     "output_type": "stream",
     "text": [
      "2018-09-30 20:21:35,410 DEBUG update_title_pos\n"
     ]
    },
    {
     "name": "stderr",
     "output_type": "stream",
     "text": [
      "2018-09-30 20:21:35,430 DEBUG update_title_pos\n"
     ]
    },
    {
     "name": "stderr",
     "output_type": "stream",
     "text": [
      "2018-09-30 20:21:35,452 DEBUG update_title_pos\n"
     ]
    },
    {
     "name": "stderr",
     "output_type": "stream",
     "text": [
      "2018-09-30 20:21:35,473 DEBUG update_title_pos\n"
     ]
    },
    {
     "name": "stderr",
     "output_type": "stream",
     "text": [
      "2018-09-30 20:21:35,493 DEBUG update_title_pos\n"
     ]
    },
    {
     "name": "stderr",
     "output_type": "stream",
     "text": [
      "2018-09-30 20:21:35,516 DEBUG update_title_pos\n"
     ]
    },
    {
     "name": "stderr",
     "output_type": "stream",
     "text": [
      "2018-09-30 20:21:35,538 DEBUG update_title_pos\n"
     ]
    },
    {
     "name": "stderr",
     "output_type": "stream",
     "text": [
      "2018-09-30 20:21:35,562 DEBUG update_title_pos\n"
     ]
    },
    {
     "name": "stderr",
     "output_type": "stream",
     "text": [
      "2018-09-30 20:21:35,581 DEBUG update_title_pos\n"
     ]
    },
    {
     "name": "stderr",
     "output_type": "stream",
     "text": [
      "2018-09-30 20:21:35,601 DEBUG update_title_pos\n"
     ]
    },
    {
     "name": "stderr",
     "output_type": "stream",
     "text": [
      "2018-09-30 20:21:35,624 DEBUG update_title_pos\n"
     ]
    },
    {
     "name": "stderr",
     "output_type": "stream",
     "text": [
      "2018-09-30 20:21:35,643 DEBUG update_title_pos\n"
     ]
    },
    {
     "name": "stderr",
     "output_type": "stream",
     "text": [
      "2018-09-30 20:21:35,662 DEBUG update_title_pos\n"
     ]
    },
    {
     "name": "stderr",
     "output_type": "stream",
     "text": [
      "2018-09-30 20:21:35,681 DEBUG update_title_pos\n"
     ]
    },
    {
     "name": "stderr",
     "output_type": "stream",
     "text": [
      "2018-09-30 20:21:39,207 DEBUG Image saved: data/processed/sumarized/0706-ZY8H5791-2005-06-16/1.3.46.670589.11.0.0.11.4.2.0.5167.5.4188.2005061614555551383_1.png\n"
     ]
    },
    {
     "name": "stderr",
     "output_type": "stream",
     "text": [
      "2018-09-30 20:21:39,289 INFO files: 26\n"
     ]
    },
    {
     "name": "stderr",
     "output_type": "stream",
     "text": [
      "2018-09-30 20:21:39,291 INFO Gridsize: 6 rows x 6 columns\n"
     ]
    },
    {
     "name": "stderr",
     "output_type": "stream",
     "text": [
      "2018-09-30 20:21:39,332 INFO Imagesize: (256, 256, 1)\n"
     ]
    },
    {
     "name": "stderr",
     "output_type": "stream",
     "text": [
      "2018-09-30 20:21:39,334 INFO Origing: (-152.19132897998, 75.709475407617, 121.866368992622)\n"
     ]
    },
    {
     "name": "stderr",
     "output_type": "stream",
     "text": [
      "2018-09-30 20:21:39,336 INFO Spacing: (1.2109375, 1.2109375, 8.0)\n"
     ]
    },
    {
     "name": "stderr",
     "output_type": "stream",
     "text": [
      "2018-09-30 20:21:39,337 INFO Direction: (0.9711005017158517, -1.3877787807814457e-17, 0.2386709357404484, -0.23572397169950693, -0.156659916822013, 0.9591099413662283, 0.037390168940930654, -0.9876526061633818, -0.1521325238246204)\n"
     ]
    },
    {
     "name": "stderr",
     "output_type": "stream",
     "text": [
      "2018-09-30 20:21:39,339 INFO Components: 1\n"
     ]
    },
    {
     "name": "stderr",
     "output_type": "stream",
     "text": [
      "2018-09-30 20:21:39,371 INFO Imagesize: (256, 256, 1)\n"
     ]
    },
    {
     "name": "stderr",
     "output_type": "stream",
     "text": [
      "2018-09-30 20:21:39,373 INFO Origing: (-152.19132897998, 75.709475407617, 121.866368992622)\n"
     ]
    },
    {
     "name": "stderr",
     "output_type": "stream",
     "text": [
      "2018-09-30 20:21:39,374 INFO Spacing: (1.2109375, 1.2109375, 8.0)\n"
     ]
    },
    {
     "name": "stderr",
     "output_type": "stream",
     "text": [
      "2018-09-30 20:21:39,376 INFO Direction: (0.9711005017158517, -1.3877787807814457e-17, 0.2386709357404484, -0.23572397169950693, -0.156659916822013, 0.9591099413662283, 0.037390168940930654, -0.9876526061633818, -0.1521325238246204)\n"
     ]
    },
    {
     "name": "stderr",
     "output_type": "stream",
     "text": [
      "2018-09-30 20:21:39,378 INFO Components: 1\n"
     ]
    },
    {
     "name": "stderr",
     "output_type": "stream",
     "text": [
      "2018-09-30 20:21:39,413 INFO Imagesize: (256, 256, 1)\n"
     ]
    },
    {
     "name": "stderr",
     "output_type": "stream",
     "text": [
      "2018-09-30 20:21:39,415 INFO Origing: (-152.19132897998, 75.709475407617, 121.866368992622)\n"
     ]
    },
    {
     "name": "stderr",
     "output_type": "stream",
     "text": [
      "2018-09-30 20:21:39,419 INFO Spacing: (1.2109375, 1.2109375, 8.0)\n"
     ]
    },
    {
     "name": "stderr",
     "output_type": "stream",
     "text": [
      "2018-09-30 20:21:39,421 INFO Direction: (0.9711005017158517, -1.3877787807814457e-17, 0.2386709357404484, -0.23572397169950693, -0.156659916822013, 0.9591099413662283, 0.037390168940930654, -0.9876526061633818, -0.1521325238246204)\n"
     ]
    },
    {
     "name": "stderr",
     "output_type": "stream",
     "text": [
      "2018-09-30 20:21:39,422 INFO Components: 1\n"
     ]
    },
    {
     "name": "stderr",
     "output_type": "stream",
     "text": [
      "2018-09-30 20:21:39,456 INFO Imagesize: (256, 256, 1)\n"
     ]
    },
    {
     "name": "stderr",
     "output_type": "stream",
     "text": [
      "2018-09-30 20:21:39,457 INFO Origing: (-152.19132897998, 75.709475407617, 121.866368992622)\n"
     ]
    },
    {
     "name": "stderr",
     "output_type": "stream",
     "text": [
      "2018-09-30 20:21:39,459 INFO Spacing: (1.2109375, 1.2109375, 8.0)\n"
     ]
    },
    {
     "name": "stderr",
     "output_type": "stream",
     "text": [
      "2018-09-30 20:21:39,461 INFO Direction: (0.9711005017158517, -1.3877787807814457e-17, 0.2386709357404484, -0.23572397169950693, -0.156659916822013, 0.9591099413662283, 0.037390168940930654, -0.9876526061633818, -0.1521325238246204)\n"
     ]
    },
    {
     "name": "stderr",
     "output_type": "stream",
     "text": [
      "2018-09-30 20:21:39,463 INFO Components: 1\n"
     ]
    },
    {
     "name": "stderr",
     "output_type": "stream",
     "text": [
      "2018-09-30 20:21:39,499 INFO Imagesize: (256, 256, 1)\n"
     ]
    },
    {
     "name": "stderr",
     "output_type": "stream",
     "text": [
      "2018-09-30 20:21:39,501 INFO Origing: (-152.19132897998, 75.709475407617, 121.866368992622)\n"
     ]
    },
    {
     "name": "stderr",
     "output_type": "stream",
     "text": [
      "2018-09-30 20:21:39,503 INFO Spacing: (1.2109375, 1.2109375, 8.0)\n"
     ]
    },
    {
     "name": "stderr",
     "output_type": "stream",
     "text": [
      "2018-09-30 20:21:39,504 INFO Direction: (0.9711005017158517, -1.3877787807814457e-17, 0.2386709357404484, -0.23572397169950693, -0.156659916822013, 0.9591099413662283, 0.037390168940930654, -0.9876526061633818, -0.1521325238246204)\n"
     ]
    },
    {
     "name": "stderr",
     "output_type": "stream",
     "text": [
      "2018-09-30 20:21:39,506 INFO Components: 1\n"
     ]
    },
    {
     "name": "stderr",
     "output_type": "stream",
     "text": [
      "2018-09-30 20:21:39,536 INFO Imagesize: (256, 256, 1)\n"
     ]
    },
    {
     "name": "stderr",
     "output_type": "stream",
     "text": [
      "2018-09-30 20:21:39,539 INFO Origing: (-152.19132897998, 75.709475407617, 121.866368992622)\n"
     ]
    },
    {
     "name": "stderr",
     "output_type": "stream",
     "text": [
      "2018-09-30 20:21:39,541 INFO Spacing: (1.2109375, 1.2109375, 8.0)\n"
     ]
    },
    {
     "name": "stderr",
     "output_type": "stream",
     "text": [
      "2018-09-30 20:21:39,542 INFO Direction: (0.9711005017158517, -1.3877787807814457e-17, 0.2386709357404484, -0.23572397169950693, -0.156659916822013, 0.9591099413662283, 0.037390168940930654, -0.9876526061633818, -0.1521325238246204)\n"
     ]
    },
    {
     "name": "stderr",
     "output_type": "stream",
     "text": [
      "2018-09-30 20:21:39,546 INFO Components: 1\n"
     ]
    },
    {
     "name": "stderr",
     "output_type": "stream",
     "text": [
      "2018-09-30 20:21:39,580 INFO Imagesize: (256, 256, 1)\n"
     ]
    },
    {
     "name": "stderr",
     "output_type": "stream",
     "text": [
      "2018-09-30 20:21:39,581 INFO Origing: (-152.19132897998, 75.709475407617, 121.866368992622)\n"
     ]
    },
    {
     "name": "stderr",
     "output_type": "stream",
     "text": [
      "2018-09-30 20:21:39,583 INFO Spacing: (1.2109375, 1.2109375, 8.0)\n"
     ]
    },
    {
     "name": "stderr",
     "output_type": "stream",
     "text": [
      "2018-09-30 20:21:39,585 INFO Direction: (0.9711005017158517, -1.3877787807814457e-17, 0.2386709357404484, -0.23572397169950693, -0.156659916822013, 0.9591099413662283, 0.037390168940930654, -0.9876526061633818, -0.1521325238246204)\n"
     ]
    },
    {
     "name": "stderr",
     "output_type": "stream",
     "text": [
      "2018-09-30 20:21:39,587 INFO Components: 1\n"
     ]
    },
    {
     "name": "stderr",
     "output_type": "stream",
     "text": [
      "2018-09-30 20:21:39,620 INFO Imagesize: (256, 256, 1)\n"
     ]
    },
    {
     "name": "stderr",
     "output_type": "stream",
     "text": [
      "2018-09-30 20:21:39,621 INFO Origing: (-152.19132897998, 75.709475407617, 121.866368992622)\n"
     ]
    },
    {
     "name": "stderr",
     "output_type": "stream",
     "text": [
      "2018-09-30 20:21:39,622 INFO Spacing: (1.2109375, 1.2109375, 8.0)\n"
     ]
    },
    {
     "name": "stderr",
     "output_type": "stream",
     "text": [
      "2018-09-30 20:21:39,624 INFO Direction: (0.9711005017158517, -1.3877787807814457e-17, 0.2386709357404484, -0.23572397169950693, -0.156659916822013, 0.9591099413662283, 0.037390168940930654, -0.9876526061633818, -0.1521325238246204)\n"
     ]
    },
    {
     "name": "stderr",
     "output_type": "stream",
     "text": [
      "2018-09-30 20:21:39,626 INFO Components: 1\n"
     ]
    },
    {
     "name": "stderr",
     "output_type": "stream",
     "text": [
      "2018-09-30 20:21:39,660 INFO Imagesize: (256, 256, 1)\n"
     ]
    },
    {
     "name": "stderr",
     "output_type": "stream",
     "text": [
      "2018-09-30 20:21:39,661 INFO Origing: (-152.19132897998, 75.709475407617, 121.866368992622)\n"
     ]
    },
    {
     "name": "stderr",
     "output_type": "stream",
     "text": [
      "2018-09-30 20:21:39,663 INFO Spacing: (1.2109375, 1.2109375, 8.0)\n"
     ]
    },
    {
     "name": "stderr",
     "output_type": "stream",
     "text": [
      "2018-09-30 20:21:39,665 INFO Direction: (0.9711005017158517, -1.3877787807814457e-17, 0.2386709357404484, -0.23572397169950693, -0.156659916822013, 0.9591099413662283, 0.037390168940930654, -0.9876526061633818, -0.1521325238246204)\n"
     ]
    },
    {
     "name": "stderr",
     "output_type": "stream",
     "text": [
      "2018-09-30 20:21:39,667 INFO Components: 1\n"
     ]
    },
    {
     "name": "stderr",
     "output_type": "stream",
     "text": [
      "2018-09-30 20:21:39,700 INFO Imagesize: (256, 256, 1)\n"
     ]
    },
    {
     "name": "stderr",
     "output_type": "stream",
     "text": [
      "2018-09-30 20:21:39,702 INFO Origing: (-152.19132897998, 75.709475407617, 121.866368992622)\n"
     ]
    },
    {
     "name": "stderr",
     "output_type": "stream",
     "text": [
      "2018-09-30 20:21:39,704 INFO Spacing: (1.2109375, 1.2109375, 8.0)\n"
     ]
    },
    {
     "name": "stderr",
     "output_type": "stream",
     "text": [
      "2018-09-30 20:21:39,706 INFO Direction: (0.9711005017158517, -1.3877787807814457e-17, 0.2386709357404484, -0.23572397169950693, -0.156659916822013, 0.9591099413662283, 0.037390168940930654, -0.9876526061633818, -0.1521325238246204)\n"
     ]
    },
    {
     "name": "stderr",
     "output_type": "stream",
     "text": [
      "2018-09-30 20:21:39,707 INFO Components: 1\n"
     ]
    },
    {
     "name": "stderr",
     "output_type": "stream",
     "text": [
      "2018-09-30 20:21:39,742 INFO Imagesize: (256, 256, 1)\n"
     ]
    },
    {
     "name": "stderr",
     "output_type": "stream",
     "text": [
      "2018-09-30 20:21:39,743 INFO Origing: (-152.19132897998, 75.709475407617, 121.866368992622)\n"
     ]
    },
    {
     "name": "stderr",
     "output_type": "stream",
     "text": [
      "2018-09-30 20:21:39,744 INFO Spacing: (1.2109375, 1.2109375, 8.0)\n"
     ]
    },
    {
     "name": "stderr",
     "output_type": "stream",
     "text": [
      "2018-09-30 20:21:39,746 INFO Direction: (0.9711005017158517, -1.3877787807814457e-17, 0.2386709357404484, -0.23572397169950693, -0.156659916822013, 0.9591099413662283, 0.037390168940930654, -0.9876526061633818, -0.1521325238246204)\n"
     ]
    },
    {
     "name": "stderr",
     "output_type": "stream",
     "text": [
      "2018-09-30 20:21:39,748 INFO Components: 1\n"
     ]
    },
    {
     "name": "stderr",
     "output_type": "stream",
     "text": [
      "2018-09-30 20:21:39,781 INFO Imagesize: (256, 256, 1)\n"
     ]
    },
    {
     "name": "stderr",
     "output_type": "stream",
     "text": [
      "2018-09-30 20:21:39,782 INFO Origing: (-152.19132897998, 75.709475407617, 121.866368992622)\n"
     ]
    },
    {
     "name": "stderr",
     "output_type": "stream",
     "text": [
      "2018-09-30 20:21:39,783 INFO Spacing: (1.2109375, 1.2109375, 8.0)\n"
     ]
    },
    {
     "name": "stderr",
     "output_type": "stream",
     "text": [
      "2018-09-30 20:21:39,785 INFO Direction: (0.9711005017158517, -1.3877787807814457e-17, 0.2386709357404484, -0.23572397169950693, -0.156659916822013, 0.9591099413662283, 0.037390168940930654, -0.9876526061633818, -0.1521325238246204)\n"
     ]
    },
    {
     "name": "stderr",
     "output_type": "stream",
     "text": [
      "2018-09-30 20:21:39,787 INFO Components: 1\n"
     ]
    },
    {
     "name": "stderr",
     "output_type": "stream",
     "text": [
      "2018-09-30 20:21:39,823 INFO Imagesize: (256, 256, 1)\n"
     ]
    },
    {
     "name": "stderr",
     "output_type": "stream",
     "text": [
      "2018-09-30 20:21:39,824 INFO Origing: (-152.19132897998, 75.709475407617, 121.866368992622)\n"
     ]
    },
    {
     "name": "stderr",
     "output_type": "stream",
     "text": [
      "2018-09-30 20:21:39,825 INFO Spacing: (1.2109375, 1.2109375, 8.0)\n"
     ]
    },
    {
     "name": "stderr",
     "output_type": "stream",
     "text": [
      "2018-09-30 20:21:39,827 INFO Direction: (0.9711005017158517, -1.3877787807814457e-17, 0.2386709357404484, -0.23572397169950693, -0.156659916822013, 0.9591099413662283, 0.037390168940930654, -0.9876526061633818, -0.1521325238246204)\n"
     ]
    },
    {
     "name": "stderr",
     "output_type": "stream",
     "text": [
      "2018-09-30 20:21:39,829 INFO Components: 1\n"
     ]
    },
    {
     "name": "stderr",
     "output_type": "stream",
     "text": [
      "2018-09-30 20:21:39,862 INFO Imagesize: (256, 256, 1)\n"
     ]
    },
    {
     "name": "stderr",
     "output_type": "stream",
     "text": [
      "2018-09-30 20:21:39,863 INFO Origing: (-152.19132897998, 75.709475407617, 121.866368992622)\n"
     ]
    },
    {
     "name": "stderr",
     "output_type": "stream",
     "text": [
      "2018-09-30 20:21:39,866 INFO Spacing: (1.2109375, 1.2109375, 8.0)\n"
     ]
    },
    {
     "name": "stderr",
     "output_type": "stream",
     "text": [
      "2018-09-30 20:21:39,868 INFO Direction: (0.9711005017158517, -1.3877787807814457e-17, 0.2386709357404484, -0.23572397169950693, -0.156659916822013, 0.9591099413662283, 0.037390168940930654, -0.9876526061633818, -0.1521325238246204)\n"
     ]
    },
    {
     "name": "stderr",
     "output_type": "stream",
     "text": [
      "2018-09-30 20:21:39,870 INFO Components: 1\n"
     ]
    },
    {
     "name": "stderr",
     "output_type": "stream",
     "text": [
      "2018-09-30 20:21:39,904 INFO Imagesize: (256, 256, 1)\n"
     ]
    },
    {
     "name": "stderr",
     "output_type": "stream",
     "text": [
      "2018-09-30 20:21:39,905 INFO Origing: (-152.19132897998, 75.709475407617, 121.866368992622)\n"
     ]
    },
    {
     "name": "stderr",
     "output_type": "stream",
     "text": [
      "2018-09-30 20:21:39,906 INFO Spacing: (1.2109375, 1.2109375, 8.0)\n"
     ]
    },
    {
     "name": "stderr",
     "output_type": "stream",
     "text": [
      "2018-09-30 20:21:39,908 INFO Direction: (0.9711005017158517, -1.3877787807814457e-17, 0.2386709357404484, -0.23572397169950693, -0.156659916822013, 0.9591099413662283, 0.037390168940930654, -0.9876526061633818, -0.1521325238246204)\n"
     ]
    },
    {
     "name": "stderr",
     "output_type": "stream",
     "text": [
      "2018-09-30 20:21:39,910 INFO Components: 1\n"
     ]
    },
    {
     "name": "stderr",
     "output_type": "stream",
     "text": [
      "2018-09-30 20:21:39,943 INFO Imagesize: (256, 256, 1)\n"
     ]
    },
    {
     "name": "stderr",
     "output_type": "stream",
     "text": [
      "2018-09-30 20:21:39,945 INFO Origing: (-152.19132897998, 75.709475407617, 121.866368992622)\n"
     ]
    },
    {
     "name": "stderr",
     "output_type": "stream",
     "text": [
      "2018-09-30 20:21:39,946 INFO Spacing: (1.2109375, 1.2109375, 8.0)\n"
     ]
    },
    {
     "name": "stderr",
     "output_type": "stream",
     "text": [
      "2018-09-30 20:21:39,948 INFO Direction: (0.9711005017158517, -1.3877787807814457e-17, 0.2386709357404484, -0.23572397169950693, -0.156659916822013, 0.9591099413662283, 0.037390168940930654, -0.9876526061633818, -0.1521325238246204)\n"
     ]
    },
    {
     "name": "stderr",
     "output_type": "stream",
     "text": [
      "2018-09-30 20:21:39,949 INFO Components: 1\n"
     ]
    },
    {
     "name": "stderr",
     "output_type": "stream",
     "text": [
      "2018-09-30 20:21:39,983 INFO Imagesize: (256, 256, 1)\n"
     ]
    },
    {
     "name": "stderr",
     "output_type": "stream",
     "text": [
      "2018-09-30 20:21:39,985 INFO Origing: (-152.19132897998, 75.709475407617, 121.866368992622)\n"
     ]
    },
    {
     "name": "stderr",
     "output_type": "stream",
     "text": [
      "2018-09-30 20:21:39,986 INFO Spacing: (1.2109375, 1.2109375, 8.0)\n"
     ]
    },
    {
     "name": "stderr",
     "output_type": "stream",
     "text": [
      "2018-09-30 20:21:39,988 INFO Direction: (0.9711005017158517, -1.3877787807814457e-17, 0.2386709357404484, -0.23572397169950693, -0.156659916822013, 0.9591099413662283, 0.037390168940930654, -0.9876526061633818, -0.1521325238246204)\n"
     ]
    },
    {
     "name": "stderr",
     "output_type": "stream",
     "text": [
      "2018-09-30 20:21:39,990 INFO Components: 1\n"
     ]
    },
    {
     "name": "stderr",
     "output_type": "stream",
     "text": [
      "2018-09-30 20:21:40,023 INFO Imagesize: (256, 256, 1)\n"
     ]
    },
    {
     "name": "stderr",
     "output_type": "stream",
     "text": [
      "2018-09-30 20:21:40,024 INFO Origing: (-152.19132897998, 75.709475407617, 121.866368992622)\n"
     ]
    },
    {
     "name": "stderr",
     "output_type": "stream",
     "text": [
      "2018-09-30 20:21:40,025 INFO Spacing: (1.2109375, 1.2109375, 8.0)\n"
     ]
    },
    {
     "name": "stderr",
     "output_type": "stream",
     "text": [
      "2018-09-30 20:21:40,028 INFO Direction: (0.9711005017158517, -1.3877787807814457e-17, 0.2386709357404484, -0.23572397169950693, -0.156659916822013, 0.9591099413662283, 0.037390168940930654, -0.9876526061633818, -0.1521325238246204)\n"
     ]
    },
    {
     "name": "stderr",
     "output_type": "stream",
     "text": [
      "2018-09-30 20:21:40,029 INFO Components: 1\n"
     ]
    },
    {
     "name": "stderr",
     "output_type": "stream",
     "text": [
      "2018-09-30 20:21:40,061 INFO Imagesize: (256, 256, 1)\n"
     ]
    },
    {
     "name": "stderr",
     "output_type": "stream",
     "text": [
      "2018-09-30 20:21:40,062 INFO Origing: (-152.19132897998, 75.709475407617, 121.866368992622)\n"
     ]
    },
    {
     "name": "stderr",
     "output_type": "stream",
     "text": [
      "2018-09-30 20:21:40,064 INFO Spacing: (1.2109375, 1.2109375, 8.0)\n"
     ]
    },
    {
     "name": "stderr",
     "output_type": "stream",
     "text": [
      "2018-09-30 20:21:40,066 INFO Direction: (0.9711005017158517, -1.3877787807814457e-17, 0.2386709357404484, -0.23572397169950693, -0.156659916822013, 0.9591099413662283, 0.037390168940930654, -0.9876526061633818, -0.1521325238246204)\n"
     ]
    },
    {
     "name": "stderr",
     "output_type": "stream",
     "text": [
      "2018-09-30 20:21:40,068 INFO Components: 1\n"
     ]
    },
    {
     "name": "stderr",
     "output_type": "stream",
     "text": [
      "2018-09-30 20:21:40,103 INFO Imagesize: (256, 256, 1)\n"
     ]
    },
    {
     "name": "stderr",
     "output_type": "stream",
     "text": [
      "2018-09-30 20:21:40,104 INFO Origing: (-152.19132897998, 75.709475407617, 121.866368992622)\n"
     ]
    },
    {
     "name": "stderr",
     "output_type": "stream",
     "text": [
      "2018-09-30 20:21:40,105 INFO Spacing: (1.2109375, 1.2109375, 8.0)\n"
     ]
    },
    {
     "name": "stderr",
     "output_type": "stream",
     "text": [
      "2018-09-30 20:21:40,107 INFO Direction: (0.9711005017158517, -1.3877787807814457e-17, 0.2386709357404484, -0.23572397169950693, -0.156659916822013, 0.9591099413662283, 0.037390168940930654, -0.9876526061633818, -0.1521325238246204)\n"
     ]
    },
    {
     "name": "stderr",
     "output_type": "stream",
     "text": [
      "2018-09-30 20:21:40,108 INFO Components: 1\n"
     ]
    },
    {
     "name": "stderr",
     "output_type": "stream",
     "text": [
      "2018-09-30 20:21:40,142 INFO Imagesize: (256, 256, 1)\n"
     ]
    },
    {
     "name": "stderr",
     "output_type": "stream",
     "text": [
      "2018-09-30 20:21:40,143 INFO Origing: (-152.19132897998, 75.709475407617, 121.866368992622)\n"
     ]
    },
    {
     "name": "stderr",
     "output_type": "stream",
     "text": [
      "2018-09-30 20:21:40,146 INFO Spacing: (1.2109375, 1.2109375, 8.0)\n"
     ]
    },
    {
     "name": "stderr",
     "output_type": "stream",
     "text": [
      "2018-09-30 20:21:40,147 INFO Direction: (0.9711005017158517, -1.3877787807814457e-17, 0.2386709357404484, -0.23572397169950693, -0.156659916822013, 0.9591099413662283, 0.037390168940930654, -0.9876526061633818, -0.1521325238246204)\n"
     ]
    },
    {
     "name": "stderr",
     "output_type": "stream",
     "text": [
      "2018-09-30 20:21:40,150 INFO Components: 1\n"
     ]
    },
    {
     "name": "stderr",
     "output_type": "stream",
     "text": [
      "2018-09-30 20:21:40,183 INFO Imagesize: (256, 256, 1)\n"
     ]
    },
    {
     "name": "stderr",
     "output_type": "stream",
     "text": [
      "2018-09-30 20:21:40,186 INFO Origing: (-152.19132897998, 75.709475407617, 121.866368992622)\n"
     ]
    },
    {
     "name": "stderr",
     "output_type": "stream",
     "text": [
      "2018-09-30 20:21:40,187 INFO Spacing: (1.2109375, 1.2109375, 8.0)\n"
     ]
    },
    {
     "name": "stderr",
     "output_type": "stream",
     "text": [
      "2018-09-30 20:21:40,189 INFO Direction: (0.9711005017158517, -1.3877787807814457e-17, 0.2386709357404484, -0.23572397169950693, -0.156659916822013, 0.9591099413662283, 0.037390168940930654, -0.9876526061633818, -0.1521325238246204)\n"
     ]
    },
    {
     "name": "stderr",
     "output_type": "stream",
     "text": [
      "2018-09-30 20:21:40,191 INFO Components: 1"
     ]
    },
    {
     "name": "stderr",
     "output_type": "stream",
     "text": [
      "\n"
     ]
    },
    {
     "name": "stderr",
     "output_type": "stream",
     "text": [
      "2018-09-30 20:21:40,227 INFO Imagesize: (256, 256, 1)\n"
     ]
    },
    {
     "name": "stderr",
     "output_type": "stream",
     "text": [
      "2018-09-30 20:21:40,229 INFO Origing: (-152.19132897998, 75.709475407617, 121.866368992622)\n"
     ]
    },
    {
     "name": "stderr",
     "output_type": "stream",
     "text": [
      "2018-09-30 20:21:40,230 INFO Spacing: (1.2109375, 1.2109375, 8.0)\n"
     ]
    },
    {
     "name": "stderr",
     "output_type": "stream",
     "text": [
      "2018-09-30 20:21:40,233 INFO Direction: (0.9711005017158517, -1.3877787807814457e-17, 0.2386709357404484, -0.23572397169950693, -0.156659916822013, 0.9591099413662283, 0.037390168940930654, -0.9876526061633818, -0.1521325238246204)\n"
     ]
    },
    {
     "name": "stderr",
     "output_type": "stream",
     "text": [
      "2018-09-30 20:21:40,235 INFO Components: 1\n"
     ]
    },
    {
     "name": "stderr",
     "output_type": "stream",
     "text": [
      "2018-09-30 20:21:40,269 INFO Imagesize: (256, 256, 1)\n"
     ]
    },
    {
     "name": "stderr",
     "output_type": "stream",
     "text": [
      "2018-09-30 20:21:40,271 INFO Origing: (-152.19132897998, 75.709475407617, 121.866368992622)\n"
     ]
    },
    {
     "name": "stderr",
     "output_type": "stream",
     "text": [
      "2018-09-30 20:21:40,273 INFO Spacing: (1.2109375, 1.2109375, 8.0)\n"
     ]
    },
    {
     "name": "stderr",
     "output_type": "stream",
     "text": [
      "2018-09-30 20:21:40,275 INFO Direction: (0.9711005017158517, -1.3877787807814457e-17, 0.2386709357404484, -0.23572397169950693, -0.156659916822013, 0.9591099413662283, 0.037390168940930654, -0.9876526061633818, -0.1521325238246204)\n"
     ]
    },
    {
     "name": "stderr",
     "output_type": "stream",
     "text": [
      "2018-09-30 20:21:40,277 INFO Components: 1\n"
     ]
    },
    {
     "name": "stderr",
     "output_type": "stream",
     "text": [
      "2018-09-30 20:21:40,311 INFO Imagesize: (256, 256, 1)\n"
     ]
    },
    {
     "name": "stderr",
     "output_type": "stream",
     "text": [
      "2018-09-30 20:21:40,312 INFO Origing: (-152.19132897998, 75.709475407617, 121.866368992622)\n"
     ]
    },
    {
     "name": "stderr",
     "output_type": "stream",
     "text": [
      "2018-09-30 20:21:40,314 INFO Spacing: (1.2109375, 1.2109375, 8.0)\n"
     ]
    },
    {
     "name": "stderr",
     "output_type": "stream",
     "text": [
      "2018-09-30 20:21:40,316 INFO Direction: (0.9711005017158517, -1.3877787807814457e-17, 0.2386709357404484, -0.23572397169950693, -0.156659916822013, 0.9591099413662283, 0.037390168940930654, -0.9876526061633818, -0.1521325238246204)\n"
     ]
    },
    {
     "name": "stderr",
     "output_type": "stream",
     "text": [
      "2018-09-30 20:21:40,317 INFO Components: 1\n"
     ]
    },
    {
     "name": "stderr",
     "output_type": "stream",
     "text": [
      "2018-09-30 20:21:40,350 INFO Imagesize: (256, 256, 1)\n"
     ]
    },
    {
     "name": "stderr",
     "output_type": "stream",
     "text": [
      "2018-09-30 20:21:40,352 INFO Origing: (-152.19132897998, 75.709475407617, 121.866368992622)\n"
     ]
    },
    {
     "name": "stderr",
     "output_type": "stream",
     "text": [
      "2018-09-30 20:21:40,354 INFO Spacing: (1.2109375, 1.2109375, 8.0)\n"
     ]
    },
    {
     "name": "stderr",
     "output_type": "stream",
     "text": [
      "2018-09-30 20:21:40,356 INFO Direction: (0.9711005017158517, -1.3877787807814457e-17, 0.2386709357404484, -0.23572397169950693, -0.156659916822013, 0.9591099413662283, 0.037390168940930654, -0.9876526061633818, -0.1521325238246204)\n"
     ]
    },
    {
     "name": "stderr",
     "output_type": "stream",
     "text": [
      "2018-09-30 20:21:40,357 INFO Components: 1\n"
     ]
    },
    {
     "name": "stderr",
     "output_type": "stream",
     "text": [
      "2018-09-30 20:21:40,363 DEBUG Trying to save to data/processed/sumarized/0706-ZY8H5791-2005-06-16/\n"
     ]
    },
    {
     "name": "stderr",
     "output_type": "stream",
     "text": [
      "2018-09-30 20:21:40,386 DEBUG update_title_pos\n"
     ]
    },
    {
     "name": "stderr",
     "output_type": "stream",
     "text": [
      "2018-09-30 20:21:40,406 DEBUG update_title_pos\n"
     ]
    },
    {
     "name": "stderr",
     "output_type": "stream",
     "text": [
      "2018-09-30 20:21:40,424 DEBUG update_title_pos\n"
     ]
    },
    {
     "name": "stderr",
     "output_type": "stream",
     "text": [
      "2018-09-30 20:21:40,445 DEBUG update_title_pos\n"
     ]
    },
    {
     "name": "stderr",
     "output_type": "stream",
     "text": [
      "2018-09-30 20:21:40,464 DEBUG update_title_pos\n"
     ]
    },
    {
     "name": "stderr",
     "output_type": "stream",
     "text": [
      "2018-09-30 20:21:40,486 DEBUG update_title_pos\n"
     ]
    },
    {
     "name": "stderr",
     "output_type": "stream",
     "text": [
      "2018-09-30 20:21:40,505 DEBUG update_title_pos\n"
     ]
    },
    {
     "name": "stderr",
     "output_type": "stream",
     "text": [
      "2018-09-30 20:21:40,521 DEBUG update_title_pos\n"
     ]
    },
    {
     "name": "stderr",
     "output_type": "stream",
     "text": [
      "2018-09-30 20:21:40,541 DEBUG update_title_pos\n"
     ]
    },
    {
     "name": "stderr",
     "output_type": "stream",
     "text": [
      "2018-09-30 20:21:40,559 DEBUG update_title_pos\n"
     ]
    },
    {
     "name": "stderr",
     "output_type": "stream",
     "text": [
      "2018-09-30 20:21:40,578 DEBUG update_title_pos\n"
     ]
    },
    {
     "name": "stderr",
     "output_type": "stream",
     "text": [
      "2018-09-30 20:21:40,598 DEBUG update_title_pos\n"
     ]
    },
    {
     "name": "stderr",
     "output_type": "stream",
     "text": [
      "2018-09-30 20:21:40,617 DEBUG update_title_pos\n"
     ]
    },
    {
     "name": "stderr",
     "output_type": "stream",
     "text": [
      "2018-09-30 20:21:40,635 DEBUG update_title_pos\n"
     ]
    },
    {
     "name": "stderr",
     "output_type": "stream",
     "text": [
      "2018-09-30 20:21:40,654 DEBUG update_title_pos\n"
     ]
    },
    {
     "name": "stderr",
     "output_type": "stream",
     "text": [
      "2018-09-30 20:21:40,672 DEBUG update_title_pos\n"
     ]
    },
    {
     "name": "stderr",
     "output_type": "stream",
     "text": [
      "2018-09-30 20:21:40,691 DEBUG update_title_pos\n"
     ]
    },
    {
     "name": "stderr",
     "output_type": "stream",
     "text": [
      "2018-09-30 20:21:40,713 DEBUG update_title_pos\n"
     ]
    },
    {
     "name": "stderr",
     "output_type": "stream",
     "text": [
      "2018-09-30 20:21:40,732 DEBUG update_title_pos\n"
     ]
    },
    {
     "name": "stderr",
     "output_type": "stream",
     "text": [
      "2018-09-30 20:21:40,751 DEBUG update_title_pos\n"
     ]
    },
    {
     "name": "stderr",
     "output_type": "stream",
     "text": [
      "2018-09-30 20:21:40,769 DEBUG update_title_pos\n"
     ]
    },
    {
     "name": "stderr",
     "output_type": "stream",
     "text": [
      "2018-09-30 20:21:40,788 DEBUG update_title_pos\n"
     ]
    },
    {
     "name": "stderr",
     "output_type": "stream",
     "text": [
      "2018-09-30 20:21:40,806 DEBUG update_title_pos\n"
     ]
    },
    {
     "name": "stderr",
     "output_type": "stream",
     "text": [
      "2018-09-30 20:21:40,826 DEBUG update_title_pos\n"
     ]
    },
    {
     "name": "stderr",
     "output_type": "stream",
     "text": [
      "2018-09-30 20:21:40,846 DEBUG update_title_pos\n"
     ]
    },
    {
     "name": "stderr",
     "output_type": "stream",
     "text": [
      "2018-09-30 20:21:40,865 DEBUG update_title_pos\n"
     ]
    },
    {
     "name": "stderr",
     "output_type": "stream",
     "text": [
      "2018-09-30 20:21:43,960 DEBUG Image saved: data/processed/sumarized/0706-ZY8H5791-2005-06-16/1.3.46.670589.11.0.0.11.4.2.0.5167.5.4188.2005061615014245399_1.png\n"
     ]
    },
    {
     "name": "stderr",
     "output_type": "stream",
     "text": [
      "2018-09-30 20:21:44,046 INFO files: 36\n"
     ]
    },
    {
     "name": "stderr",
     "output_type": "stream",
     "text": [
      "2018-09-30 20:21:44,047 INFO Gridsize: 6 rows x 6 columns\n"
     ]
    },
    {
     "name": "stderr",
     "output_type": "stream",
     "text": [
      "2018-09-30 20:21:44,082 INFO Imagesize: (256, 256, 1)\n"
     ]
    },
    {
     "name": "stderr",
     "output_type": "stream",
     "text": [
      "2018-09-30 20:21:44,085 INFO Origing: (-11.532743618243, -142.64492111155, 106.853484775809)\n"
     ]
    },
    {
     "name": "stderr",
     "output_type": "stream",
     "text": [
      "2018-09-30 20:21:44,087 INFO Spacing: (1.1328125, 1.1328125, 8.80000019073486)\n"
     ]
    },
    {
     "name": "stderr",
     "output_type": "stream",
     "text": [
      "2018-09-30 20:21:44,089 INFO Direction: (0.14708522332726723, 0.40583377099913426, -0.9020337506963864, 0.9869651540770719, 6.938893903907228e-18, 0.1609341002945672, 0.06531249280489708, -0.9139469078215772, -0.40054379032383963)\n"
     ]
    },
    {
     "name": "stderr",
     "output_type": "stream",
     "text": [
      "2018-09-30 20:21:44,092 INFO Components: 1\n"
     ]
    },
    {
     "name": "stderr",
     "output_type": "stream",
     "text": [
      "2018-09-30 20:21:44,123 INFO Imagesize: (256, 256, 1)\n"
     ]
    },
    {
     "name": "stderr",
     "output_type": "stream",
     "text": [
      "2018-09-30 20:21:44,124 INFO Origing: (-11.532743618243, -142.64492111155, 106.853484775809)\n"
     ]
    },
    {
     "name": "stderr",
     "output_type": "stream",
     "text": [
      "2018-09-30 20:21:44,126 INFO Spacing: (1.1328125, 1.1328125, 8.80000019073486)\n"
     ]
    },
    {
     "name": "stderr",
     "output_type": "stream",
     "text": [
      "2018-09-30 20:21:44,128 INFO Direction: (0.14708522332726723, 0.40583377099913426, -0.9020337506963864, 0.9869651540770719, 6.938893903907228e-18, 0.1609341002945672, 0.06531249280489708, -0.9139469078215772, -0.40054379032383963)\n"
     ]
    },
    {
     "name": "stderr",
     "output_type": "stream",
     "text": [
      "2018-09-30 20:21:44,131 INFO Components: 1\n"
     ]
    },
    {
     "name": "stderr",
     "output_type": "stream",
     "text": [
      "2018-09-30 20:21:44,167 INFO Imagesize: (256, 256, 1)\n"
     ]
    },
    {
     "name": "stderr",
     "output_type": "stream",
     "text": [
      "2018-09-30 20:21:44,168 INFO Origing: (-11.532743618243, -142.64492111155, 106.853484775809)\n"
     ]
    },
    {
     "name": "stderr",
     "output_type": "stream",
     "text": [
      "2018-09-30 20:21:44,169 INFO Spacing: (1.1328125, 1.1328125, 8.80000019073486)\n"
     ]
    },
    {
     "name": "stderr",
     "output_type": "stream",
     "text": [
      "2018-09-30 20:21:44,173 INFO Direction: (0.14708522332726723, 0.40583377099913426, -0.9020337506963864, 0.9869651540770719, 6.938893903907228e-18, 0.1609341002945672, 0.06531249280489708, -0.9139469078215772, -0.40054379032383963)\n"
     ]
    },
    {
     "name": "stderr",
     "output_type": "stream",
     "text": [
      "2018-09-30 20:21:44,177 INFO Components: 1\n"
     ]
    },
    {
     "name": "stderr",
     "output_type": "stream",
     "text": [
      "2018-09-30 20:21:44,208 INFO Imagesize: (256, 256, 1)\n"
     ]
    },
    {
     "name": "stderr",
     "output_type": "stream",
     "text": [
      "2018-09-30 20:21:44,210 INFO Origing: (-11.532743618243, -142.64492111155, 106.853484775809)\n"
     ]
    },
    {
     "name": "stderr",
     "output_type": "stream",
     "text": [
      "2018-09-30 20:21:44,212 INFO Spacing: (1.1328125, 1.1328125, 8.80000019073486)\n"
     ]
    },
    {
     "name": "stderr",
     "output_type": "stream",
     "text": [
      "2018-09-30 20:21:44,213 INFO Direction: (0.14708522332726723, 0.40583377099913426, -0.9020337506963864, 0.9869651540770719, 6.938893903907228e-18, 0.1609341002945672, 0.06531249280489708, -0.9139469078215772, -0.40054379032383963)\n"
     ]
    },
    {
     "name": "stderr",
     "output_type": "stream",
     "text": [
      "2018-09-30 20:21:44,215 INFO Components: 1\n"
     ]
    },
    {
     "name": "stderr",
     "output_type": "stream",
     "text": [
      "2018-09-30 20:21:44,247 INFO Imagesize: (256, 256, 1)\n"
     ]
    },
    {
     "name": "stderr",
     "output_type": "stream",
     "text": [
      "2018-09-30 20:21:44,250 INFO Origing: (-11.532743618243, -142.64492111155, 106.853484775809)\n"
     ]
    },
    {
     "name": "stderr",
     "output_type": "stream",
     "text": [
      "2018-09-30 20:21:44,252 INFO Spacing: (1.1328125, 1.1328125, 8.80000019073486)\n"
     ]
    },
    {
     "name": "stderr",
     "output_type": "stream",
     "text": [
      "2018-09-30 20:21:44,255 INFO Direction: (0.14708522332726723, 0.40583377099913426, -0.9020337506963864, 0.9869651540770719, 6.938893903907228e-18, 0.1609341002945672, 0.06531249280489708, -0.9139469078215772, -0.40054379032383963)\n"
     ]
    },
    {
     "name": "stderr",
     "output_type": "stream",
     "text": [
      "2018-09-30 20:21:44,258 INFO Components: 1\n"
     ]
    },
    {
     "name": "stderr",
     "output_type": "stream",
     "text": [
      "2018-09-30 20:21:44,290 INFO Imagesize: (256, 256, 1)\n"
     ]
    },
    {
     "name": "stderr",
     "output_type": "stream",
     "text": [
      "2018-09-30 20:21:44,292 INFO Origing: (-11.532743618243, -142.64492111155, 106.853484775809)\n"
     ]
    },
    {
     "name": "stderr",
     "output_type": "stream",
     "text": [
      "2018-09-30 20:21:44,294 INFO Spacing: (1.1328125, 1.1328125, 8.80000019073486)\n"
     ]
    },
    {
     "name": "stderr",
     "output_type": "stream",
     "text": [
      "2018-09-30 20:21:44,296 INFO Direction: (0.14708522332726723, 0.40583377099913426, -0.9020337506963864, 0.9869651540770719, 6.938893903907228e-18, 0.1609341002945672, 0.06531249280489708, -0.9139469078215772, -0.40054379032383963)\n"
     ]
    },
    {
     "name": "stderr",
     "output_type": "stream",
     "text": [
      "2018-09-30 20:21:44,300 INFO Components: 1\n"
     ]
    },
    {
     "name": "stderr",
     "output_type": "stream",
     "text": [
      "2018-09-30 20:21:44,335 INFO Imagesize: (256, 256, 1)\n"
     ]
    },
    {
     "name": "stderr",
     "output_type": "stream",
     "text": [
      "2018-09-30 20:21:44,337 INFO Origing: (-11.532743618243, -142.64492111155, 106.853484775809)\n"
     ]
    },
    {
     "name": "stderr",
     "output_type": "stream",
     "text": [
      "2018-09-30 20:21:44,339 INFO Spacing: (1.1328125, 1.1328125, 8.80000019073486)\n"
     ]
    },
    {
     "name": "stderr",
     "output_type": "stream",
     "text": [
      "2018-09-30 20:21:44,341 INFO Direction: (0.14708522332726723, 0.40583377099913426, -0.9020337506963864, 0.9869651540770719, 6.938893903907228e-18, 0.1609341002945672, 0.06531249280489708, -0.9139469078215772, -0.40054379032383963)\n"
     ]
    },
    {
     "name": "stderr",
     "output_type": "stream",
     "text": [
      "2018-09-30 20:21:44,343 INFO Components: 1\n"
     ]
    },
    {
     "name": "stderr",
     "output_type": "stream",
     "text": [
      "2018-09-30 20:21:44,375 INFO Imagesize: (256, 256, 1)\n"
     ]
    },
    {
     "name": "stderr",
     "output_type": "stream",
     "text": [
      "2018-09-30 20:21:44,377 INFO Origing: (-11.532743618243, -142.64492111155, 106.853484775809)\n"
     ]
    },
    {
     "name": "stderr",
     "output_type": "stream",
     "text": [
      "2018-09-30 20:21:44,379 INFO Spacing: (1.1328125, 1.1328125, 8.80000019073486)\n"
     ]
    },
    {
     "name": "stderr",
     "output_type": "stream",
     "text": [
      "2018-09-30 20:21:44,381 INFO Direction: (0.14708522332726723, 0.40583377099913426, -0.9020337506963864, 0.9869651540770719, 6.938893903907228e-18, 0.1609341002945672, 0.06531249280489708, -0.9139469078215772, -0.40054379032383963)\n"
     ]
    },
    {
     "name": "stderr",
     "output_type": "stream",
     "text": [
      "2018-09-30 20:21:44,383 INFO Components: 1\n"
     ]
    },
    {
     "name": "stderr",
     "output_type": "stream",
     "text": [
      "2018-09-30 20:21:44,415 INFO Imagesize: (256, 256, 1)\n"
     ]
    },
    {
     "name": "stderr",
     "output_type": "stream",
     "text": [
      "2018-09-30 20:21:44,417 INFO Origing: (-11.532743618243, -142.64492111155, 106.853484775809)\n"
     ]
    },
    {
     "name": "stderr",
     "output_type": "stream",
     "text": [
      "2018-09-30 20:21:44,418 INFO Spacing: (1.1328125, 1.1328125, 8.80000019073486)\n"
     ]
    },
    {
     "name": "stderr",
     "output_type": "stream",
     "text": [
      "2018-09-30 20:21:44,420 INFO Direction: (0.14708522332726723, 0.40583377099913426, -0.9020337506963864, 0.9869651540770719, 6.938893903907228e-18, 0.1609341002945672, 0.06531249280489708, -0.9139469078215772, -0.40054379032383963)\n"
     ]
    },
    {
     "name": "stderr",
     "output_type": "stream",
     "text": [
      "2018-09-30 20:21:44,422 INFO Components: 1\n"
     ]
    },
    {
     "name": "stderr",
     "output_type": "stream",
     "text": [
      "2018-09-30 20:21:44,453 INFO Imagesize: (256, 256, 1)\n"
     ]
    },
    {
     "name": "stderr",
     "output_type": "stream",
     "text": [
      "2018-09-30 20:21:44,456 INFO Origing: (-11.532743618243, -142.64492111155, 106.853484775809)\n"
     ]
    },
    {
     "name": "stderr",
     "output_type": "stream",
     "text": [
      "2018-09-30 20:21:44,458 INFO Spacing: (1.1328125, 1.1328125, 8.80000019073486)"
     ]
    },
    {
     "name": "stderr",
     "output_type": "stream",
     "text": [
      "\n"
     ]
    },
    {
     "name": "stderr",
     "output_type": "stream",
     "text": [
      "2018-09-30 20:21:44,461 INFO Direction: (0.14708522332726723, 0.40583377099913426, -0.9020337506963864, 0.9869651540770719, 6.938893903907228e-18, 0.1609341002945672, 0.06531249280489708, -0.9139469078215772, -0.40054379032383963)\n"
     ]
    },
    {
     "name": "stderr",
     "output_type": "stream",
     "text": [
      "2018-09-30 20:21:44,463 INFO Components: 1\n"
     ]
    },
    {
     "name": "stderr",
     "output_type": "stream",
     "text": [
      "2018-09-30 20:21:44,497 INFO Imagesize: (256, 256, 1)\n"
     ]
    },
    {
     "name": "stderr",
     "output_type": "stream",
     "text": [
      "2018-09-30 20:21:44,499 INFO Origing: (-11.532743618243, -142.64492111155, 106.853484775809)\n"
     ]
    },
    {
     "name": "stderr",
     "output_type": "stream",
     "text": [
      "2018-09-30 20:21:44,501 INFO Spacing: (1.1328125, 1.1328125, 8.80000019073486)\n"
     ]
    },
    {
     "name": "stderr",
     "output_type": "stream",
     "text": [
      "2018-09-30 20:21:44,504 INFO Direction: (0.14708522332726723, 0.40583377099913426, -0.9020337506963864, 0.9869651540770719, 6.938893903907228e-18, 0.1609341002945672, 0.06531249280489708, -0.9139469078215772, -0.40054379032383963)\n"
     ]
    },
    {
     "name": "stderr",
     "output_type": "stream",
     "text": [
      "2018-09-30 20:21:44,506 INFO Components: 1\n"
     ]
    },
    {
     "name": "stderr",
     "output_type": "stream",
     "text": [
      "2018-09-30 20:21:44,539 INFO Imagesize: (256, 256, 1)\n"
     ]
    },
    {
     "name": "stderr",
     "output_type": "stream",
     "text": [
      "2018-09-30 20:21:44,541 INFO Origing: (-11.532743618243, -142.64492111155, 106.853484775809)\n"
     ]
    },
    {
     "name": "stderr",
     "output_type": "stream",
     "text": [
      "2018-09-30 20:21:44,542 INFO Spacing: (1.1328125, 1.1328125, 8.80000019073486)\n"
     ]
    },
    {
     "name": "stderr",
     "output_type": "stream",
     "text": [
      "2018-09-30 20:21:44,544 INFO Direction: (0.14708522332726723, 0.40583377099913426, -0.9020337506963864, 0.9869651540770719, 6.938893903907228e-18, 0.1609341002945672, 0.06531249280489708, -0.9139469078215772, -0.40054379032383963)"
     ]
    },
    {
     "name": "stderr",
     "output_type": "stream",
     "text": [
      "\n"
     ]
    },
    {
     "name": "stderr",
     "output_type": "stream",
     "text": [
      "2018-09-30 20:21:44,546 INFO Components: 1\n"
     ]
    },
    {
     "name": "stderr",
     "output_type": "stream",
     "text": [
      "2018-09-30 20:21:44,581 INFO Imagesize: (256, 256, 1)\n"
     ]
    },
    {
     "name": "stderr",
     "output_type": "stream",
     "text": [
      "2018-09-30 20:21:44,583 INFO Origing: (-11.532743618243, -142.64492111155, 106.853484775809)\n"
     ]
    },
    {
     "name": "stderr",
     "output_type": "stream",
     "text": [
      "2018-09-30 20:21:44,585 INFO Spacing: (1.1328125, 1.1328125, 8.80000019073486)\n"
     ]
    },
    {
     "name": "stderr",
     "output_type": "stream",
     "text": [
      "2018-09-30 20:21:44,586 INFO Direction: (0.14708522332726723, 0.40583377099913426, -0.9020337506963864, 0.9869651540770719, 6.938893903907228e-18, 0.1609341002945672, 0.06531249280489708, -0.9139469078215772, -0.40054379032383963)\n"
     ]
    },
    {
     "name": "stderr",
     "output_type": "stream",
     "text": [
      "2018-09-30 20:21:44,588 INFO Components: 1\n"
     ]
    },
    {
     "name": "stderr",
     "output_type": "stream",
     "text": [
      "2018-09-30 20:21:44,620 INFO Imagesize: (256, 256, 1)\n"
     ]
    },
    {
     "name": "stderr",
     "output_type": "stream",
     "text": [
      "2018-09-30 20:21:44,621 INFO Origing: (-11.532743618243, -142.64492111155, 106.853484775809)\n"
     ]
    },
    {
     "name": "stderr",
     "output_type": "stream",
     "text": [
      "2018-09-30 20:21:44,623 INFO Spacing: (1.1328125, 1.1328125, 8.80000019073486)\n"
     ]
    },
    {
     "name": "stderr",
     "output_type": "stream",
     "text": [
      "2018-09-30 20:21:44,628 INFO Direction: (0.14708522332726723, 0.40583377099913426, -0.9020337506963864, 0.9869651540770719, 6.938893903907228e-18, 0.1609341002945672, 0.06531249280489708, -0.9139469078215772, -0.40054379032383963)\n"
     ]
    },
    {
     "name": "stderr",
     "output_type": "stream",
     "text": [
      "2018-09-30 20:21:44,630 INFO Components: 1\n"
     ]
    },
    {
     "name": "stderr",
     "output_type": "stream",
     "text": [
      "2018-09-30 20:21:44,662 INFO Imagesize: (256, 256, 1)"
     ]
    },
    {
     "name": "stderr",
     "output_type": "stream",
     "text": [
      "\n"
     ]
    },
    {
     "name": "stderr",
     "output_type": "stream",
     "text": [
      "2018-09-30 20:21:44,665 INFO Origing: (-11.532743618243, -142.64492111155, 106.853484775809)\n"
     ]
    },
    {
     "name": "stderr",
     "output_type": "stream",
     "text": [
      "2018-09-30 20:21:44,667 INFO Spacing: (1.1328125, 1.1328125, 8.80000019073486)\n"
     ]
    },
    {
     "name": "stderr",
     "output_type": "stream",
     "text": [
      "2018-09-30 20:21:44,669 INFO Direction: (0.14708522332726723, 0.40583377099913426, -0.9020337506963864, 0.9869651540770719, 6.938893903907228e-18, 0.1609341002945672, 0.06531249280489708, -0.9139469078215772, -0.40054379032383963)\n"
     ]
    },
    {
     "name": "stderr",
     "output_type": "stream",
     "text": [
      "2018-09-30 20:21:44,670 INFO Components: 1\n"
     ]
    },
    {
     "name": "stderr",
     "output_type": "stream",
     "text": [
      "2018-09-30 20:21:44,704 INFO Imagesize: (256, 256, 1)\n"
     ]
    },
    {
     "name": "stderr",
     "output_type": "stream",
     "text": [
      "2018-09-30 20:21:44,706 INFO Origing: (-11.532743618243, -142.64492111155, 106.853484775809)\n"
     ]
    },
    {
     "name": "stderr",
     "output_type": "stream",
     "text": [
      "2018-09-30 20:21:44,707 INFO Spacing: (1.1328125, 1.1328125, 8.80000019073486)\n"
     ]
    },
    {
     "name": "stderr",
     "output_type": "stream",
     "text": [
      "2018-09-30 20:21:44,710 INFO Direction: (0.14708522332726723, 0.40583377099913426, -0.9020337506963864, 0.9869651540770719, 6.938893903907228e-18, 0.1609341002945672, 0.06531249280489708, -0.9139469078215772, -0.40054379032383963)\n"
     ]
    },
    {
     "name": "stderr",
     "output_type": "stream",
     "text": [
      "2018-09-30 20:21:44,711 INFO Components: 1\n"
     ]
    },
    {
     "name": "stderr",
     "output_type": "stream",
     "text": [
      "2018-09-30 20:21:44,744 INFO Imagesize: (256, 256, 1)\n"
     ]
    },
    {
     "name": "stderr",
     "output_type": "stream",
     "text": [
      "2018-09-30 20:21:44,746 INFO Origing: (-11.532743618243, -142.64492111155, 106.853484775809)\n"
     ]
    },
    {
     "name": "stderr",
     "output_type": "stream",
     "text": [
      "2018-09-30 20:21:44,748 INFO Spacing: (1.1328125, 1.1328125, 8.80000019073486)\n"
     ]
    },
    {
     "name": "stderr",
     "output_type": "stream",
     "text": [
      "2018-09-30 20:21:44,751 INFO Direction: (0.14708522332726723, 0.40583377099913426, -0.9020337506963864, 0.9869651540770719, 6.938893903907228e-18, 0.1609341002945672, 0.06531249280489708, -0.9139469078215772, -0.40054379032383963)\n"
     ]
    },
    {
     "name": "stderr",
     "output_type": "stream",
     "text": [
      "2018-09-30 20:21:44,754 INFO Components: 1\n"
     ]
    },
    {
     "name": "stderr",
     "output_type": "stream",
     "text": [
      "2018-09-30 20:21:44,787 INFO Imagesize: (256, 256, 1)\n"
     ]
    },
    {
     "name": "stderr",
     "output_type": "stream",
     "text": [
      "2018-09-30 20:21:44,789 INFO Origing: (-11.532743618243, -142.64492111155, 106.853484775809)\n"
     ]
    },
    {
     "name": "stderr",
     "output_type": "stream",
     "text": [
      "2018-09-30 20:21:44,790 INFO Spacing: (1.1328125, 1.1328125, 8.80000019073486)\n"
     ]
    },
    {
     "name": "stderr",
     "output_type": "stream",
     "text": [
      "2018-09-30 20:21:44,792 INFO Direction: (0.14708522332726723, 0.40583377099913426, -0.9020337506963864, 0.9869651540770719, 6.938893903907228e-18, 0.1609341002945672, 0.06531249280489708, -0.9139469078215772, -0.40054379032383963)\n"
     ]
    },
    {
     "name": "stderr",
     "output_type": "stream",
     "text": [
      "2018-09-30 20:21:44,794 INFO Components: 1\n"
     ]
    },
    {
     "name": "stderr",
     "output_type": "stream",
     "text": [
      "2018-09-30 20:21:44,827 INFO Imagesize: (256, 256, 1)\n"
     ]
    },
    {
     "name": "stderr",
     "output_type": "stream",
     "text": [
      "2018-09-30 20:21:44,828 INFO Origing: (-11.532743618243, -142.64492111155, 106.853484775809)\n"
     ]
    },
    {
     "name": "stderr",
     "output_type": "stream",
     "text": [
      "2018-09-30 20:21:44,830 INFO Spacing: (1.1328125, 1.1328125, 8.80000019073486)\n"
     ]
    },
    {
     "name": "stderr",
     "output_type": "stream",
     "text": [
      "2018-09-30 20:21:44,832 INFO Direction: (0.14708522332726723, 0.40583377099913426, -0.9020337506963864, 0.9869651540770719, 6.938893903907228e-18, 0.1609341002945672, 0.06531249280489708, -0.9139469078215772, -0.40054379032383963)\n"
     ]
    },
    {
     "name": "stderr",
     "output_type": "stream",
     "text": [
      "2018-09-30 20:21:44,834 INFO Components: 1\n"
     ]
    },
    {
     "name": "stderr",
     "output_type": "stream",
     "text": [
      "2018-09-30 20:21:44,868 INFO Imagesize: (256, 256, 1)\n"
     ]
    },
    {
     "name": "stderr",
     "output_type": "stream",
     "text": [
      "2018-09-30 20:21:44,870 INFO Origing: (-11.532743618243, -142.64492111155, 106.853484775809)\n"
     ]
    },
    {
     "name": "stderr",
     "output_type": "stream",
     "text": [
      "2018-09-30 20:21:44,873 INFO Spacing: (1.1328125, 1.1328125, 8.80000019073486)"
     ]
    },
    {
     "name": "stderr",
     "output_type": "stream",
     "text": [
      "\n"
     ]
    },
    {
     "name": "stderr",
     "output_type": "stream",
     "text": [
      "2018-09-30 20:21:44,875 INFO Direction: (0.14708522332726723, 0.40583377099913426, -0.9020337506963864, 0.9869651540770719, 6.938893903907228e-18, 0.1609341002945672, 0.06531249280489708, -0.9139469078215772, -0.40054379032383963)\n"
     ]
    },
    {
     "name": "stderr",
     "output_type": "stream",
     "text": [
      "2018-09-30 20:21:44,878 INFO Components: 1\n"
     ]
    },
    {
     "name": "stderr",
     "output_type": "stream",
     "text": [
      "2018-09-30 20:21:44,910 INFO Imagesize: (256, 256, 1)\n"
     ]
    },
    {
     "name": "stderr",
     "output_type": "stream",
     "text": [
      "2018-09-30 20:21:44,911 INFO Origing: (-11.532743618243, -142.64492111155, 106.853484775809)\n"
     ]
    },
    {
     "name": "stderr",
     "output_type": "stream",
     "text": [
      "2018-09-30 20:21:44,912 INFO Spacing: (1.1328125, 1.1328125, 8.80000019073486)\n"
     ]
    },
    {
     "name": "stderr",
     "output_type": "stream",
     "text": [
      "2018-09-30 20:21:44,914 INFO Direction: (0.14708522332726723, 0.40583377099913426, -0.9020337506963864, 0.9869651540770719, 6.938893903907228e-18, 0.1609341002945672, 0.06531249280489708, -0.9139469078215772, -0.40054379032383963)\n"
     ]
    },
    {
     "name": "stderr",
     "output_type": "stream",
     "text": [
      "2018-09-30 20:21:44,915 INFO Components: 1\n"
     ]
    },
    {
     "name": "stderr",
     "output_type": "stream",
     "text": [
      "2018-09-30 20:21:44,948 INFO Imagesize: (256, 256, 1)\n"
     ]
    },
    {
     "name": "stderr",
     "output_type": "stream",
     "text": [
      "2018-09-30 20:21:44,950 INFO Origing: (-11.532743618243, -142.64492111155, 106.853484775809)\n"
     ]
    },
    {
     "name": "stderr",
     "output_type": "stream",
     "text": [
      "2018-09-30 20:21:44,952 INFO Spacing: (1.1328125, 1.1328125, 8.80000019073486)\n"
     ]
    },
    {
     "name": "stderr",
     "output_type": "stream",
     "text": [
      "2018-09-30 20:21:44,954 INFO Direction: (0.14708522332726723, 0.40583377099913426, -0.9020337506963864, 0.9869651540770719, 6.938893903907228e-18, 0.1609341002945672, 0.06531249280489708, -0.9139469078215772, -0.40054379032383963)\n"
     ]
    },
    {
     "name": "stderr",
     "output_type": "stream",
     "text": [
      "2018-09-30 20:21:44,955 INFO Components: 1\n"
     ]
    },
    {
     "name": "stderr",
     "output_type": "stream",
     "text": [
      "2018-09-30 20:21:44,990 INFO Imagesize: (256, 256, 1)\n"
     ]
    },
    {
     "name": "stderr",
     "output_type": "stream",
     "text": [
      "2018-09-30 20:21:44,992 INFO Origing: (-11.532743618243, -142.64492111155, 106.853484775809)\n"
     ]
    },
    {
     "name": "stderr",
     "output_type": "stream",
     "text": [
      "2018-09-30 20:21:44,994 INFO Spacing: (1.1328125, 1.1328125, 8.80000019073486)\n"
     ]
    },
    {
     "name": "stderr",
     "output_type": "stream",
     "text": [
      "2018-09-30 20:21:44,997 INFO Direction: (0.14708522332726723, 0.40583377099913426, -0.9020337506963864, 0.9869651540770719, 6.938893903907228e-18, 0.1609341002945672, 0.06531249280489708, -0.9139469078215772, -0.40054379032383963)\n"
     ]
    },
    {
     "name": "stderr",
     "output_type": "stream",
     "text": [
      "2018-09-30 20:21:44,999 INFO Components: 1\n"
     ]
    },
    {
     "name": "stderr",
     "output_type": "stream",
     "text": [
      "2018-09-30 20:21:45,038 INFO Imagesize: (256, 256, 1)\n"
     ]
    },
    {
     "name": "stderr",
     "output_type": "stream",
     "text": [
      "2018-09-30 20:21:45,040 INFO Origing: (-11.532743618243, -142.64492111155, 106.853484775809)\n"
     ]
    },
    {
     "name": "stderr",
     "output_type": "stream",
     "text": [
      "2018-09-30 20:21:45,041 INFO Spacing: (1.1328125, 1.1328125, 8.80000019073486)\n"
     ]
    },
    {
     "name": "stderr",
     "output_type": "stream",
     "text": [
      "2018-09-30 20:21:45,043 INFO Direction: (0.14708522332726723, 0.40583377099913426, -0.9020337506963864, 0.9869651540770719, 6.938893903907228e-18, 0.1609341002945672, 0.06531249280489708, -0.9139469078215772, -0.40054379032383963)\n"
     ]
    },
    {
     "name": "stderr",
     "output_type": "stream",
     "text": [
      "2018-09-30 20:21:45,044 INFO Components: 1\n"
     ]
    },
    {
     "name": "stderr",
     "output_type": "stream",
     "text": [
      "2018-09-30 20:21:45,081 INFO Imagesize: (256, 256, 1)\n"
     ]
    },
    {
     "name": "stderr",
     "output_type": "stream",
     "text": [
      "2018-09-30 20:21:45,082 INFO Origing: (-11.532743618243, -142.64492111155, 106.853484775809)\n"
     ]
    },
    {
     "name": "stderr",
     "output_type": "stream",
     "text": [
      "2018-09-30 20:21:45,083 INFO Spacing: (1.1328125, 1.1328125, 8.80000019073486)\n"
     ]
    },
    {
     "name": "stderr",
     "output_type": "stream",
     "text": [
      "2018-09-30 20:21:45,085 INFO Direction: (0.14708522332726723, 0.40583377099913426, -0.9020337506963864, 0.9869651540770719, 6.938893903907228e-18, 0.1609341002945672, 0.06531249280489708, -0.9139469078215772, -0.40054379032383963)\n"
     ]
    },
    {
     "name": "stderr",
     "output_type": "stream",
     "text": [
      "2018-09-30 20:21:45,087 INFO Components: 1\n"
     ]
    },
    {
     "name": "stderr",
     "output_type": "stream",
     "text": [
      "2018-09-30 20:21:45,121 INFO Imagesize: (256, 256, 1)\n"
     ]
    },
    {
     "name": "stderr",
     "output_type": "stream",
     "text": [
      "2018-09-30 20:21:45,122 INFO Origing: (-11.532743618243, -142.64492111155, 106.853484775809)\n"
     ]
    },
    {
     "name": "stderr",
     "output_type": "stream",
     "text": [
      "2018-09-30 20:21:45,123 INFO Spacing: (1.1328125, 1.1328125, 8.80000019073486)\n"
     ]
    },
    {
     "name": "stderr",
     "output_type": "stream",
     "text": [
      "2018-09-30 20:21:45,125 INFO Direction: (0.14708522332726723, 0.40583377099913426, -0.9020337506963864, 0.9869651540770719, 6.938893903907228e-18, 0.1609341002945672, 0.06531249280489708, -0.9139469078215772, -0.40054379032383963)\n"
     ]
    },
    {
     "name": "stderr",
     "output_type": "stream",
     "text": [
      "2018-09-30 20:21:45,127 INFO Components: 1\n"
     ]
    },
    {
     "name": "stderr",
     "output_type": "stream",
     "text": [
      "2018-09-30 20:21:45,294 INFO Imagesize: (256, 256, 1)\n"
     ]
    },
    {
     "name": "stderr",
     "output_type": "stream",
     "text": [
      "2018-09-30 20:21:45,295 INFO Origing: (-11.532743618243, -142.64492111155, 106.853484775809)\n"
     ]
    },
    {
     "name": "stderr",
     "output_type": "stream",
     "text": [
      "2018-09-30 20:21:45,297 INFO Spacing: (1.1328125, 1.1328125, 8.80000019073486)\n"
     ]
    },
    {
     "name": "stderr",
     "output_type": "stream",
     "text": [
      "2018-09-30 20:21:45,299 INFO Direction: (0.14708522332726723, 0.40583377099913426, -0.9020337506963864, 0.9869651540770719, 6.938893903907228e-18, 0.1609341002945672, 0.06531249280489708, -0.9139469078215772, -0.40054379032383963)\n"
     ]
    },
    {
     "name": "stderr",
     "output_type": "stream",
     "text": [
      "2018-09-30 20:21:45,300 INFO Components: 1\n"
     ]
    },
    {
     "name": "stderr",
     "output_type": "stream",
     "text": [
      "2018-09-30 20:21:45,334 INFO Imagesize: (256, 256, 1)\n"
     ]
    },
    {
     "name": "stderr",
     "output_type": "stream",
     "text": [
      "2018-09-30 20:21:45,336 INFO Origing: (-11.532743618243, -142.64492111155, 106.853484775809)\n"
     ]
    },
    {
     "name": "stderr",
     "output_type": "stream",
     "text": [
      "2018-09-30 20:21:45,337 INFO Spacing: (1.1328125, 1.1328125, 8.80000019073486)\n"
     ]
    },
    {
     "name": "stderr",
     "output_type": "stream",
     "text": [
      "2018-09-30 20:21:45,338 INFO Direction: (0.14708522332726723, 0.40583377099913426, -0.9020337506963864, 0.9869651540770719, 6.938893903907228e-18, 0.1609341002945672, 0.06531249280489708, -0.9139469078215772, -0.40054379032383963)\n"
     ]
    },
    {
     "name": "stderr",
     "output_type": "stream",
     "text": [
      "2018-09-30 20:21:45,340 INFO Components: 1\n"
     ]
    },
    {
     "name": "stderr",
     "output_type": "stream",
     "text": [
      "2018-09-30 20:21:45,374 INFO Imagesize: (256, 256, 1)\n"
     ]
    },
    {
     "name": "stderr",
     "output_type": "stream",
     "text": [
      "2018-09-30 20:21:45,376 INFO Origing: (-11.532743618243, -142.64492111155, 106.853484775809)\n"
     ]
    },
    {
     "name": "stderr",
     "output_type": "stream",
     "text": [
      "2018-09-30 20:21:45,377 INFO Spacing: (1.1328125, 1.1328125, 8.80000019073486)\n"
     ]
    },
    {
     "name": "stderr",
     "output_type": "stream",
     "text": [
      "2018-09-30 20:21:45,379 INFO Direction: (0.14708522332726723, 0.40583377099913426, -0.9020337506963864, 0.9869651540770719, 6.938893903907228e-18, 0.1609341002945672, 0.06531249280489708, -0.9139469078215772, -0.40054379032383963)\n"
     ]
    },
    {
     "name": "stderr",
     "output_type": "stream",
     "text": [
      "2018-09-30 20:21:45,380 INFO Components: 1\n"
     ]
    },
    {
     "name": "stderr",
     "output_type": "stream",
     "text": [
      "2018-09-30 20:21:45,416 INFO Imagesize: (256, 256, 1)\n"
     ]
    },
    {
     "name": "stderr",
     "output_type": "stream",
     "text": [
      "2018-09-30 20:21:45,417 INFO Origing: (-11.532743618243, -142.64492111155, 106.853484775809)\n"
     ]
    },
    {
     "name": "stderr",
     "output_type": "stream",
     "text": [
      "2018-09-30 20:21:45,419 INFO Spacing: (1.1328125, 1.1328125, 8.80000019073486)\n"
     ]
    },
    {
     "name": "stderr",
     "output_type": "stream",
     "text": [
      "2018-09-30 20:21:45,420 INFO Direction: (0.14708522332726723, 0.40583377099913426, -0.9020337506963864, 0.9869651540770719, 6.938893903907228e-18, 0.1609341002945672, 0.06531249280489708, -0.9139469078215772, -0.40054379032383963)\n"
     ]
    },
    {
     "name": "stderr",
     "output_type": "stream",
     "text": [
      "2018-09-30 20:21:45,422 INFO Components: 1\n"
     ]
    },
    {
     "name": "stderr",
     "output_type": "stream",
     "text": [
      "2018-09-30 20:21:45,455 INFO Imagesize: (256, 256, 1)\n"
     ]
    },
    {
     "name": "stderr",
     "output_type": "stream",
     "text": [
      "2018-09-30 20:21:45,456 INFO Origing: (-11.532743618243, -142.64492111155, 106.853484775809)\n"
     ]
    },
    {
     "name": "stderr",
     "output_type": "stream",
     "text": [
      "2018-09-30 20:21:45,458 INFO Spacing: (1.1328125, 1.1328125, 8.80000019073486)\n"
     ]
    },
    {
     "name": "stderr",
     "output_type": "stream",
     "text": [
      "2018-09-30 20:21:45,460 INFO Direction: (0.14708522332726723, 0.40583377099913426, -0.9020337506963864, 0.9869651540770719, 6.938893903907228e-18, 0.1609341002945672, 0.06531249280489708, -0.9139469078215772, -0.40054379032383963)\n"
     ]
    },
    {
     "name": "stderr",
     "output_type": "stream",
     "text": [
      "2018-09-30 20:21:45,461 INFO Components: 1\n"
     ]
    },
    {
     "name": "stderr",
     "output_type": "stream",
     "text": [
      "2018-09-30 20:21:45,497 INFO Imagesize: (256, 256, 1)\n"
     ]
    },
    {
     "name": "stderr",
     "output_type": "stream",
     "text": [
      "2018-09-30 20:21:45,499 INFO Origing: (-11.532743618243, -142.64492111155, 106.853484775809)\n"
     ]
    },
    {
     "name": "stderr",
     "output_type": "stream",
     "text": [
      "2018-09-30 20:21:45,500 INFO Spacing: (1.1328125, 1.1328125, 8.80000019073486)\n"
     ]
    },
    {
     "name": "stderr",
     "output_type": "stream",
     "text": [
      "2018-09-30 20:21:45,502 INFO Direction: (0.14708522332726723, 0.40583377099913426, -0.9020337506963864, 0.9869651540770719, 6.938893903907228e-18, 0.1609341002945672, 0.06531249280489708, -0.9139469078215772, -0.40054379032383963)\n"
     ]
    },
    {
     "name": "stderr",
     "output_type": "stream",
     "text": [
      "2018-09-30 20:21:45,503 INFO Components: 1\n"
     ]
    },
    {
     "name": "stderr",
     "output_type": "stream",
     "text": [
      "2018-09-30 20:21:45,538 INFO Imagesize: (256, 256, 1)\n"
     ]
    },
    {
     "name": "stderr",
     "output_type": "stream",
     "text": [
      "2018-09-30 20:21:45,540 INFO Origing: (-19.470644161456, -141.22870101282, 103.328698780325)\n"
     ]
    },
    {
     "name": "stderr",
     "output_type": "stream",
     "text": [
      "2018-09-30 20:21:45,541 INFO Spacing: (1.1328125, 1.1328125, 8.80000019073486)\n"
     ]
    },
    {
     "name": "stderr",
     "output_type": "stream",
     "text": [
      "2018-09-30 20:21:45,543 INFO Direction: (0.14708522332726723, 0.40583377099913426, -0.9020337506963864, 0.9869651540770719, 6.938893903907228e-18, 0.1609341002945672, 0.06531249280489708, -0.9139469078215772, -0.40054379032383963)\n"
     ]
    },
    {
     "name": "stderr",
     "output_type": "stream",
     "text": [
      "2018-09-30 20:21:45,544 INFO Components: 1\n"
     ]
    },
    {
     "name": "stderr",
     "output_type": "stream",
     "text": [
      "2018-09-30 20:21:45,579 INFO Imagesize: (256, 256, 1)\n"
     ]
    },
    {
     "name": "stderr",
     "output_type": "stream",
     "text": [
      "2018-09-30 20:21:45,581 INFO Origing: (-19.470644161456, -141.22870101282, 103.328698780325)\n"
     ]
    },
    {
     "name": "stderr",
     "output_type": "stream",
     "text": [
      "2018-09-30 20:21:45,583 INFO Spacing: (1.1328125, 1.1328125, 8.80000019073486)\n"
     ]
    },
    {
     "name": "stderr",
     "output_type": "stream",
     "text": [
      "2018-09-30 20:21:45,585 INFO Direction: (0.14708522332726723, 0.40583377099913426, -0.9020337506963864, 0.9869651540770719, 6.938893903907228e-18, 0.1609341002945672, 0.06531249280489708, -0.9139469078215772, -0.40054379032383963)\n"
     ]
    },
    {
     "name": "stderr",
     "output_type": "stream",
     "text": [
      "2018-09-30 20:21:45,586 INFO Components: 1\n"
     ]
    },
    {
     "name": "stderr",
     "output_type": "stream",
     "text": [
      "2018-09-30 20:21:45,620 INFO Imagesize: (256, 256, 1)\n"
     ]
    },
    {
     "name": "stderr",
     "output_type": "stream",
     "text": [
      "2018-09-30 20:21:45,621 INFO Origing: (-19.470644161456, -141.22870101282, 103.328698780325)\n"
     ]
    },
    {
     "name": "stderr",
     "output_type": "stream",
     "text": [
      "2018-09-30 20:21:45,622 INFO Spacing: (1.1328125, 1.1328125, 8.80000019073486)\n"
     ]
    },
    {
     "name": "stderr",
     "output_type": "stream",
     "text": [
      "2018-09-30 20:21:45,624 INFO Direction: (0.14708522332726723, 0.40583377099913426, -0.9020337506963864, 0.9869651540770719, 6.938893903907228e-18, 0.1609341002945672, 0.06531249280489708, -0.9139469078215772, -0.40054379032383963)\n"
     ]
    },
    {
     "name": "stderr",
     "output_type": "stream",
     "text": [
      "2018-09-30 20:21:45,626 INFO Components: 1\n"
     ]
    },
    {
     "name": "stderr",
     "output_type": "stream",
     "text": [
      "2018-09-30 20:21:45,658 INFO Imagesize: (256, 256, 1)\n"
     ]
    },
    {
     "name": "stderr",
     "output_type": "stream",
     "text": [
      "2018-09-30 20:21:45,659 INFO Origing: (-19.470644161456, -141.22870101282, 103.328698780325)\n"
     ]
    },
    {
     "name": "stderr",
     "output_type": "stream",
     "text": [
      "2018-09-30 20:21:45,661 INFO Spacing: (1.1328125, 1.1328125, 8.80000019073486)\n"
     ]
    },
    {
     "name": "stderr",
     "output_type": "stream",
     "text": [
      "2018-09-30 20:21:45,662 INFO Direction: (0.14708522332726723, 0.40583377099913426, -0.9020337506963864, 0.9869651540770719, 6.938893903907228e-18, 0.1609341002945672, 0.06531249280489708, -0.9139469078215772, -0.40054379032383963)\n"
     ]
    },
    {
     "name": "stderr",
     "output_type": "stream",
     "text": [
      "2018-09-30 20:21:45,664 INFO Components: 1\n"
     ]
    },
    {
     "name": "stderr",
     "output_type": "stream",
     "text": [
      "2018-09-30 20:21:45,666 DEBUG Trying to save to data/processed/sumarized/0706-ZY8H5791-2005-06-16/\n"
     ]
    },
    {
     "name": "stderr",
     "output_type": "stream",
     "text": [
      "2018-09-30 20:21:45,681 DEBUG update_title_pos\n"
     ]
    },
    {
     "name": "stderr",
     "output_type": "stream",
     "text": [
      "2018-09-30 20:21:45,703 DEBUG update_title_pos\n"
     ]
    },
    {
     "name": "stderr",
     "output_type": "stream",
     "text": [
      "2018-09-30 20:21:45,721 DEBUG update_title_pos\n"
     ]
    },
    {
     "name": "stderr",
     "output_type": "stream",
     "text": [
      "2018-09-30 20:21:45,741 DEBUG update_title_pos\n"
     ]
    },
    {
     "name": "stderr",
     "output_type": "stream",
     "text": [
      "2018-09-30 20:21:45,759 DEBUG update_title_pos\n"
     ]
    },
    {
     "name": "stderr",
     "output_type": "stream",
     "text": [
      "2018-09-30 20:21:45,778 DEBUG update_title_pos\n"
     ]
    },
    {
     "name": "stderr",
     "output_type": "stream",
     "text": [
      "2018-09-30 20:21:45,797 DEBUG update_title_pos\n"
     ]
    },
    {
     "name": "stderr",
     "output_type": "stream",
     "text": [
      "2018-09-30 20:21:45,817 DEBUG update_title_pos\n"
     ]
    },
    {
     "name": "stderr",
     "output_type": "stream",
     "text": [
      "2018-09-30 20:21:45,836 DEBUG update_title_pos\n"
     ]
    },
    {
     "name": "stderr",
     "output_type": "stream",
     "text": [
      "2018-09-30 20:21:45,854 DEBUG update_title_pos\n"
     ]
    },
    {
     "name": "stderr",
     "output_type": "stream",
     "text": [
      "2018-09-30 20:21:45,873 DEBUG update_title_pos\n"
     ]
    },
    {
     "name": "stderr",
     "output_type": "stream",
     "text": [
      "2018-09-30 20:21:45,893 DEBUG update_title_pos\n"
     ]
    },
    {
     "name": "stderr",
     "output_type": "stream",
     "text": [
      "2018-09-30 20:21:45,912 DEBUG update_title_pos\n"
     ]
    },
    {
     "name": "stderr",
     "output_type": "stream",
     "text": [
      "2018-09-30 20:21:45,930 DEBUG update_title_pos\n"
     ]
    },
    {
     "name": "stderr",
     "output_type": "stream",
     "text": [
      "2018-09-30 20:21:45,948 DEBUG update_title_pos\n"
     ]
    },
    {
     "name": "stderr",
     "output_type": "stream",
     "text": [
      "2018-09-30 20:21:45,967 DEBUG update_title_pos\n"
     ]
    },
    {
     "name": "stderr",
     "output_type": "stream",
     "text": [
      "2018-09-30 20:21:45,986 DEBUG update_title_pos\n"
     ]
    },
    {
     "name": "stderr",
     "output_type": "stream",
     "text": [
      "2018-09-30 20:21:46,006 DEBUG update_title_pos\n"
     ]
    },
    {
     "name": "stderr",
     "output_type": "stream",
     "text": [
      "2018-09-30 20:21:46,024 DEBUG update_title_pos\n"
     ]
    },
    {
     "name": "stderr",
     "output_type": "stream",
     "text": [
      "2018-09-30 20:21:46,044 DEBUG update_title_pos\n"
     ]
    },
    {
     "name": "stderr",
     "output_type": "stream",
     "text": [
      "2018-09-30 20:21:46,064 DEBUG update_title_pos\n"
     ]
    },
    {
     "name": "stderr",
     "output_type": "stream",
     "text": [
      "2018-09-30 20:21:46,083 DEBUG update_title_pos\n"
     ]
    },
    {
     "name": "stderr",
     "output_type": "stream",
     "text": [
      "2018-09-30 20:21:46,101 DEBUG update_title_pos\n"
     ]
    },
    {
     "name": "stderr",
     "output_type": "stream",
     "text": [
      "2018-09-30 20:21:46,121 DEBUG update_title_pos\n"
     ]
    },
    {
     "name": "stderr",
     "output_type": "stream",
     "text": [
      "2018-09-30 20:21:46,139 DEBUG update_title_pos\n"
     ]
    },
    {
     "name": "stderr",
     "output_type": "stream",
     "text": [
      "2018-09-30 20:21:46,160 DEBUG update_title_pos\n"
     ]
    },
    {
     "name": "stderr",
     "output_type": "stream",
     "text": [
      "2018-09-30 20:21:46,179 DEBUG update_title_pos\n"
     ]
    },
    {
     "name": "stderr",
     "output_type": "stream",
     "text": [
      "2018-09-30 20:21:46,199 DEBUG update_title_pos\n"
     ]
    },
    {
     "name": "stderr",
     "output_type": "stream",
     "text": [
      "2018-09-30 20:21:46,218 DEBUG update_title_pos\n"
     ]
    },
    {
     "name": "stderr",
     "output_type": "stream",
     "text": [
      "2018-09-30 20:21:46,236 DEBUG update_title_pos\n"
     ]
    },
    {
     "name": "stderr",
     "output_type": "stream",
     "text": [
      "2018-09-30 20:21:46,254 DEBUG update_title_pos\n"
     ]
    },
    {
     "name": "stderr",
     "output_type": "stream",
     "text": [
      "2018-09-30 20:21:46,272 DEBUG update_title_pos\n"
     ]
    },
    {
     "name": "stderr",
     "output_type": "stream",
     "text": [
      "2018-09-30 20:21:46,291 DEBUG update_title_pos\n"
     ]
    },
    {
     "name": "stderr",
     "output_type": "stream",
     "text": [
      "2018-09-30 20:21:46,311 DEBUG update_title_pos\n"
     ]
    },
    {
     "name": "stderr",
     "output_type": "stream",
     "text": [
      "2018-09-30 20:21:46,332 DEBUG update_title_pos\n"
     ]
    },
    {
     "name": "stderr",
     "output_type": "stream",
     "text": [
      "2018-09-30 20:21:46,351 DEBUG update_title_pos\n"
     ]
    },
    {
     "name": "stderr",
     "output_type": "stream",
     "text": [
      "2018-09-30 20:21:48,746 DEBUG Image saved: data/processed/sumarized/0706-ZY8H5791-2005-06-16/1.3.46.670589.11.0.0.11.4.2.0.5167.5.4188.2005061615051803408_1.png\n"
     ]
    },
    {
     "name": "stderr",
     "output_type": "stream",
     "text": [
      "2018-09-30 20:21:48,825 INFO files: 36\n"
     ]
    },
    {
     "name": "stderr",
     "output_type": "stream",
     "text": [
      "2018-09-30 20:21:48,828 INFO Gridsize: 6 rows x 6 columns\n"
     ]
    },
    {
     "name": "stderr",
     "output_type": "stream",
     "text": [
      "2018-09-30 20:21:48,864 INFO Imagesize: (256, 256, 1)\n"
     ]
    },
    {
     "name": "stderr",
     "output_type": "stream",
     "text": [
      "2018-09-30 20:21:48,867 INFO Origing: (-157.07445381593, 109.197616127561, 83.1075185416881)\n"
     ]
    }
   ],
   "source": [
    "import os\n",
    "from numpy import random\n",
    "import math\n",
    "cwd = os.getcwd()\n",
    "print(cwd)\n",
    "import SimpleITK as sitk\n",
    "import matplotlib as mpl\n",
    "mpl.use('TkAgg')\n",
    "import matplotlib.pyplot as plt\n",
    "#%matplotlib inline\n",
    "import numpy as np\n",
    "from src.utils.myshow import myshow, myshow3d\n",
    "\n",
    "#from ipywidgets import interact, fixed\n",
    "import os\n",
    "import logging\n",
    "import SimpleITK\n",
    "\n",
    "from src.utils.utils_io import Console_and_file_logger, __ensure_dir__, __save_plot__\n",
    "\n",
    "\n",
    "def summarize_dcom_in_path(path):\n",
    "    files_to_load = 36\n",
    "    files = sorted(os.listdir(path))[:files_to_load]\n",
    "    n = len(files)\n",
    "    subplotsize = n\n",
    "    current_series = os.path.basename(os.path.normpath(path))\n",
    "\n",
    "    import matplotlib.gridspec as gridspec\n",
    "    # Plot figure with subplots of different sizes\n",
    "    fig = plt.figure()\n",
    "    fig.suptitle('Folder: {}, ({} files)'.format(current_series, n))\n",
    "    fig.set_size_inches(w=subplotsize, h=subplotsize)\n",
    "\n",
    "    # define the number of grids\n",
    "    rows = int(math.ceil(n ** (0.5)))\n",
    "    columns = int(math.ceil(n ** (0.5)))\n",
    "    # initialize the grid\n",
    "    gs1 = gridspec.GridSpec(rows, columns)\n",
    "\n",
    "    logging.info('files: {}'.format(n))\n",
    "    logging.info('Gridsize: {} rows x {} columns'.format(rows, columns))\n",
    "\n",
    "    slices = []\n",
    "    # load the dicom files and create a grid\n",
    "    for idx,file in enumerate(files):\n",
    "        if file.endswith('dcm'):\n",
    "            # get the last part of the series number\n",
    "            filename = file[-10:-4]\n",
    "            # read the image\n",
    "            image = sitk.ReadImage(os.path.join(path, file))\n",
    "            slices.append(image)\n",
    "            # add image to the gridspace\n",
    "            ax = fig.add_subplot(gs1[idx])\n",
    "            ax.set_title('Nr.: {}, file: {}\\n size: {}'.format(idx, filename, str(image.GetSize())))\n",
    "            ax.imshow(sitk.GetArrayViewFromImage(image[:,:,0]))\n",
    "            ax.axis('off')\n",
    "            # log image data\n",
    "            logging.info('Imagesize: {}'.format(image.GetSize()))\n",
    "            logging.info('Origing: {}'.format(image.GetOrigin()))\n",
    "            logging.info('Spacing: {}'.format(image.GetSpacing()))\n",
    "            logging.info('Direction: {}'.format(image.GetDirection()))\n",
    "            logging.info('Components: {}'.format(image.GetNumberOfComponentsPerPixel()))\n",
    "\n",
    "\n",
    "\n",
    "    # plot an array with random numbers\n",
    "    #ax = fig.add_subplot(gs1[n])\n",
    "    #ax.imshow(random.rand(subplotsize, subplotsize), interpolation='nearest')\n",
    "\n",
    "    # fit subplots and save fig\n",
    "    #fig.tight_layout()\n",
    "    #plt.show()\n",
    "\n",
    "    fig.set_size_inches(20,20)\n",
    "    __save_plot__(fig=fig, path=dest, filename=current_series)\n",
    "\n",
    "    # use the myshow function with a list of slices and visualize them\n",
    "    #myshow3d(sitk.Tile(slices, [n, 20 ,1]), dpi=100)\n",
    "\n",
    "\n",
    "\n",
    "\n",
    "\n",
    "if __name__ == '__main__':\n",
    "    \"\"\"\n",
    "    list all subdirectories in the given src directory\n",
    "    Reads all dcm images in these subdirectories and\n",
    "    plot a summary png into the given destination folder\n",
    "    \"\"\"\n",
    "    import os\n",
    "    # change working directory to project root\n",
    "    # os.chdir('Users/minority/Git/cardio')\n",
    "    os.chdir('/Users/minority/Code/Git/cardio')\n",
    "\n",
    "    #src = 'data/testdata/'\n",
    "    src = 'data/raw/0706-ZY8H5791-2005-06-16/'\n",
    "    dest = 'data/processed/sumarized/0706-ZY8H5791-2005-06-16/'\n",
    "    Console_and_file_logger(os.path.basename('summary'))\n",
    "\n",
    "    # get all folders in src\n",
    "    folders = sorted([os.path.join(src, o) for o in os.listdir(src) if os.path.isdir(os.path.join(src, o))])\n",
    "    logging.info(folders)\n",
    "\n",
    "    for series in folders:\n",
    "        summarize_dcom_in_path(series)\n",
    "\n"
   ]
  },
  {
   "cell_type": "code",
   "execution_count": null,
   "metadata": {},
   "outputs": [],
   "source": []
  }
 ],
 "metadata": {
  "kernelspec": {
   "display_name": "Python 3",
   "language": "python",
   "name": "python3"
  },
  "language_info": {
   "codemirror_mode": {
    "name": "ipython",
    "version": 3
   },
   "file_extension": ".py",
   "mimetype": "text/x-python",
   "name": "python",
   "nbconvert_exporter": "python",
   "pygments_lexer": "ipython3",
   "version": "3.6.5"
  }
 },
 "nbformat": 4,
 "nbformat_minor": 2
}
