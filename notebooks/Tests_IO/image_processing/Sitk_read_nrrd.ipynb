{
 "cells": [
  {
   "cell_type": "code",
   "execution_count": 1,
   "metadata": {},
   "outputs": [
    {
     "name": "stdout",
     "output_type": "stream",
     "text": [
      "/Users/minority/Code/Git/cardio\n",
      "3.6.2 |Anaconda, Inc.| (default, Sep 21 2017, 18:29:43) \n",
      "[GCC 4.2.1 Compatible Clang 4.0.1 (tags/RELEASE_401/final)]\n",
      "sys.version_info(major=3, minor=6, micro=2, releaselevel='final', serial=0)\n"
     ]
    },
    {
     "name": "stderr",
     "output_type": "stream",
     "text": [
      "/Users/minority/Code/Git/cardio/src/utils/file_wrapper/app/Files.py:4: UserWarning: matplotlib.pyplot as already been imported, this call will have no effect.\n",
      "  mpl.use('TkAgg')\n",
      "/Users/minority/Code/Git/cardio/src/utils/utils_io.py:7: UserWarning: matplotlib.pyplot as already been imported, this call will have no effect.\n",
      "  mpl.use('TkAgg')\n",
      "2018-10-21 13:17:51,466 INFO -------------------- Start --------------------\n",
      "2018-10-21 13:17:51,468 INFO Filename: reading_nrrd\n",
      "2018-10-21 13:17:51,470 INFO Log directory: ./logs/\n"
     ]
    },
    {
     "name": "stdout",
     "output_type": "stream",
     "text": [
      "Working directory: /Users/minority/Code/Git/cardio.\n",
      "Log dir: ./logs/\n",
      "All is well.\n"
     ]
    }
   ],
   "source": [
    "# imports, setup and personal settings\n",
    "\n",
    "# use slicer instead of imageJ\n",
    "#export SITK_SHOW_COMMAND=/Applications/Slicer.app/Contents/MacOS/Slicer\n",
    "\n",
    "import logging\n",
    "import os\n",
    "# change working directory to project root\n",
    "os.chdir('/Users/minority/Code/Git/cardio')\n",
    "print(os.getcwd())\n",
    "import IPython.core.debugger as debugger\n",
    "\n",
    "import numpy as np\n",
    "import matplotlib.pyplot as plt\n",
    "import matplotlib as mpl\n",
    "mpl.rc('image', aspect='equal')\n",
    "# enable inline plotting\n",
    "%matplotlib inline\n",
    "import SimpleITK as sitk\n",
    "from __future__ import print_function\n",
    "import importlib\n",
    "from distutils.version import LooseVersion\n",
    "import sys\n",
    "print(sys.version)\n",
    "print(sys.version_info)\n",
    "\n",
    "# project related helper functions\n",
    "from src.utils.file_wrapper.app.Files import Basefile, Nrrdfile, Dicomfile\n",
    "from src.utils.file_wrapper.app.IO import FileWalker\n",
    "from src.utils.myshow import myshow, myshow3d\n",
    "from src.utils.utils_io import __ensure_dir__, Console_and_file_logger\n",
    "Console_and_file_logger(logfile_name='reading_nrrd', log_lvl='INFO')\n",
    "\n",
    "# for detailed debug infos\n",
    "#Console_and_file_logger('ipython_sitk_stack')\n",
    "\n",
    "# toggle detailed print messages\n",
    "DETAILED_DEBUG = False\n",
    "\n",
    "# check that all neccessary packages are installed (see requirements.txt file)\n",
    "required_packages = {\n",
    "    'jupyter', 'numpy', 'matplotlib', 'ipywidgets', 'scipy', 'pandas',\n",
    "    'SimpleITK'\n",
    "}\n",
    "\n",
    "problem_packages = list()\n",
    "# Iterate over the required packages: If the package is not installed\n",
    "# ignore the exception.\n",
    "for package in required_packages:\n",
    "    try:\n",
    "        p = importlib.import_module(package)\n",
    "    except ImportError:\n",
    "        problem_packages.append(package)\n",
    "\n",
    "if len(problem_packages) is 0:\n",
    "    print('All is well.')\n",
    "else:\n",
    "    print('The following packages are required but not installed: ' \\\n",
    "          + ', '.join(problem_packages))"
   ]
  },
  {
   "cell_type": "code",
   "execution_count": 6,
   "metadata": {
    "scrolled": true
   },
   "outputs": [
    {
     "name": "stdout",
     "output_type": "stream",
     "text": [
      "(256, 256, 1)\n",
      "(192, 168, 24, 18)\n",
      "OrderedDict([('type', 'double'), ('dimension', 3), ('space', 'left-posterior-superior'), ('sizes', array([256, 256,   1])), ('space directions', array([[ 1.48431051e+00, -1.38364679e-02,  5.56347736e-05],\n",
      "       [ 1.38364826e-02,  1.48431046e+00, -4.05472411e-04],\n",
      "       [-3.07405118e-04,  2.40678125e-03,  8.79999986e+00]])), ('kinds', ['domain', 'domain', 'domain']), ('endian', 'little'), ('encoding', 'raw'), ('space origin', array([-178.9685674 , -153.83364266, -102.59242018])), ('0008|0005', 'ISO_IR 100'), ('0008|0008', 'ORIGINAL\\\\\\\\PRIMARY\\\\\\\\M_FFE\\\\\\\\M\\\\\\\\FFE'), ('0008|0012', '20080820'), ('0008|0013', '121132'), ('0008|0014', '1.3.46.670589.11.5167.5'), ('0008|0016', '1.2.840.10008.5.1.4.1.1.4'), ('0008|0018', '1.3.46.670589.11.0.0.11.4.2.0.5167.5.2184.2005061614225865278'), ('0008|0020', '20050616'), ('0008|0021', '20050616'), ('0008|0022', '20050616'), ('0008|0023', '20050616'), ('0008|0030', '134723'), ('0008|0031', '142214.70'), ('0008|0032', '142214.70'), ('0008|0033', '142214.70'), ('0008|0050', ''), ('0008|0060', 'MR'), ('0008|0070', 'Philips Medical Systems'), ('0008|0080', 'HDZ Bad Oeynhausen'), ('0008|0090', ''), ('0008|1010', 'PMSN-WTDK21T8JV'), ('0008|1030', 'Herz'), ('0008|103e', 'KN_AHF     #ax-6mm'), ('0008|1070', ''), ('0008|1080', ''), ('0008|1090', 'Intera'), ('0010|0010', 'ZY8H5791'), ('0010|0020', 'ZY8H5791'), ('0010|0030', '19900801'), ('0010|0040', 'F'), ('0010|1030', '35.0'), ('0010|2000', ''), ('0010|2110', ''), ('0010|21c0', '4'), ('0018|0020', 'GR'), ('0018|0021', 'SS'), ('0018|0022', 'CG'), ('0018|0023', ''), ('0018|0024', ''), ('0018|0050', '8.0'), ('0018|0080', '2.49219989776611'), ('0018|0081', '1.24609994888305'), ('0018|0083', '1.0'), ('0018|0084', '63.896063'), ('0018|0085', '1H'), ('0018|0086', '1'), ('0018|0087', '1.5'), ('0018|0088', '8.80000019073486'), ('0018|0089', '217'), ('0018|0091', '0'), ('0018|0093', '150.0'), ('0018|0094', '80.5555572509765'), ('0018|1000', '05167'), ('0018|1020', 'NT 10.3.1\\\\\\\\PIIM V2.1.4.1 MIMIT MCS\\\\\\\\Gyroscan PMS/DICOM 2.0 MR $Id: datadefs,v 5.27 2004/10/18 06:50:'), ('0018|1030', '#ax-6mm      SENSE'), ('0018|1060', '34.0'), ('0018|1081', '218'), ('0018|1082', '1632'), ('0018|1083', '141'), ('0018|1084', '0'), ('0018|1088', '76'), ('0018|1100', '380.0'), ('0018|1250', 'SENSE-cardiac'), ('0018|1251', 'B'), ('0018|1310', '144\\\\\\\\0\\\\\\\\0\\\\\\\\217'), ('0018|1312', 'COL'), ('0018|1314', '60.0'), ('0018|5100', 'HFS'), ('0020|000d', '1.3.46.670589.11.0.0.11.4.2.0.5167.5.3104.2005061613471800349'), ('0020|000e', '1.3.46.670589.11.0.0.11.4.2.0.5167.5.4188.2005061614221471329'), ('0020|0010', '172158438'), ('0020|0011', '501'), ('0020|0012', '5'), ('0020|0013', '1'), ('0020|0032', '-178.96856740403\\\\\\\\-153.83364266024\\\\\\\\-102.59242018423'), ('0020|0037', '0.99995655401220\\\\\\\\-0.0093214099402\\\\\\\\3.74802685171E-5\\\\\\\\0.00932141983670\\\\\\\\0.99995651731245\\\\\\\\-2.7316036126E-4'), ('0020|0052', '1.3.46.670589.11.0.0.11.4.2.0.5167.5.4188.2005061614101048292'), ('0020|0100', '1'), ('0020|0105', '1'), ('0020|1040', ''), ('0020|1041', '0.0'), ('0028|0002', '1'), ('0028|0004', 'MONOCHROME2'), ('0028|0010', '256'), ('0028|0011', '256'), ('0028|0030', '1.484375\\\\\\\\1.484375'), ('0028|0034', '1\\\\\\\\1'), ('0028|0100', '16'), ('0028|0101', '12'), ('0028|0102', '11'), ('0028|0103', '0'), ('0028|1050', '1012.0'), ('0028|1051', '2656.0'), ('0028|1052', '0.0'), ('0028|1053', '2.46593406593406'), ('0028|1054', 'normalized'), ('0028|2110', '00'), ('0032|4000', 'KK-amb.'), ('0040|0241', 'MR_STORE_EXP'), ('0040|0244', '20050616'), ('0040|0245', '134723'), ('0040|0250', '20050616'), ('0040|0251', '134723'), ('0040|0253', '172158438'), ('0040|0254', 'Herz'), ('0040|0280', 'KK-amb.')])\n",
      "OrderedDict([('type', 'unsigned short'), ('dimension', 4), ('space dimension', 4), ('sizes', array([192, 168,  24,  18])), ('space directions', array([[1., 0., 0., 0.],\n",
      "       [0., 1., 0., 0.],\n",
      "       [0., 0., 1., 0.],\n",
      "       [0., 0., 0., 1.]])), ('kinds', ['domain', 'domain', 'domain', 'domain']), ('endian', 'little'), ('encoding', 'raw'), ('space origin', array([0., 0., 0., 0.]))])\n"
     ]
    }
   ],
   "source": [
    "import numpy as np\n",
    "import nrrd\n",
    "\n",
    "# Some sample numpy data\n",
    "filename = 'data/processed/nrrd/0706-ZY8H5791-2005-06-16/1.3.46.670589.11.0.0.11.4.2.0.5167.5.4188.2005061614221471329/1.3.46.670589.11.0.0.11.4.2.0.5167.5.2184.2005061614225865278.nrrd'\n",
    "filename_2 = '/Users/minority/Code/Git/cardio/data/processed/stacked_sorted_4d/stacked_0001-02Z1L14N-2006-11-09_4d.nrrd'\n",
    "# Read the data back from file\n",
    "readdata, header = nrrd.read(filename)\n",
    "readdata2, header2 = nrrd.read(filename_2)\n",
    "print(readdata.shape)\n",
    "print(readdata2.shape)\n",
    "print(header)\n",
    "print(header2)\n",
    "# Write to a NRRD file\n",
    "#nrrd.write(filename, data)"
   ]
  },
  {
   "cell_type": "code",
   "execution_count": 6,
   "metadata": {},
   "outputs": [],
   "source": [
    "\"\"\"\n",
    "for faster testing\n",
    "\"\"\"\n",
    "class Nrrdfile_test(Nrrdfile):\n",
    "    file_type = '.nrrd'\n",
    "\n",
    "    def __init__(self, dir_name='./', filename='test.nrrd', destination='./dest'):\n",
    "        \"\"\"\n",
    "        Opens a nrrd file from the given directory\n",
    "        :param dir_name:\n",
    "        :param filename:\n",
    "        :param destination:\n",
    "        \"\"\"\n",
    "        super(Nrrdfile_test, self).__init__(dir_name, filename, destination)\n",
    "        self.stats['filetype'] = self.__class__.file_type\n",
    "        self.img, self.header = self.__load_file__(os.path.join(dir_name, filename))\n",
    "        self.describe()\n",
    "\n",
    "    def action(self):\n",
    "        \"\"\"\n",
    "        Single entry point for the FileWalker\n",
    "        Call here all functions you would like to perform\n",
    "        :return:\n",
    "        \"\"\"\n",
    "        logging.info('Action performed at file: {}'.format(self.filename))\n",
    "\n",
    "        return self\n",
    "\n",
    "\n"
   ]
  },
  {
   "cell_type": "code",
   "execution_count": 7,
   "metadata": {},
   "outputs": [
    {
     "name": "stderr",
     "output_type": "stream",
     "text": [
      "2018-10-21 13:24:54,325 INFO Filewrapper: Nrrdfile_test init\n"
     ]
    },
    {
     "data": {
      "image/png": "[encoded data removed]",
      "text/plain": [
       "<Figure size 432x288 with 1 Axes>"
      ]
     },
     "metadata": {
      "needs_background": "light"
     },
     "output_type": "display_data"
    },
    {
     "name": "stdout",
     "output_type": "stream",
     "text": [
      "OrderedDict([('filetype', '.nrrd'),\n",
      "             ('type', 'double'),\n",
      "             ('dimension', 3),\n",
      "             ('space', 'left-posterior-superior'),\n",
      "             ('sizes', array([256, 256,   1])),\n",
      "             ('space directions',\n",
      "              array([[ 1.48431051e+00, -1.38364679e-02,  5.56347736e-05],\n",
      "       [ 1.38364826e-02,  1.48431046e+00, -4.05472411e-04],\n",
      "       [-3.07405118e-04,  2.40678125e-03,  8.79999986e+00]])),\n",
      "             ('kinds', ['domain', 'domain', 'domain']),\n",
      "             ('endian', 'little'),\n",
      "             ('encoding', 'raw'),\n",
      "             ('space origin',\n",
      "              array([-178.9685674 , -153.83364266, -102.59242018])),\n",
      "             ('0008|0005', 'ISO_IR 100'),\n",
      "             ('0008|0008', 'ORIGINAL\\\\\\\\PRIMARY\\\\\\\\M_FFE\\\\\\\\M\\\\\\\\FFE'),\n",
      "             ('0008|0012', '20080820'),\n",
      "             ('0008|0013', '121132'),\n",
      "             ('0008|0014', '1.3.46.670589.11.5167.5'),\n",
      "             ('0008|0016', '1.2.840.10008.5.1.4.1.1.4'),\n",
      "             ('0008|0018',\n",
      "              '1.3.46.670589.11.0.0.11.4.2.0.5167.5.2184.2005061614225865278'),\n",
      "             ('0008|0020', '20050616'),\n",
      "             ('0008|0021', '20050616'),\n",
      "             ('0008|0022', '20050616'),\n",
      "             ('0008|0023', '20050616'),\n",
      "             ('0008|0030', '134723'),\n",
      "             ('0008|0031', '142214.70'),\n",
      "             ('0008|0032', '142214.70'),\n",
      "             ('0008|0033', '142214.70'),\n",
      "             ('0008|0050', ''),\n",
      "             ('0008|0060', 'MR'),\n",
      "             ('0008|0070', 'Philips Medical Systems'),\n",
      "             ('0008|0080', 'HDZ Bad Oeynhausen'),\n",
      "             ('0008|0090', ''),\n",
      "             ('0008|1010', 'PMSN-WTDK21T8JV'),\n",
      "             ('0008|1030', 'Herz'),\n",
      "             ('0008|103e', 'KN_AHF     #ax-6mm'),\n",
      "             ('0008|1070', ''),\n",
      "             ('0008|1080', ''),\n",
      "             ('0008|1090', 'Intera'),\n",
      "             ('0010|0010', 'ZY8H5791'),\n",
      "             ('0010|0020', 'ZY8H5791'),\n",
      "             ('0010|0030', '19900801'),\n",
      "             ('0010|0040', 'F'),\n",
      "             ('0010|1030', '35.0'),\n",
      "             ('0010|2000', ''),\n",
      "             ('0010|2110', ''),\n",
      "             ('0010|21c0', '4'),\n",
      "             ('0018|0020', 'GR'),\n",
      "             ('0018|0021', 'SS'),\n",
      "             ('0018|0022', 'CG'),\n",
      "             ('0018|0023', ''),\n",
      "             ('0018|0024', ''),\n",
      "             ('0018|0050', '8.0'),\n",
      "             ('0018|0080', '2.49219989776611'),\n",
      "             ('0018|0081', '1.24609994888305'),\n",
      "             ('0018|0083', '1.0'),\n",
      "             ('0018|0084', '63.896063'),\n",
      "             ('0018|0085', '1H'),\n",
      "             ('0018|0086', '1'),\n",
      "             ('0018|0087', '1.5'),\n",
      "             ('0018|0088', '8.80000019073486'),\n",
      "             ('0018|0089', '217'),\n",
      "             ('0018|0091', '0'),\n",
      "             ('0018|0093', '150.0'),\n",
      "             ('0018|0094', '80.5555572509765'),\n",
      "             ('0018|1000', '05167'),\n",
      "             ('0018|1020',\n",
      "              'NT 10.3.1\\\\\\\\PIIM V2.1.4.1 MIMIT MCS\\\\\\\\Gyroscan PMS/DICOM 2.0 '\n",
      "              'MR $Id: datadefs,v 5.27 2004/10/18 06:50:'),\n",
      "             ('0018|1030', '#ax-6mm      SENSE'),\n",
      "             ('0018|1060', '34.0'),\n",
      "             ('0018|1081', '218'),\n",
      "             ('0018|1082', '1632'),\n",
      "             ('0018|1083', '141'),\n",
      "             ('0018|1084', '0'),\n",
      "             ('0018|1088', '76'),\n",
      "             ('0018|1100', '380.0'),\n",
      "             ('0018|1250', 'SENSE-cardiac'),\n",
      "             ('0018|1251', 'B'),\n",
      "             ('0018|1310', '144\\\\\\\\0\\\\\\\\0\\\\\\\\217'),\n",
      "             ('0018|1312', 'COL'),\n",
      "             ('0018|1314', '60.0'),\n",
      "             ('0018|5100', 'HFS'),\n",
      "             ('0020|000d',\n",
      "              '1.3.46.670589.11.0.0.11.4.2.0.5167.5.3104.2005061613471800349'),\n",
      "             ('0020|000e',\n",
      "              '1.3.46.670589.11.0.0.11.4.2.0.5167.5.4188.2005061614221471329'),\n",
      "             ('0020|0010', '172158438'),\n",
      "             ('0020|0011', '501'),\n",
      "             ('0020|0012', '5'),\n",
      "             ('0020|0013', '1'),\n",
      "             ('0020|0032',\n",
      "              '-178.96856740403\\\\\\\\-153.83364266024\\\\\\\\-102.59242018423'),\n",
      "             ('0020|0037',\n",
      "              '0.99995655401220\\\\\\\\-0.0093214099402\\\\\\\\3.74802685171E-5\\\\\\\\0.00932141983670\\\\\\\\0.99995651731245\\\\\\\\-2.7316036126E-4'),\n",
      "             ('0020|0052',\n",
      "              '1.3.46.670589.11.0.0.11.4.2.0.5167.5.4188.2005061614101048292'),\n",
      "             ('0020|0100', '1'),\n",
      "             ('0020|0105', '1'),\n",
      "             ('0020|1040', ''),\n",
      "             ('0020|1041', '0.0'),\n",
      "             ('0028|0002', '1'),\n",
      "             ('0028|0004', 'MONOCHROME2'),\n",
      "             ('0028|0010', '256'),\n",
      "             ('0028|0011', '256'),\n",
      "             ('0028|0030', '1.484375\\\\\\\\1.484375'),\n",
      "             ('0028|0034', '1\\\\\\\\1'),\n",
      "             ('0028|0100', '16'),\n",
      "             ('0028|0101', '12'),\n",
      "             ('0028|0102', '11'),\n",
      "             ('0028|0103', '0'),\n",
      "             ('0028|1050', '1012.0'),\n",
      "             ('0028|1051', '2656.0'),\n",
      "             ('0028|1052', '0.0'),\n",
      "             ('0028|1053', '2.46593406593406'),\n",
      "             ('0028|1054', 'normalized'),\n",
      "             ('0028|2110', '00'),\n",
      "             ('0032|4000', 'KK-amb.'),\n",
      "             ('0040|0241', 'MR_STORE_EXP'),\n",
      "             ('0040|0244', '20050616'),\n",
      "             ('0040|0245', '134723'),\n",
      "             ('0040|0250', '20050616'),\n",
      "             ('0040|0251', '134723'),\n",
      "             ('0040|0253', '172158438'),\n",
      "             ('0040|0254', 'Herz'),\n",
      "             ('0040|0280', 'KK-amb.'),\n",
      "             ('file',\n",
      "              '1.3.46.670589.11.0.0.11.4.2.0.5167.5.2184.2005061614225865278.nrrd'),\n",
      "             ('src_path',\n",
      "              'data/processed/nrrd/0706-ZY8H5791-2005-06-16/1.3.46.670589.11.0.0.11.4.2.0.5167.5.4188.2005061614221471329/'),\n",
      "             ('size', array([256, 256,   1])),\n",
      "             ('origin',\n",
      "              array([[ 1.48431051e+00, -1.38364679e-02,  5.56347736e-05],\n",
      "       [ 1.38364826e-02,  1.48431046e+00, -4.05472411e-04],\n",
      "       [-3.07405118e-04,  2.40678125e-03,  8.79999986e+00]])),\n",
      "             ('spacing', array([-178.9685674 , -153.83364266, -102.59242018]))])\n"
     ]
    }
   ],
   "source": [
    "import pprint\n",
    "path = 'data/processed/nrrd/0706-ZY8H5791-2005-06-16/1.3.46.670589.11.0.0.11.4.2.0.5167.5.4188.2005061614221471329/'\n",
    "dest = 'data/processed/nrrd_tests/'\n",
    "f_name = '1.3.46.670589.11.0.0.11.4.2.0.5167.5.2184.2005061614225865278.nrrd'\n",
    "\n",
    "nrrd_f = Nrrdfile_test(dir_name=path, filename=f_name, destination=dest )\n",
    "nrrd_f.__print3d__(show=True, persist=False)\n",
    "\n",
    "pp = pprint.PrettyPrinter(indent=1)\n",
    "pp.pprint(nrrd_f.describe())\n",
    "#print(nrrd_f.header)\n",
    "#nrrd_f.describe()\n",
    "#nrrd_f.__print3d__()\n",
    "\n",
    "\n",
    "\n"
   ]
  },
  {
   "cell_type": "code",
   "execution_count": 5,
   "metadata": {},
   "outputs": [
    {
     "name": "stderr",
     "output_type": "stream",
     "text": [
      "/Users/minority/Code/Git/cardio/venv/lib/python3.6/site-packages/matplotlib/figure.py:2362: UserWarning: This figure includes Axes that are not compatible with tight_layout, so results might be incorrect.\n",
      "  warnings.warn(\"This figure includes Axes that are not compatible \"\n"
     ]
    }
   ],
   "source": [
    "dcom_f = Dicomfile(path, f_name, dest)\n",
    "dcom_f.__print3d__(show=True)"
   ]
  },
  {
   "cell_type": "code",
   "execution_count": 7,
   "metadata": {},
   "outputs": [
    {
     "name": "stderr",
     "output_type": "stream",
     "text": [
      "2018-10-21 13:08:13,616 INFO Current src directory: data/processed/nrrd/0706-ZY8H5791-2005-06-16/\n",
      "2018-10-21 13:08:13,620 INFO Current dest directory: data/processed/nrrd_tests/0706-ZY8H5791-2005-06-16/\n",
      "2018-10-21 13:08:13,625 INFO Current src directory: data/processed/nrrd/0706-ZY8H5791-2005-06-16/1.3.46.670589.11.0.0.11.4.2.0.5167.5.4188.2005061614555551383\n",
      "2018-10-21 13:08:13,627 INFO Current dest directory: data/processed/nrrd_tests/0706-ZY8H5791-2005-06-16/1.3.46.670589.11.0.0.11.4.2.0.5167.5.4188.2005061614555551383\n",
      "2018-10-21 13:08:14,342 INFO Action performed in sub-directory data/processed/nrrd/0706-ZY8H5791-2005-06-16/1.3.46.670589.11.0.0.11.4.2.0.5167.5.4188.2005061614555551383 done in 0.716s\n",
      "2018-10-21 13:08:14,343 INFO Action performed on 105 files\n",
      "2018-10-21 13:08:14,346 INFO Current src directory: data/processed/nrrd/0706-ZY8H5791-2005-06-16/1.3.46.670589.11.0.0.11.4.2.0.5167.5.4188.2005061614513735374\n",
      "2018-10-21 13:08:14,348 INFO Current dest directory: data/processed/nrrd_tests/0706-ZY8H5791-2005-06-16/1.3.46.670589.11.0.0.11.4.2.0.5167.5.4188.2005061614513735374\n",
      "2018-10-21 13:08:15,056 INFO Action performed in sub-directory data/processed/nrrd/0706-ZY8H5791-2005-06-16/1.3.46.670589.11.0.0.11.4.2.0.5167.5.4188.2005061614513735374 done in 0.710s\n",
      "2018-10-21 13:08:15,058 INFO Action performed on 210 files\n",
      "2018-10-21 13:08:15,059 INFO Current src directory: data/processed/nrrd/0706-ZY8H5791-2005-06-16/1.3.46.670589.11.0.0.11.4.2.0.5167.5.4188.2005061615051803408\n",
      "2018-10-21 13:08:15,061 INFO Current dest directory: data/processed/nrrd_tests/0706-ZY8H5791-2005-06-16/1.3.46.670589.11.0.0.11.4.2.0.5167.5.4188.2005061615051803408\n",
      "2018-10-21 13:08:15,781 INFO Action performed in sub-directory data/processed/nrrd/0706-ZY8H5791-2005-06-16/1.3.46.670589.11.0.0.11.4.2.0.5167.5.4188.2005061615051803408 done in 0.722s\n",
      "2018-10-21 13:08:15,784 INFO Action performed on 306 files\n",
      "2018-10-21 13:08:15,790 INFO Current src directory: data/processed/nrrd/0706-ZY8H5791-2005-06-16/1.3.46.670589.11.0.0.11.4.2.0.5167.5.4188.2005061615180007449\n",
      "2018-10-21 13:08:15,793 INFO Current dest directory: data/processed/nrrd_tests/0706-ZY8H5791-2005-06-16/1.3.46.670589.11.0.0.11.4.2.0.5167.5.4188.2005061615180007449\n",
      "2018-10-21 13:08:17,685 INFO Action performed in sub-directory data/processed/nrrd/0706-ZY8H5791-2005-06-16/1.3.46.670589.11.0.0.11.4.2.0.5167.5.4188.2005061615180007449 done in 1.895s\n",
      "2018-10-21 13:08:17,686 INFO Action performed on 416 files\n",
      "2018-10-21 13:08:17,688 INFO Current src directory: data/processed/nrrd/0706-ZY8H5791-2005-06-16/1.3.46.670589.11.0.0.11.4.2.0.5167.5.4188.2005061614322310338\n",
      "2018-10-21 13:08:17,689 INFO Current dest directory: data/processed/nrrd_tests/0706-ZY8H5791-2005-06-16/1.3.46.670589.11.0.0.11.4.2.0.5167.5.4188.2005061614322310338\n",
      "2018-10-21 13:08:18,062 INFO Action performed in sub-directory data/processed/nrrd/0706-ZY8H5791-2005-06-16/1.3.46.670589.11.0.0.11.4.2.0.5167.5.4188.2005061614322310338 done in 0.373s\n",
      "2018-10-21 13:08:18,064 INFO Action performed on 480 files\n",
      "2018-10-21 13:08:18,067 INFO Current src directory: data/processed/nrrd/0706-ZY8H5791-2005-06-16/1.3.46.670589.11.0.0.11.4.2.0.5167.5.4188.2005061615121925417\n",
      "2018-10-21 13:08:18,069 INFO Current dest directory: data/processed/nrrd_tests/0706-ZY8H5791-2005-06-16/1.3.46.670589.11.0.0.11.4.2.0.5167.5.4188.2005061615121925417\n",
      "2018-10-21 13:08:18,719 INFO Action performed in sub-directory data/processed/nrrd/0706-ZY8H5791-2005-06-16/1.3.46.670589.11.0.0.11.4.2.0.5167.5.4188.2005061615121925417 done in 0.652s\n",
      "2018-10-21 13:08:18,721 INFO Action performed on 585 files\n",
      "2018-10-21 13:08:18,723 INFO Current src directory: data/processed/nrrd/0706-ZY8H5791-2005-06-16/1.3.46.670589.11.0.0.11.4.2.0.5167.5.4188.2005061615014245399\n",
      "2018-10-21 13:08:18,724 INFO Current dest directory: data/processed/nrrd_tests/0706-ZY8H5791-2005-06-16/1.3.46.670589.11.0.0.11.4.2.0.5167.5.4188.2005061615014245399\n",
      "2018-10-21 13:08:18,903 INFO Action performed in sub-directory data/processed/nrrd/0706-ZY8H5791-2005-06-16/1.3.46.670589.11.0.0.11.4.2.0.5167.5.4188.2005061615014245399 done in 0.181s\n",
      "2018-10-21 13:08:18,905 INFO Action performed on 611 files\n",
      "2018-10-21 13:08:18,907 INFO Current src directory: data/processed/nrrd/0706-ZY8H5791-2005-06-16/1.3.46.670589.11.0.0.11.4.2.0.5167.5.4188.2005061614221471329\n",
      "2018-10-21 13:08:18,909 INFO Current dest directory: data/processed/nrrd_tests/0706-ZY8H5791-2005-06-16/1.3.46.670589.11.0.0.11.4.2.0.5167.5.4188.2005061614221471329\n",
      "2018-10-21 13:08:21,154 INFO Action performed in sub-directory data/processed/nrrd/0706-ZY8H5791-2005-06-16/1.3.46.670589.11.0.0.11.4.2.0.5167.5.4188.2005061614221471329 done in 2.247s\n",
      "2018-10-21 13:08:21,156 INFO Action performed on 931 files\n",
      "2018-10-21 13:08:21,158 INFO Current src directory: data/processed/nrrd/0706-ZY8H5791-2005-06-16/1.3.46.670589.11.0.0.11.4.2.0.5167.5.4188.2005061614440812356\n",
      "2018-10-21 13:08:21,159 INFO Current dest directory: data/processed/nrrd_tests/0706-ZY8H5791-2005-06-16/1.3.46.670589.11.0.0.11.4.2.0.5167.5.4188.2005061614440812356\n",
      "2018-10-21 13:08:21,879 INFO Action performed in sub-directory data/processed/nrrd/0706-ZY8H5791-2005-06-16/1.3.46.670589.11.0.0.11.4.2.0.5167.5.4188.2005061614440812356 done in 0.721s\n",
      "2018-10-21 13:08:21,881 INFO Action performed on 1021 files\n",
      "2018-10-21 13:08:21,883 INFO Current src directory: data/processed/nrrd/0706-ZY8H5791-2005-06-16/1.3.46.670589.11.0.0.11.4.2.0.5167.5.4188.2005061614480173365\n",
      "2018-10-21 13:08:21,887 INFO Current dest directory: data/processed/nrrd_tests/0706-ZY8H5791-2005-06-16/1.3.46.670589.11.0.0.11.4.2.0.5167.5.4188.2005061614480173365\n",
      "2018-10-21 13:08:22,639 INFO Action performed in sub-directory data/processed/nrrd/0706-ZY8H5791-2005-06-16/1.3.46.670589.11.0.0.11.4.2.0.5167.5.4188.2005061614480173365 done in 0.756s\n",
      "2018-10-21 13:08:22,641 INFO Action performed on 1126 files\n",
      "2018-10-21 13:08:22,642 INFO Current src directory: data/processed/nrrd/0706-ZY8H5791-2005-06-16/1.3.46.670589.11.0.0.11.4.2.0.5167.5.4188.2005061614385196347\n",
      "2018-10-21 13:08:22,647 INFO Current dest directory: data/processed/nrrd_tests/0706-ZY8H5791-2005-06-16/1.3.46.670589.11.0.0.11.4.2.0.5167.5.4188.2005061614385196347\n",
      "2018-10-21 13:08:24,076 INFO Action performed in sub-directory data/processed/nrrd/0706-ZY8H5791-2005-06-16/1.3.46.670589.11.0.0.11.4.2.0.5167.5.4188.2005061614385196347 done in 1.433s\n",
      "2018-10-21 13:08:24,088 INFO Action performed on 1336 files\n",
      "2018-10-21 13:08:24,090 INFO Action performed in sub-directory data/processed/nrrd/0706-ZY8H5791-2005-06-16/ done in 10.475s\n",
      "2018-10-21 13:08:24,092 INFO Action performed on 1336 files\n"
     ]
    }
   ],
   "source": [
    "src = 'data/processed/nrrd/0706-ZY8H5791-2005-06-16/'\n",
    "dir = 'data/processed/nrrd_tests/0706-ZY8H5791-2005-06-16/'\n",
    "\n",
    "f_walker = FileWalker(src_dir= src, dest_dir=dir, file_wrapper=Nrrdfile)\n"
   ]
  },
  {
   "cell_type": "code",
   "execution_count": 10,
   "metadata": {},
   "outputs": [
    {
     "data": {
      "text/html": [
       "<script type=\"text/javascript\" src=\"https://ssl.gstatic.com/trends_nrtr/1605_RC01/embed_loader.js\"></script> <script type=\"text/javascript\"> trends.embed.renderExploreWidget(\"TIMESERIES\", {\"comparisonItem\":[{\"keyword\":\"unet\",\"geo\":\"DE\",\"time\":\"today 12-m\"}],\"category\":0,\"property\":\"\"}, {\"exploreQuery\":\"q=unet&geo=DE&date=today 12-m\",\"guestPath\":\"https://trends.google.de:443/trends/embed/\"}); </script> "
      ],
      "text/plain": [
       "<IPython.core.display.HTML object>"
      ]
     },
     "metadata": {},
     "output_type": "display_data"
    }
   ],
   "source": [
    "from IPython.core.display import display, HTML\n",
    "display(HTML('<script type=\"text/javascript\" src=\"https://ssl.gstatic.com/trends_nrtr/1605_RC01/embed_loader.js\"></script> <script type=\"text/javascript\"> trends.embed.renderExploreWidget(\"TIMESERIES\", {\"comparisonItem\":[{\"keyword\":\"unet\",\"geo\":\"DE\",\"time\":\"today 12-m\"}],\"category\":0,\"property\":\"\"}, {\"exploreQuery\":\"q=unet&geo=DE&date=today 12-m\",\"guestPath\":\"https://trends.google.de:443/trends/embed/\"}); </script> '))"
   ]
  },
  {
   "cell_type": "code",
   "execution_count": null,
   "metadata": {
    "collapsed": true
   },
   "outputs": [],
   "source": []
  }
 ],
 "metadata": {
  "kernelspec": {
   "display_name": "cardio",
   "language": "python",
   "name": "cardio"
  },
  "language_info": {
   "codemirror_mode": {
    "name": "ipython",
    "version": 3
   },
   "file_extension": ".py",
   "mimetype": "text/x-python",
   "name": "python",
   "nbconvert_exporter": "python",
   "pygments_lexer": "ipython3",
   "version": "3.6.6"
  },
  "varInspector": {
   "cols": {
    "lenName": 16,
    "lenType": 16,
    "lenVar": 40
   },
   "kernels_config": {
    "python": {
     "delete_cmd_postfix": "",
     "delete_cmd_prefix": "del ",
     "library": "var_list.py",
     "varRefreshCmd": "print(var_dic_list())"
    },
    "r": {
     "delete_cmd_postfix": ") ",
     "delete_cmd_prefix": "rm(",
     "library": "var_list.r",
     "varRefreshCmd": "cat(var_dic_list()) "
    }
   },
   "types_to_exclude": [
    "module",
    "function",
    "builtin_function_or_method",
    "instance",
    "_Feature"
   ],
   "window_display": false
  }
 },
 "nbformat": 4,
 "nbformat_minor": 2
}
