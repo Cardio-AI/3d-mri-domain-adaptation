{
 "cells": [
  {
   "cell_type": "code",
   "execution_count": 1,
   "metadata": {},
   "outputs": [
    {
     "name": "stdout",
     "output_type": "stream",
     "text": [
      "/Users/minority/Code/Git/cardio/notebooks/sitk_tests\n",
      "/Users/minority/Code/Git/cardio\n"
     ]
    },
    {
     "name": "stderr",
     "output_type": "stream",
     "text": [
      "2018-12-01 10:53:14,743 INFO -------------------- Start --------------------\n",
      "2018-12-01 10:53:14,744 INFO Filename: extract_segmentations\n",
      "2018-12-01 10:53:14,745 INFO Log directory: ./logs/\n"
     ]
    },
    {
     "name": "stdout",
     "output_type": "stream",
     "text": [
      "Working directory: /Users/minority/Code/Git/cardio.\n",
      "Log dir: ./logs/\n"
     ]
    }
   ],
   "source": [
    "import os\n",
    "print(os.getcwd())\n",
    "# change working directory to project root\n",
    "import platform\n",
    "if platform.system() is \"Windows\":\n",
    "    os.chdir('D:\\\\git\\\\cardio')\n",
    "else:\n",
    "    os.chdir('/Users/minority/Code/Git/cardio')\n",
    "print(os.getcwd())\n",
    "from src.utils.utils_io import Console_and_file_logger\n",
    "from src.utils.file_wrapper.app.Files import Basefile, Dicomfile\n",
    "from src.utils.file_wrapper.app.IO import FileWalker\n",
    "import logging\n",
    "Console_and_file_logger('extract_segmentations', logging.INFO)\n",
    "\n",
    "import re\n",
    "import nrrd\n",
    "import numpy as np\n",
    "from scipy import stats\n",
    "from collections import OrderedDict\n",
    "import json\n",
    "import SimpleITK as sitk\n",
    "from bs4 import BeautifulSoup\n",
    "from bs4 import SoupStrainer\n",
    "\n",
    "# specific imports\n",
    "import xml.etree.ElementTree as ET\n",
    "\n"
   ]
  },
  {
   "cell_type": "code",
   "execution_count": 5,
   "metadata": {
    "collapsed": true
   },
   "outputs": [],
   "source": [
    "class DicomToNrrd(Dicomfile):\n",
    "\n",
    "    def action(self):\n",
    "\n",
    "        self.change_suffix()\n",
    "        self.save(self.destination)\n",
    "        return self.to_dcom_json()\n",
    "    \n",
    "    def change_suffix(self):\n",
    "        f_name = self.name_short\n",
    "        self.name_short = f_name.replace(\".dcm\", \".nrrd\")\n",
    "        \n"
   ]
  },
  {
   "cell_type": "code",
   "execution_count": 4,
   "metadata": {
    "scrolled": true
   },
   "outputs": [
    {
     "name": "stdout",
     "output_type": "stream",
     "text": [
      "/Users/minority/Code/Git/cardio\n"
     ]
    },
    {
     "name": "stderr",
     "output_type": "stream",
     "text": [
      "2018-12-01 10:53:33,145 INFO Action performed in sub-directory ./data/raw/0006-0AE4R74L-1900-01-01/1.3.12.2.1107.5.99.2.1013.30000008030612131778100068128 done in 0.278s\n",
      "2018-12-01 10:53:33,147 INFO Action performed on 35 files\n",
      "2018-12-01 10:53:33,147 INFO Total Files: 35\n",
      "2018-12-01 10:53:33,237 INFO Action performed in sub-directory ./data/raw/0006-0AE4R74L-1900-01-01/1.3.12.2.1107.5.99.2.1013.30000008030612131778100068272 done in 0.088s\n",
      "2018-12-01 10:53:33,237 INFO Action performed on 13 files\n",
      "2018-12-01 10:53:33,238 INFO Total Files: 48\n",
      "2018-12-01 10:53:33,327 INFO Action performed in sub-directory ./data/raw/0006-0AE4R74L-1900-01-01/1.3.12.2.1107.5.99.2.1013.30000008030612131778100068311 done in 0.087s\n",
      "2018-12-01 10:53:33,328 INFO Action performed on 13 files\n",
      "2018-12-01 10:53:33,328 INFO Total Files: 61\n",
      "2018-12-01 10:53:33,418 INFO Action performed in sub-directory ./data/raw/0006-0AE4R74L-1900-01-01/1.3.12.2.1107.5.99.2.1013.30000008030612131778100068350 done in 0.089s\n",
      "2018-12-01 10:53:33,419 INFO Action performed on 13 files\n",
      "2018-12-01 10:53:33,420 INFO Total Files: 74\n",
      "2018-12-01 10:53:33,511 INFO Action performed in sub-directory ./data/raw/0006-0AE4R74L-1900-01-01/1.3.12.2.1107.5.99.2.1013.30000008030612131778100068389 done in 0.090s\n",
      "2018-12-01 10:53:33,511 INFO Action performed on 13 files\n",
      "2018-12-01 10:53:33,512 INFO Total Files: 87\n",
      "2018-12-01 10:53:33,602 INFO Action performed in sub-directory ./data/raw/0006-0AE4R74L-1900-01-01/1.3.12.2.1107.5.99.2.1013.30000008030612131778100068428 done in 0.089s\n",
      "2018-12-01 10:53:33,603 INFO Action performed on 13 files\n",
      "2018-12-01 10:53:33,604 INFO Total Files: 100\n",
      "2018-12-01 10:53:33,694 INFO Action performed in sub-directory ./data/raw/0006-0AE4R74L-1900-01-01/1.3.12.2.1107.5.99.2.1013.30000008030612131778100068467 done in 0.089s\n",
      "2018-12-01 10:53:33,695 INFO Action performed on 13 files\n",
      "2018-12-01 10:53:33,696 INFO Total Files: 113\n",
      "2018-12-01 10:53:33,786 INFO Action performed in sub-directory ./data/raw/0006-0AE4R74L-1900-01-01/1.3.12.2.1107.5.99.2.1013.30000008030612131778100068506 done in 0.089s\n",
      "2018-12-01 10:53:33,787 INFO Action performed on 13 files\n",
      "2018-12-01 10:53:33,787 INFO Total Files: 126\n",
      "2018-12-01 10:53:33,875 INFO Action performed in sub-directory ./data/raw/0006-0AE4R74L-1900-01-01/1.3.12.2.1107.5.99.2.1013.30000008030612131778100068545 done in 0.086s\n",
      "2018-12-01 10:53:33,876 INFO Action performed on 13 files\n",
      "2018-12-01 10:53:33,877 INFO Total Files: 139\n",
      "2018-12-01 10:53:33,963 INFO Action performed in sub-directory ./data/raw/0006-0AE4R74L-1900-01-01/1.3.12.2.1107.5.99.2.1013.30000008030612131778100068584 done in 0.085s\n",
      "2018-12-01 10:53:33,963 INFO Action performed on 13 files\n",
      "2018-12-01 10:53:33,964 INFO Total Files: 152\n",
      "2018-12-01 10:53:34,052 INFO Action performed in sub-directory ./data/raw/0006-0AE4R74L-1900-01-01/1.3.12.2.1107.5.99.2.1013.30000008030612131778100068623 done in 0.087s\n",
      "2018-12-01 10:53:34,053 INFO Action performed on 13 files\n",
      "2018-12-01 10:53:34,054 INFO Total Files: 165\n",
      "2018-12-01 10:53:34,142 INFO Action performed in sub-directory ./data/raw/0006-0AE4R74L-1900-01-01/1.3.12.2.1107.5.99.2.1013.30000008030612131778100068662 done in 0.086s\n",
      "2018-12-01 10:53:34,142 INFO Action performed on 13 files\n",
      "2018-12-01 10:53:34,143 INFO Total Files: 178\n",
      "2018-12-01 10:53:34,230 INFO Action performed in sub-directory ./data/raw/0006-0AE4R74L-1900-01-01/1.3.12.2.1107.5.99.2.1013.30000008030612131778100068701 done in 0.086s\n",
      "2018-12-01 10:53:34,231 INFO Action performed on 13 files\n",
      "2018-12-01 10:53:34,231 INFO Total Files: 191\n",
      "2018-12-01 10:53:34,366 INFO Action performed in sub-directory ./data/raw/0006-0AE4R74L-1900-01-01/1.3.12.2.1107.5.99.2.1013.30000008030612131778100068761 done in 0.133s\n",
      "2018-12-01 10:53:34,367 INFO Action performed on 20 files\n",
      "2018-12-01 10:53:34,368 INFO Total Files: 211\n",
      "2018-12-01 10:53:34,505 INFO Action performed in sub-directory ./data/raw/0006-0AE4R74L-1900-01-01/1.3.12.2.1107.5.99.2.1013.30000008030612131778100068821 done in 0.137s\n",
      "2018-12-01 10:53:34,506 INFO Action performed on 20 files\n",
      "2018-12-01 10:53:34,507 INFO Total Files: 231\n",
      "2018-12-01 10:53:34,647 INFO Action performed in sub-directory ./data/raw/0006-0AE4R74L-1900-01-01/1.3.12.2.1107.5.99.2.1013.30000008030612131778100068881 done in 0.137s\n",
      "2018-12-01 10:53:34,648 INFO Action performed on 20 files\n",
      "2018-12-01 10:53:34,649 INFO Total Files: 251\n",
      "2018-12-01 10:53:34,789 INFO Action performed in sub-directory ./data/raw/0006-0AE4R74L-1900-01-01/1.3.12.2.1107.5.99.2.1013.30000008030612131778100068941 done in 0.139s\n",
      "2018-12-01 10:53:34,790 INFO Action performed on 20 files\n",
      "2018-12-01 10:53:34,791 INFO Total Files: 271\n",
      "2018-12-01 10:53:34,926 INFO Action performed in sub-directory ./data/raw/0006-0AE4R74L-1900-01-01/1.3.12.2.1107.5.99.2.1013.30000008030612131778100069001 done in 0.134s\n",
      "2018-12-01 10:53:34,927 INFO Action performed on 19 files\n",
      "2018-12-01 10:53:34,928 INFO Total Files: 290\n",
      "2018-12-01 10:53:35,064 INFO Action performed in sub-directory ./data/raw/0006-0AE4R74L-1900-01-01/1.3.12.2.1107.5.99.2.1013.30000008030612131778100069061 done in 0.136s\n",
      "2018-12-01 10:53:35,065 INFO Action performed on 20 files\n",
      "2018-12-01 10:53:35,066 INFO Total Files: 310\n",
      "2018-12-01 10:53:35,201 INFO Action performed in sub-directory ./data/raw/0006-0AE4R74L-1900-01-01/1.3.12.2.1107.5.99.2.1013.30000008030612131778100069121 done in 0.134s\n",
      "2018-12-01 10:53:35,201 INFO Action performed on 20 files\n",
      "2018-12-01 10:53:35,202 INFO Total Files: 330\n",
      "2018-12-01 10:53:35,342 INFO Action performed in sub-directory ./data/raw/0006-0AE4R74L-1900-01-01/1.3.12.2.1107.5.99.2.1013.30000008030612131778100069181 done in 0.138s\n",
      "2018-12-01 10:53:35,343 INFO Action performed on 20 files\n",
      "2018-12-01 10:53:35,344 INFO Total Files: 350\n",
      "2018-12-01 10:53:35,450 INFO Action performed in sub-directory ./data/raw/0006-0AE4R74L-1900-01-01/1.3.12.2.1107.5.99.2.1013.30000008030612131778100069226 done in 0.105s\n",
      "2018-12-01 10:53:35,451 INFO Action performed on 15 files\n",
      "2018-12-01 10:53:35,452 INFO Total Files: 365\n",
      "2018-12-01 10:53:35,583 INFO Action performed in sub-directory ./data/raw/0006-0AE4R74L-1900-01-01/1.3.12.2.1107.5.99.2.1013.30000008030612131778100069283 done in 0.130s\n",
      "2018-12-01 10:53:35,584 INFO Action performed on 19 files\n",
      "2018-12-01 10:53:35,585 INFO Total Files: 384\n",
      "2018-12-01 10:53:35,720 INFO Action performed in sub-directory ./data/raw/0006-0AE4R74L-1900-01-01/1.3.12.2.1107.5.99.2.1013.30000008030612131778100069343 done in 0.134s\n",
      "2018-12-01 10:53:35,721 INFO Action performed on 20 files\n",
      "2018-12-01 10:53:35,722 INFO Total Files: 404\n",
      "2018-12-01 10:53:35,872 INFO Action performed in sub-directory ./data/raw/0006-0AE4R74L-1900-01-01/1.3.12.2.1107.5.99.2.1013.30000008030612131778100069403 done in 0.148s\n",
      "2018-12-01 10:53:35,873 INFO Action performed on 20 files\n",
      "2018-12-01 10:53:35,874 INFO Total Files: 424\n",
      "2018-12-01 10:53:36,020 INFO Action performed in sub-directory ./data/raw/0006-0AE4R74L-1900-01-01/1.3.12.2.1107.5.99.2.1013.30000008030612131778100069463 done in 0.145s\n",
      "2018-12-01 10:53:36,021 INFO Action performed on 20 files\n",
      "2018-12-01 10:53:36,022 INFO Total Files: 444\n",
      "2018-12-01 10:53:36,168 INFO Action performed in sub-directory ./data/raw/0006-0AE4R74L-1900-01-01/1.3.12.2.1107.5.99.2.1013.30000008030612131778100069523 done in 0.145s\n",
      "2018-12-01 10:53:36,169 INFO Action performed on 20 files\n",
      "2018-12-01 10:53:36,170 INFO Total Files: 464\n",
      "2018-12-01 10:53:36,314 INFO Action performed in sub-directory ./data/raw/0006-0AE4R74L-1900-01-01/1.3.12.2.1107.5.99.2.1013.30000008030612131778100069583 done in 0.143s\n",
      "2018-12-01 10:53:36,315 INFO Action performed on 20 files\n",
      "2018-12-01 10:53:36,316 INFO Total Files: 484\n",
      "2018-12-01 10:53:36,462 INFO Action performed in sub-directory ./data/raw/0006-0AE4R74L-1900-01-01/1.3.12.2.1107.5.99.2.1013.30000008030612131778100069643 done in 0.145s\n",
      "2018-12-01 10:53:36,463 INFO Action performed on 20 files\n",
      "2018-12-01 10:53:36,464 INFO Total Files: 504\n",
      "2018-12-01 10:53:36,607 INFO Action performed in sub-directory ./data/raw/0006-0AE4R74L-1900-01-01/1.3.12.2.1107.5.99.2.1013.30000008030612131778100069703 done in 0.141s\n",
      "2018-12-01 10:53:36,608 INFO Action performed on 20 files\n",
      "2018-12-01 10:53:36,609 INFO Total Files: 524\n",
      "2018-12-01 10:53:36,749 INFO Action performed in sub-directory ./data/raw/0006-0AE4R74L-1900-01-01/1.3.12.2.1107.5.99.2.1013.30000008030612131778100069763 done in 0.138s\n",
      "2018-12-01 10:53:36,750 INFO Action performed on 20 files\n",
      "2018-12-01 10:53:36,751 INFO Total Files: 544\n",
      "2018-12-01 10:53:36,891 INFO Action performed in sub-directory ./data/raw/0006-0AE4R74L-1900-01-01/1.3.12.2.1107.5.99.2.1013.30000008030612131778100069823 done in 0.138s\n",
      "2018-12-01 10:53:36,892 INFO Action performed on 20 files\n",
      "2018-12-01 10:53:36,893 INFO Total Files: 564\n",
      "2018-12-01 10:53:37,037 INFO Action performed in sub-directory ./data/raw/0006-0AE4R74L-1900-01-01/1.3.12.2.1107.5.99.2.1013.30000008030612131778100069883 done in 0.142s\n",
      "2018-12-01 10:53:37,037 INFO Action performed on 20 files\n",
      "2018-12-01 10:53:37,039 INFO Total Files: 584\n",
      "2018-12-01 10:53:37,181 INFO Action performed in sub-directory ./data/raw/0006-0AE4R74L-1900-01-01/1.3.12.2.1107.5.99.2.1013.30000008030612131778100069943 done in 0.140s\n",
      "2018-12-01 10:53:37,182 INFO Action performed on 20 files\n",
      "2018-12-01 10:53:37,182 INFO Total Files: 604\n",
      "2018-12-01 10:53:37,326 INFO Action performed in sub-directory ./data/raw/0006-0AE4R74L-1900-01-01/1.3.12.2.1107.5.99.2.1013.30000008030612131778100070003 done in 0.142s\n",
      "2018-12-01 10:53:37,327 INFO Action performed on 20 files\n",
      "2018-12-01 10:53:37,328 INFO Total Files: 624\n",
      "2018-12-01 10:53:37,462 INFO Action performed in sub-directory ./data/raw/0006-0AE4R74L-1900-01-01/1.3.12.2.1107.5.99.2.1013.30000008030612131778100070174 done in 0.132s\n",
      "2018-12-01 10:53:37,463 INFO Action performed on 19 files\n",
      "2018-12-01 10:53:37,464 INFO Total Files: 643\n",
      "2018-12-01 10:53:37,595 INFO Action performed in sub-directory ./data/raw/0006-0AE4R74L-1900-01-01/1.3.12.2.1107.5.99.2.1013.30000008030612131778100070231 done in 0.130s\n",
      "2018-12-01 10:53:37,596 INFO Action performed on 19 files\n",
      "2018-12-01 10:53:37,597 INFO Total Files: 662\n",
      "2018-12-01 10:53:37,727 INFO Action performed in sub-directory ./data/raw/0006-0AE4R74L-1900-01-01/1.3.12.2.1107.5.99.2.1013.30000008030612131778100070288 done in 0.129s\n",
      "2018-12-01 10:53:37,728 INFO Action performed on 19 files\n",
      "2018-12-01 10:53:37,728 INFO Total Files: 681\n",
      "2018-12-01 10:53:37,973 INFO Action performed in sub-directory ./data/raw/0006-0AE4R74L-1900-01-01/1.3.12.2.1107.5.99.2.1013.30000008030612131778100070378 done in 0.243s\n",
      "2018-12-01 10:53:37,974 INFO Action performed on 30 files\n",
      "2018-12-01 10:53:37,975 INFO Total Files: 711\n",
      "2018-12-01 10:53:38,225 INFO Action performed in sub-directory ./data/raw/0006-0AE4R74L-1900-01-01/1.3.12.2.1107.5.99.2.1013.30000008030612131778100070468 done in 0.248s\n",
      "2018-12-01 10:53:38,226 INFO Action performed on 30 files\n",
      "2018-12-01 10:53:38,226 INFO Total Files: 741\n",
      "2018-12-01 10:53:38,460 INFO Action performed in sub-directory ./data/raw/0006-0AE4R74L-1900-01-01/1.3.12.2.1107.5.99.2.1013.30000008030612131778100070558 done in 0.232s\n",
      "2018-12-01 10:53:38,461 INFO Action performed on 30 files\n",
      "2018-12-01 10:53:38,462 INFO Total Files: 771\n",
      "2018-12-01 10:53:38,708 INFO Action performed in sub-directory ./data/raw/0006-0AE4R74L-1900-01-01/1.3.12.2.1107.5.99.2.1013.30000008030612131778100070648 done in 0.244s\n",
      "2018-12-01 10:53:38,709 INFO Action performed on 30 files\n",
      "2018-12-01 10:53:38,710 INFO Total Files: 801\n",
      "2018-12-01 10:53:40,176 INFO Action performed in sub-directory ./data/raw/0006-0AE4R74L-1900-01-01/1.3.12.2.1107.5.99.2.1013.30000008030612131778100070912 done in 1.464s\n",
      "2018-12-01 10:53:40,177 INFO Action performed on 88 files\n",
      "2018-12-01 10:53:40,178 INFO Total Files: 889\n",
      "2018-12-01 10:53:41,510 INFO Action performed in sub-directory ./data/raw/0006-0AE4R74L-1900-01-01/1.3.12.2.1107.5.99.2.1013.30000008030612131778100071176 done in 1.331s\n",
      "2018-12-01 10:53:41,511 INFO Action performed on 88 files\n",
      "2018-12-01 10:53:41,512 INFO Total Files: 977\n",
      "2018-12-01 10:53:42,900 INFO Action performed in sub-directory ./data/raw/0006-0AE4R74L-1900-01-01/1.3.12.2.1107.5.99.2.1013.30000008030612131778100071440 done in 1.387s\n",
      "2018-12-01 10:53:42,901 INFO Action performed on 88 files\n",
      "2018-12-01 10:53:42,902 INFO Total Files: 1065\n",
      "2018-12-01 10:53:44,238 INFO Action performed in sub-directory ./data/raw/0006-0AE4R74L-1900-01-01/1.3.12.2.1107.5.99.2.1013.30000008030612131778100071704 done in 1.334s\n",
      "2018-12-01 10:53:44,239 INFO Action performed on 88 files\n",
      "2018-12-01 10:53:44,240 INFO Total Files: 1153\n",
      "2018-12-01 10:53:45,598 INFO Action performed in sub-directory ./data/raw/0006-0AE4R74L-1900-01-01/1.3.12.2.1107.5.99.2.1013.30000008030612131778100071968 done in 1.357s\n",
      "2018-12-01 10:53:45,599 INFO Action performed on 88 files\n",
      "2018-12-01 10:53:45,600 INFO Total Files: 1241\n",
      "2018-12-01 10:53:46,543 INFO Action performed in sub-directory ./data/raw/0006-0AE4R74L-1900-01-01/1.3.12.2.1107.5.99.2.1013.30000008030612131778100072178 done in 0.942s\n",
      "2018-12-01 10:53:46,544 INFO Action performed on 34 files\n",
      "2018-12-01 10:53:46,545 INFO Total Files: 1275\n",
      "2018-12-01 10:53:46,546 INFO Action performed in sub-directory ./data/raw/0006-0AE4R74L-1900-01-01/ done in 13.679s\n",
      "2018-12-01 10:53:46,547 INFO Action performed on 0 files\n",
      "2018-12-01 10:53:46,548 INFO Total Files: 1275\n",
      "2018-12-01 10:53:46,549 INFO Filewalker done, writing json file...\n",
      "2018-12-01 10:53:46,556 INFO json dump done, everything fine!\n"
     ]
    }
   ],
   "source": [
    "# transform all dicom images in src and save them as nrrd at destination path\n",
    "\n",
    "print(os.getcwd())\n",
    "experiment= 'patient_006_full__nrrd'\n",
    "\n",
    "src = './data/raw/0006-0AE4R74L-1900-01-01/'\n",
    "dest = './data/processed/nrrd/0006-0AE4R74L-1900-01-01/'\n",
    "\n",
    "# get all pictures of two studies\n",
    "fw = FileWalker(DicomToNrrd, src_dir=src, dest_dir=dest)\n",
    "\n",
    "logging.info('Filewalker done, writing json file...')   \n",
    "\n",
    "with open('./reports/' + experiment + '.json', 'w') as outfile:\n",
    "    json.dump({experiment : fw.open_files}, outfile, indent=2)\n",
    "logging.info('json dump done, everything fine!') "
   ]
  },
  {
   "cell_type": "code",
   "execution_count": null,
   "metadata": {
    "collapsed": true
   },
   "outputs": [],
   "source": []
  }
 ],
 "metadata": {
  "kernelspec": {
   "display_name": "cardio",
   "language": "python",
   "name": "cardio"
  },
  "language_info": {
   "codemirror_mode": {
    "name": "ipython",
    "version": 3
   },
   "file_extension": ".py",
   "mimetype": "text/x-python",
   "name": "python",
   "nbconvert_exporter": "python",
   "pygments_lexer": "ipython3",
   "version": "3.6.6"
  },
  "varInspector": {
   "cols": {
    "lenName": 16,
    "lenType": 16,
    "lenVar": 40
   },
   "kernels_config": {
    "python": {
     "delete_cmd_postfix": "",
     "delete_cmd_prefix": "del ",
     "library": "var_list.py",
     "varRefreshCmd": "print(var_dic_list())"
    },
    "r": {
     "delete_cmd_postfix": ") ",
     "delete_cmd_prefix": "rm(",
     "library": "var_list.r",
     "varRefreshCmd": "cat(var_dic_list()) "
    }
   },
   "position": {
    "height": "539px",
    "left": "1609px",
    "right": "24px",
    "top": "120px",
    "width": "325px"
   },
   "types_to_exclude": [
    "module",
    "function",
    "builtin_function_or_method",
    "instance",
    "_Feature"
   ],
   "window_display": true
  }
 },
 "nbformat": 4,
 "nbformat_minor": 2
}
