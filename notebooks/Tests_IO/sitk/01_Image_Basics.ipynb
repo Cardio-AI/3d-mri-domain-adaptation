{
 "cells": [
  {
   "cell_type": "markdown",
   "metadata": {},
   "source": [
    "# Welcome to the first SimpleITK Notebook demo:\n",
    "# SimpleITK Image Basics\n",
    "\n",
    "This document will give a brief orientation to the SimpleITK Image class.\n",
    "\n",
    "First we import the SimpleITK Python module. By convention our module is imported into the shorter and more Pythonic \"sitk\" local name.\n"
   ]
  },
  {
   "cell_type": "code",
   "execution_count": 1,
   "metadata": {},
   "outputs": [],
   "source": [
    "import matplotlib.pyplot as plt\n",
    "%matplotlib inline\n",
    "import SimpleITK as sitk\n",
    "\n",
    "from __future__ import print_function"
   ]
  },
  {
   "cell_type": "markdown",
   "metadata": {},
   "source": [
    "## Image Construction\n",
    "\n",
    "There are a variety of ways to create an image. All images' initial value is well defined as zero."
   ]
  },
  {
   "cell_type": "code",
   "execution_count": 2,
   "metadata": {},
   "outputs": [],
   "source": [
    "image = sitk.Image(256, 128, 64, sitk.sitkInt16)\n",
    "image_2D = sitk.Image(64, 64, sitk.sitkFloat32)\n",
    "image_2D = sitk.Image([32,32], sitk.sitkUInt32)\n",
    "image_RGB = sitk.Image([128,128], sitk.sitkVectorUInt8, 3)"
   ]
  },
  {
   "cell_type": "markdown",
   "metadata": {},
   "source": [
    "### Pixel Types\n",
    "\n",
    "The pixel type is represented as an enumerated type. The following is a table of the enumerated list.\n",
    "\n",
    "<table>\n",
    "  <tr><td>sitkUInt8</td><td>Unsigned 8 bit integer</td></tr>\n",
    "  <tr><td>sitkInt8</td><td>Signed 8 bit integer</td></tr>\n",
    "  <tr><td>sitkUInt16</td><td>Unsigned 16 bit integer</td></tr>\n",
    "  <tr><td>sitkInt16</td><td>Signed 16 bit integer</td></tr>\n",
    "  <tr><td>sitkUInt32</td><td>Unsigned 32 bit integer</td></tr>\n",
    "  <tr><td>sitkInt32</td><td>Signed 32 bit integer</td></tr>\n",
    "  <tr><td>sitkUInt64</td><td>Unsigned 64 bit integer</td></tr>\n",
    "  <tr><td>sitkInt64</td><td>Signed 64 bit integer</td></tr>\n",
    "  <tr><td>sitkFloat32</td><td>32 bit float</td></tr>\n",
    "  <tr><td>sitkFloat64</td><td>64 bit float</td></tr>\n",
    "  <tr><td>sitkComplexFloat32</td><td>complex number of 32 bit float</td></tr>\n",
    "  <tr><td>sitkComplexFloat64</td><td>complex number of 64 bit float</td></tr>\n",
    "  <tr><td>sitkVectorUInt8</td><td>Multi-component of unsigned 8 bit integer</td></tr>\n",
    "  <tr><td>sitkVectorInt8</td><td>Multi-component of signed 8 bit integer</td></tr>\n",
    "  <tr><td>sitkVectorUInt16</td><td>Multi-component of unsigned 16 bit integer</td></tr>\n",
    "  <tr><td>sitkVectorInt16</td><td>Multi-component of signed 16 bit integer</td></tr>\n",
    "  <tr><td>sitkVectorUInt32</td><td>Multi-component of unsigned 32 bit integer</td></tr>\n",
    "  <tr><td>sitkVectorInt32</td><td>Multi-component of signed 32 bit integer</td></tr>\n",
    "  <tr><td>sitkVectorUInt64</td><td>Multi-component of unsigned 64 bit integer</td></tr>\n",
    "  <tr><td>sitkVectorInt64</td><td>Multi-component of signed 64 bit integer</td></tr>\n",
    "  <tr><td>sitkVectorFloat32</td><td>Multi-component of 32 bit float</td></tr>\n",
    "  <tr><td>sitkVectorFloat64</td><td>Multi-component of 64 bit float</td></tr>\n",
    "  <tr><td>sitkLabelUInt8</td><td>RLE label of unsigned 8 bit integers</td></tr>\n",
    "  <tr><td>sitkLabelUInt16</td><td>RLE label of unsigned 16 bit integers</td></tr>\n",
    "  <tr><td>sitkLabelUInt32</td><td>RLE label of unsigned 32 bit integers</td></tr>\n",
    "  <tr><td>sitkLabelUInt64</td><td>RLE label of unsigned 64 bit integers</td></tr>\n",
    "</table>\n",
    "\n",
    "There is also `sitkUnknown`, which is used for undefined or erroneous pixel ID's. It has a value of -1.\n",
    "\n",
    "The 64-bit integer types are not available on all distributions. When not available the value is `sitkUnknown`.\n"
   ]
  },
  {
   "cell_type": "markdown",
   "metadata": {},
   "source": [
    "### More Information about the Image class be obtained in the Docstring\n",
    "\n",
    "\n",
    "SimpleITK classes and functions have the Docstrings derived from the C++ definitions and the Doxygen documentation. "
   ]
  },
  {
   "cell_type": "code",
   "execution_count": 3,
   "metadata": {},
   "outputs": [
    {
     "name": "stdout",
     "output_type": "stream",
     "text": [
      "Help on Image in module SimpleITK.SimpleITK object:\n",
      "\n",
      "class Image(builtins.object)\n",
      " |  The main Image class for SimpleITK.\n",
      " |  \n",
      " |  C++ includes: sitkImage.h\n",
      " |  \n",
      " |  Methods defined here:\n",
      " |  \n",
      " |  CopyInformation(self, srcImage)\n",
      " |      CopyInformation(Image self, Image srcImage)\n",
      " |      \n",
      " |      \n",
      " |      \n",
      " |      Copy common meta-data from an image to this one.\n",
      " |      \n",
      " |      \n",
      " |      Copies the Origin, Spacing, and Direction from the source image to\n",
      " |      this image. The meta-data dictionary is not copied.\n",
      " |      \n",
      " |      It is required for the source Image's dimension and size to match, this image's attributes, otherwise an\n",
      " |      exception will be generated.\n",
      " |  \n",
      " |  EraseMetaData(self, key)\n",
      " |      EraseMetaData(Image self, std::string const & key) -> bool\n",
      " |      \n",
      " |      \n",
      " |      \n",
      " |      Remove an entry from the meta-data dictionary.\n",
      " |      \n",
      " |      \n",
      " |      Returns true, when the value exists in the dictionary and is removed,\n",
      " |      false otherwise.\n",
      " |  \n",
      " |  GetDepth(self)\n",
      " |      GetDepth(Image self) -> unsigned int\n",
      " |  \n",
      " |  GetDimension(self)\n",
      " |      GetDimension(Image self) -> unsigned int\n",
      " |  \n",
      " |  GetDirection(self)\n",
      " |      GetDirection(Image self) -> VectorDouble\n",
      " |  \n",
      " |  GetHeight(self)\n",
      " |      GetHeight(Image self) -> unsigned int\n",
      " |  \n",
      " |  GetITKBase(self, *args)\n",
      " |      GetITKBase(Image self) -> itk::DataObject\n",
      " |      GetITKBase(Image self) -> itk::DataObject const *\n",
      " |  \n",
      " |  GetMetaData(self, key)\n",
      " |      GetMetaData(Image self, std::string const & key) -> std::string\n",
      " |      \n",
      " |      \n",
      " |      \n",
      " |      Get the value of a meta-data dictionary entry as a string.\n",
      " |      \n",
      " |      \n",
      " |      If the key is not in the dictionary then an exception is thrown.\n",
      " |      \n",
      " |      string types in the dictionary are returned as their native strings.\n",
      " |      Other types are printed to string before returning.\n",
      " |  \n",
      " |  GetMetaDataKeys(self)\n",
      " |      GetMetaDataKeys(Image self) -> VectorString\n",
      " |      \n",
      " |      \n",
      " |      \n",
      " |      get a vector of keys in from the meta-data dictionary\n",
      " |      \n",
      " |      \n",
      " |      Returns a vector of keys to the key/value entries in the image's meta-\n",
      " |      data dictionary. Iterate through with these keys to get the values.\n",
      " |  \n",
      " |  GetNumberOfComponentsPerPixel(self)\n",
      " |      GetNumberOfComponentsPerPixel(Image self) -> unsigned int\n",
      " |      \n",
      " |      \n",
      " |      \n",
      " |      Get the number of components for each pixel.\n",
      " |      \n",
      " |      \n",
      " |      For scalar images this methods returns 1. For vector images the number\n",
      " |      of components for each pixel is returned.\n",
      " |  \n",
      " |  GetNumberOfPixels(self)\n",
      " |      GetNumberOfPixels(Image self) -> uint64_t\n",
      " |      \n",
      " |      \n",
      " |      \n",
      " |      Get the number of pixels in the image.\n",
      " |      \n",
      " |      \n",
      " |      To Calculate the total number of values stored continuously for the\n",
      " |      image's buffer, the NumberOfPixels should be multiplied by\n",
      " |      NumberOfComponentsPerPixel in order to account for multiple component\n",
      " |      images.\n",
      " |  \n",
      " |  GetOrigin(self)\n",
      " |      GetOrigin(Image self) -> VectorDouble\n",
      " |  \n",
      " |  GetPixel(self, *idx)\n",
      " |      Returns the value of a pixel.\n",
      " |      \n",
      " |      This method takes 2 parameters in 2D: the x and y index,\n",
      " |      and 3 parameters in 3D: the x, y and z index.\n",
      " |  \n",
      " |  GetPixelAsComplexFloat64(self, idx)\n",
      " |      GetPixelAsComplexFloat64(Image self, VectorUInt32 idx) -> std::complex< double >\n",
      " |  \n",
      " |  GetPixelID(self)\n",
      " |      GetPixelID(Image self) -> itk::simple::PixelIDValueEnum\n",
      " |  \n",
      " |  GetPixelIDTypeAsString(self)\n",
      " |      GetPixelIDTypeAsString(Image self) -> std::string\n",
      " |  \n",
      " |  GetPixelIDValue(self)\n",
      " |      GetPixelIDValue(Image self) -> itk::simple::PixelIDValueType\n",
      " |  \n",
      " |  GetSize(self)\n",
      " |      GetSize(Image self) -> VectorUInt32\n",
      " |  \n",
      " |  GetSpacing(self)\n",
      " |      GetSpacing(Image self) -> VectorDouble\n",
      " |  \n",
      " |  GetWidth(self)\n",
      " |      GetWidth(Image self) -> unsigned int\n",
      " |  \n",
      " |  HasMetaDataKey(self, key)\n",
      " |      HasMetaDataKey(Image self, std::string const & key) -> bool\n",
      " |      \n",
      " |      \n",
      " |      \n",
      " |      Query the meta-data dictionary for the existence of a key.\n",
      " |  \n",
      " |  MakeUnique(self)\n",
      " |      MakeUnique(Image self)\n",
      " |      \n",
      " |      \n",
      " |      \n",
      " |      Performs actually coping if needed to make object unique.\n",
      " |      \n",
      " |      \n",
      " |      The Image class by default performs lazy coping and assignment. This method\n",
      " |      make sure that coping actually happens to the itk::Image pointed to is only pointed to by this object.\n",
      " |  \n",
      " |  SetDirection(self, direction)\n",
      " |      SetDirection(Image self, VectorDouble direction)\n",
      " |  \n",
      " |  SetMetaData(self, key, value)\n",
      " |      SetMetaData(Image self, std::string const & key, std::string const & value)\n",
      " |      \n",
      " |      \n",
      " |      \n",
      " |      Set an entry in the meta-data dictionary.\n",
      " |      \n",
      " |      \n",
      " |      Replaces or creates an entry in the image's meta-data dictionary.\n",
      " |  \n",
      " |  SetOrigin(self, origin)\n",
      " |      SetOrigin(Image self, VectorDouble origin)\n",
      " |  \n",
      " |  SetPixel(self, *args)\n",
      " |      Sets the value of a pixel.\n",
      " |      \n",
      " |      This method takes 3 parameters in 2D: the x and y index then the value,\n",
      " |      and 4 parameters in 3D: the x, y and z index then the value.\n",
      " |  \n",
      " |  SetPixelAsComplexFloat64(self, idx, v)\n",
      " |      SetPixelAsComplexFloat64(Image self, VectorUInt32 idx, std::complex< double > const v)\n",
      " |  \n",
      " |  SetSpacing(self, spacing)\n",
      " |      SetSpacing(Image self, VectorDouble spacing)\n",
      " |  \n",
      " |  TransformContinuousIndexToPhysicalPoint(self, index)\n",
      " |      TransformContinuousIndexToPhysicalPoint(Image self, VectorDouble index) -> VectorDouble\n",
      " |      \n",
      " |      \n",
      " |      \n",
      " |      Transform continuous index to physical point\n",
      " |  \n",
      " |  TransformIndexToPhysicalPoint(self, index)\n",
      " |      TransformIndexToPhysicalPoint(Image self, VectorInt64 index) -> VectorDouble\n",
      " |      \n",
      " |      \n",
      " |      \n",
      " |      Transform index to physical point\n",
      " |  \n",
      " |  TransformPhysicalPointToContinuousIndex(self, point)\n",
      " |      TransformPhysicalPointToContinuousIndex(Image self, VectorDouble point) -> VectorDouble\n",
      " |      \n",
      " |      \n",
      " |      \n",
      " |      Transform physical point to continuous index\n",
      " |  \n",
      " |  TransformPhysicalPointToIndex(self, point)\n",
      " |      TransformPhysicalPointToIndex(Image self, VectorDouble point) -> VectorInt64\n",
      " |      \n",
      " |      \n",
      " |      \n",
      " |      Transform physical point to index\n",
      " |  \n",
      " |  __GetPixelAsComplexFloat32__(self, idx)\n",
      " |      __GetPixelAsComplexFloat32__(Image self, VectorUInt32 idx) -> std::complex< float >\n",
      " |  \n",
      " |  __GetPixelAsDouble__(self, idx)\n",
      " |      __GetPixelAsDouble__(Image self, VectorUInt32 idx) -> double\n",
      " |  \n",
      " |  __GetPixelAsFloat__(self, idx)\n",
      " |      __GetPixelAsFloat__(Image self, VectorUInt32 idx) -> float\n",
      " |  \n",
      " |  __GetPixelAsInt16__(self, idx)\n",
      " |      __GetPixelAsInt16__(Image self, VectorUInt32 idx) -> int16_t\n",
      " |  \n",
      " |  __GetPixelAsInt32__(self, idx)\n",
      " |      __GetPixelAsInt32__(Image self, VectorUInt32 idx) -> int32_t\n",
      " |  \n",
      " |  __GetPixelAsInt64__(self, idx)\n",
      " |      __GetPixelAsInt64__(Image self, VectorUInt32 idx) -> int64_t\n",
      " |  \n",
      " |  __GetPixelAsInt8__(self, idx)\n",
      " |      __GetPixelAsInt8__(Image self, VectorUInt32 idx) -> int8_t\n",
      " |  \n",
      " |  __GetPixelAsUInt16__(self, idx)\n",
      " |      __GetPixelAsUInt16__(Image self, VectorUInt32 idx) -> uint16_t\n",
      " |  \n",
      " |  __GetPixelAsUInt32__(self, idx)\n",
      " |      __GetPixelAsUInt32__(Image self, VectorUInt32 idx) -> uint32_t\n",
      " |  \n",
      " |  __GetPixelAsUInt64__(self, idx)\n",
      " |      __GetPixelAsUInt64__(Image self, VectorUInt32 idx) -> uint64_t\n",
      " |  \n",
      " |  __GetPixelAsUInt8__(self, idx)\n",
      " |      __GetPixelAsUInt8__(Image self, VectorUInt32 idx) -> uint8_t\n",
      " |  \n",
      " |  __GetPixelAsVectorFloat32__(self, idx)\n",
      " |      __GetPixelAsVectorFloat32__(Image self, VectorUInt32 idx) -> VectorFloat\n",
      " |  \n",
      " |  __GetPixelAsVectorFloat64__(self, idx)\n",
      " |      __GetPixelAsVectorFloat64__(Image self, VectorUInt32 idx) -> VectorDouble\n",
      " |  \n",
      " |  __GetPixelAsVectorInt16__(self, idx)\n",
      " |      __GetPixelAsVectorInt16__(Image self, VectorUInt32 idx) -> VectorInt16\n",
      " |  \n",
      " |  __GetPixelAsVectorInt32__(self, idx)\n",
      " |      __GetPixelAsVectorInt32__(Image self, VectorUInt32 idx) -> VectorInt32\n",
      " |  \n",
      " |  __GetPixelAsVectorInt64__(self, idx)\n",
      " |      __GetPixelAsVectorInt64__(Image self, VectorUInt32 idx) -> VectorInt64\n",
      " |  \n",
      " |  __GetPixelAsVectorInt8__(self, idx)\n",
      " |      __GetPixelAsVectorInt8__(Image self, VectorUInt32 idx) -> VectorInt8\n",
      " |  \n",
      " |  __GetPixelAsVectorUInt16__(self, idx)\n",
      " |      __GetPixelAsVectorUInt16__(Image self, VectorUInt32 idx) -> VectorUInt16\n",
      " |  \n",
      " |  __GetPixelAsVectorUInt32__(self, idx)\n",
      " |      __GetPixelAsVectorUInt32__(Image self, VectorUInt32 idx) -> VectorUInt32\n",
      " |  \n",
      " |  __GetPixelAsVectorUInt64__(self, idx)\n",
      " |      __GetPixelAsVectorUInt64__(Image self, VectorUInt32 idx) -> VectorUInt64\n",
      " |  \n",
      " |  __GetPixelAsVectorUInt8__(self, idx)\n",
      " |      __GetPixelAsVectorUInt8__(Image self, VectorUInt32 idx) -> VectorUInt8\n",
      " |  \n",
      " |  __SetPixelAsComplexFloat32__(self, idx, v)\n",
      " |      __SetPixelAsComplexFloat32__(Image self, VectorUInt32 idx, std::complex< float > const v)\n",
      " |  \n",
      " |  __SetPixelAsDouble__(self, idx, v)\n",
      " |      __SetPixelAsDouble__(Image self, VectorUInt32 idx, double v)\n",
      " |  \n",
      " |  __SetPixelAsFloat__(self, idx, v)\n",
      " |      __SetPixelAsFloat__(Image self, VectorUInt32 idx, float v)\n",
      " |  \n",
      " |  __SetPixelAsInt16__(self, idx, v)\n",
      " |      __SetPixelAsInt16__(Image self, VectorUInt32 idx, int16_t v)\n",
      " |  \n",
      " |  __SetPixelAsInt32__(self, idx, v)\n",
      " |      __SetPixelAsInt32__(Image self, VectorUInt32 idx, int32_t v)\n",
      " |  \n",
      " |  __SetPixelAsInt64__(self, idx, v)\n",
      " |      __SetPixelAsInt64__(Image self, VectorUInt32 idx, int64_t v)\n",
      " |  \n",
      " |  __SetPixelAsInt8__(self, idx, v)\n",
      " |      __SetPixelAsInt8__(Image self, VectorUInt32 idx, int8_t v)\n",
      " |  \n",
      " |  __SetPixelAsUInt16__(self, idx, v)\n",
      " |      __SetPixelAsUInt16__(Image self, VectorUInt32 idx, uint16_t v)\n",
      " |  \n",
      " |  __SetPixelAsUInt32__(self, idx, v)\n",
      " |      __SetPixelAsUInt32__(Image self, VectorUInt32 idx, uint32_t v)\n",
      " |  \n",
      " |  __SetPixelAsUInt64__(self, idx, v)\n",
      " |      __SetPixelAsUInt64__(Image self, VectorUInt32 idx, uint64_t v)\n",
      " |  \n",
      " |  __SetPixelAsUInt8__(self, idx, v)\n",
      " |      __SetPixelAsUInt8__(Image self, VectorUInt32 idx, uint8_t v)\n",
      " |  \n",
      " |  __SetPixelAsVectorFloat32__(self, idx, v)\n",
      " |      __SetPixelAsVectorFloat32__(Image self, VectorUInt32 idx, VectorFloat v)\n",
      " |  \n",
      " |  __SetPixelAsVectorFloat64__(self, idx, v)\n",
      " |      __SetPixelAsVectorFloat64__(Image self, VectorUInt32 idx, VectorDouble v)\n",
      " |  \n",
      " |  __SetPixelAsVectorInt16__(self, idx, v)\n",
      " |      __SetPixelAsVectorInt16__(Image self, VectorUInt32 idx, VectorInt16 v)\n",
      " |  \n",
      " |  __SetPixelAsVectorInt32__(self, idx, v)\n",
      " |      __SetPixelAsVectorInt32__(Image self, VectorUInt32 idx, VectorInt32 v)\n",
      " |  \n",
      " |  __SetPixelAsVectorInt64__(self, idx, v)\n",
      " |      __SetPixelAsVectorInt64__(Image self, VectorUInt32 idx, VectorInt64 v)\n",
      " |  \n",
      " |  __SetPixelAsVectorInt8__(self, idx, v)\n",
      " |      __SetPixelAsVectorInt8__(Image self, VectorUInt32 idx, VectorInt8 v)\n",
      " |  \n",
      " |  __SetPixelAsVectorUInt16__(self, idx, v)\n",
      " |      __SetPixelAsVectorUInt16__(Image self, VectorUInt32 idx, VectorUInt16 v)\n",
      " |  \n",
      " |  __SetPixelAsVectorUInt32__(self, idx, v)\n",
      " |      __SetPixelAsVectorUInt32__(Image self, VectorUInt32 idx, VectorUInt32 v)\n",
      " |  \n",
      " |  __SetPixelAsVectorUInt64__(self, idx, v)\n",
      " |      __SetPixelAsVectorUInt64__(Image self, VectorUInt32 idx, VectorUInt64 v)\n",
      " |  \n",
      " |  __SetPixelAsVectorUInt8__(self, idx, v)\n",
      " |      __SetPixelAsVectorUInt8__(Image self, VectorUInt32 idx, VectorUInt8 v)\n",
      " |  \n",
      " |  __abs__(self)\n",
      " |  \n",
      " |  __add__(self, other)\n",
      " |  \n",
      " |  __and__(self, other)\n",
      " |  \n",
      " |  __del__ lambda self\n",
      " |  \n",
      " |  __div__(self, other)\n",
      " |  \n",
      " |  __eq__(self, other)\n",
      " |      Return self==value.\n",
      " |  \n",
      " |  __floordiv__(self, other)\n",
      " |  \n",
      " |  __ge__(self, other)\n",
      " |      Return self>=value.\n",
      " |  \n",
      " |  __getattr__ lambda self, name\n",
      " |  \n",
      " |  __getitem__(self, idx)\n",
      " |      Get an pixel value or a sliced image.\n",
      " |      \n",
      " |      This operator implements basic indexing where idx is\n",
      " |      arguments or a squence of integers the same dimension as\n",
      " |      the image. The result will be a pixel value from that\n",
      " |      index.\n",
      " |      \n",
      " |      Multi-dimension extended slice based indexing is also\n",
      " |      implemented. The return is a copy of a new image. The\n",
      " |      standard sliced based indices are supported including\n",
      " |      negative indices, to indicate location relative to the\n",
      " |      end, along with negative step sized to indicate reversing\n",
      " |      of direction.\n",
      " |      \n",
      " |      If the length of idx is less than the number of dimension\n",
      " |      of the image it will be padded with the defaults slice\n",
      " |      \":\".\n",
      " |      \n",
      " |      A 2D image can be extracted from a 3D image by providing\n",
      " |      one argument being an integer instead of a slice.\n",
      " |  \n",
      " |  __gt__(self, other)\n",
      " |      Return self>value.\n",
      " |  \n",
      " |  __iadd__(self, other)\n",
      " |      # NOTE: the __i*__ methods are not implemented because there\n",
      " |      # currently in no way to make the underlying filters run\n",
      " |      # inplace. But python will implement a default version based\n",
      " |      # on the standard method\n",
      " |  \n",
      " |  __init__(self, *args)\n",
      " |      __init__(itk::simple::Image self) -> Image\n",
      " |      __init__(itk::simple::Image self, Image img) -> Image\n",
      " |      __init__(itk::simple::Image self, unsigned int width, unsigned int height, itk::simple::PixelIDValueEnum valueEnum) -> Image\n",
      " |      __init__(itk::simple::Image self, unsigned int width, unsigned int height, unsigned int depth, itk::simple::PixelIDValueEnum valueEnum) -> Image\n",
      " |      __init__(itk::simple::Image self, VectorUInt32 size, itk::simple::PixelIDValueEnum valueEnum, unsigned int numberOfComponents=0) -> Image\n",
      " |  \n",
      " |  __invert__(self)\n",
      " |  \n",
      " |  __iter__(self)\n",
      " |  \n",
      " |  __le__(self, other)\n",
      " |      Return self<=value.\n",
      " |  \n",
      " |  __len__(self)\n",
      " |  \n",
      " |  __lt__(self, other)\n",
      " |      Return self<value.\n",
      " |  \n",
      " |  __mod__(self, other)\n",
      " |  \n",
      " |  __mul__(self, other)\n",
      " |  \n",
      " |  __ne__(self, other)\n",
      " |      Return self!=value.\n",
      " |  \n",
      " |  __neg__(self)\n",
      " |  \n",
      " |  __or__(self, other)\n",
      " |  \n",
      " |  __pos__(self)\n",
      " |  \n",
      " |  __pow__(self, other)\n",
      " |  \n",
      " |  __radd__(self, other)\n",
      " |  \n",
      " |  __rand__(self, other)\n",
      " |  \n",
      " |  __rdiv__(self, other)\n",
      " |  \n",
      " |  __repr__ = _swig_repr(self)\n",
      " |  \n",
      " |  __rfloordiv__(self, other)\n",
      " |  \n",
      " |  __rmul__(self, other)\n",
      " |  \n",
      " |  __ror__(self, other)\n",
      " |  \n",
      " |  __rpow__(self, other)\n",
      " |  \n",
      " |  __rsub__(self, other)\n",
      " |  \n",
      " |  __rtruediv__(self, other)\n",
      " |  \n",
      " |  __rxor__(self, other)\n",
      " |  \n",
      " |  __setattr__ lambda self, name, value\n",
      " |  \n",
      " |  __setitem__(self, idx, value)\n",
      " |      Sets the pixel value at index idx to value.\n",
      " |      \n",
      " |      The dimension of idx should match that of the image.\n",
      " |  \n",
      " |  __str__(self)\n",
      " |      __str__(Image self) -> std::string\n",
      " |  \n",
      " |  __sub__(self, other)\n",
      " |  \n",
      " |  __swig_destroy__ = delete_Image(...)\n",
      " |      delete_Image(Image self)\n",
      " |  \n",
      " |  __truediv__(self, other)\n",
      " |  \n",
      " |  __xor__(self, other)\n",
      " |  \n",
      " |  ----------------------------------------------------------------------\n",
      " |  Data descriptors defined here:\n",
      " |  \n",
      " |  __dict__\n",
      " |      dictionary for instance variables (if defined)\n",
      " |  \n",
      " |  __weakref__\n",
      " |      list of weak references to the object (if defined)\n",
      " |  \n",
      " |  ----------------------------------------------------------------------\n",
      " |  Data and other attributes defined here:\n",
      " |  \n",
      " |  __hash__ = None\n",
      " |  \n",
      " |  __swig_getmethods__ = {}\n",
      " |  \n",
      " |  __swig_setmethods__ = {}\n",
      "\n"
     ]
    }
   ],
   "source": [
    "help(image)"
   ]
  },
  {
   "cell_type": "markdown",
   "metadata": {},
   "source": [
    "## Accessing Attributes\n",
    "\n",
    "If you are familiar with ITK, then these methods will follow your expectations:"
   ]
  },
  {
   "cell_type": "code",
   "execution_count": 4,
   "metadata": {},
   "outputs": [
    {
     "name": "stdout",
     "output_type": "stream",
     "text": [
      "(256, 128, 64)\n",
      "(0.0, 0.0, 0.0)\n",
      "(1.0, 1.0, 1.0)\n",
      "(1.0, 0.0, 0.0, 0.0, 1.0, 0.0, 0.0, 0.0, 1.0)\n",
      "1\n"
     ]
    }
   ],
   "source": [
    "print(image.GetSize())\n",
    "print(image.GetOrigin())\n",
    "print(image.GetSpacing())\n",
    "print(image.GetDirection())\n",
    "print(image.GetNumberOfComponentsPerPixel())"
   ]
  },
  {
   "cell_type": "markdown",
   "metadata": {},
   "source": [
    "Note: The starting index of a SimpleITK Image is always 0. If the output of an ITK filter has non-zero starting index, then the index will be set to 0, and the origin adjusted accordingly.\n",
    "\n",
    "The size of the image's dimensions have explicit accessors:"
   ]
  },
  {
   "cell_type": "code",
   "execution_count": 5,
   "metadata": {},
   "outputs": [
    {
     "name": "stdout",
     "output_type": "stream",
     "text": [
      "256\n",
      "128\n",
      "64\n"
     ]
    }
   ],
   "source": [
    "print(image.GetWidth())\n",
    "print(image.GetHeight())\n",
    "print(image.GetDepth())"
   ]
  },
  {
   "cell_type": "markdown",
   "metadata": {},
   "source": [
    "Since the dimension  and pixel type of a SimpleITK image is determined at run-time accessors are needed. "
   ]
  },
  {
   "cell_type": "code",
   "execution_count": 6,
   "metadata": {},
   "outputs": [
    {
     "name": "stdout",
     "output_type": "stream",
     "text": [
      "3\n",
      "2\n",
      "16-bit signed integer\n"
     ]
    }
   ],
   "source": [
    "print(image.GetDimension())\n",
    "print(image.GetPixelIDValue())\n",
    "print(image.GetPixelIDTypeAsString())"
   ]
  },
  {
   "cell_type": "markdown",
   "metadata": {},
   "source": [
    "What is the depth of a 2D image?"
   ]
  },
  {
   "cell_type": "code",
   "execution_count": 7,
   "metadata": {},
   "outputs": [
    {
     "name": "stdout",
     "output_type": "stream",
     "text": [
      "(32, 32)\n",
      "0\n"
     ]
    }
   ],
   "source": [
    "print(image_2D.GetSize())\n",
    "print(image_2D.GetDepth())"
   ]
  },
  {
   "cell_type": "markdown",
   "metadata": {},
   "source": [
    "What is the dimension and size of a Vector image?"
   ]
  },
  {
   "cell_type": "code",
   "execution_count": 8,
   "metadata": {},
   "outputs": [
    {
     "name": "stdout",
     "output_type": "stream",
     "text": [
      "2\n",
      "(128, 128)\n"
     ]
    }
   ],
   "source": [
    "print(image_RGB.GetDimension())\n",
    "print(image_RGB.GetSize())"
   ]
  },
  {
   "cell_type": "code",
   "execution_count": 9,
   "metadata": {},
   "outputs": [
    {
     "name": "stdout",
     "output_type": "stream",
     "text": [
      "3\n"
     ]
    }
   ],
   "source": [
    "print(image_RGB.GetNumberOfComponentsPerPixel())"
   ]
  },
  {
   "cell_type": "markdown",
   "metadata": {},
   "source": [
    "For certain file types such as DICOM, additional information about the image is contained in the meta-data dictionary."
   ]
  },
  {
   "cell_type": "code",
   "execution_count": 11,
   "metadata": {},
   "outputs": [],
   "source": [
    "for key in image.GetMetaDataKeys():\n",
    "        print(\"\\\"{0}\\\":\\\"{1}\\\"\".format(key, image.GetMetaData(key)))"
   ]
  },
  {
   "cell_type": "markdown",
   "metadata": {},
   "source": [
    "## Accessing Pixels\n",
    "\n",
    "There are the member functions ``GetPixel`` and ``SetPixel`` which provides an ITK-like interface for pixel access."
   ]
  },
  {
   "cell_type": "code",
   "execution_count": 12,
   "metadata": {},
   "outputs": [
    {
     "name": "stdout",
     "output_type": "stream",
     "text": [
      "Help on method GetPixel in module SimpleITK.SimpleITK:\n",
      "\n",
      "GetPixel(*idx) method of SimpleITK.SimpleITK.Image instance\n",
      "    Returns the value of a pixel.\n",
      "    \n",
      "    This method takes 2 parameters in 2D: the x and y index,\n",
      "    and 3 parameters in 3D: the x, y and z index.\n",
      "\n"
     ]
    }
   ],
   "source": [
    "help(image.GetPixel)"
   ]
  },
  {
   "cell_type": "code",
   "execution_count": 13,
   "metadata": {},
   "outputs": [
    {
     "name": "stdout",
     "output_type": "stream",
     "text": [
      "0\n",
      "1\n"
     ]
    }
   ],
   "source": [
    "print(image.GetPixel(0, 0, 0))\n",
    "image.SetPixel(0, 0, 0, 1)\n",
    "print(image.GetPixel(0, 0, 0))"
   ]
  },
  {
   "cell_type": "code",
   "execution_count": 15,
   "metadata": {},
   "outputs": [
    {
     "name": "stdout",
     "output_type": "stream",
     "text": [
      "10\n",
      "10\n",
      "10\n"
     ]
    }
   ],
   "source": [
    "print(image[0,0,0])\n",
    "image[0,0,0] = 10\n",
    "print(image[0,0,0])\n",
    "print(image.GetPixel(0,0,0))"
   ]
  },
  {
   "cell_type": "markdown",
   "metadata": {},
   "source": [
    "## Conversion between numpy and SimpleITK"
   ]
  },
  {
   "cell_type": "code",
   "execution_count": 16,
   "metadata": {},
   "outputs": [
    {
     "name": "stdout",
     "output_type": "stream",
     "text": [
      "[[[10  0  0 ...  0  0  0]\n",
      "  [ 0  0  0 ...  0  0  0]\n",
      "  [ 0  0  0 ...  0  0  0]\n",
      "  ...\n",
      "  [ 0  0  0 ...  0  0  0]\n",
      "  [ 0  0  0 ...  0  0  0]\n",
      "  [ 0  0  0 ...  0  0  0]]\n",
      "\n",
      " [[ 0  0  0 ...  0  0  0]\n",
      "  [ 0  0  0 ...  0  0  0]\n",
      "  [ 0  0  0 ...  0  0  0]\n",
      "  ...\n",
      "  [ 0  0  0 ...  0  0  0]\n",
      "  [ 0  0  0 ...  0  0  0]\n",
      "  [ 0  0  0 ...  0  0  0]]\n",
      "\n",
      " [[ 0  0  0 ...  0  0  0]\n",
      "  [ 0  0  0 ...  0  0  0]\n",
      "  [ 0  0  0 ...  0  0  0]\n",
      "  ...\n",
      "  [ 0  0  0 ...  0  0  0]\n",
      "  [ 0  0  0 ...  0  0  0]\n",
      "  [ 0  0  0 ...  0  0  0]]\n",
      "\n",
      " ...\n",
      "\n",
      " [[ 0  0  0 ...  0  0  0]\n",
      "  [ 0  0  0 ...  0  0  0]\n",
      "  [ 0  0  0 ...  0  0  0]\n",
      "  ...\n",
      "  [ 0  0  0 ...  0  0  0]\n",
      "  [ 0  0  0 ...  0  0  0]\n",
      "  [ 0  0  0 ...  0  0  0]]\n",
      "\n",
      " [[ 0  0  0 ...  0  0  0]\n",
      "  [ 0  0  0 ...  0  0  0]\n",
      "  [ 0  0  0 ...  0  0  0]\n",
      "  ...\n",
      "  [ 0  0  0 ...  0  0  0]\n",
      "  [ 0  0  0 ...  0  0  0]\n",
      "  [ 0  0  0 ...  0  0  0]]\n",
      "\n",
      " [[ 0  0  0 ...  0  0  0]\n",
      "  [ 0  0  0 ...  0  0  0]\n",
      "  [ 0  0  0 ...  0  0  0]\n",
      "  ...\n",
      "  [ 0  0  0 ...  0  0  0]\n",
      "  [ 0  0  0 ...  0  0  0]\n",
      "  [ 0  0  0 ...  0  0  0]]]\n"
     ]
    }
   ],
   "source": [
    "nda = sitk.GetArrayFromImage(image)\n",
    "print(nda)"
   ]
  },
  {
   "cell_type": "code",
   "execution_count": 17,
   "metadata": {},
   "outputs": [
    {
     "name": "stdout",
     "output_type": "stream",
     "text": [
      "Help on function GetArrayFromImage in module SimpleITK.SimpleITK:\n",
      "\n",
      "GetArrayFromImage(image)\n",
      "    Get a NumPy ndarray from a SimpleITK Image.\n",
      "    \n",
      "    This is a deep copy of the image buffer and is completely safe and without potential side effects.\n",
      "\n"
     ]
    }
   ],
   "source": [
    "help(sitk.GetArrayFromImage)"
   ]
  },
  {
   "cell_type": "code",
   "execution_count": 19,
   "metadata": {},
   "outputs": [
    {
     "name": "stdout",
     "output_type": "stream",
     "text": [
      "[[[10  0  0 ...  0  0  0]\n",
      "  [ 0  0  0 ...  0  0  0]\n",
      "  [ 0  0  0 ...  0  0  0]\n",
      "  ...\n",
      "  [ 0  0  0 ...  0  0  0]\n",
      "  [ 0  0  0 ...  0  0  0]\n",
      "  [ 0  0  0 ...  0  0  0]]\n",
      "\n",
      " [[ 0  0  0 ...  0  0  0]\n",
      "  [ 0  0  0 ...  0  0  0]\n",
      "  [ 0  0  0 ...  0  0  0]\n",
      "  ...\n",
      "  [ 0  0  0 ...  0  0  0]\n",
      "  [ 0  0  0 ...  0  0  0]\n",
      "  [ 0  0  0 ...  0  0  0]]\n",
      "\n",
      " [[ 0  0  0 ...  0  0  0]\n",
      "  [ 0  0  0 ...  0  0  0]\n",
      "  [ 0  0  0 ...  0  0  0]\n",
      "  ...\n",
      "  [ 0  0  0 ...  0  0  0]\n",
      "  [ 0  0  0 ...  0  0  0]\n",
      "  [ 0  0  0 ...  0  0  0]]\n",
      "\n",
      " ...\n",
      "\n",
      " [[ 0  0  0 ...  0  0  0]\n",
      "  [ 0  0  0 ...  0  0  0]\n",
      "  [ 0  0  0 ...  0  0  0]\n",
      "  ...\n",
      "  [ 0  0  0 ...  0  0  0]\n",
      "  [ 0  0  0 ...  0  0  0]\n",
      "  [ 0  0  0 ...  0  0  0]]\n",
      "\n",
      " [[ 0  0  0 ...  0  0  0]\n",
      "  [ 0  0  0 ...  0  0  0]\n",
      "  [ 0  0  0 ...  0  0  0]\n",
      "  ...\n",
      "  [ 0  0  0 ...  0  0  0]\n",
      "  [ 0  0  0 ...  0  0  0]\n",
      "  [ 0  0  0 ...  0  0  0]]\n",
      "\n",
      " [[ 0  0  0 ...  0  0  0]\n",
      "  [ 0  0  0 ...  0  0  0]\n",
      "  [ 0  0  0 ...  0  0  0]\n",
      "  ...\n",
      "  [ 0  0  0 ...  0  0  0]\n",
      "  [ 0  0  0 ...  0  0  0]\n",
      "  [ 0  0  0 ...  0  0  0]]]\n"
     ]
    }
   ],
   "source": [
    "# Get a view of the image data as a numpy array, useful for display\n",
    "nda = sitk.GetArrayViewFromImage(image)\n",
    "print(nda)"
   ]
  },
  {
   "cell_type": "code",
   "execution_count": 20,
   "metadata": {},
   "outputs": [
    {
     "data": {
      "text/plain": [
       "(3, 128, 128)"
      ]
     },
     "execution_count": 20,
     "metadata": {},
     "output_type": "execute_result"
    }
   ],
   "source": [
    "nda = sitk.GetArrayFromImage(image_RGB)\n",
    "img = sitk.GetImageFromArray(nda)\n",
    "img.GetSize()"
   ]
  },
  {
   "cell_type": "code",
   "execution_count": 21,
   "metadata": {},
   "outputs": [
    {
     "name": "stdout",
     "output_type": "stream",
     "text": [
      "Help on function GetImageFromArray in module SimpleITK.SimpleITK:\n",
      "\n",
      "GetImageFromArray(arr, isVector=False)\n",
      "    Get a SimpleITK Image from a numpy array. If isVector is True, then a 3D array will be treated as a 2D vector image, otherwise it will be treated as a 3D image\n",
      "\n"
     ]
    }
   ],
   "source": [
    "help(sitk.GetImageFromArray)"
   ]
  },
  {
   "cell_type": "code",
   "execution_count": 22,
   "metadata": {},
   "outputs": [
    {
     "name": "stdout",
     "output_type": "stream",
     "text": [
      "VectorImage (0x7fcdd39633d0)\n",
      "  RTTI typeinfo:   itk::VectorImage<unsigned char, 2u>\n",
      "  Reference Count: 1\n",
      "  Modified Time: 803\n",
      "  Debug: Off\n",
      "  Object Name: \n",
      "  Observers: \n",
      "    none\n",
      "  Source: (none)\n",
      "  Source output name: (none)\n",
      "  Release Data: Off\n",
      "  Data Released: False\n",
      "  Global Release Data: Off\n",
      "  PipelineMTime: 0\n",
      "  UpdateMTime: 0\n",
      "  RealTimeStamp: 0 seconds \n",
      "  LargestPossibleRegion: \n",
      "    Dimension: 2\n",
      "    Index: [0, 0]\n",
      "    Size: [128, 128]\n",
      "  BufferedRegion: \n",
      "    Dimension: 2\n",
      "    Index: [0, 0]\n",
      "    Size: [128, 128]\n",
      "  RequestedRegion: \n",
      "    Dimension: 2\n",
      "    Index: [0, 0]\n",
      "    Size: [128, 128]\n",
      "  Spacing: [1, 1]\n",
      "  Origin: [0, 0]\n",
      "  Direction: \n",
      "1 0\n",
      "0 1\n",
      "\n",
      "  IndexToPointMatrix: \n",
      "1 0\n",
      "0 1\n",
      "\n",
      "  PointToIndexMatrix: \n",
      "1 0\n",
      "0 1\n",
      "\n",
      "  Inverse Direction: \n",
      "1 0\n",
      "0 1\n",
      "\n",
      "  VectorLength: 3\n",
      "  PixelContainer: \n",
      "    ImportImageContainer (0x7fcdd3963580)\n",
      "      RTTI typeinfo:   itk::ImportImageContainer<unsigned long, unsigned char>\n",
      "      Reference Count: 1\n",
      "      Modified Time: 804\n",
      "      Debug: Off\n",
      "      Object Name: \n",
      "      Observers: \n",
      "        none\n",
      "      Pointer: 0x7fcdcf931e00\n",
      "      Container manages memory: true\n",
      "      Size: 49152\n",
      "      Capacity: 49152\n",
      "\n"
     ]
    }
   ],
   "source": [
    "img = sitk.GetImageFromArray(nda, isVector=True)\n",
    "print(img)"
   ]
  },
  {
   "cell_type": "markdown",
   "metadata": {},
   "source": [
    "## The order of index and dimensions need careful attention during conversion\n",
    "\n",
    "ITK's Image class does not have a bracket operator. It has a GetPixel which takes an ITK Index object as an argument, which is ordered as ``(x,y,z)``. This is the convention that SimpleITK's Image class uses for the GetPixel method and slicing operator as well. In numpy, an array is indexed in the **opposite** order ``(z,y,x)``. Also note that the access to channels is different. In SimpleITK you do not access the channel directly, rather the pixel value representing all channels for the specific pixel is returned and you then access the channel for that pixel. In the numpy array you are accessing the channel directly. "
   ]
  },
  {
   "cell_type": "code",
   "execution_count": 23,
   "metadata": {},
   "outputs": [
    {
     "name": "stdout",
     "output_type": "stream",
     "text": [
      "Image size: (2, 4, 8)\n",
      "Numpy array size: (8, 4, 2, 5)\n",
      "First channel value in image: 0.23594874143600464\n",
      "First channel value in numpy array: 0.23594874\n"
     ]
    }
   ],
   "source": [
    "import numpy as np\n",
    "\n",
    "multi_channel_3Dimage = sitk.Image([2,4,8], sitk.sitkVectorFloat32, 5)\n",
    "x = multi_channel_3Dimage.GetWidth() - 1\n",
    "y = multi_channel_3Dimage.GetHeight() - 1\n",
    "z = multi_channel_3Dimage.GetDepth() - 1\n",
    "multi_channel_3Dimage[x,y,z] = np.random.random(multi_channel_3Dimage.GetNumberOfComponentsPerPixel())\n",
    "\n",
    "nda = sitk.GetArrayFromImage(multi_channel_3Dimage)\n",
    "\n",
    "print(\"Image size: \" + str(multi_channel_3Dimage.GetSize()))\n",
    "print(\"Numpy array size: \" + str(nda.shape))\n",
    "\n",
    "# Notice the index order and channel access are different:\n",
    "print(\"First channel value in image: \" + str(multi_channel_3Dimage[x,y,z][0]))\n",
    "print(\"First channel value in numpy array: \" + str(nda[z,y,x,0]))"
   ]
  },
  {
   "cell_type": "markdown",
   "metadata": {},
   "source": [
    "\n",
    "### Are we still dealing with Image, because I haven't seen one yet...\n",
    "\n",
    "While SimpleITK does not do visualization, it does contain a built in ``Show`` method. This function writes the image out to disk and than launches a program for visualization. By default it is configured to use ImageJ, because it is readily supports all the image types which SimpleITK has and load very quickly. However, it's easily customizable by setting environment variables."
   ]
  },
  {
   "cell_type": "code",
   "execution_count": 24,
   "metadata": {
    "simpleitk_error_allowed": "Exception thrown in SimpleITK Show:"
   },
   "outputs": [],
   "source": [
    "sitk.Show(image)"
   ]
  },
  {
   "cell_type": "code",
   "execution_count": 25,
   "metadata": {},
   "outputs": [],
   "source": [
    "sitk.Show?"
   ]
  },
  {
   "cell_type": "markdown",
   "metadata": {},
   "source": [
    "By converting into a numpy array, matplotlib can be used for visualization for integration into the scientific python environment."
   ]
  },
  {
   "cell_type": "code",
   "execution_count": 26,
   "metadata": {},
   "outputs": [],
   "source": [
    "%matplotlib inline\n",
    "import matplotlib.pyplot as plt"
   ]
  },
  {
   "cell_type": "code",
   "execution_count": 27,
   "metadata": {},
   "outputs": [
    {
     "data": {
      "text/plain": [
       "<matplotlib.image.AxesImage at 0x1086a47f0>"
      ]
     },
     "execution_count": 27,
     "metadata": {},
     "output_type": "execute_result"
    },
    {
     "data": {
      "image/png": "[encoded data removed]",
      "text/plain": [
       "<Figure size 432x288 with 1 Axes>"
      ]
     },
     "metadata": {
      "needs_background": "light"
     },
     "output_type": "display_data"
    }
   ],
   "source": [
    "z = 0\n",
    "slice = sitk.GetArrayViewFromImage(image)[z,:,:]\n",
    "plt.imshow(slice)"
   ]
  }
 ],
 "metadata": {
  "anaconda-cloud": {},
  "kernelspec": {
   "display_name": "Python 3",
   "language": "python",
   "name": "python3"
  },
  "language_info": {
   "codemirror_mode": {
    "name": "ipython",
    "version": 3
   },
   "file_extension": ".py",
   "mimetype": "text/x-python",
   "name": "python",
   "nbconvert_exporter": "python",
   "pygments_lexer": "ipython3",
   "version": "3.6.6"
  },
  "varInspector": {
   "cols": {
    "lenName": 16,
    "lenType": 16,
    "lenVar": 40
   },
   "kernels_config": {
    "python": {
     "delete_cmd_postfix": "",
     "delete_cmd_prefix": "del ",
     "library": "var_list.py",
     "varRefreshCmd": "print(var_dic_list())"
    },
    "r": {
     "delete_cmd_postfix": ") ",
     "delete_cmd_prefix": "rm(",
     "library": "var_list.r",
     "varRefreshCmd": "cat(var_dic_list()) "
    }
   },
   "types_to_exclude": [
    "module",
    "function",
    "builtin_function_or_method",
    "instance",
    "_Feature"
   ],
   "window_display": false
  }
 },
 "nbformat": 4,
 "nbformat_minor": 2
}
