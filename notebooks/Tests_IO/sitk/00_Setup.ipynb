{
 "cells": [
  {
   "cell_type": "markdown",
   "metadata": {},
   "source": [
    "<h1 align=\"center\">Welcome to SimpleITK Jupyter Notebooks</h1>\n",
    "\n",
    "\n",
    "## Newcomers to Jupyter Notebooks:\n",
    "1. We use two types of cells, code and markdown.\n",
    "2. To run a code cell, select it (mouse or arrow key so that it is highlighted) and then press shift+enter which also moves focus to the next cell or ctrl+enter which doesn't.\n",
    "3. Closing the browser window does not close the Jupyter server. To close the server, go to the terminal where you ran it and press ctrl+c twice.\n",
    "\n",
    "For additional details see the [Jupyter Notebook Quick Start Guide](https://jupyter-notebook-beginner-guide.readthedocs.io/en/latest/index.html).\n",
    "\n",
    "## SimpleITK Environment Setup\n",
    "\n",
    "Check that SimpleITK and auxiliary program(s) are correctly installed in your environment, and that you have the SimpleITK version which you expect (<b>requires network connectivity</b>).\n",
    "\n",
    "You can optionally download all of the data used in the notebooks in advance. This step is only necessary if you expect to run the notebooks without network connectivity."
   ]
  },
  {
   "cell_type": "markdown",
   "metadata": {},
   "source": [
    "The following cell checks that all expected packages are installed."
   ]
  },
  {
   "cell_type": "code",
   "execution_count": 2,
   "metadata": {},
   "outputs": [
    {
     "name": "stdout",
     "output_type": "stream",
     "text": [
      "3.6.5 |Anaconda, Inc.| (default, Apr 26 2018, 08:42:37) \n",
      "[GCC 4.2.1 Compatible Clang 4.0.1 (tags/RELEASE_401/final)]\n",
      "sys.version_info(major=3, minor=6, micro=5, releaselevel='final', serial=0)\n",
      "All is well.\n"
     ]
    }
   ],
   "source": [
    "from __future__ import print_function\n",
    "import importlib\n",
    "from distutils.version import LooseVersion\n",
    "import sys\n",
    "print(sys.version)\n",
    "print(sys.version_info)\n",
    "\n",
    "# check that all packages are installed (see requirements.txt file)\n",
    "required_packages = {'jupyter', \n",
    "                     'numpy',\n",
    "                     'matplotlib',\n",
    "                     'ipywidgets',\n",
    "                     'scipy',\n",
    "                     'pandas',\n",
    "                     'SimpleITK'\n",
    "                    }\n",
    "\n",
    "problem_packages = list()\n",
    "# Iterate over the required packages: If the package is not installed\n",
    "# ignore the exception. \n",
    "for package in required_packages:\n",
    "    try:\n",
    "        p = importlib.import_module(package)        \n",
    "    except ImportError:\n",
    "        problem_packages.append(package)\n",
    "    \n",
    "if len(problem_packages) is 0:\n",
    "    print('All is well.')\n",
    "else:\n",
    "    print('The following packages are required but not installed: ' \\\n",
    "          + ', '.join(problem_packages))"
   ]
  },
  {
   "cell_type": "code",
   "execution_count": 3,
   "metadata": {},
   "outputs": [
    {
     "name": "stderr",
     "output_type": "stream",
     "text": [
      "ERROR:root:File `'update_path_to_download_script.py'` not found.\n"
     ]
    },
    {
     "ename": "ModuleNotFoundError",
     "evalue": "No module named 'downloaddata'",
     "output_type": "error",
     "traceback": [
      "\u001b[0;31m---------------------------------------------------------------------------\u001b[0m",
      "\u001b[0;31mModuleNotFoundError\u001b[0m                       Traceback (most recent call last)",
      "\u001b[0;32m<ipython-input-3-7867b39db328>\u001b[0m in \u001b[0;36m<module>\u001b[0;34m()\u001b[0m\n\u001b[1;32m      2\u001b[0m \u001b[0;34m\u001b[0m\u001b[0m\n\u001b[1;32m      3\u001b[0m \u001b[0mget_ipython\u001b[0m\u001b[0;34m(\u001b[0m\u001b[0;34m)\u001b[0m\u001b[0;34m.\u001b[0m\u001b[0mmagic\u001b[0m\u001b[0;34m(\u001b[0m\u001b[0;34m'run update_path_to_download_script'\u001b[0m\u001b[0;34m)\u001b[0m\u001b[0;34m\u001b[0m\u001b[0m\n\u001b[0;32m----> 4\u001b[0;31m \u001b[0;32mfrom\u001b[0m \u001b[0mdownloaddata\u001b[0m \u001b[0;32mimport\u001b[0m \u001b[0mfetch_data\u001b[0m\u001b[0;34m,\u001b[0m \u001b[0mfetch_data_all\u001b[0m\u001b[0;34m\u001b[0m\u001b[0m\n\u001b[0m\u001b[1;32m      5\u001b[0m \u001b[0;34m\u001b[0m\u001b[0m\n\u001b[1;32m      6\u001b[0m \u001b[0;32mfrom\u001b[0m \u001b[0mipywidgets\u001b[0m \u001b[0;32mimport\u001b[0m \u001b[0minteract\u001b[0m\u001b[0;34m\u001b[0m\u001b[0m\n",
      "\u001b[0;31mModuleNotFoundError\u001b[0m: No module named 'downloaddata'"
     ]
    }
   ],
   "source": [
    "import SimpleITK as sitk\n",
    "\n",
    "%run update_path_to_download_script\n",
    "from downloaddata import fetch_data, fetch_data_all\n",
    "\n",
    "from ipywidgets import interact\n",
    "\n",
    "print(sitk.Version())"
   ]
  },
  {
   "cell_type": "markdown",
   "metadata": {},
   "source": [
    "We expect that you have an external image viewer installed. The default viewer is <a href=\"https://fiji.sc/#download\">Fiji</a>. If you have another viewer (i.e. ITK-SNAP or 3D Slicer) you will need to set an environment variable to point to it. This can be done from within a notebook as shown below."
   ]
  },
  {
   "cell_type": "code",
   "execution_count": 7,
   "metadata": {
    "simpleitk_error_allowed": "Exception thrown in SimpleITK Show:"
   },
   "outputs": [
    {
     "name": "stdout",
     "output_type": "stream",
     "text": [
      "Fetching SimpleITK.jpg\n"
     ]
    }
   ],
   "source": [
    "# Uncomment the line below to change the default external viewer to your viewer of choice and test that it works.\n",
    "#%env SITK_SHOW_COMMAND /Applications/ITK-SNAP.app/Contents/MacOS/ITK-SNAP \n",
    "\n",
    "# Retrieve an image from the network, read it and display using the external viewer. \n",
    "# The show method will also set the display window's title and by setting debugOn to True, \n",
    "# will also print information with respect to the command it is attempting to invoke.\n",
    "# NOTE: The debug information is printed to the terminal from which you launched the notebook\n",
    "#       server.\n",
    "sitk.Show(sitk.ReadImage(fetch_data(\"SimpleITK.jpg\")), \"SimpleITK Logo\", debugOn=True)"
   ]
  },
  {
   "cell_type": "markdown",
   "metadata": {},
   "source": [
    "Now we check that the ipywidgets will display correctly. When you run the following cell you should see a slider.\n",
    "\n",
    "If you don't see a slider please shutdown the Jupyter server, at the command line prompt press Control-c twice, and then run the following command:\n",
    "\n",
    "```jupyter nbextension enable --py --sys-prefix widgetsnbextension```"
   ]
  },
  {
   "cell_type": "code",
   "execution_count": 8,
   "metadata": {},
   "outputs": [
    {
     "data": {
      "text/plain": [
       "interactive(children=(IntSlider(value=5, description='x', max=10), Output()), _dom_classes=('widget-interact',…"
      ]
     },
     "metadata": {},
     "output_type": "display_data"
    }
   ],
   "source": [
    "interact(lambda x: x, x=(0,10));"
   ]
  },
  {
   "cell_type": "markdown",
   "metadata": {},
   "source": [
    "Download all of the data in advance if you expect to be working offline (may take a couple of minutes)."
   ]
  },
  {
   "cell_type": "code",
   "execution_count": 9,
   "metadata": {},
   "outputs": [
    {
     "name": "stdout",
     "output_type": "stream",
     "text": [
      "Fetching cthead1.png\n",
      "Downloaded 29351 of 29351 bytes (100.00%)\n",
      "Fetching VM1111Shrink-RGB.png\n",
      "Downloaded 184076 of 184076 bytes (100.00%)\n",
      "Fetching 2th_cthead1.png\n",
      "Downloaded 3095 of 3095 bytes (100.00%)\n",
      "Fetching nac-hncma-atlas2013-Slicer4Version/Data/A1_grayT1.nrrd\n",
      "Downloaded 67390213 of 67390213 bytes (100.00%)\n",
      "Fetching nac-hncma-atlas2013-Slicer4Version/Data/A1_grayT2.nrrd\n",
      "Downloaded 63979843 of 63979843 bytes (100.00%)\n",
      "Fetching nac-hncma-atlas2013-Slicer4Version/Data/hncma-atlas.nrrd\n",
      "Downloaded 466196 of 466196 bytes (100.00%)\n",
      "Fetching B1.tiff\n",
      "Downloaded 50196 of 50196 bytes (100.00%)\n",
      "Fetching B2.tiff\n",
      "Downloaded 50196 of 50196 bytes (100.00%)\n",
      "Fetching B1_fixed_B2_moving0GenericAffine.mat\n",
      "Downloaded 137 of 137 bytes (100.00%)\n",
      "Fetching B1_fixed_B2_movingComposite.h5\n",
      "Downloaded 816984 of 816984 bytes (100.00%)\n",
      "Fetching coins.png\n",
      "Downloaded 583024 of 583024 bytes (100.00%)\n",
      "Fetching a_vm1108.png\n",
      "Downloaded 408256 of 408256 bytes (100.00%)\n",
      "Fetching vm_head_rgb.mha\n",
      "Downloaded 1040255141 of 1040255141 bytes (100.00%)\n",
      "Fetching vm_head_mri.mha\n",
      "Downloaded 1909280 of 1909280 bytes (100.00%)\n",
      "Fetching training_001_ct.mha\n",
      "Downloaded 15204697 of 15204697 bytes (100.00%)\n",
      "Fetching training_001_mr_T1.mha\n",
      "Downloaded 3408209 of 3408209 bytes (100.00%)\n",
      "Fetching ct_T1.standard\n",
      "Downloaded 1064 of 1064 bytes (100.00%)\n",
      "Fetching CIRS057A_MR_CT_DICOM/readme.txt\n",
      "Downloaded 96187036 of 96187036 bytes (100.00%)\n",
      "Fetching SimpleITK.jpg\n",
      "Fetching spherical_fiducials.mha\n",
      "Downloaded 22022308 of 22022308 bytes (100.00%)\n",
      "Fetching POPI/meta/00-P.mhd\n",
      "Downloaded 48936960 of 48936960 bytes (100.00%)\n",
      "Fetching POPI/meta/10-P.mhd\n",
      "Downloaded 48936960 of 48936960 bytes (100.00%)\n",
      "Fetching POPI/meta/20-P.mhd\n",
      "Downloaded 48936960 of 48936960 bytes (100.00%)\n",
      "Fetching POPI/meta/30-P.mhd\n",
      "Downloaded 48936960 of 48936960 bytes (100.00%)\n",
      "Fetching POPI/meta/40-P.mhd\n",
      "Downloaded 48936960 of 48936960 bytes (100.00%)\n",
      "Fetching POPI/meta/50-P.mhd\n",
      "Downloaded 48936960 of 48936960 bytes (100.00%)\n",
      "Fetching POPI/meta/60-P.mhd\n",
      "Downloaded 48936960 of 48936960 bytes (100.00%)\n",
      "Fetching POPI/meta/70-P.mhd\n",
      "Downloaded 48936960 of 48936960 bytes (100.00%)\n",
      "Fetching POPI/meta/80-P.mhd\n",
      "Downloaded 48936960 of 48936960 bytes (100.00%)\n",
      "Fetching POPI/meta/90-P.mhd\n",
      "Downloaded 48936960 of 48936960 bytes (100.00%)\n",
      "Fetching POPI/landmarks/00-Landmarks.pts\n",
      "Downloaded 715 of 715 bytes (100.00%)\n",
      "Fetching POPI/landmarks/10-Landmarks.pts\n",
      "Downloaded 727 of 727 bytes (100.00%)\n",
      "Fetching POPI/landmarks/20-Landmarks.pts\n",
      "Downloaded 712 of 712 bytes (100.00%)\n",
      "Fetching POPI/landmarks/30-Landmarks.pts\n",
      "Downloaded 713 of 713 bytes (100.00%)\n",
      "Fetching POPI/landmarks/40-Landmarks.pts\n",
      "Downloaded 714 of 714 bytes (100.00%)\n",
      "Fetching POPI/landmarks/50-Landmarks.pts\n",
      "Downloaded 719 of 719 bytes (100.00%)\n",
      "Fetching POPI/landmarks/60-Landmarks.pts\n",
      "Downloaded 729 of 729 bytes (100.00%)\n",
      "Fetching POPI/landmarks/70-Landmarks.pts\n",
      "Downloaded 716 of 716 bytes (100.00%)\n",
      "Fetching POPI/landmarks/80-Landmarks.pts\n",
      "Downloaded 718 of 718 bytes (100.00%)\n",
      "Fetching POPI/landmarks/90-Landmarks.pts\n",
      "Downloaded 711 of 711 bytes (100.00%)\n",
      "Fetching POPI/masks/00-air-body-lungs.mhd\n",
      "Downloaded 24473600 of 24473600 bytes (100.00%)\n",
      "Fetching POPI/masks/10-air-body-lungs.mhd\n",
      "Downloaded 24473600 of 24473600 bytes (100.00%)\n",
      "Fetching POPI/masks/20-air-body-lungs.mhd\n",
      "Downloaded 24473600 of 24473600 bytes (100.00%)\n",
      "Fetching POPI/masks/30-air-body-lungs.mhd\n",
      "Downloaded 24473600 of 24473600 bytes (100.00%)\n",
      "Fetching POPI/masks/40-air-body-lungs.mhd\n",
      "Downloaded 24473600 of 24473600 bytes (100.00%)\n",
      "Fetching POPI/masks/50-air-body-lungs.mhd\n",
      "Downloaded 24473600 of 24473600 bytes (100.00%)\n",
      "Fetching POPI/masks/60-air-body-lungs.mhd\n",
      "Downloaded 24473600 of 24473600 bytes (100.00%)\n",
      "Fetching POPI/masks/70-air-body-lungs.mhd\n",
      "Downloaded 24473600 of 24473600 bytes (100.00%)\n",
      "Fetching POPI/masks/80-air-body-lungs.mhd\n",
      "Downloaded 24473600 of 24473600 bytes (100.00%)\n",
      "Fetching POPI/masks/90-air-body-lungs.mhd\n",
      "Downloaded 24473600 of 24473600 bytes (100.00%)\n",
      "Fetching liverTumorSegmentations/Patient01Homo.mha\n",
      "Downloaded 1365461 of 1365461 bytes (100.00%)\n",
      "Fetching liverTumorSegmentations/Patient01Homo_Rad01.mha\n",
      "Downloaded 3757 of 3757 bytes (100.00%)\n",
      "Fetching liverTumorSegmentations/Patient01Homo_Rad02.mha\n",
      "Downloaded 3722 of 3722 bytes (100.00%)\n",
      "Fetching liverTumorSegmentations/Patient01Homo_Rad03.mha\n",
      "Downloaded 3796 of 3796 bytes (100.00%)\n",
      "Fetching Control.tif\n",
      "Downloaded 24002897 of 24002897 bytes (100.00%)\n",
      "Fetching head_mr_oriented.mha\n",
      "Downloaded 395432 of 395432 bytes (100.00%)\n",
      "Fetching fib_sem_bacillus_subtilis.mha\n",
      "Downloaded 74215399 of 74215399 bytes (100.00%)\n"
     ]
    }
   ],
   "source": [
    "fetch_data_all(os.path.join('..','Data'), os.path.join('..','Data','manifest.json'))"
   ]
  }
 ],
 "metadata": {
  "kernelspec": {
   "display_name": "Python 3",
   "language": "python",
   "name": "python3"
  },
  "language_info": {
   "codemirror_mode": {
    "name": "ipython",
    "version": 3
   },
   "file_extension": ".py",
   "mimetype": "text/x-python",
   "name": "python",
   "nbconvert_exporter": "python",
   "pygments_lexer": "ipython3",
   "version": "3.6.2"
  },
  "varInspector": {
   "cols": {
    "lenName": 16,
    "lenType": 16,
    "lenVar": 40
   },
   "kernels_config": {
    "python": {
     "delete_cmd_postfix": "",
     "delete_cmd_prefix": "del ",
     "library": "var_list.py",
     "varRefreshCmd": "print(var_dic_list())"
    },
    "r": {
     "delete_cmd_postfix": ") ",
     "delete_cmd_prefix": "rm(",
     "library": "var_list.r",
     "varRefreshCmd": "cat(var_dic_list()) "
    }
   },
   "types_to_exclude": [
    "module",
    "function",
    "builtin_function_or_method",
    "instance",
    "_Feature"
   ],
   "window_display": false
  }
 },
 "nbformat": 4,
 "nbformat_minor": 1
}
