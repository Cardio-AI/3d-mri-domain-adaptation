{
 "cells": [
  {
   "cell_type": "markdown",
   "metadata": {},
   "source": [
    "<table width=\"100%\">\n",
    "<tr style=\"background-color: red;\"><td><font color=\"white\">SimpleITK conventions:</font></td></tr>\n",
    "<tr><td>\n",
    "<ul>\n",
    "<li>Points are represented by vector-like data types: Tuple, Numpy array, List.</li>\n",
    "<li>Matrices are represented by vector-like data types in row major order.</li>\n",
    "<li>Initializing the DisplacementFieldTransform using an image requires that the image's pixel type be sitk.sitkVectorFloat64</li>\n",
    "<li>Initializing the DisplacementFieldTransform using an image will \"clear out\" your image (your alias to the image will point to an empty, zero sized, image).</li>\n",
    "</ul>\n",
    "</td></tr>\n",
    "</table>"
   ]
  },
  {
   "cell_type": "markdown",
   "metadata": {},
   "source": [
    "# SimpleITK Transformation Types\n",
    "This notebook introduces the transformation types supported by SimpleITK and illustrates how to \"promote\" transformations from a lower to higher parameter space (e.g. 3D translation to 3D rigid).  \n",
    "\n",
    "<table width=\"100%\">\n",
    "<tr><td><a href=\"http://www.itk.org/Doxygen/html/classitk_1_1TranslationTransform.html\">TranslationTransform</a></td><td>2D or 3D, translation</td></tr>\n",
    "  <tr><td><a href=\"http://www.itk.org/Doxygen/html/classitk_1_1VersorTransform.html\">VersorTransform</a></td><td>3D, rotation represented by a versor</td></tr>\n",
    "  <tr><td><a href=\"http://www.itk.org/Doxygen/html/classitk_1_1VersorRigid3DTransform.html\">VersorRigid3DTransform</a></td><td>3D, rigid transformation with rotation represented by a versor</td></tr>\n",
    "  <tr><td><a href=\"http://www.itk.org/Doxygen/html/classitk_1_1Euler2DTransform.html\">Euler2DTransform</a></td><td>2D, rigid transformation with rotation represented by a Euler angle</td></tr>\n",
    "  <tr><td><a href=\"http://www.itk.org/Doxygen/html/classitk_1_1Euler3DTransform.html\">Euler3DTransform</a></td><td>3D, rigid transformation with rotation represented by Euler angles</td></tr>\n",
    "  <tr><td><a href=\"http://www.itk.org/Doxygen/html/classitk_1_1Similarity2DTransform.html\">Similarity2DTransform</a></td><td>2D, composition of isotropic scaling and rigid transformation with rotation represented by a Euler angle</td></tr>\n",
    "  <tr><td><a href=\"http://www.itk.org/Doxygen/html/classitk_1_1Similarity3DTransform.html\">Similarity3DTransform</a></td><td>3D, composition of isotropic scaling and rigid transformation with rotation represented by a versor</td></tr>\n",
    "  <tr><td><a href=\"http://www.itk.org/Doxygen/html/classitk_1_1ScaleTransform.html\">ScaleTransform</a></td><td>2D or 3D, anisotropic scaling</td></tr>\n",
    "  <tr><td><a href=\"http://www.itk.org/Doxygen/html/classitk_1_1ScaleVersor3DTransform.html\">ScaleVersor3DTransform</a></td><td>3D, rigid transformation and anisotropic scale is <bf>added</bf> to the rotation matrix part (not composed as one would expect)</td></tr>\n",
    "  <tr><td><a href=\"http://www.itk.org/Doxygen/html/classitk_1_1ScaleSkewVersor3DTransform.html\">ScaleSkewVersor3DTransform</a></td><td>3D, rigid transformation with anisotropic scale and skew matrices <bf>added</bf> to the rotation matrix part (not composed as one would expect)</td></tr>\n",
    "  <tr><td><a href=\"http://www.itk.org/Doxygen/html/classitk_1_1AffineTransform.html\">AffineTransform</a></td><td>2D or 3D, affine transformation.</td></tr>\n",
    "  <tr><td><a href=\"http://www.itk.org/Doxygen/html/classitk_1_1BSplineTransform.html\">BSplineTransform</a></td><td>2D or 3D, deformable transformation represented by a sparse regular grid of control points. </td></tr>\n",
    "  <tr><td><a href=\"http://www.itk.org/Doxygen/html/classitk_1_1DisplacementFieldTransform.html\">DisplacementFieldTransform</a></td><td>2D or 3D, deformable transformation represented as a dense regular grid of vectors.</td></tr>\n",
    "  <tr><td><a href=\"http://www.itk.org/SimpleITKDoxygen/html/classitk_1_1simple_1_1Transform.html\">Transform</a></td>\n",
    "  <td>A generic transformation. Can represent any of the SimpleITK transformations, and a <b>composite transformation</b> (stack of transformations concatenated via composition, last added, first applied). </td></tr>\n",
    "  </table>"
   ]
  },
  {
   "cell_type": "code",
   "execution_count": 1,
   "metadata": {},
   "outputs": [
    {
     "name": "stdout",
     "output_type": "stream",
     "text": [
      "SimpleITK Version: 1.1.0 (ITK 4.13)\n",
      "Compiled: Mar 22 2018 21:14:44\n",
      "\n"
     ]
    }
   ],
   "source": [
    "import SimpleITK as sitk\n",
    "import numpy as np\n",
    "      \n",
    "from __future__ import print_function\n",
    "   \n",
    "import matplotlib.pyplot as plt\n",
    "%matplotlib inline \n",
    "from ipywidgets import interact, fixed\n",
    "\n",
    "OUTPUT_DIR = \"Output\"\n",
    "\n",
    "print(sitk.Version())"
   ]
  },
  {
   "cell_type": "markdown",
   "metadata": {},
   "source": [
    "## Points in SimpleITK"
   ]
  },
  {
   "cell_type": "markdown",
   "metadata": {},
   "source": [
    "### Utility functions\n",
    "\n",
    "A number of functions that deal with point data in a uniform manner."
   ]
  },
  {
   "cell_type": "code",
   "execution_count": 2,
   "metadata": {},
   "outputs": [],
   "source": [
    "import numpy as np\n",
    "\n",
    "def point2str(point, precision=1):\n",
    "    \"\"\"\n",
    "    Format a point for printing, based on specified precision with trailing zeros. Uniform printing for vector-like data \n",
    "    (tuple, numpy array, list).\n",
    "    \n",
    "    Args:\n",
    "        point (vector-like): nD point with floating point coordinates.\n",
    "        precision (int): Number of digits after the decimal point.\n",
    "    Return:\n",
    "        String represntation of the given point \"xx.xxx yy.yyy zz.zzz...\".\n",
    "    \"\"\"\n",
    "    return ' '.join(format(c, '.{0}f'.format(precision)) for c in point)\n",
    "\n",
    "\n",
    "def uniform_random_points(bounds, num_points):\n",
    "    \"\"\"\n",
    "    Generate random (uniform withing bounds) nD point cloud. Dimension is based on the number of pairs in the bounds input.\n",
    "    \n",
    "    Args:\n",
    "        bounds (list(tuple-like)): list where each tuple defines the coordinate bounds.\n",
    "        num_points (int): number of points to generate.\n",
    "    \n",
    "    Returns:\n",
    "        list containing num_points numpy arrays whose coordinates are within the given bounds.\n",
    "    \"\"\"\n",
    "    internal_bounds = [sorted(b) for b in bounds]\n",
    "         # Generate rows for each of the coordinates according to the given bounds, stack into an array, \n",
    "         # and split into a list of points.\n",
    "    mat = np.vstack([np.random.uniform(b[0], b[1], num_points) for b in internal_bounds])\n",
    "    return list(mat[:len(bounds)].T)\n",
    "\n",
    "\n",
    "def target_registration_errors(tx, point_list, reference_point_list):\n",
    "    \"\"\"\n",
    "    Distances between points transformed by the given transformation and their\n",
    "    location in another coordinate system. When the points are only used to evaluate\n",
    "    registration accuracy (not used in the registration) this is the target registration\n",
    "    error (TRE).\n",
    "    \"\"\"\n",
    "    return [np.linalg.norm(np.array(tx.TransformPoint(p)) -  np.array(p_ref))\n",
    "          for p,p_ref in zip(point_list, reference_point_list)]\n",
    "\n",
    "\n",
    "def print_transformation_differences(tx1, tx2):\n",
    "    \"\"\"\n",
    "    Check whether two transformations are \"equivalent\" in an arbitrary spatial region \n",
    "    either 3D or 2D, [x=(-10,10), y=(-100,100), z=(-1000,1000)]. This is just a sanity check, \n",
    "    as we are just looking at the effect of the transformations on a random set of points in\n",
    "    the region.\n",
    "    \"\"\"\n",
    "    if tx1.GetDimension()==2 and tx2.GetDimension()==2:\n",
    "        bounds = [(-10,10),(-100,100)]\n",
    "    elif tx1.GetDimension()==3 and tx2.GetDimension()==3:\n",
    "        bounds = [(-10,10),(-100,100), (-1000,1000)]\n",
    "    else:\n",
    "        raise ValueError('Transformation dimensions mismatch, or unsupported transformation dimensionality')\n",
    "    num_points = 10\n",
    "    point_list = uniform_random_points(bounds, num_points)\n",
    "    tx1_point_list = [ tx1.TransformPoint(p) for p in point_list]\n",
    "    differences = target_registration_errors(tx2, point_list, tx1_point_list)\n",
    "    print(tx1.GetName()+ '-' +\n",
    "          tx2.GetName()+\n",
    "          ':\\tminDifference: {:.2f} maxDifference: {:.2f}'.format(min(differences), max(differences)))"
   ]
  },
  {
   "cell_type": "markdown",
   "metadata": {},
   "source": [
    "In SimpleITK points can be represented by any vector-like data type. In Python these include Tuple, Numpy array, and List. In general Python will treat these data types differently, as illustrated by the print function below."
   ]
  },
  {
   "cell_type": "code",
   "execution_count": 3,
   "metadata": {},
   "outputs": [
    {
     "name": "stdout",
     "output_type": "stream",
     "text": [
      "(9.0, 10.531, 11.8341)\n",
      "[ 9.     10.531  11.8341]\n",
      "[9.0, 10.531, 11.8341]\n",
      "9.00 10.53 11.83\n",
      "9.00 10.53 11.83\n",
      "9.00 10.53 11.83\n"
     ]
    }
   ],
   "source": [
    "# SimpleITK points represented by vector-like data structures. \n",
    "point_tuple = (9.0, 10.531, 11.8341)\n",
    "point_np_array = np.array([9.0, 10.531, 11.8341])\n",
    "point_list = [9.0, 10.531, 11.8341]\n",
    "\n",
    "print(point_tuple)\n",
    "print(point_np_array)\n",
    "print(point_list)\n",
    "\n",
    "# Uniform printing with specified precision.\n",
    "precision = 2\n",
    "print(point2str(point_tuple, precision))\n",
    "print(point2str(point_np_array, precision))\n",
    "print(point2str(point_list, precision))"
   ]
  },
  {
   "cell_type": "markdown",
   "metadata": {},
   "source": [
    "## Global Transformations\n",
    "All global transformations <i>except translation</i> are of the form:\n",
    "$$T(\\mathbf{x}) = A(\\mathbf{x}-\\mathbf{c}) + \\mathbf{t} + \\mathbf{c}$$\n",
    "\n",
    "In ITK speak (when printing your transformation):\n",
    "<ul>\n",
    "<li>Matrix: the matrix $A$</li>\n",
    "<li>Center: the point $\\mathbf{c}$</li>\n",
    "<li>Translation: the vector $\\mathbf{t}$</li>\n",
    "<li>Offset: $\\mathbf{t} + \\mathbf{c} - A\\mathbf{c}$</li>\n",
    "</ul>"
   ]
  },
  {
   "cell_type": "markdown",
   "metadata": {},
   "source": [
    "## TranslationTransform"
   ]
  },
  {
   "cell_type": "code",
   "execution_count": 4,
   "metadata": {},
   "outputs": [
    {
     "name": "stdout",
     "output_type": "stream",
     "text": [
      "itk::simple::Transform\n",
      " TranslationTransform (0x7fd9f0b86890)\n",
      "   RTTI typeinfo:   itk::TranslationTransform<double, 3u>\n",
      "   Reference Count: 1\n",
      "   Modified Time: 773\n",
      "   Debug: Off\n",
      "   Object Name: \n",
      "   Observers: \n",
      "     none\n",
      "   Offset: [1, 2, 3]\n",
      "\n"
     ]
    }
   ],
   "source": [
    "# A 3D translation. Note that you need to specify the dimensionality, as the sitk TranslationTransform \n",
    "# represents both 2D and 3D translations.\n",
    "dimension = 3        \n",
    "offset =(1,2,3) # offset can be any vector-like data  \n",
    "translation = sitk.TranslationTransform(dimension, offset)\n",
    "print(translation)"
   ]
  },
  {
   "cell_type": "code",
   "execution_count": 5,
   "metadata": {},
   "outputs": [
    {
     "name": "stdout",
     "output_type": "stream",
     "text": [
      "original point: 10.0 11.0 12.0\n",
      "transformed point: 11.0 13.0 15.0\n",
      "back to original: 10.0 11.0 12.0\n"
     ]
    }
   ],
   "source": [
    "# Transform a point and use the inverse transformation to get the original back.\n",
    "point = [10, 11, 12]\n",
    "transformed_point = translation.TransformPoint(point)\n",
    "translation_inverse = translation.GetInverse()\n",
    "print('original point: ' + point2str(point) + '\\n'\n",
    "      'transformed point: ' + point2str(transformed_point) + '\\n'\n",
    "      'back to original: ' + point2str(translation_inverse.TransformPoint(transformed_point)))"
   ]
  },
  {
   "cell_type": "markdown",
   "metadata": {},
   "source": [
    "## Euler2DTransform"
   ]
  },
  {
   "cell_type": "code",
   "execution_count": 6,
   "metadata": {},
   "outputs": [
    {
     "name": "stdout",
     "output_type": "stream",
     "text": [
      "original point: 10.0 11.0\n",
      "transformed point: -3.8 18.4\n",
      "original point: 10.0 11.0\n",
      "transformed point: 17.2 19.4\n"
     ]
    }
   ],
   "source": [
    "point = [10, 11]\n",
    "rotation2D = sitk.Euler2DTransform()\n",
    "rotation2D.SetTranslation((7.2, 8.4))\n",
    "rotation2D.SetAngle(np.pi/2)\n",
    "print('original point: ' + point2str(point) + '\\n'\n",
    "      'transformed point: ' + point2str(rotation2D.TransformPoint(point)))\n",
    "\n",
    "# Change the center of rotation so that it coincides with the point we want to\n",
    "# transform, why is this a unique configuration?\n",
    "rotation2D.SetCenter(point)\n",
    "print('original point: ' + point2str(point) + '\\n'\n",
    "      'transformed point: ' + point2str(rotation2D.TransformPoint(point)))"
   ]
  },
  {
   "cell_type": "markdown",
   "metadata": {},
   "source": [
    "## VersorTransform"
   ]
  },
  {
   "cell_type": "code",
   "execution_count": 7,
   "metadata": {},
   "outputs": [
    {
     "name": "stdout",
     "output_type": "stream",
     "text": [
      "Points after transformation:\n",
      "p1=(-10.0, -100.0, 1000.0)\n",
      "p2=(-10.000000000000012, -100.0, 1000.0)\n",
      "p3=(-10.0, -100.0, 1000.0)\n"
     ]
    }
   ],
   "source": [
    "# Rotation only, parametrized by Versor (vector part of unit quaternion),\n",
    "# quaternion defined by rotation of theta around axis n: \n",
    "#  q = [n*sin(theta/2), cos(theta/2)]\n",
    "               \n",
    "# 180 degree rotation around z axis\n",
    "\n",
    "# Use a versor:\n",
    "rotation1 = sitk.VersorTransform([0,0,1,0])\n",
    "\n",
    "# Use axis-angle:\n",
    "rotation2 = sitk.VersorTransform((0,0,1), np.pi)\n",
    "\n",
    "# Use a matrix:\n",
    "rotation3 = sitk.VersorTransform()\n",
    "rotation3.SetMatrix([-1, 0, 0, 0, -1, 0, 0, 0, 1]);\n",
    "\n",
    "point = (10, 100, 1000)\n",
    "\n",
    "p1 = rotation1.TransformPoint(point)\n",
    "p2 = rotation2.TransformPoint(point)\n",
    "p3 = rotation3.TransformPoint(point)\n",
    "\n",
    "print('Points after transformation:\\np1=' + str(p1) + \n",
    "      '\\np2='+ str(p2) + '\\np3='+ str(p3))"
   ]
  },
  {
   "cell_type": "markdown",
   "metadata": {},
   "source": [
    "We applied the \"same\" transformation to the same point, so why are the results slightly different for the second initialization method?\n",
    "  \n",
    "This is where theory meets practice. Using the axis-angle initialization method involves trigonometric functions which on a fixed precision machine lead to these slight differences. In many cases this is not an issue, but it is something to remember. From here on we will sweep it under the rug (printing with a more reasonable precision). "
   ]
  },
  {
   "cell_type": "markdown",
   "metadata": {},
   "source": [
    "## Translation to Rigid [3D]\n",
    "Copy the translational component."
   ]
  },
  {
   "cell_type": "code",
   "execution_count": 8,
   "metadata": {},
   "outputs": [
    {
     "name": "stdout",
     "output_type": "stream",
     "text": [
      "Euler\tminError: 0.00 maxError: 0.00\n",
      "Versor\tminError: 0.00 maxError: 0.00\n"
     ]
    },
    {
     "data": {
      "image/png": "[encoded data removed]",
      "text/plain": [
       "<Figure size 432x288 with 1 Axes>"
      ]
     },
     "metadata": {
      "needs_background": "light"
     },
     "output_type": "display_data"
    }
   ],
   "source": [
    "dimension = 3        \n",
    "t =(1,2,3) \n",
    "translation = sitk.TranslationTransform(dimension, t)\n",
    "\n",
    "# Only need to copy the translational component.\n",
    "rigid_euler = sitk.Euler3DTransform()\n",
    "rigid_euler.SetTranslation(translation.GetOffset())\n",
    "\n",
    "rigid_versor = sitk.VersorRigid3DTransform()\n",
    "rigid_versor.SetTranslation(translation.GetOffset())\n",
    "\n",
    "# Sanity check to make sure the transformations are equivalent.\n",
    "bounds = [(-10,10),(-100,100), (-1000,1000)]\n",
    "num_points = 10\n",
    "point_list = uniform_random_points(bounds, num_points)\n",
    "transformed_point_list = [translation.TransformPoint(p) for p in point_list]\n",
    "\n",
    "# Draw the original and transformed points, include the label so that we \n",
    "# can modify the plots without requiring explicit changes to the legend.\n",
    "from mpl_toolkits.mplot3d import Axes3D\n",
    "fig = plt.figure()\n",
    "ax = fig.add_subplot(111, projection='3d')\n",
    "orig = ax.scatter(list(np.array(point_list).T)[0],\n",
    "                  list(np.array(point_list).T)[1],\n",
    "                  list(np.array(point_list).T)[2], \n",
    "                  marker='o', \n",
    "                  color='blue',\n",
    "                  label='Original points')\n",
    "transformed = ax.scatter(list(np.array(transformed_point_list).T)[0],\n",
    "                         list(np.array(transformed_point_list).T)[1],\n",
    "                         list(np.array(transformed_point_list).T)[2], \n",
    "                         marker='^', \n",
    "                         color='red', \n",
    "                         label='Transformed points')\n",
    "plt.legend(loc=(0.0,1.0))\n",
    "\n",
    "euler_errors = target_registration_errors(rigid_euler, point_list, transformed_point_list)\n",
    "versor_errors = target_registration_errors(rigid_versor, point_list, transformed_point_list)\n",
    "\n",
    "print('Euler\\tminError: {:.2f} maxError: {:.2f}'.format(min(euler_errors), max(euler_errors)))\n",
    "print('Versor\\tminError: {:.2f} maxError: {:.2f}'.format(min(versor_errors), max(versor_errors)))"
   ]
  },
  {
   "cell_type": "markdown",
   "metadata": {},
   "source": [
    "## Rotation to Rigid [3D]\n",
    "Copy the matrix or versor and <b>center of rotation</b>."
   ]
  },
  {
   "cell_type": "code",
   "execution_count": 9,
   "metadata": {},
   "outputs": [
    {
     "name": "stdout",
     "output_type": "stream",
     "text": [
      "Euler\tminError: 0.00 maxError: 0.00\n",
      "Versor\tminError: 28.28 maxError: 28.28\n"
     ]
    },
    {
     "data": {
      "image/png": "[encoded data removed]",
      "text/plain": [
       "<Figure size 432x288 with 1 Axes>"
      ]
     },
     "metadata": {
      "needs_background": "light"
     },
     "output_type": "display_data"
    }
   ],
   "source": [
    "rotationCenter = (10, 10, 10)\n",
    "rotation = sitk.VersorTransform([0,0,1,0], rotationCenter)\n",
    "\n",
    "rigid_euler = sitk.Euler3DTransform()\n",
    "rigid_euler.SetMatrix(rotation.GetMatrix())\n",
    "rigid_euler.SetCenter(rotation.GetCenter())\n",
    "\n",
    "rigid_versor = sitk.VersorRigid3DTransform()\n",
    "rigid_versor.SetRotation(rotation.GetVersor())\n",
    "#rigid_versor.SetCenter(rotation.GetCenter()) #intentional error\n",
    "\n",
    "# Sanity check to make sure the transformations are equivalent.\n",
    "bounds = [(-10,10),(-100,100), (-1000,1000)]\n",
    "num_points = 10\n",
    "point_list = uniform_random_points(bounds, num_points)\n",
    "transformed_point_list = [ rotation.TransformPoint(p) for p in point_list]\n",
    "\n",
    "euler_errors = target_registration_errors(rigid_euler, point_list, transformed_point_list)\n",
    "versor_errors = target_registration_errors(rigid_versor, point_list, transformed_point_list)\n",
    "\n",
    "# Draw the points transformed by the original transformation and after transformation\n",
    "# using the incorrect transformation, illustrate the effect of center of rotation.\n",
    "from mpl_toolkits.mplot3d import Axes3D\n",
    "incorrect_transformed_point_list = [ rigid_versor.TransformPoint(p) for p in point_list]\n",
    "fig = plt.figure()\n",
    "ax = fig.add_subplot(111, projection='3d')\n",
    "orig = ax.scatter(list(np.array(transformed_point_list).T)[0],\n",
    "                  list(np.array(transformed_point_list).T)[1],\n",
    "                  list(np.array(transformed_point_list).T)[2], \n",
    "                  marker='o', \n",
    "                  color='blue',\n",
    "                  label='Rotation around specific center')\n",
    "transformed = ax.scatter(list(np.array(incorrect_transformed_point_list).T)[0],\n",
    "                         list(np.array(incorrect_transformed_point_list).T)[1],\n",
    "                         list(np.array(incorrect_transformed_point_list).T)[2], \n",
    "                         marker='^', \n",
    "                         color='red', \n",
    "                         label='Rotation around origin')\n",
    "plt.legend(loc=(0.0,1.0))\n",
    "\n",
    "print('Euler\\tminError: {:.2f} maxError: {:.2f}'.format(min(euler_errors), max(euler_errors)))\n",
    "print('Versor\\tminError: {:.2f} maxError: {:.2f}'.format(min(versor_errors), max(versor_errors)))"
   ]
  },
  {
   "cell_type": "markdown",
   "metadata": {},
   "source": [
    "## Similarity [2D]\n",
    "\n",
    "When the center of the similarity transformation is not at the origin the effect of the transformation is not what most of us expect. This is readily visible if we limit the transformation to scaling: $T(\\mathbf{x}) = s\\mathbf{x}-s\\mathbf{c} + \\mathbf{c}$. Changing the transformation's center results in scale + translation."
   ]
  },
  {
   "cell_type": "code",
   "execution_count": 10,
   "metadata": {},
   "outputs": [
    {
     "data": {
      "application/vnd.jupyter.widget-view+json": {
       "model_id": "e5e66ebd8c9048a39f9b3eef201690a5",
       "version_major": 2,
       "version_minor": 0
      },
      "text/plain": [
       "interactive(children=(IntSlider(value=0, description='x', max=10, min=-10), IntSlider(value=0, description='y'…"
      ]
     },
     "metadata": {},
     "output_type": "display_data"
    }
   ],
   "source": [
    "def display_center_effect(x, y, tx, point_list, xlim, ylim):\n",
    "    tx.SetCenter((x,y))\n",
    "    transformed_point_list = [ tx.TransformPoint(p) for p in point_list]\n",
    "\n",
    "    plt.scatter(list(np.array(transformed_point_list).T)[0],\n",
    "                list(np.array(transformed_point_list).T)[1],\n",
    "                marker='^', \n",
    "                color='red', label='transformed points')\n",
    "    plt.scatter(list(np.array(point_list).T)[0],\n",
    "                list(np.array(point_list).T)[1],\n",
    "                marker='o', \n",
    "                color='blue', label='original points')\n",
    "    plt.xlim(xlim)\n",
    "    plt.ylim(ylim)\n",
    "    plt.legend(loc=(0.25,1.01))\n",
    "\n",
    "# 2D square centered on (0,0)\n",
    "points = [np.array((-1.0,-1.0)), np.array((-1.0,1.0)), np.array((1.0,1.0)), np.array((1.0,-1.0))]\n",
    "\n",
    "# Scale by 2 \n",
    "similarity = sitk.Similarity2DTransform();\n",
    "similarity.SetScale(2)\n",
    "\n",
    "interact(display_center_effect, x=(-10,10), y=(-10,10),tx = fixed(similarity), point_list = fixed(points), \n",
    "         xlim = fixed((-10,10)),ylim = fixed((-10,10)));"
   ]
  },
  {
   "cell_type": "markdown",
   "metadata": {},
   "source": [
    "## Rigid to Similarity [3D]\n",
    "Copy the translation, center, and matrix or versor."
   ]
  },
  {
   "cell_type": "code",
   "execution_count": null,
   "metadata": {},
   "outputs": [],
   "source": [
    "rotation_center = (100, 100, 100)\n",
    "theta_x = 0.0\n",
    "theta_y = 0.0\n",
    "theta_z = np.pi/2.0\n",
    "translation = (1,2,3)\n",
    "\n",
    "rigid_euler = sitk.Euler3DTransform(rotation_center, theta_x, theta_y, theta_z, translation)\n",
    "\n",
    "similarity = sitk.Similarity3DTransform()\n",
    "similarity.SetMatrix(rigid_euler.GetMatrix())\n",
    "similarity.SetTranslation(rigid_euler.GetTranslation())\n",
    "similarity.SetCenter(rigid_euler.GetCenter())\n",
    "\n",
    "# Apply the transformations to the same set of random points and compare the results\n",
    "# (see utility functions at top of notebook).\n",
    "print_transformation_differences(rigid_euler, similarity)"
   ]
  },
  {
   "cell_type": "markdown",
   "metadata": {},
   "source": [
    "## Similarity to Affine [3D]\n",
    "Copy the translation, center and matrix."
   ]
  },
  {
   "cell_type": "code",
   "execution_count": null,
   "metadata": {},
   "outputs": [],
   "source": [
    "rotation_center = (100, 100, 100)\n",
    "axis = (0,0,1)\n",
    "angle = np.pi/2.0\n",
    "translation = (1,2,3)\n",
    "scale_factor = 2.0\n",
    "similarity = sitk.Similarity3DTransform(scale_factor, axis, angle, translation, rotation_center)\n",
    "\n",
    "affine = sitk.AffineTransform(3)\n",
    "affine.SetMatrix(similarity.GetMatrix())\n",
    "affine.SetTranslation(similarity.GetTranslation())\n",
    "affine.SetCenter(similarity.GetCenter())\n",
    "\n",
    "# Apply the transformations to the same set of random points and compare the results\n",
    "# (see utility functions at top of notebook).\n",
    "print_transformation_differences(similarity, affine)"
   ]
  },
  {
   "cell_type": "markdown",
   "metadata": {},
   "source": [
    "## Scale Transform\n",
    "\n",
    "Just as the case was for the similarity transformation above, when the transformations center is not at the origin, instead of a pure anisotropic scaling we also have translation ($T(\\mathbf{x}) = \\mathbf{s}^T\\mathbf{x}-\\mathbf{s}^T\\mathbf{c} + \\mathbf{c}$)."
   ]
  },
  {
   "cell_type": "code",
   "execution_count": 11,
   "metadata": {},
   "outputs": [
    {
     "data": {
      "application/vnd.jupyter.widget-view+json": {
       "model_id": "46a420e7ea894b4bac7ad54616e1675b",
       "version_major": 2,
       "version_minor": 0
      },
      "text/plain": [
       "interactive(children=(IntSlider(value=0, description='x', max=10, min=-10), IntSlider(value=0, description='y'…"
      ]
     },
     "metadata": {},
     "output_type": "display_data"
    }
   ],
   "source": [
    "# 2D square centered on (0,0).\n",
    "points = [np.array((-1.0,-1.0)), np.array((-1.0,1.0)), np.array((1.0,1.0)), np.array((1.0,-1.0))]\n",
    "\n",
    "# Scale by half in x and 2 in y.\n",
    "scale = sitk.ScaleTransform(2, (0.5,2));\n",
    "\n",
    "# Interactively change the location of the center.\n",
    "interact(display_center_effect, x=(-10,10), y=(-10,10),tx = fixed(scale), point_list = fixed(points), \n",
    "         xlim = fixed((-10,10)),ylim = fixed((-10,10)));"
   ]
  },
  {
   "cell_type": "markdown",
   "metadata": {},
   "source": [
    "## Scale Versor\n",
    "\n",
    "This is not what you would expect from the name (composition of anisotropic scaling and rigid). This is:\n",
    "$$T(x) = (R+S)(\\mathbf{x}-\\mathbf{c}) + \\mathbf{t} + \\mathbf{c},\\;\\; \\textrm{where } S= \\left[\\begin{array}{ccc} s_0-1 & 0 & 0 \\\\ 0 & s_1-1 & 0 \\\\ 0 & 0 & s_2-1 \\end{array}\\right]$$ \n",
    "\n",
    "There is no natural way of \"promoting\" the similarity transformation to this transformation."
   ]
  },
  {
   "cell_type": "code",
   "execution_count": 12,
   "metadata": {},
   "outputs": [
    {
     "name": "stdout",
     "output_type": "stream",
     "text": [
      "itk::simple::ScaleVersor3DTransform\n",
      " ScaleVersor3DTransform (0x7fd9f0d2f890)\n",
      "   RTTI typeinfo:   itk::ScaleVersor3DTransform<double>\n",
      "   Reference Count: 1\n",
      "   Modified Time: 858\n",
      "   Debug: Off\n",
      "   Object Name: \n",
      "   Observers: \n",
      "     none\n",
      "   Matrix: \n",
      "     0.5 0 0 \n",
      "     0 0.7 0 \n",
      "     0 0 0.9 \n",
      "   Offset: [1, 2, 3]\n",
      "   Center: [0, 0, 0]\n",
      "   Translation: [1, 2, 3]\n",
      "   Inverse: \n",
      "     2 0 0 \n",
      "     0 1.42857 0 \n",
      "     0 0 1.11111 \n",
      "   Singular: 0\n",
      "   Versor: [ 0, 0, 0, 1 ]\n",
      "   Scales:       [0.5, 0.7, 0.9]\n",
      "\n"
     ]
    }
   ],
   "source": [
    "scales = (0.5,0.7,0.9)\n",
    "translation = (1,2,3)\n",
    "axis = (0,0,1)\n",
    "angle = 0.0\n",
    "scale_versor = sitk.ScaleVersor3DTransform(scales, axis, angle, translation)\n",
    "print(scale_versor)"
   ]
  },
  {
   "cell_type": "markdown",
   "metadata": {},
   "source": [
    "## Scale Skew Versor\n",
    "\n",
    "Again, not what you expect based on the name, this is not a composition of transformations. This is:\n",
    "$$T(x) = (R+S+K)(\\mathbf{x}-\\mathbf{c}) + \\mathbf{t} + \\mathbf{c},\\;\\; \\textrm{where } S = \\left[\\begin{array}{ccc} s_0-1 & 0 & 0 \\\\ 0 & s_1-1 & 0 \\\\ 0 & 0 & s_2-1 \\end{array}\\right]\\;\\; \\textrm{and } K = \\left[\\begin{array}{ccc} 0 & k_0 & k_1 \\\\ k_2 & 0 & k_3 \\\\ k_4 & k_5 & 0 \\end{array}\\right]$$ \n",
    "\n",
    "In practice this is an over-parametrized version of the affine transform, 15 (scale, skew, versor, translation) vs. 12 parameters (matrix, translation)."
   ]
  },
  {
   "cell_type": "code",
   "execution_count": 13,
   "metadata": {},
   "outputs": [
    {
     "name": "stdout",
     "output_type": "stream",
     "text": [
      "itk::simple::ScaleSkewVersor3DTransform\n",
      " ScaleSkewVersor3DTransform (0x7fd9ee691440)\n",
      "   RTTI typeinfo:   itk::ScaleSkewVersor3DTransform<double>\n",
      "   Reference Count: 1\n",
      "   Modified Time: 868\n",
      "   Debug: Off\n",
      "   Object Name: \n",
      "   Observers: \n",
      "     none\n",
      "   Matrix: \n",
      "     2 0 0.2 \n",
      "     0.4 2.1 0.6 \n",
      "     0.8 1 3 \n",
      "   Offset: [1, 2, 3]\n",
      "   Center: [0, 0, 0]\n",
      "   Translation: [1, 2, 3]\n",
      "   Inverse: \n",
      "     0.511486 0.0179469 -0.0376884 \n",
      "     -0.0646088 0.524049 -0.100503 \n",
      "     -0.11486 -0.179469 0.376884 \n",
      "   Singular: 0\n",
      "   Versor: [ 0, 0, 0, 1 ]\n",
      "   Scale:       [2, 2.1, 3]\n",
      "   Skew:        [0, 0.2, 0.4, 0.6, 0.8, 1]\n",
      "\n"
     ]
    }
   ],
   "source": [
    "scale = (2,2.1,3)\n",
    "skew = np.linspace(start=0.0, stop=1.0, num=6) #six equally spaced values in[0,1], an arbitrary choice\n",
    "translation = (1,2,3)\n",
    "versor = (0,0,0,1.0)\n",
    "scale_skew_versor = sitk.ScaleSkewVersor3DTransform(scale, skew, versor, translation)\n",
    "print(scale_skew_versor)"
   ]
  },
  {
   "cell_type": "markdown",
   "metadata": {},
   "source": [
    "## Bounded Transformations\n",
    "\n",
    "SimpleITK supports two types of bounded non-rigid transformations, BSplineTransform (sparse representation) and \tDisplacementFieldTransform (dense representation).\n",
    "\n",
    "Transforming a point that is outside the bounds will return the original point - identity transform."
   ]
  },
  {
   "cell_type": "code",
   "execution_count": 14,
   "metadata": {},
   "outputs": [],
   "source": [
    "#\n",
    "# This function displays the effects of the deformable transformation on a grid of points by scaling the\n",
    "# initial displacements (either of control points for BSpline or the deformation field itself). It does\n",
    "# assume that all points are contained in the range(-2.5,-2.5), (2.5,2.5).\n",
    "#\n",
    "def display_displacement_scaling_effect(s, original_x_mat, original_y_mat, tx, original_control_point_displacements):\n",
    "    if tx.GetDimension() !=2:\n",
    "        raise ValueError('display_displacement_scaling_effect only works in 2D')\n",
    "\n",
    "    plt.scatter(original_x_mat,\n",
    "                original_y_mat,\n",
    "                marker='o', \n",
    "                color='blue', label='original points')\n",
    "    pointsX = []\n",
    "    pointsY = []\n",
    "    tx.SetParameters(s*original_control_point_displacements)\n",
    "  \n",
    "    for index, value in np.ndenumerate(original_x_mat):\n",
    "        px,py = tx.TransformPoint((value, original_y_mat[index]))\n",
    "        pointsX.append(px) \n",
    "        pointsY.append(py)\n",
    "     \n",
    "    plt.scatter(pointsX,\n",
    "                pointsY,\n",
    "                marker='^', \n",
    "                color='red', label='transformed points')\n",
    "    plt.legend(loc=(0.25,1.01))\n",
    "    plt.xlim((-2.5,2.5))\n",
    "    plt.ylim((-2.5,2.5))"
   ]
  },
  {
   "cell_type": "markdown",
   "metadata": {},
   "source": [
    "## BSpline\n",
    "Using a sparse set of control points to control a free form deformation."
   ]
  },
  {
   "cell_type": "code",
   "execution_count": 15,
   "metadata": {},
   "outputs": [
    {
     "data": {
      "application/vnd.jupyter.widget-view+json": {
       "model_id": "dc8cbd1e42734c57806c3bd5eab33bb1",
       "version_major": 2,
       "version_minor": 0
      },
      "text/plain": [
       "interactive(children=(FloatSlider(value=0.0, description='s', max=1.5, min=-1.5), Output()), _dom_classes=('wi…"
      ]
     },
     "metadata": {},
     "output_type": "display_data"
    }
   ],
   "source": [
    "# Create the transformation (when working with images it is easier to use the BSplineTransformInitializer function\n",
    "# or its object oriented counterpart BSplineTransformInitializerFilter).\n",
    "dimension = 2\n",
    "spline_order = 3\n",
    "direction_matrix_row_major = [1.0,0.0,0.0,1.0] # identity, mesh is axis aligned\n",
    "origin = [-1.0,-1.0]  \n",
    "domain_physical_dimensions = [2,2]\n",
    "\n",
    "bspline = sitk.BSplineTransform(dimension, spline_order)\n",
    "bspline.SetTransformDomainOrigin(origin)\n",
    "bspline.SetTransformDomainDirection(direction_matrix_row_major)\n",
    "bspline.SetTransformDomainPhysicalDimensions(domain_physical_dimensions)\n",
    "bspline.SetTransformDomainMeshSize((4,3))\n",
    "\n",
    "# Random displacement of the control points.\n",
    "originalControlPointDisplacements = np.random.random(len(bspline.GetParameters()))\n",
    "bspline.SetParameters(originalControlPointDisplacements)\n",
    "\n",
    "# Apply the BSpline transformation to a grid of points \n",
    "# starting the point set exactly at the origin of the BSpline mesh is problematic as\n",
    "# these points are considered outside the transformation's domain,\n",
    "# remove epsilon below and see what happens.\n",
    "numSamplesX = 10\n",
    "numSamplesY = 20\n",
    "                   \n",
    "coordsX = np.linspace(origin[0]+np.finfo(float).eps, origin[0] + domain_physical_dimensions[0], numSamplesX)\n",
    "coordsY = np.linspace(origin[1]+np.finfo(float).eps, origin[1] + domain_physical_dimensions[1], numSamplesY)\n",
    "XX, YY = np.meshgrid(coordsX, coordsY)\n",
    "\n",
    "interact(display_displacement_scaling_effect, s= (-1.5,1.5), original_x_mat = fixed(XX), original_y_mat = fixed(YY),\n",
    "         tx = fixed(bspline), original_control_point_displacements = fixed(originalControlPointDisplacements));            "
   ]
  },
  {
   "cell_type": "markdown",
   "metadata": {},
   "source": [
    "## DisplacementField\n",
    "\n",
    "A dense set of vectors representing the displacement inside the given domain. The most generic representation of a transformation."
   ]
  },
  {
   "cell_type": "code",
   "execution_count": 16,
   "metadata": {},
   "outputs": [
    {
     "data": {
      "application/vnd.jupyter.widget-view+json": {
       "model_id": "a34f2c6a01914f1b9c75fdf3f9860bfe",
       "version_major": 2,
       "version_minor": 0
      },
      "text/plain": [
       "interactive(children=(FloatSlider(value=0.0, description='s', max=1.5, min=-1.5), Output()), _dom_classes=('wi…"
      ]
     },
     "metadata": {},
     "output_type": "display_data"
    }
   ],
   "source": [
    "# Create the displacement field. \n",
    "    \n",
    "# When working with images the safer thing to do is use the image based constructor,\n",
    "# sitk.DisplacementFieldTransform(my_image), all the fixed parameters will be set correctly and the displacement\n",
    "# field is initialized using the vectors stored in the image. SimpleITK requires that the image's pixel type be \n",
    "# sitk.sitkVectorFloat64.\n",
    "displacement = sitk.DisplacementFieldTransform(2)\n",
    "field_size = [10,20]\n",
    "field_origin = [-1.0,-1.0]  \n",
    "field_spacing = [2.0/9.0,2.0/19.0]   \n",
    "field_direction = [1,0,0,1] # direction cosine matrix (row major order)     \n",
    "\n",
    "# Concatenate all the information into a single list\n",
    "displacement.SetFixedParameters(field_size+field_origin+field_spacing+field_direction)\n",
    "# Set the interpolator, either sitkLinear which is default or nearest neighbor\n",
    "displacement.SetInterpolator(sitk.sitkNearestNeighbor)\n",
    "\n",
    "originalDisplacements = np.random.random(len(displacement.GetParameters()))\n",
    "displacement.SetParameters(originalDisplacements)\n",
    "\n",
    "coordsX = np.linspace(field_origin[0], field_origin[0]+(field_size[0]-1)*field_spacing[0], field_size[0])\n",
    "coordsY = np.linspace(field_origin[1], field_origin[1]+(field_size[1]-1)*field_spacing[1], field_size[1])\n",
    "XX, YY = np.meshgrid(coordsX, coordsY)\n",
    "\n",
    "interact(display_displacement_scaling_effect, s= (-1.5,1.5), original_x_mat = fixed(XX), original_y_mat = fixed(YY),\n",
    "         tx = fixed(displacement), original_control_point_displacements = fixed(originalDisplacements));            "
   ]
  },
  {
   "cell_type": "markdown",
   "metadata": {},
   "source": [
    "Displacement field transform created from an image. Remember that SimpleITK will clear the image you provide, as shown in the cell below."
   ]
  },
  {
   "cell_type": "code",
   "execution_count": 17,
   "metadata": {},
   "outputs": [
    {
     "name": "stdout",
     "output_type": "stream",
     "text": [
      "Original displacement image size: 64.0 64.0\n",
      "After using the image to create a transform, displacement image size: 0.0 0.0\n",
      "Expected result: (0.5, 0.5)\n",
      "Actual result:(0.5, 0.5)\n"
     ]
    }
   ],
   "source": [
    "displacement_image = sitk.Image([64,64], sitk.sitkVectorFloat64)\n",
    "# The only point that has any displacement is (0,0)\n",
    "displacement = (0.5,0.5)\n",
    "displacement_image[0,0] = displacement\n",
    "\n",
    "print('Original displacement image size: ' + point2str(displacement_image.GetSize()))\n",
    "\n",
    "displacement_field_transform = sitk.DisplacementFieldTransform(displacement_image)\n",
    "\n",
    "print('After using the image to create a transform, displacement image size: ' + point2str(displacement_image.GetSize()))\n",
    "\n",
    "# Check that the displacement field transform does what we expect.\n",
    "print('Expected result: {0}\\nActual result:{1}'.format(str(displacement), displacement_field_transform.TransformPoint((0,0))))"
   ]
  },
  {
   "cell_type": "markdown",
   "metadata": {},
   "source": [
    "## Composite transform (Transform)\n",
    "\n",
    "The generic SimpleITK transform class. This class can represent both a single transformation (global, local), or a composite transformation (multiple transformations applied one after the other). This is the output typed returned by the SimpleITK registration framework. \n",
    "\n",
    "The choice of whether to use a composite transformation or compose transformations on your own has subtle differences in the registration framework.\n",
    "\n",
    "Below we represent the composite transformation $T_{affine}(T_{rigid}(x))$ in two ways: (1) use a composite transformation to contain the two; (2) combine the two into a single affine transformation. We can use both as initial transforms (SetInitialTransform) for the registration framework (ImageRegistrationMethod). The difference is that in the former case the optimized parameters belong to the rigid transformation and in the later they belong to the combined-affine transformation. "
   ]
  },
  {
   "cell_type": "code",
   "execution_count": 18,
   "metadata": {},
   "outputs": [
    {
     "name": "stdout",
     "output_type": "stream",
     "text": [
      "Apply the two transformations to the same point cloud:\n",
      "\tTransform-AffineTransform:\tminDifference: 0.00 maxDifference: 0.00\n",
      "Transform parameters:\n",
      "\tComposite transform: 0.00 0.00 1.57 1.00 2.00 3.00\n",
      "\tCombined affine: 0.03 -0.05 0.77 0.55 -0.74 0.34 0.17 -0.85 0.69 -3.91 60.13 67.02\n",
      "Fixed parameters:\n",
      "\tComposite transform: 100.00 100.00 100.00 0.00\n",
      "\tCombined affine: 100.00 100.00 100.00\n"
     ]
    }
   ],
   "source": [
    "# Create a composite transformation: T_affine(T_rigid(x)).\n",
    "rigid_center = (100,100,100)\n",
    "theta_x = 0.0\n",
    "theta_y = 0.0\n",
    "theta_z = np.pi/2.0\n",
    "rigid_translation = (1,2,3)\n",
    "rigid_euler = sitk.Euler3DTransform(rigid_center, theta_x, theta_y, theta_z, rigid_translation)\n",
    "\n",
    "affine_center = (20, 20, 20)\n",
    "affine_translation = (5,6,7)  \n",
    "\n",
    "# Matrix is represented as a vector-like data in row major order.\n",
    "affine_matrix = np.random.random(9)         \n",
    "affine = sitk.AffineTransform(affine_matrix, affine_translation, affine_center)\n",
    "\n",
    "# Using the composite transformation we just add them in (stack based, first in - last applied).\n",
    "composite_transform = sitk.Transform(affine)\n",
    "composite_transform.AddTransform(rigid_euler)\n",
    "\n",
    "# Create a single transform manually. this is a recipe for compositing any two global transformations\n",
    "# into an affine transformation, T_0(T_1(x)):\n",
    "# A = A=A0*A1\n",
    "# c = c1\n",
    "# t = A0*[t1+c1-c0] + t0+c0-c1\n",
    "A0 = np.asarray(affine.GetMatrix()).reshape(3,3)\n",
    "c0 = np.asarray(affine.GetCenter())\n",
    "t0 = np.asarray(affine.GetTranslation())\n",
    "\n",
    "A1 = np.asarray(rigid_euler.GetMatrix()).reshape(3,3)\n",
    "c1 = np.asarray(rigid_euler.GetCenter())\n",
    "t1 = np.asarray(rigid_euler.GetTranslation())\n",
    "\n",
    "combined_mat = np.dot(A0,A1)\n",
    "combined_center = c1\n",
    "combined_translation = np.dot(A0, t1+c1-c0) + t0+c0-c1\n",
    "combined_affine = sitk.AffineTransform(combined_mat.flatten(), combined_translation, combined_center)\n",
    "\n",
    "# Check if the two transformations are equivalent.\n",
    "print('Apply the two transformations to the same point cloud:')\n",
    "print('\\t', end='')\n",
    "print_transformation_differences(composite_transform, combined_affine)\n",
    "\n",
    "print('Transform parameters:')\n",
    "print('\\tComposite transform: ' + point2str(composite_transform.GetParameters(),2))\n",
    "print('\\tCombined affine: ' + point2str(combined_affine.GetParameters(),2))\n",
    "\n",
    "print('Fixed parameters:')\n",
    "print('\\tComposite transform: ' + point2str(composite_transform.GetFixedParameters(),2))\n",
    "print('\\tCombined affine: ' + point2str(combined_affine.GetFixedParameters(),2))"
   ]
  },
  {
   "cell_type": "markdown",
   "metadata": {},
   "source": [
    "Composite transforms enable a combination of a global transformation with multiple local/bounded transformations. This is useful if we want to apply deformations only in regions that deform while other regions are only effected by the global transformation.\n",
    "\n",
    "The following code illustrates this, where the whole region is translated and subregions have different deformations."
   ]
  },
  {
   "cell_type": "code",
   "execution_count": 19,
   "metadata": {},
   "outputs": [
    {
     "data": {
      "image/png": "[encoded data removed]",
      "text/plain": [
       "<Figure size 432x288 with 1 Axes>"
      ]
     },
     "metadata": {
      "needs_background": "light"
     },
     "output_type": "display_data"
    }
   ],
   "source": [
    "# Global transformation.\n",
    "translation = sitk.TranslationTransform(2,(1.0,0.0))\n",
    "\n",
    "# Displacement in region 1.\n",
    "displacement1 = sitk.DisplacementFieldTransform(2)\n",
    "field_size = [10,20]\n",
    "field_origin = [-1.0,-1.0]  \n",
    "field_spacing = [2.0/9.0,2.0/19.0]   \n",
    "field_direction = [1,0,0,1] # direction cosine matrix (row major order)     \n",
    "\n",
    "# Concatenate all the information into  a single list.\n",
    "displacement1.SetFixedParameters(field_size+field_origin+field_spacing+field_direction)\n",
    "displacement1.SetParameters(np.ones(len(displacement1.GetParameters())))\n",
    "\n",
    "# Displacement in region 2.\n",
    "displacement2 = sitk.DisplacementFieldTransform(2)\n",
    "field_size = [10,20]\n",
    "field_origin = [1.0,-3]  \n",
    "field_spacing = [2.0/9.0,2.0/19.0]   \n",
    "field_direction = [1,0,0,1] #direction cosine matrix (row major order)     \n",
    "\n",
    "# Concatenate all the information into a single list.\n",
    "displacement2.SetFixedParameters(field_size+field_origin+field_spacing+field_direction)\n",
    "displacement2.SetParameters(-1.0*np.ones(len(displacement2.GetParameters())))\n",
    "\n",
    "# Composite transform which applies the global and local transformations.\n",
    "composite = sitk.Transform(translation)\n",
    "composite.AddTransform(displacement1)\n",
    "composite.AddTransform(displacement2)\n",
    "\n",
    "# Apply the composite transformation to points in ([-1,-3],[3,1]) and \n",
    "# display the deformation using a quiver plot.\n",
    "        \n",
    "# Generate points.\n",
    "numSamplesX = 10\n",
    "numSamplesY = 10                   \n",
    "coordsX = np.linspace(-1.0, 3.0, numSamplesX)\n",
    "coordsY = np.linspace(-3.0, 1.0, numSamplesY)\n",
    "XX, YY = np.meshgrid(coordsX, coordsY)\n",
    "\n",
    "# Transform points and compute deformation vectors.\n",
    "pointsX = np.zeros(XX.shape)\n",
    "pointsY = np.zeros(XX.shape)\n",
    "for index, value in np.ndenumerate(XX):\n",
    "    px,py = composite.TransformPoint((value, YY[index]))\n",
    "    pointsX[index]=px - value \n",
    "    pointsY[index]=py - YY[index]\n",
    "    \n",
    "plt.quiver(XX, YY, pointsX, pointsY);    "
   ]
  },
  {
   "cell_type": "markdown",
   "metadata": {},
   "source": [
    "## Writing and Reading\n",
    "\n",
    "The SimpleITK.ReadTransform() returns a SimpleITK.Transform . The content of the file can be any of the SimpleITK transformations or a composite (set of transformations). "
   ]
  },
  {
   "cell_type": "code",
   "execution_count": null,
   "metadata": {},
   "outputs": [],
   "source": [
    "import os\n",
    "\n",
    "# Create a 2D rigid transformation, write it to disk and read it back.\n",
    "basic_transform = sitk.Euler2DTransform()\n",
    "basic_transform.SetTranslation((1,2))\n",
    "basic_transform.SetAngle(np.pi/2)\n",
    "\n",
    "full_file_name = os.path.join(OUTPUT_DIR, 'euler2D.tfm')\n",
    "\n",
    "sitk.WriteTransform(basic_transform, full_file_name)\n",
    "\n",
    "# The ReadTransform function returns an sitk.Transform no matter the type of the transform \n",
    "# found in the file (global, bounded, composite).\n",
    "read_result = sitk.ReadTransform(full_file_name)\n",
    "\n",
    "print('Different types: '+ str(type(read_result) != type(basic_transform)))\n",
    "print_transformation_differences(basic_transform, read_result)\n",
    "\n",
    "\n",
    "# Create a composite transform then write and read.\n",
    "displacement = sitk.DisplacementFieldTransform(2)\n",
    "field_size = [10,20]\n",
    "field_origin = [-10.0,-100.0]  \n",
    "field_spacing = [20.0/(field_size[0]-1),200.0/(field_size[1]-1)]   \n",
    "field_direction = [1,0,0,1] #direction cosine matrix (row major order)\n",
    "\n",
    "# Concatenate all the information into a single list.\n",
    "displacement.SetFixedParameters(field_size+field_origin+field_spacing+field_direction)\n",
    "displacement.SetParameters(np.random.random(len(displacement.GetParameters())))\n",
    "\n",
    "composite_transform = sitk.Transform(basic_transform)\n",
    "composite_transform.AddTransform(displacement)\n",
    "\n",
    "full_file_name = os.path.join(OUTPUT_DIR, 'composite.tfm')\n",
    "\n",
    "sitk.WriteTransform(composite_transform, full_file_name)\n",
    "read_result = sitk.ReadTransform(full_file_name)\n",
    "\n",
    "print_transformation_differences(composite_transform, read_result)    "
   ]
  },
  {
   "cell_type": "code",
   "execution_count": null,
   "metadata": {},
   "outputs": [],
   "source": []
  }
 ],
 "metadata": {
  "anaconda-cloud": {},
  "kernelspec": {
   "display_name": "Python 3",
   "language": "python",
   "name": "python3"
  },
  "language_info": {
   "codemirror_mode": {
    "name": "ipython",
    "version": 3
   },
   "file_extension": ".py",
   "mimetype": "text/x-python",
   "name": "python",
   "nbconvert_exporter": "python",
   "pygments_lexer": "ipython3",
   "version": "3.6.5"
  }
 },
 "nbformat": 4,
 "nbformat_minor": 1
}
